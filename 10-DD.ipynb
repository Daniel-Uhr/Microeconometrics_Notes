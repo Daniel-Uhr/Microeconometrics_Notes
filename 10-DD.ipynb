{
 "cells": [
  {
   "cell_type": "markdown",
   "metadata": {},
   "source": [
    "# Método de Diferença em Difereneças (Difference-in-Differences)\n",
    "\n",
    "Prof. Daniel de Abreu Pereira Uhr\n",
    "\n",
    "\n",
    "## Conteúdo\n",
    "\n",
    "* Introdução ao Método de Diferença em Diferenças\n",
    "* Notações Gerais\n",
    "* DD Canônico Simples (2x2)\n",
    "* Hipóteses de Identificação\n",
    "* Modelo DD por meio de Regressões\n",
    "  * Modelo Canônico Simples (2x2)\n",
    "  * Modelo Canônico Simples (2x2) com Controles\n",
    "  * Modelo Canônico com Vários Períodos de Tempo e Controles\n",
    "  * Modelo Canônico com Intervenção Aplicada em Dimensão Agregada, vários períodos de tempo e Controles \n",
    "  * Especificação Típica para Dados em Painel (Two-Way Fixed Effecs - TWFE)\n",
    "* Aplicação em Python 1\n",
    "\n",
    "\n",
    "## Referências\n",
    "\n",
    "* Cunningham, S. W. (2013). Causal inference: The mixtape. https://www.scunning.com/mixtape.html\n",
    "* Roth, Sant´Anna, Bilinski and Poe (2023), What’s Trending in Difference-in-Differences? A Synthesis of the Recent Econometrics Literature.\n",
    "* Joshua D. Angrist and Jörn-Steffen Pischke (2009). Mostly Harmless Econometrics: An Empiricist's Companion. Princeton University Press.\n",
    "* Facure, Matheus. Causal Inference for Brave and True. https://matheusfacure.github.io/python-causality-handbook/landing-page.html \n",
    "* [Avaliação Econômica de Projetos Sociais. Itaú Social, 2017](https://www.itausocial.org.br/wp-content/uploads/2018/05/avaliacao-economica-3a-ed_1513188151.pdf). Capítulos 1, 2 e 3. \n",
    "* Card and Krueger (1994). Minimum Wages and Employment: A Case Study of the Fast-Food Industry in New Jersey and Pennsylvania. American Economic Review, 84(4):772-793. (https://davidcard.berkeley.edu/papers/njmin-aer.pdf)\n",
    "* Notas próprias.​\n",
    "\n",
    "\n",
    "\n",
    "**Observações:** O material apresentado aqui é uma adaptação do material de aula do Prof. Daniel de Abreu Pereira Uhr, e não deve ser utilizado para fins comerciais. O material é disponibilizado para fins educacionais e de pesquisa, e não deve ser reproduzido sem a devida autorização do autor. Este material pode conter erros e imprecisões. O autor não se responsabiliza por quaisquer danos ou prejuízos decorrentes do uso deste material. O uso deste material é de responsabilidade exclusiva do usuário. Caso você encontre erros ou imprecisões neste material, por favor, entre em contato com o autor para que possam ser corrigidos. O autor agradece qualquer *feedback* ou sugestão de melhoria.\n",
    "\n",
    "---"
   ]
  },
  {
   "cell_type": "markdown",
   "metadata": {},
   "source": [
    "### Introdução ao Método de Diferença em Diferenças\n",
    "\n",
    "O **método de diferenças em diferenças** (Difference-in-Differences / Diff-in-diff / DID / DD) é uma técnica econométrica utilizada para estimar o **efeito causal** de uma intervenção, política ou tratamento em um grupo de unidades observacionais ao longo do tempo. O método de DD é baseado no cálculo de uma dupla subtração: a primeira se refere à diferença das médias da variável de resultado entre os períodos anterior e posterior à intervenção para o grupo de tratamento e para o de controle, e a segunda se refere à diferença da primeira diferença calculada entre esses dois grupos. Naturalmente, a operacionalização do método requer a existência de informações para ambos os grupos para, pelo menos, um período de tempo antes e um período depois da intervenção. Pode ser utilizado tanto com **dados de painel** quanto com **dados seccionais** (cross-section) repetidos no tempo. Os primeiros tipicamente referem-se a informações de indivíduos, famílias ou empresas que são seguidos ao longo do tempo, enquanto os segundos são dados temporais calculados para unidades mais agregadas, tais como escolas, hospitais, setores de atividade, bairros, municípios ou estados.\n",
    "\n",
    "Outra importante vantagem do método de DD é que ele permite o controle do viés de seleção por características não observáveis invariantes no tempo. "
   ]
  },
  {
   "cell_type": "markdown",
   "metadata": {},
   "source": [
    "#### Notações Gerais\n",
    "\n",
    "A literatura não apresenta uma notação padrão para o método de DD. A tabela abaixo apresenta uma notação geralmente utilizada para o método de DD.\n",
    "\n",
    "\n",
    "| Símbolo | Significado | \n",
    "|:-----: | :---------:|\n",
    "|$$Y_{i,t} $$ | Variável de resultado para o indivíduo i no momento t|\n",
    "|$$D_{i}=0 $$ | Indivíduos i que não receberam o tratamento (grupo de controle ou de comparação)|\n",
    "|$$D_{i}=1 $$ | Indivíduos i que receberam o tratamento (grupo de tratamento)|\n",
    "|$$t=1,..,t_0$$ | Períodos pré-tratamento (baseline)|\n",
    "|$$t= t_0+1, ..., t$$ | Períodos pós-tratamento|\n",
    "|$$Y_{i,t}(D=1) $$ | Resultado dos individuos i tratados no tempo t|\n",
    "|$$Y_{i,t}(D=0) $$ | Resultado dos individuos i não tratados no tempo t|\n",
    "|$$X$$ | Covariáveis|\n"
   ]
  },
  {
   "cell_type": "markdown",
   "metadata": {},
   "source": [
    "#### DD Canônico Simples (2x2)\n",
    "\n",
    "Para entender o método de forma mais rápida e clara, é importante começar com o modelo mais simples. Goodman-Bancon chama o método DD Canônico Simples de 2x2. Isto é, o caso de dois grupos e dois períodos de tempo. Então vamos utilizar a notação definida anteriormente para modelar nosso DD 2x2. $Y_{i,t}(0,0)$ denota o resultado potencial no período $t$ se $i$ permanece não tratado em ambos os períodos. Caso contrário, considere $Y_{i,t}(0,1)$ como o resultado potencial para a unidade $i$ no período $t$ se $i$ permanece não tratada no primeiro período mas é exposta ao tratamento no segundo período. Para simplificar a notação, podemos escrever $Y_{i,t}(0)= Y_{i,t}(0,0)$ e $Y_{i,t}(1)= Y_{i,t}(0,1)$.\n",
    "\n",
    "Devido ao problema fundamental da inferência causal (Holland, 1986), nós observamos apenas um dos dois resultados possíveis para cada unidade $i$:\n",
    "\n",
    "$$ Y_{i,t}= D_{i} Y_{i,t}(1) + (1-D_{i}) Y_{i,t}(0) $$\n",
    "\n",
    "\n",
    "Onde o desenho do DD tem um grupo de tratamento ($D=1$) e um grupo de não tratados ($D=0$). Existe um período pré-tratamento ($t=1$) para o grupo tratado $Y_{i,t=1}(1)$, e um período pós tratamento $Y_{i,t=2}(1)$. O mesmo vale para o grupo de controle, $Y_{i,t=1}(0)$ e $Y_{i,t=2}(0)$.\n",
    "\n",
    "$$ \\hat{\\beta}_{ATT}^{2x2} = (\\overline{Y}_{i,t=2}(1) - \\overline{Y}_{i,t=1}(1)) - (\\overline{Y}_{i,t=2}(0) - \\overline{Y}_{i,t=1}(0)) $$\n",
    "\n",
    "onde o $\\hat{\\beta}_{ATT}^{2x2}$ é o ATT estimado para o grupo tratado $D=1$. $\\overline{y}$ é a média amostral para aquele grupo específico em um determinado período de tempo.  \n",
    "\n",
    "Vamos representar em termos de esperanças condicionais (assumindo uma amostragem de uma população grande):\n",
    "\n",
    "$$ \\hat{\\beta}_{ATT}^{2x2} = (E[Y_{i,t=2}(1)|D_{i}=1] - E[Y_{i,t=1}(1)|D_{i}=1]) - (E[Y_{i,t=2}(0)|D_{i}=0] - E[Y_{i,t=1}(0)|D_{i}=0]) $$\n",
    "\n",
    "Faremos um pequeno truque onde adicionamos zero ao lado direito para que possamos usar esses termos para ajudar a ilustrar algo importante.\n",
    "\n",
    "$$ \\hat{\\beta}_{ATT}^{2x2} = \\underbrace{(E[Y_{i,t=2}(1)|D_{i}=1] - E[Y_{i,t=1}(1)|,D_{i}=1]) - (E[Y_{i,t=2}(0)|D_{i}=0] - E[Y_{i,t=1}(0)|D_{i}=0])}_{\\text{Switching Equation}} + \\underbrace{(E[Y_{i,t=2}(0)|D_{i}=1] - E[Y_{i,t=2}(0)|D_{i}=1])}_{Zero} $$\n",
    "\n",
    "Agora simplesmente reorganizamos esses termos para obter a decomposição em termos de resultados potenciais esperados condicionais.\n",
    "\n",
    "$$ \\hat{\\beta}_{ATT}^{2x2} = \\underbrace{(E[Y_{i,t=2}(1)|D=1] - E[Y_{i,t=2}(0)|D=1])}_{\\beta_{ATT}} + \\underbrace{[E[Y_{i,t=2}(0)|D=1] - E[Y_{i,t=1}(1)|D=1]] - (E[Y_{i,t=2}(0)|D=0] - E[Y_{i,t=1}(0)|D=0])}_{\\text{Non-Parallel Trends Bias 2x2}} $$\n",
    "\n",
    "Observe o lado direito da igualdade, mais especificadamente, o segundo termo da primeira parte , ele é o contrafactual. E como já dissemos várias vezes, os contrafactuais não são observáveis. Este resultado final é muitas vezes chamado de **suposição de tendências paralelas** e é, por definição, não testável, uma vez que não podemos observar esta expectativa condicional contrafactual. Voltaremos a isso novamente, mas por enquanto simplesmente apresento-o à sua consideração.\n",
    "\n"
   ]
  },
  {
   "cell_type": "markdown",
   "metadata": {},
   "source": [
    "**Exemplo**\n",
    "\n",
    "Considere duas empresas. No primeiro momento, o salário médio de uma das empresas é de 1000 (Ponto A), e da outra empresa é de 850 (ponto C). A primeira empresa aplica um Programa de Qualificação (tratamento) aos seus funcionários, enquanto a outra empresa não aplica qualquer programa. Posteriormente, observamos os salários das empresas, e a primeira empresa (Grupo Tratado) agora apresenta salários médios de 1100 (Ponto B), enquanto a empresa que não aplicou o programa (Grupo de controle) apresenta salários médios de 900 (Ponto D). A figura ilustra o exemplo.\n",
    "\n",
    "<div style=\"text-align:center;\">\n",
    "    <img src=\"images\\DD_FIG1.png\"  alt=\"Imagem\" style=\"width: 500px;\"/>\n",
    "</div>\n",
    "\n",
    "\n",
    "Repare que caso a empresa tratada não tivesse aplicado o tratamento, esperaríamos que ela seguisse a trajetória de aumento dos salários conforme a empresa do grupo de controle (Ponto E). Assim, a diferença entre os salários que a empresa emprega após o tratamento (ponto B) e o valor que a empresa tratada teria caso não sofresse a política (Ponto E) representa o efeito causal da política.\n",
    "\n",
    "O Gráfico pode ser escrito em uma tabela:"
   ]
  },
  {
   "cell_type": "markdown",
   "metadata": {},
   "source": [
    "\n",
    "|  | Tratado | Controle | Diferença |\n",
    "| :-----:   | :-----: | :-----: | :------: |\n",
    "| Antes (Baseline) | $$\\overline{Y}_{i,t=0}(1)=1000$$ Ponto (A) | $$\\overline{Y}_{i,t=0}(0)=850$$ Ponto (C)  | $$\\overline{Y}_{i,t=0}(1) - \\overline{Y}_{i,t=0}(0) = 150 $$ |\n",
    "| Depois (Followup) | $$\\overline{Y}_{i,t=1}(1)=1100$$ Ponto (B) | $$\\overline{Y}_{i,t=1}(0)=900$$ Ponto (D) | $$\\overline{Y}_{i,t=1}(1) - \\overline{Y}_{i,t=1}(0) = 200 $$ |\n",
    "| Diferença | $$[\\overline{Y}_{i,t=1}(1)-\\overline{Y}_{i,t=0}(1)=100]$$ Trajetória do G.Tratado | $$[\\overline{Y}_{i,t=1}(0)-\\overline{Y}_{i,t=0}(0)=50]$$ Trajetória do G.Controle | $$ (\\overline{Y}_{i,t=1}(1)-\\overline{Y}_{i,t=0}(1)) - (\\overline{Y}_{i,t=1}(0)-\\overline{Y}_{i,t=0}(0))=50$$ Ponto B - E |\n"
   ]
  },
  {
   "cell_type": "markdown",
   "metadata": {},
   "source": [
    "### Hipóteses de Identificação\n",
    "\n",
    "O desafio para identificar o Efeito Médio do Tratamento Sobre os Tratados (Average Treatment Effect on the Treated - ATT) é que os resultados potenciais para os tratados caso eles não fossem tratados não são observáveis. Então o método DD resolve o problema ao imputar o valor da média contrafactual através do uso da \n",
    "\n",
    "* (a) trajetória da variável de resultado do grupo de controle, e \n",
    "* (b) dos valores da variável de resultado dos tratados no período baseline.\n",
    "\n",
    "Hipóteses:\n",
    "\n",
    "> \n",
    "> **Tendências Paralelas (Parallel Trends)**: Essa hipótese supõe que o valor médio da variável de resposta entre o estado contrafactual e seu valor no período baseline para os tratados segue a mestra trajetória do valor médio da variável de resposta do grupo de controle (lembre-se que no baseline ($t=1$), $Y_{i,1}(1) = Y_{i,1}(0)$).\n",
    "> \n",
    "> $$E[Y_{i,2}(0)-Y_{i,1}(0)|D_{i}=1]=E[Y_{i,2}(0)-Y_{i,1}(0)|D_{i}=0]$$\n",
    "> \n",
    "> **Não Antecipação dos Efeitos (No anticipatory effects)**: Essa hipótese supõe que o tratamento não tem efeito causal antes de sua implementação.\n",
    "> $$ Y_{i,1}(0)=Y_{i,1}(1) $$\n",
    "> \n",
    "> **Distribuição dos dados**: Seja $W_{i}=(Y_{i,2}, Y_{i,1}, D_{i})´$ o vetor das variáveis de resultados e do status do tratamento para a unidade $i$. Nós observamos uma amostra de N *i.i.d.* com $W_{i}$~$F$ para alguma distribuição F (desconhecida) satisfazendo as tendências paralelas. Em outras palavras, os dados observados são amostrados de uma população maior de forma independente e identicamente distribuída, onde cada observação segue a mesma distribuição."
   ]
  },
  {
   "cell_type": "markdown",
   "metadata": {},
   "source": [
    "Nosso interesse é identificar o chamado ***\"Efeito do tratamento sobre os tratados\"*** (*Average Treatment Effect on the Treated* - ATT), para o caso de dois períodoso (**Caso Simples**):\n",
    "\n",
    "> \n",
    "> $$ \\beta_{ATT}= E[Y_{i,2}(1)-Y_{i,2}(0)|D_{i}=1] $$\n",
    ">\n",
    "\n",
    "Ou seja, queremos a média da diferença entre a variável de resultado observada dos indivíduos $i$ do grupo que recebeu o tratamento e sua variável de resultado caso este indivíduo $i$ não tivesse recebido o tratamento (contrafactual), dado que estamos avaliando os tratados (condicional ao fato de serem tratados - $D_{i}=1$). Isso para o período 2, onde eles foram tratados."
   ]
  },
  {
   "cell_type": "markdown",
   "metadata": {},
   "source": [
    "### Modelo DD por meio de Regressões\n",
    "\n",
    "#### Modelo Canônico Simples (2x2)\n",
    "\n",
    "Chamaremos de DD canônico quando o tratamento ocorre em um único momento no tempo sobre um grupo de indivíduos específico (tratados). Vamos começar com o modelo mais simples (2x2), isto é com dois períodos de tempo - antes e depois da intervenção.\n",
    "\n",
    ">\n",
    "> $$ Y_{i,t}= \\alpha + \\beta_{1}.d_{t} + \\beta_{2}.D_{i} + \\beta_{3}(D_{i}.d_{t}) + \\epsilon_{i,t} $$\n",
    "> \n",
    "\n",
    "Note que $D_{i}$ e $d_{t}$ aparecem tanto individualmente, quanto interagidas. Suas presenças isoladas captam as diferenças da média de $Y_{i,t}$ entre o grupo de tratamento e controle e entre o período anterior e posterior à intervenção. O termo de interação capta o que ocorreu especificadamente com o grupo de tratamento no período pós-intervenção. O $\\beta_{3}$ identifica o efeito do tratamento.\n",
    "\n",
    "Graficamente:\n",
    "\n",
    "\n",
    "<div style=\"text-align:center;\">\n",
    "    <img src=\"images\\DD_FIG2.png\"  alt=\"Imagem\" style=\"width: 500px;\"/>\n",
    "</div>\n"
   ]
  },
  {
   "cell_type": "markdown",
   "metadata": {},
   "source": [
    "#### Modelo Canônico Simples (2x2) com Controles\n",
    "\n",
    "Agora vamos para o caso de incluir controles (constantes no tempo - posteriormente relaxaremos essa questão e veremos suas implicações). Elas podem absorver parte do efeito que, na ausência delas poderia ser atribuído à intervenção.\n",
    "\n",
    ">\n",
    "> $$ Y_{i,t}= \\alpha + \\beta_{1}.d_{t} + \\beta_{2}.D_{i} + \\beta_{3}(D_{i}.d_{t}) + X_{i}.\\gamma + \\epsilon_{i,t} $$\n",
    "> \n",
    "\n",
    "**A inclusão do vetor de controles no modelo implica que a análise passa ser condicionada em $X_{i}$**, de modo que a os resultados são condicionais $E[Y_{i,t}|D,X,t]$. Essa consideração impõe que as tendências de cada $X$ do grupo tratado seja igual a tendência das variáveis $X$ do grupo de controle. Somente assim, o $\\beta_{3}$ continua identificando o efeito do tratamento. Para evitar, consideramos aqui apenas os controles constantes no tempo.\n",
    "\n",
    "Abordaremos com mais detalhes a questão dos controles na próxima aula."
   ]
  },
  {
   "cell_type": "markdown",
   "metadata": {},
   "source": [
    "#### Modelo Canônico com Vários Períodos de Tempo e Controles\n",
    "\n",
    "Agora vamos expandir a análise para o caso em que há disponibilidade para vários períodos de tempo, $t=1,2,…,T$\n",
    "\n",
    ">\n",
    "> $$ Y_{i,t}= \\alpha + \\lambda_{t} + \\theta.D_{i} + \\beta_{3}(D_{i}.d_{t}) + X_{i}.\\gamma + \\epsilon_{i,t} $$\n",
    "> \n",
    "\n",
    "Graficamente:\n",
    "\n",
    "<div style=\"text-align:center;\">\n",
    "    <img src=\"images\\DD_FIG3.png\"  alt=\"Imagem\" style=\"width: 500px;\"/>\n",
    "</div>\n",
    "\n",
    "Note que haverá diversas variáveis binárias identificando cada ano específico $t$."
   ]
  },
  {
   "cell_type": "markdown",
   "metadata": {},
   "source": [
    "#### Modelo Canônico com Intervenção Aplicada em Dimensão Agregada, vários períodos de tempo e Controles \n",
    "Repare que a intervenção é aplicada numa dimensão agregada ($g$). Esse tipo de análise pode ser aplicada, por exemplo, quando nos deparamos com dados desagregados em nível individual, e nos deparamos com possíveis agregações como escolas, setores, municípios ou estados... Ou seja, queremos verificar o efeito de uma intervenção aplicada no nível agregado sobre a média da variável de resultado dos indivíduos $i$.\n",
    "\n",
    ">\n",
    "> $$ Y_{i,g,t}= \\alpha + \\mu_{g} + \\lambda_{t} + \\theta.D_{g,t} +  X_{g}.\\gamma + \\epsilon_{i,g,t} $$\n",
    "> \n",
    "\n",
    "Note que haverá diversas dummies para controlar os grupos $\\mu_{g}$. Além disso, a variável $D_{g,t}$ que assume valor um caso o indivíduo $i$ é tratado no período $t$. "
   ]
  },
  {
   "cell_type": "markdown",
   "metadata": {},
   "source": [
    "#### Especificação Típica para Dados em Painel (Two-Way Fixed Effecs - TWFE)\n",
    "\n",
    "Nessa especificação controla-se o efeito fixo individual, que representa o elemento que absorve a influência de qualquer característica (observável e não observável) constante no tempo sobre a variável de resultado. \n",
    "\n",
    ">\n",
    "> $$ Y_{i,t}= \\alpha_{i} + \\lambda_{t} + \\beta.D_{i,t} + X_{i,t}.\\gamma + \\epsilon_{i,t} $$\n",
    "> \n",
    "\n",
    "A variável $D_{i,t}$ que assume valor um caso o indivíduo $i$ é tratado no período $t$. No contexto de múltiplos períodos, essa variável cumpre o papel do termo de interação anterior. O método de DD é capaz de contornar o problema de viés de seleção associado às características fixas (observáveis ou não) dos indivíduos no tempo.\n",
    "\n",
    "**Neste modelo TWFE permitimos que as covariáveis se modifiquem no tempo apenas para formulação da equação econométrica, porque a introdução de covariáveis na forma linear não é apropriada se o tratamento apresenta efeitos distintos em diferentes grupos da população.**\n"
   ]
  },
  {
   "cell_type": "markdown",
   "metadata": {},
   "source": [
    "### Inferência\n",
    "\n",
    "Muitos estudos que empregam estratégias de DD utilizam dados de muitos anos – não apenas um período pré-tratamento e um período pós-tratamento (Canônico Simples - 2x2). As variáveis ​​de interesse em muitas dessas configurações variam apenas no nível do grupo, como o estado, e as variáveis ​​de resultado são frequentemente correlacionadas em série. \n",
    "\n",
    "Bertrand, Duflo e Mullainathan (2004) salientam que os erros padrão convencionais muitas vezes subestimam gravemente o desvio padrão dos estimadores e, portanto, os erros padrão são tendenciosos para baixo, “muito pequenos”, e, portanto, rejeitam excessivamente a hipótese nula. Bertrand, Duflo e Mullainathan (2004) propõem as seguintes soluções:\n",
    "\n",
    "* Agregar os dados em um período pré e um pós.\n",
    "* Clustering de erros padrão no nível do grupo.\n",
    "  * Você simplesmente ajusta os erros padrão agrupando-os no nível do grupo."
   ]
  },
  {
   "cell_type": "markdown",
   "metadata": {},
   "source": [
    "### Aplicação DD em Python 1\n",
    "\n",
    "Para compreender esse exemplo precisamos lembrar da definição de **Monopsônio**. Considere, por exemplo, um monopsônio em um mercado de contratação de insumos, como o mercado de mão de obra, refere-se à situação em que há um único comprador (ou empregador) dominante (A demanda pela mão de obra é dessa empresa) que enfrenta múltiplos vendedores (ou trabalhadores). Nesse cenário, o empregador tem um grande poder de mercado e pode ditar as condições de contratação, incluindo os salários que está disposto a pagar e as quantidades de trabalhadores que deseja empregar.\n",
    "\n",
    "Uma premissa básica é que as empresas sempre buscam maximizar seu lucro. Elas realizam isso ao igualar custo marginal e receita marginal. O custo marginal de contratar um trabalhador adicional é o salário que a empresa deve pagar a esse trabalhador. A receita marginal é o valor que a empresa obtém com a produção adicional desse trabalhador.\n",
    "\n",
    "\n",
    "<div style=\"text-align:center;\">\n",
    "    <img src=\"images\\Monopsonio1.png\"  alt=\"Imagem\" style=\"width: 500px;\"/>\n",
    "</div>\n",
    "\n",
    "* Suponha que você esteja interessado no **efeito dos salários mínimos sobre emprego**, que é uma questão clássica e polêmica.\n",
    "* No **Monopsônio (mercados de trabalho imperfeitos)** um aumento de salários mínimos podem sugerir um efeito oposto, em que o aumento do salário mínimo aumenta o emprego.\n",
    "\n",
    "É aqui que entra o artigo de **Card e Krueger (1994)**. Eles pesquisaram cerca de 400 lojas de fast food em Nova Jersey (NJ) e Pensilvânia (PA) antes e depois do aumento do salário mínimo ocorrido em Nova Jersey.\n",
    "\n",
    "Vejamos isso em termo teóricos:\n",
    "\n",
    "<div style=\"text-align:center;\">\n",
    "    <img src=\"images\\DD_FIG4.png\"  alt=\"Imagem\" style=\"width: 500px;\"/>\n",
    "</div>\n",
    "\n",
    "\n",
    "\n",
    "\n",
    "Voltando à análise de Card e Krueger (1994), em fevereiro de 1992, Nova Jersey aumentou o salário mínimo estadual\n",
    "de US4,25 a US5,05. Enquanto o salário mínimo da Pensilvânia permaneceu em US4,25.\n",
    "\n",
    "\n",
    "\n",
    "<div style=\"text-align:center;\">\n",
    "    <img src=\"images\\DD_FIG5.png\"  alt=\"Imagem\" style=\"width: 500px;\"/>\n",
    "</div>\n",
    "\n",
    "Eles pesquisaram cerca de 400 lojas de fast food em Nova Jersey (NJ) e Pensilvânia (PA) antes e depois do aumento do salário mínimo em Nova Jersey.\n",
    "\n",
    "O Gráfico abaixo mostra a distribuição dos salários nas lojas de cada estado antes da intervenção.\n",
    "\n",
    "<div style=\"text-align:center;\">\n",
    "    <img src=\"images\\DD_FIG6.png\"  alt=\"Imagem\" style=\"width: 500px;\"/>\n",
    "</div>\n",
    "\n",
    "O gráfico abaixo mostra a distribuição dos salários após a intervenção ocorrida em New Jersey.\n",
    "\n",
    "<div style=\"text-align:center;\">\n",
    "    <img src=\"images\\DD_FIG7.png\"  alt=\"Imagem\" style=\"width: 500px;\"/>\n",
    "</div>\n",
    "\n",
    "Temos uma situação de antes e depois, para um estado tratado e outro controle. Vejamos a tabela com as médias e suas diferenças:\n",
    "\n",
    "<div style=\"text-align:center;\">\n",
    "    <img src=\"images\\DD_FIG8.png\"  alt=\"Imagem\" style=\"width: 500px;\"/>\n",
    "</div>\n",
    "\n",
    "Surpreendentemente, o emprego aumentou em NJ em relação ao PA após a mudança do salário mínimo - isso é consistente com a teoria do monopsônio!\n",
    "\n",
    "\n",
    "A regressão para capturar o efeito causal da intervenção:\n",
    "\n",
    ">\n",
    "> $$ Y_{i,t,s}= \\alpha + \\gamma NJ_{s} + \\lambda d_{t} + \\delta (NJ.d)_{st} + \\epsilon_{i,t,s} $$\n",
    "> \n",
    "\n",
    "* $NJ$ é uma variável binária com valor 1 se as observações são do estado NJ;\n",
    "* $d$ é uma variável binária com valor 1 se as observações são de novembro (pós | período posterior ao tratamento)\n",
    "* Dimensões consideradas nos dados ($i, t, s$). o subscrito $i$ indica a loja, o subscrito $t$ indica o tempo, o subscrito $s$ o estado.\n",
    "\n",
    "\n",
    "\n",
    "Graficamente:\n",
    "\n",
    "<div style=\"text-align:center;\">\n",
    "    <img src=\"images\\DD_FIG9.png\"  alt=\"Imagem\" style=\"width: 500px;\"/>\n",
    "</div>\n",
    "\n",
    "\n",
    "* Se as tendências paralelas não forem mantidas, o ATT não será identificado\n",
    "\n",
    "* Mas, independentemente de o ATT ser identificado, o OLS sempre estima a mesma coisa\n",
    "\n",
    "* Isso ocorre porque o OLS usa a inclinação do grupo de controle para estimar o parâmetro DD, que só é imparcial se essa inclinação for a correta tendência contrafactual para o grupo de tratamento"
   ]
  },
  {
   "cell_type": "markdown",
   "metadata": {},
   "source": [
    "Agora vamos aplicar o exemplo em Python."
   ]
  },
  {
   "cell_type": "code",
   "execution_count": 1,
   "metadata": {},
   "outputs": [],
   "source": [
    "# Pacotes\n",
    "import numpy as np\n",
    "import pandas as pd\n",
    "import plotnine as p\n",
    "import statsmodels.api as sm\n",
    "import linearmodels as lm\n",
    "import statsmodels.formula.api as smf"
   ]
  },
  {
   "cell_type": "code",
   "execution_count": 2,
   "metadata": {},
   "outputs": [],
   "source": [
    "# DataFrame\n",
    "df = pd.read_stata(\"http://fmwww.bc.edu/repec/bocode/c/CardKrueger1994.dta\")\n",
    "\n",
    "# Há problemas na base que precisam ser ajustados\n",
    "df.loc[(df['id'] == 407) & (df['kfc'] == 1), 'id'] = 408\n",
    "# Crie a variável 'tratado' com valor inicial de 0\n",
    "df['tratado'] = 0\n",
    "# Recodifique 'tratado' para 1 se 'treated' for igual a 1\n",
    "df.loc[df['treated'] == 'NJ', 'tratado'] = 1\n",
    "# Crie a variável 'effect' como o produto entre 'tratado' e 't'\n",
    "df['effect'] = df['tratado'] * df['t']"
   ]
  },
  {
   "cell_type": "code",
   "execution_count": 3,
   "metadata": {},
   "outputs": [
    {
     "name": "stdout",
     "output_type": "stream",
     "text": [
      "                            WLS Regression Results                            \n",
      "==============================================================================\n",
      "Dep. Variable:                    fte   R-squared:                       0.008\n",
      "Model:                            WLS   Adj. R-squared:                  0.004\n",
      "Method:                 Least Squares   F-statistic:                     1.429\n",
      "Date:                Sat, 23 Nov 2024   Prob (F-statistic):              0.233\n",
      "Time:                        15:36:32   Log-Likelihood:                -2894.8\n",
      "No. Observations:                 801   AIC:                             5798.\n",
      "Df Residuals:                     797   BIC:                             5816.\n",
      "Df Model:                           3                                         \n",
      "Covariance Type:                  HC1                                         \n",
      "==============================================================================\n",
      "                 coef    std err          z      P>|z|      [0.025      0.975]\n",
      "------------------------------------------------------------------------------\n",
      "Intercept     19.9487      1.317     15.144      0.000      17.367      22.531\n",
      "tratado       -2.8835      1.403     -2.055      0.040      -5.634      -0.133\n",
      "t             -2.4065      1.594     -1.510      0.131      -5.531       0.718\n",
      "effect         2.9140      1.737      1.678      0.093      -0.490       6.318\n",
      "==============================================================================\n",
      "Omnibus:                      245.537   Durbin-Watson:                   1.401\n",
      "Prob(Omnibus):                  0.000   Jarque-Bera (JB):              985.101\n",
      "Skew:                           1.388   Prob(JB):                    1.22e-214\n",
      "Kurtosis:                       7.670   Cond. No.                         11.3\n",
      "==============================================================================\n",
      "\n",
      "Notes:\n",
      "[1] Standard Errors are heteroscedasticity robust (HC1)\n"
     ]
    }
   ],
   "source": [
    "# Regressão DD\n",
    "CK1 = smf.wls('fte ~ tratado + t + effect', data=df).fit(cov_type='HC1')\n",
    "print(CK1.summary())"
   ]
  },
  {
   "cell_type": "code",
   "execution_count": 5,
   "metadata": {},
   "outputs": [
    {
     "name": "stdout",
     "output_type": "stream",
     "text": [
      "                            WLS Regression Results                            \n",
      "==============================================================================\n",
      "Dep. Variable:                    fte   R-squared:                       0.188\n",
      "Model:                            WLS   Adj. R-squared:                  0.182\n",
      "Method:                 Least Squares   F-statistic:                     57.30\n",
      "Date:                Sat, 23 Nov 2024   Prob (F-statistic):           6.91e-59\n",
      "Time:                        15:36:38   Log-Likelihood:                -2814.7\n",
      "No. Observations:                 801   AIC:                             5643.\n",
      "Df Residuals:                     794   BIC:                             5676.\n",
      "Df Model:                           6                                         \n",
      "Covariance Type:                  HC1                                         \n",
      "==============================================================================\n",
      "                 coef    std err          z      P>|z|      [0.025      0.975]\n",
      "------------------------------------------------------------------------------\n",
      "Intercept     21.1607      1.307     16.188      0.000      18.599      23.723\n",
      "tratado       -2.3239      1.254     -1.854      0.064      -4.781       0.133\n",
      "t             -2.4027      1.410     -1.704      0.088      -5.167       0.361\n",
      "effect         2.9350      1.543      1.902      0.057      -0.090       5.960\n",
      "bk             0.9169      0.938      0.977      0.328      -0.922       2.756\n",
      "kfc           -9.2049      0.899    -10.238      0.000     -10.967      -7.443\n",
      "roys          -0.8970      1.041     -0.862      0.389      -2.938       1.143\n",
      "==============================================================================\n",
      "Omnibus:                      305.187   Durbin-Watson:                   1.566\n",
      "Prob(Omnibus):                  0.000   Jarque-Bera (JB):             1854.625\n",
      "Skew:                           1.603   Prob(JB):                         0.00\n",
      "Kurtosis:                       9.730   Cond. No.                         12.1\n",
      "==============================================================================\n",
      "\n",
      "Notes:\n",
      "[1] Standard Errors are heteroscedasticity robust (HC1)\n"
     ]
    }
   ],
   "source": [
    "# Regressão DD com covariáveis\n",
    "CK2 = smf.wls('fte ~ tratado + t + effect + bk + kfc + roys', data=df).fit(cov_type='HC1')\n",
    "print(CK2.summary())"
   ]
  },
  {
   "cell_type": "markdown",
   "metadata": {},
   "source": [
    "Podemos montar uma tabela para para comparar os efeitos encontrados em cada estratégia de identificação DD:"
   ]
  },
  {
   "cell_type": "code",
   "execution_count": 6,
   "metadata": {},
   "outputs": [
    {
     "name": "stdout",
     "output_type": "stream",
     "text": [
      "\n",
      "====================================\n",
      "                  CK1        CK2    \n",
      "------------------------------------\n",
      "Intercept      19.9487*** 21.1607***\n",
      "               (1.3173)   (1.3071)  \n",
      "tratado        -2.8835**  -2.3239*  \n",
      "               (1.4033)   (1.2537)  \n",
      "t              -2.4065    -2.4027*  \n",
      "               (1.5941)   (1.4103)  \n",
      "effect         2.9140*    2.9350*   \n",
      "               (1.7368)   (1.5434)  \n",
      "bk                        0.9169    \n",
      "                          (0.9383)  \n",
      "kfc                       -9.2049***\n",
      "                          (0.8991)  \n",
      "roys                      -0.8970   \n",
      "                          (1.0411)  \n",
      "R-squared      0.0080     0.1878    \n",
      "R-squared Adj. 0.0043     0.1817    \n",
      "====================================\n",
      "Standard errors in parentheses.\n",
      "* p<.1, ** p<.05, ***p<.01\n"
     ]
    }
   ],
   "source": [
    "from statsmodels.iolib.summary2 import summary_col\n",
    "results_table = summary_col([CK1, CK2], model_names=['CK1', 'CK2'], stars=True)\n",
    "print(results_table)"
   ]
  },
  {
   "cell_type": "markdown",
   "metadata": {},
   "source": [
    "#### Considerações sobre o DD\n",
    "\n",
    "Para que o DD identifique o efeito causal, é importante que tanto indivíduos tratados quanto os de controle permaneçam similares nas suas **características não observáveis** ao longo do tempo, especialmente após a intervenção.\n",
    "\n",
    "Caso ocorram mudanças expressivas que afetem a composição dos indivíduos que formam os grupos, haverá complicação na comparabilidade temporal. (P. ex., migração entre municípios, habilidades valorizadas em determinados mercados de trabalho, etc).\n",
    "\n",
    "A perda de comparabilidade dos grupos ao longo do tempo compromete o DD.\n",
    "\n",
    "De forma geral, o estimador DD **não identificará o efeito causal de interesse** quando houver algum tipo de **característica não observável que varie no tempo** e **afete** simultaneamente a **variável de resultado e a escolha pelo tratamento**. (p.ex. variável de confusão não observável não constante)."
   ]
  },
  {
   "cell_type": "markdown",
   "metadata": {},
   "source": [
    "#### Boas Práticas para o DD\n",
    "\n",
    "* Verificar se as características observáveis dos tratados e controles permanecem relativamente estáveis no tempo. \n",
    "* É importante tentar verificar se as tendências temporais da variável de resultado entre os grupos são semelhantes antes da intervenção (Event Study)."
   ]
  }
 ],
 "metadata": {
  "kernelspec": {
   "display_name": "Python 3",
   "language": "python",
   "name": "python3"
  },
  "language_info": {
   "codemirror_mode": {
    "name": "ipython",
    "version": 3
   },
   "file_extension": ".py",
   "mimetype": "text/x-python",
   "name": "python",
   "nbconvert_exporter": "python",
   "pygments_lexer": "ipython3",
   "version": "3.11.5"
  }
 },
 "nbformat": 4,
 "nbformat_minor": 2
}
