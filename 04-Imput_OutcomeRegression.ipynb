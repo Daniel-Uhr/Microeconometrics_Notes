{
 "cells": [
  {
   "cell_type": "markdown",
   "metadata": {},
   "source": [
    "# Estimadores baseados em Imputação e o *Outcome Regression*\n",
    "\n",
    "Prof. Daniel de Abreu Pereira Uhr\n",
    "\n",
    "## Conteúdo\n",
    "\n",
    "* Introdução aos estimadores baseados em Imputação\n",
    "* Outcome Regression\n",
    "  * Unilateral\n",
    "  * Bilateral\n",
    "* Aplicação no Python\n",
    "  * Outcome Regression\n",
    "  * Aplicação no Python 1 \n",
    "  * \n",
    "* Boas Práticas\n",
    "\n",
    "\n",
    "## Referências\n",
    "\n",
    "* Heckman, James, Hidehiko Ichimura, Jefrey Smith, and Petra Todd. (1998). Characterizing selection bias using experimental data\". Econometrica 66.5, pp. 1017-1098.\n",
    "* Cunningham, S. W. (2013). Causal inference: The mixtape. https://www.scunning.com/mixtape.html\n",
    "* Courthoud, Matteo. Understanding AIPW. https://matteocourthoud.github.io/post/aipw/ \n",
    "* Matheus Facure. Doubly Robust Estimation. https://matheusfacure.github.io/python-causality-handbook/12-Doubly-Robust-Estimation.html\n",
    "* Pearl, J. (2000). Causality: Models, reasoning, and inference. Cambridge University Press.\n",
    "* Joshua D. Angrist and Jörn-Steffen Pischke (2009). Mostly Harmless Econometrics: An Empiricist's Companion. Princeton University Press.\n",
    "* Morgan, S. L., & Winship, C. (2014). Counterfactuals and causal inference: Methods and principles for social research. Cambridge University Press. Capítulo 3.\n"
   ]
  },
  {
   "cell_type": "markdown",
   "metadata": {},
   "source": [
    "## Introdução\n",
    "\n",
    "Lembre que nossa busca é a identificação do parâmetro causal. Devido ao **problema fundamental da inferência causal**: \n",
    "\n",
    "$$ Y_{i} = D Y^{1}_{i} + (1-D)Y^{0}_{i} $$\n",
    "\n",
    "rearrajando a equação, temos:\n",
    "\n",
    "$$ Y_{i} = Y^{0}_{i} + (Y^{1}_{i} - Y^{0}_{i})D $$\n",
    "\n",
    "Essa segunda equação nos oference \"insights\" importantes, repare que $(Y^{1}_{i} - Y^{0}_{i})$ é o efeito do tratamento no nível do indivíduo, chamamos à isso de ***Individual Treatment Effect***. Vamos definir o ITE como $\\tau_{i}$.\n",
    "\n",
    "$$ Y_{i} = Y^{0}_{i} + \\tau_{i} D $$\n",
    "\n",
    "A interpretação direta é que o resultado do individuo *i* será o estado da natureza de não tratado ($Y^{0}$) mais (ou menos) o efeito do tratamento individual ($\\tau_{i}$), caso o indivíduo seja tratado ($D=1$). Essa estrutura é fundamentada na consideração explicita do contrafactual (temos os dois estados do mundo considerados para cada indivíduo).\n",
    "\n",
    "***Estrutura dos Dados Reais***\n",
    "\n",
    "A prática do problema fundamental da inferencia causal é que não podemos observar o resultado de um indivíduo sendo tratado e não-tratado simultaneamente. Logo, nossa estrutura de dados implica em **dados faltantes**. Um dos estados da natureza está \"faltante no nosso banco de dados.\n",
    "\n",
    "Vamos considerar um exemplo simples para ilustrar o problema. Suponha que temos um conjunto de dados com as seguintes variáveis:\n",
    "\n",
    "\n",
    "| Unidade |   $Y^{1}$     |  $Y^{0}$     | $D$      |  $X $    |\n",
    "|---------|--------|-------|--------|-------|\n",
    "| 1       | 5      |       | 1      | 11    |\n",
    "| 2       | 2      |       | 1      | 7     |\n",
    "| 3       | 10     |       | 1      | 5     |\n",
    "| 4       | 6      |       | 1      | 3     |\n",
    "| 5       |        | 4     | 0      | 10    |\n",
    "| 6       |        | 0     | 0      | 8     |\n",
    "| 7       |        | 5     | 0      | 4     |\n",
    "| 8       |        | 1     | 0      |  1    |\n",
    "\n",
    "\n",
    "Repare que quando os indivíduos são tratados ($D=1$), não temos os resultados para o indivíduo no estado da natureza de não tratado ($Y^{0}$). O mesmo ocorre quando os indivíduos são nâo tratados ($D=0$), então não observamos o seus respectivos resultados caso \"tivessem sido tratados\" ($Y^{1}$).\n",
    "\n",
    "Processo de completar esses dados faltantes é chamado de imputação.\n",
    "\n",
    "\n",
    "### Regressão Linear\n",
    "\n",
    "Mas se desconsiderarmos o ***problema fundamental da inferência causal***, e calculássemos uma regressão linear? \n",
    "\n",
    "Repare na estrutura de uma estimação linear:\n",
    "\n",
    "$$ Y = \\alpha + \\beta D + \\epsilon $$\n",
    "\n",
    "(ela não é parecida com alguma coisa que vimos recentemente?)\n",
    "\n",
    "A interpretação geral da regressão linear é o seguinte, o valor de $Y$ é composto por um valor constante ($\\alpha$) mais um valor $\\beta$ que é adicionado quando D é um, mais um choque.\n",
    "\n",
    "De outra forma, vamos desagregar Y entre os dois grupos definidos por D.\n",
    "\n",
    "$$ E[Y | D=0 ] = \\alpha $$\n",
    "\n",
    "$$ E[Y | D=1 ] = \\alpha + \\beta $$\n",
    "\n",
    "Voce reparou que há uma semelhança com a estrutura de identificação do efeito ITE? Entretanto não é igual..."
   ]
  },
  {
   "cell_type": "markdown",
   "metadata": {},
   "source": []
  },
  {
   "cell_type": "markdown",
   "metadata": {},
   "source": [
    "## Introdução aos estimadores baseados em Imputação\n",
    "\n",
    "\n",
    "***Contexto***\n",
    "\n",
    "\n",
    "Na prática, grande parte dos estimadores para identificação causal buscam lidar com essa de dados ou informações não observadas, preenchendo esses valores faltantes com estimativas calculadas a partir dos dados disponíveis e/ou \"previsões\" para eles.\n",
    "\n",
    "Considerando o exemplo anterior:\n",
    "\n",
    "| Unidade |   $Y^{1}$     |  $Y^{0}$     | $D$      |  $X $    |\n",
    "|---------|--------|-------|--------|-------|\n",
    "| 1       | 5      |   ?    | 1      | 11    |\n",
    "| 2       | 2      |   ?    | 1      | 7     |\n",
    "| 3       | 10     |   ?    | 1      | 5     |\n",
    "| 4       | 6      |   ?    | 1      | 3     |\n",
    "| 5       |   ?     | 4     | 0      | 10    |\n",
    "| 6       |   ?     | 0     | 0      | 8     |\n",
    "| 7       |   ?     | 5     | 0      | 4     |\n",
    "| 8       |   ?     | 1     | 0      |  1    |\n",
    "\n",
    "\n",
    "Normalmente, temos a disposição outras variáveis (covariáveis) que caracterizam os indivíduos e a relação causal (como vimos nas aulas anteriores). Na tabela anterior, representamos como $X$.\n",
    "\n",
    "Naturalmente, se $X$ é uma covariável relevante (possivel confundidora, em que sua omissão gera viés por omissão - OBV), a primeira estratégia que vem a nossa mente é controlá-la na regressão linear:\n",
    "\n",
    "$$ Y = \\alpha + \\tau D + \\gamma X + \\epsilon $$\n",
    "\n",
    "\n",
    "Continuamos considerando $ Y $ como a variável dependente, $ D $ é a variável indicadora de tratamento (1 se o tratamento foi aplicado, 0 caso contrário), $ X $ são as covariáveis observáveis, e $ \\epsilon $ é o termo de erro do modelo.\n",
    "\n",
    "Agora, repare que se aplicamos a expectativa condicional de $Y$ em $D$, temos:\n",
    "\n",
    "$$ E[Y|X, D=1] = \\alpha + \\tau (1) + \\gamma (X) +  u_1  $$\n",
    "\n",
    "$$ E[Y|X, D=0] = \\alpha + \\tau (0) + \\gamma (X) + u_0  $$\n",
    "\n",
    "\n",
    "***Generalizando a relação***\n",
    "\n",
    "Repare poderiamos chamar a média para os tratados de $\\mu_{1}$ e para os não tratados de $\\mu_{0}$:\n",
    "\n",
    "$$ E[Y|X, D=1] = \\alpha + \\tau (1) + \\gamma (X) +  u_1  = \\mu_{1}(X) + u_1 $$\n",
    "\n",
    "$$ E[Y|X, D=0] = \\alpha + \\tau (0) + \\gamma (X) + u_0  = \\mu_{0}(X) + u_0$$\n",
    "\n",
    "Então, $\\mu_{1}(X) $ e $ \\mu_{0}(X) $ representam as **médias dos resultados potenciais** para os tratados e não tratados, respectivamente, ***dados $ X $*** (Condicional a $X$ também!). Os termos $ u_1 $ e $u_0 $ são termos de erro associados aos grupos de tratamento e controle, respectivamente (termos de erros nas sub-amostras/ sub-grupos).\n",
    "\n",
    "Uma vantagem de representar os grupos dessa forma é que podemos entender que eles podem apresentar relações distintas entre eles. Ou seja, podemos generalizar a relação para modelos não lineares. E, fica evidenciada a sua dependência das características $X$.\n",
    "   "
   ]
  },
  {
   "cell_type": "markdown",
   "metadata": {},
   "source": [
    "### *Outcome Regression - OR*\n",
    "\n",
    "O *Outcome Regression* ou \"regressão de variável de resultado\" utiliza o arcabouço que definimos anteriormente para resolver o problema de imputação dos dados. Vejamos detalhadamente.\n",
    "\n",
    "Noso ponto de partida é estimar o efeito causal. O principal efeito a ser estimado é o *Average Treatment Effect - ATE*. Vimos que o ATE é definido como:\n",
    "\n",
    "$$ATE = E[\\tau_{i}] = E[Y_{i}^{1} - Y_{i}^{0}]$$\n",
    "\n",
    "Devido à falta de observação simultânea de $Y^{1}$ e $Y^{0}$ para a mesma unidade, os pesquisadores propuseram o Outcome Regression, que é um  **estimador baseado em imputação** para estimar o potencial resultado não observado.\n",
    "\n",
    "A ideia é que podemos estimar o ATE a partir de **valores previstos** dos resultados potenciais de tratamento ($\\hat{Y^{1}}$) e de não-tratado ($\\hat{Y^{0}}$).\n",
    "\n",
    "Como visto anteriormente, rodar um modelo para estimar $\\mu_{1}(X) $ e $ \\mu_{0}(X) $ e utilizar esses valores previstos como resultados potenciais para imputar os dados faltantes."
   ]
  },
  {
   "cell_type": "markdown",
   "metadata": {},
   "source": [
    "**Exemplo aplicado em python**"
   ]
  },
  {
   "cell_type": "code",
   "execution_count": 1,
   "metadata": {},
   "outputs": [],
   "source": [
    "# bibliotecas\n",
    "import pandas as pd\n",
    "import statsmodels.formula.api as smf "
   ]
  },
  {
   "cell_type": "code",
   "execution_count": 5,
   "metadata": {},
   "outputs": [],
   "source": [
    "# Carregar DataFrame\n",
    "df = pd.read_stata(\"https://github.com/scunning1975/mixtape/raw/master/training_bias_reduction.dta\")"
   ]
  },
  {
   "cell_type": "code",
   "execution_count": 6,
   "metadata": {},
   "outputs": [
    {
     "data": {
      "application/vnd.microsoft.datawrangler.viewer.v0+json": {
       "columns": [
        {
         "name": "index",
         "rawType": "int64",
         "type": "integer"
        },
        {
         "name": "Unit",
         "rawType": "int8",
         "type": "integer"
        },
        {
         "name": "Y",
         "rawType": "int8",
         "type": "integer"
        },
        {
         "name": "D",
         "rawType": "int8",
         "type": "integer"
        },
        {
         "name": "X",
         "rawType": "int8",
         "type": "integer"
        }
       ],
       "ref": "241e6484-f7d4-421e-a2df-b0b2231e5011",
       "rows": [
        [
         "0",
         "1",
         "5",
         "1",
         "11"
        ],
        [
         "1",
         "2",
         "2",
         "1",
         "7"
        ],
        [
         "2",
         "3",
         "10",
         "1",
         "5"
        ],
        [
         "3",
         "4",
         "6",
         "1",
         "3"
        ],
        [
         "4",
         "5",
         "4",
         "0",
         "10"
        ],
        [
         "5",
         "6",
         "0",
         "0",
         "8"
        ],
        [
         "6",
         "7",
         "5",
         "0",
         "4"
        ],
        [
         "7",
         "8",
         "1",
         "0",
         "1"
        ]
       ],
       "shape": {
        "columns": 4,
        "rows": 8
       }
      },
      "text/html": [
       "<div>\n",
       "<style scoped>\n",
       "    .dataframe tbody tr th:only-of-type {\n",
       "        vertical-align: middle;\n",
       "    }\n",
       "\n",
       "    .dataframe tbody tr th {\n",
       "        vertical-align: top;\n",
       "    }\n",
       "\n",
       "    .dataframe thead th {\n",
       "        text-align: right;\n",
       "    }\n",
       "</style>\n",
       "<table border=\"1\" class=\"dataframe\">\n",
       "  <thead>\n",
       "    <tr style=\"text-align: right;\">\n",
       "      <th></th>\n",
       "      <th>Unit</th>\n",
       "      <th>Y</th>\n",
       "      <th>D</th>\n",
       "      <th>X</th>\n",
       "    </tr>\n",
       "  </thead>\n",
       "  <tbody>\n",
       "    <tr>\n",
       "      <th>0</th>\n",
       "      <td>1</td>\n",
       "      <td>5</td>\n",
       "      <td>1</td>\n",
       "      <td>11</td>\n",
       "    </tr>\n",
       "    <tr>\n",
       "      <th>1</th>\n",
       "      <td>2</td>\n",
       "      <td>2</td>\n",
       "      <td>1</td>\n",
       "      <td>7</td>\n",
       "    </tr>\n",
       "    <tr>\n",
       "      <th>2</th>\n",
       "      <td>3</td>\n",
       "      <td>10</td>\n",
       "      <td>1</td>\n",
       "      <td>5</td>\n",
       "    </tr>\n",
       "    <tr>\n",
       "      <th>3</th>\n",
       "      <td>4</td>\n",
       "      <td>6</td>\n",
       "      <td>1</td>\n",
       "      <td>3</td>\n",
       "    </tr>\n",
       "    <tr>\n",
       "      <th>4</th>\n",
       "      <td>5</td>\n",
       "      <td>4</td>\n",
       "      <td>0</td>\n",
       "      <td>10</td>\n",
       "    </tr>\n",
       "    <tr>\n",
       "      <th>5</th>\n",
       "      <td>6</td>\n",
       "      <td>0</td>\n",
       "      <td>0</td>\n",
       "      <td>8</td>\n",
       "    </tr>\n",
       "    <tr>\n",
       "      <th>6</th>\n",
       "      <td>7</td>\n",
       "      <td>5</td>\n",
       "      <td>0</td>\n",
       "      <td>4</td>\n",
       "    </tr>\n",
       "    <tr>\n",
       "      <th>7</th>\n",
       "      <td>8</td>\n",
       "      <td>1</td>\n",
       "      <td>0</td>\n",
       "      <td>1</td>\n",
       "    </tr>\n",
       "  </tbody>\n",
       "</table>\n",
       "</div>"
      ],
      "text/plain": [
       "   Unit   Y  D   X\n",
       "0     1   5  1  11\n",
       "1     2   2  1   7\n",
       "2     3  10  1   5\n",
       "3     4   6  1   3\n",
       "4     5   4  0  10\n",
       "5     6   0  0   8\n",
       "6     7   5  0   4\n",
       "7     8   1  0   1"
      ]
     },
     "execution_count": 6,
     "metadata": {},
     "output_type": "execute_result"
    }
   ],
   "source": [
    "# Ver os dados carregados\n",
    "df"
   ]
  },
  {
   "cell_type": "markdown",
   "metadata": {},
   "source": [
    "Vamos rodar a regressão entre $Y$ e $X$, para os tratados ($D=1$, condicionado nessa subamostra). Aqui estamos estimando a função $\\mu_1 (.)$."
   ]
  },
  {
   "cell_type": "code",
   "execution_count": 7,
   "metadata": {},
   "outputs": [
    {
     "name": "stdout",
     "output_type": "stream",
     "text": [
      "                            OLS Regression Results                            \n",
      "==============================================================================\n",
      "Dep. Variable:                      Y   R-squared:                       0.136\n",
      "Model:                            OLS   Adj. R-squared:                 -0.296\n",
      "Method:                 Least Squares   F-statistic:                    0.3157\n",
      "Date:                seg, 18 ago 2025   Prob (F-statistic):              0.631\n",
      "Time:                        08:51:30   Log-Likelihood:                -9.5879\n",
      "No. Observations:                   4   AIC:                             23.18\n",
      "Df Residuals:                       2   BIC:                             21.95\n",
      "Df Model:                           1                                         \n",
      "Covariance Type:            nonrobust                                         \n",
      "==============================================================================\n",
      "                 coef    std err          t      P>|t|      [0.025      0.975]\n",
      "------------------------------------------------------------------------------\n",
      "Intercept      8.0714      4.540      1.778      0.217     -11.461      27.604\n",
      "X             -0.3571      0.636     -0.562      0.631      -3.092       2.378\n",
      "==============================================================================\n",
      "Omnibus:                          nan   Durbin-Watson:                   3.356\n",
      "Prob(Omnibus):                    nan   Jarque-Bera (JB):                0.254\n",
      "Skew:                           0.071   Prob(JB):                        0.881\n",
      "Kurtosis:                       1.773   Cond. No.                         17.5\n",
      "==============================================================================\n",
      "\n",
      "Notes:\n",
      "[1] Standard Errors assume that the covariance matrix of the errors is correctly specified.\n"
     ]
    },
    {
     "name": "stderr",
     "output_type": "stream",
     "text": [
      "c:\\Users\\danie\\AppData\\Local\\Programs\\Python\\Python311\\Lib\\site-packages\\statsmodels\\stats\\stattools.py:74: ValueWarning: omni_normtest is not valid with less than 8 observations; 4 samples were given.\n",
      "  warn(\"omni_normtest is not valid with less than 8 observations; %i \"\n"
     ]
    }
   ],
   "source": [
    "reg1 = smf.ols('Y ~ X', data=df[df['D'] == 1]).fit()\n",
    "print(reg1.summary())"
   ]
  },
  {
   "cell_type": "markdown",
   "metadata": {},
   "source": [
    "Então, estamos dizendo que os resultados (Y) dos tratados são modelados da seguinte forma:\n",
    "\n",
    "$$ Y = 8.07 - 0.3571 X $$\n",
    "\n",
    "Agora, vamos adicionar ao nosso dataframe uma coluna para os valores médios de $Y$ previstos considerando $\\mu_{1}$."
   ]
  },
  {
   "cell_type": "code",
   "execution_count": 8,
   "metadata": {},
   "outputs": [],
   "source": [
    "df['mu_1']= reg1.predict(df)"
   ]
  },
  {
   "cell_type": "code",
   "execution_count": 9,
   "metadata": {},
   "outputs": [
    {
     "data": {
      "application/vnd.microsoft.datawrangler.viewer.v0+json": {
       "columns": [
        {
         "name": "index",
         "rawType": "int64",
         "type": "integer"
        },
        {
         "name": "Unit",
         "rawType": "int8",
         "type": "integer"
        },
        {
         "name": "Y",
         "rawType": "int8",
         "type": "integer"
        },
        {
         "name": "D",
         "rawType": "int8",
         "type": "integer"
        },
        {
         "name": "X",
         "rawType": "int8",
         "type": "integer"
        },
        {
         "name": "mu_1",
         "rawType": "float64",
         "type": "float"
        }
       ],
       "ref": "c592552a-8b6b-4b4e-8a34-ab4611f15726",
       "rows": [
        [
         "0",
         "1",
         "5",
         "1",
         "11",
         "4.142857142857144"
        ],
        [
         "1",
         "2",
         "2",
         "1",
         "7",
         "5.571428571428573"
        ],
        [
         "2",
         "3",
         "10",
         "1",
         "5",
         "6.2857142857142865"
        ],
        [
         "3",
         "4",
         "6",
         "1",
         "3",
         "7.000000000000002"
        ],
        [
         "4",
         "5",
         "4",
         "0",
         "10",
         "4.500000000000001"
        ],
        [
         "5",
         "6",
         "0",
         "0",
         "8",
         "5.214285714285715"
        ],
        [
         "6",
         "7",
         "5",
         "0",
         "4",
         "6.642857142857144"
        ],
        [
         "7",
         "8",
         "1",
         "0",
         "1",
         "7.714285714285715"
        ]
       ],
       "shape": {
        "columns": 5,
        "rows": 8
       }
      },
      "text/html": [
       "<div>\n",
       "<style scoped>\n",
       "    .dataframe tbody tr th:only-of-type {\n",
       "        vertical-align: middle;\n",
       "    }\n",
       "\n",
       "    .dataframe tbody tr th {\n",
       "        vertical-align: top;\n",
       "    }\n",
       "\n",
       "    .dataframe thead th {\n",
       "        text-align: right;\n",
       "    }\n",
       "</style>\n",
       "<table border=\"1\" class=\"dataframe\">\n",
       "  <thead>\n",
       "    <tr style=\"text-align: right;\">\n",
       "      <th></th>\n",
       "      <th>Unit</th>\n",
       "      <th>Y</th>\n",
       "      <th>D</th>\n",
       "      <th>X</th>\n",
       "      <th>mu_1</th>\n",
       "    </tr>\n",
       "  </thead>\n",
       "  <tbody>\n",
       "    <tr>\n",
       "      <th>0</th>\n",
       "      <td>1</td>\n",
       "      <td>5</td>\n",
       "      <td>1</td>\n",
       "      <td>11</td>\n",
       "      <td>4.142857</td>\n",
       "    </tr>\n",
       "    <tr>\n",
       "      <th>1</th>\n",
       "      <td>2</td>\n",
       "      <td>2</td>\n",
       "      <td>1</td>\n",
       "      <td>7</td>\n",
       "      <td>5.571429</td>\n",
       "    </tr>\n",
       "    <tr>\n",
       "      <th>2</th>\n",
       "      <td>3</td>\n",
       "      <td>10</td>\n",
       "      <td>1</td>\n",
       "      <td>5</td>\n",
       "      <td>6.285714</td>\n",
       "    </tr>\n",
       "    <tr>\n",
       "      <th>3</th>\n",
       "      <td>4</td>\n",
       "      <td>6</td>\n",
       "      <td>1</td>\n",
       "      <td>3</td>\n",
       "      <td>7.000000</td>\n",
       "    </tr>\n",
       "    <tr>\n",
       "      <th>4</th>\n",
       "      <td>5</td>\n",
       "      <td>4</td>\n",
       "      <td>0</td>\n",
       "      <td>10</td>\n",
       "      <td>4.500000</td>\n",
       "    </tr>\n",
       "    <tr>\n",
       "      <th>5</th>\n",
       "      <td>6</td>\n",
       "      <td>0</td>\n",
       "      <td>0</td>\n",
       "      <td>8</td>\n",
       "      <td>5.214286</td>\n",
       "    </tr>\n",
       "    <tr>\n",
       "      <th>6</th>\n",
       "      <td>7</td>\n",
       "      <td>5</td>\n",
       "      <td>0</td>\n",
       "      <td>4</td>\n",
       "      <td>6.642857</td>\n",
       "    </tr>\n",
       "    <tr>\n",
       "      <th>7</th>\n",
       "      <td>8</td>\n",
       "      <td>1</td>\n",
       "      <td>0</td>\n",
       "      <td>1</td>\n",
       "      <td>7.714286</td>\n",
       "    </tr>\n",
       "  </tbody>\n",
       "</table>\n",
       "</div>"
      ],
      "text/plain": [
       "   Unit   Y  D   X      mu_1\n",
       "0     1   5  1  11  4.142857\n",
       "1     2   2  1   7  5.571429\n",
       "2     3  10  1   5  6.285714\n",
       "3     4   6  1   3  7.000000\n",
       "4     5   4  0  10  4.500000\n",
       "5     6   0  0   8  5.214286\n",
       "6     7   5  0   4  6.642857\n",
       "7     8   1  0   1  7.714286"
      ]
     },
     "execution_count": 9,
     "metadata": {},
     "output_type": "execute_result"
    }
   ],
   "source": [
    "df"
   ]
  },
  {
   "cell_type": "markdown",
   "metadata": {},
   "source": [
    "O que ocorreu aqui é que estimamos $\\mu_{1}(.)$ na subamostra dos tratados, e aplicamos os valores de $X$ e obtivemos os valores previstos respectivos para $Y$ para todos os *i*. Repare que para o caso dos não tratados, imputamos resultados \"caso eles fossem tratados\" (contrafactual para os não tratados!).\n",
    "\n",
    "Vamos fazer o mesmo para o grupo de não tratados."
   ]
  },
  {
   "cell_type": "code",
   "execution_count": 10,
   "metadata": {},
   "outputs": [
    {
     "name": "stdout",
     "output_type": "stream",
     "text": [
      "                            OLS Regression Results                            \n",
      "==============================================================================\n",
      "Dep. Variable:                      Y   R-squared:                       0.015\n",
      "Model:                            OLS   Adj. R-squared:                 -0.478\n",
      "Method:                 Least Squares   F-statistic:                   0.03001\n",
      "Date:                seg, 18 ago 2025   Prob (F-statistic):              0.878\n",
      "Time:                        08:51:36   Log-Likelihood:                -8.5398\n",
      "No. Observations:                   4   AIC:                             21.08\n",
      "Df Residuals:                       2   BIC:                             19.85\n",
      "Df Model:                           1                                         \n",
      "Covariance Type:            nonrobust                                         \n",
      "==============================================================================\n",
      "                 coef    std err          t      P>|t|      [0.025      0.975]\n",
      "------------------------------------------------------------------------------\n",
      "Intercept      2.0872      2.788      0.749      0.532      -9.909      14.083\n",
      "X              0.0718      0.414      0.173      0.878      -1.712       1.855\n",
      "==============================================================================\n",
      "Omnibus:                          nan   Durbin-Watson:                   3.412\n",
      "Prob(Omnibus):                    nan   Jarque-Bera (JB):                0.402\n",
      "Skew:                          -0.018   Prob(JB):                        0.818\n",
      "Kurtosis:                       1.448   Cond. No.                         13.2\n",
      "==============================================================================\n",
      "\n",
      "Notes:\n",
      "[1] Standard Errors assume that the covariance matrix of the errors is correctly specified.\n"
     ]
    },
    {
     "name": "stderr",
     "output_type": "stream",
     "text": [
      "c:\\Users\\danie\\AppData\\Local\\Programs\\Python\\Python311\\Lib\\site-packages\\statsmodels\\stats\\stattools.py:74: ValueWarning: omni_normtest is not valid with less than 8 observations; 4 samples were given.\n",
      "  warn(\"omni_normtest is not valid with less than 8 observations; %i \"\n"
     ]
    }
   ],
   "source": [
    "reg0 = smf.ols('Y ~ X', data=df[df['D'] == 0]).fit()\n",
    "print(reg0.summary())"
   ]
  },
  {
   "cell_type": "markdown",
   "metadata": {},
   "source": [
    "Aqui a relação é diferente:\n",
    "\n",
    "$$ Y = 2.0872 + 0.0718 $$\n",
    "\n",
    "Vamos salvar os valores preditos."
   ]
  },
  {
   "cell_type": "code",
   "execution_count": 11,
   "metadata": {},
   "outputs": [],
   "source": [
    "df['mu_0']= reg0.predict(df)"
   ]
  },
  {
   "cell_type": "code",
   "execution_count": 12,
   "metadata": {},
   "outputs": [
    {
     "data": {
      "application/vnd.microsoft.datawrangler.viewer.v0+json": {
       "columns": [
        {
         "name": "index",
         "rawType": "int64",
         "type": "integer"
        },
        {
         "name": "Unit",
         "rawType": "int8",
         "type": "integer"
        },
        {
         "name": "Y",
         "rawType": "int8",
         "type": "integer"
        },
        {
         "name": "D",
         "rawType": "int8",
         "type": "integer"
        },
        {
         "name": "X",
         "rawType": "int8",
         "type": "integer"
        },
        {
         "name": "mu_1",
         "rawType": "float64",
         "type": "float"
        },
        {
         "name": "mu_0",
         "rawType": "float64",
         "type": "float"
        }
       ],
       "ref": "3bbd2626-e094-4a73-a164-37fe06e87820",
       "rows": [
        [
         "0",
         "1",
         "5",
         "1",
         "11",
         "4.142857142857144",
         "2.8769230769230765"
        ],
        [
         "1",
         "2",
         "2",
         "1",
         "7",
         "5.571428571428573",
         "2.5897435897435894"
        ],
        [
         "2",
         "3",
         "10",
         "1",
         "5",
         "6.2857142857142865",
         "2.4461538461538463"
        ],
        [
         "3",
         "4",
         "6",
         "1",
         "3",
         "7.000000000000002",
         "2.302564102564103"
        ],
        [
         "4",
         "5",
         "4",
         "0",
         "10",
         "4.500000000000001",
         "2.8051282051282045"
        ],
        [
         "5",
         "6",
         "0",
         "0",
         "8",
         "5.214285714285715",
         "2.661538461538461"
        ],
        [
         "6",
         "7",
         "5",
         "0",
         "4",
         "6.642857142857144",
         "2.3743589743589744"
        ],
        [
         "7",
         "8",
         "1",
         "0",
         "1",
         "7.714285714285715",
         "2.1589743589743593"
        ]
       ],
       "shape": {
        "columns": 6,
        "rows": 8
       }
      },
      "text/html": [
       "<div>\n",
       "<style scoped>\n",
       "    .dataframe tbody tr th:only-of-type {\n",
       "        vertical-align: middle;\n",
       "    }\n",
       "\n",
       "    .dataframe tbody tr th {\n",
       "        vertical-align: top;\n",
       "    }\n",
       "\n",
       "    .dataframe thead th {\n",
       "        text-align: right;\n",
       "    }\n",
       "</style>\n",
       "<table border=\"1\" class=\"dataframe\">\n",
       "  <thead>\n",
       "    <tr style=\"text-align: right;\">\n",
       "      <th></th>\n",
       "      <th>Unit</th>\n",
       "      <th>Y</th>\n",
       "      <th>D</th>\n",
       "      <th>X</th>\n",
       "      <th>mu_1</th>\n",
       "      <th>mu_0</th>\n",
       "    </tr>\n",
       "  </thead>\n",
       "  <tbody>\n",
       "    <tr>\n",
       "      <th>0</th>\n",
       "      <td>1</td>\n",
       "      <td>5</td>\n",
       "      <td>1</td>\n",
       "      <td>11</td>\n",
       "      <td>4.142857</td>\n",
       "      <td>2.876923</td>\n",
       "    </tr>\n",
       "    <tr>\n",
       "      <th>1</th>\n",
       "      <td>2</td>\n",
       "      <td>2</td>\n",
       "      <td>1</td>\n",
       "      <td>7</td>\n",
       "      <td>5.571429</td>\n",
       "      <td>2.589744</td>\n",
       "    </tr>\n",
       "    <tr>\n",
       "      <th>2</th>\n",
       "      <td>3</td>\n",
       "      <td>10</td>\n",
       "      <td>1</td>\n",
       "      <td>5</td>\n",
       "      <td>6.285714</td>\n",
       "      <td>2.446154</td>\n",
       "    </tr>\n",
       "    <tr>\n",
       "      <th>3</th>\n",
       "      <td>4</td>\n",
       "      <td>6</td>\n",
       "      <td>1</td>\n",
       "      <td>3</td>\n",
       "      <td>7.000000</td>\n",
       "      <td>2.302564</td>\n",
       "    </tr>\n",
       "    <tr>\n",
       "      <th>4</th>\n",
       "      <td>5</td>\n",
       "      <td>4</td>\n",
       "      <td>0</td>\n",
       "      <td>10</td>\n",
       "      <td>4.500000</td>\n",
       "      <td>2.805128</td>\n",
       "    </tr>\n",
       "    <tr>\n",
       "      <th>5</th>\n",
       "      <td>6</td>\n",
       "      <td>0</td>\n",
       "      <td>0</td>\n",
       "      <td>8</td>\n",
       "      <td>5.214286</td>\n",
       "      <td>2.661538</td>\n",
       "    </tr>\n",
       "    <tr>\n",
       "      <th>6</th>\n",
       "      <td>7</td>\n",
       "      <td>5</td>\n",
       "      <td>0</td>\n",
       "      <td>4</td>\n",
       "      <td>6.642857</td>\n",
       "      <td>2.374359</td>\n",
       "    </tr>\n",
       "    <tr>\n",
       "      <th>7</th>\n",
       "      <td>8</td>\n",
       "      <td>1</td>\n",
       "      <td>0</td>\n",
       "      <td>1</td>\n",
       "      <td>7.714286</td>\n",
       "      <td>2.158974</td>\n",
       "    </tr>\n",
       "  </tbody>\n",
       "</table>\n",
       "</div>"
      ],
      "text/plain": [
       "   Unit   Y  D   X      mu_1      mu_0\n",
       "0     1   5  1  11  4.142857  2.876923\n",
       "1     2   2  1   7  5.571429  2.589744\n",
       "2     3  10  1   5  6.285714  2.446154\n",
       "3     4   6  1   3  7.000000  2.302564\n",
       "4     5   4  0  10  4.500000  2.805128\n",
       "5     6   0  0   8  5.214286  2.661538\n",
       "6     7   5  0   4  6.642857  2.374359\n",
       "7     8   1  0   1  7.714286  2.158974"
      ]
     },
     "execution_count": 12,
     "metadata": {},
     "output_type": "execute_result"
    }
   ],
   "source": [
    "df"
   ]
  },
  {
   "cell_type": "markdown",
   "metadata": {},
   "source": [
    "O que fizemos aqui foi modelar a relação entre $Y$ e $X$ para o grupo de controle de forma linear. Identificado os parâmetros dessa relação, pegamos os valores previstos para todos os indivíduos *i*, tanto os não tratados, quanto os tratados. Para os tratados, esses valores representam o seu contrafactual.\n",
    "\n",
    "Essa abordagem recebe o nome de ***imputação dupla*** (ou bilateral)."
   ]
  },
  {
   "cell_type": "markdown",
   "metadata": {},
   "source": [
    "Agora podemos calcular o efeito médio do tratamento (ATE) nos valores previstos de $\\hat{Y}^{1}$ ($\\hat{\\mu}_{1}$) e $\\hat{Y}^{0}$ ($\\hat{\\mu}_{0}$), e então estimar o efeito médio do tratamento.\n",
    "\n",
    "\n",
    "$$ATE = E[\\tau_{i}] = E[Y_{i}^{1} - Y_{i}^{0}]$$\n",
    "\n",
    "ou seja,\n",
    "\n",
    "$$ \\hat{ATE} = \\frac{1}{N} \\sum_{i=1}^{N} \\left( \\hat{Y}_{i}^{1} - \\hat{Y}_{i}^{0} \\right) =  \\frac{1}{N} \\sum_{i=1}^{N} \\left( \\hat{\\mu}_{i}^{1} - \\hat{\\mu}_{i}^{0} \\right) $$\n"
   ]
  },
  {
   "cell_type": "code",
   "execution_count": 13,
   "metadata": {},
   "outputs": [],
   "source": [
    "# adicionando a coluna com o valor ITE previsto (tau_previsto)\n",
    "df['tau_previsto'] = df['mu_1'] - df['mu_0']"
   ]
  },
  {
   "cell_type": "code",
   "execution_count": 14,
   "metadata": {},
   "outputs": [
    {
     "data": {
      "application/vnd.microsoft.datawrangler.viewer.v0+json": {
       "columns": [
        {
         "name": "index",
         "rawType": "int64",
         "type": "integer"
        },
        {
         "name": "Unit",
         "rawType": "int8",
         "type": "integer"
        },
        {
         "name": "Y",
         "rawType": "int8",
         "type": "integer"
        },
        {
         "name": "D",
         "rawType": "int8",
         "type": "integer"
        },
        {
         "name": "X",
         "rawType": "int8",
         "type": "integer"
        },
        {
         "name": "mu_1",
         "rawType": "float64",
         "type": "float"
        },
        {
         "name": "mu_0",
         "rawType": "float64",
         "type": "float"
        },
        {
         "name": "tau_previsto",
         "rawType": "float64",
         "type": "float"
        }
       ],
       "ref": "3f0861d8-5e6a-4e17-91c5-4ada0381c87c",
       "rows": [
        [
         "0",
         "1",
         "5",
         "1",
         "11",
         "4.142857142857144",
         "2.8769230769230765",
         "1.2659340659340677"
        ],
        [
         "1",
         "2",
         "2",
         "1",
         "7",
         "5.571428571428573",
         "2.5897435897435894",
         "2.9816849816849835"
        ],
        [
         "2",
         "3",
         "10",
         "1",
         "5",
         "6.2857142857142865",
         "2.4461538461538463",
         "3.83956043956044"
        ],
        [
         "3",
         "4",
         "6",
         "1",
         "3",
         "7.000000000000002",
         "2.302564102564103",
         "4.6974358974358985"
        ],
        [
         "4",
         "5",
         "4",
         "0",
         "10",
         "4.500000000000001",
         "2.8051282051282045",
         "1.6948717948717964"
        ],
        [
         "5",
         "6",
         "0",
         "0",
         "8",
         "5.214285714285715",
         "2.661538461538461",
         "2.5527472527472543"
        ],
        [
         "6",
         "7",
         "5",
         "0",
         "4",
         "6.642857142857144",
         "2.3743589743589744",
         "4.268498168498169"
        ],
        [
         "7",
         "8",
         "1",
         "0",
         "1",
         "7.714285714285715",
         "2.1589743589743593",
         "5.555311355311356"
        ]
       ],
       "shape": {
        "columns": 7,
        "rows": 8
       }
      },
      "text/html": [
       "<div>\n",
       "<style scoped>\n",
       "    .dataframe tbody tr th:only-of-type {\n",
       "        vertical-align: middle;\n",
       "    }\n",
       "\n",
       "    .dataframe tbody tr th {\n",
       "        vertical-align: top;\n",
       "    }\n",
       "\n",
       "    .dataframe thead th {\n",
       "        text-align: right;\n",
       "    }\n",
       "</style>\n",
       "<table border=\"1\" class=\"dataframe\">\n",
       "  <thead>\n",
       "    <tr style=\"text-align: right;\">\n",
       "      <th></th>\n",
       "      <th>Unit</th>\n",
       "      <th>Y</th>\n",
       "      <th>D</th>\n",
       "      <th>X</th>\n",
       "      <th>mu_1</th>\n",
       "      <th>mu_0</th>\n",
       "      <th>tau_previsto</th>\n",
       "    </tr>\n",
       "  </thead>\n",
       "  <tbody>\n",
       "    <tr>\n",
       "      <th>0</th>\n",
       "      <td>1</td>\n",
       "      <td>5</td>\n",
       "      <td>1</td>\n",
       "      <td>11</td>\n",
       "      <td>4.142857</td>\n",
       "      <td>2.876923</td>\n",
       "      <td>1.265934</td>\n",
       "    </tr>\n",
       "    <tr>\n",
       "      <th>1</th>\n",
       "      <td>2</td>\n",
       "      <td>2</td>\n",
       "      <td>1</td>\n",
       "      <td>7</td>\n",
       "      <td>5.571429</td>\n",
       "      <td>2.589744</td>\n",
       "      <td>2.981685</td>\n",
       "    </tr>\n",
       "    <tr>\n",
       "      <th>2</th>\n",
       "      <td>3</td>\n",
       "      <td>10</td>\n",
       "      <td>1</td>\n",
       "      <td>5</td>\n",
       "      <td>6.285714</td>\n",
       "      <td>2.446154</td>\n",
       "      <td>3.839560</td>\n",
       "    </tr>\n",
       "    <tr>\n",
       "      <th>3</th>\n",
       "      <td>4</td>\n",
       "      <td>6</td>\n",
       "      <td>1</td>\n",
       "      <td>3</td>\n",
       "      <td>7.000000</td>\n",
       "      <td>2.302564</td>\n",
       "      <td>4.697436</td>\n",
       "    </tr>\n",
       "    <tr>\n",
       "      <th>4</th>\n",
       "      <td>5</td>\n",
       "      <td>4</td>\n",
       "      <td>0</td>\n",
       "      <td>10</td>\n",
       "      <td>4.500000</td>\n",
       "      <td>2.805128</td>\n",
       "      <td>1.694872</td>\n",
       "    </tr>\n",
       "    <tr>\n",
       "      <th>5</th>\n",
       "      <td>6</td>\n",
       "      <td>0</td>\n",
       "      <td>0</td>\n",
       "      <td>8</td>\n",
       "      <td>5.214286</td>\n",
       "      <td>2.661538</td>\n",
       "      <td>2.552747</td>\n",
       "    </tr>\n",
       "    <tr>\n",
       "      <th>6</th>\n",
       "      <td>7</td>\n",
       "      <td>5</td>\n",
       "      <td>0</td>\n",
       "      <td>4</td>\n",
       "      <td>6.642857</td>\n",
       "      <td>2.374359</td>\n",
       "      <td>4.268498</td>\n",
       "    </tr>\n",
       "    <tr>\n",
       "      <th>7</th>\n",
       "      <td>8</td>\n",
       "      <td>1</td>\n",
       "      <td>0</td>\n",
       "      <td>1</td>\n",
       "      <td>7.714286</td>\n",
       "      <td>2.158974</td>\n",
       "      <td>5.555311</td>\n",
       "    </tr>\n",
       "  </tbody>\n",
       "</table>\n",
       "</div>"
      ],
      "text/plain": [
       "   Unit   Y  D   X      mu_1      mu_0  tau_previsto\n",
       "0     1   5  1  11  4.142857  2.876923      1.265934\n",
       "1     2   2  1   7  5.571429  2.589744      2.981685\n",
       "2     3  10  1   5  6.285714  2.446154      3.839560\n",
       "3     4   6  1   3  7.000000  2.302564      4.697436\n",
       "4     5   4  0  10  4.500000  2.805128      1.694872\n",
       "5     6   0  0   8  5.214286  2.661538      2.552747\n",
       "6     7   5  0   4  6.642857  2.374359      4.268498\n",
       "7     8   1  0   1  7.714286  2.158974      5.555311"
      ]
     },
     "execution_count": 14,
     "metadata": {},
     "output_type": "execute_result"
    }
   ],
   "source": [
    "# Ver o dataframe\n",
    "df"
   ]
  },
  {
   "cell_type": "markdown",
   "metadata": {},
   "source": [
    "Bem, para calcular o ATE, pelo método de Outcome Regression basta fazer a média dos ITE encontrados."
   ]
  },
  {
   "cell_type": "code",
   "execution_count": 15,
   "metadata": {},
   "outputs": [
    {
     "name": "stdout",
     "output_type": "stream",
     "text": [
      "\n",
      "Efeito Médio do Tratamento (ATE) estimado: 3.3570054945054957\n"
     ]
    }
   ],
   "source": [
    "ATE = df['tau_previsto'].mean()\n",
    "print(f\"\\nEfeito Médio do Tratamento (ATE) estimado: {ATE}\")"
   ]
  },
  {
   "cell_type": "markdown",
   "metadata": {},
   "source": [
    "**E o ATT e o ATC?**\n",
    "\n",
    "Podemos também estimar o efeito médio do tratamento para os tratados (ATT) e o efeito médio do tratamento para os não tratados (ATU), que são definidos como:\n",
    "\n",
    "$$ATT = E[Y_{i}^{1} - Y_{i}^{0} | D = 1]$$\n",
    "\n",
    "$$ATU = E[Y_{i}^{1} - Y_{i}^{0} | D = 0]$$\n",
    "\n"
   ]
  },
  {
   "cell_type": "code",
   "execution_count": 16,
   "metadata": {},
   "outputs": [],
   "source": [
    "# Calculando o ATT (média dos tau_previsto para D=1)\n",
    "ATT = df[df['D'] == 1]['tau_previsto'].mean()\n",
    "\n",
    "# Calculando o ATU (média dos tau_previsto para D=0)\n",
    "ATU = df[df['D'] == 0]['tau_previsto'].mean()"
   ]
  },
  {
   "cell_type": "code",
   "execution_count": 17,
   "metadata": {},
   "outputs": [
    {
     "name": "stdout",
     "output_type": "stream",
     "text": [
      "Efeito Médio do Tratamento (ATE): 3.3570054945054957\n",
      "Efeito Médio do Tratamento sobre os Tratados (ATT): 3.1961538461538472\n",
      "Efeito Médio do Tratamento sobre os Não-Tratados (ATU): 3.517857142857144\n"
     ]
    }
   ],
   "source": [
    "# Exibindo os resultados\n",
    "print(f\"Efeito Médio do Tratamento (ATE): {ATE}\")\n",
    "print(f\"Efeito Médio do Tratamento sobre os Tratados (ATT): {ATT}\")\n",
    "print(f\"Efeito Médio do Tratamento sobre os Não-Tratados (ATU): {ATU}\")"
   ]
  },
  {
   "cell_type": "markdown",
   "metadata": {},
   "source": [
    "**Interpretação dos Resultados**\n",
    "\n",
    "* **ATE (Efeito Médio do Tratamento):** Estimado em aproximadamente 3.36, indica o efeito médio esperado do tratamento na população geral.\n",
    "\n",
    "* **ATT (Efeito Médio sobre os Tratados):** Estimado em aproximadamente 3.20, sugere que, para as unidades que receberam o tratamento, o efeito médio do tratamento é um aumento de 3.20 unidades em Y, comparado com elas mesmo caso não tivessem sido tratadas (contrafactual).\n",
    "\n",
    "* **ATU (Efeito Médio sobre os Não-Tratados)**: Estimado em aproximadamente 3.52, indica que, se as unidades não tratadas tivessem recebido o tratamento, o efeito médio esperado seria um aumento de 3.52 unidades em Y."
   ]
  },
  {
   "cell_type": "markdown",
   "metadata": {},
   "source": [
    "***Outcome regression com imputação unilateral***\n",
    "\n",
    "Mas poderíamos imputar apenas os dados faltantes? A resposta é sim.\n",
    "\n",
    "Nós queremos:\n",
    "* ATT (OR unilateral para os tratados): queremos manter os valores reais de Y para os tratados, e imputar o seu contrafactual $Y^{0}$.\n",
    "* ATU (OR unilateral para os não-tratados): queremos manter os valores reais de Y para os não tratados, e imputar o seu contrafactual $Y^{1}$.\n",
    "\n",
    "Para encontrar o ATE, devemos considerar:\n",
    "\n",
    "$$ ATE = \\phi ATT + (1-\\phi)ATU $$\n",
    "\n",
    "\n",
    "para aplicar a ideia unilateral, no caso do exemplo aplicado em python."
   ]
  },
  {
   "cell_type": "markdown",
   "metadata": {},
   "source": [
    "**ATT (unilateral para tratados)**  \n",
    "\n",
    "Repare que aqui consideramos os valores observados de *i* contra a previsão do seu contrafactual.\n",
    "\n",
    "$$ \\hat{ATT} = \\frac{1}{4} \\sum_{i:D=1} (Y_i - \\widehat{Y}^0_i) $$\n",
    "\n",
    "- Unidade 1: $11 - 2.876923 = 8.123077$  \n",
    "- Unidade 2: $7 - 2.589744 = 4.410256$  \n",
    "- Unidade 3: $5 - 2.446154 = 2.553846$  \n",
    "- Unidade 4: $3 - 2.302564 = 0.697436$  \n",
    "\n",
    "Soma = $15.784615$; \n",
    "\n",
    "Média = **3.946154**\n",
    "\n",
    "**ATU (unilateral para os não-tratados)**  \n",
    "\n",
    "Aqui, de forma semelhante, consideramos os valores observados dos não tratados contra seu contrafactual.\n",
    "\n",
    "\n",
    "$$ \\hat{ATU} = \\frac{1}{4} \\sum_{i:D=0} (\\widehat{Y}^1_i - Y_i) $$\n",
    "\n",
    "- Unidade 5: $4.5 - 10 = -5.5$\n",
    "- Unidade 6: $5.214286 - 8 = -2.785714$\n",
    "- Unidade 7: $6.642857 - 4 = 2.642857$  \n",
    "- Unidade 8: $7.714286 - 1 = 6.714286$  \n",
    "\n",
    "Soma = $1.071429$. \n",
    "\n",
    "Média = **0.267857**.\n",
    "\n",
    "\n",
    "**ATE via combinação**  \n",
    "\n",
    "Como sabemos, o ATE é calculado pela média ponderada entre ATT e ATU. Com a proporção tratados dada por $\\phi = 4/8 = 0.5$:  \n",
    "\n",
    "\n",
    "$$ \\hat{ATE} = (0.5) \\cdot 3.946154 + (0.5) \\cdot 0.267857 $$\n",
    "\n",
    "$\\hat{ATE} = 2.1070055$\n",
    "\n",
    "Em comparação com o **ATE via dupla imputação**  feito anteriormente:\n",
    "\n",
    "$$ \\hat{ATE}_{DI} = \\frac{1}{8} \\sum_{i=1}^8 (\\widehat{Y}^1_i - \\widehat{Y}^0_i) = 3.3570056$$\n",
    "\n",
    "Os dois valores não coincidem aqui porque estamos em amostra finita e cada método está usando modelos diferentes para prever $Y^1$ e $Y^0$ (um unilateral para cada grupo, outro bilateral para todos). Teoricamente, se os modelos fossem as verdadeiras médias condicionais, eles coincidiriam.\n"
   ]
  },
  {
   "cell_type": "markdown",
   "metadata": {},
   "source": [
    "### Aplicação no Python\n",
    "\n",
    "Vamos fazer um exemplo prático no Python, com os dados das mães fumantes e não fumantes durante a gestação, e o peso dos bebês ao nascer. \n",
    "\n",
    "Vamos fazer:\n",
    "* a análise bilateral, e \n",
    "* a análise unilateral.\n",
    "\n",
    "e verificar se os resultados se equivalem.\n",
    "\n",
    "\n",
    "Pacotes necessários:"
   ]
  },
  {
   "cell_type": "code",
   "execution_count": 18,
   "metadata": {},
   "outputs": [],
   "source": [
    "import pandas as pd\n",
    "import numpy as np\n",
    "from sklearn.linear_model import LinearRegression"
   ]
  },
  {
   "cell_type": "markdown",
   "metadata": {},
   "source": [
    "Carregando os dados de peso dos bebês ao nascer:"
   ]
  },
  {
   "cell_type": "code",
   "execution_count": 19,
   "metadata": {},
   "outputs": [],
   "source": [
    "# DataFrame \"data\"\n",
    "data = pd.read_stata(\"https://github.com/Daniel-Uhr/data/raw/main/cattaneo2.dta\")"
   ]
  },
  {
   "cell_type": "code",
   "execution_count": 20,
   "metadata": {},
   "outputs": [
    {
     "data": {
      "application/vnd.microsoft.datawrangler.viewer.v0+json": {
       "columns": [
        {
         "name": "index",
         "rawType": "int64",
         "type": "integer"
        },
        {
         "name": "bweight",
         "rawType": "int16",
         "type": "integer"
        },
        {
         "name": "mmarried",
         "rawType": "category",
         "type": "unknown"
        },
        {
         "name": "mhisp",
         "rawType": "int8",
         "type": "integer"
        },
        {
         "name": "fhisp",
         "rawType": "int8",
         "type": "integer"
        },
        {
         "name": "foreign",
         "rawType": "int8",
         "type": "integer"
        },
        {
         "name": "alcohol",
         "rawType": "int8",
         "type": "integer"
        },
        {
         "name": "deadkids",
         "rawType": "int8",
         "type": "integer"
        },
        {
         "name": "mage",
         "rawType": "int8",
         "type": "integer"
        },
        {
         "name": "medu",
         "rawType": "int8",
         "type": "integer"
        },
        {
         "name": "fage",
         "rawType": "int8",
         "type": "integer"
        },
        {
         "name": "fedu",
         "rawType": "int8",
         "type": "integer"
        },
        {
         "name": "nprenatal",
         "rawType": "int8",
         "type": "integer"
        },
        {
         "name": "monthslb",
         "rawType": "int16",
         "type": "integer"
        },
        {
         "name": "order",
         "rawType": "int8",
         "type": "integer"
        },
        {
         "name": "msmoke",
         "rawType": "category",
         "type": "unknown"
        },
        {
         "name": "mbsmoke",
         "rawType": "category",
         "type": "unknown"
        },
        {
         "name": "mrace",
         "rawType": "int8",
         "type": "integer"
        },
        {
         "name": "frace",
         "rawType": "int8",
         "type": "integer"
        },
        {
         "name": "prenatal",
         "rawType": "int8",
         "type": "integer"
        },
        {
         "name": "birthmonth",
         "rawType": "int8",
         "type": "integer"
        },
        {
         "name": "lbweight",
         "rawType": "int8",
         "type": "integer"
        },
        {
         "name": "fbaby",
         "rawType": "category",
         "type": "unknown"
        },
        {
         "name": "prenatal1",
         "rawType": "category",
         "type": "unknown"
        }
       ],
       "ref": "7b28b1fb-5ca0-4f25-b8be-64a69d2ee24a",
       "rows": [
        [
         "0",
         "3459",
         "married",
         "0",
         "0",
         "0",
         "0",
         "0",
         "24",
         "14",
         "28",
         "16",
         "10",
         "30",
         "2",
         "0 daily",
         "nonsmoker",
         "1",
         "1",
         "1",
         "12",
         "0",
         "No",
         "Yes"
        ],
        [
         "1",
         "3260",
         "notmarried",
         "0",
         "0",
         "1",
         "0",
         "0",
         "20",
         "10",
         "0",
         "0",
         "6",
         "42",
         "3",
         "0 daily",
         "nonsmoker",
         "0",
         "0",
         "1",
         "7",
         "0",
         "No",
         "Yes"
        ],
        [
         "2",
         "3572",
         "married",
         "0",
         "0",
         "1",
         "0",
         "0",
         "22",
         "9",
         "30",
         "9",
         "10",
         "17",
         "3",
         "0 daily",
         "nonsmoker",
         "1",
         "1",
         "1",
         "3",
         "0",
         "No",
         "Yes"
        ],
        [
         "3",
         "2948",
         "married",
         "0",
         "0",
         "0",
         "0",
         "0",
         "26",
         "12",
         "30",
         "12",
         "10",
         "34",
         "2",
         "0 daily",
         "nonsmoker",
         "1",
         "1",
         "1",
         "1",
         "0",
         "No",
         "Yes"
        ],
        [
         "4",
         "2410",
         "married",
         "0",
         "0",
         "0",
         "0",
         "0",
         "20",
         "12",
         "21",
         "14",
         "12",
         "0",
         "1",
         "0 daily",
         "nonsmoker",
         "1",
         "1",
         "1",
         "3",
         "1",
         "Yes",
         "Yes"
        ],
        [
         "5",
         "3147",
         "notmarried",
         "0",
         "0",
         "0",
         "0",
         "0",
         "27",
         "12",
         "40",
         "12",
         "9",
         "0",
         "1",
         "0 daily",
         "nonsmoker",
         "1",
         "1",
         "1",
         "4",
         "0",
         "Yes",
         "Yes"
        ],
        [
         "6",
         "3799",
         "married",
         "0",
         "0",
         "0",
         "0",
         "0",
         "27",
         "12",
         "29",
         "14",
         "16",
         "29",
         "3",
         "0 daily",
         "nonsmoker",
         "1",
         "1",
         "1",
         "12",
         "0",
         "No",
         "Yes"
        ],
        [
         "7",
         "3629",
         "married",
         "0",
         "0",
         "0",
         "0",
         "0",
         "24",
         "12",
         "33",
         "12",
         "11",
         "0",
         "1",
         "0 daily",
         "nonsmoker",
         "1",
         "1",
         "1",
         "6",
         "0",
         "Yes",
         "Yes"
        ],
        [
         "8",
         "2835",
         "married",
         "0",
         "0",
         "0",
         "0",
         "0",
         "21",
         "12",
         "24",
         "9",
         "20",
         "0",
         "1",
         "0 daily",
         "nonsmoker",
         "1",
         "1",
         "1",
         "6",
         "0",
         "Yes",
         "Yes"
        ],
        [
         "9",
         "3880",
         "married",
         "0",
         "0",
         "0",
         "0",
         "0",
         "30",
         "15",
         "33",
         "15",
         "9",
         "27",
         "2",
         "0 daily",
         "nonsmoker",
         "1",
         "1",
         "1",
         "12",
         "0",
         "No",
         "Yes"
        ],
        [
         "10",
         "3090",
         "married",
         "0",
         "0",
         "0",
         "0",
         "0",
         "26",
         "12",
         "31",
         "14",
         "14",
         "0",
         "1",
         "11+ daily",
         "smoker",
         "1",
         "1",
         "1",
         "8",
         "0",
         "Yes",
         "Yes"
        ],
        [
         "11",
         "3345",
         "notmarried",
         "0",
         "0",
         "0",
         "0",
         "1",
         "20",
         "12",
         "22",
         "12",
         "5",
         "0",
         "1",
         "0 daily",
         "nonsmoker",
         "0",
         "0",
         "1",
         "3",
         "0",
         "Yes",
         "Yes"
        ],
        [
         "12",
         "4013",
         "married",
         "0",
         "0",
         "0",
         "0",
         "0",
         "34",
         "14",
         "29",
         "14",
         "13",
         "26",
         "2",
         "0 daily",
         "nonsmoker",
         "1",
         "1",
         "1",
         "9",
         "0",
         "No",
         "Yes"
        ],
        [
         "13",
         "3771",
         "married",
         "0",
         "0",
         "0",
         "0",
         "0",
         "21",
         "8",
         "26",
         "8",
         "8",
         "0",
         "1",
         "0 daily",
         "nonsmoker",
         "1",
         "1",
         "1",
         "8",
         "0",
         "Yes",
         "Yes"
        ],
        [
         "14",
         "662",
         "notmarried",
         "0",
         "0",
         "0",
         "0",
         "0",
         "23",
         "12",
         "27",
         "12",
         "4",
         "0",
         "1",
         "0 daily",
         "nonsmoker",
         "0",
         "0",
         "2",
         "11",
         "1",
         "Yes",
         "No"
        ],
        [
         "15",
         "3657",
         "married",
         "0",
         "0",
         "0",
         "0",
         "0",
         "22",
         "12",
         "21",
         "11",
         "10",
         "21",
         "2",
         "0 daily",
         "nonsmoker",
         "1",
         "1",
         "1",
         "10",
         "0",
         "No",
         "Yes"
        ],
        [
         "16",
         "3572",
         "married",
         "0",
         "0",
         "0",
         "0",
         "0",
         "26",
         "12",
         "26",
         "13",
         "13",
         "33",
         "2",
         "0 daily",
         "nonsmoker",
         "1",
         "1",
         "1",
         "7",
         "0",
         "No",
         "Yes"
        ],
        [
         "17",
         "3430",
         "married",
         "0",
         "0",
         "0",
         "0",
         "0",
         "40",
         "16",
         "37",
         "16",
         "7",
         "99",
         "5",
         "0 daily",
         "nonsmoker",
         "1",
         "1",
         "1",
         "8",
         "0",
         "No",
         "Yes"
        ],
        [
         "18",
         "4479",
         "married",
         "0",
         "0",
         "0",
         "0",
         "0",
         "34",
         "12",
         "35",
         "12",
         "6",
         "24",
         "2",
         "0 daily",
         "nonsmoker",
         "1",
         "1",
         "1",
         "3",
         "0",
         "No",
         "Yes"
        ],
        [
         "19",
         "3166",
         "notmarried",
         "0",
         "0",
         "0",
         "0",
         "1",
         "27",
         "12",
         "31",
         "12",
         "2",
         "24",
         "3",
         "6-10 daily",
         "smoker",
         "0",
         "0",
         "2",
         "12",
         "0",
         "No",
         "No"
        ],
        [
         "20",
         "4253",
         "married",
         "0",
         "0",
         "0",
         "0",
         "0",
         "33",
         "12",
         "38",
         "16",
         "12",
         "45",
         "2",
         "0 daily",
         "nonsmoker",
         "1",
         "1",
         "1",
         "9",
         "0",
         "No",
         "Yes"
        ],
        [
         "21",
         "4054",
         "married",
         "0",
         "0",
         "0",
         "0",
         "0",
         "27",
         "14",
         "29",
         "16",
         "10",
         "0",
         "1",
         "0 daily",
         "nonsmoker",
         "1",
         "1",
         "1",
         "9",
         "0",
         "Yes",
         "Yes"
        ],
        [
         "22",
         "3160",
         "married",
         "0",
         "0",
         "0",
         "0",
         "0",
         "25",
         "12",
         "25",
         "12",
         "13",
         "0",
         "1",
         "0 daily",
         "nonsmoker",
         "1",
         "1",
         "1",
         "11",
         "0",
         "Yes",
         "Yes"
        ],
        [
         "23",
         "2466",
         "married",
         "0",
         "0",
         "0",
         "0",
         "0",
         "22",
         "12",
         "29",
         "13",
         "11",
         "24",
         "2",
         "0 daily",
         "nonsmoker",
         "1",
         "1",
         "1",
         "11",
         "1",
         "No",
         "Yes"
        ],
        [
         "24",
         "3147",
         "married",
         "0",
         "0",
         "0",
         "0",
         "0",
         "19",
         "10",
         "20",
         "12",
         "10",
         "0",
         "1",
         "11+ daily",
         "smoker",
         "1",
         "1",
         "2",
         "11",
         "0",
         "Yes",
         "No"
        ],
        [
         "25",
         "3232",
         "married",
         "0",
         "0",
         "0",
         "0",
         "0",
         "33",
         "14",
         "30",
         "17",
         "7",
         "33",
         "2",
         "0 daily",
         "nonsmoker",
         "1",
         "1",
         "1",
         "5",
         "0",
         "No",
         "Yes"
        ],
        [
         "26",
         "3005",
         "married",
         "0",
         "0",
         "0",
         "0",
         "0",
         "19",
         "12",
         "20",
         "12",
         "12",
         "0",
         "1",
         "0 daily",
         "nonsmoker",
         "1",
         "1",
         "1",
         "2",
         "0",
         "Yes",
         "Yes"
        ],
        [
         "27",
         "1899",
         "married",
         "0",
         "0",
         "0",
         "0",
         "0",
         "36",
         "17",
         "45",
         "16",
         "12",
         "21",
         "2",
         "0 daily",
         "nonsmoker",
         "1",
         "1",
         "1",
         "9",
         "1",
         "No",
         "Yes"
        ],
        [
         "28",
         "4026",
         "married",
         "0",
         "0",
         "0",
         "0",
         "1",
         "33",
         "14",
         "28",
         "16",
         "9",
         "0",
         "1",
         "0 daily",
         "nonsmoker",
         "1",
         "1",
         "1",
         "3",
         "0",
         "Yes",
         "Yes"
        ],
        [
         "29",
         "3969",
         "notmarried",
         "0",
         "0",
         "0",
         "0",
         "0",
         "26",
         "12",
         "27",
         "13",
         "9",
         "0",
         "1",
         "0 daily",
         "nonsmoker",
         "1",
         "1",
         "2",
         "10",
         "0",
         "Yes",
         "No"
        ],
        [
         "30",
         "4167",
         "notmarried",
         "0",
         "0",
         "0",
         "0",
         "0",
         "19",
         "9",
         "21",
         "10",
         "12",
         "35",
         "2",
         "0 daily",
         "nonsmoker",
         "1",
         "1",
         "1",
         "2",
         "0",
         "No",
         "Yes"
        ],
        [
         "31",
         "4054",
         "notmarried",
         "0",
         "0",
         "0",
         "1",
         "0",
         "32",
         "16",
         "36",
         "13",
         "15",
         "79",
         "2",
         "0 daily",
         "nonsmoker",
         "0",
         "0",
         "1",
         "10",
         "0",
         "No",
         "Yes"
        ],
        [
         "32",
         "3660",
         "notmarried",
         "0",
         "0",
         "0",
         "0",
         "0",
         "28",
         "15",
         "0",
         "12",
         "13",
         "58",
         "2",
         "0 daily",
         "nonsmoker",
         "1",
         "1",
         "1",
         "3",
         "0",
         "No",
         "Yes"
        ],
        [
         "33",
         "3997",
         "married",
         "0",
         "0",
         "0",
         "0",
         "0",
         "31",
         "16",
         "30",
         "16",
         "22",
         "0",
         "1",
         "0 daily",
         "nonsmoker",
         "1",
         "1",
         "1",
         "5",
         "0",
         "Yes",
         "Yes"
        ],
        [
         "34",
         "3980",
         "married",
         "0",
         "0",
         "0",
         "0",
         "0",
         "37",
         "13",
         "35",
         "13",
         "8",
         "0",
         "1",
         "0 daily",
         "nonsmoker",
         "1",
         "1",
         "2",
         "9",
         "0",
         "Yes",
         "No"
        ],
        [
         "35",
         "4111",
         "notmarried",
         "0",
         "0",
         "0",
         "0",
         "0",
         "17",
         "10",
         "21",
         "12",
         "10",
         "0",
         "1",
         "0 daily",
         "nonsmoker",
         "0",
         "0",
         "2",
         "3",
         "0",
         "Yes",
         "No"
        ],
        [
         "36",
         "3090",
         "married",
         "0",
         "0",
         "1",
         "0",
         "0",
         "30",
         "12",
         "33",
         "14",
         "17",
         "0",
         "2",
         "0 daily",
         "nonsmoker",
         "1",
         "1",
         "1",
         "2",
         "0",
         "No",
         "Yes"
        ],
        [
         "37",
         "4082",
         "married",
         "0",
         "0",
         "0",
         "0",
         "1",
         "30",
         "12",
         "32",
         "12",
         "12",
         "118",
         "2",
         "0 daily",
         "nonsmoker",
         "1",
         "1",
         "1",
         "5",
         "0",
         "No",
         "Yes"
        ],
        [
         "38",
         "4196",
         "married",
         "0",
         "0",
         "0",
         "0",
         "0",
         "21",
         "14",
         "24",
         "14",
         "15",
         "16",
         "2",
         "0 daily",
         "nonsmoker",
         "1",
         "1",
         "1",
         "2",
         "0",
         "No",
         "Yes"
        ],
        [
         "39",
         "2790",
         "married",
         "0",
         "0",
         "0",
         "0",
         "0",
         "29",
         "17",
         "30",
         "17",
         "8",
         "0",
         "1",
         "0 daily",
         "nonsmoker",
         "1",
         "1",
         "1",
         "2",
         "0",
         "Yes",
         "Yes"
        ],
        [
         "40",
         "4082",
         "married",
         "0",
         "0",
         "0",
         "0",
         "0",
         "30",
         "12",
         "31",
         "17",
         "12",
         "0",
         "1",
         "0 daily",
         "nonsmoker",
         "1",
         "1",
         "1",
         "2",
         "0",
         "Yes",
         "Yes"
        ],
        [
         "41",
         "3089",
         "married",
         "0",
         "0",
         "0",
         "0",
         "0",
         "27",
         "17",
         "37",
         "12",
         "9",
         "76",
         "3",
         "0 daily",
         "nonsmoker",
         "1",
         "1",
         "1",
         "9",
         "0",
         "No",
         "Yes"
        ],
        [
         "42",
         "2580",
         "notmarried",
         "0",
         "0",
         "0",
         "0",
         "0",
         "18",
         "10",
         "0",
         "0",
         "14",
         "0",
         "1",
         "11+ daily",
         "smoker",
         "1",
         "0",
         "2",
         "6",
         "0",
         "Yes",
         "No"
        ],
        [
         "43",
         "3714",
         "married",
         "0",
         "0",
         "0",
         "0",
         "0",
         "35",
         "14",
         "33",
         "17",
         "14",
         "20",
         "3",
         "0 daily",
         "nonsmoker",
         "1",
         "1",
         "1",
         "9",
         "0",
         "No",
         "Yes"
        ],
        [
         "44",
         "4196",
         "married",
         "0",
         "0",
         "0",
         "0",
         "0",
         "35",
         "16",
         "35",
         "17",
         "12",
         "25",
         "2",
         "0 daily",
         "nonsmoker",
         "1",
         "1",
         "1",
         "2",
         "0",
         "No",
         "Yes"
        ],
        [
         "45",
         "2523",
         "notmarried",
         "0",
         "0",
         "0",
         "0",
         "0",
         "16",
         "9",
         "19",
         "12",
         "14",
         "0",
         "1",
         "0 daily",
         "nonsmoker",
         "1",
         "1",
         "1",
         "3",
         "0",
         "Yes",
         "Yes"
        ],
        [
         "46",
         "2693",
         "notmarried",
         "0",
         "0",
         "0",
         "0",
         "1",
         "25",
         "12",
         "28",
         "12",
         "13",
         "76",
         "2",
         "11+ daily",
         "smoker",
         "1",
         "1",
         "1",
         "11",
         "0",
         "No",
         "Yes"
        ],
        [
         "47",
         "3204",
         "married",
         "0",
         "0",
         "0",
         "0",
         "0",
         "27",
         "16",
         "33",
         "17",
         "12",
         "0",
         "1",
         "0 daily",
         "nonsmoker",
         "1",
         "1",
         "1",
         "9",
         "0",
         "Yes",
         "Yes"
        ],
        [
         "48",
         "3572",
         "notmarried",
         "0",
         "0",
         "0",
         "0",
         "1",
         "19",
         "12",
         "20",
         "12",
         "12",
         "0",
         "1",
         "11+ daily",
         "smoker",
         "1",
         "1",
         "1",
         "1",
         "0",
         "Yes",
         "Yes"
        ],
        [
         "49",
         "3385",
         "married",
         "0",
         "0",
         "0",
         "0",
         "0",
         "21",
         "12",
         "21",
         "12",
         "9",
         "0",
         "1",
         "0 daily",
         "nonsmoker",
         "1",
         "1",
         "1",
         "2",
         "0",
         "Yes",
         "Yes"
        ]
       ],
       "shape": {
        "columns": 23,
        "rows": 4642
       }
      },
      "text/html": [
       "<div>\n",
       "<style scoped>\n",
       "    .dataframe tbody tr th:only-of-type {\n",
       "        vertical-align: middle;\n",
       "    }\n",
       "\n",
       "    .dataframe tbody tr th {\n",
       "        vertical-align: top;\n",
       "    }\n",
       "\n",
       "    .dataframe thead th {\n",
       "        text-align: right;\n",
       "    }\n",
       "</style>\n",
       "<table border=\"1\" class=\"dataframe\">\n",
       "  <thead>\n",
       "    <tr style=\"text-align: right;\">\n",
       "      <th></th>\n",
       "      <th>bweight</th>\n",
       "      <th>mmarried</th>\n",
       "      <th>mhisp</th>\n",
       "      <th>fhisp</th>\n",
       "      <th>foreign</th>\n",
       "      <th>alcohol</th>\n",
       "      <th>deadkids</th>\n",
       "      <th>mage</th>\n",
       "      <th>medu</th>\n",
       "      <th>fage</th>\n",
       "      <th>...</th>\n",
       "      <th>order</th>\n",
       "      <th>msmoke</th>\n",
       "      <th>mbsmoke</th>\n",
       "      <th>mrace</th>\n",
       "      <th>frace</th>\n",
       "      <th>prenatal</th>\n",
       "      <th>birthmonth</th>\n",
       "      <th>lbweight</th>\n",
       "      <th>fbaby</th>\n",
       "      <th>prenatal1</th>\n",
       "    </tr>\n",
       "  </thead>\n",
       "  <tbody>\n",
       "    <tr>\n",
       "      <th>0</th>\n",
       "      <td>3459</td>\n",
       "      <td>married</td>\n",
       "      <td>0</td>\n",
       "      <td>0</td>\n",
       "      <td>0</td>\n",
       "      <td>0</td>\n",
       "      <td>0</td>\n",
       "      <td>24</td>\n",
       "      <td>14</td>\n",
       "      <td>28</td>\n",
       "      <td>...</td>\n",
       "      <td>2</td>\n",
       "      <td>0 daily</td>\n",
       "      <td>nonsmoker</td>\n",
       "      <td>1</td>\n",
       "      <td>1</td>\n",
       "      <td>1</td>\n",
       "      <td>12</td>\n",
       "      <td>0</td>\n",
       "      <td>No</td>\n",
       "      <td>Yes</td>\n",
       "    </tr>\n",
       "    <tr>\n",
       "      <th>1</th>\n",
       "      <td>3260</td>\n",
       "      <td>notmarried</td>\n",
       "      <td>0</td>\n",
       "      <td>0</td>\n",
       "      <td>1</td>\n",
       "      <td>0</td>\n",
       "      <td>0</td>\n",
       "      <td>20</td>\n",
       "      <td>10</td>\n",
       "      <td>0</td>\n",
       "      <td>...</td>\n",
       "      <td>3</td>\n",
       "      <td>0 daily</td>\n",
       "      <td>nonsmoker</td>\n",
       "      <td>0</td>\n",
       "      <td>0</td>\n",
       "      <td>1</td>\n",
       "      <td>7</td>\n",
       "      <td>0</td>\n",
       "      <td>No</td>\n",
       "      <td>Yes</td>\n",
       "    </tr>\n",
       "    <tr>\n",
       "      <th>2</th>\n",
       "      <td>3572</td>\n",
       "      <td>married</td>\n",
       "      <td>0</td>\n",
       "      <td>0</td>\n",
       "      <td>1</td>\n",
       "      <td>0</td>\n",
       "      <td>0</td>\n",
       "      <td>22</td>\n",
       "      <td>9</td>\n",
       "      <td>30</td>\n",
       "      <td>...</td>\n",
       "      <td>3</td>\n",
       "      <td>0 daily</td>\n",
       "      <td>nonsmoker</td>\n",
       "      <td>1</td>\n",
       "      <td>1</td>\n",
       "      <td>1</td>\n",
       "      <td>3</td>\n",
       "      <td>0</td>\n",
       "      <td>No</td>\n",
       "      <td>Yes</td>\n",
       "    </tr>\n",
       "    <tr>\n",
       "      <th>3</th>\n",
       "      <td>2948</td>\n",
       "      <td>married</td>\n",
       "      <td>0</td>\n",
       "      <td>0</td>\n",
       "      <td>0</td>\n",
       "      <td>0</td>\n",
       "      <td>0</td>\n",
       "      <td>26</td>\n",
       "      <td>12</td>\n",
       "      <td>30</td>\n",
       "      <td>...</td>\n",
       "      <td>2</td>\n",
       "      <td>0 daily</td>\n",
       "      <td>nonsmoker</td>\n",
       "      <td>1</td>\n",
       "      <td>1</td>\n",
       "      <td>1</td>\n",
       "      <td>1</td>\n",
       "      <td>0</td>\n",
       "      <td>No</td>\n",
       "      <td>Yes</td>\n",
       "    </tr>\n",
       "    <tr>\n",
       "      <th>4</th>\n",
       "      <td>2410</td>\n",
       "      <td>married</td>\n",
       "      <td>0</td>\n",
       "      <td>0</td>\n",
       "      <td>0</td>\n",
       "      <td>0</td>\n",
       "      <td>0</td>\n",
       "      <td>20</td>\n",
       "      <td>12</td>\n",
       "      <td>21</td>\n",
       "      <td>...</td>\n",
       "      <td>1</td>\n",
       "      <td>0 daily</td>\n",
       "      <td>nonsmoker</td>\n",
       "      <td>1</td>\n",
       "      <td>1</td>\n",
       "      <td>1</td>\n",
       "      <td>3</td>\n",
       "      <td>1</td>\n",
       "      <td>Yes</td>\n",
       "      <td>Yes</td>\n",
       "    </tr>\n",
       "    <tr>\n",
       "      <th>...</th>\n",
       "      <td>...</td>\n",
       "      <td>...</td>\n",
       "      <td>...</td>\n",
       "      <td>...</td>\n",
       "      <td>...</td>\n",
       "      <td>...</td>\n",
       "      <td>...</td>\n",
       "      <td>...</td>\n",
       "      <td>...</td>\n",
       "      <td>...</td>\n",
       "      <td>...</td>\n",
       "      <td>...</td>\n",
       "      <td>...</td>\n",
       "      <td>...</td>\n",
       "      <td>...</td>\n",
       "      <td>...</td>\n",
       "      <td>...</td>\n",
       "      <td>...</td>\n",
       "      <td>...</td>\n",
       "      <td>...</td>\n",
       "      <td>...</td>\n",
       "    </tr>\n",
       "    <tr>\n",
       "      <th>4637</th>\n",
       "      <td>3317</td>\n",
       "      <td>notmarried</td>\n",
       "      <td>0</td>\n",
       "      <td>0</td>\n",
       "      <td>0</td>\n",
       "      <td>0</td>\n",
       "      <td>0</td>\n",
       "      <td>21</td>\n",
       "      <td>12</td>\n",
       "      <td>24</td>\n",
       "      <td>...</td>\n",
       "      <td>1</td>\n",
       "      <td>1-5 daily</td>\n",
       "      <td>smoker</td>\n",
       "      <td>1</td>\n",
       "      <td>1</td>\n",
       "      <td>2</td>\n",
       "      <td>10</td>\n",
       "      <td>0</td>\n",
       "      <td>Yes</td>\n",
       "      <td>No</td>\n",
       "    </tr>\n",
       "    <tr>\n",
       "      <th>4638</th>\n",
       "      <td>3030</td>\n",
       "      <td>married</td>\n",
       "      <td>0</td>\n",
       "      <td>0</td>\n",
       "      <td>0</td>\n",
       "      <td>1</td>\n",
       "      <td>1</td>\n",
       "      <td>30</td>\n",
       "      <td>12</td>\n",
       "      <td>23</td>\n",
       "      <td>...</td>\n",
       "      <td>2</td>\n",
       "      <td>11+ daily</td>\n",
       "      <td>smoker</td>\n",
       "      <td>1</td>\n",
       "      <td>1</td>\n",
       "      <td>2</td>\n",
       "      <td>2</td>\n",
       "      <td>0</td>\n",
       "      <td>No</td>\n",
       "      <td>No</td>\n",
       "    </tr>\n",
       "    <tr>\n",
       "      <th>4639</th>\n",
       "      <td>2950</td>\n",
       "      <td>notmarried</td>\n",
       "      <td>0</td>\n",
       "      <td>0</td>\n",
       "      <td>0</td>\n",
       "      <td>0</td>\n",
       "      <td>0</td>\n",
       "      <td>23</td>\n",
       "      <td>12</td>\n",
       "      <td>0</td>\n",
       "      <td>...</td>\n",
       "      <td>1</td>\n",
       "      <td>0 daily</td>\n",
       "      <td>nonsmoker</td>\n",
       "      <td>0</td>\n",
       "      <td>0</td>\n",
       "      <td>1</td>\n",
       "      <td>5</td>\n",
       "      <td>0</td>\n",
       "      <td>Yes</td>\n",
       "      <td>Yes</td>\n",
       "    </tr>\n",
       "    <tr>\n",
       "      <th>4640</th>\n",
       "      <td>3969</td>\n",
       "      <td>married</td>\n",
       "      <td>0</td>\n",
       "      <td>0</td>\n",
       "      <td>0</td>\n",
       "      <td>0</td>\n",
       "      <td>0</td>\n",
       "      <td>23</td>\n",
       "      <td>12</td>\n",
       "      <td>25</td>\n",
       "      <td>...</td>\n",
       "      <td>1</td>\n",
       "      <td>0 daily</td>\n",
       "      <td>nonsmoker</td>\n",
       "      <td>1</td>\n",
       "      <td>1</td>\n",
       "      <td>1</td>\n",
       "      <td>2</td>\n",
       "      <td>0</td>\n",
       "      <td>Yes</td>\n",
       "      <td>Yes</td>\n",
       "    </tr>\n",
       "    <tr>\n",
       "      <th>4641</th>\n",
       "      <td>3289</td>\n",
       "      <td>married</td>\n",
       "      <td>0</td>\n",
       "      <td>0</td>\n",
       "      <td>0</td>\n",
       "      <td>0</td>\n",
       "      <td>0</td>\n",
       "      <td>22</td>\n",
       "      <td>12</td>\n",
       "      <td>26</td>\n",
       "      <td>...</td>\n",
       "      <td>2</td>\n",
       "      <td>0 daily</td>\n",
       "      <td>nonsmoker</td>\n",
       "      <td>1</td>\n",
       "      <td>1</td>\n",
       "      <td>1</td>\n",
       "      <td>7</td>\n",
       "      <td>0</td>\n",
       "      <td>No</td>\n",
       "      <td>Yes</td>\n",
       "    </tr>\n",
       "  </tbody>\n",
       "</table>\n",
       "<p>4642 rows × 23 columns</p>\n",
       "</div>"
      ],
      "text/plain": [
       "      bweight    mmarried  mhisp  fhisp  foreign  alcohol  deadkids  mage  \\\n",
       "0        3459     married      0      0        0        0         0    24   \n",
       "1        3260  notmarried      0      0        1        0         0    20   \n",
       "2        3572     married      0      0        1        0         0    22   \n",
       "3        2948     married      0      0        0        0         0    26   \n",
       "4        2410     married      0      0        0        0         0    20   \n",
       "...       ...         ...    ...    ...      ...      ...       ...   ...   \n",
       "4637     3317  notmarried      0      0        0        0         0    21   \n",
       "4638     3030     married      0      0        0        1         1    30   \n",
       "4639     2950  notmarried      0      0        0        0         0    23   \n",
       "4640     3969     married      0      0        0        0         0    23   \n",
       "4641     3289     married      0      0        0        0         0    22   \n",
       "\n",
       "      medu  fage  ...  order     msmoke    mbsmoke  mrace frace prenatal  \\\n",
       "0       14    28  ...      2    0 daily  nonsmoker      1     1        1   \n",
       "1       10     0  ...      3    0 daily  nonsmoker      0     0        1   \n",
       "2        9    30  ...      3    0 daily  nonsmoker      1     1        1   \n",
       "3       12    30  ...      2    0 daily  nonsmoker      1     1        1   \n",
       "4       12    21  ...      1    0 daily  nonsmoker      1     1        1   \n",
       "...    ...   ...  ...    ...        ...        ...    ...   ...      ...   \n",
       "4637    12    24  ...      1  1-5 daily     smoker      1     1        2   \n",
       "4638    12    23  ...      2  11+ daily     smoker      1     1        2   \n",
       "4639    12     0  ...      1    0 daily  nonsmoker      0     0        1   \n",
       "4640    12    25  ...      1    0 daily  nonsmoker      1     1        1   \n",
       "4641    12    26  ...      2    0 daily  nonsmoker      1     1        1   \n",
       "\n",
       "      birthmonth  lbweight  fbaby  prenatal1  \n",
       "0             12         0     No        Yes  \n",
       "1              7         0     No        Yes  \n",
       "2              3         0     No        Yes  \n",
       "3              1         0     No        Yes  \n",
       "4              3         1    Yes        Yes  \n",
       "...          ...       ...    ...        ...  \n",
       "4637          10         0    Yes         No  \n",
       "4638           2         0     No         No  \n",
       "4639           5         0    Yes        Yes  \n",
       "4640           2         0    Yes        Yes  \n",
       "4641           7         0     No        Yes  \n",
       "\n",
       "[4642 rows x 23 columns]"
      ]
     },
     "execution_count": 20,
     "metadata": {},
     "output_type": "execute_result"
    }
   ],
   "source": [
    "data"
   ]
  },
  {
   "cell_type": "code",
   "execution_count": 21,
   "metadata": {},
   "outputs": [],
   "source": [
    "#Filtragem dos dados\n",
    "\n",
    "# Criar a variável de resultado\n",
    "data['Y'] = data['bweight']\n",
    "\n",
    "# Crie a variável 'D' (\"Treated\" ou tratado) com valor inicial de 0\n",
    "data['D'] = 0\n",
    "# Recodifique 'D' para 1 se 'mbsmoke' for igual a 'smoker'\n",
    "data.loc[data['mbsmoke'] == 'smoker', 'D'] = 1\n",
    "\n",
    "# Criar variáveis de controle\n",
    "data['Mmarried'] = 0\n",
    "data.loc[data['mmarried'] == 'married', 'Mmarried'] = 1\n",
    "data['casada'] = 0\n",
    "data.loc[data['mmarried']=='married', 'casada'] = 1"
   ]
  },
  {
   "cell_type": "markdown",
   "metadata": {},
   "source": [
    "***OR Bilateral***\n",
    "\n",
    "Vamos considerar que:\n",
    "* o peso dos bebes é nossa variável de resultado ($Y$); \n",
    "* o tratamento é se a gestante fumou durante a gravidez ($D$). \n",
    "* E as possiveis covariáveis $X$ são: \"casada\", \"mage\" e \"medu\" (título de exemplo).\n",
    "\n",
    "vejamos essas variáveis especificas:"
   ]
  },
  {
   "cell_type": "code",
   "execution_count": 22,
   "metadata": {},
   "outputs": [
    {
     "data": {
      "application/vnd.microsoft.datawrangler.viewer.v0+json": {
       "columns": [
        {
         "name": "index",
         "rawType": "int64",
         "type": "integer"
        },
        {
         "name": "Y",
         "rawType": "int16",
         "type": "integer"
        },
        {
         "name": "D",
         "rawType": "int64",
         "type": "integer"
        },
        {
         "name": "casada",
         "rawType": "int64",
         "type": "integer"
        },
        {
         "name": "mage",
         "rawType": "int8",
         "type": "integer"
        },
        {
         "name": "medu",
         "rawType": "int8",
         "type": "integer"
        },
        {
         "name": "fage",
         "rawType": "int8",
         "type": "integer"
        },
        {
         "name": "fedu",
         "rawType": "int8",
         "type": "integer"
        },
        {
         "name": "nprenatal",
         "rawType": "int8",
         "type": "integer"
        }
       ],
       "ref": "a1524735-1e83-4d52-a075-38ac90ba4063",
       "rows": [
        [
         "0",
         "3459",
         "0",
         "1",
         "24",
         "14",
         "28",
         "16",
         "10"
        ],
        [
         "1",
         "3260",
         "0",
         "0",
         "20",
         "10",
         "0",
         "0",
         "6"
        ],
        [
         "2",
         "3572",
         "0",
         "1",
         "22",
         "9",
         "30",
         "9",
         "10"
        ],
        [
         "3",
         "2948",
         "0",
         "1",
         "26",
         "12",
         "30",
         "12",
         "10"
        ],
        [
         "4",
         "2410",
         "0",
         "1",
         "20",
         "12",
         "21",
         "14",
         "12"
        ],
        [
         "5",
         "3147",
         "0",
         "0",
         "27",
         "12",
         "40",
         "12",
         "9"
        ],
        [
         "6",
         "3799",
         "0",
         "1",
         "27",
         "12",
         "29",
         "14",
         "16"
        ],
        [
         "7",
         "3629",
         "0",
         "1",
         "24",
         "12",
         "33",
         "12",
         "11"
        ],
        [
         "8",
         "2835",
         "0",
         "1",
         "21",
         "12",
         "24",
         "9",
         "20"
        ],
        [
         "9",
         "3880",
         "0",
         "1",
         "30",
         "15",
         "33",
         "15",
         "9"
        ],
        [
         "10",
         "3090",
         "1",
         "1",
         "26",
         "12",
         "31",
         "14",
         "14"
        ],
        [
         "11",
         "3345",
         "0",
         "0",
         "20",
         "12",
         "22",
         "12",
         "5"
        ],
        [
         "12",
         "4013",
         "0",
         "1",
         "34",
         "14",
         "29",
         "14",
         "13"
        ],
        [
         "13",
         "3771",
         "0",
         "1",
         "21",
         "8",
         "26",
         "8",
         "8"
        ],
        [
         "14",
         "662",
         "0",
         "0",
         "23",
         "12",
         "27",
         "12",
         "4"
        ],
        [
         "15",
         "3657",
         "0",
         "1",
         "22",
         "12",
         "21",
         "11",
         "10"
        ],
        [
         "16",
         "3572",
         "0",
         "1",
         "26",
         "12",
         "26",
         "13",
         "13"
        ],
        [
         "17",
         "3430",
         "0",
         "1",
         "40",
         "16",
         "37",
         "16",
         "7"
        ],
        [
         "18",
         "4479",
         "0",
         "1",
         "34",
         "12",
         "35",
         "12",
         "6"
        ],
        [
         "19",
         "3166",
         "1",
         "0",
         "27",
         "12",
         "31",
         "12",
         "2"
        ],
        [
         "20",
         "4253",
         "0",
         "1",
         "33",
         "12",
         "38",
         "16",
         "12"
        ],
        [
         "21",
         "4054",
         "0",
         "1",
         "27",
         "14",
         "29",
         "16",
         "10"
        ],
        [
         "22",
         "3160",
         "0",
         "1",
         "25",
         "12",
         "25",
         "12",
         "13"
        ],
        [
         "23",
         "2466",
         "0",
         "1",
         "22",
         "12",
         "29",
         "13",
         "11"
        ],
        [
         "24",
         "3147",
         "1",
         "1",
         "19",
         "10",
         "20",
         "12",
         "10"
        ],
        [
         "25",
         "3232",
         "0",
         "1",
         "33",
         "14",
         "30",
         "17",
         "7"
        ],
        [
         "26",
         "3005",
         "0",
         "1",
         "19",
         "12",
         "20",
         "12",
         "12"
        ],
        [
         "27",
         "1899",
         "0",
         "1",
         "36",
         "17",
         "45",
         "16",
         "12"
        ],
        [
         "28",
         "4026",
         "0",
         "1",
         "33",
         "14",
         "28",
         "16",
         "9"
        ],
        [
         "29",
         "3969",
         "0",
         "0",
         "26",
         "12",
         "27",
         "13",
         "9"
        ],
        [
         "30",
         "4167",
         "0",
         "0",
         "19",
         "9",
         "21",
         "10",
         "12"
        ],
        [
         "31",
         "4054",
         "0",
         "0",
         "32",
         "16",
         "36",
         "13",
         "15"
        ],
        [
         "32",
         "3660",
         "0",
         "0",
         "28",
         "15",
         "0",
         "12",
         "13"
        ],
        [
         "33",
         "3997",
         "0",
         "1",
         "31",
         "16",
         "30",
         "16",
         "22"
        ],
        [
         "34",
         "3980",
         "0",
         "1",
         "37",
         "13",
         "35",
         "13",
         "8"
        ],
        [
         "35",
         "4111",
         "0",
         "0",
         "17",
         "10",
         "21",
         "12",
         "10"
        ],
        [
         "36",
         "3090",
         "0",
         "1",
         "30",
         "12",
         "33",
         "14",
         "17"
        ],
        [
         "37",
         "4082",
         "0",
         "1",
         "30",
         "12",
         "32",
         "12",
         "12"
        ],
        [
         "38",
         "4196",
         "0",
         "1",
         "21",
         "14",
         "24",
         "14",
         "15"
        ],
        [
         "39",
         "2790",
         "0",
         "1",
         "29",
         "17",
         "30",
         "17",
         "8"
        ],
        [
         "40",
         "4082",
         "0",
         "1",
         "30",
         "12",
         "31",
         "17",
         "12"
        ],
        [
         "41",
         "3089",
         "0",
         "1",
         "27",
         "17",
         "37",
         "12",
         "9"
        ],
        [
         "42",
         "2580",
         "1",
         "0",
         "18",
         "10",
         "0",
         "0",
         "14"
        ],
        [
         "43",
         "3714",
         "0",
         "1",
         "35",
         "14",
         "33",
         "17",
         "14"
        ],
        [
         "44",
         "4196",
         "0",
         "1",
         "35",
         "16",
         "35",
         "17",
         "12"
        ],
        [
         "45",
         "2523",
         "0",
         "0",
         "16",
         "9",
         "19",
         "12",
         "14"
        ],
        [
         "46",
         "2693",
         "1",
         "0",
         "25",
         "12",
         "28",
         "12",
         "13"
        ],
        [
         "47",
         "3204",
         "0",
         "1",
         "27",
         "16",
         "33",
         "17",
         "12"
        ],
        [
         "48",
         "3572",
         "1",
         "0",
         "19",
         "12",
         "20",
         "12",
         "12"
        ],
        [
         "49",
         "3385",
         "0",
         "1",
         "21",
         "12",
         "21",
         "12",
         "9"
        ]
       ],
       "shape": {
        "columns": 8,
        "rows": 4642
       }
      },
      "text/html": [
       "<div>\n",
       "<style scoped>\n",
       "    .dataframe tbody tr th:only-of-type {\n",
       "        vertical-align: middle;\n",
       "    }\n",
       "\n",
       "    .dataframe tbody tr th {\n",
       "        vertical-align: top;\n",
       "    }\n",
       "\n",
       "    .dataframe thead th {\n",
       "        text-align: right;\n",
       "    }\n",
       "</style>\n",
       "<table border=\"1\" class=\"dataframe\">\n",
       "  <thead>\n",
       "    <tr style=\"text-align: right;\">\n",
       "      <th></th>\n",
       "      <th>Y</th>\n",
       "      <th>D</th>\n",
       "      <th>casada</th>\n",
       "      <th>mage</th>\n",
       "      <th>medu</th>\n",
       "      <th>fage</th>\n",
       "      <th>fedu</th>\n",
       "      <th>nprenatal</th>\n",
       "    </tr>\n",
       "  </thead>\n",
       "  <tbody>\n",
       "    <tr>\n",
       "      <th>0</th>\n",
       "      <td>3459</td>\n",
       "      <td>0</td>\n",
       "      <td>1</td>\n",
       "      <td>24</td>\n",
       "      <td>14</td>\n",
       "      <td>28</td>\n",
       "      <td>16</td>\n",
       "      <td>10</td>\n",
       "    </tr>\n",
       "    <tr>\n",
       "      <th>1</th>\n",
       "      <td>3260</td>\n",
       "      <td>0</td>\n",
       "      <td>0</td>\n",
       "      <td>20</td>\n",
       "      <td>10</td>\n",
       "      <td>0</td>\n",
       "      <td>0</td>\n",
       "      <td>6</td>\n",
       "    </tr>\n",
       "    <tr>\n",
       "      <th>2</th>\n",
       "      <td>3572</td>\n",
       "      <td>0</td>\n",
       "      <td>1</td>\n",
       "      <td>22</td>\n",
       "      <td>9</td>\n",
       "      <td>30</td>\n",
       "      <td>9</td>\n",
       "      <td>10</td>\n",
       "    </tr>\n",
       "    <tr>\n",
       "      <th>3</th>\n",
       "      <td>2948</td>\n",
       "      <td>0</td>\n",
       "      <td>1</td>\n",
       "      <td>26</td>\n",
       "      <td>12</td>\n",
       "      <td>30</td>\n",
       "      <td>12</td>\n",
       "      <td>10</td>\n",
       "    </tr>\n",
       "    <tr>\n",
       "      <th>4</th>\n",
       "      <td>2410</td>\n",
       "      <td>0</td>\n",
       "      <td>1</td>\n",
       "      <td>20</td>\n",
       "      <td>12</td>\n",
       "      <td>21</td>\n",
       "      <td>14</td>\n",
       "      <td>12</td>\n",
       "    </tr>\n",
       "    <tr>\n",
       "      <th>...</th>\n",
       "      <td>...</td>\n",
       "      <td>...</td>\n",
       "      <td>...</td>\n",
       "      <td>...</td>\n",
       "      <td>...</td>\n",
       "      <td>...</td>\n",
       "      <td>...</td>\n",
       "      <td>...</td>\n",
       "    </tr>\n",
       "    <tr>\n",
       "      <th>4637</th>\n",
       "      <td>3317</td>\n",
       "      <td>1</td>\n",
       "      <td>0</td>\n",
       "      <td>21</td>\n",
       "      <td>12</td>\n",
       "      <td>24</td>\n",
       "      <td>12</td>\n",
       "      <td>10</td>\n",
       "    </tr>\n",
       "    <tr>\n",
       "      <th>4638</th>\n",
       "      <td>3030</td>\n",
       "      <td>1</td>\n",
       "      <td>1</td>\n",
       "      <td>30</td>\n",
       "      <td>12</td>\n",
       "      <td>23</td>\n",
       "      <td>12</td>\n",
       "      <td>9</td>\n",
       "    </tr>\n",
       "    <tr>\n",
       "      <th>4639</th>\n",
       "      <td>2950</td>\n",
       "      <td>0</td>\n",
       "      <td>0</td>\n",
       "      <td>23</td>\n",
       "      <td>12</td>\n",
       "      <td>0</td>\n",
       "      <td>12</td>\n",
       "      <td>12</td>\n",
       "    </tr>\n",
       "    <tr>\n",
       "      <th>4640</th>\n",
       "      <td>3969</td>\n",
       "      <td>0</td>\n",
       "      <td>1</td>\n",
       "      <td>23</td>\n",
       "      <td>12</td>\n",
       "      <td>25</td>\n",
       "      <td>12</td>\n",
       "      <td>12</td>\n",
       "    </tr>\n",
       "    <tr>\n",
       "      <th>4641</th>\n",
       "      <td>3289</td>\n",
       "      <td>0</td>\n",
       "      <td>1</td>\n",
       "      <td>22</td>\n",
       "      <td>12</td>\n",
       "      <td>26</td>\n",
       "      <td>12</td>\n",
       "      <td>12</td>\n",
       "    </tr>\n",
       "  </tbody>\n",
       "</table>\n",
       "<p>4642 rows × 8 columns</p>\n",
       "</div>"
      ],
      "text/plain": [
       "         Y  D  casada  mage  medu  fage  fedu  nprenatal\n",
       "0     3459  0       1    24    14    28    16         10\n",
       "1     3260  0       0    20    10     0     0          6\n",
       "2     3572  0       1    22     9    30     9         10\n",
       "3     2948  0       1    26    12    30    12         10\n",
       "4     2410  0       1    20    12    21    14         12\n",
       "...    ... ..     ...   ...   ...   ...   ...        ...\n",
       "4637  3317  1       0    21    12    24    12         10\n",
       "4638  3030  1       1    30    12    23    12          9\n",
       "4639  2950  0       0    23    12     0    12         12\n",
       "4640  3969  0       1    23    12    25    12         12\n",
       "4641  3289  0       1    22    12    26    12         12\n",
       "\n",
       "[4642 rows x 8 columns]"
      ]
     },
     "execution_count": 22,
     "metadata": {},
     "output_type": "execute_result"
    }
   ],
   "source": [
    "data[['Y', 'D', 'casada', 'mage', 'medu', 'fage', 'fedu', 'nprenatal']]"
   ]
  },
  {
   "cell_type": "markdown",
   "metadata": {},
   "source": [
    "Conforme fizemos anteriormente, realizamos a regressão para os tratados, e salvamos os resultados na variável `reg_1`."
   ]
  },
  {
   "cell_type": "code",
   "execution_count": 23,
   "metadata": {},
   "outputs": [
    {
     "name": "stdout",
     "output_type": "stream",
     "text": [
      "                            OLS Regression Results                            \n",
      "==============================================================================\n",
      "Dep. Variable:                      Y   R-squared:                       0.043\n",
      "Model:                            OLS   Adj. R-squared:                  0.037\n",
      "Method:                 Least Squares   F-statistic:                     6.496\n",
      "Date:                seg, 18 ago 2025   Prob (F-statistic):           1.03e-06\n",
      "Time:                        08:56:57   Log-Likelihood:                -6675.0\n",
      "No. Observations:                 864   AIC:                         1.336e+04\n",
      "Df Residuals:                     857   BIC:                         1.340e+04\n",
      "Df Model:                           6                                         \n",
      "Covariance Type:            nonrobust                                         \n",
      "==============================================================================\n",
      "                 coef    std err          t      P>|t|      [0.025      0.975]\n",
      "------------------------------------------------------------------------------\n",
      "Intercept   3058.7740    127.002     24.085      0.000    2809.503    3308.045\n",
      "casada        94.8512     43.084      2.202      0.028      10.288     179.415\n",
      "medu           3.1880      9.856      0.323      0.746     -16.156      22.532\n",
      "mage          -9.1878      4.065     -2.260      0.024     -17.166      -1.210\n",
      "fage          -0.7790      2.176     -0.358      0.720      -5.051       3.493\n",
      "fedu           2.2691      5.963      0.381      0.704      -9.435      13.973\n",
      "nprenatal     22.6209      4.624      4.892      0.000      13.544      31.697\n",
      "==============================================================================\n",
      "Omnibus:                      126.298   Durbin-Watson:                   2.031\n",
      "Prob(Omnibus):                  0.000   Jarque-Bera (JB):              322.732\n",
      "Skew:                          -0.773   Prob(JB):                     8.31e-71\n",
      "Kurtosis:                       5.564   Cond. No.                         281.\n",
      "==============================================================================\n",
      "\n",
      "Notes:\n",
      "[1] Standard Errors assume that the covariance matrix of the errors is correctly specified.\n"
     ]
    }
   ],
   "source": [
    "reg_1 = smf.ols('Y ~ casada + medu + mage + fage + fedu + nprenatal', data=data[data['D'] == 1]).fit()\n",
    "print(reg_1.summary())"
   ]
  },
  {
   "cell_type": "markdown",
   "metadata": {},
   "source": [
    "Vamos colocar os valores previstos pela regressão numa nova coluna chamada `Y_imput_1`."
   ]
  },
  {
   "cell_type": "code",
   "execution_count": 34,
   "metadata": {},
   "outputs": [],
   "source": [
    "data['Y_imput_1'] = reg_1.predict(data)"
   ]
  },
  {
   "cell_type": "markdown",
   "metadata": {},
   "source": [
    "Vejamos o que temos agora:"
   ]
  },
  {
   "cell_type": "code",
   "execution_count": 35,
   "metadata": {},
   "outputs": [
    {
     "data": {
      "application/vnd.microsoft.datawrangler.viewer.v0+json": {
       "columns": [
        {
         "name": "index",
         "rawType": "int64",
         "type": "integer"
        },
        {
         "name": "Y",
         "rawType": "int16",
         "type": "integer"
        },
        {
         "name": "Y_imput_1",
         "rawType": "float64",
         "type": "float"
        },
        {
         "name": "D",
         "rawType": "int64",
         "type": "integer"
        },
        {
         "name": "casada",
         "rawType": "int64",
         "type": "integer"
        },
        {
         "name": "mage",
         "rawType": "int8",
         "type": "integer"
        },
        {
         "name": "medu",
         "rawType": "int8",
         "type": "integer"
        },
        {
         "name": "fage",
         "rawType": "int8",
         "type": "integer"
        },
        {
         "name": "fedu",
         "rawType": "int8",
         "type": "integer"
        },
        {
         "name": "nprenatal",
         "rawType": "int8",
         "type": "integer"
        }
       ],
       "ref": "4ab9b609-5e10-4028-a9a6-75c0b20bc511",
       "rows": [
        [
         "0",
         "3459",
         "3218.4527855072315",
         "0",
         "1",
         "24",
         "14",
         "28",
         "16",
         "10"
        ],
        [
         "1",
         "3260",
         "3042.624255999215",
         "0",
         "0",
         "20",
         "10",
         "0",
         "0",
         "6"
        ],
        [
         "2",
         "3572",
         "3203.446428955015",
         "0",
         "1",
         "22",
         "9",
         "30",
         "9",
         "10"
        ],
        [
         "3",
         "2948",
         "3183.0667656407045",
         "0",
         "1",
         "26",
         "12",
         "30",
         "12",
         "10"
        ],
        [
         "4",
         "2410",
         "3294.98450857239",
         "0",
         "1",
         "20",
         "12",
         "21",
         "14",
         "12"
        ],
        [
         "5",
         "3147",
         "3048.616691041342",
         "0",
         "0",
         "27",
         "12",
         "40",
         "12",
         "9"
        ],
        [
         "6",
         "3799",
         "3314.921456263798",
         "0",
         "1",
         "27",
         "12",
         "29",
         "14",
         "16"
        ],
        [
         "7",
         "3629",
         "3221.726060573061",
         "0",
         "1",
         "24",
         "12",
         "33",
         "12",
         "11"
        ],
        [
         "8",
         "2835",
         "3453.0810948228836",
         "0",
         "1",
         "21",
         "12",
         "24",
         "9",
         "20"
        ],
        [
         "9",
         "3880",
         "3137.7291473169635",
         "0",
         "1",
         "30",
         "15",
         "33",
         "15",
         "9"
        ],
        [
         "10",
         "3090",
         "3277.3094181164606",
         "1",
         "1",
         "26",
         "12",
         "31",
         "14",
         "14"
        ],
        [
         "11",
         "3345",
         "3036.47003179288",
         "0",
         "0",
         "20",
         "12",
         "22",
         "12",
         "5"
        ],
        [
         "12",
         "4013",
         "3189.120589735253",
         "0",
         "1",
         "34",
         "14",
         "29",
         "14",
         "13"
        ],
        [
         "13",
         "3771",
         "3165.0514429857535",
         "0",
         "1",
         "21",
         "8",
         "26",
         "8",
         "8"
        ],
        [
         "14",
         "662",
         "2982.390749611821",
         "0",
         "0",
         "23",
         "12",
         "27",
         "12",
         "4"
        ],
        [
         "15",
         "3657",
         "3224.55994750981",
         "0",
         "1",
         "22",
         "12",
         "21",
         "11",
         "10"
        ],
        [
         "16",
         "3572",
         "3256.314590154455",
         "0",
         "1",
         "26",
         "12",
         "26",
         "13",
         "13"
        ],
        [
         "17",
         "3430",
         "3002.950850930918",
         "0",
         "1",
         "40",
         "16",
         "37",
         "16",
         "7"
        ],
        [
         "18",
         "4479",
         "3015.1860955582715",
         "0",
         "1",
         "34",
         "12",
         "35",
         "12",
         "6"
        ],
        [
         "19",
         "3166",
         "2897.2818713041625",
         "1",
         "0",
         "27",
         "12",
         "31",
         "12",
         "2"
        ],
        [
         "20",
         "4253",
         "3166.838391206741",
         "0",
         "1",
         "33",
         "12",
         "38",
         "16",
         "12"
        ],
        [
         "21",
         "4054",
         "3190.1104871798975",
         "0",
         "1",
         "27",
         "14",
         "29",
         "16",
         "10"
        ],
        [
         "22",
         "3160",
         "3264.012271786165",
         "0",
         "1",
         "25",
         "12",
         "25",
         "12",
         "13"
        ],
        [
         "23",
         "2466",
         "3245.486792645863",
         "0",
         "1",
         "22",
         "12",
         "29",
         "13",
         "11"
        ],
        [
         "24",
         "3147",
         "3248.7953151825527",
         "1",
         "1",
         "19",
         "10",
         "20",
         "12",
         "10"
        ],
        [
         "25",
         "3232",
         "3068.6114176468136",
         "0",
         "1",
         "33",
         "14",
         "30",
         "17",
         "7"
        ],
        [
         "26",
         "3005",
         "3300.413086497169",
         "0",
         "1",
         "19",
         "12",
         "20",
         "12",
         "12"
        ],
        [
         "27",
         "1899",
         "3149.762005717445",
         "0",
         "1",
         "36",
         "17",
         "45",
         "16",
         "12"
        ],
        [
         "28",
         "4026",
         "3113.1421085815664",
         "0",
         "1",
         "33",
         "14",
         "28",
         "16",
         "9"
        ],
        [
         "29",
         "3969",
         "3070.2009262184483",
         "0",
         "0",
         "26",
         "12",
         "27",
         "13",
         "9"
        ],
        [
         "30",
         "4167",
         "3190.680637511208",
         "0",
         "0",
         "19",
         "9",
         "21",
         "10",
         "12"
        ],
        [
         "31",
         "4054",
         "3156.5404072360466",
         "0",
         "0",
         "32",
         "16",
         "36",
         "13",
         "15"
        ],
        [
         "32",
         "3660",
         "3170.637613767249",
         "0",
         "0",
         "28",
         "15",
         "0",
         "12",
         "13"
        ],
        [
         "33",
         "3997",
         "3430.406888438306",
         "0",
         "1",
         "31",
         "16",
         "30",
         "16",
         "22"
        ],
        [
         "34",
         "3980",
         "3038.3216839160186",
         "0",
         "1",
         "37",
         "13",
         "35",
         "13",
         "8"
        ],
        [
         "35",
         "4111",
         "3171.540638141428",
         "0",
         "0",
         "17",
         "10",
         "21",
         "12",
         "10"
        ],
        [
         "36",
         "3090",
         "3306.8629398801277",
         "0",
         "1",
         "30",
         "12",
         "33",
         "14",
         "17"
        ],
        [
         "37",
         "4082",
         "3189.9994189278245",
         "0",
         "1",
         "30",
         "12",
         "32",
         "12",
         "12"
        ],
        [
         "38",
         "4196",
         "3357.6983053363233",
         "0",
         "1",
         "21",
         "14",
         "24",
         "14",
         "15"
        ],
        [
         "39",
         "2790",
         "3137.5473636430293",
         "0",
         "1",
         "29",
         "17",
         "30",
         "17",
         "8"
        ],
        [
         "40",
         "4082",
         "3202.123966306773",
         "0",
         "1",
         "30",
         "12",
         "31",
         "17",
         "12"
        ],
        [
         "41",
         "3089",
         "3161.745024663554",
         "0",
         "1",
         "27",
         "17",
         "37",
         "12",
         "9"
        ],
        [
         "42",
         "2580",
         "3241.966716800286",
         "1",
         "0",
         "18",
         "10",
         "0",
         "0",
         "14"
        ],
        [
         "43",
         "3714",
         "3206.244897461068",
         "0",
         "1",
         "35",
         "14",
         "33",
         "17",
         "14"
        ],
        [
         "44",
         "4196",
         "3165.821137180906",
         "0",
         "1",
         "35",
         "16",
         "35",
         "17",
         "12"
        ],
        [
         "45",
         "2523",
         "3269.581909049792",
         "0",
         "0",
         "16",
         "9",
         "19",
         "12",
         "14"
        ],
        [
         "46",
         "2693",
         "3166.8240240677587",
         "1",
         "0",
         "25",
         "12",
         "28",
         "12",
         "13"
        ],
        [
         "47",
         "3204",
         "3240.881246824267",
         "0",
         "1",
         "27",
         "16",
         "33",
         "17",
         "12"
        ],
        [
         "48",
         "3572",
         "3205.561925311646",
         "1",
         "0",
         "19",
         "12",
         "20",
         "12",
         "12"
        ],
        [
         "49",
         "3385",
         "3213.39593923454",
         "0",
         "1",
         "21",
         "12",
         "21",
         "12",
         "9"
        ]
       ],
       "shape": {
        "columns": 9,
        "rows": 4642
       }
      },
      "text/html": [
       "<div>\n",
       "<style scoped>\n",
       "    .dataframe tbody tr th:only-of-type {\n",
       "        vertical-align: middle;\n",
       "    }\n",
       "\n",
       "    .dataframe tbody tr th {\n",
       "        vertical-align: top;\n",
       "    }\n",
       "\n",
       "    .dataframe thead th {\n",
       "        text-align: right;\n",
       "    }\n",
       "</style>\n",
       "<table border=\"1\" class=\"dataframe\">\n",
       "  <thead>\n",
       "    <tr style=\"text-align: right;\">\n",
       "      <th></th>\n",
       "      <th>Y</th>\n",
       "      <th>Y_imput_1</th>\n",
       "      <th>D</th>\n",
       "      <th>casada</th>\n",
       "      <th>mage</th>\n",
       "      <th>medu</th>\n",
       "      <th>fage</th>\n",
       "      <th>fedu</th>\n",
       "      <th>nprenatal</th>\n",
       "    </tr>\n",
       "  </thead>\n",
       "  <tbody>\n",
       "    <tr>\n",
       "      <th>0</th>\n",
       "      <td>3459</td>\n",
       "      <td>3218.452786</td>\n",
       "      <td>0</td>\n",
       "      <td>1</td>\n",
       "      <td>24</td>\n",
       "      <td>14</td>\n",
       "      <td>28</td>\n",
       "      <td>16</td>\n",
       "      <td>10</td>\n",
       "    </tr>\n",
       "    <tr>\n",
       "      <th>1</th>\n",
       "      <td>3260</td>\n",
       "      <td>3042.624256</td>\n",
       "      <td>0</td>\n",
       "      <td>0</td>\n",
       "      <td>20</td>\n",
       "      <td>10</td>\n",
       "      <td>0</td>\n",
       "      <td>0</td>\n",
       "      <td>6</td>\n",
       "    </tr>\n",
       "    <tr>\n",
       "      <th>2</th>\n",
       "      <td>3572</td>\n",
       "      <td>3203.446429</td>\n",
       "      <td>0</td>\n",
       "      <td>1</td>\n",
       "      <td>22</td>\n",
       "      <td>9</td>\n",
       "      <td>30</td>\n",
       "      <td>9</td>\n",
       "      <td>10</td>\n",
       "    </tr>\n",
       "    <tr>\n",
       "      <th>3</th>\n",
       "      <td>2948</td>\n",
       "      <td>3183.066766</td>\n",
       "      <td>0</td>\n",
       "      <td>1</td>\n",
       "      <td>26</td>\n",
       "      <td>12</td>\n",
       "      <td>30</td>\n",
       "      <td>12</td>\n",
       "      <td>10</td>\n",
       "    </tr>\n",
       "    <tr>\n",
       "      <th>4</th>\n",
       "      <td>2410</td>\n",
       "      <td>3294.984509</td>\n",
       "      <td>0</td>\n",
       "      <td>1</td>\n",
       "      <td>20</td>\n",
       "      <td>12</td>\n",
       "      <td>21</td>\n",
       "      <td>14</td>\n",
       "      <td>12</td>\n",
       "    </tr>\n",
       "    <tr>\n",
       "      <th>...</th>\n",
       "      <td>...</td>\n",
       "      <td>...</td>\n",
       "      <td>...</td>\n",
       "      <td>...</td>\n",
       "      <td>...</td>\n",
       "      <td>...</td>\n",
       "      <td>...</td>\n",
       "      <td>...</td>\n",
       "      <td>...</td>\n",
       "    </tr>\n",
       "    <tr>\n",
       "      <th>4637</th>\n",
       "      <td>3317</td>\n",
       "      <td>3138.828560</td>\n",
       "      <td>1</td>\n",
       "      <td>0</td>\n",
       "      <td>21</td>\n",
       "      <td>12</td>\n",
       "      <td>24</td>\n",
       "      <td>12</td>\n",
       "      <td>10</td>\n",
       "    </tr>\n",
       "    <tr>\n",
       "      <th>4638</th>\n",
       "      <td>3030</td>\n",
       "      <td>3129.148073</td>\n",
       "      <td>1</td>\n",
       "      <td>1</td>\n",
       "      <td>30</td>\n",
       "      <td>12</td>\n",
       "      <td>23</td>\n",
       "      <td>12</td>\n",
       "      <td>9</td>\n",
       "    </tr>\n",
       "    <tr>\n",
       "      <th>4639</th>\n",
       "      <td>2950</td>\n",
       "      <td>3184.391476</td>\n",
       "      <td>0</td>\n",
       "      <td>0</td>\n",
       "      <td>23</td>\n",
       "      <td>12</td>\n",
       "      <td>0</td>\n",
       "      <td>12</td>\n",
       "      <td>12</td>\n",
       "    </tr>\n",
       "    <tr>\n",
       "      <th>4640</th>\n",
       "      <td>3969</td>\n",
       "      <td>3259.766916</td>\n",
       "      <td>0</td>\n",
       "      <td>1</td>\n",
       "      <td>23</td>\n",
       "      <td>12</td>\n",
       "      <td>25</td>\n",
       "      <td>12</td>\n",
       "      <td>12</td>\n",
       "    </tr>\n",
       "    <tr>\n",
       "      <th>4641</th>\n",
       "      <td>3289</td>\n",
       "      <td>3268.175644</td>\n",
       "      <td>0</td>\n",
       "      <td>1</td>\n",
       "      <td>22</td>\n",
       "      <td>12</td>\n",
       "      <td>26</td>\n",
       "      <td>12</td>\n",
       "      <td>12</td>\n",
       "    </tr>\n",
       "  </tbody>\n",
       "</table>\n",
       "<p>4642 rows × 9 columns</p>\n",
       "</div>"
      ],
      "text/plain": [
       "         Y    Y_imput_1  D  casada  mage  medu  fage  fedu  nprenatal\n",
       "0     3459  3218.452786  0       1    24    14    28    16         10\n",
       "1     3260  3042.624256  0       0    20    10     0     0          6\n",
       "2     3572  3203.446429  0       1    22     9    30     9         10\n",
       "3     2948  3183.066766  0       1    26    12    30    12         10\n",
       "4     2410  3294.984509  0       1    20    12    21    14         12\n",
       "...    ...          ... ..     ...   ...   ...   ...   ...        ...\n",
       "4637  3317  3138.828560  1       0    21    12    24    12         10\n",
       "4638  3030  3129.148073  1       1    30    12    23    12          9\n",
       "4639  2950  3184.391476  0       0    23    12     0    12         12\n",
       "4640  3969  3259.766916  0       1    23    12    25    12         12\n",
       "4641  3289  3268.175644  0       1    22    12    26    12         12\n",
       "\n",
       "[4642 rows x 9 columns]"
      ]
     },
     "execution_count": 35,
     "metadata": {},
     "output_type": "execute_result"
    }
   ],
   "source": [
    "data[['Y', 'Y_imput_1', 'D', 'casada', 'mage', 'medu', 'fage', 'fedu', 'nprenatal']]"
   ]
  },
  {
   "cell_type": "markdown",
   "metadata": {},
   "source": [
    "Agora fazemos o mesmo para os não tratados."
   ]
  },
  {
   "cell_type": "code",
   "execution_count": 36,
   "metadata": {},
   "outputs": [
    {
     "name": "stdout",
     "output_type": "stream",
     "text": [
      "                            OLS Regression Results                            \n",
      "==============================================================================\n",
      "Dep. Variable:                      Y   R-squared:                       0.063\n",
      "Model:                            OLS   Adj. R-squared:                  0.061\n",
      "Method:                 Least Squares   F-statistic:                     42.07\n",
      "Date:                seg, 18 ago 2025   Prob (F-statistic):           6.20e-50\n",
      "Time:                        09:04:11   Log-Likelihood:                -29216.\n",
      "No. Observations:                3778   AIC:                         5.845e+04\n",
      "Df Residuals:                    3771   BIC:                         5.849e+04\n",
      "Df Model:                           6                                         \n",
      "Covariance Type:            nonrobust                                         \n",
      "==============================================================================\n",
      "                 coef    std err          t      P>|t|      [0.025      0.975]\n",
      "------------------------------------------------------------------------------\n",
      "Intercept   2883.4617     57.843     49.850      0.000    2770.055    2996.868\n",
      "casada       122.4337     25.354      4.829      0.000      72.725     172.143\n",
      "medu          -2.0751      4.575     -0.454      0.650     -11.046       6.895\n",
      "mage           4.6468      2.189      2.123      0.034       0.355       8.939\n",
      "fage          -0.8015      1.435     -0.558      0.577      -3.616       2.013\n",
      "fedu           0.7824      3.587      0.218      0.827      -6.249       7.814\n",
      "nprenatal     32.1166      2.665     12.050      0.000      26.891      37.342\n",
      "==============================================================================\n",
      "Omnibus:                      459.573   Durbin-Watson:                   2.009\n",
      "Prob(Omnibus):                  0.000   Jarque-Bera (JB):             1205.112\n",
      "Skew:                          -0.679   Prob(JB):                    2.06e-262\n",
      "Kurtosis:                       5.411   Cond. No.                         292.\n",
      "==============================================================================\n",
      "\n",
      "Notes:\n",
      "[1] Standard Errors assume that the covariance matrix of the errors is correctly specified.\n"
     ]
    }
   ],
   "source": [
    "reg_2 = smf.ols('Y ~ casada + medu + mage + fage + fedu + nprenatal', data=data[data['D'] == 0]).fit()\n",
    "print(reg_2.summary())"
   ]
  },
  {
   "cell_type": "code",
   "execution_count": 37,
   "metadata": {},
   "outputs": [],
   "source": [
    "data['Y_imput_0'] = reg_2.predict(data)"
   ]
  },
  {
   "cell_type": "code",
   "execution_count": 38,
   "metadata": {},
   "outputs": [
    {
     "data": {
      "application/vnd.microsoft.datawrangler.viewer.v0+json": {
       "columns": [
        {
         "name": "index",
         "rawType": "int64",
         "type": "integer"
        },
        {
         "name": "Y",
         "rawType": "int16",
         "type": "integer"
        },
        {
         "name": "Y_imput_1",
         "rawType": "float64",
         "type": "float"
        },
        {
         "name": "Y_imput_0",
         "rawType": "float64",
         "type": "float"
        },
        {
         "name": "D",
         "rawType": "int64",
         "type": "integer"
        },
        {
         "name": "casada",
         "rawType": "int64",
         "type": "integer"
        },
        {
         "name": "mage",
         "rawType": "int8",
         "type": "integer"
        },
        {
         "name": "medu",
         "rawType": "int8",
         "type": "integer"
        },
        {
         "name": "fage",
         "rawType": "int8",
         "type": "integer"
        },
        {
         "name": "fedu",
         "rawType": "int8",
         "type": "integer"
        },
        {
         "name": "nprenatal",
         "rawType": "int8",
         "type": "integer"
        }
       ],
       "ref": "4355444a-fdb8-412a-a03a-641ebe74585a",
       "rows": [
        [
         "0",
         "3459",
         "3218.4527855072315",
         "3399.6124630198397",
         "0",
         "1",
         "24",
         "14",
         "28",
         "16",
         "10"
        ],
        [
         "1",
         "3260",
         "3042.624255999215",
         "3148.3471351138182",
         "0",
         "0",
         "20",
         "10",
         "0",
         "0",
         "6"
        ],
        [
         "2",
         "3572",
         "3203.446428955015",
         "3393.614429483781",
         "0",
         "1",
         "22",
         "9",
         "30",
         "9",
         "10"
        ],
        [
         "3",
         "2948",
         "3183.0667656407045",
         "3408.3237347976483",
         "0",
         "1",
         "26",
         "12",
         "30",
         "12",
         "10"
        ],
        [
         "4",
         "2410",
         "3294.98450857239",
         "3453.4538978719083",
         "0",
         "1",
         "20",
         "12",
         "21",
         "14",
         "12"
        ],
        [
         "5",
         "3147",
         "3048.616691041342",
         "3250.405764312882",
         "0",
         "0",
         "27",
         "12",
         "40",
         "12",
         "9"
        ],
        [
         "6",
         "3799",
         "3314.921456263798",
         "3608.0366645654367",
         "0",
         "1",
         "27",
         "12",
         "29",
         "14",
         "16"
        ],
        [
         "7",
         "3629",
         "3221.726060573061",
         "3428.742336138213",
         "0",
         "1",
         "24",
         "12",
         "33",
         "12",
         "11"
        ],
        [
         "8",
         "2835",
         "3453.0810948228836",
         "3708.71726832443",
         "0",
         "1",
         "21",
         "12",
         "24",
         "9",
         "20"
        ],
        [
         "9",
         "3880",
         "3137.7291473169635",
         "3388.512055361433",
         "0",
         "1",
         "30",
         "15",
         "33",
         "15",
         "9"
        ],
        [
         "10",
         "3090",
         "3277.3094181164606",
         "3537.5536643283363",
         "1",
         "1",
         "26",
         "12",
         "31",
         "14",
         "14"
        ],
        [
         "11",
         "3345",
         "3036.47003179288",
         "3103.837513287676",
         "0",
         "0",
         "20",
         "12",
         "22",
         "12",
         "5"
        ],
        [
         "12",
         "4013",
         "3189.120589735253",
         "3540.064410745219",
         "0",
         "1",
         "34",
         "14",
         "29",
         "14",
         "13"
        ],
        [
         "13",
         "3771",
         "3165.0514429857535",
         "3329.232819548735",
         "0",
         "1",
         "21",
         "8",
         "26",
         "8",
         "8"
        ],
        [
         "14",
         "662",
         "2982.390749611821",
         "3081.654136416717",
         "0",
         "0",
         "23",
         "12",
         "27",
         "12",
         "4"
        ],
        [
         "15",
         "3657",
         "3224.55994750981",
         "3396.167020432499",
         "0",
         "1",
         "22",
         "12",
         "21",
         "11",
         "10"
        ],
        [
         "16",
         "3572",
         "3256.314590154455",
         "3508.661861663323",
         "0",
         "1",
         "26",
         "12",
         "26",
         "13",
         "13"
        ],
        [
         "17",
         "3430",
         "3002.950850930918",
         "3366.248678136498",
         "0",
         "1",
         "40",
         "16",
         "37",
         "16",
         "7"
        ],
        [
         "18",
         "4479",
         "3015.1860955582715",
         "3313.0246527992435",
         "0",
         "1",
         "34",
         "12",
         "35",
         "12",
         "6"
        ],
        [
         "19",
         "3166",
         "2897.2818713041625",
         "3032.8024180672664",
         "1",
         "0",
         "27",
         "12",
         "31",
         "12",
         "2"
        ],
        [
         "20",
         "4253",
         "3166.838391206741",
         "3501.802963190353",
         "0",
         "1",
         "33",
         "12",
         "38",
         "16",
         "12"
        ],
        [
         "21",
         "4054",
         "3190.1104871798975",
         "3412.7515224657955",
         "0",
         "1",
         "27",
         "14",
         "29",
         "16",
         "10"
        ],
        [
         "22",
         "3160",
         "3264.012271786165",
         "3504.0340457763054",
         "0",
         "1",
         "25",
         "12",
         "25",
         "12",
         "13"
        ],
        [
         "23",
         "2466",
         "3245.486792645863",
         "3423.436898846603",
         "0",
         "1",
         "22",
         "12",
         "29",
         "13",
         "11"
        ],
        [
         "24",
         "3147",
         "3248.7953151825527",
         "3387.9606141374275",
         "1",
         "1",
         "19",
         "10",
         "20",
         "12",
         "10"
        ],
        [
         "25",
         "3232",
         "3068.6114176468136",
         "3344.263633225368",
         "0",
         "1",
         "33",
         "14",
         "30",
         "17",
         "7"
        ],
        [
         "26",
         "3005",
         "3300.413086497169",
         "3448.043651535303",
         "0",
         "1",
         "19",
         "12",
         "20",
         "12",
         "12"
        ],
        [
         "27",
         "1899",
         "3149.762005717445",
         "3499.7577564820735",
         "0",
         "1",
         "36",
         "17",
         "45",
         "16",
         "12"
        ],
        [
         "28",
         "4026",
         "3113.1421085815664",
         "3409.3173660086177",
         "0",
         "1",
         "33",
         "14",
         "28",
         "16",
         "9"
        ],
        [
         "29",
         "3969",
         "3070.2009262184483",
         "3256.960228127025",
         "0",
         "0",
         "26",
         "12",
         "27",
         "13",
         "9"
        ],
        [
         "30",
         "4167",
         "3190.680637511208",
         "3329.469011350121",
         "0",
         "0",
         "19",
         "9",
         "21",
         "10",
         "12"
        ],
        [
         "31",
         "4054",
         "3156.5404072360466",
         "3462.0275209460365",
         "0",
         "0",
         "32",
         "16",
         "36",
         "13",
         "15"
        ],
        [
         "32",
         "3660",
         "3170.637613767249",
         "3409.3518501368303",
         "0",
         "0",
         "28",
         "15",
         "0",
         "12",
         "13"
        ],
        [
         "33",
         "3997",
         "3430.406888438306",
         "3811.7867568097545",
         "0",
         "1",
         "31",
         "16",
         "30",
         "16",
         "22"
        ],
        [
         "34",
         "3980",
         "3038.3216839160186",
         "3389.9057430101434",
         "0",
         "1",
         "37",
         "13",
         "35",
         "13",
         "8"
        ],
        [
         "35",
         "4111",
         "3171.540638141428",
         "3255.4318267909493",
         "0",
         "0",
         "17",
         "10",
         "21",
         "12",
         "10"
        ],
        [
         "36",
         "3090",
         "3306.8629398801277",
         "3650.887999360483",
         "0",
         "1",
         "30",
         "12",
         "33",
         "14",
         "17"
        ],
        [
         "37",
         "4082",
         "3189.9994189278245",
         "3489.541439780208",
         "0",
         "1",
         "30",
         "12",
         "32",
         "12",
         "12"
        ],
        [
         "38",
         "4196",
         "3357.6983053363233",
         "3547.8960476231373",
         "0",
         "1",
         "21",
         "14",
         "24",
         "14",
         "15"
        ],
        [
         "39",
         "2790",
         "3137.5473636430293",
         "3351.5675812059576",
         "0",
         "1",
         "29",
         "17",
         "30",
         "17",
         "8"
        ],
        [
         "40",
         "4082",
         "3202.123966306773",
         "3494.255043594977",
         "0",
         "1",
         "30",
         "12",
         "31",
         "17",
         "12"
        ],
        [
         "41",
         "3089",
         "3161.745024663554",
         "3364.8682240312573",
         "0",
         "1",
         "27",
         "17",
         "37",
         "12",
         "9"
        ],
        [
         "42",
         "2580",
         "3241.966716800286",
         "3395.986501501984",
         "1",
         "0",
         "18",
         "10",
         "0",
         "0",
         "14"
        ],
        [
         "43",
         "3714",
         "3206.244897461068",
         "3575.9693628805016",
         "0",
         "1",
         "35",
         "14",
         "33",
         "17",
         "14"
        ],
        [
         "44",
         "4196",
         "3165.821137180906",
         "3505.9829769463677",
         "0",
         "1",
         "35",
         "16",
         "35",
         "17",
         "12"
        ],
        [
         "45",
         "2523",
         "3269.581909049792",
         "3382.9295244693444",
         "0",
         "0",
         "16",
         "9",
         "19",
         "12",
         "14"
        ],
        [
         "46",
         "2693",
         "3166.8240240677587",
         "3379.196029304688",
         "1",
         "0",
         "25",
         "12",
         "28",
         "12",
         "13"
        ],
        [
         "47",
         "3204",
         "3240.881246824267",
         "3470.4111840459304",
         "0",
         "1",
         "27",
         "16",
         "33",
         "17",
         "12"
        ],
        [
         "48",
         "3572",
         "3205.561925311646",
         "3325.609989764182",
         "1",
         "0",
         "19",
         "12",
         "20",
         "12",
         "12"
        ],
        [
         "49",
         "3385",
         "3213.39593923454",
         "3360.1859838282376",
         "0",
         "1",
         "21",
         "12",
         "21",
         "12",
         "9"
        ]
       ],
       "shape": {
        "columns": 10,
        "rows": 4642
       }
      },
      "text/html": [
       "<div>\n",
       "<style scoped>\n",
       "    .dataframe tbody tr th:only-of-type {\n",
       "        vertical-align: middle;\n",
       "    }\n",
       "\n",
       "    .dataframe tbody tr th {\n",
       "        vertical-align: top;\n",
       "    }\n",
       "\n",
       "    .dataframe thead th {\n",
       "        text-align: right;\n",
       "    }\n",
       "</style>\n",
       "<table border=\"1\" class=\"dataframe\">\n",
       "  <thead>\n",
       "    <tr style=\"text-align: right;\">\n",
       "      <th></th>\n",
       "      <th>Y</th>\n",
       "      <th>Y_imput_1</th>\n",
       "      <th>Y_imput_0</th>\n",
       "      <th>D</th>\n",
       "      <th>casada</th>\n",
       "      <th>mage</th>\n",
       "      <th>medu</th>\n",
       "      <th>fage</th>\n",
       "      <th>fedu</th>\n",
       "      <th>nprenatal</th>\n",
       "    </tr>\n",
       "  </thead>\n",
       "  <tbody>\n",
       "    <tr>\n",
       "      <th>0</th>\n",
       "      <td>3459</td>\n",
       "      <td>3218.452786</td>\n",
       "      <td>3399.612463</td>\n",
       "      <td>0</td>\n",
       "      <td>1</td>\n",
       "      <td>24</td>\n",
       "      <td>14</td>\n",
       "      <td>28</td>\n",
       "      <td>16</td>\n",
       "      <td>10</td>\n",
       "    </tr>\n",
       "    <tr>\n",
       "      <th>1</th>\n",
       "      <td>3260</td>\n",
       "      <td>3042.624256</td>\n",
       "      <td>3148.347135</td>\n",
       "      <td>0</td>\n",
       "      <td>0</td>\n",
       "      <td>20</td>\n",
       "      <td>10</td>\n",
       "      <td>0</td>\n",
       "      <td>0</td>\n",
       "      <td>6</td>\n",
       "    </tr>\n",
       "    <tr>\n",
       "      <th>2</th>\n",
       "      <td>3572</td>\n",
       "      <td>3203.446429</td>\n",
       "      <td>3393.614429</td>\n",
       "      <td>0</td>\n",
       "      <td>1</td>\n",
       "      <td>22</td>\n",
       "      <td>9</td>\n",
       "      <td>30</td>\n",
       "      <td>9</td>\n",
       "      <td>10</td>\n",
       "    </tr>\n",
       "    <tr>\n",
       "      <th>3</th>\n",
       "      <td>2948</td>\n",
       "      <td>3183.066766</td>\n",
       "      <td>3408.323735</td>\n",
       "      <td>0</td>\n",
       "      <td>1</td>\n",
       "      <td>26</td>\n",
       "      <td>12</td>\n",
       "      <td>30</td>\n",
       "      <td>12</td>\n",
       "      <td>10</td>\n",
       "    </tr>\n",
       "    <tr>\n",
       "      <th>4</th>\n",
       "      <td>2410</td>\n",
       "      <td>3294.984509</td>\n",
       "      <td>3453.453898</td>\n",
       "      <td>0</td>\n",
       "      <td>1</td>\n",
       "      <td>20</td>\n",
       "      <td>12</td>\n",
       "      <td>21</td>\n",
       "      <td>14</td>\n",
       "      <td>12</td>\n",
       "    </tr>\n",
       "    <tr>\n",
       "      <th>...</th>\n",
       "      <td>...</td>\n",
       "      <td>...</td>\n",
       "      <td>...</td>\n",
       "      <td>...</td>\n",
       "      <td>...</td>\n",
       "      <td>...</td>\n",
       "      <td>...</td>\n",
       "      <td>...</td>\n",
       "      <td>...</td>\n",
       "      <td>...</td>\n",
       "    </tr>\n",
       "    <tr>\n",
       "      <th>4637</th>\n",
       "      <td>3317</td>\n",
       "      <td>3138.828560</td>\n",
       "      <td>3267.464597</td>\n",
       "      <td>1</td>\n",
       "      <td>0</td>\n",
       "      <td>21</td>\n",
       "      <td>12</td>\n",
       "      <td>24</td>\n",
       "      <td>12</td>\n",
       "      <td>10</td>\n",
       "    </tr>\n",
       "    <tr>\n",
       "      <th>4638</th>\n",
       "      <td>3030</td>\n",
       "      <td>3129.148073</td>\n",
       "      <td>3400.404614</td>\n",
       "      <td>1</td>\n",
       "      <td>1</td>\n",
       "      <td>30</td>\n",
       "      <td>12</td>\n",
       "      <td>23</td>\n",
       "      <td>12</td>\n",
       "      <td>9</td>\n",
       "    </tr>\n",
       "    <tr>\n",
       "      <th>4639</th>\n",
       "      <td>2950</td>\n",
       "      <td>3184.391476</td>\n",
       "      <td>3360.226369</td>\n",
       "      <td>0</td>\n",
       "      <td>0</td>\n",
       "      <td>23</td>\n",
       "      <td>12</td>\n",
       "      <td>0</td>\n",
       "      <td>12</td>\n",
       "      <td>12</td>\n",
       "    </tr>\n",
       "    <tr>\n",
       "      <th>4640</th>\n",
       "      <td>3969</td>\n",
       "      <td>3259.766916</td>\n",
       "      <td>3462.623742</td>\n",
       "      <td>0</td>\n",
       "      <td>1</td>\n",
       "      <td>23</td>\n",
       "      <td>12</td>\n",
       "      <td>25</td>\n",
       "      <td>12</td>\n",
       "      <td>12</td>\n",
       "    </tr>\n",
       "    <tr>\n",
       "      <th>4641</th>\n",
       "      <td>3289</td>\n",
       "      <td>3268.175644</td>\n",
       "      <td>3457.175453</td>\n",
       "      <td>0</td>\n",
       "      <td>1</td>\n",
       "      <td>22</td>\n",
       "      <td>12</td>\n",
       "      <td>26</td>\n",
       "      <td>12</td>\n",
       "      <td>12</td>\n",
       "    </tr>\n",
       "  </tbody>\n",
       "</table>\n",
       "<p>4642 rows × 10 columns</p>\n",
       "</div>"
      ],
      "text/plain": [
       "         Y    Y_imput_1    Y_imput_0  D  casada  mage  medu  fage  fedu  \\\n",
       "0     3459  3218.452786  3399.612463  0       1    24    14    28    16   \n",
       "1     3260  3042.624256  3148.347135  0       0    20    10     0     0   \n",
       "2     3572  3203.446429  3393.614429  0       1    22     9    30     9   \n",
       "3     2948  3183.066766  3408.323735  0       1    26    12    30    12   \n",
       "4     2410  3294.984509  3453.453898  0       1    20    12    21    14   \n",
       "...    ...          ...          ... ..     ...   ...   ...   ...   ...   \n",
       "4637  3317  3138.828560  3267.464597  1       0    21    12    24    12   \n",
       "4638  3030  3129.148073  3400.404614  1       1    30    12    23    12   \n",
       "4639  2950  3184.391476  3360.226369  0       0    23    12     0    12   \n",
       "4640  3969  3259.766916  3462.623742  0       1    23    12    25    12   \n",
       "4641  3289  3268.175644  3457.175453  0       1    22    12    26    12   \n",
       "\n",
       "      nprenatal  \n",
       "0            10  \n",
       "1             6  \n",
       "2            10  \n",
       "3            10  \n",
       "4            12  \n",
       "...         ...  \n",
       "4637         10  \n",
       "4638          9  \n",
       "4639         12  \n",
       "4640         12  \n",
       "4641         12  \n",
       "\n",
       "[4642 rows x 10 columns]"
      ]
     },
     "execution_count": 38,
     "metadata": {},
     "output_type": "execute_result"
    }
   ],
   "source": [
    "data[['Y', 'Y_imput_1', 'Y_imput_0', 'D', 'casada', 'mage', 'medu', 'fage', 'fedu', 'nprenatal']]"
   ]
  },
  {
   "cell_type": "markdown",
   "metadata": {},
   "source": [
    "Como temos os dois possíveis \"estados da natureza\" imputados, medidos pelos valores `Y_imput_1` e `Y_imput_0`, podemos calcular o ATE como a média dos ITEs."
   ]
  },
  {
   "cell_type": "code",
   "execution_count": 39,
   "metadata": {},
   "outputs": [],
   "source": [
    "# adicionando a coluna com o valor ITE previsto para DUPLA IMPUTAÇÃO\n",
    "data['ITE_OR_DImput'] = data['Y_imput_1'] - data['Y_imput_0']"
   ]
  },
  {
   "cell_type": "code",
   "execution_count": 41,
   "metadata": {},
   "outputs": [
    {
     "data": {
      "application/vnd.microsoft.datawrangler.viewer.v0+json": {
       "columns": [
        {
         "name": "index",
         "rawType": "int64",
         "type": "integer"
        },
        {
         "name": "Y",
         "rawType": "int16",
         "type": "integer"
        },
        {
         "name": "Y_imput_1",
         "rawType": "float64",
         "type": "float"
        },
        {
         "name": "Y_imput_0",
         "rawType": "float64",
         "type": "float"
        },
        {
         "name": "ITE_OR_DImput",
         "rawType": "float64",
         "type": "float"
        },
        {
         "name": "D",
         "rawType": "int64",
         "type": "integer"
        },
        {
         "name": "casada",
         "rawType": "int64",
         "type": "integer"
        },
        {
         "name": "mage",
         "rawType": "int8",
         "type": "integer"
        },
        {
         "name": "medu",
         "rawType": "int8",
         "type": "integer"
        },
        {
         "name": "fage",
         "rawType": "int8",
         "type": "integer"
        },
        {
         "name": "fedu",
         "rawType": "int8",
         "type": "integer"
        },
        {
         "name": "nprenatal",
         "rawType": "int8",
         "type": "integer"
        }
       ],
       "ref": "d66717ae-a63d-4fb8-ade7-5eb89dccd667",
       "rows": [
        [
         "0",
         "3459",
         "3218.4527855072315",
         "3399.6124630198397",
         "-181.15967751260814",
         "0",
         "1",
         "24",
         "14",
         "28",
         "16",
         "10"
        ],
        [
         "1",
         "3260",
         "3042.624255999215",
         "3148.3471351138182",
         "-105.72287911460307",
         "0",
         "0",
         "20",
         "10",
         "0",
         "0",
         "6"
        ],
        [
         "2",
         "3572",
         "3203.446428955015",
         "3393.614429483781",
         "-190.1680005287658",
         "0",
         "1",
         "22",
         "9",
         "30",
         "9",
         "10"
        ],
        [
         "3",
         "2948",
         "3183.0667656407045",
         "3408.3237347976483",
         "-225.2569691569438",
         "0",
         "1",
         "26",
         "12",
         "30",
         "12",
         "10"
        ],
        [
         "4",
         "2410",
         "3294.98450857239",
         "3453.4538978719083",
         "-158.4693892995183",
         "0",
         "1",
         "20",
         "12",
         "21",
         "14",
         "12"
        ],
        [
         "5",
         "3147",
         "3048.616691041342",
         "3250.405764312882",
         "-201.78907327154002",
         "0",
         "0",
         "27",
         "12",
         "40",
         "12",
         "9"
        ],
        [
         "6",
         "3799",
         "3314.921456263798",
         "3608.0366645654367",
         "-293.11520830163863",
         "0",
         "1",
         "27",
         "12",
         "29",
         "14",
         "16"
        ],
        [
         "7",
         "3629",
         "3221.726060573061",
         "3428.742336138213",
         "-207.01627556515177",
         "0",
         "1",
         "24",
         "12",
         "33",
         "12",
         "11"
        ],
        [
         "8",
         "2835",
         "3453.0810948228836",
         "3708.71726832443",
         "-255.63617350154618",
         "0",
         "1",
         "21",
         "12",
         "24",
         "9",
         "20"
        ],
        [
         "9",
         "3880",
         "3137.7291473169635",
         "3388.512055361433",
         "-250.78290804446942",
         "0",
         "1",
         "30",
         "15",
         "33",
         "15",
         "9"
        ],
        [
         "10",
         "3090",
         "3277.3094181164606",
         "3537.5536643283363",
         "-260.24424621187563",
         "1",
         "1",
         "26",
         "12",
         "31",
         "14",
         "14"
        ],
        [
         "11",
         "3345",
         "3036.47003179288",
         "3103.837513287676",
         "-67.36748149479581",
         "0",
         "0",
         "20",
         "12",
         "22",
         "12",
         "5"
        ],
        [
         "12",
         "4013",
         "3189.120589735253",
         "3540.064410745219",
         "-350.9438210099661",
         "0",
         "1",
         "34",
         "14",
         "29",
         "14",
         "13"
        ],
        [
         "13",
         "3771",
         "3165.0514429857535",
         "3329.232819548735",
         "-164.1813765629813",
         "0",
         "1",
         "21",
         "8",
         "26",
         "8",
         "8"
        ],
        [
         "14",
         "662",
         "2982.390749611821",
         "3081.654136416717",
         "-99.26338680489607",
         "0",
         "0",
         "23",
         "12",
         "27",
         "12",
         "4"
        ],
        [
         "15",
         "3657",
         "3224.55994750981",
         "3396.167020432499",
         "-171.60707292268899",
         "0",
         "1",
         "22",
         "12",
         "21",
         "11",
         "10"
        ],
        [
         "16",
         "3572",
         "3256.314590154455",
         "3508.661861663323",
         "-252.3472715088683",
         "0",
         "1",
         "26",
         "12",
         "26",
         "13",
         "13"
        ],
        [
         "17",
         "3430",
         "3002.950850930918",
         "3366.248678136498",
         "-363.2978272055798",
         "0",
         "1",
         "40",
         "16",
         "37",
         "16",
         "7"
        ],
        [
         "18",
         "4479",
         "3015.1860955582715",
         "3313.0246527992435",
         "-297.838557240972",
         "0",
         "1",
         "34",
         "12",
         "35",
         "12",
         "6"
        ],
        [
         "19",
         "3166",
         "2897.2818713041625",
         "3032.8024180672664",
         "-135.520546763104",
         "1",
         "0",
         "27",
         "12",
         "31",
         "12",
         "2"
        ],
        [
         "20",
         "4253",
         "3166.838391206741",
         "3501.802963190353",
         "-334.9645719836117",
         "0",
         "1",
         "33",
         "12",
         "38",
         "16",
         "12"
        ],
        [
         "21",
         "4054",
         "3190.1104871798975",
         "3412.7515224657955",
         "-222.64103528589794",
         "0",
         "1",
         "27",
         "14",
         "29",
         "16",
         "10"
        ],
        [
         "22",
         "3160",
         "3264.012271786165",
         "3504.0340457763054",
         "-240.02177399014045",
         "0",
         "1",
         "25",
         "12",
         "25",
         "12",
         "13"
        ],
        [
         "23",
         "2466",
         "3245.486792645863",
         "3423.436898846603",
         "-177.95010620074027",
         "0",
         "1",
         "22",
         "12",
         "29",
         "13",
         "11"
        ],
        [
         "24",
         "3147",
         "3248.7953151825527",
         "3387.9606141374275",
         "-139.16529895487474",
         "1",
         "1",
         "19",
         "10",
         "20",
         "12",
         "10"
        ],
        [
         "25",
         "3232",
         "3068.6114176468136",
         "3344.263633225368",
         "-275.6522155785542",
         "0",
         "1",
         "33",
         "14",
         "30",
         "17",
         "7"
        ],
        [
         "26",
         "3005",
         "3300.413086497169",
         "3448.043651535303",
         "-147.63056503813414",
         "0",
         "1",
         "19",
         "12",
         "20",
         "12",
         "12"
        ],
        [
         "27",
         "1899",
         "3149.762005717445",
         "3499.7577564820735",
         "-349.9957507646286",
         "0",
         "1",
         "36",
         "17",
         "45",
         "16",
         "12"
        ],
        [
         "28",
         "4026",
         "3113.1421085815664",
         "3409.3173660086177",
         "-296.1752574270513",
         "0",
         "1",
         "33",
         "14",
         "28",
         "16",
         "9"
        ],
        [
         "29",
         "3969",
         "3070.2009262184483",
         "3256.960228127025",
         "-186.75930190857662",
         "0",
         "0",
         "26",
         "12",
         "27",
         "13",
         "9"
        ],
        [
         "30",
         "4167",
         "3190.680637511208",
         "3329.469011350121",
         "-138.78837383891323",
         "0",
         "0",
         "19",
         "9",
         "21",
         "10",
         "12"
        ],
        [
         "31",
         "4054",
         "3156.5404072360466",
         "3462.0275209460365",
         "-305.4871137099899",
         "0",
         "0",
         "32",
         "16",
         "36",
         "13",
         "15"
        ],
        [
         "32",
         "3660",
         "3170.637613767249",
         "3409.3518501368303",
         "-238.71423636958116",
         "0",
         "0",
         "28",
         "15",
         "0",
         "12",
         "13"
        ],
        [
         "33",
         "3997",
         "3430.406888438306",
         "3811.7867568097545",
         "-381.37986837144854",
         "0",
         "1",
         "31",
         "16",
         "30",
         "16",
         "22"
        ],
        [
         "34",
         "3980",
         "3038.3216839160186",
         "3389.9057430101434",
         "-351.58405909412477",
         "0",
         "1",
         "37",
         "13",
         "35",
         "13",
         "8"
        ],
        [
         "35",
         "4111",
         "3171.540638141428",
         "3255.4318267909493",
         "-83.89118864952115",
         "0",
         "0",
         "17",
         "10",
         "21",
         "12",
         "10"
        ],
        [
         "36",
         "3090",
         "3306.8629398801277",
         "3650.887999360483",
         "-344.02505948035514",
         "0",
         "1",
         "30",
         "12",
         "33",
         "14",
         "17"
        ],
        [
         "37",
         "4082",
         "3189.9994189278245",
         "3489.541439780208",
         "-299.5420208523833",
         "0",
         "1",
         "30",
         "12",
         "32",
         "12",
         "12"
        ],
        [
         "38",
         "4196",
         "3357.6983053363233",
         "3547.8960476231373",
         "-190.197742286814",
         "0",
         "1",
         "21",
         "14",
         "24",
         "14",
         "15"
        ],
        [
         "39",
         "2790",
         "3137.5473636430293",
         "3351.5675812059576",
         "-214.02021756292834",
         "0",
         "1",
         "29",
         "17",
         "30",
         "17",
         "8"
        ],
        [
         "40",
         "4082",
         "3202.123966306773",
         "3494.255043594977",
         "-292.13107728820387",
         "0",
         "1",
         "30",
         "12",
         "31",
         "17",
         "12"
        ],
        [
         "41",
         "3089",
         "3161.745024663554",
         "3364.8682240312573",
         "-203.12319936770336",
         "0",
         "1",
         "27",
         "17",
         "37",
         "12",
         "9"
        ],
        [
         "42",
         "2580",
         "3241.966716800286",
         "3395.986501501984",
         "-154.01978470169797",
         "1",
         "0",
         "18",
         "10",
         "0",
         "0",
         "14"
        ],
        [
         "43",
         "3714",
         "3206.244897461068",
         "3575.9693628805016",
         "-369.7244654194337",
         "0",
         "1",
         "35",
         "14",
         "33",
         "17",
         "14"
        ],
        [
         "44",
         "4196",
         "3165.821137180906",
         "3505.9829769463677",
         "-340.16183976546154",
         "0",
         "1",
         "35",
         "16",
         "35",
         "17",
         "12"
        ],
        [
         "45",
         "2523",
         "3269.581909049792",
         "3382.9295244693444",
         "-113.34761541955231",
         "0",
         "0",
         "16",
         "9",
         "19",
         "12",
         "14"
        ],
        [
         "46",
         "2693",
         "3166.8240240677587",
         "3379.196029304688",
         "-212.37200523692945",
         "1",
         "0",
         "25",
         "12",
         "28",
         "12",
         "13"
        ],
        [
         "47",
         "3204",
         "3240.881246824267",
         "3470.4111840459304",
         "-229.52993722166366",
         "0",
         "1",
         "27",
         "16",
         "33",
         "17",
         "12"
        ],
        [
         "48",
         "3572",
         "3205.561925311646",
         "3325.609989764182",
         "-120.04806445253598",
         "1",
         "0",
         "19",
         "12",
         "20",
         "12",
         "12"
        ],
        [
         "49",
         "3385",
         "3213.39593923454",
         "3360.1859838282376",
         "-146.79004459369753",
         "0",
         "1",
         "21",
         "12",
         "21",
         "12",
         "9"
        ]
       ],
       "shape": {
        "columns": 11,
        "rows": 4642
       }
      },
      "text/html": [
       "<div>\n",
       "<style scoped>\n",
       "    .dataframe tbody tr th:only-of-type {\n",
       "        vertical-align: middle;\n",
       "    }\n",
       "\n",
       "    .dataframe tbody tr th {\n",
       "        vertical-align: top;\n",
       "    }\n",
       "\n",
       "    .dataframe thead th {\n",
       "        text-align: right;\n",
       "    }\n",
       "</style>\n",
       "<table border=\"1\" class=\"dataframe\">\n",
       "  <thead>\n",
       "    <tr style=\"text-align: right;\">\n",
       "      <th></th>\n",
       "      <th>Y</th>\n",
       "      <th>Y_imput_1</th>\n",
       "      <th>Y_imput_0</th>\n",
       "      <th>ITE_OR_DImput</th>\n",
       "      <th>D</th>\n",
       "      <th>casada</th>\n",
       "      <th>mage</th>\n",
       "      <th>medu</th>\n",
       "      <th>fage</th>\n",
       "      <th>fedu</th>\n",
       "      <th>nprenatal</th>\n",
       "    </tr>\n",
       "  </thead>\n",
       "  <tbody>\n",
       "    <tr>\n",
       "      <th>0</th>\n",
       "      <td>3459</td>\n",
       "      <td>3218.452786</td>\n",
       "      <td>3399.612463</td>\n",
       "      <td>-181.159678</td>\n",
       "      <td>0</td>\n",
       "      <td>1</td>\n",
       "      <td>24</td>\n",
       "      <td>14</td>\n",
       "      <td>28</td>\n",
       "      <td>16</td>\n",
       "      <td>10</td>\n",
       "    </tr>\n",
       "    <tr>\n",
       "      <th>1</th>\n",
       "      <td>3260</td>\n",
       "      <td>3042.624256</td>\n",
       "      <td>3148.347135</td>\n",
       "      <td>-105.722879</td>\n",
       "      <td>0</td>\n",
       "      <td>0</td>\n",
       "      <td>20</td>\n",
       "      <td>10</td>\n",
       "      <td>0</td>\n",
       "      <td>0</td>\n",
       "      <td>6</td>\n",
       "    </tr>\n",
       "    <tr>\n",
       "      <th>2</th>\n",
       "      <td>3572</td>\n",
       "      <td>3203.446429</td>\n",
       "      <td>3393.614429</td>\n",
       "      <td>-190.168001</td>\n",
       "      <td>0</td>\n",
       "      <td>1</td>\n",
       "      <td>22</td>\n",
       "      <td>9</td>\n",
       "      <td>30</td>\n",
       "      <td>9</td>\n",
       "      <td>10</td>\n",
       "    </tr>\n",
       "    <tr>\n",
       "      <th>3</th>\n",
       "      <td>2948</td>\n",
       "      <td>3183.066766</td>\n",
       "      <td>3408.323735</td>\n",
       "      <td>-225.256969</td>\n",
       "      <td>0</td>\n",
       "      <td>1</td>\n",
       "      <td>26</td>\n",
       "      <td>12</td>\n",
       "      <td>30</td>\n",
       "      <td>12</td>\n",
       "      <td>10</td>\n",
       "    </tr>\n",
       "    <tr>\n",
       "      <th>4</th>\n",
       "      <td>2410</td>\n",
       "      <td>3294.984509</td>\n",
       "      <td>3453.453898</td>\n",
       "      <td>-158.469389</td>\n",
       "      <td>0</td>\n",
       "      <td>1</td>\n",
       "      <td>20</td>\n",
       "      <td>12</td>\n",
       "      <td>21</td>\n",
       "      <td>14</td>\n",
       "      <td>12</td>\n",
       "    </tr>\n",
       "    <tr>\n",
       "      <th>...</th>\n",
       "      <td>...</td>\n",
       "      <td>...</td>\n",
       "      <td>...</td>\n",
       "      <td>...</td>\n",
       "      <td>...</td>\n",
       "      <td>...</td>\n",
       "      <td>...</td>\n",
       "      <td>...</td>\n",
       "      <td>...</td>\n",
       "      <td>...</td>\n",
       "      <td>...</td>\n",
       "    </tr>\n",
       "    <tr>\n",
       "      <th>4637</th>\n",
       "      <td>3317</td>\n",
       "      <td>3138.828560</td>\n",
       "      <td>3267.464597</td>\n",
       "      <td>-128.636037</td>\n",
       "      <td>1</td>\n",
       "      <td>0</td>\n",
       "      <td>21</td>\n",
       "      <td>12</td>\n",
       "      <td>24</td>\n",
       "      <td>12</td>\n",
       "      <td>10</td>\n",
       "    </tr>\n",
       "    <tr>\n",
       "      <th>4638</th>\n",
       "      <td>3030</td>\n",
       "      <td>3129.148073</td>\n",
       "      <td>3400.404614</td>\n",
       "      <td>-271.256541</td>\n",
       "      <td>1</td>\n",
       "      <td>1</td>\n",
       "      <td>30</td>\n",
       "      <td>12</td>\n",
       "      <td>23</td>\n",
       "      <td>12</td>\n",
       "      <td>9</td>\n",
       "    </tr>\n",
       "    <tr>\n",
       "      <th>4639</th>\n",
       "      <td>2950</td>\n",
       "      <td>3184.391476</td>\n",
       "      <td>3360.226369</td>\n",
       "      <td>-175.834893</td>\n",
       "      <td>0</td>\n",
       "      <td>0</td>\n",
       "      <td>23</td>\n",
       "      <td>12</td>\n",
       "      <td>0</td>\n",
       "      <td>12</td>\n",
       "      <td>12</td>\n",
       "    </tr>\n",
       "    <tr>\n",
       "      <th>4640</th>\n",
       "      <td>3969</td>\n",
       "      <td>3259.766916</td>\n",
       "      <td>3462.623742</td>\n",
       "      <td>-202.856825</td>\n",
       "      <td>0</td>\n",
       "      <td>1</td>\n",
       "      <td>23</td>\n",
       "      <td>12</td>\n",
       "      <td>25</td>\n",
       "      <td>12</td>\n",
       "      <td>12</td>\n",
       "    </tr>\n",
       "    <tr>\n",
       "      <th>4641</th>\n",
       "      <td>3289</td>\n",
       "      <td>3268.175644</td>\n",
       "      <td>3457.175453</td>\n",
       "      <td>-188.999809</td>\n",
       "      <td>0</td>\n",
       "      <td>1</td>\n",
       "      <td>22</td>\n",
       "      <td>12</td>\n",
       "      <td>26</td>\n",
       "      <td>12</td>\n",
       "      <td>12</td>\n",
       "    </tr>\n",
       "  </tbody>\n",
       "</table>\n",
       "<p>4642 rows × 11 columns</p>\n",
       "</div>"
      ],
      "text/plain": [
       "         Y    Y_imput_1    Y_imput_0  ITE_OR_DImput  D  casada  mage  medu  \\\n",
       "0     3459  3218.452786  3399.612463    -181.159678  0       1    24    14   \n",
       "1     3260  3042.624256  3148.347135    -105.722879  0       0    20    10   \n",
       "2     3572  3203.446429  3393.614429    -190.168001  0       1    22     9   \n",
       "3     2948  3183.066766  3408.323735    -225.256969  0       1    26    12   \n",
       "4     2410  3294.984509  3453.453898    -158.469389  0       1    20    12   \n",
       "...    ...          ...          ...            ... ..     ...   ...   ...   \n",
       "4637  3317  3138.828560  3267.464597    -128.636037  1       0    21    12   \n",
       "4638  3030  3129.148073  3400.404614    -271.256541  1       1    30    12   \n",
       "4639  2950  3184.391476  3360.226369    -175.834893  0       0    23    12   \n",
       "4640  3969  3259.766916  3462.623742    -202.856825  0       1    23    12   \n",
       "4641  3289  3268.175644  3457.175453    -188.999809  0       1    22    12   \n",
       "\n",
       "      fage  fedu  nprenatal  \n",
       "0       28    16         10  \n",
       "1        0     0          6  \n",
       "2       30     9         10  \n",
       "3       30    12         10  \n",
       "4       21    14         12  \n",
       "...    ...   ...        ...  \n",
       "4637    24    12         10  \n",
       "4638    23    12          9  \n",
       "4639     0    12         12  \n",
       "4640    25    12         12  \n",
       "4641    26    12         12  \n",
       "\n",
       "[4642 rows x 11 columns]"
      ]
     },
     "execution_count": 41,
     "metadata": {},
     "output_type": "execute_result"
    }
   ],
   "source": [
    "data[['Y', 'Y_imput_1', 'Y_imput_0', 'ITE_OR_DImput', 'D', 'casada', 'mage', 'medu', 'fage', 'fedu', 'nprenatal']]"
   ]
  },
  {
   "cell_type": "markdown",
   "metadata": {},
   "source": [
    "O ATE será:"
   ]
  },
  {
   "cell_type": "code",
   "execution_count": 42,
   "metadata": {},
   "outputs": [
    {
     "data": {
      "text/plain": [
       "-227.12758124161465"
      ]
     },
     "execution_count": 42,
     "metadata": {},
     "output_type": "execute_result"
    }
   ],
   "source": [
    "ATE_OR_bilateral = data['ITE_OR_DImput'].mean()\n",
    "ATE_OR_bilateral"
   ]
  },
  {
   "cell_type": "markdown",
   "metadata": {},
   "source": [
    "E se quisermos o ATT e o ATU?\n",
    "\n",
    "\n",
    "Para o ATT, basta realizarmos a média no subgrupo dos tratados."
   ]
  },
  {
   "cell_type": "code",
   "execution_count": null,
   "metadata": {},
   "outputs": [
    {
     "data": {
      "text/plain": [
       "-201.84038749392622"
      ]
     },
     "execution_count": 32,
     "metadata": {},
     "output_type": "execute_result"
    }
   ],
   "source": [
    "# Calculando o ATT (média dos tau_previsto para D=1)\n",
    "ATT_OR_bilateral = data[data['D'] == 1]['ITE_OR_DImput'].mean()\n",
    "ATT_OR_bilateral"
   ]
  },
  {
   "cell_type": "markdown",
   "metadata": {},
   "source": [
    "Para o ATU, basta realizarmos a média no subgrupo dos não tratados."
   ]
  },
  {
   "cell_type": "code",
   "execution_count": null,
   "metadata": {},
   "outputs": [
    {
     "data": {
      "text/plain": [
       "-232.91057102404"
      ]
     },
     "execution_count": 33,
     "metadata": {},
     "output_type": "execute_result"
    }
   ],
   "source": [
    "# Calculando o ATU (média dos tau_previsto para D=0)\n",
    "ATU_OR_bilateral = data[data['D'] == 0]['ITE_OR_DImput'].mean()\n",
    "ATU_OR_bilateral"
   ]
  },
  {
   "cell_type": "markdown",
   "metadata": {},
   "source": [
    "***OR Unilateral***\n",
    "\n",
    "Certo, agora queremos verificar se fazendo o OR unilateral chegamos a um resultado semelhante. Entretanto, agora vamos considerar os valores observados de $Y$ para os tratados, contra os valores imputados do contrafactual $Y^{0}$. Em termos de equação:\n",
    "\n",
    "\n",
    "$$ \\hat{ATT} = \\frac{1}{n} \\sum_{i:D=1} (Y_i - \\widehat{Y}^0_i) $$\n"
   ]
  },
  {
   "cell_type": "code",
   "execution_count": 43,
   "metadata": {},
   "outputs": [
    {
     "data": {
      "text/plain": [
       "-201.8403874939284"
      ]
     },
     "execution_count": 43,
     "metadata": {},
     "output_type": "execute_result"
    }
   ],
   "source": [
    "ATT_OR_unilateral = (data.loc[data['D'] == 1, 'Y'] - data.loc[data['D'] == 1, 'Y_imput_0']).mean()\n",
    "ATT_OR_unilateral"
   ]
  },
  {
   "cell_type": "markdown",
   "metadata": {},
   "source": [
    "para o ATU:\n",
    "\n",
    "\n",
    "$$ \\hat{ATU} = \\frac{1}{n} \\sum_{i:D=0} (\\widehat{Y}^1_i - Y_i) $$\n"
   ]
  },
  {
   "cell_type": "code",
   "execution_count": 44,
   "metadata": {},
   "outputs": [
    {
     "data": {
      "text/plain": [
       "-232.91057102404469"
      ]
     },
     "execution_count": 44,
     "metadata": {},
     "output_type": "execute_result"
    }
   ],
   "source": [
    "ATU_OR_unilateral = (data.loc[data['D'] == 0, 'Y_imput_1'] - data.loc[data['D'] == 0, 'Y']).mean()\n",
    "ATU_OR_unilateral"
   ]
  },
  {
   "cell_type": "markdown",
   "metadata": {},
   "source": [
    "Para fechar e identificarmos o ATE, vamos fazer a média ponderada."
   ]
  },
  {
   "cell_type": "code",
   "execution_count": 46,
   "metadata": {},
   "outputs": [
    {
     "data": {
      "text/plain": [
       "0.18612666953899182"
      ]
     },
     "execution_count": 46,
     "metadata": {},
     "output_type": "execute_result"
    }
   ],
   "source": [
    "# Proporção de tratados\n",
    "p = data['D'].mean()  # média de D = proporção de 1's\n",
    "p"
   ]
  },
  {
   "cell_type": "code",
   "execution_count": 47,
   "metadata": {},
   "outputs": [
    {
     "data": {
      "text/plain": [
       "-227.1275812416189"
      ]
     },
     "execution_count": 47,
     "metadata": {},
     "output_type": "execute_result"
    }
   ],
   "source": [
    "# ATE como combinação ponderada\n",
    "ATE_from_unilateral = p * ATT_OR_unilateral + (1 - p) * ATU_OR_unilateral\n",
    "\n",
    "ATE_from_unilateral\n"
   ]
  },
  {
   "cell_type": "markdown",
   "metadata": {},
   "source": [
    "Nesse exemplo vimos que os resultados encontrados são muito semelhantes entre o OR unilateral e o bilateral, conforme esperado.\n",
    "\n",
    "* ATE Bilaterial: $-227.12758124161465$\n",
    "* ATE Unilateral: $-227.1275812416189$\n",
    "\n",
    "* ATT Bilateral: $-201.84038749392622$\n",
    "* ATT Unilateral: $-201.8403874939284$"
   ]
  },
  {
   "cell_type": "markdown",
   "metadata": {},
   "source": [
    "***Inferência Causal***\n",
    "\n",
    "Supondo que já tivéssemos estudado as relações de causa e efeito do problema econômico e entendido que o efeito é direto, e as confundidoras são controladas pelas covariáveis utilizadas (ou seja, identificação e estimação foram realizadas). Em seguida, utilizamos a técnica de Outcome Regression para obtermos o valor pontual do efeito (nosso estimador).\n",
    "\n",
    "Agora, passamos para a próxima etapa: ***inferência causal***.\n",
    "\n",
    "Sabemos que a amostra que possuímos é apenas uma parte da população, e que a inferência causal é sempre feita para a população. Por isso, precisamos construir intervalos de confiança em torno das nossas estimativas do efeito. Essa etapa é essencial, pois nos permite:\n",
    "\n",
    "Avaliar a precisão das estimativas (quanto mais estreito o intervalo, mais informativa é a estimativa);\n",
    "* Quantificar a incerteza amostral associada ao efeito causal;\n",
    "* Realizar testes de hipóteses sobre a significância estatística do efeito.\n",
    "\n",
    "Para a inferência podemos pensar em dois casos principais:\n",
    "* Amostra representativa da população\n",
    "  * Neste caso, podemos calcular o intervalo de confiança diretamente a partir da distribuição amostral do estimador. Em prática, isso significa utilizar o erro padrão do estimador da regressão para construir intervalos e realizar testes de hipóteses.\n",
    "* Amostra não representativa ou em contextos mais complexos\n",
    "  * Aqui, técnicas adicionais são necessárias. Exemplos incluem: Técnicas de reamostragem (como bootstrap ou jackknife),\n",
    "\n",
    "\n",
    "\n",
    "\n",
    "\n",
    "\n",
    "\n",
    "\n",
    "\n",
    "\n",
    "\n",
    "\n",
    "\n",
    "Supondo que já estivessemos estudado as relações de causa e efeito do problema econômico e entendido que o efeito é direto, e as confundidoras são controladas pelas covariáveis utilizadas (Identificação e estimação foram realizadas). Depois disso, utilizamos a técnica de Outcome Regression para encontrarmos o valor pontual do efeito (estimador).\n",
    "\n",
    "Agora, vamos para a proxima etapa: **inferência causal**.\n",
    "\n",
    "Sabemos que a amostra que possuímos é parte da população, e que a ***inferência causal*** é feita para a população. Então, precisamos construir intervalos de confiança para as estimativas do efeito pontual (estimador). Essa parte é importante, pois nos permite avaliar a precisão das nossas estimativas e a incerteza associada a elas.\n",
    "\n",
    "Para inferência teríamos dois casos principais:\n",
    "* Caso tivéssemos uma amostra representativa da população, precisaríamos calcular o intervalo de confiança a partir da distribuição amostral do estimador.\n",
    "* Caso não tivéssemos uma amostra representativa, precisaríamos usar outras\n",
    "\n",
    "Aqui fica como uma curiosidade. E se quisermos fazer a inferência sobre o efeito encontrado?\n",
    "\n",
    "A ideia é simples: já temos um valor estimado (estimador) que é uma média de observações (diferenças de outcomes observados e previstos). \n",
    "\n",
    "Isso significa que podemos usar diretamente a *variância amostral* dessas diferenças para calcular o *erro padrão*.\n",
    "\n",
    "Lembre que queremos encontrar um intervalo de confiança para o efeito estimado. Para isso, podemos usar a distribuição normal e calcular um intervalo em torno do valor estimado (estimador).\n"
   ]
  },
  {
   "cell_type": "markdown",
   "metadata": {},
   "source": [
    "* ***Para o ATT***\n",
    "\n",
    "O efeito seria a diferença entre o observado e o previsto para os tratados:"
   ]
  },
  {
   "cell_type": "code",
   "execution_count": 42,
   "metadata": {},
   "outputs": [
    {
     "data": {
      "application/vnd.microsoft.datawrangler.viewer.v0+json": {
       "columns": [
        {
         "name": "index",
         "rawType": "int64",
         "type": "integer"
        },
        {
         "name": "0",
         "rawType": "float64",
         "type": "float"
        }
       ],
       "ref": "3bf40a48-1136-4bd4-afa6-4acaba71fe25",
       "rows": [
        [
         "10",
         "-447.55366432833625"
        ],
        [
         "19",
         "133.19758193273356"
        ],
        [
         "24",
         "-240.96061413742746"
        ],
        [
         "42",
         "-815.9865015019841"
        ],
        [
         "46",
         "-686.1960293046882"
        ],
        [
         "48",
         "246.39001023581795"
        ],
        [
         "51",
         "174.5224410682763"
        ],
        [
         "59",
         "-960.6311106840067"
        ],
        [
         "80",
         "-169.9813779772462"
        ],
        [
         "83",
         "-668.7564010053065"
        ],
        [
         "85",
         "-563.8311803756555"
        ],
        [
         "93",
         "-318.276412078731"
        ],
        [
         "95",
         "-472.40987151549234"
        ],
        [
         "98",
         "-452.1535651184654"
        ],
        [
         "101",
         "-493.90238630512385"
        ],
        [
         "105",
         "565.5391981187254"
        ],
        [
         "120",
         "-636.6781300521625"
        ],
        [
         "132",
         "-516.129171351663"
        ],
        [
         "137",
         "-671.0940377982442"
        ],
        [
         "139",
         "-448.4143883450947"
        ],
        [
         "142",
         "99.99602629029778"
        ],
        [
         "143",
         "-69.2031517067021"
        ],
        [
         "148",
         "-43.672889486517306"
        ],
        [
         "154",
         "51.81311309411785"
        ],
        [
         "172",
         "-489.9843433825663"
        ],
        [
         "174",
         "-417.8984523309805"
        ],
        [
         "179",
         "-447.66440274181423"
        ],
        [
         "184",
         "-251.14246635704558"
        ],
        [
         "195",
         "-116.3256758483958"
        ],
        [
         "200",
         "-1005.6842133490527"
        ],
        [
         "201",
         "-911.4776050344049"
        ],
        [
         "209",
         "-855.9667999575158"
        ],
        [
         "212",
         "156.8870443310493"
        ],
        [
         "215",
         "-245.9829639677946"
        ],
        [
         "220",
         "148.8661361931613"
        ],
        [
         "231",
         "-398.1417446898854"
        ],
        [
         "243",
         "-502.4219204380479"
        ],
        [
         "246",
         "-161.2062470727442"
        ],
        [
         "254",
         "-702.5812299117915"
        ],
        [
         "263",
         "624.2648701218423"
        ],
        [
         "273",
         "-286.55811021971294"
        ],
        [
         "275",
         "541.6762652023517"
        ],
        [
         "277",
         "-883.0494620662735"
        ],
        [
         "278",
         "279.3762582818067"
        ],
        [
         "280",
         "421.2701073392532"
        ],
        [
         "283",
         "56.480609456255934"
        ],
        [
         "299",
         "-308.09915214083367"
        ],
        [
         "302",
         "-587.9883040708933"
        ],
        [
         "308",
         "-448.26644564077924"
        ],
        [
         "311",
         "508.76920340130846"
        ]
       ],
       "shape": {
        "columns": 1,
        "rows": 864
       }
      },
      "text/plain": [
       "10     -447.553664\n",
       "19      133.197582\n",
       "24     -240.960614\n",
       "42     -815.986502\n",
       "46     -686.196029\n",
       "           ...    \n",
       "4617    -13.896406\n",
       "4619    -22.623742\n",
       "4622    898.266834\n",
       "4637     49.535403\n",
       "4638   -370.404614\n",
       "Length: 864, dtype: float64"
      ]
     },
     "execution_count": 42,
     "metadata": {},
     "output_type": "execute_result"
    }
   ],
   "source": [
    "diff_ATT = data.loc[data['D'] == 1, 'Y'] - data.loc[data['D'] == 1, 'Y_prev_0']\n",
    "diff_ATT"
   ]
  },
  {
   "cell_type": "code",
   "execution_count": null,
   "metadata": {},
   "outputs": [],
   "source": [
    "# média de diff_ATT\n",
    "diff_ATT.mean()"
   ]
  },
  {
   "cell_type": "markdown",
   "metadata": {},
   "source": [
    "Para termos um intervalo de confiança, precisamos calcular o erro padrão."
   ]
  },
  {
   "cell_type": "code",
   "execution_count": 44,
   "metadata": {},
   "outputs": [
    {
     "data": {
      "text/plain": [
       "18.90912761229897"
      ]
     },
     "execution_count": 44,
     "metadata": {},
     "output_type": "execute_result"
    }
   ],
   "source": [
    "import numpy as np\n",
    "\n",
    "se_ATT = diff_ATT.std(ddof=1) / np.sqrt(len(diff_ATT))\n",
    "se_ATT"
   ]
  },
  {
   "cell_type": "markdown",
   "metadata": {},
   "source": [
    "Depois, podemos calcular o intervalo de confiança:\n"
   ]
  },
  {
   "cell_type": "code",
   "execution_count": 46,
   "metadata": {},
   "outputs": [
    {
     "data": {
      "text/plain": [
       "(-238.90159659310626, -164.77917839475055)"
      ]
     },
     "execution_count": 46,
     "metadata": {},
     "output_type": "execute_result"
    }
   ],
   "source": [
    "from scipy.stats import norm\n",
    "\n",
    "alpha = 0.05\n",
    "z = norm.ppf(1 - alpha/2)\n",
    "ci_ATT = (ATT_OR_unilateral - z*se_ATT, ATT_OR_unilateral + z*se_ATT)\n",
    "ci_ATT"
   ]
  },
  {
   "cell_type": "markdown",
   "metadata": {},
   "source": [
    "* para o ***ATU***"
   ]
  },
  {
   "cell_type": "code",
   "execution_count": 48,
   "metadata": {},
   "outputs": [
    {
     "data": {
      "application/vnd.microsoft.datawrangler.viewer.v0+json": {
       "columns": [
        {
         "name": "index",
         "rawType": "int64",
         "type": "integer"
        },
        {
         "name": "0",
         "rawType": "float64",
         "type": "float"
        }
       ],
       "ref": "8331c8dc-3ed8-4718-be85-dd45c020e13e",
       "rows": [
        [
         "0",
         "-240.5472144927685"
        ],
        [
         "1",
         "-217.37574400078483"
        ],
        [
         "2",
         "-368.5535710449849"
        ],
        [
         "3",
         "235.0667656407045"
        ],
        [
         "4",
         "884.98450857239"
        ],
        [
         "5",
         "-98.38330895865784"
        ],
        [
         "6",
         "-484.07854373620194"
        ],
        [
         "7",
         "-407.2739394269388"
        ],
        [
         "8",
         "618.0810948228836"
        ],
        [
         "9",
         "-742.2708526830365"
        ],
        [
         "11",
         "-308.52996820711996"
        ],
        [
         "12",
         "-823.8794102647471"
        ],
        [
         "13",
         "-605.9485570142465"
        ],
        [
         "14",
         "2320.390749611821"
        ],
        [
         "15",
         "-432.4400524901898"
        ],
        [
         "16",
         "-315.6854098455451"
        ],
        [
         "17",
         "-427.049149069082"
        ],
        [
         "18",
         "-1463.8139044417285"
        ],
        [
         "20",
         "-1086.161608793259"
        ],
        [
         "21",
         "-863.8895128201025"
        ],
        [
         "22",
         "104.012271786165"
        ],
        [
         "23",
         "779.4867926458628"
        ],
        [
         "25",
         "-163.3885823531864"
        ],
        [
         "26",
         "295.41308649716893"
        ],
        [
         "27",
         "1250.762005717445"
        ],
        [
         "28",
         "-912.8578914184336"
        ],
        [
         "29",
         "-898.7990737815517"
        ],
        [
         "30",
         "-976.3193624887922"
        ],
        [
         "31",
         "-897.4595927639534"
        ],
        [
         "32",
         "-489.36238623275085"
        ],
        [
         "33",
         "-566.5931115616941"
        ],
        [
         "34",
         "-941.6783160839814"
        ],
        [
         "35",
         "-939.4593618585718"
        ],
        [
         "36",
         "216.86293988012767"
        ],
        [
         "37",
         "-892.0005810721755"
        ],
        [
         "38",
         "-838.3016946636767"
        ],
        [
         "39",
         "347.54736364302926"
        ],
        [
         "40",
         "-879.8760336932269"
        ],
        [
         "41",
         "72.74502466355398"
        ],
        [
         "43",
         "-507.7551025389321"
        ],
        [
         "44",
         "-1030.1788628190939"
        ],
        [
         "45",
         "746.5819090497921"
        ],
        [
         "47",
         "36.88124682426678"
        ],
        [
         "49",
         "-171.60406076545996"
        ],
        [
         "50",
         "72.4628359958001"
        ],
        [
         "52",
         "272.9393986419136"
        ],
        [
         "53",
         "294.32978178697886"
        ],
        [
         "54",
         "-47.852892576904196"
        ],
        [
         "55",
         "44.45760128434813"
        ],
        [
         "56",
         "-424.2702541308113"
        ]
       ],
       "shape": {
        "columns": 1,
        "rows": 3778
       }
      },
      "text/plain": [
       "0      -240.547214\n",
       "1      -217.375744\n",
       "2      -368.553571\n",
       "3       235.066766\n",
       "4       884.984509\n",
       "           ...    \n",
       "4635    -22.312879\n",
       "4636   -683.569526\n",
       "4639    234.391476\n",
       "4640   -709.233084\n",
       "4641    -20.824356\n",
       "Length: 3778, dtype: float64"
      ]
     },
     "execution_count": 48,
     "metadata": {},
     "output_type": "execute_result"
    }
   ],
   "source": [
    "diff_ATU = data.loc[data['D'] == 0, 'Y_prev_1'] - data.loc[data['D'] == 0, 'Y']\n",
    "diff_ATU"
   ]
  },
  {
   "cell_type": "code",
   "execution_count": 49,
   "metadata": {},
   "outputs": [
    {
     "data": {
      "text/plain": [
       "9.105278576890743"
      ]
     },
     "execution_count": 49,
     "metadata": {},
     "output_type": "execute_result"
    }
   ],
   "source": [
    "se_ATU = diff_ATU.std(ddof=1) / np.sqrt(len(diff_ATU))\n",
    "se_ATU"
   ]
  },
  {
   "cell_type": "markdown",
   "metadata": {},
   "source": [
    "* para o ***ATE***\n",
    "\n",
    "\n"
   ]
  },
  {
   "cell_type": "code",
   "execution_count": 51,
   "metadata": {},
   "outputs": [
    {
     "data": {
      "text/plain": [
       "67.30298408500987"
      ]
     },
     "execution_count": 51,
     "metadata": {},
     "output_type": "execute_result"
    }
   ],
   "source": [
    "var_ATE = (p**2 * se_ATT**2) + ((1-p)**2 * se_ATU**2)\n",
    "var_ATE\n"
   ]
  },
  {
   "cell_type": "code",
   "execution_count": 52,
   "metadata": {},
   "outputs": [
    {
     "data": {
      "text/plain": [
       "8.203839594056547"
      ]
     },
     "execution_count": 52,
     "metadata": {},
     "output_type": "execute_result"
    }
   ],
   "source": [
    "se_ATE = np.sqrt(var_ATE)\n",
    "se_ATE"
   ]
  },
  {
   "cell_type": "code",
   "execution_count": 53,
   "metadata": {},
   "outputs": [
    {
     "data": {
      "text/plain": [
       "(-243.20681138091345, -211.04835110232438)"
      ]
     },
     "execution_count": 53,
     "metadata": {},
     "output_type": "execute_result"
    }
   ],
   "source": [
    "ci_ATE = (ATE_from_unilateral - z*se_ATE, ATE_from_unilateral + z*se_ATE)\n",
    "ci_ATE"
   ]
  },
  {
   "cell_type": "markdown",
   "metadata": {},
   "source": [
    "Essa abordagem é válida se as previsões $\\hat{Y}(0)$ e $\\hat{Y}(1)$ vierem de um modelo fixo.\n",
    "\n",
    "Se as previsões vierem de um modelo estimado nos mesmos dados que está usando para calcular os efeitos, o erro padrão fica subestimado (nosso caso). \n",
    "\n",
    "* Nesse caso, ou você:\n",
    "  * Usa bootstrap (reestimando o modelo a cada replicação), ou\n",
    "  * Aplica técnicas de correção de incerteza como no statsmodels ou no doubleml."
   ]
  },
  {
   "cell_type": "code",
   "execution_count": 55,
   "metadata": {},
   "outputs": [
    {
     "name": "stdout",
     "output_type": "stream",
     "text": [
      "ATT_OR\n",
      "Coeficiente   -201.840387\n",
      "Erro Padrão     18.909128\n",
      "z-stat         -10.674231\n",
      "p-valor          0.000000\n",
      "IC Inferior   -238.901597\n",
      "IC Superior   -164.779178\n",
      "dtype: float64 \n",
      "\n",
      "ATU_OR\n",
      "Coeficiente   -232.910571\n",
      "Erro Padrão      9.105279\n",
      "z-stat         -25.579730\n",
      "p-valor          0.000000\n",
      "IC Inferior   -250.756589\n",
      "IC Superior   -215.064553\n",
      "dtype: float64 \n",
      "\n",
      "ATE_OR\n",
      "Coeficiente   -227.127581\n",
      "Erro Padrão      8.203840\n",
      "z-stat         -27.685522\n",
      "p-valor          0.000000\n",
      "IC Inferior   -243.206811\n",
      "IC Superior   -211.048351\n",
      "dtype: float64 \n",
      "\n",
      "Resumo:\n",
      "        Coeficiente  Erro Padrão   z-stat  p-valor  IC Inferior  IC Superior\n",
      "ATT_OR    -201.8404      18.9091 -10.6742      0.0    -238.9016    -164.7792\n",
      "ATU_OR    -232.9106       9.1053 -25.5797      0.0    -250.7566    -215.0646\n",
      "ATE_OR    -227.1276       8.2038 -27.6855      0.0    -243.2068    -211.0484\n"
     ]
    }
   ],
   "source": [
    "import numpy as np\n",
    "import pandas as pd\n",
    "from scipy.stats import norm\n",
    "\n",
    "# =========================\n",
    "# Cálculo ATT e ATU \"na mão\"\n",
    "# =========================\n",
    "# Diferença para tratados\n",
    "diff_ATT = data.loc[data['D'] == 1, 'Y'] - data.loc[data['D'] == 1, 'Y_prev_0']\n",
    "ATT = diff_ATT.mean()\n",
    "se_ATT = diff_ATT.std(ddof=1) / np.sqrt(len(diff_ATT))\n",
    "\n",
    "# Diferença para não tratados\n",
    "diff_ATU = data.loc[data['D'] == 0, 'Y_prev_1'] - data.loc[data['D'] == 0, 'Y']\n",
    "ATU = diff_ATU.mean()\n",
    "se_ATU = diff_ATU.std(ddof=1) / np.sqrt(len(diff_ATU))\n",
    "\n",
    "# Proporção de tratados\n",
    "p = data['D'].mean()\n",
    "\n",
    "# =========================\n",
    "# ATE pelo Delta Método\n",
    "# =========================\n",
    "ATE = p * ATT + (1 - p) * ATU\n",
    "se_ATE = np.sqrt((p**2) * (se_ATT**2) + ((1 - p)**2) * (se_ATU**2))\n",
    "\n",
    "# =========================\n",
    "# Função para estatísticas\n",
    "# =========================\n",
    "def summary_coef(est, se, alpha=0.05):\n",
    "    z_stat = est / se\n",
    "    p_value = 2 * (1 - norm.cdf(abs(z_stat)))\n",
    "    z_crit = norm.ppf(1 - alpha/2)\n",
    "    ci_lower = est - z_crit * se\n",
    "    ci_upper = est + z_crit * se\n",
    "    return {\n",
    "        \"Coeficiente\": est,\n",
    "        \"Erro Padrão\": se,\n",
    "        \"z-stat\": z_stat,\n",
    "        \"p-valor\": p_value,\n",
    "        \"IC Inferior\": ci_lower,\n",
    "        \"IC Superior\": ci_upper\n",
    "    }\n",
    "\n",
    "# =========================\n",
    "# Resultados finais\n",
    "# =========================\n",
    "res_ATT = summary_coef(ATT, se_ATT)\n",
    "res_ATU = summary_coef(ATU, se_ATU)   # <--- ATU incluído\n",
    "res_ATE = summary_coef(ATE, se_ATE)\n",
    "\n",
    "print(\"ATT_OR\")\n",
    "print(pd.Series(res_ATT), \"\\n\")\n",
    "\n",
    "print(\"ATU_OR\")\n",
    "print(pd.Series(res_ATU), \"\\n\")\n",
    "\n",
    "print(\"ATE_OR\")\n",
    "print(pd.Series(res_ATE), \"\\n\")\n",
    "\n",
    "# Tabela-resumo (opcional)\n",
    "summary_df = pd.DataFrame({\n",
    "    \"ATT_OR\": res_ATT,\n",
    "    \"ATU_OR\": res_ATU,\n",
    "    \"ATE_OR\": res_ATE\n",
    "}).T\n",
    "\n",
    "print(\"Resumo:\")\n",
    "print(summary_df.round(4))\n",
    "\n"
   ]
  },
  {
   "cell_type": "markdown",
   "metadata": {},
   "source": []
  },
  {
   "cell_type": "code",
   "execution_count": 69,
   "metadata": {},
   "outputs": [
    {
     "name": "stderr",
     "output_type": "stream",
     "text": [
      "Learner provided for ml_m is probably invalid: LinearRegression() is (probably) no classifier.\n"
     ]
    },
    {
     "ename": "TypeError",
     "evalue": "Invalid learner provided for ml_m: LinearRegression() has no method .predict_proba().",
     "output_type": "error",
     "traceback": [
      "\u001b[1;31m---------------------------------------------------------------------------\u001b[0m",
      "\u001b[1;31mTypeError\u001b[0m                                 Traceback (most recent call last)",
      "Cell \u001b[1;32mIn[69], line 20\u001b[0m\n\u001b[0;32m     17\u001b[0m ml_m \u001b[38;5;241m=\u001b[39m LinearRegression()                 \u001b[38;5;66;03m# outcome model (regressor, Y contínuo)\u001b[39;00m\n\u001b[0;32m     18\u001b[0m ml_g \u001b[38;5;241m=\u001b[39m LogisticRegression(max_iter\u001b[38;5;241m=\u001b[39m\u001b[38;5;241m2000\u001b[39m)  \u001b[38;5;66;03m# propensity (classificador)\u001b[39;00m\n\u001b[1;32m---> 20\u001b[0m dml_ate \u001b[38;5;241m=\u001b[39m \u001b[43mDoubleMLIRM\u001b[49m\u001b[43m(\u001b[49m\u001b[43mdml_data\u001b[49m\u001b[43m,\u001b[49m\u001b[43m \u001b[49m\u001b[43mml_g\u001b[49m\u001b[38;5;241;43m=\u001b[39;49m\u001b[43mml_g\u001b[49m\u001b[43m,\u001b[49m\u001b[43m \u001b[49m\u001b[43mml_m\u001b[49m\u001b[38;5;241;43m=\u001b[39;49m\u001b[43mml_m\u001b[49m\u001b[43m,\u001b[49m\n\u001b[0;32m     21\u001b[0m \u001b[43m                      \u001b[49m\u001b[43mn_folds\u001b[49m\u001b[38;5;241;43m=\u001b[39;49m\u001b[38;5;241;43m5\u001b[39;49m\u001b[43m,\u001b[49m\u001b[43m \u001b[49m\u001b[43mscore\u001b[49m\u001b[38;5;241;43m=\u001b[39;49m\u001b[38;5;124;43m'\u001b[39;49m\u001b[38;5;124;43mATE\u001b[39;49m\u001b[38;5;124;43m'\u001b[39;49m\u001b[43m,\u001b[49m\n\u001b[0;32m     22\u001b[0m \u001b[43m                      \u001b[49m\u001b[43mtrimming_rule\u001b[49m\u001b[38;5;241;43m=\u001b[39;49m\u001b[38;5;124;43m'\u001b[39;49m\u001b[38;5;124;43mtruncate\u001b[39;49m\u001b[38;5;124;43m'\u001b[39;49m\u001b[43m,\u001b[49m\u001b[43m \u001b[49m\u001b[43mtrimming_threshold\u001b[49m\u001b[38;5;241;43m=\u001b[39;49m\u001b[38;5;241;43m0.01\u001b[39;49m\u001b[43m)\u001b[49m\n\u001b[0;32m     23\u001b[0m dml_ate\u001b[38;5;241m.\u001b[39mfit()\n\u001b[0;32m     24\u001b[0m \u001b[38;5;28mprint\u001b[39m(\u001b[38;5;124m\"\u001b[39m\u001b[38;5;130;01m\\n\u001b[39;00m\u001b[38;5;124m=== DoubleML IRM (linear) ===\u001b[39m\u001b[38;5;124m\"\u001b[39m)\n",
      "File \u001b[1;32mc:\\Users\\danie\\AppData\\Local\\Programs\\Python\\Python311\\Lib\\site-packages\\doubleml\\irm\\irm.py:150\u001b[0m, in \u001b[0;36mDoubleMLIRM.__init__\u001b[1;34m(self, obj_dml_data, ml_g, ml_m, n_folds, n_rep, score, weights, normalize_ipw, trimming_rule, trimming_threshold, draw_sample_splitting)\u001b[0m\n\u001b[0;32m    147\u001b[0m     \u001b[38;5;28mself\u001b[39m\u001b[38;5;241m.\u001b[39mdraw_sample_splitting()\n\u001b[0;32m    149\u001b[0m ml_g_is_classifier \u001b[38;5;241m=\u001b[39m \u001b[38;5;28mself\u001b[39m\u001b[38;5;241m.\u001b[39m_check_learner(ml_g, \u001b[38;5;124m\"\u001b[39m\u001b[38;5;124mml_g\u001b[39m\u001b[38;5;124m\"\u001b[39m, regressor\u001b[38;5;241m=\u001b[39m\u001b[38;5;28;01mTrue\u001b[39;00m, classifier\u001b[38;5;241m=\u001b[39m\u001b[38;5;28;01mTrue\u001b[39;00m)\n\u001b[1;32m--> 150\u001b[0m _ \u001b[38;5;241m=\u001b[39m \u001b[38;5;28;43mself\u001b[39;49m\u001b[38;5;241;43m.\u001b[39;49m\u001b[43m_check_learner\u001b[49m\u001b[43m(\u001b[49m\u001b[43mml_m\u001b[49m\u001b[43m,\u001b[49m\u001b[43m \u001b[49m\u001b[38;5;124;43m\"\u001b[39;49m\u001b[38;5;124;43mml_m\u001b[39;49m\u001b[38;5;124;43m\"\u001b[39;49m\u001b[43m,\u001b[49m\u001b[43m \u001b[49m\u001b[43mregressor\u001b[49m\u001b[38;5;241;43m=\u001b[39;49m\u001b[38;5;28;43;01mFalse\u001b[39;49;00m\u001b[43m,\u001b[49m\u001b[43m \u001b[49m\u001b[43mclassifier\u001b[49m\u001b[38;5;241;43m=\u001b[39;49m\u001b[38;5;28;43;01mTrue\u001b[39;49;00m\u001b[43m)\u001b[49m\n\u001b[0;32m    151\u001b[0m \u001b[38;5;28mself\u001b[39m\u001b[38;5;241m.\u001b[39m_learner \u001b[38;5;241m=\u001b[39m {\u001b[38;5;124m\"\u001b[39m\u001b[38;5;124mml_g\u001b[39m\u001b[38;5;124m\"\u001b[39m: ml_g, \u001b[38;5;124m\"\u001b[39m\u001b[38;5;124mml_m\u001b[39m\u001b[38;5;124m\"\u001b[39m: ml_m}\n\u001b[0;32m    152\u001b[0m \u001b[38;5;28;01mif\u001b[39;00m ml_g_is_classifier:\n",
      "File \u001b[1;32mc:\\Users\\danie\\AppData\\Local\\Programs\\Python\\Python311\\Lib\\site-packages\\doubleml\\double_ml.py:1010\u001b[0m, in \u001b[0;36mDoubleML._check_learner\u001b[1;34m(learner, learner_name, regressor, classifier)\u001b[0m\n\u001b[0;32m   1008\u001b[0m \u001b[38;5;28;01mif\u001b[39;00m learner_is_classifier:\n\u001b[0;32m   1009\u001b[0m     \u001b[38;5;28;01mif\u001b[39;00m \u001b[38;5;129;01mnot\u001b[39;00m \u001b[38;5;28mhasattr\u001b[39m(learner, \u001b[38;5;124m\"\u001b[39m\u001b[38;5;124mpredict_proba\u001b[39m\u001b[38;5;124m\"\u001b[39m):\n\u001b[1;32m-> 1010\u001b[0m         \u001b[38;5;28;01mraise\u001b[39;00m \u001b[38;5;167;01mTypeError\u001b[39;00m(err_msg_prefix \u001b[38;5;241m+\u001b[39m \u001b[38;5;124mf\u001b[39m\u001b[38;5;124m\"\u001b[39m\u001b[38;5;132;01m{\u001b[39;00m\u001b[38;5;28mstr\u001b[39m(learner)\u001b[38;5;132;01m}\u001b[39;00m\u001b[38;5;124m has no method .predict_proba().\u001b[39m\u001b[38;5;124m\"\u001b[39m)\n\u001b[0;32m   1011\u001b[0m \u001b[38;5;28;01melse\u001b[39;00m:\n\u001b[0;32m   1012\u001b[0m     \u001b[38;5;28;01mif\u001b[39;00m \u001b[38;5;129;01mnot\u001b[39;00m \u001b[38;5;28mhasattr\u001b[39m(learner, \u001b[38;5;124m\"\u001b[39m\u001b[38;5;124mpredict\u001b[39m\u001b[38;5;124m\"\u001b[39m):\n",
      "\u001b[1;31mTypeError\u001b[0m: Invalid learner provided for ml_m: LinearRegression() has no method .predict_proba()."
     ]
    }
   ],
   "source": [
    "import numpy as np\n",
    "import pandas as pd\n",
    "import statsmodels.api as sm\n",
    "from sklearn.linear_model import LinearRegression, LogisticRegression\n",
    "from doubleml import DoubleMLData, DoubleMLIRM\n",
    "from econml.dr import DRLearner\n",
    "\n",
    "# -------- 0) Preparar dados\n",
    "y_col = 'Y'\n",
    "d_col = 'D'\n",
    "x_cols = ['casada','mage','medu','fage','fedu','nprenatal']\n",
    "\n",
    "df = data[[y_col, d_col] + x_cols].copy()\n",
    "\n",
    "# -------- 2) DOUBLEML (IRM) - linear\n",
    "dml_data = DoubleMLData(df, y_col, d_col, x_cols)\n",
    "ml_m = LinearRegression()                 # outcome model (regressor, Y contínuo)\n",
    "ml_g = LogisticRegression(max_iter=2000)  # propensity (classificador)\n",
    "\n",
    "dml_ate = DoubleMLIRM(dml_data, ml_g=ml_g, ml_m=ml_m,\n",
    "                      n_folds=5, score='ATE',\n",
    "                      trimming_rule='truncate', trimming_threshold=0.01)\n",
    "dml_ate.fit()\n",
    "print(\"\\n=== DoubleML IRM (linear) ===\")\n",
    "print(f\"ATE: {dml_ate.coef_[0]:.6f} | SE {dml_ate.se_[0]:.6f} | 95% CI {tuple(dml_ate.confint().values[0])}\")\n",
    "\n",
    "dml_att = DoubleMLIRM(dml_data, ml_g=ml_g, ml_m=ml_m, n_folds=5, score='ATTE')\n",
    "dml_att.fit()\n",
    "print(f\"ATT: {dml_att.coef_[0]:.6f} | SE {dml_att.se_[0]:.6f} | 95% CI {tuple(dml_att.confint().values[0])}\")\n"
   ]
  },
  {
   "cell_type": "code",
   "execution_count": 64,
   "metadata": {},
   "outputs": [
    {
     "name": "stdout",
     "output_type": "stream",
     "text": [
      "dtype(Y)= float64\n",
      "n_unique(Y)= 732\n",
      "unique(Y) sample: [340.0, 397.0, 454.0, 480.0, 482.0, 485.0, 600.0, 662.0, 680.0, 706.0]\n"
     ]
    }
   ],
   "source": [
    "print('dtype(Y)=', data['Y'].dtype)\n",
    "print('n_unique(Y)=', data['Y'].nunique())\n",
    "print('unique(Y) sample:', sorted(data['Y'].dropna().unique())[:10])\n"
   ]
  },
  {
   "cell_type": "code",
   "execution_count": 63,
   "metadata": {},
   "outputs": [
    {
     "name": "stdout",
     "output_type": "stream",
     "text": [
      "Y nunique = 732  | min/max = 340.0 5500.0\n"
     ]
    },
    {
     "name": "stderr",
     "output_type": "stream",
     "text": [
      "c:\\Users\\danie\\AppData\\Local\\Programs\\Python\\Python311\\Lib\\site-packages\\doubleml\\double_ml.py:999: UserWarning: Learner provided for ml_m is probably invalid: LinearRegression() is (probably) no classifier.\n",
      "  warnings.warn(warn_msg_prefix + f\"{str(learner)} is (probably) no classifier.\")\n"
     ]
    },
    {
     "ename": "TypeError",
     "evalue": "Invalid learner provided for ml_m: LinearRegression() has no method .predict_proba().",
     "output_type": "error",
     "traceback": [
      "\u001b[1;31m---------------------------------------------------------------------------\u001b[0m",
      "\u001b[1;31mTypeError\u001b[0m                                 Traceback (most recent call last)",
      "Cell \u001b[1;32mIn[63], line 33\u001b[0m\n\u001b[0;32m     30\u001b[0m ml_m \u001b[38;5;241m=\u001b[39m LinearRegression()                      \u001b[38;5;66;03m# E[Y|X,D], Y contínuo\u001b[39;00m\n\u001b[0;32m     31\u001b[0m ml_g \u001b[38;5;241m=\u001b[39m LogisticRegression(max_iter\u001b[38;5;241m=\u001b[39m\u001b[38;5;241m1000\u001b[39m)       \u001b[38;5;66;03m# P(D=1|X)\u001b[39;00m\n\u001b[1;32m---> 33\u001b[0m dml_ate \u001b[38;5;241m=\u001b[39m \u001b[43mDoubleMLIRM\u001b[49m\u001b[43m(\u001b[49m\u001b[43mdml_data\u001b[49m\u001b[43m,\u001b[49m\u001b[43m \u001b[49m\u001b[43mml_g\u001b[49m\u001b[38;5;241;43m=\u001b[39;49m\u001b[43mml_g\u001b[49m\u001b[43m,\u001b[49m\u001b[43m \u001b[49m\u001b[43mml_m\u001b[49m\u001b[38;5;241;43m=\u001b[39;49m\u001b[43mml_m\u001b[49m\u001b[43m,\u001b[49m\n\u001b[0;32m     34\u001b[0m \u001b[43m                      \u001b[49m\u001b[43mn_folds\u001b[49m\u001b[38;5;241;43m=\u001b[39;49m\u001b[38;5;241;43m5\u001b[39;49m\u001b[43m,\u001b[49m\u001b[43m \u001b[49m\u001b[43mscore\u001b[49m\u001b[38;5;241;43m=\u001b[39;49m\u001b[38;5;124;43m'\u001b[39;49m\u001b[38;5;124;43mATE\u001b[39;49m\u001b[38;5;124;43m'\u001b[39;49m\u001b[43m,\u001b[49m\n\u001b[0;32m     35\u001b[0m \u001b[43m                      \u001b[49m\u001b[43mtrimming_rule\u001b[49m\u001b[38;5;241;43m=\u001b[39;49m\u001b[38;5;124;43m'\u001b[39;49m\u001b[38;5;124;43mtruncate\u001b[39;49m\u001b[38;5;124;43m'\u001b[39;49m\u001b[43m,\u001b[49m\u001b[43m \u001b[49m\u001b[43mtrimming_threshold\u001b[49m\u001b[38;5;241;43m=\u001b[39;49m\u001b[38;5;241;43m0.01\u001b[39;49m\u001b[43m)\u001b[49m\n\u001b[0;32m     36\u001b[0m dml_ate\u001b[38;5;241m.\u001b[39mfit()\n\u001b[0;32m     37\u001b[0m \u001b[38;5;28mprint\u001b[39m(\u001b[38;5;124m'\u001b[39m\u001b[38;5;124mATE:\u001b[39m\u001b[38;5;124m'\u001b[39m, dml_ate\u001b[38;5;241m.\u001b[39mcoef_[\u001b[38;5;241m0\u001b[39m], \u001b[38;5;124m'\u001b[39m\u001b[38;5;124mSE:\u001b[39m\u001b[38;5;124m'\u001b[39m, dml_ate\u001b[38;5;241m.\u001b[39mse_[\u001b[38;5;241m0\u001b[39m])\n",
      "File \u001b[1;32mc:\\Users\\danie\\AppData\\Local\\Programs\\Python\\Python311\\Lib\\site-packages\\doubleml\\irm\\irm.py:150\u001b[0m, in \u001b[0;36mDoubleMLIRM.__init__\u001b[1;34m(self, obj_dml_data, ml_g, ml_m, n_folds, n_rep, score, weights, normalize_ipw, trimming_rule, trimming_threshold, draw_sample_splitting)\u001b[0m\n\u001b[0;32m    147\u001b[0m     \u001b[38;5;28mself\u001b[39m\u001b[38;5;241m.\u001b[39mdraw_sample_splitting()\n\u001b[0;32m    149\u001b[0m ml_g_is_classifier \u001b[38;5;241m=\u001b[39m \u001b[38;5;28mself\u001b[39m\u001b[38;5;241m.\u001b[39m_check_learner(ml_g, \u001b[38;5;124m\"\u001b[39m\u001b[38;5;124mml_g\u001b[39m\u001b[38;5;124m\"\u001b[39m, regressor\u001b[38;5;241m=\u001b[39m\u001b[38;5;28;01mTrue\u001b[39;00m, classifier\u001b[38;5;241m=\u001b[39m\u001b[38;5;28;01mTrue\u001b[39;00m)\n\u001b[1;32m--> 150\u001b[0m _ \u001b[38;5;241m=\u001b[39m \u001b[38;5;28;43mself\u001b[39;49m\u001b[38;5;241;43m.\u001b[39;49m\u001b[43m_check_learner\u001b[49m\u001b[43m(\u001b[49m\u001b[43mml_m\u001b[49m\u001b[43m,\u001b[49m\u001b[43m \u001b[49m\u001b[38;5;124;43m\"\u001b[39;49m\u001b[38;5;124;43mml_m\u001b[39;49m\u001b[38;5;124;43m\"\u001b[39;49m\u001b[43m,\u001b[49m\u001b[43m \u001b[49m\u001b[43mregressor\u001b[49m\u001b[38;5;241;43m=\u001b[39;49m\u001b[38;5;28;43;01mFalse\u001b[39;49;00m\u001b[43m,\u001b[49m\u001b[43m \u001b[49m\u001b[43mclassifier\u001b[49m\u001b[38;5;241;43m=\u001b[39;49m\u001b[38;5;28;43;01mTrue\u001b[39;49;00m\u001b[43m)\u001b[49m\n\u001b[0;32m    151\u001b[0m \u001b[38;5;28mself\u001b[39m\u001b[38;5;241m.\u001b[39m_learner \u001b[38;5;241m=\u001b[39m {\u001b[38;5;124m\"\u001b[39m\u001b[38;5;124mml_g\u001b[39m\u001b[38;5;124m\"\u001b[39m: ml_g, \u001b[38;5;124m\"\u001b[39m\u001b[38;5;124mml_m\u001b[39m\u001b[38;5;124m\"\u001b[39m: ml_m}\n\u001b[0;32m    152\u001b[0m \u001b[38;5;28;01mif\u001b[39;00m ml_g_is_classifier:\n",
      "File \u001b[1;32mc:\\Users\\danie\\AppData\\Local\\Programs\\Python\\Python311\\Lib\\site-packages\\doubleml\\double_ml.py:1010\u001b[0m, in \u001b[0;36mDoubleML._check_learner\u001b[1;34m(learner, learner_name, regressor, classifier)\u001b[0m\n\u001b[0;32m   1008\u001b[0m \u001b[38;5;28;01mif\u001b[39;00m learner_is_classifier:\n\u001b[0;32m   1009\u001b[0m     \u001b[38;5;28;01mif\u001b[39;00m \u001b[38;5;129;01mnot\u001b[39;00m \u001b[38;5;28mhasattr\u001b[39m(learner, \u001b[38;5;124m\"\u001b[39m\u001b[38;5;124mpredict_proba\u001b[39m\u001b[38;5;124m\"\u001b[39m):\n\u001b[1;32m-> 1010\u001b[0m         \u001b[38;5;28;01mraise\u001b[39;00m \u001b[38;5;167;01mTypeError\u001b[39;00m(err_msg_prefix \u001b[38;5;241m+\u001b[39m \u001b[38;5;124mf\u001b[39m\u001b[38;5;124m\"\u001b[39m\u001b[38;5;132;01m{\u001b[39;00m\u001b[38;5;28mstr\u001b[39m(learner)\u001b[38;5;132;01m}\u001b[39;00m\u001b[38;5;124m has no method .predict_proba().\u001b[39m\u001b[38;5;124m\"\u001b[39m)\n\u001b[0;32m   1011\u001b[0m \u001b[38;5;28;01melse\u001b[39;00m:\n\u001b[0;32m   1012\u001b[0m     \u001b[38;5;28;01mif\u001b[39;00m \u001b[38;5;129;01mnot\u001b[39;00m \u001b[38;5;28mhasattr\u001b[39m(learner, \u001b[38;5;124m\"\u001b[39m\u001b[38;5;124mpredict\u001b[39m\u001b[38;5;124m\"\u001b[39m):\n",
      "\u001b[1;31mTypeError\u001b[0m: Invalid learner provided for ml_m: LinearRegression() has no method .predict_proba()."
     ]
    }
   ],
   "source": [
    "import numpy as np\n",
    "import pandas as pd\n",
    "from sklearn.linear_model import LinearRegression, LogisticRegression\n",
    "from doubleml import DoubleMLData, DoubleMLIRM\n",
    "\n",
    "y_col = 'Y'\n",
    "d_col = 'D'\n",
    "x_cols = ['casada', 'mage', 'medu', 'fage', 'fedu', 'nprenatal']\n",
    "\n",
    "df = data[[y_col, d_col] + x_cols].copy()\n",
    "\n",
    "# 1) Converter Y de forma robusta (troca vírgula por ponto, força float)\n",
    "df[y_col] = (df[y_col].astype(str).str.replace(',', '.', regex=False).astype(float))\n",
    "\n",
    "# 2) Garantir D binário e X numéricos\n",
    "df[d_col] = pd.to_numeric(df[d_col], errors='coerce').astype(int)\n",
    "for c in x_cols:\n",
    "    df[c] = pd.to_numeric(df[c], errors='coerce')\n",
    "\n",
    "# 3) Dropar NAs nas colunas usadas\n",
    "df = df.dropna(subset=[y_col, d_col] + x_cols)\n",
    "\n",
    "# 4) Diagnóstico: Y tem que ter >2 valores distintos\n",
    "print('Y nunique =', df[y_col].nunique(), ' | min/max =', df[y_col].min(), df[y_col].max())\n",
    "assert df[y_col].nunique() > 2, \"Y parece binário; verifique o pré-processamento.\"\n",
    "\n",
    "# 5) DoubleML: regressor para ml_m e classificador para ml_g\n",
    "dml_data = DoubleMLData(df, y_col, d_col, x_cols)\n",
    "\n",
    "ml_m = LinearRegression()                      # E[Y|X,D], Y contínuo\n",
    "ml_g = LogisticRegression(max_iter=1000)       # P(D=1|X)\n",
    "\n",
    "dml_ate = DoubleMLIRM(dml_data, ml_g=ml_g, ml_m=ml_m,\n",
    "                      n_folds=5, score='ATE',\n",
    "                      trimming_rule='truncate', trimming_threshold=0.01)\n",
    "dml_ate.fit()\n",
    "print('ATE:', dml_ate.coef_[0], 'SE:', dml_ate.se_[0])\n",
    "\n",
    "dml_att = DoubleMLIRM(dml_data, ml_g=ml_g, ml_m=ml_m,\n",
    "                      n_folds=5, score='ATTE')\n",
    "dml_att.fit()\n",
    "print('ATT:', dml_att.coef_[0], 'SE:', dml_att.se_[0])\n"
   ]
  },
  {
   "cell_type": "markdown",
   "metadata": {},
   "source": [
    "**Outcome Regression - ATE**"
   ]
  },
  {
   "cell_type": "code",
   "execution_count": 30,
   "metadata": {},
   "outputs": [
    {
     "name": "stdout",
     "output_type": "stream",
     "text": [
      "Outcome Regression Estimate - ATE (OR - ATE): -236.52788533678506\n"
     ]
    }
   ],
   "source": [
    "def OR_ate(df, X_cols, T_col, Y_col):\n",
    "    X_np = df[X_cols].values  # Converter X para numpy array\n",
    "    T_np = df[T_col].values  # Converter T para numpy array\n",
    "    Y_np = df[Y_col].values  # Converter Y para numpy array\n",
    "    # Essas linhas convertem as colunas de interesse do DataFrame (df) em arrays numpy, o que facilita a manipulação e os cálculos subsequentes.\n",
    "        \n",
    "    # Ajustar regressão linear para não tratados (D=0)\n",
    "    model_0 = LinearRegression().fit(X_np[T_np==0], Y_np[T_np==0])\n",
    "    mu0 = model_0.predict(X_np)\n",
    "    # Aqui, ajusta-se um modelo de regressão linear para as observações que não receberam o tratamento (T_np == 0). Em seguida, são feitas previsões (mu0) para todas as observações com base neste modelo.\n",
    "    \n",
    "    # Ajustar regressão linear para tratados (D=1)\n",
    "    model_1 = LinearRegression().fit(X_np[T_np==1], Y_np[T_np==1])\n",
    "    mu1 = model_1.predict(X_np)\n",
    "    # Da mesma forma, ajusta-se um modelo de regressão linear para as observações que receberam o tratamento (T_np == 1) e são feitas previsões (mu1) para todas as observações com base neste modelo.\n",
    "    \n",
    "    # Calcular o efeito causal médio\n",
    "    effect = np.mean(mu1 - mu0)\n",
    "    # Calcula-se a diferença média entre as previsões dos modelos para tratados e não tratados, resultando em uma estimativa preliminar do efeito causal médio\n",
    "    \n",
    "    # Calcular os desvios para todas as observações\n",
    "    deviations = (Y_np - (T_np * mu1 + (1 - T_np) * mu0))\n",
    "    # Os desvios são calculados como a diferença entre os valores observados de Y e as previsões ponderadas dos modelos de tratados e não tratados.\n",
    "    \n",
    "    # Calcular a média dos desvios\n",
    "    deviations_mean = np.mean(deviations)\n",
    "    # Calcula-se a média dos desvios, que é usada para ajustar a estimativa do efeito causal médio.\n",
    "    \n",
    "    # Calcular o OR\n",
    "    OR_ate_estimate = effect + deviations_mean\n",
    "    \n",
    "    return OR_ate_estimate\n",
    "\n",
    "# Definir as colunas de interesse\n",
    "T_col = 'Treated'\n",
    "Y_col = 'Y'\n",
    "X_cols = ['casada', 'mage', 'medu']\n",
    "\n",
    "# Calcular o OR\n",
    "result_OR_ate = OR_ate(df, X_cols, T_col, Y_col)\n",
    "print(\"Outcome Regression Estimate - ATE (OR - ATE):\", result_OR_ate)"
   ]
  },
  {
   "cell_type": "markdown",
   "metadata": {},
   "source": [
    "O resultado da estimativa de ATE (Average Treatment Effect) usando a técnica de Outcome Regression é de aproximadamente -236.53. Isso significa que, em média, o efeito do fumo durante a gestação sobre o resultado $Y$ (peso dos bebês ao nascer) é uma redução de aproximadamente 236.53 gramas."
   ]
  },
  {
   "cell_type": "code",
   "execution_count": 31,
   "metadata": {},
   "outputs": [
    {
     "name": "stdout",
     "output_type": "stream",
     "text": [
      "Outcome Regression (ATT): -215.24538690027902\n"
     ]
    }
   ],
   "source": [
    "import pandas as pd\n",
    "import numpy as np\n",
    "from sklearn.linear_model import LinearRegression\n",
    "\n",
    "def OR_att(df, X_cols, T_col, Y_col):\n",
    "    # Separar dados tratados (D=1) e não tratados (D=0)\n",
    "    X_treated = df[df[T_col] == 1][X_cols]\n",
    "    Y_treated = df[df[T_col] == 1][Y_col]\n",
    "    X_control = df[df[T_col] == 0][X_cols]\n",
    "    Y_control = df[df[T_col] == 0][Y_col]\n",
    "\n",
    "    # Ajustar modelos de regressão linear\n",
    "    model_treated = LinearRegression().fit(X_treated, Y_treated)\n",
    "    model_control = LinearRegression().fit(X_control, Y_control)\n",
    "\n",
    "    # Calcular previsões para tratados e não tratados\n",
    "    mu1_X = model_treated.predict(X_treated)\n",
    "    mu0_X = model_control.predict(X_treated)  # Usando X_treated para manter o contrafactual consistente\n",
    "\n",
    "    # Calcular desvios para todas as observações\n",
    "    deviations_treated = Y_treated - mu1_X\n",
    "    deviations_control = Y_control - model_control.predict(X_control)\n",
    "\n",
    "    # Calcular a média dos desvios tratados e não tratados\n",
    "    deviations_mean_treated = deviations_treated.mean()\n",
    "    deviations_mean_control = deviations_control.mean()\n",
    "\n",
    "    # Calcular a média geral dos desvios\n",
    "    deviations_mean = deviations_treated.mean()  # Considerando apenas os tratados para o ATT\n",
    "\n",
    "    # Calcular ATT\n",
    "    OR_att_estimate = (mu1_X.mean() - mu0_X.mean()) + deviations_mean\n",
    "\n",
    "    return OR_att_estimate\n",
    "\n",
    "T_col = 'Treated'\n",
    "Y_col = 'Y'\n",
    "X_cols = ['casada', 'mage', 'medu']\n",
    "\n",
    "result_OR_att = OR_att(df, X_cols, T_col, Y_col)\n",
    "print(\"Outcome Regression (ATT):\", result_OR_att)\n"
   ]
  },
  {
   "cell_type": "markdown",
   "metadata": {},
   "source": [
    "Fazendo a análise de forma mais fácil, pelo pacote pyDRReg, encontramos os mesmos resultados"
   ]
  },
  {
   "cell_type": "markdown",
   "metadata": {},
   "source": [
    "**Outcome Regression - ATT**"
   ]
  },
  {
   "cell_type": "code",
   "execution_count": 32,
   "metadata": {},
   "outputs": [
    {
     "name": "stdout",
     "output_type": "stream",
     "text": [
      "         Metric       Value\n",
      "0     Estimator          OR\n",
      "1        Method         ATT\n",
      "2      Estimate -215.245387\n",
      "3  bootstrap_SE   22.410568\n",
      "4        t-stat   -9.604638\n",
      "5       p-value         0.0\n",
      "6      CI Lower   -259.1701\n",
      "7      CI Upper -171.320674\n"
     ]
    }
   ],
   "source": [
    "from pyDRReg.pyDRReg import pyDRReg\n",
    "\n",
    "T_var = 'Treated'\n",
    "Y_var = 'Y'\n",
    "X_vars = ['casada', 'mage', 'medu']\n",
    "\n",
    "OR_att = pyDRReg(df, X_vars, T_var, Y_var, method='att', estimator='OR', n_bootstrap=50, seed=44)\n",
    "\n",
    "print(OR_att.summary())"
   ]
  },
  {
   "cell_type": "markdown",
   "metadata": {},
   "source": [
    "**Outcome Regression - ATE**"
   ]
  },
  {
   "cell_type": "code",
   "execution_count": 33,
   "metadata": {},
   "outputs": [
    {
     "name": "stdout",
     "output_type": "stream",
     "text": [
      "         Metric       Value\n",
      "0     Estimator          OR\n",
      "1        Method         ATE\n",
      "2      Estimate -236.527885\n",
      "3  bootstrap_SE   24.192087\n",
      "4        t-stat   -9.777077\n",
      "5       p-value         0.0\n",
      "6      CI Lower -283.944375\n",
      "7      CI Upper -189.111396\n"
     ]
    }
   ],
   "source": [
    "from pyDRReg.pyDRReg import pyDRReg\n",
    "\n",
    "T_var = 'Treated'\n",
    "Y_var = 'Y'\n",
    "X_vars = ['casada', 'mage', 'medu']\n",
    "\n",
    "OR_ate = pyDRReg(df, X_vars, T_var, Y_var, method='ate', estimator='OR', n_bootstrap=50, seed=44)\n",
    "\n",
    "print(OR_ate.summary())"
   ]
  },
  {
   "cell_type": "markdown",
   "metadata": {},
   "source": [
    "O resultado da estimativa de ATT (Average Treatment Effect on the Treated) usando a técnica de Outcome Regression é de aproximadamente -215.25; Isso significa que, em média, o efeito do fumo durante a gestação sobre o resultado $Y$ (peso dos bebês ao nascer) é uma redução de aproximadamente 215.25 gramas para os tratados."
   ]
  },
  {
   "cell_type": "markdown",
   "metadata": {},
   "source": [
    "## Doubly Robust Estimation (DR)\n",
    "\n",
    "A estimativa duplamente robusta combina uma forma de \"Outcome Regression\" com um modelo de ponderação (ou seja, utilizando o escore de propensão) para estimar o efeito causal sobre um resultado. Quando usados individualmente para estimar um efeito causal, os métodos de regressão de resultados e escore de propensão são não enviesados apenas se o modelo estatístico for especificado corretamente. O **estimador duplamente robusto** combina estas 2 abordagens de modo que apenas 1 dos 2 modelos precisa ser especificado corretamente para obter um estimador de efeito não-viesado.\n",
    "\n",
    "A especificação correta do modelo de regressão é um pressuposto fundamental na análise econométrica. Quando o objetivo é ajustar o fator de confusão, o estimador é consistente (e, portanto, assintoticamente não-enviesado) se o modelo refletir as verdadeiras relações entre a exposição e os fatores de confusão com o resultado. Na prática, nunca poderemos saber se algum modelo específico representa com precisão essas relações. **A estimativa duplamente robusta combina regressão de resultados com ponderação pelo escore de propensão (PS), de modo que o estimador seja robusto à especificação incorreta de um (mas não de ambos) desses modelos**."
   ]
  },
  {
   "cell_type": "markdown",
   "metadata": {},
   "source": [
    "**Outcome Regression Approach**\n",
    "\n",
    "Vimos que:\n",
    "\n",
    "$$ \\hat{\\beta}_{ATE}^{OR} = E[\\mu_{1}(X) - \\mu_{0}(X)] + E[(Y_{1} - \\mu_{1}(X)) - (Y_{0} - \\mu_{0}(X))] $$\n",
    "\n",
    "e\n",
    "\n",
    "$$ \\hat{\\beta}^{OR}_{ATT} = E[\\mu_{1}(X^{1}) - \\mu_{0}(X^{1})] + E[(Y_{1} - \\mu_{1}(X^{1})) - (Y_{0} - \\mu_{0}(X^{1}))] $$\n",
    "\n"
   ]
  },
  {
   "cell_type": "markdown",
   "metadata": {
    "notebookRunGroups": {
     "groupValue": "1"
    }
   },
   "source": [
    "\n",
    "**Approach de Inverse Probability Weighting (IPW)**\n",
    "\n",
    "Nesta abordagem, o viés de confusão é ajustado por meio de técnicas de matching (pareamento) e ponderação pelo escore de propensão (Peso = $W$). As ponderações são calculadas da seguinte forma:\n",
    "\n",
    "$$ W_{ATE} = \\frac{D}{\\hat{p}(X)} + \\frac{1-D}{1-\\hat{p}(X)} $$\n",
    "\n",
    "e,\n",
    "\n",
    "$$ W_{ATT} = D + (1-D)\\frac{\\hat{p}(X)}{1-\\hat{p}(X)} $$\n"
   ]
  },
  {
   "cell_type": "markdown",
   "metadata": {},
   "source": [
    "**Approach do Doubly Robust Estimation (DR)**\n",
    "\n",
    "A abordagem Doubly Robust Estimation (DR) combina as vantagens das abordagens de Outcome Regression e de Ponderação pela Probabilidade Inversa. Isso proporciona uma maior robustez aos resultados. Os estimadores duplamente robustos para o Average Treatment Effect (ATE) e o Average Treatment Effect on the Treated (ATT) são dados pelas seguintes fórmulas:\n",
    "\n",
    "* **Doubly Robust Estimation for Average Treatment Effect (ATE)**\n",
    "\n",
    "$$ \\hat{\\beta_{ATE}^{DR}} =  \\mathbb{E} \\left[ (\\mu_1(X) - \\mu_0 (X)) \\right] + \\mathbb{E} \\left[ \\frac{D}{\\hat{p}(X)}.(Y_{1} - \\mu_1 (X)) - \\frac{(1-D)}{1-\\hat{p}(X)}.(Y_{0} - \\mu_0 (X)) \\right] $$"
   ]
  },
  {
   "cell_type": "markdown",
   "metadata": {
    "notebookRunGroups": {
     "groupValue": "1"
    }
   },
   "source": [
    "* **Doubly Robust Estimation for Average Treatment Effect on the Treated (ATT)**\n",
    "\n",
    "$$ \\hat{\\beta_{ATT}^{DR}} = \\mathbb{E} \\left[ (\\mu_1 (X) - \\mu_0 (X)) \\right] + \\mathbb{E} \\left[ D(Y_{1} - \\mu_1 (X)) - \\frac{(1-D)\\hat{p}(X)}{1-\\hat{p}(X)}.(Y_{0} - \\mu_0 (X)) \\right] $$"
   ]
  },
  {
   "cell_type": "markdown",
   "metadata": {},
   "source": [
    "Repare que realizamos um \"ajuste\" nos resíduos da regressão de resultados, ponderando-os pelo escore de propensão. Isso garante que o estimador seja robusto à especificação incorreta de um dos modelos. O \"ajuste\" é essencialmente um estimador IPW realizado sobre os resíduos.\n",
    "\n",
    "Por isso que o Doubly Robust Estimation também é conhecido como Augmented Inverse Probability Weighting (AIPW)."
   ]
  },
  {
   "cell_type": "markdown",
   "metadata": {},
   "source": [
    "**Por que a o estimador Duplamente Robusto (*Augmented Inverse Probability Weighting* - AIPW) é tão atraente?**\n",
    "\n",
    "A razão é que só precisamos de uma das duas previsões, *$\\hat{\\mu}$* ou *$\\hat{p}$*, para que a estimativa seja correta (não enviesada/imparcial). \n",
    "* Se ambos os modelos estiverem corretos, o estimador será mais eficiente do que qualquer um dos modelos sozinho. \n",
    "* Se um dos modelos estiver errado, o estimador ainda será consistente, desde que o outro modelo esteja correto. \n",
    "\n",
    "Isso é uma grande vantagem em relação a outras abordagens, como a regressão de resultados ou a ponderação pelo escore de propensão, que exigem que ambos os modelos estejam corretos para que o estimador seja consistente.\n",
    "\n",
    "Suponha que $\\hat{\\mu}$ esteja especificado corretamente. Então $E[\\hat{\\mu}^{d}(x)=E[Y|X=x, D=d]$ , então o estimador DR é consistente, mesmo que o modelo de propensão $\\hat{p}$ esteja mal especificado.\n",
    "\n",
    "$$ \\hat{\\beta^{DR}} =  \\mathbb{E} \\left[ (\\mu_1(X) - \\mu_0 (X)) +  \\frac{D}{\\hat{p}(X)}.(Y_{1} - \\mu_1 (X)) - \\frac{(1-D)}{1-\\hat{p}(X)}.(Y_{0} - \\mu_0 (X)) \\right] = $$\n",
    "\n",
    "$$  =  \\mathbb{E} \\left[ (\\mu_1(X) - \\mu_0 (X)) \\right] = $$\n",
    "\n",
    "$$  =  \\mathbb{E} \\left[ Y^{1} - Y^{0} \\right] = $$\n",
    "\n",
    "$$ = \\beta $$\n",
    "\n",
    "A intuição é que, se $\\hat{\\mu}$ está **especificado corretamente é imparcial e o fator de ajuste desaparece**, uma vez que os resíduos convergem para zero.\n",
    "\n",
    "\n",
    "Por outro lado, suponha $\\hat{p}$ está especificado corretamente, ou seja, $E[\\hat{p}(X)]=P(D=1|X)$, então o estimador DR é consistente, mesmo que o modelo de resultados $\\hat{\\mu}$ esteja mal especificado.\n",
    "\n",
    "$$ \\hat{\\beta^{DR}} =  \\mathbb{E} \\left[ (\\mu_1(X) - \\mu_0 (X)) +  \\frac{D}{\\hat{p}(X)}.(Y_{1} - \\mu_1 (X)) - \\frac{(1-D)}{1-\\hat{p}(X)}.(Y_{0} - \\mu_0 (X)) \\right] = $$\n",
    "\n",
    "$$ \\mathbb{E} \\left[ \\mu_1(X) - \\mu_0 (X) + \\frac{D}{\\hat{p}(X)}.Y_{1} - \\frac{D}{\\hat{p}(X)}.\\mu_1 (X) - \\frac{(1-D)}{1-\\hat{p}(X)}Y_{0} + \\frac{(1-D)}{1-\\hat{p}(X)}.\\mu_0 (X) \\right] = $$\n",
    "\n",
    "\n",
    "$$ \\mathbb{E} \\left[ \\frac{D}{\\hat{p}(X)}.Y_{1} - \\frac{(1-D)}{1-\\hat{p}(X)}Y_{0} + \\mu_1(X) - \\frac{D}{\\hat{p}(X)}.\\mu_1 (X) + \\frac{(1-D)}{1-\\hat{p}(X)}.\\mu_0 (X) - \\mu_0 (X) \\right] = $$\n",
    "\n",
    "\n",
    "$$ \\mathbb{E} \\left[ \\frac{D}{\\hat{p}(X)}.Y_{1} - \\frac{(1-D)}{1-\\hat{p}(X)}Y_{0} + \\mu_1(X) (1 - \\frac{D}{\\hat{p}(X)}) + \\mu_0 (X)(\\frac{(1-D)}{1-\\hat{p}(X)} - 1) \\right] = $$\n",
    "\n",
    "$$ \\mathbb{E} \\left[ \\frac{D}{\\hat{p}(X)}.Y_{1} - \\frac{(1-D)}{1-\\hat{p}(X)}Y_{0} + \\mu_1(X) (\\frac{\\hat{p}(X) - D}{\\hat{p}(X)}) + \\mu_0 (X)(\\frac{(1-D)- (1-\\hat{p}(X))}{1-\\hat{p}(X)}) \\right] = $$\n",
    "\n",
    "$$ \\mathbb{E} \\left[ \\frac{D}{\\hat{p}(X)}.Y_{1} - \\frac{(1-D)}{1-\\hat{p}(X)}Y_{0} \\right] = $$\n",
    "\n",
    "$$ \\mathbb{E} \\left[ Y^{1} - Y^{0} \\right] = $$\n",
    "\n",
    "$$ = \\beta $$\n",
    "\n",
    "A intuição é que, se $\\hat{p}$ está especificado corretamente, o $\\hat{\\beta}^{DR}$ é imparcial e o fator de ajuste desaparece, uma vez que os resíduos ($D_{i}-\\hat{p}(X)$) convergem para zero."
   ]
  },
  {
   "cell_type": "markdown",
   "metadata": {},
   "source": [
    "### Aplicação em Python"
   ]
  },
  {
   "cell_type": "code",
   "execution_count": null,
   "metadata": {},
   "outputs": [],
   "source": []
  },
  {
   "cell_type": "markdown",
   "metadata": {},
   "source": [
    "Novamente, a ideia é mostrar todos os componentes da Estimação Duplamente Robusta, e realizar as estimações na \"mão\" e, posteriormente, com o pacote pyDRReg.\n",
    "\n",
    "Primeiro precisamos estimar os componentes da Estimação Duplamente Robusta, \"escore de propensão\" ($p(X)$) e as funções de resposta ($\\mu_{0}(X)$ e $\\mu_{1}(X)$). Num primeiro momento vamos estimar o Propensity Score e estimar regressões ATE e ATE para o método de Propensity Score Weighting (PSW)."
   ]
  },
  {
   "cell_type": "code",
   "execution_count": null,
   "metadata": {},
   "outputs": [],
   "source": [
    "import statsmodels.formula.api as smf\n",
    "import seaborn as sns\n",
    "from sklearn.linear_model import LinearRegression\n",
    "import numpy as np"
   ]
  },
  {
   "cell_type": "markdown",
   "metadata": {},
   "source": [
    "Calculando o escore de propensão."
   ]
  },
  {
   "cell_type": "code",
   "execution_count": 8,
   "metadata": {},
   "outputs": [
    {
     "name": "stdout",
     "output_type": "stream",
     "text": [
      "Optimization terminated successfully.\n",
      "         Current function value: 0.446546\n",
      "         Iterations 6\n",
      "                           Logit Regression Results                           \n",
      "==============================================================================\n",
      "Dep. Variable:                Treated   No. Observations:                 4642\n",
      "Model:                          Logit   Df Residuals:                     4638\n",
      "Method:                           MLE   Df Model:                            3\n",
      "Date:                Thu, 05 Sep 2024   Pseudo R-squ.:                 0.07078\n",
      "Time:                        16:28:30   Log-Likelihood:                -2072.9\n",
      "converged:                       True   LL-Null:                       -2230.7\n",
      "Covariance Type:            nonrobust   LLR p-value:                 3.853e-68\n",
      "==============================================================================\n",
      "                 coef    std err          z      P>|z|      [0.025      0.975]\n",
      "------------------------------------------------------------------------------\n",
      "Intercept      0.5894      0.230      2.564      0.010       0.139       1.040\n",
      "casada        -1.0310      0.090    -11.497      0.000      -1.207      -0.855\n",
      "mage           0.0122      0.008      1.570      0.116      -0.003       0.027\n",
      "medu          -0.1415      0.017     -8.540      0.000      -0.174      -0.109\n",
      "==============================================================================\n"
     ]
    }
   ],
   "source": [
    "# Regressão Logística para estimar o escore de propensão\n",
    "logit_model = smf.logit(\"Treated ~ 1 + casada + mage + medu\", data=df).fit()\n",
    "# Imprimindo o modelo\n",
    "print(logit_model.summary())"
   ]
  },
  {
   "cell_type": "code",
   "execution_count": 9,
   "metadata": {},
   "outputs": [],
   "source": [
    "# Salvando o escore de propensão no DataFrame\n",
    "df['ps'] = logit_model.predict()"
   ]
  },
  {
   "cell_type": "code",
   "execution_count": 10,
   "metadata": {},
   "outputs": [
    {
     "data": {
      "image/png": "[encoded data removed]",
      "text/plain": [
       "<Figure size 640x480 with 1 Axes>"
      ]
     },
     "metadata": {},
     "output_type": "display_data"
    }
   ],
   "source": [
    "# Verificar graficamente a área de sobreposição\n",
    "sns.histplot(data=df, x='ps', hue='Treated', bins=100, stat='density', common_norm=False).\\\n",
    "    set(ylabel=\"\", title=\"Distribution of Propensity Scores\");"
   ]
  },
  {
   "cell_type": "markdown",
   "metadata": {},
   "source": [
    "Agora vamos calcular os pesos IPW para o ATE e ATT."
   ]
  },
  {
   "cell_type": "code",
   "execution_count": 11,
   "metadata": {},
   "outputs": [],
   "source": [
    "# Inverse Probability of Treatment Weight (IPTW)\n",
    "\n",
    "# Peso para o efeito médio do tratamento (ATE)\n",
    "df['W1'] = 1 / df['ps']\n",
    "df.loc[df['Treated'] == 0, 'W1'] = 0\n",
    "df['W2'] = 1 / (1 - df['ps'])\n",
    "df.loc[df['Treated'] == 1, 'W2'] = 0\n",
    "\n",
    "# Peso para o efeito médio do tratamento nos tratados (ATT)\n",
    "df['W_ATE'] = df['W1'] + df['W2']\n",
    "df['W_ATT'] = df['ps'] / (1 - df['ps'])\n",
    "df.loc[df['Treated'] == 1, 'W_ATT'] = 1"
   ]
  },
  {
   "cell_type": "markdown",
   "metadata": {},
   "source": [
    "A título de curiosidade, podemos estimar o efeito médio do tratamento para os tratados (ATT) e o efeito médio do tratamento (ATE) utilizando o método de Ponderação pelo Escore de Propensão (IPW). Para isso, basta rodar a regressão linear considerando como peso amostral os valores de $W_{ATE}$ e $W_{ATT}$, respectivamente."
   ]
  },
  {
   "cell_type": "code",
   "execution_count": 19,
   "metadata": {},
   "outputs": [
    {
     "name": "stdout",
     "output_type": "stream",
     "text": [
      "                            WLS Regression Results                            \n",
      "==============================================================================\n",
      "Dep. Variable:                      Y   R-squared:                       0.040\n",
      "Model:                            WLS   Adj. R-squared:                  0.040\n",
      "Method:                 Least Squares   F-statistic:                     194.9\n",
      "Date:                Thu, 05 Sep 2024   Prob (F-statistic):           2.03e-43\n",
      "Time:                        21:04:19   Log-Likelihood:                -36594.\n",
      "No. Observations:                4642   AIC:                         7.319e+04\n",
      "Df Residuals:                    4640   BIC:                         7.321e+04\n",
      "Df Model:                           1                                         \n",
      "Covariance Type:            nonrobust                                         \n",
      "==============================================================================\n",
      "                 coef    std err          t      P>|t|      [0.025      0.975]\n",
      "------------------------------------------------------------------------------\n",
      "Intercept   3401.1645     11.754    289.358      0.000    3378.121    3424.208\n",
      "Treated     -234.4371     16.793    -13.960      0.000    -267.360    -201.515\n",
      "==============================================================================\n",
      "Omnibus:                     1345.722   Durbin-Watson:                   2.003\n",
      "Prob(Omnibus):                  0.000   Jarque-Bera (JB):            13048.433\n",
      "Skew:                          -1.100   Prob(JB):                         0.00\n",
      "Kurtosis:                      10.914   Cond. No.                         2.60\n",
      "==============================================================================\n",
      "\n",
      "Notes:\n",
      "[1] Standard Errors assume that the covariance matrix of the errors is correctly specified.\n"
     ]
    }
   ],
   "source": [
    "#Propensity Score Weighting - ATE\n",
    "psw_ate = smf.wls(\"Y ~ Treated\", weights=df['W_ATE'], data=df).fit()\n",
    "print(psw_ate.summary())"
   ]
  },
  {
   "cell_type": "code",
   "execution_count": 13,
   "metadata": {},
   "outputs": [
    {
     "name": "stdout",
     "output_type": "stream",
     "text": [
      "                            WLS Regression Results                            \n",
      "==============================================================================\n",
      "Dep. Variable:                      Y   R-squared:                       0.032\n",
      "Model:                            WLS   Adj. R-squared:                  0.032\n",
      "Method:                 Least Squares   F-statistic:                     155.8\n",
      "Date:                Thu, 05 Sep 2024   Prob (F-statistic):           3.41e-35\n",
      "Time:                        16:28:39   Log-Likelihood:                -37060.\n",
      "No. Observations:                4642   AIC:                         7.412e+04\n",
      "Df Residuals:                    4640   BIC:                         7.414e+04\n",
      "Df Model:                           1                                         \n",
      "Covariance Type:            nonrobust                                         \n",
      "==============================================================================\n",
      "                 coef    std err          t      P>|t|      [0.025      0.975]\n",
      "------------------------------------------------------------------------------\n",
      "Intercept   3350.9689     12.014    278.924      0.000    3327.416    3374.522\n",
      "Treated     -213.3092     17.089    -12.482      0.000    -246.812    -179.807\n",
      "==============================================================================\n",
      "Omnibus:                     1802.084   Durbin-Watson:                   2.029\n",
      "Prob(Omnibus):                  0.000   Jarque-Bera (JB):            22353.766\n",
      "Skew:                          -1.499   Prob(JB):                         0.00\n",
      "Kurtosis:                      13.324   Cond. No.                         2.60\n",
      "==============================================================================\n",
      "\n",
      "Notes:\n",
      "[1] Standard Errors assume that the covariance matrix of the errors is correctly specified.\n"
     ]
    }
   ],
   "source": [
    "#Propensity Score Weighting - ATT\n",
    "psw_att = smf.wls(\"Y ~ Treated\", weights=df['W_ATT'], data=df).fit()\n",
    "print(psw_att.summary())"
   ]
  },
  {
   "cell_type": "markdown",
   "metadata": {},
   "source": [
    "Repare que podemos obter os mesmos resultados utilizando o pacote pyDRReg."
   ]
  },
  {
   "cell_type": "code",
   "execution_count": 17,
   "metadata": {},
   "outputs": [
    {
     "name": "stdout",
     "output_type": "stream",
     "text": [
      "         Metric       Value\n",
      "0     Estimator         IPW\n",
      "1        Method         ATT\n",
      "2      Estimate -213.309168\n",
      "3  bootstrap_SE   22.839909\n",
      "4        t-stat   -9.339318\n",
      "5       p-value         0.0\n",
      "6      CI Lower -258.075389\n",
      "7      CI Upper -168.542946\n"
     ]
    }
   ],
   "source": [
    "from pyDRReg.pyDRReg import pyDRReg\n",
    "\n",
    "T_var = 'Treated'\n",
    "Y_var = 'Y'\n",
    "X_vars = ['casada', 'mage', 'medu']\n",
    "\n",
    "IPW_att = pyDRReg(df, X_vars, T_var, Y_var, method='att', estimator='IPW', n_bootstrap=50, seed=44)\n",
    "\n",
    "print(IPW_att.summary())"
   ]
  },
  {
   "cell_type": "code",
   "execution_count": 15,
   "metadata": {},
   "outputs": [
    {
     "name": "stdout",
     "output_type": "stream",
     "text": [
      "         Metric       Value\n",
      "0     Estimator         IPW\n",
      "1        Method         ATE\n",
      "2      Estimate -234.437125\n",
      "3  bootstrap_SE   23.479172\n",
      "4        t-stat   -9.984897\n",
      "5       p-value         0.0\n",
      "6      CI Lower -280.456303\n",
      "7      CI Upper -188.417947\n"
     ]
    }
   ],
   "source": [
    "from pyDRReg.pyDRReg import pyDRReg\n",
    "\n",
    "T_var = 'Treated'\n",
    "Y_var = 'Y'\n",
    "X_vars = ['casada', 'mage', 'medu']\n",
    "\n",
    "IPW_ate = pyDRReg(df, X_vars, T_var, Y_var, method='ate', estimator='IPW', n_bootstrap=50, seed=44)\n",
    "\n",
    "print(IPW_ate.summary())"
   ]
  },
  {
   "cell_type": "markdown",
   "metadata": {},
   "source": [
    "**Estimativa Duplamente Robusta**\n",
    "\n",
    "Agora temos todos os componentes para estimar o DR para ATE e o ATT, vamos fazer \"na mão\"."
   ]
  },
  {
   "cell_type": "code",
   "execution_count": 17,
   "metadata": {},
   "outputs": [
    {
     "name": "stdout",
     "output_type": "stream",
     "text": [
      "-229.19546059542853\n"
     ]
    }
   ],
   "source": [
    "# DR-ATE\n",
    "DR_ATE = mu1 - mu0 + df[\"Treated\"] / df[\"ps\"] * (df[\"Y\"] - mu1) - (1-df[\"Treated\"]) / (1-df[\"ps\"]) * (df[\"Y\"] - mu0)\n",
    "print(np.mean(DR_ATE))"
   ]
  },
  {
   "cell_type": "code",
   "execution_count": 18,
   "metadata": {},
   "outputs": [
    {
     "name": "stdout",
     "output_type": "stream",
     "text": [
      "-218.94795582708\n"
     ]
    }
   ],
   "source": [
    "# DR-ATT\n",
    "DR_ATT = mu1 - mu0 + df[\"Treated\"] * (df[\"Y\"] - mu1) - (1-df[\"Treated\"])*df[\"ps\"] / (1-df[\"ps\"]) * (df[\"Y\"] - mu0)\n",
    "print(np.mean(DR_ATT))"
   ]
  },
  {
   "cell_type": "markdown",
   "metadata": {},
   "source": [
    "Podemos utilizar o pacote pyDRReg para obter os mesmos resultados."
   ]
  },
  {
   "cell_type": "code",
   "execution_count": 22,
   "metadata": {},
   "outputs": [
    {
     "name": "stdout",
     "output_type": "stream",
     "text": [
      "         Metric       Value\n",
      "0     Estimator          DR\n",
      "1        Method         ATE\n",
      "2      Estimate -229.195464\n",
      "3  bootstrap_SE   23.584023\n",
      "4        t-stat   -9.718251\n",
      "5       p-value         0.0\n",
      "6      CI Lower  -275.42015\n",
      "7      CI Upper -182.970779\n"
     ]
    }
   ],
   "source": [
    "from pyDRReg.pyDRReg import pyDRReg\n",
    "\n",
    "T_var = 'Treated'\n",
    "Y_var = 'Y'\n",
    "X_vars = ['casada', 'mage', 'medu']\n",
    "\n",
    "DR_ate = pyDRReg(df, X_vars, T_var, Y_var, method='ate', estimator='DR', n_bootstrap=50, seed=44)\n",
    "\n",
    "print(DR_ate.summary())"
   ]
  },
  {
   "cell_type": "code",
   "execution_count": 23,
   "metadata": {},
   "outputs": [
    {
     "name": "stdout",
     "output_type": "stream",
     "text": [
      "         Metric       Value\n",
      "0     Estimator          DR\n",
      "1        Method         ATT\n",
      "2      Estimate -218.947956\n",
      "3  bootstrap_SE   22.000454\n",
      "4        t-stat   -9.951974\n",
      "5       p-value         0.0\n",
      "6      CI Lower -262.068846\n",
      "7      CI Upper -175.827066\n"
     ]
    }
   ],
   "source": [
    "from pyDRReg.pyDRReg import pyDRReg\n",
    "\n",
    "T_var = 'Treated'\n",
    "Y_var = 'Y'\n",
    "X_vars = ['casada', 'mage', 'medu']\n",
    "\n",
    "DR_att = pyDRReg(df, X_vars, T_var, Y_var, method='att', estimator='DR', n_bootstrap=50, seed=44)\n",
    "\n",
    "print(DR_att.summary())"
   ]
  },
  {
   "cell_type": "markdown",
   "metadata": {},
   "source": [
    "Esse tipo de estimador é bastante importante na literatura. E já possui alguns estimadores que realizam as estimações de forma direta. Por exemplo, poderíamos computar diretamente com 'LinearDRLearner' da biblioteca 'EconML' da Microsoft (EconML - Estimate causal effects with ML).\n",
    "\n",
    "obs: https://www.microsoft.com/en-us/research/project/econml/\n"
   ]
  },
  {
   "cell_type": "code",
   "execution_count": 34,
   "metadata": {},
   "outputs": [],
   "source": [
    "from sklearn.linear_model import LogisticRegression, LinearRegression\n",
    "from econml.dr import LinearDRLearner"
   ]
  },
  {
   "cell_type": "code",
   "execution_count": 35,
   "metadata": {},
   "outputs": [],
   "source": [
    "X = df[['casada', 'mage', 'medu']]"
   ]
  },
  {
   "cell_type": "code",
   "execution_count": 36,
   "metadata": {},
   "outputs": [],
   "source": [
    "model = LinearDRLearner(model_propensity=LogisticRegression(), \n",
    "                        model_regression=LinearRegression(),\n",
    "                        random_state=1)\n",
    "model.fit(Y=df[\"Y\"], T=df[\"Treated\"], X=X);"
   ]
  },
  {
   "cell_type": "code",
   "execution_count": 37,
   "metadata": {},
   "outputs": [
    {
     "data": {
      "text/html": [
       "<table class=\"simpletable\">\n",
       "<caption>Uncertainty of Mean Point Estimate</caption>\n",
       "<tr>\n",
       "  <th>mean_point</th> <th>stderr_mean</th>  <th>zstat</th> <th>pvalue</th> <th>ci_mean_lower</th> <th>ci_mean_upper</th>\n",
       "</tr>\n",
       "<tr>\n",
       "   <td>-228.118</td>    <td>23.167</td>    <td>-9.847</td>   <td>0.0</td>    <td>-273.524</td>      <td>-182.712</td>   \n",
       "</tr>\n",
       "</table>"
      ],
      "text/plain": [
       "<class 'statsmodels.iolib.table.SimpleTable'>"
      ]
     },
     "execution_count": 37,
     "metadata": {},
     "output_type": "execute_result"
    }
   ],
   "source": [
    "model.ate_inference(X=X.values, T0=0, T1=1).summary().tables[0]"
   ]
  },
  {
   "cell_type": "markdown",
   "metadata": {},
   "source": [
    "O modelo nos dá diretamente o efeito médio do tratamento. A estimativa é estatisticamente diferente de zero e o intervalo de confiança inclui o valor verdadeiro de -229,17. Observe que obtivemos uma estimativa diferente porque a função **LinearDRLearner** também realizou o cross-fitting em segundo plano, o que não fizemos antes. Ele não calcula o ATT.\n",
    "\n",
    "Outro pacote importante é o \"causalml\" (https://causalml.readthedocs.io/en/latest/about.html).\n",
    "\n"
   ]
  },
  {
   "cell_type": "markdown",
   "metadata": {},
   "source": [
    "## Boas práticas\n",
    "\n",
    "* Verifique o balanço das covariáveis.\n",
    "  * Tanto o IPW quanto o DR (AIPW) foram desenvolvidos para ambientes nos quais o tratamento não é atribuído aleatoriamente incondicionalmente, mas pode depender de algumas variáveis observáveis. Essas informações podem ser verificadas de duas maneiras: \n",
    "    * (1) Produza uma tabela de médias/equilíbrio das covariáveis. Se a randomização incondicional não for válida, esperamos ver diferenças significativas entre alguns observáveis; \n",
    "    * (2) Trace os escores de propensão estimados. Se a randomização incondicional for válida, esperamos que os escores de propensão sejam constantes.\n",
    "* Verifique a suposição de sobreposição.\n",
    "  * Podemos simplesmente verificar os limites dos escores de propensão previstos. Se a suposição de sobreposição for violada, acabamos dividindo algum termo do estimador por zero.\n"
   ]
  }
 ],
 "metadata": {
  "kernelspec": {
   "display_name": "Python 3",
   "language": "python",
   "name": "python3"
  },
  "language_info": {
   "codemirror_mode": {
    "name": "ipython",
    "version": 3
   },
   "file_extension": ".py",
   "mimetype": "text/x-python",
   "name": "python",
   "nbconvert_exporter": "python",
   "pygments_lexer": "ipython3",
   "version": "3.11.5"
  },
  "orig_nbformat": 4
 },
 "nbformat": 4,
 "nbformat_minor": 2
}
