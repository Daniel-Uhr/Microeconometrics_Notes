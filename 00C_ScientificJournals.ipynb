{
 "cells": [
  {
   "cell_type": "markdown",
   "metadata": {},
   "source": [
    "# Comentários Sobre Publicação da Pesquisa Científica\n",
    "\n",
    "Prof. Daniel de Abreu Pereira Uhr\n",
    "\n",
    "\n",
    "## Conteúdo\n",
    "\n",
    "* Revistas Científicas\n",
    "* A Prática da Escrita Científica\n",
    "  * Cochrane, J. H.; “Writing Tips for Ph. D. Students”\n",
    "  * Uso do Zootero para Referências Bibliográficas\n",
    "  * Modelo de Artigo Científico em Word\n",
    "  * Modelo de Artigo Científico em LaTeX (e Dissertação/Tese)\n",
    "\n",
    "\n",
    "## Referências\n",
    "\n",
    "**Principais**\n",
    "\n",
    "* Cochrane, J. H. Wrinting Tips for Ph.D. Students. The University of Chicago. 2005. Disponível em: https://www.fma.org/assets/docs/membercontent/writing_cochrane.pdf\n",
    "* Notas próprias.\n",
    "\n",
    "\n"
   ]
  },
  {
   "cell_type": "markdown",
   "metadata": {},
   "source": [
    "## Revistas Científicas\n",
    "\n",
    "**O que é uma revista científica?** \n",
    "* Uma revista científica é um **veículo de publicação especializado** no qual os pesquisadores compartilham seus estudos, descobertas e análises em uma determinada área de estudo. Elas desempenham um papel fundamental na comunicação e disseminação do conhecimento científico, proporcionando um ambiente onde os pesquisadores podem apresentar suas contribuições à comunidade acadêmica. Além disso, as revistas científicas servem como **espaços para debates, críticas e discussões sobre os temas abordados**, o que contribui para o avanço contínuo do conhecimento em suas respectivas áreas.\n",
    "\n",
    "**Como publicar uma pesquisa numa revista científica?** \n",
    "\n",
    "Para publicar uma pesquisa em uma revista científica, é necessário seguir um processo rigoroso e criterioso. Alguns passos importantes incluem:\n",
    "\n",
    "* **Contribuição com a área de pesquisa:** É essencial que a pesquisa ofereça uma contribuição significativa e original para a área de estudo, abordando questões relevantes e preenchendo lacunas no conhecimento existente.\n",
    "* **Hipótese definida:** A pesquisa deve ser guiada por uma hipótese claramente formulada, que estabelece uma proposição ou explicação a ser testada e investigada durante o estudo.\n",
    "* **Acompanhamento da literatura sobre o tema:** Os pesquisadores devem estar familiarizados com a literatura existente relacionada ao tema de sua pesquisa, revisando estudos anteriores, teorias e descobertas relevantes para informar e contextualizar seu próprio trabalho.\n",
    "* **Apresentação da estratégia de identificação da relação causal:** Se a pesquisa envolver a identificação de relações causais entre variáveis, é crucial que os pesquisadores apresentem uma estratégia clara e metodologicamente sólida para investigar e estabelecer essas relações.\n",
    "* **Apresentação dos resultados encontrados:** Os resultados da pesquisa devem ser apresentados de forma clara, objetiva e completa, incluindo análises estatísticas, interpretações e implicações para a teoria e a prática na área de estudo.\n",
    "\n",
    "**Quais são as “melhores” revistas científicas?**\n",
    "* Capes: A Capes, Coordenação de Aperfeiçoamento de Pessoal de Nível Superior, é uma fundação ligada ao Ministério da Educação (MEC) que tem como objetivo promover a expansão e consolidação da pós-graduação stricto sensu (mestrado e doutorado).\n",
    "* Ranking da Qualis/Capes: Este é um sistema brasileiro de avaliação de periódicos que classifica os veículos utilizados para a divulgação da produção intelectual dos programas de pós-graduação stricto sensu. Ele considera o âmbito da circulação (local, nacional ou internacional) e atribui uma qualidade (A, B, C) para cada periódico, por área de avaliação.\n",
    "* Ranking das Revistas Científicas Internacionais: Além do ranking da Capes, o Fator de Impacto é uma medida frequentemente utilizada para avaliar a importância de uma revista científica. Essa medida reflete o número médio de citações de artigos científicos publicados em um determinado periódico. O Fator de Impacto é publicado anualmente no Journal Citation Reports (JCR) pela Clarivate Analytics.\n"
   ]
  },
  {
   "cell_type": "markdown",
   "metadata": {},
   "source": [
    "\n",
    "<div style=\"text-align:center;\">\n",
    "    <img src=\"phd_comics.PNG\"  alt=\"Imagem\" style=\"width: 700px;\"/>\n",
    "</div>\n"
   ]
  },
  {
   "cell_type": "markdown",
   "metadata": {},
   "source": [
    "## A Prática da Escrita Científica\n",
    "\n",
    "### Cochrane, J. H.; “Writing Tips for Ph. D. Students”\n",
    "\n",
    "1. Dicas Gerais\n",
    "2. Estrutura Básica e conteúdo\n",
    "3. Outras dicas\n",
    "\n",
    "**Dicas Gerais:**\n",
    "* Descubra “A” contribuição, ou “A” novidade, do seu artigo! Escreva isso no primeiro paragrafo. Isso é desgastante...\n",
    "* Explique que os resultados SÃO tais... \n",
    "* Os leitores do artigo são ocupados e impacientes. Nenhum leitor/avaliador irá ler o trabalho do início ao fim.\n",
    "\n",
    "**Estrutura básica e conteúdo**\n",
    "* **Resumo:** obedeça o limite de palavras (normalmente entre 100-150). A função do resumo é comunicar a contribuição da pesquisa que você descobriu. (não mencionar outra literatura no resumo).\n",
    "* **Introdução:** Normalmente começa com o que você FAZ no trabalho, a maior contribuição. Você deve explicar a contribuição.\n",
    "* **Revisão da Literatura:** depois de explicar sua contribuição, você deve se esforçar para que as pessoas entendam a diferença entre seu artigo e os demais da literatura, lembre que o leitor pode não ter lido os demais artigos.\n",
    "* **Corpo do texto:** apresentar o resultado central o mais rápido possível!\n",
    "* **Trabalhos empíricos:** Teoria mínima para explicar a questão empírica. Comece com os resultados principais.\n",
    "* **Conclusões:** se os resultados estão bem explicados, talvez não seja necessária. Pode ser curta, apresentar limitações e implicações além da pesquisa.\n",
    "\n",
    "**Outras dicas**\n",
    "* Tente manter o artigo o mais enxuto possível.\n",
    "* Siga a regra: Descreva o que você faz, explique, compare com as alternativas, compare com outros procedimentos já utilizados.\n",
    "* Tabelas devem ser auto explicativas*, arredondamento com uma ou duas casas depois da vírgula.\n",
    "* Texto pode ser impessoal.\n",
    "\n",
    "Por fim, lembre-se que o pesquisador deve tentar escrever o texto de forma que ele seja **auto-contido**. Ou seja, o texto deve ser escrito de forma que o leitor não precise consultar outras fontes para entender o que está sendo dito. Além disso, o discurso deve ter caráter cético, ou seja, o pesquisador deve mostrar que ele buscou refutar suas próprias hipóteses. Caso não tenha conseguido refutar, ele deve mostrar que as hipóteses sobreviveram às tentativas de refutação.\n"
   ]
  },
  {
   "cell_type": "markdown",
   "metadata": {},
   "source": [
    "### Uso do Zootero para Referências Bibliográficas\n",
    "\n",
    "#### Zootero no Word\n",
    "\n",
    "O Zootero sempre deve ser aberto durante o uso. Vejamos um exemplo de uso do Zootero para referências bibliográficas.\n",
    "\n",
    "\n",
    "#### Zootero no Latex\n",
    "\n",
    "No LaTex não é necessário utilizar o Zootero. Apenas coloque o arquivo *.bib, com as referências bibliográficas. Assim, você poderá utilizar diretamente os comandos \"\\cite{}\" e \"\\citep{}\" durante a escrita do artigo. Ao final, basta compilar o arquivo *.tex com o arquivo *.bib. \n"
   ]
  },
  {
   "cell_type": "markdown",
   "metadata": {},
   "source": [
    "### Modelo de Artigo Científico em Word\n",
    "\n",
    "A escrita científica é uma forma de comunicação. E como tal, deve ser clara e objetiva. O objetivo do texto científico é **informar à comunidade acadêmica** sobre **o que foi feito, como foi feito e quais foram os resultados obtidos**. Logo, o texto científico tende a apresentar uma estrutura bem definida. Vejamos um exemplo de um artigo em Word com algumas dicas de escrita.\n",
    "\n",
    "\n",
    "### Modelo de Artigo Científico em LateX\n",
    "\n",
    "Para que o Visual Studio Code compile os arquivos *.tex para PDF, temos que instalar:\n",
    "\n",
    "* Miktek\n",
    "* The Pearl for MS Windows\n",
    "\n",
    "#### Dissertação de Mestrado em LaTeX\n",
    "\n",
    "Vejamos o Modelo\n",
    "\n",
    "#### Tese de Doutorado em LaTeX\n",
    "\n",
    "Vejamos o Modelo\n"
   ]
  }
 ],
 "metadata": {
  "kernelspec": {
   "display_name": "Python 3",
   "language": "python",
   "name": "python3"
  },
  "language_info": {
   "codemirror_mode": {
    "name": "ipython",
    "version": 3
   },
   "file_extension": ".py",
   "mimetype": "text/x-python",
   "name": "python",
   "nbconvert_exporter": "python",
   "pygments_lexer": "ipython3",
   "version": "3.11.5"
  }
 },
 "nbformat": 4,
 "nbformat_minor": 2
}
