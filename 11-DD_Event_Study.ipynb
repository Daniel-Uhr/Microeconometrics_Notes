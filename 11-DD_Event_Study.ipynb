{
 "cells": [
  {
   "cell_type": "markdown",
   "id": "83c3087e",
   "metadata": {},
   "source": [
    "# *DiD Design-Based Diagnostics*, e o *Difference-in-Differences Event Study Design*\n",
    "\n",
    "Prof. Daniel de Abreu Pereira Uhr\n",
    "\n",
    "* Introdução\n",
    "* *Design-Based Diagnostics*\n",
    "  * Testes para modelos de Diferença em Diferenças\n",
    "  * Placebo no tratamento\n",
    "  * Placebo no resultado\n",
    "  * Placebo no tempo\n",
    "* Evidências para a Hipótese de Tendências Paralelas\n",
    "  * Event Study Design\n",
    "\n",
    "\n",
    "\n",
    "## Referências\n",
    "\n",
    "* Cunningham, S. W. (2013). Causal inference: The mixtape. https://www.scunning.com/mixtape.html\n",
    "* Roth, Sant´Anna, Bilinski and Poe (2023), What’s Trending in Difference-in-Differences? A Synthesis of the Recent Econometrics Literature.\n",
    "* Joshua D. Angrist and Jörn-Steffen Pischke (2009). Mostly Harmless Econometrics: An Empiricist's Companion. Princeton University Press.\n",
    "* Facure, Matheus. Causal Inference for Brave and True. https://matheusfacure.github.io/python-causality-handbook/landing-page.html \n",
    "* [Avaliação Econômica de Projetos Sociais. Itaú Social, 2017](https://www.itausocial.org.br/wp-content/uploads/2018/05/avaliacao-economica-3a-ed_1513188151.pdf). Capítulos 1, 2 e 3. \n",
    "* Card and Krueger (1994). Minimum Wages and Employment: A Case Study of the Fast-Food Industry in New Jersey and Pennsylvania. American Economic Review, 84(4):772-793. (https://davidcard.berkeley.edu/papers/njmin-aer.pdf)\n",
    "* Notas próprias.​\n",
    "\n",
    "\n",
    "\n",
    "**Observações:** O material apresentado aqui é uma adaptação do material de aula do Prof. Daniel de Abreu Pereira Uhr, e não deve ser utilizado para fins comerciais. O material é disponibilizado para fins educacionais e de pesquisa, e não deve ser reproduzido sem a devida autorização do autor. Este material pode conter erros e imprecisões. O autor não se responsabiliza por quaisquer danos ou prejuízos decorrentes do uso deste material. O uso deste material é de responsabilidade exclusiva do usuário. Caso você encontre erros ou imprecisões neste material, por favor, entre em contato com o autor para que possam ser corrigidos. O autor agradece qualquer *feedback* ou sugestão de melhoria.\n",
    "\n",
    "---"
   ]
  },
  {
   "cell_type": "markdown",
   "id": "0386c2e2",
   "metadata": {},
   "source": [
    "## Introdução\n",
    "\n",
    "Na literatura de Diferença em Diferenças, ganhou destaque a ênfase em diagnósticos baseados no desenho (design-based diagnostics). Esses procedimentos, também referidos como tests of identification assumptions ou robustness and validation checks in DiD, têm como objetivo avaliar a plausibilidade das hipóteses de identificação e a robustez dos resultados.\n",
    "\n",
    "Entre as principais estratégias empregadas, destacam-se:\n",
    "\n",
    "* Testes placebo — atribuição fictícia do tratamento a unidades, períodos ou resultados nos quais não se espera efeito causal.\n",
    "* Análises de pré-trends — verificações empíricas da hipótese de tendências paralelas, condição central para a validade do estimador DiD.\n",
    "* Estudos de dinâmica de tratamento (event study design) — estimação da evolução dos efeitos em períodos anteriores e posteriores à intervenção, permitindo investigar antecipações, persistência e heterogeneidade temporal do impacto."
   ]
  },
  {
   "cell_type": "markdown",
   "id": "3edda7f7",
   "metadata": {},
   "source": [
    "### Testes Placebo em Diferença em Diferenças\n",
    "\n",
    "Os testes placebo (ou *falsification tests*) são exercícios empíricos cujo objetivo é verificar se o estimador de Diferença em Diferenças (DiD) está capturando de fato um efeito causal do tratamento, ou se ele responde a correlações espúrias ou padrões de dados não relacionados à intervenção.\n",
    "\n",
    "A lógica é simples:\n",
    "* se o tratamento não ocorreu (porque foi atribuído ficticiamente a outro grupo, outro tempo ou outro resultado), o DiD não deveria estimar um efeito estatisticamente significativo.\n",
    "* caso se observe um “efeito placebo” consistente, isso sugere que o modelo pode estar captando outros fatores (viés de especificação, choques coincidentes, tendências diferenciadas, etc.), e não o impacto causal da intervenção."
   ]
  },
  {
   "cell_type": "markdown",
   "id": "fc080f0d",
   "metadata": {},
   "source": [
    "#### Placebo no Tratamento (fake treated units)\n",
    "\n",
    "Ideia: aplicar o tratamento a um grupo que de fato nunca foi tratado.\n",
    "\n",
    "Exemplo: selecionar aleatoriamente municípios da amostra de controle e rodar a estimação como se tivessem recebido a política pública.\n",
    "\n",
    "Interpretação: encontrar efeito nesses grupos sugere que o DiD não está isolando adequadamente a variação causal do tratamento.\n",
    "\n",
    "Formalização:\n",
    "Seja $D_{it}$ a dummy de tratamento real. Defina um tratamento falso $D^{pl}_{it}$ atribuído a unidades-controle.\n",
    "O estimador placebo é:\n",
    "\n",
    "$$\n",
    "\n",
    "\\hat{\\delta}^{pl} = (\\hat{Y}_{1}^{pl,post} - \\hat{Y}_{1}^{pl,pre}) - (\\hat{Y}_{0}^{post} - \\hat{Y}_{0}^{pre})\n",
    "\n",
    "$$\n",
    "\n",
    "onde $1^{pl}$ denota o grupo “tratado fictício”.\n",
    "\n",
    "Se $\\hat{\\delta}^{pl} \\neq 0$, há indícios de problema no modelo.\n"
   ]
  },
  {
   "cell_type": "markdown",
   "id": "9a99325b",
   "metadata": {},
   "source": [
    "**Testes de Robustez (Placebos)\n",
    "\n",
    "Esses testes servem para verificar se o resultado encontrado não é apenas um artefato do modelo, mas de fato um efeito causal associado ao tratamento.\n",
    "\n",
    "Placebo no tratamento: atribuir falsamente o tratamento a unidades de controle e verificar se aparece algum efeito espúrio.\n",
    "\n",
    "Placebo no resultado: utilizar uma variável de resultado que, teoricamente, não deveria ser afetada pelo tratamento (outcome falsificado).\n",
    "\n",
    "Placebo no tempo: simular a ocorrência do tratamento em um período anterior ao real (leads falsos) e verificar se surgem efeitos inexistentes.\n",
    "\n",
    "2. Evidências da Hipótese de Tendências Paralelas\n",
    "\n",
    "A hipótese de tendências paralelas é central para a validade do DiD. Sua plausibilidade pode ser investigada empiricamente.\n",
    "\n",
    "Event Study Design (ou Dinâmica de Efeitos de Tratamento)\n",
    "\n",
    "Estimação dos efeitos do tratamento ao longo do tempo, antes e depois da intervenção.\n",
    "\n",
    "Permite observar se há “efeitos antecipados” (violando a suposição de tendências paralelas) e também avaliar a evolução pós-tratamento.\n",
    "\n",
    "Usualmente estimado por meio de dummies de tempo relativo ao tratamento, com gráfico dos coeficientes.\n",
    "\n",
    "3. Outras Evidências Complementares\n",
    "\n",
    "Teste de balanceamento em covariáveis observáveis: verificar se, antes do tratamento, as variáveis de controle seguem evolução semelhante nos grupos tratado e controle.\n",
    "\n",
    "Análises de sensibilidade: variações na especificação do modelo (dummies de tempo mais flexíveis, controles adicionais, pesos diferentes, etc.).\n",
    "\n",
    "Métodos alternativos: comparar os resultados do DiD com estimadores relacionados (Synthetic Control, Event Study interativo, etc.) como verificação externa de robustez.**"
   ]
  },
  {
   "cell_type": "markdown",
   "id": "f6caa7ff",
   "metadata": {},
   "source": [
    "### Evidências para a Hipótese de Tendências Paralelas\n",
    "\n",
    "#### Event Study Design\n",
    "\n",
    "Quando temos um painel com a dimensão temporal mais longa, é possível termos uma evidência da hipótese de tendências paralelas por meio do chamado **Event Study Design**. Nesse caso, o modelo é estimado para cada período de tempo, e o **coeficiente de interesse é plotado em função do tempo**. **Se a hipótese de tendências paralelas for válida, os coeficientes estimados devem ser próximos de zero para os períodos anteriores ao tratamento, e próximos do valor do efeito causal para os períodos posteriores ao tratamento**.\n",
    "\n",
    "Considere o modelo de Diff-in-Diff (TWFE) com múltiplos períodos e tratamento: \n",
    "\n",
    "\n",
    ">\n",
    "> $$ Y_{i,t}=  \\beta.D_{i,t} + \\alpha_{i} + \\lambda_{t} + \\epsilon_{i,t} $$\n",
    "> \n",
    "\n",
    "\n",
    "Onde $Y_{i,t}$ é a variável de resultado; $D_{i,t}$ é a variável de tratamento indicativa, onde assume valor 1 no primeiro momento da intervenção, e permanece com esse valor posteriormente. $\\alpha_{i}$ é o efeito fixo individual; e $\\lambda_{t}$ é o efeito fixo temporal. **Sabemos que essa estrutura é flexivel e pode apresentar tanto o tratamento iniciando em um único momento do tempo (modelo canônico), quanto o tratamento iniciando em diferentes momentos no tempo**.\n",
    "\n",
    "Assim, no **Event Study** procura-se identificar as diferentes magnitudes do impacto decorrente do evento (intervenção) para cada ano específico (*“Efeitos heterogêneos do tratamento no tempo”*). Ou seja, desagregamos o efeito médio sobre os tratados $D_{i,t}$, em efeitos heterogêneos temporais específicos $\\sum_{t=0}^{m}[\\beta_{t} D_{i,t}]$. Logo, não queremos verificar apenas o efeito médio do tratamento nos tratados (ATT), mas **verificar como se dá esse efeito durante o período pós-intervenção**. \n",
    "\n",
    "O Event Study desagrega o efeito médio do tratamento sobre os tratados (ATT) no tempo conforme a seguinte equação:\n",
    "\n",
    "$$ 𝑌_{𝑖𝑡} = \\sum_{t=-q}^{−1}[\\phi_{t} D_{i,t}] + \\sum_{t=0}^{m}[\\beta_{t} D_{i,t}] + \\alpha_{i} + \\lambda_{t} +\\epsilon_{𝑖𝑡}$$\n",
    "\n",
    "$D_{i,t}$ é uma função indicadora para os tratados, em cada ano dentro da janela do evento. Tanto antes (*leads*), quanto depois da intervenção (*lag*). Podemos analisar graficamente o efeito. E, também, podemos definir os efeitos de curto prazo (por ex., 0, 1, 2 anos) e longo prazo (por exemplo, 3, 4, 5 anos). \n",
    "\n",
    "Lembre que o  ATT é a média do período posterior à intervenção ($\\beta_{t}$).\n",
    "\n",
    "Essa estrutura do DD também é conhecido na literatura como **Dynamic Difference-in-Differences**\n",
    "\n",
    "**A hipótese de tendências paralelas fica evidenciada quando o período pré-intervenção não apresenta efeito significativo, e o período pós-intervenção apresenta efeito significativo.**"
   ]
  },
  {
   "cell_type": "markdown",
   "id": "fc0518bd",
   "metadata": {},
   "source": [
    "### Aplicação doEvent Study em Python\n",
    "\n",
    "\n",
    "<div style=\"text-align:center;\">\n",
    "    <img src=\"images\\DD_FIG16.png\"  alt=\"Imagem\" style=\"width: 500px;\"/>\n",
    "</div>\n",
    "\n",
    "\n",
    "\n",
    "A ideia do artigo de Stevenson and Wolfers (2006) é aproveitar que o momento diferente da reforma da lei do divórcio entre os estados fornece um quase-experimento útil para examinar os efeitos dessa mudança. Eles analisam os dados em painel estadual para estimar as mudanças nas taxas de suicídio, violência doméstica e homicídio conjugal decorrentes da mudança na lei do divórcio.\n",
    "\n",
    "Veremos questões teóricas do tratamento em diferentes momentos do tempo de forma mais detalhada na próxima seção. Agora, com a estrutura dos dados do artigo em mente, podemos pensar em montar o **Dynamic Difference-in-Differences** através da técnica de **Event Study**.\n"
   ]
  },
  {
   "cell_type": "code",
   "execution_count": 1,
   "id": "b86c5201",
   "metadata": {},
   "outputs": [],
   "source": [
    "# Pacotes\n",
    "import numpy as np\n",
    "import pandas as pd\n",
    "import plotnine as p\n",
    "import statsmodels.api as sm\n",
    "import linearmodels as lm\n",
    "import statsmodels.formula.api as smf"
   ]
  },
  {
   "cell_type": "code",
   "execution_count": 3,
   "id": "f08ab210",
   "metadata": {},
   "outputs": [
    {
     "name": "stderr",
     "output_type": "stream",
     "text": [
      "C:\\Users\\danie\\AppData\\Local\\Temp\\ipykernel_31864\\1674332887.py:5: FutureWarning: DataFrameGroupBy.grouper is deprecated and will be removed in a future version of pandas.\n"
     ]
    },
    {
     "data": {
      "application/vnd.microsoft.datawrangler.viewer.v0+json": {
       "columns": [
        {
         "name": "index",
         "rawType": "object",
         "type": "string"
        },
        {
         "name": "_nfd",
         "rawType": "float64",
         "type": "float"
        }
       ],
       "ref": "3ae3445e-424b-455d-8b0c-c5b419971431",
       "rows": [
        [
         "count",
         "1188.0"
        ],
        [
         "mean",
         "1973.5833333333333"
        ],
        [
         "std",
         "3.5399691572628442"
        ],
        [
         "min",
         "1969.0"
        ],
        [
         "25%",
         "1971.0"
        ],
        [
         "50%",
         "1973.0"
        ],
        [
         "75%",
         "1974.25"
        ],
        [
         "max",
         "1985.0"
        ]
       ],
       "shape": {
        "columns": 1,
        "rows": 8
       }
      },
      "text/plain": [
       "count    1188.000000\n",
       "mean     1973.583333\n",
       "std         3.539969\n",
       "min      1969.000000\n",
       "25%      1971.000000\n",
       "50%      1973.000000\n",
       "75%      1974.250000\n",
       "max      1985.000000\n",
       "Name: _nfd, dtype: float64"
      ]
     },
     "execution_count": 3,
     "metadata": {},
     "output_type": "execute_result"
    }
   ],
   "source": [
    "data = pd.read_stata(\"https://github.com/Daniel-Uhr/data/raw/main/bacon_example.dta\")\n",
    "\n",
    "# Filtragem dos dados\n",
    "# Vamos criar identificadores estaduais\n",
    "data['id'] = data.groupby('stfips').grouper.group_info[0] + 1\n",
    "# Criar uma nova variável de tempo \"time\"\n",
    "data['time'] = data['year'] - 1963\n",
    "\n",
    "# Outcome (Suicide Mortality)\n",
    "Y = data['asmrs']\n",
    "# Treatment\n",
    "data['D'] = data['post']\n",
    "\n",
    "# Possíveis Covariáveis - 'pcinc', 'asmrh', 'cases'\n",
    "data['_nfd'].describe()"
   ]
  },
  {
   "cell_type": "code",
   "execution_count": 4,
   "id": "d3f777b3",
   "metadata": {},
   "outputs": [
    {
     "name": "stdout",
     "output_type": "stream",
     "text": [
      "                            WLS Regression Results                            \n",
      "==============================================================================\n",
      "Dep. Variable:                  asmrs   R-squared:                       0.701\n",
      "Model:                            WLS   Adj. R-squared:                  0.685\n",
      "Method:                 Least Squares   F-statistic:                     41.44\n",
      "Date:                seg, 25 ago 2025   Prob (F-statistic):               0.00\n",
      "Time:                        17:07:27   Log-Likelihood:                -6131.8\n",
      "No. Observations:                1617   AIC:                         1.243e+04\n",
      "Df Residuals:                    1535   BIC:                         1.287e+04\n",
      "Df Model:                          81                                         \n",
      "Covariance Type:                  HC1                                         \n",
      "=====================================================================================\n",
      "                        coef    std err          z      P>|z|      [0.025      0.975]\n",
      "-------------------------------------------------------------------------------------\n",
      "Intercept            42.5023      2.412     17.621      0.000      37.775      47.230\n",
      "C(stfips)[T.4]       33.0108      2.323     14.212      0.000      28.458      37.563\n",
      "C(stfips)[T.5]       -0.5985      2.401     -0.249      0.803      -5.304       4.107\n",
      "C(stfips)[T.6]       44.7120      4.824      9.268      0.000      35.257      54.167\n",
      "C(stfips)[T.8]       40.7171      2.572     15.833      0.000      35.677      45.758\n",
      "C(stfips)[T.9]       -0.8109      1.948     -0.416      0.677      -4.629       3.008\n",
      "C(stfips)[T.10]      11.8519      3.507      3.380      0.001       4.979      18.725\n",
      "C(stfips)[T.11]      -4.5073      2.769     -1.628      0.104      -9.934       0.919\n",
      "C(stfips)[T.12]      30.3660      2.071     14.662      0.000      26.307      34.425\n",
      "C(stfips)[T.13]      10.7375      1.894      5.671      0.000       7.026      14.449\n",
      "C(stfips)[T.16]      15.2231      2.463      6.180      0.000      10.395      20.051\n",
      "C(stfips)[T.17]       0.4621      1.821      0.254      0.800      -3.107       4.032\n",
      "C(stfips)[T.18]       5.0054      1.748      2.864      0.004       1.580       8.431\n",
      "C(stfips)[T.19]       1.6954      1.680      1.009      0.313      -1.598       4.989\n",
      "C(stfips)[T.20]       7.6300      1.743      4.378      0.000       4.214      11.046\n",
      "C(stfips)[T.21]       7.4695      1.741      4.290      0.000       4.057      10.882\n",
      "C(stfips)[T.22]      10.5097      2.184      4.812      0.000       6.229      14.790\n",
      "C(stfips)[T.23]       9.4892      2.350      4.038      0.000       4.884      14.095\n",
      "C(stfips)[T.24]       5.7233      2.117      2.703      0.007       1.573       9.873\n",
      "C(stfips)[T.25]      -2.6758      1.632     -1.640      0.101      -5.874       0.523\n",
      "C(stfips)[T.26]      11.2343      1.713      6.557      0.000       7.876      14.592\n",
      "C(stfips)[T.27]       4.1199      1.866      2.207      0.027       0.462       7.778\n",
      "C(stfips)[T.28]      -1.9406      2.489     -0.780      0.436      -6.819       2.938\n",
      "C(stfips)[T.29]       9.2102      1.748      5.270      0.000       5.785      12.635\n",
      "C(stfips)[T.30]      21.3154      2.715      7.850      0.000      15.994      26.637\n",
      "C(stfips)[T.31]       0.5408      2.216      0.244      0.807      -3.803       4.885\n",
      "C(stfips)[T.32]      71.3764      4.690     15.218      0.000      62.184      80.569\n",
      "C(stfips)[T.33]      10.9977      2.555      4.305      0.000       5.990      16.005\n",
      "C(stfips)[T.34]      -9.8202      1.711     -5.738      0.000     -13.174      -6.466\n",
      "C(stfips)[T.35]      27.5205      3.145      8.751      0.000      21.357      33.684\n",
      "C(stfips)[T.36]      -7.6378      2.068     -3.693      0.000     -11.691      -3.584\n",
      "C(stfips)[T.37]       7.0362      1.823      3.861      0.000       3.464      10.608\n",
      "C(stfips)[T.38]      -6.0413      2.654     -2.277      0.023     -11.242      -0.840\n",
      "C(stfips)[T.39]      11.3493      1.811      6.266      0.000       7.800      14.899\n",
      "C(stfips)[T.40]      14.4467      2.393      6.036      0.000       9.756      19.138\n",
      "C(stfips)[T.41]      23.3939      1.925     12.151      0.000      19.620      27.167\n",
      "C(stfips)[T.42]       3.4834      1.608      2.166      0.030       0.331       6.635\n",
      "C(stfips)[T.44]       4.8549      2.619      1.854      0.064      -0.277       9.987\n",
      "C(stfips)[T.45]       4.2210      2.025      2.084      0.037       0.252       8.190\n",
      "C(stfips)[T.46]      -3.0763      2.851     -1.079      0.281      -8.664       2.511\n",
      "C(stfips)[T.47]       5.5478      1.937      2.864      0.004       1.751       9.344\n",
      "C(stfips)[T.48]      13.4385      1.702      7.898      0.000      10.103      16.774\n",
      "C(stfips)[T.49]      15.1437      2.565      5.903      0.000      10.116      20.172\n",
      "C(stfips)[T.50]      12.6696      3.102      4.085      0.000       6.590      18.749\n",
      "C(stfips)[T.51]       7.3475      3.264      2.251      0.024       0.950      13.745\n",
      "C(stfips)[T.53]      24.3916      1.991     12.249      0.000      20.489      28.294\n",
      "C(stfips)[T.54]       3.3805      2.023      1.671      0.095      -0.585       7.346\n",
      "C(stfips)[T.55]      10.6260      1.740      6.108      0.000       7.216      14.036\n",
      "C(stfips)[T.56]      25.2540      3.278      7.705      0.000      18.830      31.678\n",
      "C(year)[T.1965.0]     5.4616      2.712      2.014      0.044       0.147      10.776\n",
      "C(year)[T.1966.0]     2.6245      2.910      0.902      0.367      -3.078       8.327\n",
      "C(year)[T.1967.0]     4.3547      2.393      1.820      0.069      -0.336       9.045\n",
      "C(year)[T.1968.0]     3.6215      2.548      1.421      0.155      -1.372       8.615\n",
      "C(year)[T.1969.0]     6.0404      2.373      2.545      0.011       1.389      10.692\n",
      "C(year)[T.1970.0]     7.3717      2.625      2.809      0.005       2.228      12.516\n",
      "C(year)[T.1971.0]    13.7963      2.707      5.096      0.000       8.490      19.103\n",
      "C(year)[T.1972.0]     8.2244      2.684      3.064      0.002       2.964      13.485\n",
      "C(year)[T.1973.0]     9.9938      2.579      3.875      0.000       4.939      15.049\n",
      "C(year)[T.1974.0]    10.7824      2.501      4.311      0.000       5.881      15.684\n",
      "C(year)[T.1975.0]    13.8359      2.735      5.059      0.000       8.476      19.196\n",
      "C(year)[T.1976.0]     8.9219      2.783      3.206      0.001       3.467      14.377\n",
      "C(year)[T.1977.0]    10.0273      2.616      3.833      0.000       4.900      15.155\n",
      "C(year)[T.1978.0]     5.2925      2.408      2.198      0.028       0.573      10.012\n",
      "C(year)[T.1979.0]     3.1138      2.575      1.209      0.227      -1.933       8.161\n",
      "C(year)[T.1980.0]     0.2340      2.363      0.099      0.921      -4.398       4.866\n",
      "C(year)[T.1981.0]     1.4113      2.440      0.578      0.563      -3.371       6.193\n",
      "C(year)[T.1982.0]    -1.0034      2.494     -0.402      0.687      -5.892       3.885\n",
      "C(year)[T.1983.0]    -3.0700      2.559     -1.200      0.230      -8.085       1.945\n",
      "C(year)[T.1984.0]    -1.6504      2.454     -0.672      0.501      -6.461       3.160\n",
      "C(year)[T.1985.0]    -6.0959      2.674     -2.280      0.023     -11.337      -0.855\n",
      "C(year)[T.1986.0]    -2.0901      2.499     -0.836      0.403      -6.987       2.807\n",
      "C(year)[T.1987.0]    -1.4690      2.631     -0.558      0.577      -6.626       3.688\n",
      "C(year)[T.1988.0]    -4.9797      2.710     -1.838      0.066     -10.291       0.332\n",
      "C(year)[T.1989.0]    -6.6635      2.583     -2.579      0.010     -11.727      -1.600\n",
      "C(year)[T.1990.0]    -6.5798      2.508     -2.623      0.009     -11.495      -1.664\n",
      "C(year)[T.1991.0]    -7.4036      2.455     -3.015      0.003     -12.216      -2.591\n",
      "C(year)[T.1992.0]   -10.0798      2.550     -3.952      0.000     -15.078      -5.081\n",
      "C(year)[T.1993.0]    -7.5031      2.545     -2.948      0.003     -12.491      -2.515\n",
      "C(year)[T.1994.0]    -9.3242      2.575     -3.621      0.000     -14.371      -4.277\n",
      "C(year)[T.1995.0]   -11.2574      2.505     -4.494      0.000     -16.167      -6.348\n",
      "C(year)[T.1996.0]   -11.3810      2.675     -4.255      0.000     -16.624      -6.138\n",
      "D                    -3.0799      1.268     -2.430      0.015      -5.565      -0.595\n",
      "==============================================================================\n",
      "Omnibus:                      123.346   Durbin-Watson:                   1.327\n",
      "Prob(Omnibus):                  0.000   Jarque-Bera (JB):              428.868\n",
      "Skew:                           0.319   Prob(JB):                     7.46e-94\n",
      "Kurtosis:                       5.441   Cond. No.                         62.6\n",
      "==============================================================================\n",
      "\n",
      "Notes:\n",
      "[1] Standard Errors are heteroscedasticity robust (HC1)\n"
     ]
    }
   ],
   "source": [
    "# Regressão controlando os efeitos fixos id e ano, com erro padrão robusto à heterocedasticidade.\n",
    "reg = smf.wls('asmrs ~ D + C(stfips) + C(year)', data=data).fit(cov_type='HC1')\n",
    "print(reg.summary())"
   ]
  },
  {
   "cell_type": "markdown",
   "id": "a53804e3",
   "metadata": {},
   "source": [
    "O efeito para D foi: -3.0799. Podemos programar para ter o resultado mais direto."
   ]
  },
  {
   "cell_type": "code",
   "execution_count": 5,
   "id": "618b2aa8",
   "metadata": {},
   "outputs": [
    {
     "data": {
      "application/vnd.microsoft.datawrangler.viewer.v0+json": {
       "columns": [
        {
         "name": "index",
         "rawType": "object",
         "type": "string"
        },
        {
         "name": "Coef.",
         "rawType": "float64",
         "type": "float"
        },
        {
         "name": "Std.Err.",
         "rawType": "float64",
         "type": "float"
        },
        {
         "name": "z",
         "rawType": "float64",
         "type": "float"
        },
        {
         "name": "P>|z|",
         "rawType": "float64",
         "type": "float"
        },
        {
         "name": "[0.025",
         "rawType": "float64",
         "type": "float"
        },
        {
         "name": "0.975]",
         "rawType": "float64",
         "type": "float"
        }
       ],
       "ref": "65d2f7cb-0005-41c5-82d2-f5df0e916edc",
       "rows": [
        [
         "Intercept",
         "42.50232151737811",
         "2.4120769637516055",
         "17.620632407712417",
         "1.710817127948032e-69",
         "37.774737540486235",
         "47.22990549426998"
        ],
        [
         "D",
         "-3.0799257655398997",
         "1.2677049453118898",
         "-2.4295288717850307",
         "0.01511846073239783",
         "-5.564581801374523",
         "-0.5952697297052767"
        ]
       ],
       "shape": {
        "columns": 6,
        "rows": 2
       }
      },
      "text/html": [
       "<div>\n",
       "<style scoped>\n",
       "    .dataframe tbody tr th:only-of-type {\n",
       "        vertical-align: middle;\n",
       "    }\n",
       "\n",
       "    .dataframe tbody tr th {\n",
       "        vertical-align: top;\n",
       "    }\n",
       "\n",
       "    .dataframe thead th {\n",
       "        text-align: right;\n",
       "    }\n",
       "</style>\n",
       "<table border=\"1\" class=\"dataframe\">\n",
       "  <thead>\n",
       "    <tr style=\"text-align: right;\">\n",
       "      <th></th>\n",
       "      <th>Coef.</th>\n",
       "      <th>Std.Err.</th>\n",
       "      <th>z</th>\n",
       "      <th>P&gt;|z|</th>\n",
       "      <th>[0.025</th>\n",
       "      <th>0.975]</th>\n",
       "    </tr>\n",
       "  </thead>\n",
       "  <tbody>\n",
       "    <tr>\n",
       "      <th>Intercept</th>\n",
       "      <td>42.502322</td>\n",
       "      <td>2.412077</td>\n",
       "      <td>17.620632</td>\n",
       "      <td>1.710817e-69</td>\n",
       "      <td>37.774738</td>\n",
       "      <td>47.229905</td>\n",
       "    </tr>\n",
       "    <tr>\n",
       "      <th>D</th>\n",
       "      <td>-3.079926</td>\n",
       "      <td>1.267705</td>\n",
       "      <td>-2.429529</td>\n",
       "      <td>1.511846e-02</td>\n",
       "      <td>-5.564582</td>\n",
       "      <td>-0.595270</td>\n",
       "    </tr>\n",
       "  </tbody>\n",
       "</table>\n",
       "</div>"
      ],
      "text/plain": [
       "               Coef.  Std.Err.          z         P>|z|     [0.025     0.975]\n",
       "Intercept  42.502322  2.412077  17.620632  1.710817e-69  37.774738  47.229905\n",
       "D          -3.079926  1.267705  -2.429529  1.511846e-02  -5.564582  -0.595270"
      ]
     },
     "execution_count": 5,
     "metadata": {},
     "output_type": "execute_result"
    }
   ],
   "source": [
    "# Regressão controlando os efeitos fixos id e ano, com erro padrão robusto à heterocedasticidade.\n",
    "smf.wls('asmrs ~ 1 + D + C(stfips) + C(year)', data=data).fit(cov_type='HC1').summary2().tables[1].loc[['Intercept', 'D'], :]"
   ]
  },
  {
   "cell_type": "markdown",
   "id": "433435ea",
   "metadata": {},
   "source": [
    "Vejamos como construir o gráfico do Event Study para o artigo de Stevenson and Wolfers (2006)."
   ]
  },
  {
   "cell_type": "code",
   "execution_count": 6,
   "id": "2c303cdf",
   "metadata": {},
   "outputs": [
    {
     "data": {
      "application/vnd.microsoft.datawrangler.viewer.v0+json": {
       "columns": [
        {
         "name": "index",
         "rawType": "object",
         "type": "string"
        },
        {
         "name": "timeToTreat",
         "rawType": "float64",
         "type": "float"
        }
       ],
       "ref": "a3f0158c-78e5-4d93-95a1-45d1001c9814",
       "rows": [
        [
         "count",
         "1188.0"
        ],
        [
         "mean",
         "6.416666666666667"
        ],
        [
         "std",
         "10.162402832967745"
        ],
        [
         "min",
         "-21.0"
        ],
        [
         "25%",
         "-2.0"
        ],
        [
         "50%",
         "6.0"
        ],
        [
         "75%",
         "15.0"
        ],
        [
         "max",
         "27.0"
        ]
       ],
       "shape": {
        "columns": 1,
        "rows": 8
       }
      },
      "text/plain": [
       "count    1188.000000\n",
       "mean        6.416667\n",
       "std        10.162403\n",
       "min       -21.000000\n",
       "25%        -2.000000\n",
       "50%         6.000000\n",
       "75%        15.000000\n",
       "max        27.000000\n",
       "Name: timeToTreat, dtype: float64"
      ]
     },
     "execution_count": 6,
     "metadata": {},
     "output_type": "execute_result"
    }
   ],
   "source": [
    "# Criar uma variável de tempo até o ano do início do tratamento (Tempo em relação ao início do evento)\n",
    "data['timeToTreat'] = data['year'] - data['_nfd']\n",
    "data['timeToTreat'].describe()"
   ]
  },
  {
   "cell_type": "markdown",
   "id": "ec541df4",
   "metadata": {},
   "source": [
    "Repare que vai de -21 à 27. Temos 21 Leads e 27 Lags."
   ]
  },
  {
   "cell_type": "code",
   "execution_count": 7,
   "id": "3feac05c",
   "metadata": {},
   "outputs": [
    {
     "data": {
      "image/png": "[encoded data removed]"
     },
     "metadata": {
      "image/png": {
       "height": 480,
       "width": 640
      }
     },
     "output_type": "display_data"
    }
   ],
   "source": [
    "# Criando as variáveis desagregadas do efeito de D manualmente:\n",
    "\n",
    "data['lead1'] = data['timeToTreat'] == -1\n",
    "data['lead2'] = data['timeToTreat'] == -2\n",
    "data['lead3'] = data['timeToTreat'] == -3\n",
    "data['lead4'] = data['timeToTreat'] == -4\n",
    "data['lead5'] = data['timeToTreat'] == -5\n",
    "data['lead6'] = data['timeToTreat'] == -6\n",
    "data['lead7'] = data['timeToTreat'] == -7\n",
    "data['lead8'] = data['timeToTreat'] == -8\n",
    "data['lead9'] = data['timeToTreat'] == -9\n",
    "data['lead10'] = data['timeToTreat'] == -10\n",
    "data['lead11'] = data['timeToTreat'] == -11\n",
    "data['lead12'] = data['timeToTreat'] == -12\n",
    "data['lead13'] = data['timeToTreat'] == -13\n",
    "data['lead14'] = data['timeToTreat'] == -14\n",
    "data['lead15'] = data['timeToTreat'] == -15\n",
    "data['lead16'] = data['timeToTreat'] == -16\n",
    "data['lead17'] = data['timeToTreat'] == -17\n",
    "data['lead18'] = data['timeToTreat'] == -18\n",
    "data['lead19'] = data['timeToTreat'] == -19\n",
    "data['lead20'] = data['timeToTreat'] == -20\n",
    "data['lead21'] = data['timeToTreat'] == -21\n",
    "\n",
    "data['lag0'] = data['timeToTreat'] == 0 \n",
    "data['lag1'] = data['timeToTreat'] == 1 \n",
    "data['lag2'] = data['timeToTreat'] == 2 \n",
    "data['lag3'] = data['timeToTreat'] == 3 \n",
    "data['lag4'] = data['timeToTreat'] == 4 \n",
    "data['lag5'] = data['timeToTreat'] == 5 \n",
    "data['lag6'] = data['timeToTreat'] == 6 \n",
    "data['lag7'] = data['timeToTreat'] == 7 \n",
    "data['lag8'] = data['timeToTreat'] == 8 \n",
    "data['lag9'] = data['timeToTreat'] == 9 \n",
    "data['lag10'] = data['timeToTreat'] == 10 \n",
    "data['lag11'] = data['timeToTreat'] == 11 \n",
    "data['lag12'] = data['timeToTreat'] == 12 \n",
    "data['lag13'] = data['timeToTreat'] == 13 \n",
    "data['lag14'] = data['timeToTreat'] == 14 \n",
    "data['lag15'] = data['timeToTreat'] == 15 \n",
    "data['lag16'] = data['timeToTreat'] == 16 \n",
    "data['lag17'] = data['timeToTreat'] == 17 \n",
    "data['lag18'] = data['timeToTreat'] == 18 \n",
    "data['lag19'] = data['timeToTreat'] == 19 \n",
    "data['lag20'] = data['timeToTreat'] == 20 \n",
    "data['lag21'] = data['timeToTreat'] == 21 \n",
    "data['lag22'] = data['timeToTreat'] == 22 \n",
    "data['lag23'] = data['timeToTreat'] == 23 \n",
    "data['lag24'] = data['timeToTreat'] == 24 \n",
    "data['lag25'] = data['timeToTreat'] == 25 \n",
    "data['lag26'] = data['timeToTreat'] == 26 \n",
    "data['lag27'] = data['timeToTreat'] == 27 \n",
    "\n",
    "# Desagregamos o efeito D, e consideramos os efeitos fixos.\n",
    "formula = \"asmrs ~ lead21 + lead20 + lead19 + lead18 + lead17 + lead16 + lead15 + lead14 + lead13 + lead12 + lead11 + lead10 + lead9 + lead8 + lead7 + lead6 + lead5 + lead4 + lead3 + lead2 + lead1 + lag1 + lag2 + lag3 + lag4 + lag5 + lag6 + lag7 + lag8 + lag9 + lag10 + lag11 + lag12 + lag13 + lag14 + lag15 + lag16 + lag17 + lag18 + lag19 + lag20 + lag21 + lag22 + lag23 + lag24 + lag25 + lag26 + lag27 + C(year) + C(stfips)\"\n",
    "\n",
    "# Os coeficientes para o Event Study são estimados:\n",
    "reg_event_study = smf.wls(formula, data = data).fit(cov_type='HC1')\n",
    "\n",
    "# Criamos duas listas com os coeficientes estimados\n",
    "leads = ['lead21[T.True]', 'lead20[T.True]', 'lead19[T.True]', 'lead18[T.True]', 'lead17[T.True]', 'lead16[T.True]', 'lead15[T.True]', 'lead14[T.True]', 'lead13[T.True]', 'lead12[T.True]', 'lead11[T.True]', 'lead10[T.True]', 'lead9[T.True]', 'lead8[T.True]', 'lead7[T.True]', 'lead6[T.True]', 'lead5[T.True]', 'lead4[T.True]', 'lead3[T.True]', 'lead2[T.True]', 'lead1[T.True]']\n",
    "lags = ['lag1[T.True]', 'lag2[T.True]', 'lag3[T.True]', 'lag4[T.True]', 'lag5[T.True]', 'lag6[T.True]', 'lag7[T.True]', 'lag8[T.True]', 'lag9[T.True]', 'lag10[T.True]', 'lag11[T.True]', 'lag12[T.True]', 'lag13[T.True]', 'lag14[T.True]', 'lag15[T.True]', 'lag16[T.True]', 'lag17[T.True]', 'lag18[T.True]', 'lag19[T.True]', 'lag20[T.True]', 'lag21[T.True]', 'lag22[T.True]', 'lag23[T.True]', 'lag24[T.True]', 'lag25[T.True]', 'lag26[T.True]', 'lag27[T.True]']\n",
    "\n",
    "# Agora a ideia é construir um DataFrame com os coeficientes estimados e seus respectivos desvios padrão para depois gerar o gráfico do Event Study.\n",
    "# Coeficientes das variáveis 'leads' e 'lags'\n",
    "coef_leads = reg_event_study.params[leads]\n",
    "coef_lags = reg_event_study.params[lags]\n",
    "\n",
    "# Desvios padrão dos coeficientes 'leads' e 'lags'\n",
    "std_leads = np.sqrt(np.diag(reg_event_study.cov_params().loc[leads][leads]))\n",
    "std_lags = np.sqrt(np.diag(reg_event_study.cov_params().loc[lags][lags]))\n",
    "\n",
    "# Crie um DataFrame para 'leads'\n",
    "df_leads = pd.DataFrame({\n",
    "    'mean': coef_leads,\n",
    "    'sd': std_leads,\n",
    "    'variable': leads\n",
    "})\n",
    "\n",
    "# Crie um DataFrame para 'lags'\n",
    "df_lags = pd.DataFrame({\n",
    "    'mean': coef_lags,\n",
    "    'sd': std_lags,\n",
    "    'variable': lags\n",
    "})\n",
    "\n",
    "# Combine os DataFrames de 'leads' e 'lags'\n",
    "leadslags_plot = pd.concat([df_leads, df_lags])\n",
    "\n",
    "leadslags_plot['lb'] = leadslags_plot['mean'] - leadslags_plot['sd']*1.96\n",
    "leadslags_plot['ub'] = leadslags_plot['mean'] + leadslags_plot['sd']*1.96\n",
    "\n",
    "leadslags_plot['N'] = range(1, len(leadslags_plot) + 1)\n",
    "leadslags_plot['TimeToTreat'] = leadslags_plot['N'] - 21\n",
    "\n",
    "# Código para plotar o Event Study\n",
    "p.ggplot(leadslags_plot, p.aes(x = 'TimeToTreat', y = 'mean',\n",
    "             ymin = 'lb', \n",
    "             ymax = 'ub')) +\\\n",
    "    p.geom_hline(yintercept = -3.0799, color = \"red\") +\\\n",
    "    p.geom_pointrange() +\\\n",
    "    p.theme_minimal() +\\\n",
    "    p.xlab(\"Years before and after Treatment\") +\\\n",
    "    p.ylab(\"log(Homicide Rate)\") +\\\n",
    "    p.geom_hline(yintercept = 0,\n",
    "             linetype = \"dashed\") +\\\n",
    "    p.geom_vline(xintercept = 0,\n",
    "             linetype = \"dashed\")"
   ]
  },
  {
   "cell_type": "markdown",
   "id": "1d4fbdf5",
   "metadata": {},
   "source": [
    "Percebemos no Gráfico de Event Study que o efeito do tratamento é negativo e significativo para os anos posteriores à intervenção. Principalmente após o sétimo ano. O efeito médio estimado para o período pós-intervenção é de -3.0799. Fica evidente que o efeito do tratamento é gradual.\n",
    "\n",
    "Esse exemplo anterior foi motivo de muita discussão na literatura. Principalmente na literatura de econometria teórica, porque surge dúvidas sobre possíveis viéses do estimador porque eles está considerando diversos grupos de tratamento e controles distintos. Por exemplo, existem estados que começam o tratamento em 1971, outros em 1972, outros em 1973, e assim por diante. "
   ]
  },
  {
   "cell_type": "code",
   "execution_count": 10,
   "id": "9e617312",
   "metadata": {},
   "outputs": [],
   "source": [
    "# Load packages\n",
    "import pandas as pd\n",
    "import numpy as np\n",
    "from datetime import date\n",
    "from tqdm import tqdm\n",
    "import plotly.graph_objects as go\n",
    "import telegram_send\n",
    "import paneleventstudy as es\n",
    "from linearmodels import PanelOLS\n",
    "import statsmodels.formula.api as smf\n",
    "\n",
    "df = pd.read_stata(\"https://github.com/Daniel-Uhr/data/raw/main/bacon_example.dta\")"
   ]
  },
  {
   "cell_type": "code",
   "execution_count": 11,
   "id": "4c381dc5",
   "metadata": {},
   "outputs": [],
   "source": [
    "# Outcome (Suicide Mortality)\n",
    "df['Y'] = df['asmrs']\n",
    "# Treatment D (Staggered treatment adoption)\n",
    "df['D'] = df['post']\n",
    "# Covariáveis - pcinc asmrh cases\n",
    "df['X1'] = df['pcinc']\n",
    "df['X2'] = df['asmrh']\n",
    "df['X3'] = df['cases']\n",
    "\n",
    "# Identificação do painel\n",
    "df['year'] = df['year'].astype(int)\n",
    "df['id'] = df['stfips'].astype('category').cat.codes + 1\n",
    "\n",
    "\n",
    "# Relative time (Tempo relativo até o tratamento - ocorre somente para os tratados)\n",
    "df['reltime'] = df['year'] - df['_nfd']\n",
    "# colocar valor zero caso tenha dados faltantes\n",
    "df['reltime'] = df['reltime'].fillna(0)\n",
    "# garantir que 'reltime' seja um inteiro\n",
    "df['reltime'] = df['reltime'].astype(int)\n",
    "\n",
    "# Generates a new column called 'ct' containing the numerics version of calendar time 'year'\n",
    "df['ct'] = df['year'] - 1964\n",
    "\n",
    "# Vamos criar a variável de grupo (cohoort) e G (Callaway-SantAnna)\n",
    "df['cohort'] = df['_nfd'] - 1965\n",
    "df['G']=df['_nfd']\n",
    "\n",
    "# control group\n",
    "df['treated'] = 0\n",
    "df.loc[df['_nfd'] > 0, 'treated'] = 1\n",
    "df['control_group'] = 1\n",
    "df.loc[df['treated'] == 1, 'control_group'] = 0\n",
    "\n",
    "# Criar uma coluna que identifica os indivíduos que nunca foram tratados (nevertreated)\n",
    "df['nevertreated'] = 0\n",
    "df.loc[df['treated'] == 0, 'nevertreated'] = 1\n",
    "\n",
    "# Criar uma coluna que identifica os indivíduos que sempre foram tratados (alwaystreated) Deve ser 1 para todos os anos após o tratamento D\n",
    "df['mean_treat'] = df.groupby('id')['D'].transform('mean')\n",
    "# Criar os sempre tratados\n",
    "df['alwaystreated'] = 0\n",
    "df.loc[(df['mean_treat'] == 1), 'alwaystreated'] = 1"
   ]
  },
  {
   "cell_type": "code",
   "execution_count": 12,
   "id": "f7b227d7",
   "metadata": {},
   "outputs": [],
   "source": [
    "# TWFE naive - Dynamic Difference-in-Differences\n",
    "\n",
    "# Especificar a fórmula com a categoria 0 de reltime como referência diretamente\n",
    "formula = 'Y ~ C(reltime, Treatment(reference=0)) + C(id) + C(year)'\n",
    "\n",
    "# Ajustar o modelo\n",
    "twfe = smf.ols(formula, data=df).fit(cov_type='HC1')\n",
    "\n",
    "# Extraindo os resultados\n",
    "beta = pd.DataFrame(twfe.params, columns=['coef'])  # Coeficientes estimados\n",
    "ci = twfe.conf_int()  # Intervalos de confiança\n",
    "\n",
    "# Renomear as colunas do intervalo de confiança para consistência\n",
    "ci.columns = ['lower', 'upper']\n",
    "\n",
    "# Combinar os resultados em um único DataFrame\n",
    "est = beta.join(ci)\n",
    "\n",
    "# Manter apenas os coeficientes relativos ao efeito de reltime\n",
    "est = est.reset_index(drop=False)\n",
    "est = est[est['index'].str.contains('C(reltime, Treatment(reference=0))[T.', regex=False)]  \n",
    "\n",
    "# Clean the coefficient names for readability\n",
    "est['index'] = est['index'].str.replace('C(reltime, Treatment(reference=0))[T.', '', regex=False)  # Remove the prefix\n",
    "est['index'] = est['index'].str.replace(']', '', regex=False)         # Remove closing brackets\n",
    "\n",
    "# Set the index to the cleaned relative time\n",
    "est = est.set_index('index')\n",
    "\n",
    "est = est.reset_index()  # Transforma o índice em uma coluna\n",
    "est['index'] = pd.to_numeric(est['index'])  # Converte para numérico\n",
    "\n",
    "est = est.sort_values('index')  # Agora ordenará corretamente\n",
    "# Certifique-se de que o índice é numérico para ordenação\n",
    "est.index = pd.to_numeric(est.index)"
   ]
  },
  {
   "cell_type": "code",
   "execution_count": 13,
   "id": "001a88fa",
   "metadata": {},
   "outputs": [
    {
     "data": {
      "image/png": "[encoded data removed]",
      "text/plain": [
       "<Figure size 1000x600 with 1 Axes>"
      ]
     },
     "metadata": {},
     "output_type": "display_data"
    }
   ],
   "source": [
    "import matplotlib.pyplot as plt\n",
    "\n",
    "# Configurar o gráfico\n",
    "plt.figure(figsize=(10, 6))\n",
    "\n",
    "# Plotar os coeficientes com barras de erro\n",
    "plt.errorbar(\n",
    "    est['index'],  # Valores do eixo x\n",
    "    est['coef'],   # Valores do eixo y (coeficientes)\n",
    "    yerr=[est['coef'] - est['lower'], est['upper'] - est['coef']],  # Barras de erro\n",
    "    fmt='o', color='black', ecolor='gray', elinewidth=2, capsize=4, label='Estimated Coefficients'\n",
    ")\n",
    "\n",
    "# Adicionar uma linha horizontal no valor 0 para referência\n",
    "plt.axhline(0, color='black', linestyle='--', linewidth=1)\n",
    "\n",
    "# Adicionar linha vertical para o início do tratamento em zero\n",
    "plt.axvline(0, color='black', linestyle='--', linewidth=1, label='Treatment Start')\n",
    "\n",
    "# Adicionar título e rótulos\n",
    "plt.title('Relative Time Coefficients with 95% Confidence Interval', fontsize=14)\n",
    "plt.xlabel('Relative Time (index)', fontsize=12)\n",
    "plt.ylabel('Coefficient Estimate (coef)', fontsize=12)\n",
    "\n",
    "# Adicionar grade e legenda\n",
    "plt.grid(True, linestyle='--', alpha=0.6)\n",
    "plt.legend()\n",
    "\n",
    "# Exibir o gráfico\n",
    "plt.show()\n"
   ]
  }
 ],
 "metadata": {
  "kernelspec": {
   "display_name": "Python 3",
   "language": "python",
   "name": "python3"
  },
  "language_info": {
   "codemirror_mode": {
    "name": "ipython",
    "version": 3
   },
   "file_extension": ".py",
   "mimetype": "text/x-python",
   "name": "python",
   "nbconvert_exporter": "python",
   "pygments_lexer": "ipython3",
   "version": "3.11.5"
  }
 },
 "nbformat": 4,
 "nbformat_minor": 5
}
