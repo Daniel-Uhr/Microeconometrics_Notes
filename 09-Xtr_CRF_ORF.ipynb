{
 "cells": [
  {
   "cell_type": "markdown",
   "id": "6848efb1",
   "metadata": {},
   "source": [
    "# *Causal Random Forest* (CausalForestDML) e o *Orthogonal Random Forest* (OrthoDML)\n",
    "\n",
    "Prof. Daniel de Abreu Pereira Uhr\n",
    "\n",
    "## Conteúdo\n",
    "\n",
    "* Causal Forest\n",
    "* Orthogonal Random Forest, Oprescu, Syrgkanis & Wu (2020)\n",
    "\n",
    "\n",
    "## Referências\n",
    "\n",
    "**Principais:**\n",
    "* Chernozhukov, V., Chetverikov, D., Demirer, M., Duflo, E., Hansen, C., Newey, W., & Robins, J. (2018). Double/debiased machine learning for treatment and structural parameters. The Econometrics Journal, Volume 21, Issue 1, 1 February 2018, Pages C1–C68, https://doi.org/10.1111/ectj.12097\n",
    "* Chernozhukov\n",
    "* Microsoft EconML: https://econml.azurewebsites.net/\n",
    "* UBER CausalML: https://causalml.readthedocs.io/en/latest/\n",
    "* DoubleML for python: https://github.com/DoubleML/doubleml-for-py ou https://docs.doubleml.org/stable/index.html\n",
    "\n",
    "**Complementares:**\n",
    "* Chernozhukov, V. and C. Hansen (2004). The effects of 401 (k) participation on the wealth distribution: an instrumental quantile regression analysis. Review of Economics and Statistics 86, 735–51. \n",
    "* Chernozhukov, V., D. Chetverikov and K. Kato (2014). Gaussian approximation of suprema of empirical processes. Annals of Statistics 42, 1564–97. \n",
    "* Chernozhukov, V., J. Escanciano, H. Ichimura, W. Newey and J. Robins (2016). Locally robust semiparametric estimation. Preprint (arXiv:1608.00033). \n",
    "* Chernozhukov, V., C. Hansen and M. Spindler (2015a). Post-selection and post-regularization inference in linear models with very many controls and instruments. Americal Economic Review: Papers and Proceedings 105, 486–90. \n",
    "* Chernozhukov, V., C. Hansen and M. Spindler (2015b). Valid post-selection and post-regularization inference: an elementary, general approach. Annual Review of Economics 7, 649–88.\n",
    "* Bach, P., Chernozhukov, V., Kurz, M. S., and Spindler, M. (2022), DoubleML - An Object-Oriented Implementation of Double Machine Learning in Python, Journal of Machine Learning Research, 23(53): 1-6, https://www.jmlr.org/papers/v23/21-0862.html.\n",
    "* Bach, P., Chernozhukov, V., Kurz, M. S., Spindler, M. and Klaassen, S. (2024), DoubleML - An Object-Oriented Implementation of Double Machine Learning in R, Journal of Statistical Software, 108(3): 1-56, doi:10.18637/jss.v108.i03, arXiv:2103.09603.\n",
    "* Chernozhukov, V., Chetverikov, D., Demirer, M., Duflo, E., Hansen, C., Newey, W. and Robins, J. (2018), Double/debiased machine learning for treatment and structural parameters. The Econometrics Journal, 21: C1-C68, doi:10.1111/ectj.12097.\n",
    "* Lang, M., Binder, M., Richter, J., Schratz, P., Pfisterer, F., Coors, S., Au, Q., Casalicchio, G., Kotthoff, L. and Bischl, B. (2019), mlr3: A modern object-oriented machine learing framework in R. Journal of Open Source Software, doi:10.21105/joss.01903.\n",
    "* Pedregosa, F., Varoquaux, G., Gramfort, A., Michel, V., Thirion, B., Grisel, O., Blondel, M., Prettenhofer, P., Weiss, R., Dubourg, V., Vanderplas, J., Passos, A., Cournapeau, D., Brucher, M., Perrot, M. and Duchesnay, E. (2011), Scikit-learn: Machine Learning in Python. Journal of Machine Learning Research, 12: 2825–2830, https://jmlr.csail.mit.edu/papers/v12/pedregosa11a.html.\n",
    "\n",
    "\n",
    "**Observações:** O material apresentado aqui é uma adaptação do material de aula do Prof. Daniel de Abreu Pereira Uhr, e não deve ser utilizado para fins comerciais. O material é disponibilizado para fins educacionais e de pesquisa, e não deve ser reproduzido sem a devida autorização do autor. Este material pode conter erros e imprecisões. O autor não se responsabiliza por quaisquer danos ou prejuízos decorrentes do uso deste material. O uso deste material é de responsabilidade exclusiva do usuário. Caso você encontre erros ou imprecisões neste material, por favor, entre em contato com o autor para que possam ser corrigidos. O autor agradece qualquer *feedback* ou sugestão de melhoria.\n",
    "\n",
    "---"
   ]
  },
  {
   "cell_type": "markdown",
   "id": "dc209372",
   "metadata": {},
   "source": [
    "## Causal Forest\n",
    "\n",
    "Causal Forest é uma extensão dos Random Forests tradicionalmente usados para previsão, mas projetado para estimar efeitos causais — especialmente efeitos heterogêneos (CATE). Os principais artigos que estabelecem o método são:\n",
    "\n",
    "* Wager, S., & Athey, S. (2018). Estimation and Inference of Heterogeneous Treatment Effects using Random Forests. Journal of the American Statistical Association, 113(523), 1228–1242. https://doi.org/10.1080/01621459.2017.1319839\n",
    "* Susan Athey, Julie Tibshirani, Stefan Wager (2019). Generalized random forests. Ann. Statist. 47(2): 1148-1178 (April 2019). https://doi.org/10.1214/18-AOS1709\n",
    "\n"
   ]
  },
  {
   "cell_type": "markdown",
   "id": "78fdc7b7",
   "metadata": {},
   "source": [
    "***Wager & Athey (2018)***\n",
    "\n",
    "Foco principal:\n",
    "* Desenvolver Causal Forests como uma aplicação específica das Random Forests para inferência causal.\n",
    "* Mostram como adaptar o algoritmo de Breiman (2001) para estimar CATEs (Conditional Average Treatment Effects).\n",
    "* Introduzem o conceito de honest trees (amostragem separada para dividir e para estimar os efeitos), garantindo consistência assintótica.\n",
    "* Propriedades de inferência: derivam a normalidade assintótica e permitem intervalos de confiança válidos para heterogeneidade de tratamento.\n",
    "* O escopo é mais aplicado à econometria/ciências sociais: foco direto em tratamento binário, com clara conexão a causal inference.\n",
    "\n",
    "Em resumo:\n",
    "* É o artigo que introduz o Causal Forest formalmente, com teoria estatística para inferência válida sobre heterogeneidade de tratamento."
   ]
  },
  {
   "cell_type": "markdown",
   "id": "df1e9f1d",
   "metadata": {},
   "source": [
    "***Athey, Tibshirani & Wager (2019, Annals of Statistics)***\n",
    "\n",
    "Foco principal:\n",
    "* Mais amplo: propõe a estrutura de Generalized Random Forests (GRF), que engloba o Causal Forest como um caso particular.\n",
    "* Ideia: em vez de prever médias condicionais, a floresta é usada para resolver equações de momentos locais.\n",
    "* Isso permite aplicar a metodologia a vários problemas além de efeitos causais:\n",
    "  * Quantile regression forests;\n",
    "  * Instrumental variable forests;\n",
    "  * Heterogeneous treatment effects (o Causal Forest do paper de 2018);\n",
    "  * Policy learning, entre outros.\n",
    "* Fornece a base teórica unificada que garante consistência e inferência em diversos contextos.\n",
    "* É mais matemático/abstrato, publicado em periódico de estatística pura (Annals of Statistics), consolidando a teoria geral.\n",
    "* ***Tratamento contínuo aparece no GRF (2019) como parte do arcabouço geral de equações de momentos***, do qual o efeito binário é só um caso especial.\n",
    "\n",
    "Em resumo:\n",
    "* Esse artigo é o framework teórico geral, do qual o Causal Forest (2018) é apenas uma aplicação. Mostra que o método pode ser usado para qualquer problema formulável como moment condition estimation."
   ]
  },
  {
   "cell_type": "markdown",
   "id": "49940961",
   "metadata": {},
   "source": [
    "### Fundamentação Teórica"
   ]
  },
  {
   "cell_type": "markdown",
   "id": "92ae435b",
   "metadata": {},
   "source": [
    "## Causal Forest (Wager & Athey, 2018)\n",
    "\n",
    "### Árvores honestas\n",
    "- Diferente das árvores tradicionais, que usam a mesma amostra para **dividir os nós** e **estimar os parâmetros**, as *honest trees* separam a amostra em duas partes:\n",
    "  - **Amostra 1:** usada apenas para decidir as divisões (*split sample*).  \n",
    "  - **Amostra 2:** usada apenas para calcular os efeitos médios em cada nó.  \n",
    "- Isso evita o **overfitting** e garante que as estimativas sejam **não viesadas**.  \n",
    "- Intuição: cada nó da árvore deve ser tratado como um “experimento local” de comparação entre tratados e não tratados.\n",
    "\n",
    "### Parâmetro de interesse\n",
    "$$\n",
    "\\tau(x) = \\mathbb{E}[Y(1) - Y(0) \\mid X = x]\n",
    "$$  \n",
    "\n",
    "É o **Conditional Average Treatment Effect (CATE)**: o efeito médio do tratamento para indivíduos com características $X=x$.\n",
    "\n",
    "### Contribuições\n",
    "- Consistência assintótica.  \n",
    "- Intervalos de confiança válidos para CATE.  \n",
    "- Restrição: tratamento binário.  \n",
    "\n",
    "\n",
    "\n",
    "## **Generalized Random Forests (Athey, Tibshirani & Wager, 2019)**\n",
    "\n",
    "### Formulação geral\n",
    "Define o parâmetro de interesse como solução de um problema de momentos local:  \n",
    "\n",
    "$$\n",
    "\\mathbb{E}[\\psi_{\\theta(x)}(O) \\mid X = x] = 0\n",
    "$$  \n",
    "\n",
    "- Aqui, $\\psi$ é uma função de momentos (como em GMM).  \n",
    "- O estimador de $\\theta(x)$ é obtido resolvendo esse sistema localmente, com pesos dados pela floresta.\n",
    "\n",
    "### Aplicações\n",
    "- *Causal Forest* (efeito binário).  \n",
    "- *Quantile Regression Forests*.  \n",
    "- *IV Forests* (variáveis instrumentais).  \n",
    "- Tratamento contínuo (*dose-response*).  \n",
    "\n",
    "O *Causal Forest* é apenas **um caso específico** da estrutura mais geral (GRF), que pode resolver diversos problemas econométricos.\n",
    "\n",
    "\n",
    "\n",
    "## **Double ML**\n",
    "\n",
    "A formulação segue o **Neyman orthogonal score**, que garante validade estatística mesmo quando $m_{y}(X)$ e $e_{D}(X)$ são estimados via *machine learning* (com possíveis erros de aproximação).\n",
    "\n",
    "### Etapas\n",
    "\n",
    "1. **Residualização**\n",
    "   - Regressamos $Y$ em $X$ → obtemos $\\hat m(X)$, e construímos o resíduo:\n",
    "     $$\n",
    "     \\tilde{Y} = Y - \\hat m(X)\n",
    "     $$\n",
    "   - Regressamos $D$ em $X$ → obtemos $\\hat e(X)$, e construímos o resíduo:\n",
    "     $$\n",
    "     \\tilde{D} = D - \\hat e(X)\n",
    "     $$\n",
    "   - O que sobra ($\\tilde{Y}$ e $\\tilde{D}$) é a parte de $Y$ e $D$ **não explicada por $X$**.  \n",
    "   - Intuição: removemos o viés de confundimento vindo de $X$.\n",
    "\n",
    "2. **Causal Forest nos resíduos**\n",
    "   - Agora entram as árvores honestas:  \n",
    "     - Em cada nó, comparamos como $\\tilde{Y}$ varia em função de $\\tilde{D}$.  \n",
    "     - Isso equivale a estimar localmente:  \n",
    "       $$\n",
    "       \\tilde{Y} \\approx \\tau(x) \\cdot \\tilde{D}\n",
    "       $$\n",
    "   - As árvores não são aplicadas diretamente em $(Y,D,X)$, mas sim nos **resíduos** $(\\tilde{Y}, \\tilde{D})$, condicionados a $X$.  \n",
    "\n",
    "\n",
    "## **CausalForestDML no EconML**\n",
    "\n",
    "O `CausalForestDML` implementa exatamente essa lógica:\n",
    "\n",
    "- Usa **modelos de machine learning** (ex.: Gradient Boosting, Random Forest, Neural Nets) para estimar $m(X)$ e $e(X)$.  \n",
    "- Usa o **Causal Forest (GRF)** para estimar $\\tau(x)$ nos resíduos.  \n",
    "\n",
    "### Vantagens\n",
    "- Combina a **robustez do Double ML** com a **flexibilidade do GRF**.  \n",
    "- Lida com:\n",
    "  - Tratamento binário.  \n",
    "  - Tratamento contínuo.  \n",
    "  - Intervalos de confiança confiáveis.  \n",
    "O `CausalForestDML` é a **tradução prática** da teoria dos artigos (2018, 2019) dentro de uma estrutura econométrica moderna (Double ML).\n"
   ]
  },
  {
   "cell_type": "code",
   "execution_count": 1,
   "id": "30cb8b5d",
   "metadata": {},
   "outputs": [],
   "source": [
    "import pandas as pd\n",
    "import numpy as np\n",
    "import statsmodels.formula.api as smf\n",
    "import warnings\n",
    "warnings.filterwarnings(\"ignore\", message=\"\\'force_all_finite\\' was renamed to \\'ensure_all_finite\\'\")\n",
    "from econml.dml import CausalForestDML\n",
    "from sklearn.ensemble import GradientBoostingRegressor, GradientBoostingClassifier"
   ]
  },
  {
   "cell_type": "code",
   "execution_count": 6,
   "id": "9a8e8eab",
   "metadata": {},
   "outputs": [],
   "source": [
    "# DataFrame\n",
    "df = pd.read_stata(\"https://github.com/Daniel-Uhr/data/raw/main/cattaneo2.dta\")"
   ]
  },
  {
   "cell_type": "code",
   "execution_count": 7,
   "id": "1002f358",
   "metadata": {},
   "outputs": [],
   "source": [
    "# Criar a variável de resultado\n",
    "df['Y'] = df['bweight']\n",
    "\n",
    "# Criar a variável 'Treated' com valor 1 se 'mbsmoke' for 'smoker', caso contrário 0\n",
    "df['D'] = np.where(df['mbsmoke'] == 'smoker', 1, 0)\n",
    "\n",
    "# Criar a variável 'casada' com valor 1 se 'mmarried' for 'married', caso contrário 0\n",
    "df['casada'] = np.where(df['mmarried'] == 'married', 1, 0)"
   ]
  },
  {
   "cell_type": "code",
   "execution_count": 8,
   "id": "f42fb0b2",
   "metadata": {},
   "outputs": [],
   "source": [
    "X = df[['casada', 'mage', 'medu', 'fhisp', 'mhisp', 'foreign', 'alcohol', 'deadkids', 'nprenatal', 'mrace', 'frace', 'fage', 'fedu']]\n",
    "T = df['D']\n",
    "Y = df['Y']"
   ]
  },
  {
   "cell_type": "code",
   "execution_count": 9,
   "id": "462f5218",
   "metadata": {},
   "outputs": [
    {
     "data": {
      "image/png": "[encoded data removed]",
      "text/latex": [
       "$\\displaystyle -206.229291016741$"
      ],
      "text/plain": [
       "-206.22929101674058"
      ]
     },
     "execution_count": 9,
     "metadata": {},
     "output_type": "execute_result"
    }
   ],
   "source": [
    "# Modelos para outcome e tratamento\n",
    "model_y = GradientBoostingRegressor(n_estimators=100, random_state=123)\n",
    "model_t = GradientBoostingClassifier(n_estimators=100, random_state=123)\n",
    "\n",
    "# Causal Forest como modelo final\n",
    "\n",
    "cf_dml = CausalForestDML(model_y=model_y,\n",
    "                         model_t=model_t,\n",
    "                         discrete_treatment=True,\n",
    "                         n_estimators=5000,\n",
    "                         min_samples_leaf=15,\n",
    "                         max_depth=5,\n",
    "                         random_state=123,\n",
    "                         honest=True,\n",
    "                         inference=True)\n",
    "\n",
    "cf_dml.fit(Y, T, X=X, cache_values=True)\n",
    "\n",
    "cf_dml.ate(X)\n"
   ]
  },
  {
   "cell_type": "code",
   "execution_count": 10,
   "id": "0c900c52",
   "metadata": {},
   "outputs": [
    {
     "name": "stdout",
     "output_type": "stream",
     "text": [
      "Population summary of CATE predictions on Training Data\n",
      "               Uncertainty of Mean Point Estimate               \n",
      "================================================================\n",
      "mean_point stderr_mean zstat  pvalue ci_mean_lower ci_mean_upper\n",
      "----------------------------------------------------------------\n",
      "  -206.229       50.39 -4.093    0.0      -304.992      -107.467\n",
      "      Distribution of Point Estimate     \n",
      "=========================================\n",
      "std_point pct_point_lower pct_point_upper\n",
      "-----------------------------------------\n",
      "   59.875        -296.124         -45.879\n",
      "     Total Variance of Point Estimate     \n",
      "==========================================\n",
      "stderr_point ci_point_lower ci_point_upper\n",
      "------------------------------------------\n",
      "      78.257       -345.609        -12.449\n",
      "        Doubly Robust ATE on Training Data Results       \n",
      "=========================================================\n",
      "    point_estimate stderr zstat  pvalue ci_lower ci_upper\n",
      "---------------------------------------------------------\n",
      "ATE       -207.132  29.22 -7.089    0.0 -264.402 -149.862\n",
      "     Doubly Robust ATT(T=0) on Training Data Results      \n",
      "==========================================================\n",
      "    point_estimate stderr  zstat  pvalue ci_lower ci_upper\n",
      "----------------------------------------------------------\n",
      "ATT       -209.147 12.666 -16.512    0.0 -233.972 -184.321\n",
      "     Doubly Robust ATT(T=1) on Training Data Results     \n",
      "=========================================================\n",
      "    point_estimate  stderr zstat pvalue ci_lower ci_upper\n",
      "---------------------------------------------------------\n",
      "ATT       -198.323 146.894 -1.35  0.177 -486.229   89.584\n",
      "---------------------------------------------------------\n",
      "\n",
      "Note: The stderr_mean is a conservative upper bound.\n"
     ]
    }
   ],
   "source": [
    "print(cf_dml.summary())"
   ]
  },
  {
   "cell_type": "markdown",
   "id": "78ae7f65",
   "metadata": {},
   "source": [
    "* Com base exclusivamente na média dos CATEs estimados, o efeito médio estimado do tabagismo é –213g\n",
    "* Doubly Robust ATE (baseado em influência orthogonal)\n",
    "  * Essa é a estimativa mais confiável do ATE, pois vem do método de influência com ortogonalização — ou seja, é onde o estimador é realmente duplamente robusto.\n",
    "* ATT(T=0): efeito médio se os não fumantes tivessem fumado → –216 g, altamente significativo\n",
    "* ATT(T=1): efeito médio entre os que fumaram → –173 g, não significativo (alta variância)"
   ]
  },
  {
   "cell_type": "markdown",
   "id": "cadb352f",
   "metadata": {},
   "source": [
    "***Quais as variáveis mais importantes para o modelo?***"
   ]
  },
  {
   "cell_type": "code",
   "execution_count": 11,
   "id": "6146fe7e",
   "metadata": {},
   "outputs": [
    {
     "data": {
      "image/png": "[encoded data removed]",
      "text/plain": [
       "<Figure size 1000x600 with 1 Axes>"
      ]
     },
     "metadata": {},
     "output_type": "display_data"
    }
   ],
   "source": [
    "import matplotlib.pyplot as plt\n",
    "import numpy as np\n",
    "\n",
    "# Obter importâncias e nomes das variáveis\n",
    "importances = cf_dml.feature_importances_\n",
    "features = np.array(X.columns)\n",
    "\n",
    "# Ordenar do maior para o menor\n",
    "sorted_idx = np.argsort(importances)[::-1]\n",
    "sorted_importances = importances[sorted_idx]\n",
    "sorted_features = features[sorted_idx]\n",
    "\n",
    "# Plotar\n",
    "plt.figure(figsize=(10, 6))\n",
    "plt.barh(sorted_features, sorted_importances, color='steelblue')\n",
    "plt.xlabel('Importância')\n",
    "plt.title('Importância das variáveis na heterogeneidade do CATE')\n",
    "plt.gca().invert_yaxis()  # Coloca a mais importante no topo\n",
    "plt.grid(True, axis='x', linestyle='--', alpha=0.7)\n",
    "plt.tight_layout()\n",
    "plt.show()"
   ]
  },
  {
   "cell_type": "markdown",
   "id": "f6935c5a",
   "metadata": {},
   "source": [
    "* o modelo acredita que essa variável sozinha contribui com 1/4 da explicação da heterogeneidade dos efeitos;\n",
    "* Ela é usada frequentemente nos splits das árvores da floresta causal para distinguir subgrupos com diferentes efeitos do tratamento.\n",
    "\n",
    "\n",
    "Podemos explorar o CATE definindo pontos X específicos, assim como fizemos com o LinearDML. E podemos aproveitar a não linearidade das florestas causais para verificar os efeitos nos diferentes níveis de uma covariável específica. Vejamos essa segunda possibilidade.\n",
    "\n",
    "Vamos avaliar o efeito heterogêneodo fumo no peso dos bebês para diferentes **idades das gestantes** (a segunda variável mais importante para a composição do estimador)."
   ]
  },
  {
   "cell_type": "code",
   "execution_count": 12,
   "id": "db8c00e4",
   "metadata": {},
   "outputs": [
    {
     "data": {
      "image/png": "[encoded data removed]",
      "text/plain": [
       "<Figure size 1000x600 with 1 Axes>"
      ]
     },
     "metadata": {},
     "output_type": "display_data"
    }
   ],
   "source": [
    "import numpy as np\n",
    "import pandas as pd\n",
    "import matplotlib.pyplot as plt\n",
    "\n",
    "# 1) Níveis de 'mage' e contagens\n",
    "mage_levels = np.sort(df['mage'].dropna().unique())\n",
    "mage_counts = df['mage'].value_counts().reindex(mage_levels, fill_value=0)\n",
    "\n",
    "# 2) Perfil-base (médias) e grade variando apenas 'mage'\n",
    "X_base = X.mean(axis=0).to_frame().T\n",
    "X_grid = pd.concat([X_base] * len(mage_levels), ignore_index=True)\n",
    "X_grid['mage'] = mage_levels\n",
    "\n",
    "# 3) CATE e IC 95% com CausalForestDML\n",
    "cate_vals = cf_dml.effect(X_grid)\n",
    "ci_low, ci_high = cf_dml.effect_interval(X_grid, alpha=0.05)\n",
    "\n",
    "# 4) DataFrame de resultados\n",
    "res_cf = pd.DataFrame({\n",
    "    'mage': mage_levels,\n",
    "    'cate': cate_vals,\n",
    "    'ci_low': ci_low,\n",
    "    'ci_high': ci_high,\n",
    "    'n_obs': mage_counts.values\n",
    "}).sort_values('mage').reset_index(drop=True)\n",
    "\n",
    "# 5) Gráfico: pontos + barras de erro (IC 95%)\n",
    "plt.figure(figsize=(10, 6))\n",
    "plt.errorbar(\n",
    "    res_cf['mage'], res_cf['cate'],\n",
    "    yerr=[res_cf['cate'] - res_cf['ci_low'], res_cf['ci_high'] - res_cf['cate']],\n",
    "    fmt='o', capsize=2, elinewidth=0.7, markersize=4, alpha=0.9,\n",
    "    label='CATE (CausalForestDML) - IC 95%'\n",
    ")\n",
    "plt.xlabel('Idade da mãe (mage)')\n",
    "plt.ylabel('Efeito estimado (CATE)')\n",
    "plt.title('CATE por idade materna (CausalForestDML)')\n",
    "plt.grid(True, alpha=0.3)\n",
    "plt.legend()\n",
    "plt.tight_layout()\n",
    "plt.show()"
   ]
  },
  {
   "cell_type": "code",
   "execution_count": null,
   "id": "7db96d53",
   "metadata": {},
   "outputs": [],
   "source": []
  },
  {
   "cell_type": "markdown",
   "id": "ad6421e6",
   "metadata": {},
   "source": [
    "## Orthogonal Random Forest (Oprescu, Syrgkanis & Wu, 2019)\n",
    "\n",
    "### Formulação geral (momentos condicionais)\n",
    "Problemas de heterogeneidade do efeito podem ser escritos como **equações de momentos condicionais** locais:\n",
    "$$\n",
    "\\mathbb{E}\\big[\\psi_{\\theta(x)}(Z; h_0(x,W)) \\,\\big|\\, X=x\\big]=0,\n",
    "$$\n",
    "onde $\\theta(x)$ é o parâmetro alvo (p.ex., o CATE) e $h_0$ agrega **nuisance functions** (regressões auxiliares). Um caso canônico para HTE com tratamento $T$ (contínuo ou discreto) é:\n",
    "$$\n",
    "\\mathbb{E}\\big[\\,Y - \\theta_0(x)\\,T - f_0(x,W)\\ \\big|\\ X=x\\big]=0.\n",
    "$$\n",
    "\n",
    "### Ortogonalidade (Neyman) **local**\n",
    "Para robustez a erro na estimação de $h_0$, o ORF impõe **ortogonalidade local** do escore: pequenas perturbações locais em $h$ não afetam a condição de momento. Intuição: a sensibilidade do momento a erros de $h$ é nula **no entorno de $x$** (uma versão localizada da Neyman-orthogonality).\n",
    "\n",
    "### Duas florestas e pesos locais (two-forest approach)\n",
    "O ORF usa duas florestas e trabalha com **pesos de similaridade** no espaço de $X$:\n",
    "1) Uma floresta produz, para cada ponto-alvo $x$, **pesos locais** $\\{w_i(x)\\}$ (definidos pelas folhas/nós alcançados por $x$).\n",
    "2) Com esses pesos, faz-se **estimação local de nuisance** ($m$, $e$, etc.) e depois a **estimação local de $\\theta(x)$** via mínimos quadrados/momentos ponderados.\n",
    "3) As árvores seguem **regularidade de floresta** com **honestidade** (split em uma amostra; estimação na outra), balanceamento e tamanho mínimo de folha — tratando cada folha como um “experimento local”.\n",
    "\n",
    "### Escore DML (residual-on-residual), versão local\n",
    "A implementação típica para HTE linear no tratamento usa o escore ortogonal do **Double ML** de forma **local**:\n",
    "- Residualizar **localmente** $Y$ em $(X,W)$: $\\tilde Y(x)=Y-\\hat m_x(W)$;  \n",
    "- Residualizar **localmente** $T$ em $(X,W)$: $\\tilde T(x)=T-\\hat e_x(W)$;  \n",
    "- Estimar **localmente** $\\theta(x)$ via uma regressão/condição de momento do tipo\n",
    "  $$\n",
    "  \\mathbb{E}\\!\\left[\\,\\big(\\tilde Y(x)-\\theta(x)\\,\\tilde T(x)\\big)\\,\\tilde T(x)\\ \\big|\\ X\\approx x\\right]=0,\n",
    "  $$\n",
    "  usando os **pesos da floresta** para concentrar a estimação na vizinhança de $x$.\n",
    "\n",
    "### Contribuições teóricas\n",
    "- **Combina**: (i) **Neyman-orthogonality** (robustez a erro de nuisance) + (ii) **florestas generalizadas** para ponderação local.\n",
    "- **Consistência** e **normalidade assintótica** da estimativa de $\\theta(x)$; intervalos de confiança válidos.\n",
    "- **Tratamento contínuo ou discreto**, com **nuisance** potencialmente de alta dimensão (via regularização local, como *forest lasso*).\n",
    "- Estrutura de árvore **honesta** e **critérios de split** adaptados para refletir a ortogonalização.\n",
    "\n",
    "\n",
    "## DMLOrthoForest no EconML\n",
    "\n",
    "### O que o `DMLOrthoForest` implementa\n",
    "- É um **método de duas florestas** para aprender HTE usando **kernel two-stage estimation** (ponderação local via floresta), com escore **DML residual-on-residual**.\n",
    "- Oferece **residualização global** (*global_residualization=True*) como alternativa computacional mais barata, mas a **residualização local** costuma ser mais potente quando há controles $W$ relevantes.\n",
    "- Aceita **tratamento contínuo** ou **discreto** (`discrete_treatment=True/False`).\n",
    "- Inclui **regularização local $\\ell_2$** na parte linear da etapa final (`lambda_reg`) para reduzir sobreajuste nas regressões locais ponderadas.\n",
    "\n",
    "### Passo-a-passo\n",
    "1. **(Floresta 1)** aprende pesos locais em $X$ e **ajusta localmente** as funções de nuisance ($\\hat m_x$, $\\hat e_x$, ...).  \n",
    "2. **(Floresta 2)**, com os **resíduos locais** $(\\tilde Y(x), \\tilde T(x))$, resolve a condição de momento/OLS local e obtém $\\hat\\theta(x)$.  \n",
    "3. **Inferência**: suporte a *bootstrap of little bags* para variâncias/ICs.\n",
    "\n",
    "### Diferença para `CausalForestDML`\n",
    "- **CausalForestDML**: residualização tipicamente **global**, depois GRF nos resíduos.  \n",
    "- **DMLOrthoForest**: residualização **local** e **duas florestas**; maior robustez quando $W$ é rico/alta dimensão e quando o efeito varia fortemente ao longo de $X$.\n",
    "\n",
    "\n",
    "## Em resumo\n",
    "O ORF é a “colagem” teórica de **Neyman-orthogonality (DML)** com **florestas generalizadas** para **estimação local ponderada**, garantindo **robustez**, **flexibilidade** (tratamentos contínuos/discretos) e **inferência válida**. O `DMLOrthoForest` do EconML é a implementação direta dessa ideia, com opções práticas (p.ex., `lambda_reg`, `discrete_treatment`, `global_residualization`) e inferência via BLB.\n"
   ]
  }
 ],
 "metadata": {
  "kernelspec": {
   "display_name": "Python 3",
   "language": "python",
   "name": "python3"
  },
  "language_info": {
   "codemirror_mode": {
    "name": "ipython",
    "version": 3
   },
   "file_extension": ".py",
   "mimetype": "text/x-python",
   "name": "python",
   "nbconvert_exporter": "python",
   "pygments_lexer": "ipython3",
   "version": "3.11.5"
  }
 },
 "nbformat": 4,
 "nbformat_minor": 5
}
