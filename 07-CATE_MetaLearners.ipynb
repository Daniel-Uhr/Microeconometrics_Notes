{
 "cells": [
  {
   "cell_type": "markdown",
   "id": "ea3201cf",
   "metadata": {},
   "source": [
    "## ATE, ATT, ATU condicionais, e os *MetaLearners*\n",
    "\n",
    "Prof. Daniel de Abreu Pereira Uhr\n",
    "\n",
    "\n",
    "### Estrutura da aula\n",
    "\n",
    "* ATE, ATT, ATU condicionais\n",
    "* MetaLearners \n",
    "  * SLearner, DRLearner, XLearner\n",
    "  * CATE, CATT e CATU\n",
    "  * MetaLearners com Variáveis Instrumentais\n",
    "\n",
    "### Referências\n",
    "\n",
    "* Cunningham, S. W. (2013). Causal inference: The mixtape. https://www.scunning.com/mixtape.html\n",
    "* Facure, Matheus. Causal Inference for The Brave and True. https://matheusfacure.github.io/python-causality-handbook/landing-page.html \n",
    "* Joshua D. Angrist and Jörn-Steffen Pischke (2009). Mostly Harmless Econometrics: An Empiricist's Companion. Princeton University Press.\n",
    "* Imbens, G. W., & Rubin, D. B. (2015). Causal inference in statistics, social, and biomedical sciences. Cambridge University Press.\n",
    "* Itau Social (2018). Avaliação Econômica de Projetos Sociais. https://www.itausocial.org.br/wp-content/uploads/2018/05/avaliacao-economica-3a-ed_1513188151.pdf \n",
    "* Notas próprias\n",
    "\n",
    "\n",
    "**Observações:** O material apresentado aqui é uma adaptação do material de aula do Prof. Daniel de Abreu Pereira Uhr, e não deve ser utilizado para fins comerciais. O material é disponibilizado para fins educacionais e de pesquisa, e não deve ser reproduzido sem a devida autorização do autor. Este material pode conter erros e imprecisões. O autor não se responsabiliza por quaisquer danos ou prejuízos decorrentes do uso deste material. O uso deste material é de responsabilidade exclusiva do usuário. Caso você encontre erros ou imprecisões neste material, por favor, entre em contato com o autor para que possam ser corrigidos. O autor agradece qualquer *feedback* ou sugestão de melhoria.\n",
    "\n",
    "---"
   ]
  },
  {
   "cell_type": "markdown",
   "id": "0622720a",
   "metadata": {},
   "source": [
    "### ATE, ATT, ATU Condicionais\n",
    "\n",
    "\n",
    "**Conditional Average Treatment Effect - CATE**\n",
    "\n",
    "\n",
    "O **Efeito do Tratamento Condicional Médio** (CATE) é uma extensão do conceito de Efeito do Tratamento Médio (ATE) que considera o efeito do tratamento em subpopulações específicas, condicionadas a covariáveis observáveis.\n",
    "\n",
    "O CATE é definido como a diferença esperada entre os resultados potenciais de tratamento e controle:\n",
    "\n",
    "$$ \\beta^{CATE}(x) = E[Y_i(1) − Y_i(0)|X] = E[\\beta_i|X_{i}=x] $$\n",
    "\n",
    "O CATE é a média do efeito do tratamento para indivíduos com características específicas representadas pelas covariáveis $X$.\n",
    "\n",
    "**Conditional Average Treatment Effect on the Treated - CATT**\n",
    "\n",
    "O **Efeito do Tratamento Condicional Médio nos Tratados** (CATT) é uma medida que avalia o efeito do tratamento em indivíduos que efetivamente receberam o tratamento, considerando covariáveis observáveis. O CATT é definido como:\n",
    "\n",
    "$$ \\beta^{CATT}(x) = E[Y_i(1) − Y_i(0)|X, D=1] = E[\\beta_i|X_{i}=x, D_{i}=1] $$\n",
    "\n",
    "\n",
    "\n",
    "**Hipóteses de Identificação do CATE**\n",
    "\n",
    "São as condições necessárias para garantir que possamos identificar e estimar o CATE usando dados observacionais. Essas hipóteses estabelecem como o efeito causal pode ser extraído, evitando viés e problemas de endogeneidade. \n",
    "\n",
    "* **Não Confundimento** / Inconfundibilidade (Unconfoundedness): Justifica que todas as diferenças entre tratados e não tratados são capturadas pelas covariáveis\n",
    "\n",
    "$$ Y_{i}(0), Y_{i}(1) \\perp T|X $$\n",
    "\n",
    "* **Sobreposição** (Overlap): Garante que temos dados para comparar indivíduos semelhantes em ambos os grupos.\n",
    "  * Para cada valor das covariáveis $X$, deve haver unidades suficientes tanto no grupo tratado quanto no grupo controle. Sem essa suposição, não seria possível comparar grupos semelhantes sob diferentes níveis de tratamento.\n",
    "  \n",
    "$$ 0 < P(D_{i}=1| X_{i}=x) < 1 $$\n",
    "\n",
    "\n",
    "* **Consistência** (Consistency): A suposição de consistência estabelece que o resultado observado ($Y_{i}^{obs}$) para uma unidade corresponde ao resultado potencial associado ao tratamento efetivamente recebido:\n",
    "\n",
    "$$\n",
    "Y^{obs}_i(D)= \n",
    "\\begin{cases}\n",
    "Y_i(1), & \\text{se } D=1 \\\\\n",
    "Y_i(0), & \\text{se } D=0\n",
    "\\end{cases}\n",
    "$$\n",
    "\n",
    "Essa hipótese conecta os resultados observados aos contrafactuais de forma coerente e supõe que:\n",
    "* Não há múltiplas versões do tratamento ($D$) que possam gerar diferentes resultados potenciais.\n",
    "* O tratamento recebido por uma unidade não afeta os resultados de outras unidades (parte do SUTVA)."
   ]
  },
  {
   "cell_type": "markdown",
   "id": "07be415f",
   "metadata": {},
   "source": []
  },
  {
   "cell_type": "markdown",
   "id": "9f942e58",
   "metadata": {},
   "source": [
    "\n",
    "***DR-Learner***\n",
    "* É um meta-algoritmo de Machine Learning (Chernozhukov et al., 2018; Nie & Wager, 2021), que usa a ideia de dupla robustez junto com algoritmos de ML para estimar Conditional Average Treatment Effects (CATE). O DR-Learner aproveita a estrutura AIPW (score de influência duplamente robusto) e depois ajusta modelos de ML em cima disso para obter heterogeneidade do efeito. Portanto, DR-Learner é um desdobramento moderno do AIPW aplicado à estimação de efeitos condicionais (CATE), não sinônimo.\n"
   ]
  }
 ],
 "metadata": {
  "language_info": {
   "name": "python"
  }
 },
 "nbformat": 4,
 "nbformat_minor": 5
}
