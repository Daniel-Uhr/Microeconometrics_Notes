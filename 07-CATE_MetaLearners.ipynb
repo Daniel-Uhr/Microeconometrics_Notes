{
 "cells": [
  {
   "cell_type": "markdown",
   "id": "ea3201cf",
   "metadata": {},
   "source": []
  },
  {
   "cell_type": "markdown",
   "id": "07be415f",
   "metadata": {},
   "source": []
  },
  {
   "cell_type": "markdown",
   "id": "9f942e58",
   "metadata": {},
   "source": [
    "\n",
    "***DR-Learner***\n",
    "* É um meta-algoritmo de Machine Learning (Chernozhukov et al., 2018; Nie & Wager, 2021), que usa a ideia de dupla robustez junto com algoritmos de ML para estimar Conditional Average Treatment Effects (CATE). O DR-Learner aproveita a estrutura AIPW (score de influência duplamente robusto) e depois ajusta modelos de ML em cima disso para obter heterogeneidade do efeito. Portanto, DR-Learner é um desdobramento moderno do AIPW aplicado à estimação de efeitos condicionais (CATE), não sinônimo.\n"
   ]
  }
 ],
 "metadata": {
  "language_info": {
   "name": "python"
  }
 },
 "nbformat": 4,
 "nbformat_minor": 5
}
