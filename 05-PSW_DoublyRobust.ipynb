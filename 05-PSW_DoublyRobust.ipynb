{
 "cells": [
  {
   "cell_type": "markdown",
   "id": "664f1dd9",
   "metadata": {},
   "source": [
    "# Inverse Probability Weighting and Doubly Robust Estimation\n",
    "\n",
    "Prof. Daniel de Abreu Pereira Uhr\n",
    "\n",
    "### Conteúdo\n",
    "\n",
    "* Propensity Score Weighting\n",
    "  * Aplicação no Python\n",
    "* Doubly Robust Estimation\n",
    "  * Aplicação no Python\n",
    "\n",
    "\n",
    "\n",
    "\n",
    "**Observações:** O material apresentado aqui é uma adaptação do material de aula do Prof. Daniel de Abreu Pereira Uhr, e não deve ser utilizado para fins comerciais. O material é disponibilizado para fins educacionais e de pesquisa, e não deve ser reproduzido sem a devida autorização do autor. Este material pode conter erros e imprecisões. O autor não se responsabiliza por quaisquer danos ou prejuízos decorrentes do uso deste material. O uso deste material é de responsabilidade exclusiva do usuário. Caso você encontre erros ou imprecisões neste material, por favor, entre em contato com o autor para que possam ser corrigidos. O autor agradece qualquer *feedback* ou sugestão de melhoria.\n",
    "\n",
    "---"
   ]
  },
  {
   "cell_type": "markdown",
   "id": "7093e748",
   "metadata": {},
   "source": [
    "### Propensity Score Weighting\n",
    "\n",
    "***Definição formal do Propensity Score***\n",
    "\n",
    "O **Propensity Score** é definido como a probabilidade condicional de uma unidade receber o tratamento dado o vetor de covariáveis observadas:\n",
    "\n",
    "$$\n",
    "p(X_i) = \\Pr(D_i = 1 \\mid X_i)\n",
    "$$\n",
    "\n",
    "onde:\n",
    "\n",
    "- $D_i \\in \\{0, 1\\}$ é o indicador de tratamento;\n",
    "- $X_i$ é o vetor de covariáveis observadas.\n",
    "\n",
    "A ideia central de **Propensity Score Weighting** é reponderar a amostra de forma a criar uma população *pseudo‐randomizada*, em que a distribuição das covariáveis seja balanceada entre tratados e não tratados.\n",
    "\n",
    "### Inverse Probability of Treatment Weight (IPTW)\n",
    "\n",
    "***Pesos para o ATE (Average Treatment Effect)***\n",
    "\n",
    "O peso **IPTW** para o ATE é definido como:\n",
    "\n",
    "$$\n",
    "w_i^{ATE} = \\frac{D_i}{p(X_i)} + \\frac{1 - D_i}{1 - p(X_i)}\n",
    "$$\n",
    "\n",
    "**Na prática**:\n",
    "- Tratados ($D_i = 1$) recebem peso $1 / p(X_i)$  \n",
    "- Controles ($D_i = 0$) recebem peso $1 / (1 - p(X_i))$\n",
    "\n",
    "\n",
    "***Pesos para o ATT (Average Treatment Effect on the Treated)***\n",
    "\n",
    "O peso **IPTW** para o ATT é definido como:\n",
    "\n",
    "$$\n",
    "w_i^{ATT} = D_i + (1 - D_i) \\cdot \\frac{p(X_i)}{1 - p(X_i)}\n",
    "$$\n",
    "\n",
    "**Na prática**:\n",
    "- Tratados ($D_i = 1$) recebem peso = 1  \n",
    "- Controles ($D_i = 0$) recebem peso $p(X_i) / (1 - p(X_i))$\n",
    "\n",
    "***Pesos para o ATU (Average Treatment Effect on the Untreated)***\n",
    "\n",
    "O peso **IPTW** para o ATU é definido como:\n",
    "\n",
    "$$\n",
    "w_i^{ATU} = (1 - D_i) + D_i \\cdot \\frac{1 - p(X_i)}{p(X_i)}\n",
    "$$\n",
    "\n",
    "**Na prática**:\n",
    "- Tratados ($D_i = 1$) recebem peso $1 - p(X_i) / p(X_i)$\n",
    "- Controles ($D_i = 0$) recebem peso = 1\n",
    "\n",
    "\n",
    "***Interpretação dos pesos***\n",
    "\n",
    "- **No ATE**:  \n",
    "  - Unidades tratadas com baixa probabilidade de tratamento recebem peso alto.  \n",
    "  - Unidades de controle com baixa probabilidade de não tratamento recebem peso alto.  \n",
    "\n",
    "- **No ATT**:  \n",
    "  - Tratados sempre têm peso 1.  \n",
    "  - Controles são reponderados para se assemelhar à distribuição de covariáveis dos tratados.\n",
    "\n",
    "- **No ATU**:  \n",
    "  - Tratados são reponderados para se assemelhar à distribuição de covariáveis dos não tratados.\n",
    "  - Controles sempre têm peso 1.\n",
    "\n",
    "\n",
    "### Hipóteses de identificação\n",
    "\n",
    "1. **Ignorabilidade (ou não confusão)**:  \n",
    "   $$\n",
    "   (Y_i(1), Y_i(0)) \\perp D_i \\mid X_i\n",
    "   $$  \n",
    "   Isto é, não existem confundidores não observados dados $X_i$.\n",
    "\n",
    "2. **Sobreposição (ou suporte comum)**:  \n",
    "   $$\n",
    "   0 < p(X_i) < 1 \\quad \\forall i\n",
    "   $$  \n",
    "   Cada unidade tem probabilidade positiva de receber ambos os estados de tratamento.\n",
    "\n",
    "### Estimação do efeito causal ponderado\n",
    "\n",
    "O **ATE ponderado** pode ser visto como:\n",
    "\n",
    "> Média ponderada dos resultados observados entre os tratados  \n",
    "> **menos**  \n",
    "> Média ponderada dos resultados observados entre os controles.\n",
    "\n",
    "Matematicamente (Horvitz–Thompson - não normalizadas)):\n",
    "\n",
    "\n",
    "\n",
    "\n",
    "Ou Normalizando (Hajek / self-normalized):\n",
    "\n",
    "$$\n",
    "\\widehat{\\tau}_{ATE} =\n",
    "\\underbrace{\\frac{\\sum_{i=1}^n w_i^{ATE} D_i Y_i}{\\sum_{i=1}^n w_i^{ATE} D_i}}_{\\text{Média ponderada nos tratados}}\n",
    "-\n",
    "\\underbrace{\\frac{\\sum_{i=1}^n w_i^{ATE} (1-D_i) Y_i}{\\sum_{i=1}^n w_i^{ATE} (1-D_i)}}_{\\text{Média ponderada nos controles}}\n",
    "$$\n",
    "\n",
    "* O **ATT** pode ser obtido substituindo $w_i^{ATE}$ por $w_i^{ATT}$ na fórmula acima, interpretando o resultado como efeito médio nos tratados.\n",
    "* O **ATU** pode ser obtido substituindo $w_i^{ATE}$ por $w_i^{ATU}$ na fórmula acima, interpretando o resultado como efeito médio nos não tratados.\n"
   ]
  },
  {
   "cell_type": "markdown",
   "id": "a6df370b",
   "metadata": {},
   "source": [
    "### Aplicação em Python"
   ]
  },
  {
   "cell_type": "code",
   "execution_count": 1,
   "id": "2bd5e26e",
   "metadata": {},
   "outputs": [],
   "source": [
    "import pandas as pd\n",
    "import numpy as np\n",
    "import statsmodels.formula.api as smf"
   ]
  },
  {
   "cell_type": "code",
   "execution_count": 2,
   "id": "07a55087",
   "metadata": {},
   "outputs": [],
   "source": [
    "# DataFrame\n",
    "df = pd.read_stata(\"https://github.com/Daniel-Uhr/data/raw/main/cattaneo2.dta\")"
   ]
  },
  {
   "cell_type": "code",
   "execution_count": 3,
   "id": "e0310073",
   "metadata": {},
   "outputs": [],
   "source": [
    "# Criar a variável de resultado\n",
    "df['Y'] = df['bweight']\n",
    "\n",
    "# Crie a variável 'Treated' com valor inicial de 0\n",
    "df['Treated'] = 0\n",
    "# Recodifique 'Treated' para 1 se 'mbsmoke' for igual a 'smoker'\n",
    "df.loc[df['mbsmoke'] == 'smoker', 'Treated'] = 1\n",
    "\n",
    "df['casada'] = 0\n",
    "df.loc[df['mmarried']=='married', 'casada'] = 1\n",
    "\n",
    "# gerar uma variável de contagem de linhas iniciando em 1\n",
    "df['id'] = np.arange(len(df)) + 1\n",
    "\n",
    "# Conjunto de Covariáveis X\n",
    "X = ['casada', 'mage', 'medu']"
   ]
  },
  {
   "cell_type": "markdown",
   "id": "c565100c",
   "metadata": {},
   "source": [
    "Rodar o escore de propensão e salvar no dataframe \"pscore\":"
   ]
  },
  {
   "cell_type": "code",
   "execution_count": 4,
   "id": "484b0706",
   "metadata": {},
   "outputs": [
    {
     "name": "stdout",
     "output_type": "stream",
     "text": [
      "Optimization terminated successfully.\n",
      "         Current function value: 0.446546\n",
      "         Iterations 6\n"
     ]
    }
   ],
   "source": [
    "# Estimar o escore de propensão com regressão logística\n",
    "df['pscore'] = smf.logit(\"Treated ~ casada + mage + medu\", data=df).fit().predict()"
   ]
  },
  {
   "cell_type": "code",
   "execution_count": 31,
   "id": "17cd9310",
   "metadata": {},
   "outputs": [
    {
     "data": {
      "application/vnd.microsoft.datawrangler.viewer.v0+json": {
       "columns": [
        {
         "name": "index",
         "rawType": "int64",
         "type": "integer"
        },
        {
         "name": "Y",
         "rawType": "int16",
         "type": "integer"
        },
        {
         "name": "Treated",
         "rawType": "int64",
         "type": "integer"
        },
        {
         "name": "pscore",
         "rawType": "float64",
         "type": "float"
        }
       ],
       "ref": "6658da12-2322-4f3e-9942-41010ac37b1e",
       "rows": [
        [
         "0",
         "3459",
         "0",
         "0.10629165454169723"
        ],
        [
         "1",
         "3260",
         "0",
         "0.35866758044526553"
        ],
        [
         "2",
         "3572",
         "0",
         "0.19057339059730785"
        ],
        [
         "3",
         "2948",
         "0",
         "0.13921070171293967"
        ],
        [
         "4",
         "2410",
         "0",
         "0.13066604705179524"
        ],
        [
         "5",
         "3147",
         "0",
         "0.3146106152055233"
        ],
        [
         "6",
         "3799",
         "0",
         "0.14067951727705"
        ],
        [
         "7",
         "3629",
         "0",
         "0.13631164083338407"
        ],
        [
         "8",
         "2835",
         "0",
         "0.1320585389185909"
        ],
        [
         "9",
         "3880",
         "0",
         "0.09998119588244644"
        ],
        [
         "10",
         "3090",
         "1",
         "0.13921070171293967"
        ],
        [
         "11",
         "3345",
         "0",
         "0.29648838069187183"
        ],
        [
         "12",
         "4013",
         "0",
         "0.11845352473405486"
        ],
        [
         "13",
         "3771",
         "0",
         "0.21131283523168726"
        ],
        [
         "14",
         "662",
         "0",
         "0.30418120946859645"
        ],
        [
         "15",
         "3657",
         "0",
         "0.1334635921623997"
        ],
        [
         "16",
         "3572",
         "0",
         "0.13921070171293967"
        ],
        [
         "17",
         "3430",
         "0",
         "0.09824663279503795"
        ],
        [
         "18",
         "4479",
         "0",
         "0.1513267822099292"
        ],
        [
         "19",
         "3166",
         "1",
         "0.3146106152055233"
        ],
        [
         "20",
         "4253",
         "0",
         "0.14976617462426223"
        ],
        [
         "21",
         "4054",
         "0",
         "0.10981990398948589"
        ],
        [
         "22",
         "3160",
         "0",
         "0.1377547634362935"
        ],
        [
         "23",
         "2466",
         "0",
         "0.1334635921623997"
        ],
        [
         "24",
         "3147",
         "1",
         "0.164604221999256"
        ],
        [
         "25",
         "3232",
         "0",
         "0.11718512200054686"
        ],
        [
         "26",
         "3005",
         "0",
         "0.12928605116422726"
        ],
        [
         "27",
         "1899",
         "0",
         "0.08263011377458175"
        ],
        [
         "28",
         "4026",
         "0",
         "0.11718512200054686"
        ],
        [
         "29",
         "3969",
         "0",
         "0.31198512296863534"
        ],
        [
         "30",
         "4167",
         "0",
         "0.3889107202277938"
        ],
        [
         "31",
         "4054",
         "0",
         "0.21695801796138545"
        ],
        [
         "32",
         "3660",
         "0",
         "0.23310972108480407"
        ],
        [
         "33",
         "3997",
         "0",
         "0.08893632028557626"
        ],
        [
         "34",
         "3980",
         "0",
         "0.1383474178428334"
        ],
        [
         "35",
         "4111",
         "0",
         "0.35029047922333917"
        ],
        [
         "36",
         "3090",
         "0",
         "0.14516383106082534"
        ],
        [
         "37",
         "4082",
         "0",
         "0.14516383106082534"
        ],
        [
         "38",
         "4196",
         "0",
         "0.10286366076369823"
        ],
        [
         "39",
         "2790",
         "0",
         "0.07638129152032465"
        ],
        [
         "40",
         "4082",
         "0",
         "0.14516383106082534"
        ],
        [
         "41",
         "3089",
         "0",
         "0.0746771410637634"
        ],
        [
         "42",
         "2580",
         "1",
         "0.35307290223055315"
        ],
        [
         "43",
         "3714",
         "0",
         "0.11973379452122121"
        ],
        [
         "44",
         "4196",
         "0",
         "0.09297174990533988"
        ],
        [
         "45",
         "2523",
         "0",
         "0.3802460583217542"
        ],
        [
         "46",
         "2693",
         "1",
         "0.3093716511355903"
        ],
        [
         "47",
         "3204",
         "0",
         "0.08505962211376049"
        ],
        [
         "48",
         "3572",
         "1",
         "0.2939492612708967"
        ],
        [
         "49",
         "3385",
         "0",
         "0.1320585389185909"
        ]
       ],
       "shape": {
        "columns": 3,
        "rows": 4642
       }
      },
      "text/html": [
       "<div>\n",
       "<style scoped>\n",
       "    .dataframe tbody tr th:only-of-type {\n",
       "        vertical-align: middle;\n",
       "    }\n",
       "\n",
       "    .dataframe tbody tr th {\n",
       "        vertical-align: top;\n",
       "    }\n",
       "\n",
       "    .dataframe thead th {\n",
       "        text-align: right;\n",
       "    }\n",
       "</style>\n",
       "<table border=\"1\" class=\"dataframe\">\n",
       "  <thead>\n",
       "    <tr style=\"text-align: right;\">\n",
       "      <th></th>\n",
       "      <th>Y</th>\n",
       "      <th>Treated</th>\n",
       "      <th>pscore</th>\n",
       "    </tr>\n",
       "  </thead>\n",
       "  <tbody>\n",
       "    <tr>\n",
       "      <th>0</th>\n",
       "      <td>3459</td>\n",
       "      <td>0</td>\n",
       "      <td>0.106292</td>\n",
       "    </tr>\n",
       "    <tr>\n",
       "      <th>1</th>\n",
       "      <td>3260</td>\n",
       "      <td>0</td>\n",
       "      <td>0.358668</td>\n",
       "    </tr>\n",
       "    <tr>\n",
       "      <th>2</th>\n",
       "      <td>3572</td>\n",
       "      <td>0</td>\n",
       "      <td>0.190573</td>\n",
       "    </tr>\n",
       "    <tr>\n",
       "      <th>3</th>\n",
       "      <td>2948</td>\n",
       "      <td>0</td>\n",
       "      <td>0.139211</td>\n",
       "    </tr>\n",
       "    <tr>\n",
       "      <th>4</th>\n",
       "      <td>2410</td>\n",
       "      <td>0</td>\n",
       "      <td>0.130666</td>\n",
       "    </tr>\n",
       "    <tr>\n",
       "      <th>...</th>\n",
       "      <td>...</td>\n",
       "      <td>...</td>\n",
       "      <td>...</td>\n",
       "    </tr>\n",
       "    <tr>\n",
       "      <th>4637</th>\n",
       "      <td>3317</td>\n",
       "      <td>1</td>\n",
       "      <td>0.299040</td>\n",
       "    </tr>\n",
       "    <tr>\n",
       "      <th>4638</th>\n",
       "      <td>3030</td>\n",
       "      <td>1</td>\n",
       "      <td>0.145164</td>\n",
       "    </tr>\n",
       "    <tr>\n",
       "      <th>4639</th>\n",
       "      <td>2950</td>\n",
       "      <td>0</td>\n",
       "      <td>0.304181</td>\n",
       "    </tr>\n",
       "    <tr>\n",
       "      <th>4640</th>\n",
       "      <td>3969</td>\n",
       "      <td>0</td>\n",
       "      <td>0.134881</td>\n",
       "    </tr>\n",
       "    <tr>\n",
       "      <th>4641</th>\n",
       "      <td>3289</td>\n",
       "      <td>0</td>\n",
       "      <td>0.133464</td>\n",
       "    </tr>\n",
       "  </tbody>\n",
       "</table>\n",
       "<p>4642 rows × 3 columns</p>\n",
       "</div>"
      ],
      "text/plain": [
       "         Y  Treated    pscore\n",
       "0     3459        0  0.106292\n",
       "1     3260        0  0.358668\n",
       "2     3572        0  0.190573\n",
       "3     2948        0  0.139211\n",
       "4     2410        0  0.130666\n",
       "...    ...      ...       ...\n",
       "4637  3317        1  0.299040\n",
       "4638  3030        1  0.145164\n",
       "4639  2950        0  0.304181\n",
       "4640  3969        0  0.134881\n",
       "4641  3289        0  0.133464\n",
       "\n",
       "[4642 rows x 3 columns]"
      ]
     },
     "execution_count": 31,
     "metadata": {},
     "output_type": "execute_result"
    }
   ],
   "source": [
    "df[['Y', 'Treated', 'pscore']]"
   ]
  },
  {
   "cell_type": "markdown",
   "id": "8a75f59a",
   "metadata": {},
   "source": [
    "Criar os pesos:"
   ]
  },
  {
   "cell_type": "code",
   "execution_count": null,
   "id": "b221994f",
   "metadata": {},
   "outputs": [],
   "source": [
    "# ATE weights\n",
    "df['W_ATE_T'] = df['Treated'] / df['pscore']\n",
    "df['W_ATE_C'] = (1 - df['Treated']) / (1 - df['pscore'])"
   ]
  },
  {
   "cell_type": "code",
   "execution_count": 35,
   "id": "0960524a",
   "metadata": {},
   "outputs": [
    {
     "data": {
      "application/vnd.microsoft.datawrangler.viewer.v0+json": {
       "columns": [
        {
         "name": "index",
         "rawType": "int64",
         "type": "integer"
        },
        {
         "name": "Y",
         "rawType": "int16",
         "type": "integer"
        },
        {
         "name": "Treated",
         "rawType": "int64",
         "type": "integer"
        },
        {
         "name": "pscore",
         "rawType": "float64",
         "type": "float"
        },
        {
         "name": "W_ATE_T",
         "rawType": "float64",
         "type": "float"
        },
        {
         "name": "W_ATE_C",
         "rawType": "float64",
         "type": "float"
        }
       ],
       "ref": "d937c5d8-5d89-4e04-82bc-79ea8f6a4b00",
       "rows": [
        [
         "0",
         "3459",
         "0",
         "0.10629165454169723",
         "0.0",
         "1.1189332684223618"
        ],
        [
         "1",
         "3260",
         "0",
         "0.35866758044526553",
         "0.0",
         "1.559253780893038"
        ],
        [
         "2",
         "3572",
         "0",
         "0.19057339059730785",
         "0.0",
         "1.2354424581345793"
        ],
        [
         "3",
         "2948",
         "0",
         "0.13921070171293967",
         "0.0",
         "1.161724480067264"
        ],
        [
         "4",
         "2410",
         "0",
         "0.13066604705179524",
         "0.0",
         "1.1503059285889647"
        ],
        [
         "5",
         "3147",
         "0",
         "0.3146106152055233",
         "0.0",
         "1.4590246394024085"
        ],
        [
         "6",
         "3799",
         "0",
         "0.14067951727705",
         "0.0",
         "1.1637101874160793"
        ],
        [
         "7",
         "3629",
         "0",
         "0.13631164083338407",
         "0.0",
         "1.157825029580013"
        ],
        [
         "8",
         "2835",
         "0",
         "0.1320585389185909",
         "0.0",
         "1.1521514351371727"
        ],
        [
         "9",
         "3880",
         "0",
         "0.09998119588244644",
         "0.0",
         "1.1110878966361992"
        ],
        [
         "10",
         "3090",
         "1",
         "0.13921070171293967",
         "7.183355788709811",
         "0.0"
        ],
        [
         "11",
         "3345",
         "0",
         "0.29648838069187183",
         "0.0",
         "1.4214406309073542"
        ],
        [
         "12",
         "4013",
         "0",
         "0.11845352473405486",
         "0.0",
         "1.1343701416290273"
        ],
        [
         "13",
         "3771",
         "0",
         "0.21131283523168726",
         "0.0",
         "1.2679298518744924"
        ],
        [
         "14",
         "662",
         "0",
         "0.30418120946859645",
         "0.0",
         "1.4371557848219223"
        ],
        [
         "15",
         "3657",
         "0",
         "0.1334635921623997",
         "0.0",
         "1.1540196014330795"
        ],
        [
         "16",
         "3572",
         "0",
         "0.13921070171293967",
         "0.0",
         "1.161724480067264"
        ],
        [
         "17",
         "3430",
         "0",
         "0.09824663279503795",
         "0.0",
         "1.1089506691830375"
        ],
        [
         "18",
         "4479",
         "0",
         "0.1513267822099292",
         "0.0",
         "1.178309835915385"
        ],
        [
         "19",
         "3166",
         "1",
         "0.3146106152055233",
         "3.1785322925189208",
         "0.0"
        ],
        [
         "20",
         "4253",
         "0",
         "0.14976617462426223",
         "0.0",
         "1.176147043500742"
        ],
        [
         "21",
         "4054",
         "0",
         "0.10981990398948589",
         "0.0",
         "1.1233681863722427"
        ],
        [
         "22",
         "3160",
         "0",
         "0.1377547634362935",
         "0.0",
         "1.1597628581693133"
        ],
        [
         "23",
         "2466",
         "0",
         "0.1334635921623997",
         "0.0",
         "1.1540196014330795"
        ],
        [
         "24",
         "3147",
         "1",
         "0.164604221999256",
         "6.075178314712486",
         "0.0"
        ],
        [
         "25",
         "3232",
         "0",
         "0.11718512200054686",
         "0.0",
         "1.1327403116110821"
        ],
        [
         "26",
         "3005",
         "0",
         "0.12928605116422726",
         "0.0",
         "1.1484828069391733"
        ],
        [
         "27",
         "1899",
         "0",
         "0.08263011377458175",
         "0.0",
         "1.0900728430432451"
        ],
        [
         "28",
         "4026",
         "0",
         "0.11718512200054686",
         "0.0",
         "1.1327403116110821"
        ],
        [
         "29",
         "3969",
         "0",
         "0.31198512296863534",
         "0.0",
         "1.4534569431329503"
        ],
        [
         "30",
         "4167",
         "0",
         "0.3889107202277938",
         "0.0",
         "1.6364220959215106"
        ],
        [
         "31",
         "4054",
         "0",
         "0.21695801796138545",
         "0.0",
         "1.2770707355901212"
        ],
        [
         "32",
         "3660",
         "0",
         "0.23310972108480407",
         "0.0",
         "1.3039675002981512"
        ],
        [
         "33",
         "3997",
         "0",
         "0.08893632028557626",
         "0.0",
         "1.0976181163466572"
        ],
        [
         "34",
         "3980",
         "0",
         "0.1383474178428334",
         "0.0",
         "1.160560556200595"
        ],
        [
         "35",
         "4111",
         "0",
         "0.35029047922333917",
         "0.0",
         "1.5391493706365933"
        ],
        [
         "36",
         "3090",
         "0",
         "0.14516383106082534",
         "0.0",
         "1.1698147976599647"
        ],
        [
         "37",
         "4082",
         "0",
         "0.14516383106082534",
         "0.0",
         "1.1698147976599647"
        ],
        [
         "38",
         "4196",
         "0",
         "0.10286366076369823",
         "0.0",
         "1.1146577797208195"
        ],
        [
         "39",
         "2790",
         "0",
         "0.07638129152032465",
         "0.0",
         "1.0826978609452944"
        ],
        [
         "40",
         "4082",
         "0",
         "0.14516383106082534",
         "0.0",
         "1.1698147976599647"
        ],
        [
         "41",
         "3089",
         "0",
         "0.0746771410637634",
         "0.0",
         "1.0807038757797611"
        ],
        [
         "42",
         "2580",
         "1",
         "0.35307290223055315",
         "2.8322762627277744",
         "0.0"
        ],
        [
         "43",
         "3714",
         "0",
         "0.11973379452122121",
         "0.0",
         "1.1360199832459748"
        ],
        [
         "44",
         "4196",
         "0",
         "0.09297174990533988",
         "0.0",
         "1.1025014930853996"
        ],
        [
         "45",
         "2523",
         "0",
         "0.3802460583217542",
         "0.0",
         "1.613543590044909"
        ],
        [
         "46",
         "2693",
         "1",
         "0.3093716511355903",
         "3.232358221347578",
         "0.0"
        ],
        [
         "47",
         "3204",
         "0",
         "0.08505962211376049",
         "0.0",
         "1.0929673934713333"
        ],
        [
         "48",
         "3572",
         "1",
         "0.2939492612708967",
         "3.4019476547635326",
         "0.0"
        ],
        [
         "49",
         "3385",
         "0",
         "0.1320585389185909",
         "0.0",
         "1.1521514351371727"
        ]
       ],
       "shape": {
        "columns": 5,
        "rows": 4642
       }
      },
      "text/html": [
       "<div>\n",
       "<style scoped>\n",
       "    .dataframe tbody tr th:only-of-type {\n",
       "        vertical-align: middle;\n",
       "    }\n",
       "\n",
       "    .dataframe tbody tr th {\n",
       "        vertical-align: top;\n",
       "    }\n",
       "\n",
       "    .dataframe thead th {\n",
       "        text-align: right;\n",
       "    }\n",
       "</style>\n",
       "<table border=\"1\" class=\"dataframe\">\n",
       "  <thead>\n",
       "    <tr style=\"text-align: right;\">\n",
       "      <th></th>\n",
       "      <th>Y</th>\n",
       "      <th>Treated</th>\n",
       "      <th>pscore</th>\n",
       "      <th>W_ATE_T</th>\n",
       "      <th>W_ATE_C</th>\n",
       "    </tr>\n",
       "  </thead>\n",
       "  <tbody>\n",
       "    <tr>\n",
       "      <th>0</th>\n",
       "      <td>3459</td>\n",
       "      <td>0</td>\n",
       "      <td>0.106292</td>\n",
       "      <td>0.000000</td>\n",
       "      <td>1.118933</td>\n",
       "    </tr>\n",
       "    <tr>\n",
       "      <th>1</th>\n",
       "      <td>3260</td>\n",
       "      <td>0</td>\n",
       "      <td>0.358668</td>\n",
       "      <td>0.000000</td>\n",
       "      <td>1.559254</td>\n",
       "    </tr>\n",
       "    <tr>\n",
       "      <th>2</th>\n",
       "      <td>3572</td>\n",
       "      <td>0</td>\n",
       "      <td>0.190573</td>\n",
       "      <td>0.000000</td>\n",
       "      <td>1.235442</td>\n",
       "    </tr>\n",
       "    <tr>\n",
       "      <th>3</th>\n",
       "      <td>2948</td>\n",
       "      <td>0</td>\n",
       "      <td>0.139211</td>\n",
       "      <td>0.000000</td>\n",
       "      <td>1.161724</td>\n",
       "    </tr>\n",
       "    <tr>\n",
       "      <th>4</th>\n",
       "      <td>2410</td>\n",
       "      <td>0</td>\n",
       "      <td>0.130666</td>\n",
       "      <td>0.000000</td>\n",
       "      <td>1.150306</td>\n",
       "    </tr>\n",
       "    <tr>\n",
       "      <th>...</th>\n",
       "      <td>...</td>\n",
       "      <td>...</td>\n",
       "      <td>...</td>\n",
       "      <td>...</td>\n",
       "      <td>...</td>\n",
       "    </tr>\n",
       "    <tr>\n",
       "      <th>4637</th>\n",
       "      <td>3317</td>\n",
       "      <td>1</td>\n",
       "      <td>0.299040</td>\n",
       "      <td>3.344033</td>\n",
       "      <td>0.000000</td>\n",
       "    </tr>\n",
       "    <tr>\n",
       "      <th>4638</th>\n",
       "      <td>3030</td>\n",
       "      <td>1</td>\n",
       "      <td>0.145164</td>\n",
       "      <td>6.888768</td>\n",
       "      <td>0.000000</td>\n",
       "    </tr>\n",
       "    <tr>\n",
       "      <th>4639</th>\n",
       "      <td>2950</td>\n",
       "      <td>0</td>\n",
       "      <td>0.304181</td>\n",
       "      <td>0.000000</td>\n",
       "      <td>1.437156</td>\n",
       "    </tr>\n",
       "    <tr>\n",
       "      <th>4640</th>\n",
       "      <td>3969</td>\n",
       "      <td>0</td>\n",
       "      <td>0.134881</td>\n",
       "      <td>0.000000</td>\n",
       "      <td>1.155911</td>\n",
       "    </tr>\n",
       "    <tr>\n",
       "      <th>4641</th>\n",
       "      <td>3289</td>\n",
       "      <td>0</td>\n",
       "      <td>0.133464</td>\n",
       "      <td>0.000000</td>\n",
       "      <td>1.154020</td>\n",
       "    </tr>\n",
       "  </tbody>\n",
       "</table>\n",
       "<p>4642 rows × 5 columns</p>\n",
       "</div>"
      ],
      "text/plain": [
       "         Y  Treated    pscore   W_ATE_T   W_ATE_C\n",
       "0     3459        0  0.106292  0.000000  1.118933\n",
       "1     3260        0  0.358668  0.000000  1.559254\n",
       "2     3572        0  0.190573  0.000000  1.235442\n",
       "3     2948        0  0.139211  0.000000  1.161724\n",
       "4     2410        0  0.130666  0.000000  1.150306\n",
       "...    ...      ...       ...       ...       ...\n",
       "4637  3317        1  0.299040  3.344033  0.000000\n",
       "4638  3030        1  0.145164  6.888768  0.000000\n",
       "4639  2950        0  0.304181  0.000000  1.437156\n",
       "4640  3969        0  0.134881  0.000000  1.155911\n",
       "4641  3289        0  0.133464  0.000000  1.154020\n",
       "\n",
       "[4642 rows x 5 columns]"
      ]
     },
     "execution_count": 35,
     "metadata": {},
     "output_type": "execute_result"
    }
   ],
   "source": [
    "df[['Y', 'Treated', 'pscore', 'W_ATE_T', 'W_ATE_C']]"
   ]
  },
  {
   "cell_type": "code",
   "execution_count": 42,
   "id": "4b609152",
   "metadata": {},
   "outputs": [],
   "source": [
    "df['Y_psw_ATE'] = df['Y'] * df['W_ATE_T'] - df['Y'] * df['W_ATE_C']"
   ]
  },
  {
   "cell_type": "code",
   "execution_count": 44,
   "id": "4d4228a0",
   "metadata": {},
   "outputs": [
    {
     "data": {
      "application/vnd.microsoft.datawrangler.viewer.v0+json": {
       "columns": [
        {
         "name": "index",
         "rawType": "int64",
         "type": "integer"
        },
        {
         "name": "Y",
         "rawType": "int16",
         "type": "integer"
        },
        {
         "name": "Treated",
         "rawType": "int64",
         "type": "integer"
        },
        {
         "name": "pscore",
         "rawType": "float64",
         "type": "float"
        },
        {
         "name": "W_ATE_T",
         "rawType": "float64",
         "type": "float"
        },
        {
         "name": "W_ATE_C",
         "rawType": "float64",
         "type": "float"
        },
        {
         "name": "Y_psw_ATE",
         "rawType": "float64",
         "type": "float"
        }
       ],
       "ref": "67e63f60-14d7-4bd0-bc9a-3bbaa2a21d0b",
       "rows": [
        [
         "0",
         "3459",
         "0",
         "0.10629165454169723",
         "0.0",
         "1.1189332684223618",
         "-3870.3901754729495"
        ],
        [
         "1",
         "3260",
         "0",
         "0.35866758044526553",
         "0.0",
         "1.559253780893038",
         "-5083.167325711304"
        ],
        [
         "2",
         "3572",
         "0",
         "0.19057339059730785",
         "0.0",
         "1.2354424581345793",
         "-4413.0004604567175"
        ],
        [
         "3",
         "2948",
         "0",
         "0.13921070171293967",
         "0.0",
         "1.161724480067264",
         "-3424.763767238294"
        ],
        [
         "4",
         "2410",
         "0",
         "0.13066604705179524",
         "0.0",
         "1.1503059285889647",
         "-2772.237287899405"
        ],
        [
         "5",
         "3147",
         "0",
         "0.3146106152055233",
         "0.0",
         "1.4590246394024085",
         "-4591.55054019938"
        ],
        [
         "6",
         "3799",
         "0",
         "0.14067951727705",
         "0.0",
         "1.1637101874160793",
         "-4420.935001993686"
        ],
        [
         "7",
         "3629",
         "0",
         "0.13631164083338407",
         "0.0",
         "1.157825029580013",
         "-4201.747032345867"
        ],
        [
         "8",
         "2835",
         "0",
         "0.1320585389185909",
         "0.0",
         "1.1521514351371727",
         "-3266.3493186138844"
        ],
        [
         "9",
         "3880",
         "0",
         "0.09998119588244644",
         "0.0",
         "1.1110878966361992",
         "-4311.021038948453"
        ],
        [
         "10",
         "3090",
         "1",
         "0.13921070171293967",
         "7.183355788709811",
         "0.0",
         "22196.569387113315"
        ],
        [
         "11",
         "3345",
         "0",
         "0.29648838069187183",
         "0.0",
         "1.4214406309073542",
         "-4754.7189103851"
        ],
        [
         "12",
         "4013",
         "0",
         "0.11845352473405486",
         "0.0",
         "1.1343701416290273",
         "-4552.227378357286"
        ],
        [
         "13",
         "3771",
         "0",
         "0.21131283523168726",
         "0.0",
         "1.2679298518744924",
         "-4781.363471418711"
        ],
        [
         "14",
         "662",
         "0",
         "0.30418120946859645",
         "0.0",
         "1.4371557848219223",
         "-951.3971295521126"
        ],
        [
         "15",
         "3657",
         "0",
         "0.1334635921623997",
         "0.0",
         "1.1540196014330795",
         "-4220.249682440772"
        ],
        [
         "16",
         "3572",
         "0",
         "0.13921070171293967",
         "0.0",
         "1.161724480067264",
         "-4149.679842800267"
        ],
        [
         "17",
         "3430",
         "0",
         "0.09824663279503795",
         "0.0",
         "1.1089506691830375",
         "-3803.700795297819"
        ],
        [
         "18",
         "4479",
         "0",
         "0.1513267822099292",
         "0.0",
         "1.178309835915385",
         "-5277.649755065009"
        ],
        [
         "19",
         "3166",
         "1",
         "0.3146106152055233",
         "3.1785322925189208",
         "0.0",
         "10063.233238114903"
        ],
        [
         "20",
         "4253",
         "0",
         "0.14976617462426223",
         "0.0",
         "1.176147043500742",
         "-5002.153376008656"
        ],
        [
         "21",
         "4054",
         "0",
         "0.10981990398948589",
         "0.0",
         "1.1233681863722427",
         "-4554.134627553071"
        ],
        [
         "22",
         "3160",
         "0",
         "0.1377547634362935",
         "0.0",
         "1.1597628581693133",
         "-3664.8506318150303"
        ],
        [
         "23",
         "2466",
         "0",
         "0.1334635921623997",
         "0.0",
         "1.1540196014330795",
         "-2845.812337133974"
        ],
        [
         "24",
         "3147",
         "1",
         "0.164604221999256",
         "6.075178314712486",
         "0.0",
         "19118.586156400193"
        ],
        [
         "25",
         "3232",
         "0",
         "0.11718512200054686",
         "0.0",
         "1.1327403116110821",
         "-3661.0166871270176"
        ],
        [
         "26",
         "3005",
         "0",
         "0.12928605116422726",
         "0.0",
         "1.1484828069391733",
         "-3451.1908348522156"
        ],
        [
         "27",
         "1899",
         "0",
         "0.08263011377458175",
         "0.0",
         "1.0900728430432451",
         "-2070.0483289391227"
        ],
        [
         "28",
         "4026",
         "0",
         "0.11718512200054686",
         "0.0",
         "1.1327403116110821",
         "-4560.412494546216"
        ],
        [
         "29",
         "3969",
         "0",
         "0.31198512296863534",
         "0.0",
         "1.4534569431329503",
         "-5768.770607294679"
        ],
        [
         "30",
         "4167",
         "0",
         "0.3889107202277938",
         "0.0",
         "1.6364220959215106",
         "-6818.970873704934"
        ],
        [
         "31",
         "4054",
         "0",
         "0.21695801796138545",
         "0.0",
         "1.2770707355901212",
         "-5177.244762082351"
        ],
        [
         "32",
         "3660",
         "0",
         "0.23310972108480407",
         "0.0",
         "1.3039675002981512",
         "-4772.521051091234"
        ],
        [
         "33",
         "3997",
         "0",
         "0.08893632028557626",
         "0.0",
         "1.0976181163466572",
         "-4387.179611037589"
        ],
        [
         "34",
         "3980",
         "0",
         "0.1383474178428334",
         "0.0",
         "1.160560556200595",
         "-4619.031013678368"
        ],
        [
         "35",
         "4111",
         "0",
         "0.35029047922333917",
         "0.0",
         "1.5391493706365933",
         "-6327.443062687035"
        ],
        [
         "36",
         "3090",
         "0",
         "0.14516383106082534",
         "0.0",
         "1.1698147976599647",
         "-3614.727724769291"
        ],
        [
         "37",
         "4082",
         "0",
         "0.14516383106082534",
         "0.0",
         "1.1698147976599647",
         "-4775.184004047976"
        ],
        [
         "38",
         "4196",
         "0",
         "0.10286366076369823",
         "0.0",
         "1.1146577797208195",
         "-4677.1040437085585"
        ],
        [
         "39",
         "2790",
         "0",
         "0.07638129152032465",
         "0.0",
         "1.0826978609452944",
         "-3020.7270320373714"
        ],
        [
         "40",
         "4082",
         "0",
         "0.14516383106082534",
         "0.0",
         "1.1698147976599647",
         "-4775.184004047976"
        ],
        [
         "41",
         "3089",
         "0",
         "0.0746771410637634",
         "0.0",
         "1.0807038757797611",
         "-3338.294272283682"
        ],
        [
         "42",
         "2580",
         "1",
         "0.35307290223055315",
         "2.8322762627277744",
         "0.0",
         "7307.272757837658"
        ],
        [
         "43",
         "3714",
         "0",
         "0.11973379452122121",
         "0.0",
         "1.1360199832459748",
         "-4219.17821777555"
        ],
        [
         "44",
         "4196",
         "0",
         "0.09297174990533988",
         "0.0",
         "1.1025014930853996",
         "-4626.096264986337"
        ],
        [
         "45",
         "2523",
         "0",
         "0.3802460583217542",
         "0.0",
         "1.613543590044909",
         "-4070.9704776833055"
        ],
        [
         "46",
         "2693",
         "1",
         "0.3093716511355903",
         "3.232358221347578",
         "0.0",
         "8704.740690089027"
        ],
        [
         "47",
         "3204",
         "0",
         "0.08505962211376049",
         "0.0",
         "1.0929673934713333",
         "-3501.8675286821517"
        ],
        [
         "48",
         "3572",
         "1",
         "0.2939492612708967",
         "3.4019476547635326",
         "0.0",
         "12151.757022815338"
        ],
        [
         "49",
         "3385",
         "0",
         "0.1320585389185909",
         "0.0",
         "1.1521514351371727",
         "-3900.0326079393294"
        ]
       ],
       "shape": {
        "columns": 6,
        "rows": 4642
       }
      },
      "text/html": [
       "<div>\n",
       "<style scoped>\n",
       "    .dataframe tbody tr th:only-of-type {\n",
       "        vertical-align: middle;\n",
       "    }\n",
       "\n",
       "    .dataframe tbody tr th {\n",
       "        vertical-align: top;\n",
       "    }\n",
       "\n",
       "    .dataframe thead th {\n",
       "        text-align: right;\n",
       "    }\n",
       "</style>\n",
       "<table border=\"1\" class=\"dataframe\">\n",
       "  <thead>\n",
       "    <tr style=\"text-align: right;\">\n",
       "      <th></th>\n",
       "      <th>Y</th>\n",
       "      <th>Treated</th>\n",
       "      <th>pscore</th>\n",
       "      <th>W_ATE_T</th>\n",
       "      <th>W_ATE_C</th>\n",
       "      <th>Y_psw_ATE</th>\n",
       "    </tr>\n",
       "  </thead>\n",
       "  <tbody>\n",
       "    <tr>\n",
       "      <th>0</th>\n",
       "      <td>3459</td>\n",
       "      <td>0</td>\n",
       "      <td>0.106292</td>\n",
       "      <td>0.000000</td>\n",
       "      <td>1.118933</td>\n",
       "      <td>-3870.390175</td>\n",
       "    </tr>\n",
       "    <tr>\n",
       "      <th>1</th>\n",
       "      <td>3260</td>\n",
       "      <td>0</td>\n",
       "      <td>0.358668</td>\n",
       "      <td>0.000000</td>\n",
       "      <td>1.559254</td>\n",
       "      <td>-5083.167326</td>\n",
       "    </tr>\n",
       "    <tr>\n",
       "      <th>2</th>\n",
       "      <td>3572</td>\n",
       "      <td>0</td>\n",
       "      <td>0.190573</td>\n",
       "      <td>0.000000</td>\n",
       "      <td>1.235442</td>\n",
       "      <td>-4413.000460</td>\n",
       "    </tr>\n",
       "    <tr>\n",
       "      <th>3</th>\n",
       "      <td>2948</td>\n",
       "      <td>0</td>\n",
       "      <td>0.139211</td>\n",
       "      <td>0.000000</td>\n",
       "      <td>1.161724</td>\n",
       "      <td>-3424.763767</td>\n",
       "    </tr>\n",
       "    <tr>\n",
       "      <th>4</th>\n",
       "      <td>2410</td>\n",
       "      <td>0</td>\n",
       "      <td>0.130666</td>\n",
       "      <td>0.000000</td>\n",
       "      <td>1.150306</td>\n",
       "      <td>-2772.237288</td>\n",
       "    </tr>\n",
       "    <tr>\n",
       "      <th>...</th>\n",
       "      <td>...</td>\n",
       "      <td>...</td>\n",
       "      <td>...</td>\n",
       "      <td>...</td>\n",
       "      <td>...</td>\n",
       "      <td>...</td>\n",
       "    </tr>\n",
       "    <tr>\n",
       "      <th>4637</th>\n",
       "      <td>3317</td>\n",
       "      <td>1</td>\n",
       "      <td>0.299040</td>\n",
       "      <td>3.344033</td>\n",
       "      <td>0.000000</td>\n",
       "      <td>11092.156261</td>\n",
       "    </tr>\n",
       "    <tr>\n",
       "      <th>4638</th>\n",
       "      <td>3030</td>\n",
       "      <td>1</td>\n",
       "      <td>0.145164</td>\n",
       "      <td>6.888768</td>\n",
       "      <td>0.000000</td>\n",
       "      <td>20872.967997</td>\n",
       "    </tr>\n",
       "    <tr>\n",
       "      <th>4639</th>\n",
       "      <td>2950</td>\n",
       "      <td>0</td>\n",
       "      <td>0.304181</td>\n",
       "      <td>0.000000</td>\n",
       "      <td>1.437156</td>\n",
       "      <td>-4239.609565</td>\n",
       "    </tr>\n",
       "    <tr>\n",
       "      <th>4640</th>\n",
       "      <td>3969</td>\n",
       "      <td>0</td>\n",
       "      <td>0.134881</td>\n",
       "      <td>0.000000</td>\n",
       "      <td>1.155911</td>\n",
       "      <td>-4587.809591</td>\n",
       "    </tr>\n",
       "    <tr>\n",
       "      <th>4641</th>\n",
       "      <td>3289</td>\n",
       "      <td>0</td>\n",
       "      <td>0.133464</td>\n",
       "      <td>0.000000</td>\n",
       "      <td>1.154020</td>\n",
       "      <td>-3795.570469</td>\n",
       "    </tr>\n",
       "  </tbody>\n",
       "</table>\n",
       "<p>4642 rows × 6 columns</p>\n",
       "</div>"
      ],
      "text/plain": [
       "         Y  Treated    pscore   W_ATE_T   W_ATE_C     Y_psw_ATE\n",
       "0     3459        0  0.106292  0.000000  1.118933  -3870.390175\n",
       "1     3260        0  0.358668  0.000000  1.559254  -5083.167326\n",
       "2     3572        0  0.190573  0.000000  1.235442  -4413.000460\n",
       "3     2948        0  0.139211  0.000000  1.161724  -3424.763767\n",
       "4     2410        0  0.130666  0.000000  1.150306  -2772.237288\n",
       "...    ...      ...       ...       ...       ...           ...\n",
       "4637  3317        1  0.299040  3.344033  0.000000  11092.156261\n",
       "4638  3030        1  0.145164  6.888768  0.000000  20872.967997\n",
       "4639  2950        0  0.304181  0.000000  1.437156  -4239.609565\n",
       "4640  3969        0  0.134881  0.000000  1.155911  -4587.809591\n",
       "4641  3289        0  0.133464  0.000000  1.154020  -3795.570469\n",
       "\n",
       "[4642 rows x 6 columns]"
      ]
     },
     "execution_count": 44,
     "metadata": {},
     "output_type": "execute_result"
    }
   ],
   "source": [
    "df[['Y', 'Treated', 'pscore', 'W_ATE_T', 'W_ATE_C', 'Y_psw_ATE']]"
   ]
  },
  {
   "cell_type": "code",
   "execution_count": 45,
   "id": "92134167",
   "metadata": {},
   "outputs": [
    {
     "data": {
      "text/plain": [
       "-361.2246611411922"
      ]
     },
     "execution_count": 45,
     "metadata": {},
     "output_type": "execute_result"
    }
   ],
   "source": [
    "df['Y_psw_ATE'].mean()"
   ]
  },
  {
   "cell_type": "markdown",
   "id": "7775b8da",
   "metadata": {},
   "source": [
    "***ATT psw***"
   ]
  },
  {
   "cell_type": "code",
   "execution_count": 47,
   "id": "47813e59",
   "metadata": {},
   "outputs": [],
   "source": [
    "# ATT weights\n",
    "df['W_ATT_T'] = df['Treated'] * 1 \n",
    "df['W_ATT_C'] = (1 - df['Treated']) * (df['pscore'] / (1 - df['pscore']))"
   ]
  },
  {
   "cell_type": "code",
   "execution_count": 48,
   "id": "ce52da7a",
   "metadata": {},
   "outputs": [
    {
     "data": {
      "application/vnd.microsoft.datawrangler.viewer.v0+json": {
       "columns": [
        {
         "name": "index",
         "rawType": "int64",
         "type": "integer"
        },
        {
         "name": "Y",
         "rawType": "int16",
         "type": "integer"
        },
        {
         "name": "Treated",
         "rawType": "int64",
         "type": "integer"
        },
        {
         "name": "pscore",
         "rawType": "float64",
         "type": "float"
        },
        {
         "name": "W_ATT_T",
         "rawType": "int64",
         "type": "integer"
        },
        {
         "name": "W_ATT_C",
         "rawType": "float64",
         "type": "float"
        }
       ],
       "ref": "c55b27ac-babc-4549-99d4-04107e553473",
       "rows": [
        [
         "0",
         "3459",
         "0",
         "0.10629165454169723",
         "0",
         "0.11893326842236186"
        ],
        [
         "1",
         "3260",
         "0",
         "0.35866758044526553",
         "0",
         "0.5592537808930381"
        ],
        [
         "2",
         "3572",
         "0",
         "0.19057339059730785",
         "0",
         "0.23544245813457934"
        ],
        [
         "3",
         "2948",
         "0",
         "0.13921070171293967",
         "0",
         "0.16172448006726378"
        ],
        [
         "4",
         "2410",
         "0",
         "0.13066604705179524",
         "0",
         "0.1503059285889647"
        ],
        [
         "5",
         "3147",
         "0",
         "0.3146106152055233",
         "0",
         "0.4590246394024085"
        ],
        [
         "6",
         "3799",
         "0",
         "0.14067951727705",
         "0",
         "0.16371018741607943"
        ],
        [
         "7",
         "3629",
         "0",
         "0.13631164083338407",
         "0",
         "0.15782502958001302"
        ],
        [
         "8",
         "2835",
         "0",
         "0.1320585389185909",
         "0",
         "0.15215143513717266"
        ],
        [
         "9",
         "3880",
         "0",
         "0.09998119588244644",
         "0",
         "0.11108789663619925"
        ],
        [
         "10",
         "3090",
         "1",
         "0.13921070171293967",
         "1",
         "0.0"
        ],
        [
         "11",
         "3345",
         "0",
         "0.29648838069187183",
         "0",
         "0.4214406309073541"
        ],
        [
         "12",
         "4013",
         "0",
         "0.11845352473405486",
         "0",
         "0.1343701416290273"
        ],
        [
         "13",
         "3771",
         "0",
         "0.21131283523168726",
         "0",
         "0.2679298518744922"
        ],
        [
         "14",
         "662",
         "0",
         "0.30418120946859645",
         "0",
         "0.4371557848219223"
        ],
        [
         "15",
         "3657",
         "0",
         "0.1334635921623997",
         "0",
         "0.15401960143307958"
        ],
        [
         "16",
         "3572",
         "0",
         "0.13921070171293967",
         "0",
         "0.16172448006726378"
        ],
        [
         "17",
         "3430",
         "0",
         "0.09824663279503795",
         "0",
         "0.1089506691830375"
        ],
        [
         "18",
         "4479",
         "0",
         "0.1513267822099292",
         "0",
         "0.17830983591538488"
        ],
        [
         "19",
         "3166",
         "1",
         "0.3146106152055233",
         "1",
         "0.0"
        ],
        [
         "20",
         "4253",
         "0",
         "0.14976617462426223",
         "0",
         "0.17614704350074184"
        ],
        [
         "21",
         "4054",
         "0",
         "0.10981990398948589",
         "0",
         "0.12336818637224257"
        ],
        [
         "22",
         "3160",
         "0",
         "0.1377547634362935",
         "0",
         "0.15976285816931338"
        ],
        [
         "23",
         "2466",
         "0",
         "0.1334635921623997",
         "0",
         "0.15401960143307958"
        ],
        [
         "24",
         "3147",
         "1",
         "0.164604221999256",
         "1",
         "0.0"
        ],
        [
         "25",
         "3232",
         "0",
         "0.11718512200054686",
         "0",
         "0.13274031161108213"
        ],
        [
         "26",
         "3005",
         "0",
         "0.12928605116422726",
         "0",
         "0.1484828069391733"
        ],
        [
         "27",
         "1899",
         "0",
         "0.08263011377458175",
         "0",
         "0.09007284304324514"
        ],
        [
         "28",
         "4026",
         "0",
         "0.11718512200054686",
         "0",
         "0.13274031161108213"
        ],
        [
         "29",
         "3969",
         "0",
         "0.31198512296863534",
         "0",
         "0.4534569431329503"
        ],
        [
         "30",
         "4167",
         "0",
         "0.3889107202277938",
         "0",
         "0.6364220959215106"
        ],
        [
         "31",
         "4054",
         "0",
         "0.21695801796138545",
         "0",
         "0.27707073559012124"
        ],
        [
         "32",
         "3660",
         "0",
         "0.23310972108480407",
         "0",
         "0.3039675002981512"
        ],
        [
         "33",
         "3997",
         "0",
         "0.08893632028557626",
         "0",
         "0.09761811634665721"
        ],
        [
         "34",
         "3980",
         "0",
         "0.1383474178428334",
         "0",
         "0.1605605562005948"
        ],
        [
         "35",
         "4111",
         "0",
         "0.35029047922333917",
         "0",
         "0.5391493706365931"
        ],
        [
         "36",
         "3090",
         "0",
         "0.14516383106082534",
         "0",
         "0.16981479765996468"
        ],
        [
         "37",
         "4082",
         "0",
         "0.14516383106082534",
         "0",
         "0.16981479765996468"
        ],
        [
         "38",
         "4196",
         "0",
         "0.10286366076369823",
         "0",
         "0.11465777972081943"
        ],
        [
         "39",
         "2790",
         "0",
         "0.07638129152032465",
         "0",
         "0.08269786094529445"
        ],
        [
         "40",
         "4082",
         "0",
         "0.14516383106082534",
         "0",
         "0.16981479765996468"
        ],
        [
         "41",
         "3089",
         "0",
         "0.0746771410637634",
         "0",
         "0.08070387577976106"
        ],
        [
         "42",
         "2580",
         "1",
         "0.35307290223055315",
         "1",
         "0.0"
        ],
        [
         "43",
         "3714",
         "0",
         "0.11973379452122121",
         "0",
         "0.1360199832459747"
        ],
        [
         "44",
         "4196",
         "0",
         "0.09297174990533988",
         "0",
         "0.10250149308539958"
        ],
        [
         "45",
         "2523",
         "0",
         "0.3802460583217542",
         "0",
         "0.6135435900449091"
        ],
        [
         "46",
         "2693",
         "1",
         "0.3093716511355903",
         "1",
         "0.0"
        ],
        [
         "47",
         "3204",
         "0",
         "0.08505962211376049",
         "0",
         "0.0929673934713334"
        ],
        [
         "48",
         "3572",
         "1",
         "0.2939492612708967",
         "1",
         "0.0"
        ],
        [
         "49",
         "3385",
         "0",
         "0.1320585389185909",
         "0",
         "0.15215143513717266"
        ]
       ],
       "shape": {
        "columns": 5,
        "rows": 4642
       }
      },
      "text/html": [
       "<div>\n",
       "<style scoped>\n",
       "    .dataframe tbody tr th:only-of-type {\n",
       "        vertical-align: middle;\n",
       "    }\n",
       "\n",
       "    .dataframe tbody tr th {\n",
       "        vertical-align: top;\n",
       "    }\n",
       "\n",
       "    .dataframe thead th {\n",
       "        text-align: right;\n",
       "    }\n",
       "</style>\n",
       "<table border=\"1\" class=\"dataframe\">\n",
       "  <thead>\n",
       "    <tr style=\"text-align: right;\">\n",
       "      <th></th>\n",
       "      <th>Y</th>\n",
       "      <th>Treated</th>\n",
       "      <th>pscore</th>\n",
       "      <th>W_ATT_T</th>\n",
       "      <th>W_ATT_C</th>\n",
       "    </tr>\n",
       "  </thead>\n",
       "  <tbody>\n",
       "    <tr>\n",
       "      <th>0</th>\n",
       "      <td>3459</td>\n",
       "      <td>0</td>\n",
       "      <td>0.106292</td>\n",
       "      <td>0</td>\n",
       "      <td>0.118933</td>\n",
       "    </tr>\n",
       "    <tr>\n",
       "      <th>1</th>\n",
       "      <td>3260</td>\n",
       "      <td>0</td>\n",
       "      <td>0.358668</td>\n",
       "      <td>0</td>\n",
       "      <td>0.559254</td>\n",
       "    </tr>\n",
       "    <tr>\n",
       "      <th>2</th>\n",
       "      <td>3572</td>\n",
       "      <td>0</td>\n",
       "      <td>0.190573</td>\n",
       "      <td>0</td>\n",
       "      <td>0.235442</td>\n",
       "    </tr>\n",
       "    <tr>\n",
       "      <th>3</th>\n",
       "      <td>2948</td>\n",
       "      <td>0</td>\n",
       "      <td>0.139211</td>\n",
       "      <td>0</td>\n",
       "      <td>0.161724</td>\n",
       "    </tr>\n",
       "    <tr>\n",
       "      <th>4</th>\n",
       "      <td>2410</td>\n",
       "      <td>0</td>\n",
       "      <td>0.130666</td>\n",
       "      <td>0</td>\n",
       "      <td>0.150306</td>\n",
       "    </tr>\n",
       "    <tr>\n",
       "      <th>...</th>\n",
       "      <td>...</td>\n",
       "      <td>...</td>\n",
       "      <td>...</td>\n",
       "      <td>...</td>\n",
       "      <td>...</td>\n",
       "    </tr>\n",
       "    <tr>\n",
       "      <th>4637</th>\n",
       "      <td>3317</td>\n",
       "      <td>1</td>\n",
       "      <td>0.299040</td>\n",
       "      <td>1</td>\n",
       "      <td>0.000000</td>\n",
       "    </tr>\n",
       "    <tr>\n",
       "      <th>4638</th>\n",
       "      <td>3030</td>\n",
       "      <td>1</td>\n",
       "      <td>0.145164</td>\n",
       "      <td>1</td>\n",
       "      <td>0.000000</td>\n",
       "    </tr>\n",
       "    <tr>\n",
       "      <th>4639</th>\n",
       "      <td>2950</td>\n",
       "      <td>0</td>\n",
       "      <td>0.304181</td>\n",
       "      <td>0</td>\n",
       "      <td>0.437156</td>\n",
       "    </tr>\n",
       "    <tr>\n",
       "      <th>4640</th>\n",
       "      <td>3969</td>\n",
       "      <td>0</td>\n",
       "      <td>0.134881</td>\n",
       "      <td>0</td>\n",
       "      <td>0.155911</td>\n",
       "    </tr>\n",
       "    <tr>\n",
       "      <th>4641</th>\n",
       "      <td>3289</td>\n",
       "      <td>0</td>\n",
       "      <td>0.133464</td>\n",
       "      <td>0</td>\n",
       "      <td>0.154020</td>\n",
       "    </tr>\n",
       "  </tbody>\n",
       "</table>\n",
       "<p>4642 rows × 5 columns</p>\n",
       "</div>"
      ],
      "text/plain": [
       "         Y  Treated    pscore  W_ATT_T   W_ATT_C\n",
       "0     3459        0  0.106292        0  0.118933\n",
       "1     3260        0  0.358668        0  0.559254\n",
       "2     3572        0  0.190573        0  0.235442\n",
       "3     2948        0  0.139211        0  0.161724\n",
       "4     2410        0  0.130666        0  0.150306\n",
       "...    ...      ...       ...      ...       ...\n",
       "4637  3317        1  0.299040        1  0.000000\n",
       "4638  3030        1  0.145164        1  0.000000\n",
       "4639  2950        0  0.304181        0  0.437156\n",
       "4640  3969        0  0.134881        0  0.155911\n",
       "4641  3289        0  0.133464        0  0.154020\n",
       "\n",
       "[4642 rows x 5 columns]"
      ]
     },
     "execution_count": 48,
     "metadata": {},
     "output_type": "execute_result"
    }
   ],
   "source": [
    "df[['Y', 'Treated', 'pscore', 'W_ATT_T', 'W_ATT_C']]"
   ]
  },
  {
   "cell_type": "code",
   "execution_count": 49,
   "id": "5ab3cca9",
   "metadata": {},
   "outputs": [],
   "source": [
    "df['Y_psw_ATT'] = df['Y'] * df['W_ATT_T'] - df['Y'] * df['W_ATT_C']"
   ]
  },
  {
   "cell_type": "code",
   "execution_count": 50,
   "id": "acc304cd",
   "metadata": {},
   "outputs": [
    {
     "data": {
      "text/plain": [
       "-54.25077509603716"
      ]
     },
     "execution_count": 50,
     "metadata": {},
     "output_type": "execute_result"
    }
   ],
   "source": [
    "df['Y_psw_ATT'].mean()"
   ]
  },
  {
   "cell_type": "markdown",
   "id": "78e45fcc",
   "metadata": {},
   "source": [
    "***ATU psw***"
   ]
  },
  {
   "cell_type": "code",
   "execution_count": 55,
   "id": "64b502a8",
   "metadata": {},
   "outputs": [],
   "source": [
    "# ATU weights\n",
    "df['W_ATU_T'] = df['Treated'] * (1 - df['pscore']) / df['pscore']\n",
    "df['W_ATU_C'] = (1 - df['Treated']) * 1"
   ]
  },
  {
   "cell_type": "code",
   "execution_count": 56,
   "id": "7e10efc0",
   "metadata": {},
   "outputs": [
    {
     "data": {
      "application/vnd.microsoft.datawrangler.viewer.v0+json": {
       "columns": [
        {
         "name": "index",
         "rawType": "int64",
         "type": "integer"
        },
        {
         "name": "Y",
         "rawType": "int16",
         "type": "integer"
        },
        {
         "name": "Treated",
         "rawType": "int64",
         "type": "integer"
        },
        {
         "name": "pscore",
         "rawType": "float64",
         "type": "float"
        },
        {
         "name": "W_ATU_T",
         "rawType": "float64",
         "type": "float"
        },
        {
         "name": "W_ATU_C",
         "rawType": "int64",
         "type": "integer"
        }
       ],
       "ref": "210dc56e-c5ce-415d-b3f2-e2864626635d",
       "rows": [
        [
         "0",
         "3459",
         "0",
         "0.10629165454169723",
         "0.0",
         "1"
        ],
        [
         "1",
         "3260",
         "0",
         "0.35866758044526553",
         "0.0",
         "1"
        ],
        [
         "2",
         "3572",
         "0",
         "0.19057339059730785",
         "0.0",
         "1"
        ],
        [
         "3",
         "2948",
         "0",
         "0.13921070171293967",
         "0.0",
         "1"
        ],
        [
         "4",
         "2410",
         "0",
         "0.13066604705179524",
         "0.0",
         "1"
        ],
        [
         "5",
         "3147",
         "0",
         "0.3146106152055233",
         "0.0",
         "1"
        ],
        [
         "6",
         "3799",
         "0",
         "0.14067951727705",
         "0.0",
         "1"
        ],
        [
         "7",
         "3629",
         "0",
         "0.13631164083338407",
         "0.0",
         "1"
        ],
        [
         "8",
         "2835",
         "0",
         "0.1320585389185909",
         "0.0",
         "1"
        ],
        [
         "9",
         "3880",
         "0",
         "0.09998119588244644",
         "0.0",
         "1"
        ],
        [
         "10",
         "3090",
         "1",
         "0.13921070171293967",
         "6.183355788709811",
         "0"
        ],
        [
         "11",
         "3345",
         "0",
         "0.29648838069187183",
         "0.0",
         "1"
        ],
        [
         "12",
         "4013",
         "0",
         "0.11845352473405486",
         "0.0",
         "1"
        ],
        [
         "13",
         "3771",
         "0",
         "0.21131283523168726",
         "0.0",
         "1"
        ],
        [
         "14",
         "662",
         "0",
         "0.30418120946859645",
         "0.0",
         "1"
        ],
        [
         "15",
         "3657",
         "0",
         "0.1334635921623997",
         "0.0",
         "1"
        ],
        [
         "16",
         "3572",
         "0",
         "0.13921070171293967",
         "0.0",
         "1"
        ],
        [
         "17",
         "3430",
         "0",
         "0.09824663279503795",
         "0.0",
         "1"
        ],
        [
         "18",
         "4479",
         "0",
         "0.1513267822099292",
         "0.0",
         "1"
        ],
        [
         "19",
         "3166",
         "1",
         "0.3146106152055233",
         "2.1785322925189208",
         "0"
        ],
        [
         "20",
         "4253",
         "0",
         "0.14976617462426223",
         "0.0",
         "1"
        ],
        [
         "21",
         "4054",
         "0",
         "0.10981990398948589",
         "0.0",
         "1"
        ],
        [
         "22",
         "3160",
         "0",
         "0.1377547634362935",
         "0.0",
         "1"
        ],
        [
         "23",
         "2466",
         "0",
         "0.1334635921623997",
         "0.0",
         "1"
        ],
        [
         "24",
         "3147",
         "1",
         "0.164604221999256",
         "5.075178314712486",
         "0"
        ],
        [
         "25",
         "3232",
         "0",
         "0.11718512200054686",
         "0.0",
         "1"
        ],
        [
         "26",
         "3005",
         "0",
         "0.12928605116422726",
         "0.0",
         "1"
        ],
        [
         "27",
         "1899",
         "0",
         "0.08263011377458175",
         "0.0",
         "1"
        ],
        [
         "28",
         "4026",
         "0",
         "0.11718512200054686",
         "0.0",
         "1"
        ],
        [
         "29",
         "3969",
         "0",
         "0.31198512296863534",
         "0.0",
         "1"
        ],
        [
         "30",
         "4167",
         "0",
         "0.3889107202277938",
         "0.0",
         "1"
        ],
        [
         "31",
         "4054",
         "0",
         "0.21695801796138545",
         "0.0",
         "1"
        ],
        [
         "32",
         "3660",
         "0",
         "0.23310972108480407",
         "0.0",
         "1"
        ],
        [
         "33",
         "3997",
         "0",
         "0.08893632028557626",
         "0.0",
         "1"
        ],
        [
         "34",
         "3980",
         "0",
         "0.1383474178428334",
         "0.0",
         "1"
        ],
        [
         "35",
         "4111",
         "0",
         "0.35029047922333917",
         "0.0",
         "1"
        ],
        [
         "36",
         "3090",
         "0",
         "0.14516383106082534",
         "0.0",
         "1"
        ],
        [
         "37",
         "4082",
         "0",
         "0.14516383106082534",
         "0.0",
         "1"
        ],
        [
         "38",
         "4196",
         "0",
         "0.10286366076369823",
         "0.0",
         "1"
        ],
        [
         "39",
         "2790",
         "0",
         "0.07638129152032465",
         "0.0",
         "1"
        ],
        [
         "40",
         "4082",
         "0",
         "0.14516383106082534",
         "0.0",
         "1"
        ],
        [
         "41",
         "3089",
         "0",
         "0.0746771410637634",
         "0.0",
         "1"
        ],
        [
         "42",
         "2580",
         "1",
         "0.35307290223055315",
         "1.8322762627277744",
         "0"
        ],
        [
         "43",
         "3714",
         "0",
         "0.11973379452122121",
         "0.0",
         "1"
        ],
        [
         "44",
         "4196",
         "0",
         "0.09297174990533988",
         "0.0",
         "1"
        ],
        [
         "45",
         "2523",
         "0",
         "0.3802460583217542",
         "0.0",
         "1"
        ],
        [
         "46",
         "2693",
         "1",
         "0.3093716511355903",
         "2.232358221347578",
         "0"
        ],
        [
         "47",
         "3204",
         "0",
         "0.08505962211376049",
         "0.0",
         "1"
        ],
        [
         "48",
         "3572",
         "1",
         "0.2939492612708967",
         "2.4019476547635326",
         "0"
        ],
        [
         "49",
         "3385",
         "0",
         "0.1320585389185909",
         "0.0",
         "1"
        ]
       ],
       "shape": {
        "columns": 5,
        "rows": 4642
       }
      },
      "text/html": [
       "<div>\n",
       "<style scoped>\n",
       "    .dataframe tbody tr th:only-of-type {\n",
       "        vertical-align: middle;\n",
       "    }\n",
       "\n",
       "    .dataframe tbody tr th {\n",
       "        vertical-align: top;\n",
       "    }\n",
       "\n",
       "    .dataframe thead th {\n",
       "        text-align: right;\n",
       "    }\n",
       "</style>\n",
       "<table border=\"1\" class=\"dataframe\">\n",
       "  <thead>\n",
       "    <tr style=\"text-align: right;\">\n",
       "      <th></th>\n",
       "      <th>Y</th>\n",
       "      <th>Treated</th>\n",
       "      <th>pscore</th>\n",
       "      <th>W_ATU_T</th>\n",
       "      <th>W_ATU_C</th>\n",
       "    </tr>\n",
       "  </thead>\n",
       "  <tbody>\n",
       "    <tr>\n",
       "      <th>0</th>\n",
       "      <td>3459</td>\n",
       "      <td>0</td>\n",
       "      <td>0.106292</td>\n",
       "      <td>0.000000</td>\n",
       "      <td>1</td>\n",
       "    </tr>\n",
       "    <tr>\n",
       "      <th>1</th>\n",
       "      <td>3260</td>\n",
       "      <td>0</td>\n",
       "      <td>0.358668</td>\n",
       "      <td>0.000000</td>\n",
       "      <td>1</td>\n",
       "    </tr>\n",
       "    <tr>\n",
       "      <th>2</th>\n",
       "      <td>3572</td>\n",
       "      <td>0</td>\n",
       "      <td>0.190573</td>\n",
       "      <td>0.000000</td>\n",
       "      <td>1</td>\n",
       "    </tr>\n",
       "    <tr>\n",
       "      <th>3</th>\n",
       "      <td>2948</td>\n",
       "      <td>0</td>\n",
       "      <td>0.139211</td>\n",
       "      <td>0.000000</td>\n",
       "      <td>1</td>\n",
       "    </tr>\n",
       "    <tr>\n",
       "      <th>4</th>\n",
       "      <td>2410</td>\n",
       "      <td>0</td>\n",
       "      <td>0.130666</td>\n",
       "      <td>0.000000</td>\n",
       "      <td>1</td>\n",
       "    </tr>\n",
       "    <tr>\n",
       "      <th>...</th>\n",
       "      <td>...</td>\n",
       "      <td>...</td>\n",
       "      <td>...</td>\n",
       "      <td>...</td>\n",
       "      <td>...</td>\n",
       "    </tr>\n",
       "    <tr>\n",
       "      <th>4637</th>\n",
       "      <td>3317</td>\n",
       "      <td>1</td>\n",
       "      <td>0.299040</td>\n",
       "      <td>2.344033</td>\n",
       "      <td>0</td>\n",
       "    </tr>\n",
       "    <tr>\n",
       "      <th>4638</th>\n",
       "      <td>3030</td>\n",
       "      <td>1</td>\n",
       "      <td>0.145164</td>\n",
       "      <td>5.888768</td>\n",
       "      <td>0</td>\n",
       "    </tr>\n",
       "    <tr>\n",
       "      <th>4639</th>\n",
       "      <td>2950</td>\n",
       "      <td>0</td>\n",
       "      <td>0.304181</td>\n",
       "      <td>0.000000</td>\n",
       "      <td>1</td>\n",
       "    </tr>\n",
       "    <tr>\n",
       "      <th>4640</th>\n",
       "      <td>3969</td>\n",
       "      <td>0</td>\n",
       "      <td>0.134881</td>\n",
       "      <td>0.000000</td>\n",
       "      <td>1</td>\n",
       "    </tr>\n",
       "    <tr>\n",
       "      <th>4641</th>\n",
       "      <td>3289</td>\n",
       "      <td>0</td>\n",
       "      <td>0.133464</td>\n",
       "      <td>0.000000</td>\n",
       "      <td>1</td>\n",
       "    </tr>\n",
       "  </tbody>\n",
       "</table>\n",
       "<p>4642 rows × 5 columns</p>\n",
       "</div>"
      ],
      "text/plain": [
       "         Y  Treated    pscore   W_ATU_T  W_ATU_C\n",
       "0     3459        0  0.106292  0.000000        1\n",
       "1     3260        0  0.358668  0.000000        1\n",
       "2     3572        0  0.190573  0.000000        1\n",
       "3     2948        0  0.139211  0.000000        1\n",
       "4     2410        0  0.130666  0.000000        1\n",
       "...    ...      ...       ...       ...      ...\n",
       "4637  3317        1  0.299040  2.344033        0\n",
       "4638  3030        1  0.145164  5.888768        0\n",
       "4639  2950        0  0.304181  0.000000        1\n",
       "4640  3969        0  0.134881  0.000000        1\n",
       "4641  3289        0  0.133464  0.000000        1\n",
       "\n",
       "[4642 rows x 5 columns]"
      ]
     },
     "execution_count": 56,
     "metadata": {},
     "output_type": "execute_result"
    }
   ],
   "source": [
    "df[['Y', 'Treated', 'pscore', 'W_ATU_T', 'W_ATU_C']]"
   ]
  },
  {
   "cell_type": "code",
   "execution_count": 57,
   "id": "4bd1cf33",
   "metadata": {},
   "outputs": [],
   "source": [
    "df['Y_psw_ATU'] = df['Y'] * df['W_ATU_T'] - df['Y'] * df['W_ATU_C']"
   ]
  },
  {
   "cell_type": "code",
   "execution_count": 58,
   "id": "58b2e85f",
   "metadata": {},
   "outputs": [
    {
     "data": {
      "text/plain": [
       "-306.9738860451551"
      ]
     },
     "execution_count": 58,
     "metadata": {},
     "output_type": "execute_result"
    }
   ],
   "source": [
    "df['Y_psw_ATU'].mean()"
   ]
  },
  {
   "cell_type": "markdown",
   "id": "3b55375e",
   "metadata": {},
   "source": [
    "**IPW Normalizado**\n",
    "\n",
    "É comum utilizar a normalização dos pesos de IPW para garantir que a soma dos pesos seja igual a 1. Isso é feito dividindo cada peso pela soma total dos pesos. Isso também ajuda a reduzir a variância dos estimadores ponderados. É conhecido como a forma de Hájek para o PSW."
   ]
  },
  {
   "cell_type": "code",
   "execution_count": 59,
   "id": "5f569c0d",
   "metadata": {},
   "outputs": [],
   "source": [
    "df['Y_psw_ATE_normalized'] = (df['Y'] * df['W_ATE_T'] / df['W_ATE_T'].sum()) - (df['Y'] * df['W_ATE_C'] / df['W_ATE_C'].sum())"
   ]
  },
  {
   "cell_type": "code",
   "execution_count": 62,
   "id": "5bb36201",
   "metadata": {},
   "outputs": [
    {
     "data": {
      "application/vnd.microsoft.datawrangler.viewer.v0+json": {
       "columns": [
        {
         "name": "index",
         "rawType": "int64",
         "type": "integer"
        },
        {
         "name": "Y",
         "rawType": "int16",
         "type": "integer"
        },
        {
         "name": "Treated",
         "rawType": "int64",
         "type": "integer"
        },
        {
         "name": "pscore",
         "rawType": "float64",
         "type": "float"
        },
        {
         "name": "Y_psw_ATE_normalized",
         "rawType": "float64",
         "type": "float"
        }
       ],
       "ref": "282e5fd8-32f2-4cf9-853f-655c93aa241a",
       "rows": [
        [
         "0",
         "3459",
         "0",
         "0.10629165454169723",
         "-0.8301722299250736"
        ],
        [
         "1",
         "3260",
         "0",
         "0.35866758044526553",
         "-1.0903046366255225"
        ],
        [
         "2",
         "3572",
         "0",
         "0.19057339059730785",
         "-0.946558426107532"
        ],
        [
         "3",
         "2948",
         "0",
         "0.13921070171293967",
         "-0.7345884122050788"
        ],
        [
         "4",
         "2410",
         "0",
         "0.13066604705179524",
         "-0.5946259438547844"
        ],
        [
         "5",
         "3147",
         "0",
         "0.3146106152055233",
         "-0.9848561974259372"
        ],
        [
         "6",
         "3799",
         "0",
         "0.14067951727705",
         "-0.9482603310169958"
        ],
        [
         "7",
         "3629",
         "0",
         "0.13631164083338407",
         "-0.9012460101641782"
        ],
        [
         "8",
         "2835",
         "0",
         "0.1320585389185909",
         "-0.7006095960897741"
        ],
        [
         "9",
         "3880",
         "0",
         "0.09998119588244644",
         "-0.9246845374498749"
        ],
        [
         "10",
         "3090",
         "1",
         "0.13921070171293967",
         "4.957034908137078"
        ],
        [
         "11",
         "3345",
         "0",
         "0.29648838069187183",
         "-1.0198546972125295"
        ],
        [
         "12",
         "4013",
         "0",
         "0.11845352473405486",
         "-0.9764216480719652"
        ],
        [
         "13",
         "3771",
         "0",
         "0.21131283523168726",
         "-1.0255697733794809"
        ],
        [
         "14",
         "662",
         "0",
         "0.30418120946859645",
         "-0.2040681793762763"
        ],
        [
         "15",
         "3657",
         "0",
         "0.1334635921623997",
         "-0.9052147021028231"
        ],
        [
         "16",
         "3572",
         "0",
         "0.13921070171293967",
         "-0.8900779540015404"
        ],
        [
         "17",
         "3430",
         "0",
         "0.09824663279503795",
         "-0.8158678138475539"
        ],
        [
         "18",
         "4479",
         "0",
         "0.1513267822099292",
         "-1.1320197880024974"
        ],
        [
         "19",
         "3166",
         "1",
         "0.3146106152055233",
         "2.2473652382976796"
        ],
        [
         "20",
         "4253",
         "0",
         "0.14976617462426223",
         "-1.0729276983246012"
        ],
        [
         "21",
         "4054",
         "0",
         "0.10981990398948589",
         "-0.9768307399841765"
        ],
        [
         "22",
         "3160",
         "0",
         "0.1377547634362935",
         "-0.7860854031297813"
        ],
        [
         "23",
         "2466",
         "0",
         "0.1334635921623997",
         "-0.6104072888667108"
        ],
        [
         "24",
         "3147",
         "1",
         "0.164604221999256",
         "4.269646237608395"
        ],
        [
         "25",
         "3232",
         "0",
         "0.11718512200054686",
         "-0.7852630482077306"
        ],
        [
         "26",
         "3005",
         "0",
         "0.12928605116422726",
         "-0.7402568375205573"
        ],
        [
         "27",
         "1899",
         "0",
         "0.08263011377458175",
         "-0.44401121317906117"
        ],
        [
         "28",
         "4026",
         "0",
         "0.11718512200054686",
         "-0.9781772995310405"
        ],
        [
         "29",
         "3969",
         "0",
         "0.31198512296863534",
         "-1.2373618529038446"
        ],
        [
         "30",
         "4167",
         "0",
         "0.3889107202277938",
         "-1.4626226295972875"
        ],
        [
         "31",
         "4054",
         "0",
         "0.21695801796138545",
         "-1.1104836034988668"
        ],
        [
         "32",
         "3660",
         "0",
         "0.23310972108480407",
         "-1.023673134676821"
        ],
        [
         "33",
         "3997",
         "0",
         "0.08893632028557626",
         "-0.9410200304499887"
        ],
        [
         "34",
         "3980",
         "0",
         "0.1383474178428334",
         "-0.9907505710971036"
        ],
        [
         "35",
         "4111",
         "0",
         "0.35029047922333917",
         "-1.3571932748183326"
        ],
        [
         "36",
         "3090",
         "0",
         "0.14516383106082534",
         "-0.7753343822698744"
        ],
        [
         "37",
         "4082",
         "0",
         "0.14516383106082534",
         "-1.0242443198788436"
        ],
        [
         "38",
         "4196",
         "0",
         "0.10286366076369823",
         "-1.0032068389804256"
        ],
        [
         "39",
         "2790",
         "0",
         "0.07638129152032465",
         "-0.6479252949930243"
        ],
        [
         "40",
         "4082",
         "0",
         "0.14516383106082534",
         "-1.0242443198788436"
        ],
        [
         "41",
         "3089",
         "0",
         "0.0746771410637634",
         "-0.7160412967483811"
        ],
        [
         "42",
         "2580",
         "1",
         "0.35307290223055315",
         "1.6318920961231984"
        ],
        [
         "43",
         "3714",
         "0",
         "0.11973379452122121",
         "-0.9049848802579741"
        ],
        [
         "44",
         "4196",
         "0",
         "0.09297174990533988",
         "-0.9922660191959767"
        ],
        [
         "45",
         "2523",
         "0",
         "0.3802460583217542",
         "-0.8731953333372945"
        ],
        [
         "46",
         "2693",
         "1",
         "0.3093716511355903",
         "1.9439807438037706"
        ],
        [
         "47",
         "3204",
         "0",
         "0.08505962211376049",
         "-0.7511266418593117"
        ],
        [
         "48",
         "3572",
         "1",
         "0.2939492612708967",
         "2.7137834999072963"
        ],
        [
         "49",
         "3385",
         "0",
         "0.1320585389185909",
         "-0.8365303290172436"
        ]
       ],
       "shape": {
        "columns": 4,
        "rows": 4642
       }
      },
      "text/html": [
       "<div>\n",
       "<style scoped>\n",
       "    .dataframe tbody tr th:only-of-type {\n",
       "        vertical-align: middle;\n",
       "    }\n",
       "\n",
       "    .dataframe tbody tr th {\n",
       "        vertical-align: top;\n",
       "    }\n",
       "\n",
       "    .dataframe thead th {\n",
       "        text-align: right;\n",
       "    }\n",
       "</style>\n",
       "<table border=\"1\" class=\"dataframe\">\n",
       "  <thead>\n",
       "    <tr style=\"text-align: right;\">\n",
       "      <th></th>\n",
       "      <th>Y</th>\n",
       "      <th>Treated</th>\n",
       "      <th>pscore</th>\n",
       "      <th>Y_psw_ATE_normalized</th>\n",
       "    </tr>\n",
       "  </thead>\n",
       "  <tbody>\n",
       "    <tr>\n",
       "      <th>0</th>\n",
       "      <td>3459</td>\n",
       "      <td>0</td>\n",
       "      <td>0.106292</td>\n",
       "      <td>-0.830172</td>\n",
       "    </tr>\n",
       "    <tr>\n",
       "      <th>1</th>\n",
       "      <td>3260</td>\n",
       "      <td>0</td>\n",
       "      <td>0.358668</td>\n",
       "      <td>-1.090305</td>\n",
       "    </tr>\n",
       "    <tr>\n",
       "      <th>2</th>\n",
       "      <td>3572</td>\n",
       "      <td>0</td>\n",
       "      <td>0.190573</td>\n",
       "      <td>-0.946558</td>\n",
       "    </tr>\n",
       "    <tr>\n",
       "      <th>3</th>\n",
       "      <td>2948</td>\n",
       "      <td>0</td>\n",
       "      <td>0.139211</td>\n",
       "      <td>-0.734588</td>\n",
       "    </tr>\n",
       "    <tr>\n",
       "      <th>4</th>\n",
       "      <td>2410</td>\n",
       "      <td>0</td>\n",
       "      <td>0.130666</td>\n",
       "      <td>-0.594626</td>\n",
       "    </tr>\n",
       "    <tr>\n",
       "      <th>...</th>\n",
       "      <td>...</td>\n",
       "      <td>...</td>\n",
       "      <td>...</td>\n",
       "      <td>...</td>\n",
       "    </tr>\n",
       "    <tr>\n",
       "      <th>4637</th>\n",
       "      <td>3317</td>\n",
       "      <td>1</td>\n",
       "      <td>0.299040</td>\n",
       "      <td>2.477149</td>\n",
       "    </tr>\n",
       "    <tr>\n",
       "      <th>4638</th>\n",
       "      <td>3030</td>\n",
       "      <td>1</td>\n",
       "      <td>0.145164</td>\n",
       "      <td>4.661442</td>\n",
       "    </tr>\n",
       "    <tr>\n",
       "      <th>4639</th>\n",
       "      <td>2950</td>\n",
       "      <td>0</td>\n",
       "      <td>0.304181</td>\n",
       "      <td>-0.909367</td>\n",
       "    </tr>\n",
       "    <tr>\n",
       "      <th>4640</th>\n",
       "      <td>3969</td>\n",
       "      <td>0</td>\n",
       "      <td>0.134881</td>\n",
       "      <td>-0.984054</td>\n",
       "    </tr>\n",
       "    <tr>\n",
       "      <th>4641</th>\n",
       "      <td>3289</td>\n",
       "      <td>0</td>\n",
       "      <td>0.133464</td>\n",
       "      <td>-0.814124</td>\n",
       "    </tr>\n",
       "  </tbody>\n",
       "</table>\n",
       "<p>4642 rows × 4 columns</p>\n",
       "</div>"
      ],
      "text/plain": [
       "         Y  Treated    pscore  Y_psw_ATE_normalized\n",
       "0     3459        0  0.106292             -0.830172\n",
       "1     3260        0  0.358668             -1.090305\n",
       "2     3572        0  0.190573             -0.946558\n",
       "3     2948        0  0.139211             -0.734588\n",
       "4     2410        0  0.130666             -0.594626\n",
       "...    ...      ...       ...                   ...\n",
       "4637  3317        1  0.299040              2.477149\n",
       "4638  3030        1  0.145164              4.661442\n",
       "4639  2950        0  0.304181             -0.909367\n",
       "4640  3969        0  0.134881             -0.984054\n",
       "4641  3289        0  0.133464             -0.814124\n",
       "\n",
       "[4642 rows x 4 columns]"
      ]
     },
     "execution_count": 62,
     "metadata": {},
     "output_type": "execute_result"
    }
   ],
   "source": [
    "df[['Y', 'Treated', 'pscore', 'Y_psw_ATE_normalized']]"
   ]
  },
  {
   "cell_type": "markdown",
   "id": "a4c44d38",
   "metadata": {},
   "source": [
    "Para recuperar o efeito quando utilizamos os pesos normalizados somamos as contribuições individuais."
   ]
  },
  {
   "cell_type": "code",
   "execution_count": 61,
   "id": "150671e4",
   "metadata": {},
   "outputs": [
    {
     "data": {
      "text/plain": [
       "-234.43712533815778"
      ]
     },
     "execution_count": 61,
     "metadata": {},
     "output_type": "execute_result"
    }
   ],
   "source": [
    "df['Y_psw_ATE_normalized'].sum()"
   ]
  },
  {
   "cell_type": "markdown",
   "id": "a7e17e79",
   "metadata": {},
   "source": [
    "As duas são estimadores diferentes do mesmo alvo (ATE, ATT, ATU).\n",
    "\n",
    "* HT é não-normalizado, pode ter mais variância, mas é não-viesado sob overlap.\n",
    "* Hájek é normalizado, tende a ser mais estável em amostras finitas, mas pode ter um viés pequeno.\n",
    "\n",
    "Por isso o número pode mudar bastante — principalmente se você tiver pesos extremos (como você já viu: alguns > 10). O Hájek “reescala” as contribuições, o que pode puxar o efeito para outro valor."
   ]
  },
  {
   "cell_type": "markdown",
   "id": "b3b2ff42",
   "metadata": {},
   "source": [
    "### Aplicando no Python\n",
    "\n",
    "Para realizar a aplicação direta da ponderação por IPW, com efeito médio do tratamento e seus intervalos de confiança, podemos utilizar a biblioteca `statsmodels` para ajustar um modelo de regressão ponderada.\n"
   ]
  },
  {
   "cell_type": "markdown",
   "id": "9c9f4b26",
   "metadata": {},
   "source": [
    "Aqui calculamos os pesos para os indivíduos tratados e não tratados em uma variável no dataframe."
   ]
  },
  {
   "cell_type": "code",
   "execution_count": null,
   "id": "380087cb",
   "metadata": {},
   "outputs": [],
   "source": [
    "# ATE weights no python\n",
    "df['W_ATE_ols'] = df['Treated'] / df['pscore'] + (1 - df['Treated']) / (1 - df['pscore'])"
   ]
  },
  {
   "cell_type": "markdown",
   "id": "2f5ab507",
   "metadata": {},
   "source": [
    "Depois rodamos a regressão"
   ]
  },
  {
   "cell_type": "code",
   "execution_count": 66,
   "id": "49be178f",
   "metadata": {},
   "outputs": [
    {
     "name": "stdout",
     "output_type": "stream",
     "text": [
      "                            WLS Regression Results                            \n",
      "==============================================================================\n",
      "Dep. Variable:                      Y   R-squared:                       0.040\n",
      "Model:                            WLS   Adj. R-squared:                  0.040\n",
      "Method:                 Least Squares   F-statistic:                     194.9\n",
      "Date:                qui, 21 ago 2025   Prob (F-statistic):           2.03e-43\n",
      "Time:                        11:32:25   Log-Likelihood:                -36594.\n",
      "No. Observations:                4642   AIC:                         7.319e+04\n",
      "Df Residuals:                    4640   BIC:                         7.321e+04\n",
      "Df Model:                           1                                         \n",
      "Covariance Type:            nonrobust                                         \n",
      "==============================================================================\n",
      "                 coef    std err          t      P>|t|      [0.025      0.975]\n",
      "------------------------------------------------------------------------------\n",
      "Intercept   3401.1645     11.754    289.358      0.000    3378.121    3424.208\n",
      "Treated     -234.4371     16.793    -13.960      0.000    -267.360    -201.515\n",
      "==============================================================================\n",
      "Omnibus:                     1345.722   Durbin-Watson:                   2.003\n",
      "Prob(Omnibus):                  0.000   Jarque-Bera (JB):            13048.433\n",
      "Skew:                          -1.100   Prob(JB):                         0.00\n",
      "Kurtosis:                      10.914   Cond. No.                         2.60\n",
      "==============================================================================\n",
      "\n",
      "Notes:\n",
      "[1] Standard Errors assume that the covariance matrix of the errors is correctly specified.\n"
     ]
    }
   ],
   "source": [
    "# Aplicando regressão ponderada (IPTW) para ATE\n",
    "model_ate = smf.wls(\"Y ~ Treated\", data=df, weights=df['W_ATE_ols']).fit()\n",
    "print(model_ate.summary())"
   ]
  },
  {
   "cell_type": "markdown",
   "id": "a842faa5",
   "metadata": {},
   "source": [
    "Repare que uma propriedade importante do WLS (Weighted Least Squares), é que ele já faz a normalização implícita (ele força as médias ponderadas a se alinharem com os pesos), mesmo que nós tenhamos indicado pesos diferentes."
   ]
  },
  {
   "cell_type": "markdown",
   "id": "e5e97f57",
   "metadata": {},
   "source": [
    "Para o ATT:"
   ]
  },
  {
   "cell_type": "code",
   "execution_count": 67,
   "id": "5d926ac8",
   "metadata": {},
   "outputs": [],
   "source": [
    "# ATT weights\n",
    "df['W_ATT_ols'] = df['Treated'] * 1  + (1 - df['Treated']) * (df['pscore'] / (1 - df['pscore']))"
   ]
  },
  {
   "cell_type": "markdown",
   "id": "f4c14487",
   "metadata": {},
   "source": [
    "ATE com peso IPTW apresentou efeito de -234.4371 gramas."
   ]
  },
  {
   "cell_type": "code",
   "execution_count": 68,
   "id": "69fce080",
   "metadata": {},
   "outputs": [
    {
     "name": "stdout",
     "output_type": "stream",
     "text": [
      "                            WLS Regression Results                            \n",
      "==============================================================================\n",
      "Dep. Variable:                      Y   R-squared:                       0.032\n",
      "Model:                            WLS   Adj. R-squared:                  0.032\n",
      "Method:                 Least Squares   F-statistic:                     155.8\n",
      "Date:                qui, 21 ago 2025   Prob (F-statistic):           3.41e-35\n",
      "Time:                        11:35:03   Log-Likelihood:                -37060.\n",
      "No. Observations:                4642   AIC:                         7.412e+04\n",
      "Df Residuals:                    4640   BIC:                         7.414e+04\n",
      "Df Model:                           1                                         \n",
      "Covariance Type:            nonrobust                                         \n",
      "==============================================================================\n",
      "                 coef    std err          t      P>|t|      [0.025      0.975]\n",
      "------------------------------------------------------------------------------\n",
      "Intercept   3350.9689     12.014    278.924      0.000    3327.416    3374.522\n",
      "Treated     -213.3092     17.089    -12.482      0.000    -246.812    -179.807\n",
      "==============================================================================\n",
      "Omnibus:                     1802.084   Durbin-Watson:                   2.029\n",
      "Prob(Omnibus):                  0.000   Jarque-Bera (JB):            22353.766\n",
      "Skew:                          -1.499   Prob(JB):                         0.00\n",
      "Kurtosis:                      13.324   Cond. No.                         2.60\n",
      "==============================================================================\n",
      "\n",
      "Notes:\n",
      "[1] Standard Errors assume that the covariance matrix of the errors is correctly specified.\n"
     ]
    }
   ],
   "source": [
    "# Aplicando regressão ponderada (IPTW) para ATT\n",
    "model_att = smf.wls(\"Y ~ Treated\", data=df, weights=df['W_ATT_ols']).fit()\n",
    "print(model_att.summary())"
   ]
  },
  {
   "cell_type": "markdown",
   "id": "5988fe81",
   "metadata": {},
   "source": [
    "ATT com peso IPTW normalizado é -213.3092"
   ]
  },
  {
   "cell_type": "markdown",
   "id": "7f25c37e",
   "metadata": {},
   "source": [
    "***ATU OLS***"
   ]
  },
  {
   "cell_type": "code",
   "execution_count": 69,
   "id": "d607001a",
   "metadata": {},
   "outputs": [],
   "source": [
    "df['W_ATU_ols'] = df['Treated'] * (1 - df['pscore']) / df['pscore'] + (1 - df['Treated']) * 1"
   ]
  },
  {
   "cell_type": "code",
   "execution_count": 70,
   "id": "76fde23f",
   "metadata": {},
   "outputs": [
    {
     "name": "stdout",
     "output_type": "stream",
     "text": [
      "                            WLS Regression Results                            \n",
      "==============================================================================\n",
      "Dep. Variable:                      Y   R-squared:                       0.042\n",
      "Model:                            WLS   Adj. R-squared:                  0.042\n",
      "Method:                 Least Squares   F-statistic:                     205.0\n",
      "Date:                qui, 21 ago 2025   Prob (F-statistic):           1.58e-45\n",
      "Time:                        11:36:38   Log-Likelihood:                -36580.\n",
      "No. Observations:                4642   AIC:                         7.316e+04\n",
      "Df Residuals:                    4640   BIC:                         7.318e+04\n",
      "Df Model:                           1                                         \n",
      "Covariance Type:            nonrobust                                         \n",
      "==============================================================================\n",
      "                 coef    std err          t      P>|t|      [0.025      0.975]\n",
      "------------------------------------------------------------------------------\n",
      "Intercept   3412.9116     11.684    292.111      0.000    3390.006    3435.817\n",
      "Treated     -239.2346     16.710    -14.317      0.000    -271.994    -206.476\n",
      "==============================================================================\n",
      "Omnibus:                     1339.211   Durbin-Watson:                   1.995\n",
      "Prob(Omnibus):                  0.000   Jarque-Bera (JB):            14747.729\n",
      "Skew:                          -1.055   Prob(JB):                         0.00\n",
      "Kurtosis:                      11.473   Cond. No.                         2.59\n",
      "==============================================================================\n",
      "\n",
      "Notes:\n",
      "[1] Standard Errors assume that the covariance matrix of the errors is correctly specified.\n"
     ]
    }
   ],
   "source": [
    "# Aplicando regressão ponderada (IPTW) para ATU\n",
    "model_atu = smf.wls(\"Y ~ Treated\", data=df, weights=df['W_ATU_ols']).fit()\n",
    "print(model_atu.summary())"
   ]
  },
  {
   "cell_type": "markdown",
   "id": "7003554a",
   "metadata": {},
   "source": [
    "### Doubly Robust Estimation (DR - AIPW)\n",
    "\n",
    "***Doubly Robust Estimation (DR)***\n",
    "\n",
    "* É a ideia geral de combinar Outcome Regression e Inverse Probability Weighting. Um estimador é “duplamente robusto” quando é consistente se pelo menos um dos modelos (de resultado ou de propensão) estiver corretamente especificado. Exemplo clássico: AIPW.\n",
    "\n",
    "***AIPW (Augmented Inverse Probability Weighting)***\n",
    "\n",
    "* É um caso específico de estimador duplamente robusto. A forma canônica do AIPW para o ATE é exatamente aquela fórmula que vou apresentar.\n",
    "\n",
    "\n",
    "***Motivação***\n",
    "\n",
    "Na avaliação de efeitos causais, dois métodos são comuns:  \n",
    "\n",
    "- **Outcome Regression (OR):** modelar diretamente o resultado condicional a $X$ e $D$.  \n",
    "- **Inverse Probability Weighting (IPW):** reponderar as observações pelo escore de propensão $\\hat{p}(X)$.  \n",
    "\n",
    "Cada um é **consistente apenas se o modelo estiver corretamente especificado**.  \n",
    "O **estimador duplamente robusto (Doubly Robust, ou Augmented IPW - AIPW)** combina as duas abordagens, garantindo consistência se **pelo menos um dos modelos estiver correto**.\n",
    "\n",
    "**Modelos básicos**\n",
    "\n",
    "- Tratamento: $D_i \\in \\{0,1\\}$\n",
    "- Covariáveis: $X_i$\n",
    "- Resultado: $Y_i = D_i Y_i(1) + (1-D_i) Y_i(0)$\n",
    "- Propensity score: $p(X) = P(D=1|X)$\n",
    "- Funções de regressão: $\\mu_d(X) = E[Y|D=d,X]$\n",
    "\n",
    "Queremos o efeito médio do tratamento (ATE):\n",
    "\n",
    "$$\n",
    "\\beta_{ATE} = E[Y(1) - Y(0)] \n",
    "$$\n",
    "\n",
    "\n",
    "#### Outcome Regression (OR)\n",
    "\n",
    "O estimador para o ATE é:\n",
    "\n",
    "$$\n",
    "\\hat{\\beta}_{OR} = \\frac{1}{n}\\sum_{i=1}^n \\left[ \\hat{\\mu}_1(X_i) - \\hat{\\mu}_0(X_i) \\right]\n",
    "$$\n",
    "\n",
    "onde $\\hat{\\mu}_d(X)$ é obtido por regressão.\n",
    "\n",
    "\n",
    "#### Inverse Probability Weighting (IPW)\n",
    "\n",
    "O estimador ATE via IPW é:\n",
    "\n",
    "$$\n",
    "\\hat{\\beta}_{IPW} = \\frac{1}{n}\\sum_{i=1}^n \\left( \\frac{D_i Y_i}{\\hat{p}(X_i)} - \\frac{(1-D_i)Y_i}{1-\\hat{p}(X_i)} \\right)\n",
    "$$\n",
    "\n",
    "\n",
    "#### Estimador Doubly Robust (AIPW)\n",
    "\n",
    "O estimador duplamente robusto para o ATE é dado por:\n",
    "\n",
    "$$\n",
    "\\hat{\\beta}_{DR} = \\frac{1}{n}\\sum_{i=1}^n \\Bigg\\{ \\Big(\\hat{\\mu}_1(X_i) - \\hat{\\mu}_0(X_i)\\Big) \\;+\\; \\frac{D_i}{\\hat{p}(X_i)}\\big(Y_i - \\hat{\\mu}_1(X_i)\\big) \\;-\\; \\frac{1-D_i}{1-\\hat{p}(X_i)}\\big(Y_i - \\hat{\\mu}_0(X_i)\\big) \\Bigg\\}\n",
    "$$\n",
    "\n",
    "**Interpretação:**  \n",
    "\n",
    "- O **primeiro termo** ($\\hat{\\mu}_1 - \\hat{\\mu}_0$) é a predição média da regressão de resultados.  \n",
    "- Os **termos adicionais** são “correções” baseadas em resíduos ponderados por IPW.  \n",
    "\n",
    "\n",
    "***Propriedade de Dupla Robustez***\n",
    "\n",
    "- Se $\\hat{\\mu}_d(X)$ estiver corretamente especificado → os resíduos têm média zero, e o estimador DR converge para o ATE mesmo que $\\hat{p}(X)$ esteja errado.  \n",
    "- Se $\\hat{p}(X)$ estiver corretamente especificado → a ponderação corrige vieses da regressão mal especificada, garantindo consistência.  \n",
    "- Se **ambos** estiverem corretos → o estimador é **eficiente** (atinge menor variância assintótica).\n",
    "\n",
    "\n",
    "***Em termos intuitivos:***\n",
    "\n",
    "- O DR é chamado também de **Augmented IPW** porque começa com IPW e **adiciona regressão dos resultados** como “ajuste extra”.  \n",
    "- Outra visão: é uma **regressão de resultados com resíduos reponderados**, de modo que o viés de especificação de um modelo é compensado pelo outro.  \n",
    "\n",
    "\n",
    "**Extensões**\n",
    "\n",
    "- **ATT (Average Treatment Effect on the Treated):** versão análoga existe, com pesos ajustados para focar nos tratados.  \n",
    "\n"
   ]
  },
  {
   "cell_type": "markdown",
   "id": "9875c3fd",
   "metadata": {},
   "source": [
    "### Aplicação em Python\n",
    "\n",
    "Para facilitar a aplicação vamos utilizar uma abordagem moderna chamada ***DR-Learner***.\n",
    "\n",
    "***DR-Learner***\n",
    "* É um meta-algoritmo de Machine Learning (Chernozhukov et al., 2018; Nie & Wager, 2021), que usa a ideia de dupla robustez junto com algoritmos de ML para estimar Conditional Average Treatment Effects (CATE). O DR-Learner aproveita a estrutura AIPW (score de influência duplamente robusto) e depois ajusta modelos de ML em cima disso para obter heterogeneidade do efeito. Portanto, DR-Learner é um desdobramento moderno do AIPW aplicado à estimação de efeitos condicionais (CATE), não sinônimo.\n",
    "\n"
   ]
  },
  {
   "cell_type": "markdown",
   "id": "9b396ef9",
   "metadata": {},
   "source": [
    "## Doubly Robust Estimation (DR)\n",
    "\n",
    "A estimativa duplamente robusta combina uma forma de \"Outcome Regression\" com um modelo de ponderação (ou seja, utilizando o escore de propensão) para estimar o efeito causal sobre um resultado. Quando usados individualmente para estimar um efeito causal, os métodos de regressão de resultados e escore de propensão são não enviesados apenas se o modelo estatístico for especificado corretamente. O **estimador duplamente robusto** combina estas 2 abordagens de modo que apenas 1 dos 2 modelos precisa ser especificado corretamente para obter um estimador de efeito não-viesado.\n",
    "\n",
    "A especificação correta do modelo de regressão é um pressuposto fundamental na análise econométrica. Quando o objetivo é ajustar o fator de confusão, o estimador é consistente (e, portanto, assintoticamente não-enviesado) se o modelo refletir as verdadeiras relações entre a exposição e os fatores de confusão com o resultado. Na prática, nunca poderemos saber se algum modelo específico representa com precisão essas relações. **A estimativa duplamente robusta combina regressão de resultados com ponderação pelo escore de propensão (PS), de modo que o estimador seja robusto à especificação incorreta de um (mas não de ambos) desses modelos**.\n",
    "\n",
    "\n",
    "**Outcome Regression Approach**\n",
    "\n",
    "Vimos que:\n",
    "\n",
    "$$ \\hat{\\beta}_{ATE}^{OR} = E[\\mu_{1}(X) - \\mu_{0}(X)] + E[(Y_{1} - \\mu_{1}(X)) - (Y_{0} - \\mu_{0}(X))] $$\n",
    "\n",
    "e\n",
    "\n",
    "$$ \\hat{\\beta}^{OR}_{ATT} = E[\\mu_{1}(X^{1}) - \\mu_{0}(X^{1})] + E[(Y_{1} - \\mu_{1}(X^{1})) - (Y_{0} - \\mu_{0}(X^{1}))] $$\n",
    "\n",
    "\n",
    "\n",
    "\n",
    "**Approach de Inverse Probability Weighting (IPW)**\n",
    "\n",
    "Nesta abordagem, o viés de confusão é ajustado por meio de técnicas de matching (pareamento) e ponderação pelo escore de propensão (Peso = $W$). As ponderações são calculadas da seguinte forma:\n",
    "\n",
    "$$ W_{ATE} = \\frac{D}{\\hat{p}(X)} + \\frac{1-D}{1-\\hat{p}(X)} $$\n",
    "\n",
    "e,\n",
    "\n",
    "$$ W_{ATT} = D + (1-D)\\frac{\\hat{p}(X)}{1-\\hat{p}(X)} $$\n",
    "\n",
    "\n",
    "**Approach do Doubly Robust Estimation (DR)**\n",
    "\n",
    "A abordagem Doubly Robust Estimation (DR) combina as vantagens das abordagens de Outcome Regression e de Ponderação pela Probabilidade Inversa. Isso proporciona uma maior robustez aos resultados. Os estimadores duplamente robustos para o Average Treatment Effect (ATE) e o Average Treatment Effect on the Treated (ATT) são dados pelas seguintes fórmulas:\n",
    "\n",
    "* **Doubly Robust Estimation for Average Treatment Effect (ATE)**\n",
    "\n",
    "$$ \\hat{\\beta_{ATE}^{DR}} =  \\mathbb{E} \\left[ (\\mu_1(X) - \\mu_0 (X)) \\right] + \\mathbb{E} \\left[ \\frac{D}{\\hat{p}(X)}.(Y_{1} - \\mu_1 (X)) - \\frac{(1-D)}{1-\\hat{p}(X)}.(Y_{0} - \\mu_0 (X)) \\right] $$\n",
    "\n",
    "* **Doubly Robust Estimation for Average Treatment Effect on the Treated (ATT)**\n",
    "\n",
    "$$ \\hat{\\beta_{ATT}^{DR}} = \\mathbb{E} \\left[ (\\mu_1 (X) - \\mu_0 (X)) \\right] + \\mathbb{E} \\left[ D(Y_{1} - \\mu_1 (X)) - \\frac{(1-D)\\hat{p}(X)}{1-\\hat{p}(X)}.(Y_{0} - \\mu_0 (X)) \\right] $$\n",
    "\n",
    "\n",
    "Repare que realizamos um \"ajuste\" nos resíduos da regressão de resultados, ponderando-os pelo escore de propensão. Isso garante que o estimador seja robusto à especificação incorreta de um dos modelos. O \"ajuste\" é essencialmente um estimador IPW realizado sobre os resíduos.\n",
    "\n",
    "Por isso que o Doubly Robust Estimation também é conhecido como Augmented Inverse Probability Weighting (AIPW).\n",
    "\n",
    "**Por que a o estimador Duplamente Robusto (*Augmented Inverse Probability Weighting* - AIPW) é tão atraente?**\n",
    "\n",
    "A razão é que só precisamos de uma das duas previsões, *$\\hat{\\mu}$* ou *$\\hat{p}$*, para que a estimativa seja correta (não enviesada/imparcial). \n",
    "* Se ambos os modelos estiverem corretos, o estimador será mais eficiente do que qualquer um dos modelos sozinho. \n",
    "* Se um dos modelos estiver errado, o estimador ainda será consistente, desde que o outro modelo esteja correto. \n",
    "\n",
    "Isso é uma grande vantagem em relação a outras abordagens, como a regressão de resultados ou a ponderação pelo escore de propensão, que exigem que ambos os modelos estejam corretos para que o estimador seja consistente.\n",
    "\n",
    "Suponha que $\\hat{\\mu}$ esteja especificado corretamente. Então $E[\\hat{\\mu}^{d}(x)=E[Y|X=x, D=d]$ , então o estimador DR é consistente, mesmo que o modelo de propensão $\\hat{p}$ esteja mal especificado.\n",
    "\n",
    "$$ \\hat{\\beta^{DR}} =  \\mathbb{E} \\left[ (\\mu_1(X) - \\mu_0 (X)) +  \\frac{D}{\\hat{p}(X)}.(Y_{1} - \\mu_1 (X)) - \\frac{(1-D)}{1-\\hat{p}(X)}.(Y_{0} - \\mu_0 (X)) \\right] = $$\n",
    "\n",
    "$$  =  \\mathbb{E} \\left[ (\\mu_1(X) - \\mu_0 (X)) \\right] = $$\n",
    "\n",
    "$$  =  \\mathbb{E} \\left[ Y^{1} - Y^{0} \\right] = $$\n",
    "\n",
    "$$ = \\beta $$\n",
    "\n",
    "A intuição é que, se $\\hat{\\mu}$ está **especificado corretamente é imparcial e o fator de ajuste desaparece**, uma vez que os resíduos convergem para zero.\n",
    "\n",
    "\n",
    "Por outro lado, suponha $\\hat{p}$ está especificado corretamente, ou seja, $E[\\hat{p}(X)]=P(D=1|X)$, então o estimador DR é consistente, mesmo que o modelo de resultados $\\hat{\\mu}$ esteja mal especificado.\n",
    "\n",
    "$$ \\hat{\\beta^{DR}} =  \\mathbb{E} \\left[ (\\mu_1(X) - \\mu_0 (X)) +  \\frac{D}{\\hat{p}(X)}.(Y_{1} - \\mu_1 (X)) - \\frac{(1-D)}{1-\\hat{p}(X)}.(Y_{0} - \\mu_0 (X)) \\right] = $$\n",
    "\n",
    "$$ \\mathbb{E} \\left[ \\mu_1(X) - \\mu_0 (X) + \\frac{D}{\\hat{p}(X)}.Y_{1} - \\frac{D}{\\hat{p}(X)}.\\mu_1 (X) - \\frac{(1-D)}{1-\\hat{p}(X)}Y_{0} + \\frac{(1-D)}{1-\\hat{p}(X)}.\\mu_0 (X) \\right] = $$\n",
    "\n",
    "\n",
    "$$ \\mathbb{E} \\left[ \\frac{D}{\\hat{p}(X)}.Y_{1} - \\frac{(1-D)}{1-\\hat{p}(X)}Y_{0} + \\mu_1(X) - \\frac{D}{\\hat{p}(X)}.\\mu_1 (X) + \\frac{(1-D)}{1-\\hat{p}(X)}.\\mu_0 (X) - \\mu_0 (X) \\right] = $$\n",
    "\n",
    "\n",
    "$$ \\mathbb{E} \\left[ \\frac{D}{\\hat{p}(X)}.Y_{1} - \\frac{(1-D)}{1-\\hat{p}(X)}Y_{0} + \\mu_1(X) (1 - \\frac{D}{\\hat{p}(X)}) + \\mu_0 (X)(\\frac{(1-D)}{1-\\hat{p}(X)} - 1) \\right] = $$\n",
    "\n",
    "$$ \\mathbb{E} \\left[ \\frac{D}{\\hat{p}(X)}.Y_{1} - \\frac{(1-D)}{1-\\hat{p}(X)}Y_{0} + \\mu_1(X) (\\frac{\\hat{p}(X) - D}{\\hat{p}(X)}) + \\mu_0 (X)(\\frac{(1-D)- (1-\\hat{p}(X))}{1-\\hat{p}(X)}) \\right] = $$\n",
    "\n",
    "$$ \\mathbb{E} \\left[ \\frac{D}{\\hat{p}(X)}.Y_{1} - \\frac{(1-D)}{1-\\hat{p}(X)}Y_{0} \\right] = $$\n",
    "\n",
    "$$ \\mathbb{E} \\left[ Y^{1} - Y^{0} \\right] = $$\n",
    "\n",
    "$$ = \\beta $$\n",
    "\n",
    "A intuição é que, se $\\hat{p}$ está especificado corretamente, o $\\hat{\\beta}^{DR}$ é imparcial e o fator de ajuste desaparece, uma vez que os resíduos ($D_{i}-\\hat{p}(X)$) convergem para zero.\n"
   ]
  },
  {
   "cell_type": "markdown",
   "id": "517d1973",
   "metadata": {},
   "source": [
    "### Aplicação em Python"
   ]
  },
  {
   "cell_type": "markdown",
   "id": "6c53e315",
   "metadata": {},
   "source": []
  },
  {
   "cell_type": "code",
   "execution_count": null,
   "id": "5d783f23",
   "metadata": {},
   "outputs": [],
   "source": [
    "import statsmodels.formula.api as smf\n",
    "import seaborn as sns\n",
    "from sklearn.linear_model import LinearRegression\n",
    "import numpy as np"
   ]
  },
  {
   "cell_type": "code",
   "execution_count": null,
   "id": "33729140",
   "metadata": {},
   "outputs": [],
   "source": [
    "# Regressão Logística para estimar o escore de propensão\n",
    "logit_model = smf.logit(\"Treated ~ 1 + casada + mage + medu\", data=df).fit()\n",
    "# Imprimindo o modelo\n",
    "print(logit_model.summary())"
   ]
  },
  {
   "cell_type": "code",
   "execution_count": null,
   "id": "973c84cc",
   "metadata": {},
   "outputs": [],
   "source": [
    "# Salvando o escore de propensão no DataFrame\n",
    "df['ps'] = logit_model.predict()"
   ]
  },
  {
   "cell_type": "code",
   "execution_count": null,
   "id": "b2fccb6b",
   "metadata": {},
   "outputs": [],
   "source": [
    "# Verificar graficamente a área de sobreposição\n",
    "sns.histplot(data=df, x='ps', hue='Treated', bins=100, stat='density', common_norm=False).\\\n",
    "    set(ylabel=\"\", title=\"Distribution of Propensity Scores\");"
   ]
  },
  {
   "cell_type": "markdown",
   "id": "eed6e16f",
   "metadata": {},
   "source": [
    "Agora vamos calcular os pesos IPW para o ATE e ATT."
   ]
  },
  {
   "cell_type": "code",
   "execution_count": null,
   "id": "031d95ee",
   "metadata": {},
   "outputs": [],
   "source": [
    "# Inverse Probability of Treatment Weight (IPTW)\n",
    "\n",
    "# Peso para o efeito médio do tratamento (ATE)\n",
    "df['W1'] = 1 / df['ps']\n",
    "df.loc[df['Treated'] == 0, 'W1'] = 0\n",
    "df['W2'] = 1 / (1 - df['ps'])\n",
    "df.loc[df['Treated'] == 1, 'W2'] = 0\n",
    "\n",
    "# Peso para o efeito médio do tratamento nos tratados (ATT)\n",
    "df['W_ATE'] = df['W1'] + df['W2']\n",
    "df['W_ATT'] = df['ps'] / (1 - df['ps'])\n",
    "df.loc[df['Treated'] == 1, 'W_ATT'] = 1"
   ]
  },
  {
   "cell_type": "markdown",
   "id": "e33d2c5f",
   "metadata": {},
   "source": [
    "A título de curiosidade, podemos estimar o efeito médio do tratamento para os tratados (ATT) e o efeito médio do tratamento (ATE) utilizando o método de Ponderação pelo Escore de Propensão (IPW). Para isso, basta rodar a regressão linear considerando como peso amostral os valores de $W_{ATE}$ e $W_{ATT}$, respectivamente."
   ]
  },
  {
   "cell_type": "code",
   "execution_count": null,
   "id": "d0109f67",
   "metadata": {},
   "outputs": [],
   "source": [
    "#Propensity Score Weighting - ATE\n",
    "psw_ate = smf.wls(\"Y ~ Treated\", weights=df['W_ATE'], data=df).fit()\n",
    "print(psw_ate.summary())"
   ]
  },
  {
   "cell_type": "code",
   "execution_count": null,
   "id": "5f0746e0",
   "metadata": {},
   "outputs": [],
   "source": [
    "#Propensity Score Weighting - ATT\n",
    "psw_att = smf.wls(\"Y ~ Treated\", weights=df['W_ATT'], data=df).fit()\n",
    "print(psw_att.summary())"
   ]
  },
  {
   "cell_type": "markdown",
   "id": "caa4a910",
   "metadata": {},
   "source": [
    "Repare que podemos obter os mesmos resultados utilizando o pacote pyDRReg."
   ]
  },
  {
   "cell_type": "code",
   "execution_count": null,
   "id": "9ada410e",
   "metadata": {},
   "outputs": [],
   "source": [
    "from pyDRReg.pyDRReg import pyDRReg\n",
    "\n",
    "T_var = 'Treated'\n",
    "Y_var = 'Y'\n",
    "X_vars = ['casada', 'mage', 'medu']\n",
    "\n",
    "IPW_att = pyDRReg(df, X_vars, T_var, Y_var, method='att', estimator='IPW', n_bootstrap=50, seed=44)\n",
    "\n",
    "print(IPW_att.summary())"
   ]
  },
  {
   "cell_type": "code",
   "execution_count": null,
   "id": "2d21d951",
   "metadata": {},
   "outputs": [],
   "source": [
    "from pyDRReg.pyDRReg import pyDRReg\n",
    "\n",
    "T_var = 'Treated'\n",
    "Y_var = 'Y'\n",
    "X_vars = ['casada', 'mage', 'medu']\n",
    "\n",
    "IPW_ate = pyDRReg(df, X_vars, T_var, Y_var, method='ate', estimator='IPW', n_bootstrap=50, seed=44)\n",
    "\n",
    "print(IPW_ate.summary())"
   ]
  },
  {
   "cell_type": "markdown",
   "id": "df02f063",
   "metadata": {},
   "source": [
    "**Estimativa Duplamente Robusta**\n",
    "\n",
    "Agora temos todos os componentes para estimar o DR para ATE e o ATT, vamos fazer \"na mão\"."
   ]
  },
  {
   "cell_type": "code",
   "execution_count": null,
   "id": "7691d527",
   "metadata": {},
   "outputs": [],
   "source": [
    "# DR-ATE\n",
    "DR_ATE = mu1 - mu0 + df[\"Treated\"] / df[\"ps\"] * (df[\"Y\"] - mu1) - (1-df[\"Treated\"]) / (1-df[\"ps\"]) * (df[\"Y\"] - mu0)\n",
    "print(np.mean(DR_ATE))"
   ]
  },
  {
   "cell_type": "code",
   "execution_count": null,
   "id": "b7192631",
   "metadata": {},
   "outputs": [],
   "source": [
    "# DR-ATT\n",
    "DR_ATT = mu1 - mu0 + df[\"Treated\"] * (df[\"Y\"] - mu1) - (1-df[\"Treated\"])*df[\"ps\"] / (1-df[\"ps\"]) * (df[\"Y\"] - mu0)\n",
    "print(np.mean(DR_ATT))"
   ]
  },
  {
   "cell_type": "markdown",
   "id": "4bb287c1",
   "metadata": {},
   "source": [
    "Podemos utilizar o pacote pyDRReg para obter os mesmos resultados."
   ]
  },
  {
   "cell_type": "code",
   "execution_count": null,
   "id": "bb7a919f",
   "metadata": {},
   "outputs": [],
   "source": [
    "from pyDRReg.pyDRReg import pyDRReg\n",
    "\n",
    "T_var = 'Treated'\n",
    "Y_var = 'Y'\n",
    "X_vars = ['casada', 'mage', 'medu']\n",
    "\n",
    "DR_ate = pyDRReg(df, X_vars, T_var, Y_var, method='ate', estimator='DR', n_bootstrap=50, seed=44)\n",
    "\n",
    "print(DR_ate.summary())"
   ]
  },
  {
   "cell_type": "code",
   "execution_count": null,
   "id": "ceba90b2",
   "metadata": {},
   "outputs": [],
   "source": [
    "from pyDRReg.pyDRReg import pyDRReg\n",
    "\n",
    "T_var = 'Treated'\n",
    "Y_var = 'Y'\n",
    "X_vars = ['casada', 'mage', 'medu']\n",
    "\n",
    "DR_att = pyDRReg(df, X_vars, T_var, Y_var, method='att', estimator='DR', n_bootstrap=50, seed=44)\n",
    "\n",
    "print(DR_att.summary())"
   ]
  },
  {
   "cell_type": "markdown",
   "id": "721ad1b8",
   "metadata": {},
   "source": [
    "Esse tipo de estimador é bastante importante na literatura. E já possui alguns estimadores que realizam as estimações de forma direta. Por exemplo, poderíamos computar diretamente com 'LinearDRLearner' da biblioteca 'EconML' da Microsoft (EconML - Estimate causal effects with ML).\n",
    "\n",
    "obs: https://www.microsoft.com/en-us/research/project/econml/"
   ]
  },
  {
   "cell_type": "code",
   "execution_count": null,
   "id": "95c76e3e",
   "metadata": {},
   "outputs": [],
   "source": [
    "from sklearn.linear_model import LogisticRegression, LinearRegression\n",
    "from econml.dr import LinearDRLearner"
   ]
  },
  {
   "cell_type": "code",
   "execution_count": null,
   "id": "0e44d3ff",
   "metadata": {},
   "outputs": [],
   "source": [
    "X = df[['casada', 'mage', 'medu']]"
   ]
  },
  {
   "cell_type": "code",
   "execution_count": null,
   "id": "5b4c8703",
   "metadata": {},
   "outputs": [],
   "source": [
    "model = LinearDRLearner(model_propensity=LogisticRegression(), \n",
    "                        model_regression=LinearRegression(),\n",
    "                        random_state=1)\n",
    "model.fit(Y=df[\"Y\"], T=df[\"Treated\"], X=X);"
   ]
  },
  {
   "cell_type": "code",
   "execution_count": null,
   "id": "e8e975a4",
   "metadata": {},
   "outputs": [],
   "source": [
    "model.ate_inference(X=X.values, T0=0, T1=1).summary().tables[0]"
   ]
  },
  {
   "cell_type": "markdown",
   "id": "17bff262",
   "metadata": {},
   "source": [
    "O modelo nos dá diretamente o efeito médio do tratamento. A estimativa é estatisticamente diferente de zero e o intervalo de confiança inclui o valor verdadeiro de -229,17. Observe que obtivemos uma estimativa diferente porque a função **LinearDRLearner** também realizou o cross-fitting em segundo plano, o que não fizemos antes. Ele não calcula o ATT.\n",
    "\n",
    "Outro pacote importante é o \"causalml\" (https://causalml.readthedocs.io/en/latest/about.html).\n",
    "\n"
   ]
  },
  {
   "cell_type": "markdown",
   "id": "dbaf35ef",
   "metadata": {},
   "source": [
    "## Boas práticas\n",
    "\n",
    "* Verifique o balanço das covariáveis.\n",
    "  * Tanto o IPW quanto o DR (AIPW) foram desenvolvidos para ambientes nos quais o tratamento não é atribuído aleatoriamente incondicionalmente, mas pode depender de algumas variáveis observáveis. Essas informações podem ser verificadas de duas maneiras: \n",
    "    * (1) Produza uma tabela de médias/equilíbrio das covariáveis. Se a randomização incondicional não for válida, esperamos ver diferenças significativas entre alguns observáveis; \n",
    "    * (2) Trace os escores de propensão estimados. Se a randomização incondicional for válida, esperamos que os escores de propensão sejam constantes.\n",
    "* Verifique a suposição de sobreposição.\n",
    "  * Podemos simplesmente verificar os limites dos escores de propensão previstos. Se a suposição de sobreposição for violada, acabamos dividindo algum termo do estimador por zero."
   ]
  }
 ],
 "metadata": {
  "kernelspec": {
   "display_name": "Python 3",
   "language": "python",
   "name": "python3"
  },
  "language_info": {
   "codemirror_mode": {
    "name": "ipython",
    "version": 3
   },
   "file_extension": ".py",
   "mimetype": "text/x-python",
   "name": "python",
   "nbconvert_exporter": "python",
   "pygments_lexer": "ipython3",
   "version": "3.11.5"
  }
 },
 "nbformat": 4,
 "nbformat_minor": 5
}
