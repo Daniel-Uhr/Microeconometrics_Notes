{
 "cells": [
  {
   "cell_type": "markdown",
   "metadata": {},
   "source": [
    "# Ortogonalização e o *Double Machine Learning* (DML)\n",
    "\n",
    "Prof. Daniel de Abreu Pereira Uhr\n",
    "\n",
    "## Conteúdo\n",
    "\n",
    "* Ortogonalização\n",
    "  * Aplicação do Procedimento de Ortogonalização no Python\n",
    "* DML - Orthogonal/Double Machine Learning\n",
    "  * Partially Linear Regression Models (PLR)\n",
    "  * Aplicações do DML-Manual para identificar o ATE\n",
    "  * Aplicações do DML com EconML e DoubleML para identificar o ATE\n",
    "  * Outros Modelos de DML para identificar o ATE\n",
    "    * Partially Linear IV Regression Models (PLIV)\n",
    "    * Interactive regression models (IRM)\n",
    "    * Interactive IV regression models (IIVM)\n",
    "* Estimação do CATE com DML no Python\n",
    "\n",
    "\n",
    "## Referências\n",
    "\n",
    "**Principais:**\n",
    "* Chernozhukov, V., Chetverikov, D., Demirer, M., Duflo, E., Hansen, C., Newey, W., & Robins, J. (2018). Double/debiased machine learning for treatment and structural parameters. The Econometrics Journal, Volume 21, Issue 1, 1 February 2018, Pages C1–C68, https://doi.org/10.1111/ectj.12097\n",
    "  \n",
    "* Microsoft EconML: https://econml.azurewebsites.net/\n",
    "* UBER CausalML: https://causalml.readthedocs.io/en/latest/\n",
    "* DoubleML for python: https://github.com/DoubleML/doubleml-for-py ou https://docs.doubleml.org/stable/index.html\n",
    "\n",
    "**Complementares:**\n",
    "* Chernozhukov, V. and C. Hansen (2004). The effects of 401 (k) participation on the wealth distribution: an instrumental quantile regression analysis. Review of Economics and Statistics 86, 735–51. \n",
    "* Chernozhukov, V., D. Chetverikov and K. Kato (2014). Gaussian approximation of suprema of empirical processes. Annals of Statistics 42, 1564–97. \n",
    "* Chernozhukov, V., J. Escanciano, H. Ichimura, W. Newey and J. Robins (2016). Locally robust semiparametric estimation. Preprint (arXiv:1608.00033). \n",
    "* Chernozhukov, V., C. Hansen and M. Spindler (2015a). Post-selection and post-regularization inference in linear models with very many controls and instruments. Americal Economic Review: Papers and Proceedings 105, 486–90. \n",
    "* Chernozhukov, V., C. Hansen and M. Spindler (2015b). Valid post-selection and post-regularization inference: an elementary, general approach. Annual Review of Economics 7, 649–88.\n",
    "* Bach, P., Chernozhukov, V., Kurz, M. S., and Spindler, M. (2022), DoubleML - An Object-Oriented Implementation of Double Machine Learning in Python, Journal of Machine Learning Research, 23(53): 1-6, https://www.jmlr.org/papers/v23/21-0862.html.\n",
    "* Bach, P., Chernozhukov, V., Kurz, M. S., Spindler, M. and Klaassen, S. (2024), DoubleML - An Object-Oriented Implementation of Double Machine Learning in R, Journal of Statistical Software, 108(3): 1-56, doi:10.18637/jss.v108.i03, arXiv:2103.09603.\n",
    "* Chernozhukov, V., Chetverikov, D., Demirer, M., Duflo, E., Hansen, C., Newey, W. and Robins, J. (2018), Double/debiased machine learning for treatment and structural parameters. The Econometrics Journal, 21: C1-C68, doi:10.1111/ectj.12097.\n",
    "* Lang, M., Binder, M., Richter, J., Schratz, P., Pfisterer, F., Coors, S., Au, Q., Casalicchio, G., Kotthoff, L. and Bischl, B. (2019), mlr3: A modern object-oriented machine learing framework in R. Journal of Open Source Software, doi:10.21105/joss.01903.\n",
    "* Pedregosa, F., Varoquaux, G., Gramfort, A., Michel, V., Thirion, B., Grisel, O., Blondel, M., Prettenhofer, P., Weiss, R., Dubourg, V., Vanderplas, J., Passos, A., Cournapeau, D., Brucher, M., Perrot, M. and Duchesnay, E. (2011), Scikit-learn: Machine Learning in Python. Journal of Machine Learning Research, 12: 2825–2830, https://jmlr.csail.mit.edu/papers/v12/pedregosa11a.html.\n",
    "\n",
    "\n",
    "**Observações:** O material apresentado aqui é uma adaptação do material de aula do Prof. Daniel de Abreu Pereira Uhr, e não deve ser utilizado para fins comerciais. O material é disponibilizado para fins educacionais e de pesquisa, e não deve ser reproduzido sem a devida autorização do autor. Este material pode conter erros e imprecisões. O autor não se responsabiliza por quaisquer danos ou prejuízos decorrentes do uso deste material. O uso deste material é de responsabilidade exclusiva do usuário. Caso você encontre erros ou imprecisões neste material, por favor, entre em contato com o autor para que possam ser corrigidos. O autor agradece qualquer *feedback* ou sugestão de melhoria.\n",
    "\n",
    "---"
   ]
  },
  {
   "cell_type": "markdown",
   "metadata": {},
   "source": [
    "## Ortogonalização\n",
    "\n",
    "A ideia de ortogonalização é baseada em um teorema elaborado por três econometristas em 1933, Ragnar Frisch, Frederick V. Waugh e Michael C. Lovell. Simplificando, afirma que você pode decompor qualquer modelo de regressão linear multivariável em três estágios ou modelos. \n",
    "\n",
    "Digamos que você tem uma matriz de covariáveis $X$, e voce particiona ela em duas partes, $X_{1}$ e $D$. \n",
    "\n",
    "* **Primeira Etapa**\n",
    "\n",
    "Pegamos o primeiro conjunto de variáveis $X_{1}$ e fazemos uma regressão linear de $X_{1}$ em $Y$, onde $\\theta_{1}$ é o vetor de parâmetros\n",
    "\n",
    "$$ y_{i} = \\theta_{0} + \\theta_{1} X_{1i} + \\epsilon_{i}$$\n",
    "\n",
    "e guardamos os resíduos dessa regressão ($y^{*}$).\n",
    "\n",
    "$$ y^{*}_{i} = y_{i} - \\hat{y}_{i} = y_{i} - ( \\hat{\\theta}_{0} + \\hat{\\theta}_{1} X_{1i} )$$\n",
    "\n",
    "* **Segunda Etapa**\n",
    "\n",
    "Pegamos novamente o primeiro conjunto de características, mas agora executamos um modelo onde estimamos o segundo conjunto de características ($D$)\n",
    "\n",
    "$$ D_{i} = \\gamma_{0} + \\gamma_{1} X_{1i} + e_{i}$$\n",
    "\n",
    "Aqui, estamos usando o primeiro conjunto de recursos para prever o segundo conjunto de recursos. Por fim, consideramos também os resíduos desta segunda etapa.\n",
    "\n",
    "$$ D_{i}^{*} = D_{i} - (\\hat{\\gamma_{0}} + \\hat{\\gamma_{1}} X_{1i})$$\n",
    "\n",
    "* **Terceira etapa**\n",
    "\n",
    "Por fim, pegamos os resíduos do primeiro e do segundo estágio e estimamos o seguinte modelo\n",
    "\n",
    "$$ y_{i}^{*} = \\alpha_{0} + \\beta_{2} D_{i}^{*} + e_{i}$$\n",
    "\n",
    "\n",
    "* **Teorema Frisch – Waugh – Lovell (FWL)**\n",
    "\n",
    "O teorema FWL afirma que a estimativa do parâmetro $\\hat{\\beta}_{2}$ (ATE), estimado anteriormente, é equivalente ao que obtemos ao executar a regressão completa, com todas as covariáveis.\n",
    "\n",
    "$$ y_{i} = \\beta_{0} + \\beta_{1} X_{1i} + \\beta_{2} D_{i} + e_{i}$$\n",
    "\n",
    "\n",
    "**Intuição do teorema FWL**\n",
    "\n",
    "Sabemos que a regressão é um modelo muito especial. Cada um de seus parâmetros tem a interpretação de uma derivada parcial, quanto seria Y se X aumentasse em uma unidade, mantendo todos as outras covariáveis constantes. Sabemos também que se omitirmos variáveis ​​da regressão, teremos viés. Especificamente, viés variável omitido (ou viés de confusão). Ainda assim, Frisch-Waugh-Lovell está dizendo que posso dividir meu modelo de regressão em duas partes, nenhuma delas contendo o conjunto completo de recursos, e ainda assim obter a mesma estimativa que obteria executando a regressão inteira. \n",
    "\n",
    "O teorema fornece algumas dicas sobre o que a regressão linear está fazendo. Para obter o coeficiente de uma variável $X_{k}$, a regressão primeiro usa todas as outras variáveis ​​para prever $X_{k}$ e pega os resíduos. Isso “limpa” $X_{k}$ de qualquer influência dessas variáveis. Dessa forma, quando tentamos entender o impacto de $X_{k}$ sobre $Y$, estará livre de viés de variável omitida. Em segundo lugar, a regressão usa todas as outras variáveis ​​para prever $Y$ e pega os resíduos. Isso “limpa” $Y$ de qualquer influência dessas variáveis, reduzindo a variância de $Y$ para que seja mais fácil ver como $X_{k}$ afeta $Y$.\n",
    "\n",
    "A regressão linear está estimando o impacto de $D$ sobre $y$ enquanto contabiliza $X_{1}$. Isso é importante para inferência causal. \n",
    "\n",
    "Assim, podemos construir um modelo que preveja um tratamento ($D$) usando as covariáveis $X$, um modelo que prevê o resultado $y$ usando as mesmas covariáveis, pegar os resíduos de ambos os modelos e executar um modelo que estime como o resíduo de $D$ afetam os resíduos de $y$. Este último modelo vai me dizer como $D$ afeta $y$ enquanto controla por $X$. \n",
    "\n",
    "Ou seja, **os dois primeiros modelos controlam as variáveis de confusão**. Eles estão **gerando dados que são praticamente aleatórios**. Lembre que é isso que estaria distorcendo seus dados. Então, usamos no modelo final para estimar o efeito causal de interesse **Average Treatment Effect - ATE**."
   ]
  },
  {
   "cell_type": "markdown",
   "metadata": {},
   "source": [
    "### Aplicação do Procedimento de Ortogonalização no Python\n",
    "\n",
    "Vamos aplicar o procedimento de ortogonalização considerando um modelo de regressão linear simples. Vamos realizar a orgonalização supondo linearidade entre as variáveis para entender o conceito. Posteriormente, vamos aplicar o procedimento de ortogonalização em um modelo de machine learning. "
   ]
  },
  {
   "cell_type": "code",
   "execution_count": 43,
   "metadata": {},
   "outputs": [],
   "source": [
    "import pandas as pd\n",
    "import numpy as np\n",
    "import statsmodels.formula.api as smf\n",
    "import warnings\n",
    "warnings.filterwarnings(\"ignore\", message=\"\\'force_all_finite\\' was renamed to \\'ensure_all_finite\\'\")\n"
   ]
  },
  {
   "cell_type": "code",
   "execution_count": 48,
   "metadata": {},
   "outputs": [],
   "source": [
    "# DataFrame\n",
    "df = pd.read_stata(\"https://github.com/Daniel-Uhr/data/raw/main/cattaneo2.dta\")"
   ]
  },
  {
   "cell_type": "code",
   "execution_count": 50,
   "metadata": {},
   "outputs": [],
   "source": [
    "# Criar a variável de resultado\n",
    "df['Y'] = df['bweight']\n",
    "\n",
    "# Criar a variável 'Treated' com valor 1 se 'mbsmoke' for 'smoker', caso contrário 0\n",
    "df['D'] = np.where(df['mbsmoke'] == 'smoker', 1, 0)\n",
    "\n",
    "# Criar a variável 'casada' com valor 1 se 'mmarried' for 'married', caso contrário 0\n",
    "df['casada'] = np.where(df['mmarried'] == 'married', 1, 0)"
   ]
  },
  {
   "cell_type": "markdown",
   "metadata": {},
   "source": [
    "Para desviar este conjunto de dados, precisaremos de dois modelos. O primeiro modelo, vamos chamá-lo $M_{D}(X)$, prevê o tratamento (Se a gestante é fumante, no nosso caso) utilizando os confundidores. É um dos estágios que vimos acima, no teorema de Frisch–Waugh–Lovell.\n",
    "\n",
    "Assim que tivermos este modelo, construiremos os resíduos\n",
    "\n",
    "$$ D_{i}^{*} = D_{i} - M_{D}(X_{i})$$"
   ]
  },
  {
   "cell_type": "code",
   "execution_count": 56,
   "metadata": {},
   "outputs": [],
   "source": [
    "m_D = smf.ols(\"D ~ 1 + casada + mage + medu + fhisp + mhisp + foreign + alcohol + deadkids + nprenatal + mrace + frace + fage + fedu\", data=df).fit()\n",
    "df['D_star'] = df['D'] - m_D.predict(df)"
   ]
  },
  {
   "cell_type": "markdown",
   "metadata": {},
   "source": [
    "Você pode pensar neste resíduo como uma versão do tratamento que é imparcial ou, melhor ainda, que é impossível de prever a partir dos fatores de confusão $X$. Como os fatores de confusão já eram usados ​​para prever $D$, o resíduo é, por definição, imprevisível com com $X$. Outra maneira de dizer isso é que o viés foi explicado pelo modelo $M_{D}(X)$, produzindo $D_{i}^{*}$ que é tão bom quanto atribuído aleatoriamente. É claro que isso só funciona se tivermos em $X$ todos os fatores de confusão que causam ambos $D$ e $Y$."
   ]
  },
  {
   "cell_type": "markdown",
   "metadata": {},
   "source": [
    "Também podemos construir resíduos para o resultado.\n",
    "\n",
    "$$ y_{i}^{*} = y_{i} - M_{y}(X_{i})$$\n",
    "\n",
    "\n",
    "Este é outro estágio do teorema de Frisch – Waugh – Lovell. Isso não torna o conjunto menos tendencioso, mas facilita a estimativa do efeito, reduzindo a variância em $y$. Mais uma vez você pode pensar $y_{i}^{*}$ como uma versão de $y_{i}$ imprevisível de $X$ ou que teve todas as suas variações devido a $X$ explicadas. Pense nisso. Nós já usamos $X$ para prever $y$ com $M_{y}(X_{i})$. E $y_{i}^{*}$ é o erro dessa previsão. Então, por definição, não é possível prever isso a partir de $X$. Todas as informações em $X$ para prever $y$ já foram usadas. Se for esse o caso, a única coisa que resta para explicar $y_{i}^{*}$ é algo que não usamos usamos para construí-lo (não incluído em $X$), que é apenas o tratamento (novamente, assumindo que não há fatores de confusão não medidos).\n"
   ]
  },
  {
   "cell_type": "code",
   "execution_count": 57,
   "metadata": {},
   "outputs": [],
   "source": [
    "m_y = smf.ols(\"Y ~  1 + casada + mage + medu + fhisp + mhisp + foreign + alcohol + deadkids + nprenatal + mrace + frace + fage + fedu\", data=df).fit()\n",
    "df['y_star'] = df['Y'] - m_y.predict(df)"
   ]
  },
  {
   "cell_type": "markdown",
   "metadata": {},
   "source": [
    "Por fim, aplicando o teorema para o segundo estágio,\n",
    "\n",
    "$$ y_{i}^{*} = \\alpha_{0} + \\beta_{2} D_{i}^{*} + e_{i}$$\n"
   ]
  },
  {
   "cell_type": "code",
   "execution_count": 58,
   "metadata": {},
   "outputs": [
    {
     "name": "stdout",
     "output_type": "stream",
     "text": [
      "                            OLS Regression Results                            \n",
      "==============================================================================\n",
      "Dep. Variable:                 y_star   R-squared:                       0.021\n",
      "Model:                            OLS   Adj. R-squared:                  0.021\n",
      "Method:                 Least Squares   F-statistic:                     100.6\n",
      "Date:                Wed, 27 Aug 2025   Prob (F-statistic):           1.91e-23\n",
      "Time:                        20:12:08   Log-Likelihood:                -35858.\n",
      "No. Observations:                4642   AIC:                         7.172e+04\n",
      "Df Residuals:                    4640   BIC:                         7.173e+04\n",
      "Df Model:                           1                                         \n",
      "Covariance Type:            nonrobust                                         \n",
      "==============================================================================\n",
      "                 coef    std err          t      P>|t|      [0.025      0.975]\n",
      "------------------------------------------------------------------------------\n",
      "Intercept   1.586e-11      8.041   1.97e-12      1.000     -15.764      15.764\n",
      "D_star      -220.0220     21.932    -10.032      0.000    -263.020    -177.024\n",
      "==============================================================================\n",
      "Omnibus:                      553.208   Durbin-Watson:                   1.999\n",
      "Prob(Omnibus):                  0.000   Jarque-Bera (JB):             1427.823\n",
      "Skew:                          -0.673   Prob(JB):                    8.96e-311\n",
      "Kurtosis:                       5.360   Cond. No.                         2.73\n",
      "==============================================================================\n",
      "\n",
      "Notes:\n",
      "[1] Standard Errors assume that the covariance matrix of the errors is correctly specified.\n"
     ]
    }
   ],
   "source": [
    "FWL1 = smf.ols(\"y_star ~ D_star\", data=df).fit()\n",
    "print(FWL1.summary())"
   ]
  },
  {
   "cell_type": "markdown",
   "metadata": {},
   "source": [
    "Podemos comparar o resultado com o OLS tradicional que considera diretamente todas as covariáveis:"
   ]
  },
  {
   "cell_type": "code",
   "execution_count": 59,
   "metadata": {},
   "outputs": [
    {
     "name": "stdout",
     "output_type": "stream",
     "text": [
      "                            OLS Regression Results                            \n",
      "==============================================================================\n",
      "Dep. Variable:                      Y   R-squared:                       0.104\n",
      "Model:                            OLS   Adj. R-squared:                  0.102\n",
      "Method:                 Least Squares   F-statistic:                     38.49\n",
      "Date:                Wed, 27 Aug 2025   Prob (F-statistic):          5.80e-100\n",
      "Time:                        20:12:10   Log-Likelihood:                -35858.\n",
      "No. Observations:                4642   AIC:                         7.175e+04\n",
      "Df Residuals:                    4627   BIC:                         7.184e+04\n",
      "Df Model:                          14                                         \n",
      "Covariance Type:            nonrobust                                         \n",
      "==============================================================================\n",
      "                 coef    std err          t      P>|t|      [0.025      0.975]\n",
      "------------------------------------------------------------------------------\n",
      "Intercept   2851.5203     54.983     51.861      0.000    2743.727    2959.314\n",
      "D           -220.0220     21.963    -10.018      0.000    -263.080    -176.964\n",
      "casada        42.7633     23.589      1.813      0.070      -3.482      89.009\n",
      "mage           3.2878      1.935      1.699      0.089      -0.506       7.082\n",
      "medu          -1.5659      4.130     -0.379      0.705      -9.664       6.532\n",
      "fhisp        -22.9258     63.841     -0.359      0.720    -148.084     102.232\n",
      "mhisp         15.0538     68.152      0.221      0.825    -118.557     148.664\n",
      "foreign       -6.8607     39.628     -0.173      0.863     -84.550      70.828\n",
      "alcohol       -9.5560     46.486     -0.206      0.837    -100.690      81.578\n",
      "deadkids     -13.8988     18.872     -0.736      0.461     -50.897      23.099\n",
      "nprenatal     26.1331      2.328     11.225      0.000      21.569      30.697\n",
      "mrace        176.3951     44.950      3.924      0.000      88.272     264.518\n",
      "frace         50.9355     44.172      1.153      0.249     -35.663     137.534\n",
      "fage          -0.9152      1.194     -0.767      0.443      -3.256       1.425\n",
      "fedu           1.0262      3.139      0.327      0.744      -5.128       7.180\n",
      "==============================================================================\n",
      "Omnibus:                      553.208   Durbin-Watson:                   1.999\n",
      "Prob(Omnibus):                  0.000   Jarque-Bera (JB):             1427.823\n",
      "Skew:                          -0.673   Prob(JB):                    8.96e-311\n",
      "Kurtosis:                       5.360   Cond. No.                         485.\n",
      "==============================================================================\n",
      "\n",
      "Notes:\n",
      "[1] Standard Errors assume that the covariance matrix of the errors is correctly specified.\n"
     ]
    }
   ],
   "source": [
    "ols = smf.ols(\"Y ~ D + 1 + casada + mage + medu + fhisp + mhisp + foreign + alcohol + deadkids + nprenatal + mrace + frace + fage + fedu\", data=df).fit()\n",
    "print(ols.summary())"
   ]
  },
  {
   "cell_type": "markdown",
   "metadata": {},
   "source": [
    "Realmente o teorema de Frisch-Waugh-Lovell funciona mesmo."
   ]
  },
  {
   "cell_type": "markdown",
   "metadata": {},
   "source": [
    "Podemos concluir que depois de fazermos as duas transformações, a única coisa que resta para prever esses resíduos é o tratamento. "
   ]
  },
  {
   "cell_type": "markdown",
   "metadata": {},
   "source": [
    "Para resumir, ao prever o tratamento, construímos $D^{*}$ que funciona como uma versão imparcial do tratamento; ao prever o resultado, construímos $y^{*}$ que é uma versão do resultado que só pode ser explicada se usarmos o tratamento. Esses dados, onde substituímos por $y$ por $y^{*}$ e $D$ por $D^{*}$, são os dados desviados que queríamos. Podemos usá-lo para avaliar nosso modelo causal da mesma forma que fizemos anteriormente, usando dados aleatórios."
   ]
  },
  {
   "cell_type": "markdown",
   "metadata": {},
   "source": [
    "##  DML - Orthogonal/Double Machine Learning\n",
    "\n",
    "No exemplo anterior vimos que o teorema de Frisch-Waugh-Lovell nos permite estimar o efeito causal de um tratamento $D$ sobre um resultado $Y$ enquanto controlamos por um conjunto de covariáveis $X$ para uma abordagem linear nos dois estágios.\n",
    "\n",
    "No entanto, a abordagem linear pode ser muito restritiva. Em muitos casos, as relações entre as variáveis podem ser não lineares ou de alta dimensão. Nesses casos, podemos usar **algoritmos de aprendizado de máquina** para **controlar essas relações não lineares de alta dimensão**. \n",
    "\n",
    "Então podemos aplicar o \"Double Machine Learning - DML\" (Double/Debiased Machine Learning - DDML). Onde utilizamos ortogonalização com modelos de aprendizado de máquina para isolar o ATE ou CATE. O artigo de **Chernozhukov et al (2018)** :\n",
    "\n",
    "<div style=\"text-align:center;\">\n",
    "    <img src=\"images\\Chernozhucov.png\"  alt=\"Imagem\" style=\"width: 700px;\"/>\n",
    "</div>\n",
    "\n",
    "\n",
    "Basicamente temos 4 abordagens:\n",
    "\n",
    "\n",
    "* Partially Linear Regression Models (PLR)\n",
    "* Partially Linear IV Regression Models (PLIV)\n",
    "* Interactive regression models (IRM)\n",
    "* Interactive IV regression models (IIVM)"
   ]
  },
  {
   "cell_type": "markdown",
   "metadata": {},
   "source": [
    "### *Partially Linear Regression Models* (PLR)\n",
    "\n",
    "Partindo do Partially Linear Regression Models (PLR), Chernozhukov et al (2018) propõem uma abordagem para estimar o CATE.\n",
    "\n",
    "$$ Y = \\theta(X)D + g_{y}(X) + \\epsilon$$\n",
    "\n",
    "* $\\theta(X)$ é o efeito heterogêneo do tratamento (CATE).\n",
    "* $g_{y}(X)$ é uma função de $X$ que captura a relação entre $Y$ e $X$ (ou seja, os fatores não relacionados ao tratamento).\n",
    "* $E(\\epsilon|D,X)=0$, e\n",
    "\n",
    "$$ D = m_{D}(X) + \\eta$$\n",
    "\n",
    "* $m_{D}(X)$ é uma função de $X$ que captura a relação entre $D$ e $X$\n",
    "* $E(\\eta|X)=0$.\n",
    "\n",
    "Isso significa que o efeito do tratamento ($\\theta(X)$) é uma função de $X$, e não um valor constante. Além disso,  tanto o tratamento ($D$) quanto o resultado ($Y$) são funções de $X$.\n",
    "\n",
    "\n",
    "Utilizando o DML, podemos estimar o CATE seguindo os seguintes passos:\n",
    "\n",
    "Com base no procedimento de ortogonalização, os primeiros estágios do DML são:\n",
    "\n",
    "$$ D^{*} = D - m_{0}(X)$$\n",
    "\n",
    "e,\n",
    "\n",
    "$$ Y^{*} = Y - g_{y}(X)$$\n",
    "\n",
    "Posteriormente, teremos o segundo estágio do DML:\n",
    "\n",
    "$$ Y^{*} = \\alpha + \\theta(X)D^{*} + \\epsilon$$\n",
    "\n",
    "\n",
    "Formalmente:\n",
    "\n",
    "$$ \\theta = argmin_{\\theta} E[(Y^{*} - \\theta (X) D^{*})^{2}] + \\lambda R(\\theta)$$\n",
    "\n",
    "para algum termo de regularização fortemente convexo $R$, e $\\lambda > 0$ é um parâmetro de regularização. O termo de regularização ajuda a evitar overfitting e é especialmente útil em modelos de alta dimensão, onde $\\theta$ pode ser esparso (muitos coeficientes iguais a zero, em outras palavras, apenas algumas variáveis ou características têm influência significativa, enquanto o restante pode ser ignorado sem perda relevante de informação).\n",
    "**Estimativas do CATE**\n",
    "\n",
    "O ponto novo na nossa abordagem é que, agora, o $\\theta(X)$ é o efeito heterogêneo do tratamento (CATE), e pode-se assumir que ele segue uma relação linear das covariáveis/recursos (a linearidade assumida para $\\theta(X)$ é uma simplificação útil para interpretação e análise inicial), da seguinte forma:\n",
    "\n",
    "$$ \\theta(X) = X'\\beta + \\theta_{\\text{intercept}}$$\n",
    "\n",
    "* $X'$ é o vetor transposto das covariáveis.\n",
    "* $\\beta$ são os coeficientes que medem o efeito de cada covariável em $\\theta(X)$.\n",
    "* $\\theta_{\\text{intercept}}$ é o intercepto do modelo (cate_intercept)."
   ]
  },
  {
   "cell_type": "markdown",
   "metadata": {},
   "source": [
    "### *Partially Linear IV Regression Models* (PLIV)\n",
    "\n",
    "Ele é usado quando $D$ é endógeno, ou seja, correlacionado com o erro $\\epsilon$.\n",
    "\n",
    "$$ Y = \\theta D + g(X) + \\epsilon$$\n",
    "\n",
    "$$ D = m(X,Z) + \\eta$$\n",
    "\n",
    "Com $Z$ sendo o conjunto das variáveis instrumentais. Repare que os instrumentos entram na primeira etapa, para \"desenviesar\" o tratamento $D$.\n",
    "\n",
    "* No EconML: LinearIVDML\n",
    "  * `from econml.iv.dml import LinearIVDML, SparseLinearIVDML, NonParamDMLIV`\n",
    "* PLIV: assume relação parcialmente linear em $D$ ($Y = \\theta D + g(X) + \\epsilon$), mais parecido com 2SLS.\n",
    "\n",
    "### *Interactive regression models* (IRM)\n",
    "\n",
    "Nie & Wager (2017) propuseram o R-learner, também chamado em alguns textos de Interactive Regression Model (IRM). O modelo IRM **relaxa a suposição de linearidade** entre $D$ e $Y$. Ele permite que o efeito do tratamento $D$ seja não linear e interativo com $X$:\n",
    "\n",
    "$$ Y = g(D,X) + U $$\n",
    "\n",
    "$$ D = m(X) + V $$\n",
    "\n",
    "Tem como objetivo relaxar a suposição de separabilidade entre $X$ e $D$, permitindo interações entre as covariáveis $X$ e o tratamento $D$.\n",
    "\n",
    "Procedimento:\n",
    "* Estima-se $E[D|X]$\n",
    "* Calcula-se $E[Y|X,D=0]$ e $E[Y|X,D=1]$, permitindo modelar como $Y$ depende de $D$ e $X$ conjuntamente.\n",
    "* Suposição de D binário, e relações não lineares e interativas podem existir entre $X$, $D$ e $Y$.\n",
    "\n",
    "O pacote EconML não tem uma classe chamada RLearner ou IRM explícita. O DRLearner é exatamente a versão duplamente robusta do R-learner/IRM.\n",
    "\n",
    "### *Interactive IV regression models* (IIVM)\n",
    "\n",
    "Queremos o efeito médio local do tratamento (LATE): o efeito para os compliers, ou seja, indivíduos cuja decisão de tratamento é influenciada pela variação em Z.\n",
    "Logo, aqui o resultado é o CATE entre os compliers, ou seja, um ***Conditional LATE (CLATE)***.\n",
    "\n",
    "$$ Y = g(D,X) + U $$\n",
    "$$ D = m(X,Z) + V $$\n",
    "$$ Z = h(X) + E $$\n",
    "\n",
    "objetivo é estimar o efeito médio local do tratamento (LATE) em contextos com endogeneidade e relações interativas entre $Z$, $X$, $D$ e $Y$.\n",
    "\n",
    "Procedimento, Estima-se:\n",
    "* $E[Y|X,Z=0]$, $E[Y|X,Z=1]$: Relação entre $Y$, $X$ e $Z$\n",
    "* $E[D|X,Z=0]$, $E[D|X,Z=1]$: Relação entre $D$, $X$ e $Z$\n",
    "* $E[Z|X]$: Relação entre $Z$ e $X$\n",
    "\n",
    "Usa-se $Z$ para capturar interações entre as variáveis. Supõe-se relação não linear e iterativa entre $D$, $Z$, $X$ e $Y$. E $Z$ é um instrumento válido. Aplicação do LATE em situações de endogeneidade com heterogeneidade.\n",
    "\n",
    "No EconML, a implementação do Interactive IV Model para tratamento binário e instrumento binário.\n",
    "* `from econml.iv.nnet import IIVM`\n",
    "* IIVM: não linear e interativo, permitindo que o efeito do tratamento varie com $X$ e que a relação de $D$ com $Z$ seja arbitrária.\n",
    "* O alvo é o LATE, não o ATE.\n"
   ]
  },
  {
   "cell_type": "markdown",
   "metadata": {},
   "source": [
    "### Aplicações do DML em Python\n",
    "\n",
    "**EconML**\n",
    "\n",
    "Vamos utilizar o pacote EconML para aplicar o DML - *Partially Linear Regression Models* (PLR), com modelos de ML - Gradient Boosting."
   ]
  },
  {
   "cell_type": "code",
   "execution_count": 60,
   "metadata": {},
   "outputs": [],
   "source": [
    "import pandas as pd\n",
    "from econml.dml import LinearDML\n",
    "from sklearn.ensemble import GradientBoostingRegressor, GradientBoostingClassifier"
   ]
  },
  {
   "cell_type": "code",
   "execution_count": 61,
   "metadata": {},
   "outputs": [],
   "source": [
    "# Definir as variáveis\n",
    "X = df[['casada', 'mage', 'medu', 'fhisp', 'mhisp', 'foreign', 'alcohol', 'deadkids', 'nprenatal', 'mrace', 'frace', 'fage', 'fedu']]\n",
    "D = df['D']\n",
    "y = df['Y']"
   ]
  },
  {
   "cell_type": "code",
   "execution_count": 62,
   "metadata": {},
   "outputs": [],
   "source": [
    "# Converter variáveis categóricas em dummies (se necessário)\n",
    "X = pd.get_dummies(X, drop_first=True)"
   ]
  },
  {
   "cell_type": "code",
   "execution_count": 63,
   "metadata": {},
   "outputs": [
    {
     "name": "stdout",
     "output_type": "stream",
     "text": [
      "               Uncertainty of Mean Point Estimate               \n",
      "================================================================\n",
      "mean_point stderr_mean zstat  pvalue ci_mean_lower ci_mean_upper\n",
      "----------------------------------------------------------------\n",
      "  -210.026      26.169 -8.026    0.0      -261.315      -158.736\n",
      "      Distribution of Point Estimate     \n",
      "=========================================\n",
      "std_point pct_point_lower pct_point_upper\n",
      "-----------------------------------------\n",
      "  120.872        -397.661         131.258\n",
      "     Total Variance of Point Estimate     \n",
      "==========================================\n",
      "stderr_point ci_point_lower ci_point_upper\n",
      "------------------------------------------\n",
      "     123.672       -450.408        161.909\n",
      "------------------------------------------\n"
     ]
    }
   ],
   "source": [
    "# Definir os modelos de Machine Learning para (i) X em Y, e (ii) X em D\n",
    "model_y = GradientBoostingRegressor(n_estimators=100, random_state=123)\n",
    "model_d = GradientBoostingClassifier(n_estimators=100, random_state=123)\n",
    "\n",
    "# Criar o estimador LinearDML\n",
    "estimator = LinearDML(model_y=model_y,\n",
    "                      model_t=model_d,\n",
    "                      discrete_treatment=True,\n",
    "                      cv=10,\n",
    "                      random_state=123)\n",
    "\n",
    "# Ajustar o modelo\n",
    "estimator.fit(y, D, X=X)\n",
    "\n",
    "ate_inf = estimator.ate_inference(X=X)\n",
    "print(ate_inf.summary())"
   ]
  },
  {
   "cell_type": "markdown",
   "metadata": {},
   "source": [
    "No exemplo anterior eu havia calculado o efeito médio (ATE). \n",
    "\n",
    "Agora, vamos calcular o efeito heterogêneo do tratamento (CATE) para cada característica. Os resultados já estão disponíveis no objeto \"estimator\" realizado pelo pacote EconML.\n"
   ]
  },
  {
   "cell_type": "code",
   "execution_count": 64,
   "metadata": {},
   "outputs": [
    {
     "name": "stdout",
     "output_type": "stream",
     "text": [
      "                      Coefficient Results                       \n",
      "================================================================\n",
      "          point_estimate  stderr zstat  pvalue ci_lower ci_upper\n",
      "----------------------------------------------------------------\n",
      "casada            28.828  55.792  0.517  0.605  -80.522  138.178\n",
      "mage             -11.333   5.261 -2.154  0.031  -21.644   -1.022\n",
      "medu              17.987  11.957  1.504  0.133   -5.449   41.422\n",
      "fhisp             66.089 130.914  0.505  0.614 -190.497  322.676\n",
      "mhisp            -85.452 161.644 -0.529  0.597 -402.269  231.364\n",
      "foreign           348.68 153.471  2.272  0.023   47.882  649.478\n",
      "alcohol          -30.274  91.655  -0.33  0.741 -209.915  149.368\n",
      "deadkids          37.647  51.511  0.731  0.465  -63.312  138.606\n",
      "nprenatal        -14.287   6.922 -2.064  0.039  -27.853   -0.721\n",
      "mrace           -144.841 102.649 -1.411  0.158 -346.029   56.347\n",
      "frace             48.413  99.684  0.486  0.627 -146.964  243.791\n",
      "fage              -0.022   2.781 -0.008  0.994   -5.472    5.427\n",
      "fedu              -0.491   8.399 -0.059  0.953  -16.954   15.971\n",
      "                       CATE Intercept Results                       \n",
      "====================================================================\n",
      "               point_estimate  stderr zstat pvalue ci_lower ci_upper\n",
      "--------------------------------------------------------------------\n",
      "cate_intercept         57.711 166.066 0.348  0.728 -267.772  383.194\n",
      "--------------------------------------------------------------------\n",
      "\n",
      "<sub>A linear parametric conditional average treatment effect (CATE) model was fitted:\n",
      "$Y = \\Theta(X)\\cdot T + g(X, W) + \\epsilon$\n",
      "where for every outcome $i$ and treatment $j$ the CATE $\\Theta_{ij}(X)$ has the form:\n",
      "$\\Theta_{ij}(X) = X' coef_{ij} + cate\\_intercept_{ij}$\n",
      "Coefficient Results table portrays the $coef_{ij}$ parameter vector for each outcome $i$ and treatment $j$. Intercept Results table portrays the $cate\\_intercept_{ij}$ parameter.</sub>\n"
     ]
    }
   ],
   "source": [
    "print(estimator.summary())"
   ]
  },
  {
   "cell_type": "markdown",
   "metadata": {},
   "source": [
    "**Interpretação:**\n",
    "\n",
    "* mage (idade da mãe):\n",
    "  * point_estimate: -11.333 (p-value: 0.031)\n",
    "  * Isso sugere que, para cada aumento de um ano na idade da mãe, o efeito negativo de fumar durante a gravidez no peso ao nascer diminui em 11.047 gramas (ou seja, o efeito se torna mais negativo).\n",
    "  * Há evidência estatística de que a idade da mãe influencia o efeito de fumar durante a gravidez sobre o peso ao nascer.\n",
    "\n",
    "* medu (educação materna):\n",
    "  * point_estimate: 17.987 (p-value: 0.133)\n",
    "  * Então, não há evidência estatística de que a educação materna mitigue o efeito negativo. A direção sugerida é positiva (maior educação → efeito menos negativo), mas sem significância.\n",
    "\n",
    "* foreign (se a mãe é estrangeira):\n",
    "  * point_estimate: 348.68 (p-value: 0.023 )\n",
    "  * Sugere que mães estrangeiras apresentam um efeito tratamento condicional ~349 g maior do que mães não estrangeiras.\n",
    "  * Interpretação: a nacionalidade estrangeira está associada a um efeito menos negativo do fumo.\n",
    "\n",
    "* Outras variáveis: Algumas covariáveis não são estatisticamente significativas (pvalue > 0.05), indicando que não há evidência suficiente para afirmar que essas covariáveis influenciam o efeito do tratamento.\n",
    "\n",
    "* CATE Intercept Results (Resultados do Intercepto do CATE):\n",
    "  * cate_intercept = 57.711, p-valor = 0.728 (não significativo)\n",
    "  * Esse é apenas o “baseline” quando todas as variáveis estão em zero — dificilmente tem interpretação substantiva.\n",
    "\n",
    "O modelo sugere que mães mais velhas sofrem um impacto mais negativo do fumo no peso ao nascer, enquanto mães estrangeiras apresentam um impacto menos negativo. Para outras covariáveis, não há evidência robusta de heterogeneidade.\n",
    "\n",
    "**Resumo:**\n",
    "\n",
    "* O efeito do fumo não é constante; ele varia com características maternas.\n",
    "* Idade materna (mage): significativa, aumenta a gravidade do efeito negativo.\n",
    "* Educação materna (medu): direção sugere mitigação, mas não é estatisticamente significativa.\n",
    "* Mãe estrangeira (foreign): significativa, associada a um efeito menos negativo.\n",
    "* Demais covariáveis: não significativas.\n",
    "* Intercepto: não interpretável isoladamente."
   ]
  },
  {
   "cell_type": "markdown",
   "metadata": {},
   "source": [
    "**Calcular o CATE para cada indivíduo ou perfil**\n",
    "\n",
    "Para calcular o efeito tratamento condicional ($\\theta(X)$) para um conjunto específico de covariáveis $X$, em:\n",
    "\n",
    "$$ \\hat{\\theta}(X) = X'\\hat{\\beta} + \\hat{\\theta}_{\\text{intercept}}$$\n",
    "\n",
    "Por exemplo, suponha que você queira calcular o efeito para uma mãe com as seguintes características:\n",
    "\n",
    "* Somente ser casada"
   ]
  },
  {
   "cell_type": "code",
   "execution_count": null,
   "metadata": {},
   "outputs": [],
   "source": [
    "mask_cas = (df['casada'] == 1).to_numpy()\n",
    "X_cas = X.loc[mask_cas, :]"
   ]
  },
  {
   "cell_type": "code",
   "execution_count": 67,
   "metadata": {},
   "outputs": [
    {
     "data": {
      "application/vnd.microsoft.datawrangler.viewer.v0+json": {
       "columns": [
        {
         "name": "index",
         "rawType": "object",
         "type": "string"
        },
        {
         "name": "casada",
         "rawType": "float64",
         "type": "float"
        },
        {
         "name": "mage",
         "rawType": "float64",
         "type": "float"
        },
        {
         "name": "medu",
         "rawType": "float64",
         "type": "float"
        },
        {
         "name": "fhisp",
         "rawType": "float64",
         "type": "float"
        },
        {
         "name": "mhisp",
         "rawType": "float64",
         "type": "float"
        },
        {
         "name": "foreign",
         "rawType": "float64",
         "type": "float"
        },
        {
         "name": "alcohol",
         "rawType": "float64",
         "type": "float"
        },
        {
         "name": "deadkids",
         "rawType": "float64",
         "type": "float"
        },
        {
         "name": "nprenatal",
         "rawType": "float64",
         "type": "float"
        },
        {
         "name": "mrace",
         "rawType": "float64",
         "type": "float"
        },
        {
         "name": "frace",
         "rawType": "float64",
         "type": "float"
        },
        {
         "name": "fage",
         "rawType": "float64",
         "type": "float"
        },
        {
         "name": "fedu",
         "rawType": "float64",
         "type": "float"
        }
       ],
       "ref": "2c76206e-1b59-43b2-af8f-0d68d90a43e1",
       "rows": [
        [
         "count",
         "3248.0",
         "3248.0",
         "3248.0",
         "3248.0",
         "3248.0",
         "3248.0",
         "3248.0",
         "3248.0",
         "3248.0",
         "3248.0",
         "3248.0",
         "3248.0",
         "3248.0"
        ],
        [
         "mean",
         "1.0",
         "28.145628078817733",
         "13.275554187192117",
         "0.019088669950738917",
         "0.017857142857142856",
         "0.05665024630541872",
         "0.022167487684729065",
         "0.25523399014778325",
         "11.37838669950739",
         "0.9350369458128078",
         "0.9322660098522167",
         "29.991687192118228",
         "13.39716748768473"
        ],
        [
         "std",
         "0.0",
         "4.83099395495052",
         "2.3693699743368275",
         "0.13685780677080814",
         "0.1324525072670662",
         "0.23120868165974914",
         "0.14725069067034907",
         "0.43605979357041735",
         "3.1197219176288735",
         "0.24649860680272198",
         "0.2513275636419999",
         "6.552593967096132",
         "2.481322527347113"
        ],
        [
         "min",
         "1.0",
         "15.0",
         "0.0",
         "0.0",
         "0.0",
         "0.0",
         "0.0",
         "0.0",
         "0.0",
         "0.0",
         "0.0",
         "0.0",
         "0.0"
        ],
        [
         "25%",
         "1.0",
         "25.0",
         "12.0",
         "0.0",
         "0.0",
         "0.0",
         "0.0",
         "0.0",
         "10.0",
         "1.0",
         "1.0",
         "26.0",
         "12.0"
        ],
        [
         "50%",
         "1.0",
         "28.0",
         "12.0",
         "0.0",
         "0.0",
         "0.0",
         "0.0",
         "0.0",
         "12.0",
         "1.0",
         "1.0",
         "30.0",
         "12.0"
        ],
        [
         "75%",
         "1.0",
         "31.0",
         "16.0",
         "0.0",
         "0.0",
         "0.0",
         "0.0",
         "1.0",
         "13.0",
         "1.0",
         "1.0",
         "33.0",
         "16.0"
        ],
        [
         "max",
         "1.0",
         "45.0",
         "17.0",
         "1.0",
         "1.0",
         "1.0",
         "1.0",
         "1.0",
         "30.0",
         "1.0",
         "1.0",
         "60.0",
         "17.0"
        ]
       ],
       "shape": {
        "columns": 13,
        "rows": 8
       }
      },
      "text/html": [
       "<div>\n",
       "<style scoped>\n",
       "    .dataframe tbody tr th:only-of-type {\n",
       "        vertical-align: middle;\n",
       "    }\n",
       "\n",
       "    .dataframe tbody tr th {\n",
       "        vertical-align: top;\n",
       "    }\n",
       "\n",
       "    .dataframe thead th {\n",
       "        text-align: right;\n",
       "    }\n",
       "</style>\n",
       "<table border=\"1\" class=\"dataframe\">\n",
       "  <thead>\n",
       "    <tr style=\"text-align: right;\">\n",
       "      <th></th>\n",
       "      <th>casada</th>\n",
       "      <th>mage</th>\n",
       "      <th>medu</th>\n",
       "      <th>fhisp</th>\n",
       "      <th>mhisp</th>\n",
       "      <th>foreign</th>\n",
       "      <th>alcohol</th>\n",
       "      <th>deadkids</th>\n",
       "      <th>nprenatal</th>\n",
       "      <th>mrace</th>\n",
       "      <th>frace</th>\n",
       "      <th>fage</th>\n",
       "      <th>fedu</th>\n",
       "    </tr>\n",
       "  </thead>\n",
       "  <tbody>\n",
       "    <tr>\n",
       "      <th>count</th>\n",
       "      <td>3248.0</td>\n",
       "      <td>3248.000000</td>\n",
       "      <td>3248.000000</td>\n",
       "      <td>3248.000000</td>\n",
       "      <td>3248.000000</td>\n",
       "      <td>3248.000000</td>\n",
       "      <td>3248.000000</td>\n",
       "      <td>3248.000000</td>\n",
       "      <td>3248.000000</td>\n",
       "      <td>3248.000000</td>\n",
       "      <td>3248.000000</td>\n",
       "      <td>3248.000000</td>\n",
       "      <td>3248.000000</td>\n",
       "    </tr>\n",
       "    <tr>\n",
       "      <th>mean</th>\n",
       "      <td>1.0</td>\n",
       "      <td>28.145628</td>\n",
       "      <td>13.275554</td>\n",
       "      <td>0.019089</td>\n",
       "      <td>0.017857</td>\n",
       "      <td>0.056650</td>\n",
       "      <td>0.022167</td>\n",
       "      <td>0.255234</td>\n",
       "      <td>11.378387</td>\n",
       "      <td>0.935037</td>\n",
       "      <td>0.932266</td>\n",
       "      <td>29.991687</td>\n",
       "      <td>13.397167</td>\n",
       "    </tr>\n",
       "    <tr>\n",
       "      <th>std</th>\n",
       "      <td>0.0</td>\n",
       "      <td>4.830994</td>\n",
       "      <td>2.369370</td>\n",
       "      <td>0.136858</td>\n",
       "      <td>0.132453</td>\n",
       "      <td>0.231209</td>\n",
       "      <td>0.147251</td>\n",
       "      <td>0.436060</td>\n",
       "      <td>3.119722</td>\n",
       "      <td>0.246499</td>\n",
       "      <td>0.251328</td>\n",
       "      <td>6.552594</td>\n",
       "      <td>2.481323</td>\n",
       "    </tr>\n",
       "    <tr>\n",
       "      <th>min</th>\n",
       "      <td>1.0</td>\n",
       "      <td>15.000000</td>\n",
       "      <td>0.000000</td>\n",
       "      <td>0.000000</td>\n",
       "      <td>0.000000</td>\n",
       "      <td>0.000000</td>\n",
       "      <td>0.000000</td>\n",
       "      <td>0.000000</td>\n",
       "      <td>0.000000</td>\n",
       "      <td>0.000000</td>\n",
       "      <td>0.000000</td>\n",
       "      <td>0.000000</td>\n",
       "      <td>0.000000</td>\n",
       "    </tr>\n",
       "    <tr>\n",
       "      <th>25%</th>\n",
       "      <td>1.0</td>\n",
       "      <td>25.000000</td>\n",
       "      <td>12.000000</td>\n",
       "      <td>0.000000</td>\n",
       "      <td>0.000000</td>\n",
       "      <td>0.000000</td>\n",
       "      <td>0.000000</td>\n",
       "      <td>0.000000</td>\n",
       "      <td>10.000000</td>\n",
       "      <td>1.000000</td>\n",
       "      <td>1.000000</td>\n",
       "      <td>26.000000</td>\n",
       "      <td>12.000000</td>\n",
       "    </tr>\n",
       "    <tr>\n",
       "      <th>50%</th>\n",
       "      <td>1.0</td>\n",
       "      <td>28.000000</td>\n",
       "      <td>12.000000</td>\n",
       "      <td>0.000000</td>\n",
       "      <td>0.000000</td>\n",
       "      <td>0.000000</td>\n",
       "      <td>0.000000</td>\n",
       "      <td>0.000000</td>\n",
       "      <td>12.000000</td>\n",
       "      <td>1.000000</td>\n",
       "      <td>1.000000</td>\n",
       "      <td>30.000000</td>\n",
       "      <td>12.000000</td>\n",
       "    </tr>\n",
       "    <tr>\n",
       "      <th>75%</th>\n",
       "      <td>1.0</td>\n",
       "      <td>31.000000</td>\n",
       "      <td>16.000000</td>\n",
       "      <td>0.000000</td>\n",
       "      <td>0.000000</td>\n",
       "      <td>0.000000</td>\n",
       "      <td>0.000000</td>\n",
       "      <td>1.000000</td>\n",
       "      <td>13.000000</td>\n",
       "      <td>1.000000</td>\n",
       "      <td>1.000000</td>\n",
       "      <td>33.000000</td>\n",
       "      <td>16.000000</td>\n",
       "    </tr>\n",
       "    <tr>\n",
       "      <th>max</th>\n",
       "      <td>1.0</td>\n",
       "      <td>45.000000</td>\n",
       "      <td>17.000000</td>\n",
       "      <td>1.000000</td>\n",
       "      <td>1.000000</td>\n",
       "      <td>1.000000</td>\n",
       "      <td>1.000000</td>\n",
       "      <td>1.000000</td>\n",
       "      <td>30.000000</td>\n",
       "      <td>1.000000</td>\n",
       "      <td>1.000000</td>\n",
       "      <td>60.000000</td>\n",
       "      <td>17.000000</td>\n",
       "    </tr>\n",
       "  </tbody>\n",
       "</table>\n",
       "</div>"
      ],
      "text/plain": [
       "       casada         mage         medu        fhisp        mhisp  \\\n",
       "count  3248.0  3248.000000  3248.000000  3248.000000  3248.000000   \n",
       "mean      1.0    28.145628    13.275554     0.019089     0.017857   \n",
       "std       0.0     4.830994     2.369370     0.136858     0.132453   \n",
       "min       1.0    15.000000     0.000000     0.000000     0.000000   \n",
       "25%       1.0    25.000000    12.000000     0.000000     0.000000   \n",
       "50%       1.0    28.000000    12.000000     0.000000     0.000000   \n",
       "75%       1.0    31.000000    16.000000     0.000000     0.000000   \n",
       "max       1.0    45.000000    17.000000     1.000000     1.000000   \n",
       "\n",
       "           foreign      alcohol     deadkids    nprenatal        mrace  \\\n",
       "count  3248.000000  3248.000000  3248.000000  3248.000000  3248.000000   \n",
       "mean      0.056650     0.022167     0.255234    11.378387     0.935037   \n",
       "std       0.231209     0.147251     0.436060     3.119722     0.246499   \n",
       "min       0.000000     0.000000     0.000000     0.000000     0.000000   \n",
       "25%       0.000000     0.000000     0.000000    10.000000     1.000000   \n",
       "50%       0.000000     0.000000     0.000000    12.000000     1.000000   \n",
       "75%       0.000000     0.000000     1.000000    13.000000     1.000000   \n",
       "max       1.000000     1.000000     1.000000    30.000000     1.000000   \n",
       "\n",
       "             frace         fage         fedu  \n",
       "count  3248.000000  3248.000000  3248.000000  \n",
       "mean      0.932266    29.991687    13.397167  \n",
       "std       0.251328     6.552594     2.481323  \n",
       "min       0.000000     0.000000     0.000000  \n",
       "25%       1.000000    26.000000    12.000000  \n",
       "50%       1.000000    30.000000    12.000000  \n",
       "75%       1.000000    33.000000    16.000000  \n",
       "max       1.000000    60.000000    17.000000  "
      ]
     },
     "execution_count": 67,
     "metadata": {},
     "output_type": "execute_result"
    }
   ],
   "source": [
    "X_cas.describe()"
   ]
  },
  {
   "cell_type": "code",
   "execution_count": 68,
   "metadata": {},
   "outputs": [
    {
     "name": "stdout",
     "output_type": "stream",
     "text": [
      "               Uncertainty of Mean Point Estimate               \n",
      "================================================================\n",
      "mean_point stderr_mean zstat  pvalue ci_mean_lower ci_mean_upper\n",
      "----------------------------------------------------------------\n",
      "  -225.354      34.106 -6.608    0.0        -292.2      -158.508\n",
      "      Distribution of Point Estimate     \n",
      "=========================================\n",
      "std_point pct_point_lower pct_point_upper\n",
      "-----------------------------------------\n",
      "  115.066        -393.904         147.968\n",
      "     Total Variance of Point Estimate     \n",
      "==========================================\n",
      "stderr_point ci_point_lower ci_point_upper\n",
      "------------------------------------------\n",
      "     120.014       -442.965        159.017\n",
      "------------------------------------------\n"
     ]
    }
   ],
   "source": [
    "res_cate_casadas = estimator.ate_inference(X=X_cas)\n",
    "print(res_cate_casadas.summary())"
   ]
  },
  {
   "cell_type": "markdown",
   "metadata": {},
   "source": [
    "Vamos criar outra variável contendo as características para estimar o CATE:"
   ]
  },
  {
   "cell_type": "code",
   "execution_count": 69,
   "metadata": {},
   "outputs": [],
   "source": [
    "# Definir o subgrupo\n",
    "mask_sub = (\n",
    "    (df['casada'] == 1) &\n",
    "    (df['mage'].between(25, 27)) &\n",
    "    (df['medu'].between(10, 12)) &\n",
    "    (df['fhisp'] == 0) &\n",
    "    (df['mhisp'] == 0) &\n",
    "    (df['foreign'] == 0) &\n",
    "    (df['alcohol'] == 0) &\n",
    "    (df['deadkids'] == 0) &\n",
    "    (df['nprenatal'].between(5, 10)) &\n",
    "    (df['mrace'] == 0) &\n",
    "    (df['frace'] == 0) &\n",
    "    (df['fage'].between(20, 27)) &\n",
    "    (df['fedu'].between(8, 12))\n",
    ")\n",
    "\n",
    "X_sub = X.loc[mask_sub, :]"
   ]
  },
  {
   "cell_type": "code",
   "execution_count": 70,
   "metadata": {},
   "outputs": [
    {
     "name": "stdout",
     "output_type": "stream",
     "text": [
      "               Uncertainty of Mean Point Estimate               \n",
      "================================================================\n",
      "mean_point stderr_mean zstat  pvalue ci_mean_lower ci_mean_upper\n",
      "----------------------------------------------------------------\n",
      "  -128.829      83.341 -1.546  0.122      -292.175        34.517\n",
      "      Distribution of Point Estimate     \n",
      "=========================================\n",
      "std_point pct_point_lower pct_point_upper\n",
      "-----------------------------------------\n",
      "    1.477        -130.232        -127.426\n",
      "     Total Variance of Point Estimate     \n",
      "==========================================\n",
      "stderr_point ci_point_lower ci_point_upper\n",
      "------------------------------------------\n",
      "      83.354       -292.407         34.749\n",
      "------------------------------------------\n"
     ]
    }
   ],
   "source": [
    "res_sub = estimator.ate_inference(X=X_sub.values)\n",
    "print(res_sub.summary())"
   ]
  },
  {
   "cell_type": "markdown",
   "metadata": {},
   "source": [
    "Para o perfil de gestante especificada, fumar durante a gravidez está associado a uma redução média de aproximadamente 128.83 gramas no peso ao nascer do bebê. Logo, há evidência estatística significativa de que fumar durante a gravidez está associado a uma redução substancial no peso ao nascer do bebê."
   ]
  },
  {
   "cell_type": "markdown",
   "metadata": {},
   "source": [
    "## Classes do DML no *EconML*\n",
    "\n",
    "### LinearDML\n",
    "- **Modelo final:** regressão linear simples, sem penalização.  \n",
    "- **Uso típico:** quando $X$ tem baixa dimensão e você acredita que o CATE é aproximadamente linear em $X$.  \n",
    "- **Inferência:** assintoticamente normal, permite intervalos de confiança com base no CLT. Também suporta bootstrap (`inference='bootstrap'`).  \n",
    "- **Referência:** Chernozhukov et al. (2016).  \n",
    "\n",
    "$$\n",
    "\\tau(X) = X^\\top \\beta\n",
    "$$\n",
    "\n",
    "\n",
    "### SparseLinearDML\n",
    "- **Modelo final:** regressão linear com regularização L1 (Debiased Lasso).  \n",
    "- **Uso típico:** quando $X$ é de **alta dimensão** (muitas covariáveis, possivelmente $p > n$).  \n",
    "- **Vantagem:** consegue selecionar variáveis relevantes automaticamente, corrigindo o viés da penalização via “debiased Lasso”.  \n",
    "- **Inferência:** propriedades de normalidade assintótica do DebiasedLasso permitem ICs válidos.  \n",
    "- **Referências:** Chernozhukov et al. (2017, 2018).  \n",
    "\n",
    " \n",
    "$$\n",
    "\\tau(X) = X^\\top \\beta, \\quad \\beta \\text{ esparso}\n",
    "$$\n",
    "\n",
    "\n",
    "### KernelDML\n",
    "- **Modelo final:** regressão de kernel ridge no espaço RKHS.  \n",
    "- **Ideia:** não restringe o CATE a ser linear. Usa aproximação via **Fourier random features** de um kernel RBF.  \n",
    "- **Uso típico:** quando você acredita que o CATE é **não linear em \\(X\\)** e quer flexibilidade, mas ainda dentro da estrutura de kernel.  \n",
    "- **Modelo final:** após mapear $X$ para features via kernel RBF, ajusta um ElasticNet regularizado.  \n",
    "- **Referência:** Nie & Wager (2017), literatura de kernel methods.  \n",
    "\n",
    "$$\n",
    "\\tau(X) \\in \\mathcal{H}_\\kappa \\quad \\text{(um RKHS gerado por kernel RBF)}\n",
    "$$\n",
    "\n",
    "\n",
    "#### Resumo prático\n",
    "\n",
    "- **LinearDML:** bom para poucos $X$, interpretação direta dos coeficientes.  \n",
    "- **SparseLinearDML:** bom para muitos $X$, seleciona covariáveis relevantes.  \n",
    "- **KernelDML:** bom para capturar **não linearidades** do efeito heterogêneo usando kernel RBF.  \n",
    "\n",
    "\n"
   ]
  },
  {
   "cell_type": "markdown",
   "metadata": {},
   "source": [
    "### NonParamDML\n",
    "- **Modelo final:** não faz nenhuma suposição paramétrica sobre o modelo de efeito.  \n",
    "- **Restrições:** só se aplica quando o tratamento é **binário** ou **unidimensional contínuo**.  \n",
    "- **Comentário:**  \n",
    "É a opção mais “agnóstica”. Você não impõe estrutura linear ou de kernel; o modelo final é aprendido de forma totalmente não paramétrica.\n",
    "\n",
    "\n",
    "### CausalForestDML\n",
    "- **Modelo final:** floresta causal (Wager, 2018; Athey, 2019).  \n",
    "- **Inferência:** oferece intervalos de confiança via *Bootstrap-of-Little-Bags*.  \n",
    "- **Comentário:**  \n",
    "Não exige caracterização explícita da heterogeneidade. Aprende diretamente o CATE de forma **não linear** e flexível. Bom quando a relação entre \\(X\\) e o efeito é muito complexa.  \n",
    "\n",
    "\n",
    "### Modelos mais flexíveis (Não-Lineares)\n",
    "\n",
    "Quando a heterogeneidade do efeito **não tem forma linear**, os modelos lineares deixam de ser válidos.  \n",
    "- O **SparseLinearDML** lida com esse cenário por meio do Lasso desviado, útil em alta dimensão.  \n",
    "- O **CausalForestDML** vai além: **não precisa de caracterização explícita**, pois aprende a heterogeneidade diretamente com árvores/ florestas.  \n",
    "\n",
    "**Comentário:**  \n",
    "Nesses modelos mais flexíveis, **não conseguimos interpretar os coeficientes diretamente**.  \n",
    "- É possível estimar o **ATE** (efeito médio).  \n",
    "- Também é possível obter o efeito para **um indivíduo específico** (ou um subgrupo específico), mas não há interpretação simples dos parâmetros como no caso linear.\n",
    "\n",
    "\n",
    "### Resumindo\n",
    "- **LinearDML:** bom para poucos $X$, interpretação direta dos coeficientes.  \n",
    "- **SparseLinearDML:** bom para muitos $X$, seleciona covariáveis relevantes.  \n",
    "- **KernelDML:** captura não linearidades via kernel RBF.  \n",
    "- **NonParamDML:** não faz nenhuma suposição paramétrica, mas só para $D$ binário ou contínuo unidimensional.  \n",
    "- **CausalForestDML:** aprende heterogeneidade complexa automaticamente via florestas, com ICs baseados em *Bootstrap-of-Little-Bags*.  \n"
   ]
  },
  {
   "cell_type": "markdown",
   "metadata": {},
   "source": [
    "### Aplicação de Modelos Não-Lineares\n"
   ]
  },
  {
   "cell_type": "markdown",
   "metadata": {},
   "source": [
    "***CausalForestDML - Forest Double Machine Learning***\n",
    "\n",
    "Causal Forest é uma extensão dos Random Forests tradicionalmente usados para previsão, mas projetado para estimar efeitos causais — especialmente efeitos heterogêneos (CATE).\n",
    "\n",
    "* Ele foi proposto por Athey & Wager (2018) no paper: \n",
    "  * Athey, S., & Wager, S. (2018). Estimation and Inference of Heterogeneous Treatment Effects using Random Forests."
   ]
  },
  {
   "cell_type": "code",
   "execution_count": 72,
   "metadata": {},
   "outputs": [],
   "source": [
    "from econml.dml import CausalForestDML\n",
    "from sklearn.ensemble import GradientBoostingRegressor, GradientBoostingClassifier"
   ]
  },
  {
   "cell_type": "code",
   "execution_count": 75,
   "metadata": {},
   "outputs": [],
   "source": [
    "X = df[['casada', 'mage', 'medu', 'fhisp', 'mhisp', 'foreign', 'alcohol', 'deadkids', 'nprenatal', 'mrace', 'frace', 'fage', 'fedu']]\n",
    "T = df['D']\n",
    "Y = df['Y']"
   ]
  },
  {
   "cell_type": "code",
   "execution_count": 76,
   "metadata": {},
   "outputs": [
    {
     "data": {
      "image/png": "[encoded data removed]",
      "text/latex": [
       "$\\displaystyle -212.974268657704$"
      ],
      "text/plain": [
       "-212.97426865770402"
      ]
     },
     "execution_count": 76,
     "metadata": {},
     "output_type": "execute_result"
    }
   ],
   "source": [
    "# Modelos para outcome e tratamento\n",
    "model_y = GradientBoostingRegressor(n_estimators=100, random_state=123)\n",
    "model_t = GradientBoostingClassifier(n_estimators=100, random_state=123)\n",
    "\n",
    "# Causal Forest como modelo final\n",
    "cf_dml = CausalForestDML(model_y=model_y,\n",
    "                         model_t=model_t,\n",
    "                         discrete_treatment=True,\n",
    "                         n_estimators=500,\n",
    "                         min_samples_leaf=5,\n",
    "                         max_depth=10,\n",
    "                         random_state=123)\n",
    "\n",
    "cf_dml.fit(Y, T, X=X, cache_values=True)\n",
    "\n",
    "cf_dml.ate(X)\n"
   ]
  },
  {
   "cell_type": "code",
   "execution_count": 77,
   "metadata": {},
   "outputs": [
    {
     "name": "stdout",
     "output_type": "stream",
     "text": [
      "Population summary of CATE predictions on Training Data\n",
      "               Uncertainty of Mean Point Estimate               \n",
      "================================================================\n",
      "mean_point stderr_mean zstat  pvalue ci_mean_lower ci_mean_upper\n",
      "----------------------------------------------------------------\n",
      "  -212.974     112.278 -1.897  0.058      -433.035         7.086\n",
      "      Distribution of Point Estimate     \n",
      "=========================================\n",
      "std_point pct_point_lower pct_point_upper\n",
      "-----------------------------------------\n",
      "  105.745        -410.191          44.477\n",
      "     Total Variance of Point Estimate     \n",
      "==========================================\n",
      "stderr_point ci_point_lower ci_point_upper\n",
      "------------------------------------------\n",
      "     154.235       -527.147        118.533\n",
      "        Doubly Robust ATE on Training Data Results       \n",
      "=========================================================\n",
      "    point_estimate stderr zstat  pvalue ci_lower ci_upper\n",
      "---------------------------------------------------------\n",
      "ATE       -207.967 29.093 -7.148    0.0 -264.989 -150.946\n",
      "    Doubly Robust ATT(T=0) on Training Data Results     \n",
      "========================================================\n",
      "    point_estimate stderr zstat pvalue ci_lower ci_upper\n",
      "--------------------------------------------------------\n",
      "ATT       -215.972 12.704 -17.0    0.0 -240.871 -191.072\n",
      "     Doubly Robust ATT(T=1) on Training Data Results      \n",
      "==========================================================\n",
      "    point_estimate  stderr zstat  pvalue ci_lower ci_upper\n",
      "----------------------------------------------------------\n",
      "ATT       -172.967 146.099 -1.184  0.236 -459.315  113.381\n",
      "----------------------------------------------------------\n",
      "\n",
      "Note: The stderr_mean is a conservative upper bound.\n"
     ]
    }
   ],
   "source": [
    "print(cf_dml.summary())"
   ]
  },
  {
   "cell_type": "markdown",
   "metadata": {},
   "source": [
    "* Com base exclusivamente na média dos CATEs estimados, o efeito médio estimado do tabagismo é –213g\n",
    "* Doubly Robust ATE (baseado em influência orthogonal)\n",
    "  * Essa é a estimativa mais confiável do ATE, pois vem do método de influência com ortogonalização — ou seja, é onde o estimador é realmente duplamente robusto.\n",
    "* ATT(T=0): efeito médio se os não fumantes tivessem fumado → –216 g, altamente significativo\n",
    "* ATT(T=1): efeito médio entre os que fumaram → –173 g, não significativo (alta variância)"
   ]
  },
  {
   "cell_type": "markdown",
   "metadata": {},
   "source": [
    "***Quais as variáveis mais importantes para o modelo?***"
   ]
  },
  {
   "cell_type": "code",
   "execution_count": null,
   "metadata": {},
   "outputs": [
    {
     "data": {
      "image/png": "[encoded data removed]",
      "text/plain": [
       "<Figure size 1000x600 with 1 Axes>"
      ]
     },
     "metadata": {},
     "output_type": "display_data"
    }
   ],
   "source": [
    "import matplotlib.pyplot as plt\n",
    "import numpy as np\n",
    "\n",
    "# Obter importâncias e nomes das variáveis\n",
    "importances = cf_dml.feature_importances_\n",
    "features = np.array(X.columns)\n",
    "\n",
    "# Ordenar do maior para o menor\n",
    "sorted_idx = np.argsort(importances)[::-1]\n",
    "sorted_importances = importances[sorted_idx]\n",
    "sorted_features = features[sorted_idx]\n",
    "\n",
    "# Plotar\n",
    "plt.figure(figsize=(10, 6))\n",
    "plt.barh(sorted_features, sorted_importances, color='steelblue')\n",
    "plt.xlabel('Importância')\n",
    "plt.title('Importância das variáveis na heterogeneidade do CATE')\n",
    "plt.gca().invert_yaxis()  # Coloca a mais importante no topo\n",
    "plt.grid(True, axis='x', linestyle='--', alpha=0.7)\n",
    "plt.tight_layout()\n",
    "plt.show()"
   ]
  },
  {
   "cell_type": "markdown",
   "metadata": {},
   "source": [
    "* o modelo acredita que essa variável sozinha contribui com 1/4 da explicação da heterogeneidade dos efeitos;\n",
    "* Ela é usada frequentemente nos splits das árvores da floresta causal para distinguir subgrupos com diferentes efeitos do tratamento."
   ]
  },
  {
   "cell_type": "markdown",
   "metadata": {},
   "source": [
    "Agora vamos verificar os CATES variando a variável `nprenatal` e mantendo as demais variáveis fixas."
   ]
  },
  {
   "cell_type": "code",
   "execution_count": 94,
   "metadata": {},
   "outputs": [
    {
     "name": "stdout",
     "output_type": "stream",
     "text": [
      "[-229.54257157]\n"
     ]
    }
   ],
   "source": [
    "# calcula a média das covariáveis\n",
    "x_mean = X.mean().to_dict()\n",
    "\n",
    "# cria uma linha com os valores médios\n",
    "x_point = pd.DataFrame([x_mean])\n",
    "\n",
    "# substitui pelas variáveis de interesse\n",
    "x_point['casada'] = 1\n",
    "x_point['mage'] = 26\n",
    "\n",
    "# calcula o CATE\n",
    "cate_point = cf_dml.effect(x_point)\n",
    "print(cate_point)\n"
   ]
  },
  {
   "cell_type": "code",
   "execution_count": 95,
   "metadata": {},
   "outputs": [
    {
     "name": "stdout",
     "output_type": "stream",
     "text": [
      "   casada  mage       medu     fhisp     mhisp   foreign   alcohol  deadkids  \\\n",
      "0       1    26  12.689573  0.037053  0.034037  0.053425  0.032314  0.259371   \n",
      "\n",
      "   nprenatal     mrace     frace       fage       fedu  \n",
      "0  10.758078  0.840586  0.813658  27.267126  12.307195  \n"
     ]
    }
   ],
   "source": [
    "print(x_point)"
   ]
  },
  {
   "cell_type": "code",
   "execution_count": 98,
   "metadata": {},
   "outputs": [
    {
     "name": "stdout",
     "output_type": "stream",
     "text": [
      "               Uncertainty of Mean Point Estimate              \n",
      "===============================================================\n",
      "mean_point stderr_mean zstat pvalue ci_mean_lower ci_mean_upper\n",
      "---------------------------------------------------------------\n",
      "  -229.543      52.645 -4.36    0.0      -332.724      -126.361\n",
      "      Distribution of Point Estimate     \n",
      "=========================================\n",
      "std_point pct_point_lower pct_point_upper\n",
      "-----------------------------------------\n",
      "      0.0        -229.543        -229.543\n",
      "     Total Variance of Point Estimate     \n",
      "==========================================\n",
      "stderr_point ci_point_lower ci_point_upper\n",
      "------------------------------------------\n",
      "      52.645       -332.724       -126.361\n",
      "------------------------------------------\n",
      "\n",
      "Note: The stderr_mean is a conservative upper bound.\n"
     ]
    }
   ],
   "source": [
    "cate_point_infer = cf_dml.ate_inference(x_point)\n",
    "print(cate_point_infer)"
   ]
  },
  {
   "cell_type": "markdown",
   "metadata": {},
   "source": [
    "***Tratamento Contínuo***\n",
    "\n",
    "Vamos alterar o tratamento para mage (idade da mãe). E vamos avaliar o efeito \"contínuo\" da idade da mãe sobre o peso dos bebes ao nascer (y). \n"
   ]
  },
  {
   "cell_type": "code",
   "execution_count": null,
   "metadata": {},
   "outputs": [
    {
     "data": {
      "text/plain": [
       "<econml.dml.causal_forest.CausalForestDML at 0x27d62881bd0>"
      ]
     },
     "execution_count": 102,
     "metadata": {},
     "output_type": "execute_result"
    }
   ],
   "source": [
    "from econml.dml import CausalForestDML\n",
    "from sklearn.ensemble import GradientBoostingRegressor\n",
    "\n",
    "Y = df['Y'].astype(float)       # peso ao nascer\n",
    "T = df['mage'].astype(float)    # tratamento contínuo: idade da mãe\n",
    "\n",
    "# Controles (tudo menos mage)\n",
    "X_raw = df[['casada','medu','fhisp','mhisp','foreign','alcohol',\n",
    "            'deadkids','nprenatal','mrace','frace','fage','fedu']]\n",
    "X = pd.get_dummies(X_raw, drop_first=True)\n",
    "\n",
    "# Modelos de primeira etapa\n",
    "model_y = GradientBoostingRegressor(n_estimators=200, random_state=123)\n",
    "model_t = GradientBoostingRegressor(n_estimators=200, random_state=123)\n",
    "\n",
    "cf = CausalForestDML(model_y=model_y,\n",
    "                     model_t=model_t,\n",
    "                     n_estimators=500,\n",
    "                     min_samples_leaf=5,\n",
    "                     max_depth=10,\n",
    "                     random_state=123)\n",
    "\n",
    "cf.fit(Y, T, X=X)"
   ]
  },
  {
   "cell_type": "code",
   "execution_count": null,
   "metadata": {},
   "outputs": [
    {
     "name": "stdout",
     "output_type": "stream",
     "text": [
      "CME médio: 2.850346727815087\n"
     ]
    }
   ],
   "source": [
    "# Derivada local dY/d(mage) em cada ponto\n",
    "cme = cf.const_marginal_effect(X)\n",
    "print(\"CME médio:\", cme.mean())"
   ]
  },
  {
   "cell_type": "code",
   "execution_count": 121,
   "metadata": {},
   "outputs": [
    {
     "name": "stdout",
     "output_type": "stream",
     "text": [
      "      point_estimate  stderr  zstat  pvalue  ci_lower  ci_upper\n",
      "X                                                              \n",
      "0             10.263  10.854  0.945   0.344   -11.012    31.537\n",
      "1             -6.881  12.031 -0.572   0.567   -30.460    16.699\n",
      "2              8.030   7.024  1.143   0.253    -5.738    21.797\n",
      "3             12.754   4.735  2.694   0.007     3.474    22.035\n",
      "4             -2.586   9.665 -0.268   0.789   -21.529    16.357\n",
      "...              ...     ...    ...     ...       ...       ...\n",
      "4637           3.432   7.118  0.482   0.630   -10.519    17.383\n",
      "4638           6.634   9.880  0.671   0.502   -12.731    26.000\n",
      "4639         -22.147  18.817 -1.177   0.239   -59.028    14.735\n",
      "4640          -6.210   4.367 -1.422   0.155   -14.768     2.349\n",
      "4641          -6.759   5.838 -1.158   0.247   -18.201     4.683\n",
      "\n",
      "[4642 rows x 6 columns]\n"
     ]
    }
   ],
   "source": [
    "cme_inf = cf.const_marginal_effect_inference(X)\n",
    "cme_frame = cme_inf.summary_frame()\n",
    "print(cme_frame)"
   ]
  },
  {
   "cell_type": "markdown",
   "metadata": {},
   "source": [
    "CausalForestDML com tratamento contínuo (mage) e já obteve a derivada local (o CME — conditional marginal effect) com p-valores e intervalos de confiança."
   ]
  },
  {
   "cell_type": "code",
   "execution_count": 118,
   "metadata": {},
   "outputs": [
    {
     "name": "stdout",
     "output_type": "stream",
     "text": [
      "   point_estimate  stderr  zstat  pvalue  ci_lower  ci_upper\n",
      "X                                                           \n",
      "0           7.088   6.665  1.063   0.288    -5.976    20.152\n"
     ]
    }
   ],
   "source": [
    "xbar = X.mean().to_frame().T\n",
    "cme_xbar = cf.const_marginal_effect_inference(xbar).summary_frame()\n",
    "print(cme_xbar)\n"
   ]
  },
  {
   "cell_type": "code",
   "execution_count": 113,
   "metadata": {},
   "outputs": [
    {
     "name": "stderr",
     "output_type": "stream",
     "text": [
      "invalid value encountered in divide\n"
     ]
    },
    {
     "data": {
      "image/png": "[encoded data removed]",
      "text/plain": [
       "<Figure size 800x500 with 1 Axes>"
      ]
     },
     "metadata": {},
     "output_type": "display_data"
    }
   ],
   "source": [
    "import numpy as np\n",
    "import matplotlib.pyplot as plt\n",
    "\n",
    "# 1) baseline\n",
    "T0 = 25.0\n",
    "\n",
    "# 2) grade de idades\n",
    "grid = np.arange(18, 41, 1)\n",
    "T0 = 25.0\n",
    "xbar = X.mean().to_frame().T\n",
    "\n",
    "effects, ci_lower, ci_upper = [], [], []\n",
    "for t1 in grid:\n",
    "    inf = cf.effect_inference(xbar, T0=T0, T1=t1)\n",
    "    sf = inf.summary_frame()\n",
    "    effects.append(sf[\"point_estimate\"].iloc[0])\n",
    "    ci_lower.append(sf[\"ci_lower\"].iloc[0])\n",
    "    ci_upper.append(sf[\"ci_upper\"].iloc[0])\n",
    "\n",
    "\n",
    "# 5) plotar\n",
    "plt.figure(figsize=(8,5))\n",
    "plt.plot(grid, effects, label=\"Efeito relativo (vs 25 anos)\", color=\"steelblue\")\n",
    "plt.fill_between(grid, ci_lower, ci_upper, color=\"steelblue\", alpha=0.2, label=\"IC 95%\")\n",
    "plt.axhline(0, color=\"black\", linestyle=\"--\", linewidth=1)\n",
    "plt.xlabel(\"Idade da mãe (anos)\")\n",
    "plt.ylabel(\"Diferença no peso ao nascer (g)\")\n",
    "plt.title(\"Curva dose–resposta: idade materna vs. peso ao nascer\")\n",
    "plt.legend()\n",
    "plt.grid(True, linestyle=\"--\", alpha=0.6)\n",
    "plt.show()\n"
   ]
  },
  {
   "cell_type": "code",
   "execution_count": 112,
   "metadata": {},
   "outputs": [],
   "source": [
    "def dose_response_avg(T0, T1):\n",
    "    eff = cf.effect(X, T0=T0, T1=T1)\n",
    "    return eff.mean()\n",
    "\n",
    "avg_effects = [dose_response_avg(T0, t1) for t1 in grid]\n"
   ]
  },
  {
   "cell_type": "code",
   "execution_count": 104,
   "metadata": {},
   "outputs": [
    {
     "name": "stdout",
     "output_type": "stream",
     "text": [
      "Δ peso (30 vs 25 anos): [35.44039808]\n"
     ]
    }
   ],
   "source": [
    "# Diferença entre ter 30 vs 25 anos, no X médio\n",
    "xbar = X.mean().to_frame().T\n",
    "eff_30vs25 = cf.effect(xbar, T0=25, T1=30)\n",
    "print(\"Δ peso (30 vs 25 anos):\", eff_30vs25)\n"
   ]
  },
  {
   "cell_type": "code",
   "execution_count": 105,
   "metadata": {},
   "outputs": [
    {
     "name": "stdout",
     "output_type": "stream",
     "text": [
      "(20.0, 25.0]                Uncertainty of Mean Point Estimate               \n",
      "================================================================\n",
      "mean_point stderr_mean zstat  pvalue ci_mean_lower ci_mean_upper\n",
      "----------------------------------------------------------------\n",
      "    -0.311      13.084 -0.024  0.981       -25.955        25.333\n",
      "      Distribution of Point Estimate     \n",
      "=========================================\n",
      "std_point pct_point_lower pct_point_upper\n",
      "-----------------------------------------\n",
      "   11.077         -23.572           20.04\n",
      "     Total Variance of Point Estimate     \n",
      "==========================================\n",
      "stderr_point ci_point_lower ci_point_upper\n",
      "------------------------------------------\n",
      "      17.143        -35.987         33.173\n",
      "------------------------------------------\n",
      "\n",
      "Note: The stderr_mean is a conservative upper bound.\n",
      "(15.0, 20.0]                Uncertainty of Mean Point Estimate               \n",
      "================================================================\n",
      "mean_point stderr_mean zstat  pvalue ci_mean_lower ci_mean_upper\n",
      "----------------------------------------------------------------\n",
      "    -2.949      15.037 -0.196  0.845       -32.421        26.524\n",
      "      Distribution of Point Estimate     \n",
      "=========================================\n",
      "std_point pct_point_lower pct_point_upper\n",
      "-----------------------------------------\n",
      "   11.305         -24.624          18.992\n",
      "     Total Variance of Point Estimate     \n",
      "==========================================\n",
      "stderr_point ci_point_lower ci_point_upper\n",
      "------------------------------------------\n",
      "      18.813        -40.481         35.127\n",
      "------------------------------------------\n",
      "\n",
      "Note: The stderr_mean is a conservative upper bound.\n",
      "(25.0, 30.0]                Uncertainty of Mean Point Estimate              \n",
      "===============================================================\n",
      "mean_point stderr_mean zstat pvalue ci_mean_lower ci_mean_upper\n",
      "---------------------------------------------------------------\n",
      "     5.351      12.107 0.442  0.659       -18.379        29.081\n",
      "      Distribution of Point Estimate     \n",
      "=========================================\n",
      "std_point pct_point_lower pct_point_upper\n",
      "-----------------------------------------\n",
      "    11.01         -19.751          24.814\n",
      "     Total Variance of Point Estimate     \n",
      "==========================================\n",
      "stderr_point ci_point_lower ci_point_upper\n",
      "------------------------------------------\n",
      "      16.365        -29.883         36.723\n",
      "------------------------------------------\n",
      "\n",
      "Note: The stderr_mean is a conservative upper bound.\n",
      "(30.0, 35.0]                Uncertainty of Mean Point Estimate              \n",
      "===============================================================\n",
      "mean_point stderr_mean zstat pvalue ci_mean_lower ci_mean_upper\n",
      "---------------------------------------------------------------\n",
      "     7.454      12.293 0.606  0.544        -16.64        31.549\n",
      "      Distribution of Point Estimate     \n",
      "=========================================\n",
      "std_point pct_point_lower pct_point_upper\n",
      "-----------------------------------------\n",
      "   10.361          -9.672          29.773\n",
      "     Total Variance of Point Estimate     \n",
      "==========================================\n",
      "stderr_point ci_point_lower ci_point_upper\n",
      "------------------------------------------\n",
      "      16.077        -23.859         41.535\n",
      "------------------------------------------\n",
      "\n",
      "Note: The stderr_mean is a conservative upper bound.\n",
      "(35.0, 40.0]                Uncertainty of Mean Point Estimate              \n",
      "===============================================================\n",
      "mean_point stderr_mean zstat pvalue ci_mean_lower ci_mean_upper\n",
      "---------------------------------------------------------------\n",
      "     5.171      12.089 0.428  0.669       -18.523        28.865\n",
      "      Distribution of Point Estimate     \n",
      "=========================================\n",
      "std_point pct_point_lower pct_point_upper\n",
      "-----------------------------------------\n",
      "   10.451         -10.091          28.614\n",
      "     Total Variance of Point Estimate     \n",
      "==========================================\n",
      "stderr_point ci_point_lower ci_point_upper\n",
      "------------------------------------------\n",
      "      15.981        -24.936         37.852\n",
      "------------------------------------------\n",
      "\n",
      "Note: The stderr_mean is a conservative upper bound.\n"
     ]
    }
   ],
   "source": [
    "bins = pd.cut(df['mage'], [15,20,25,30,35,40])\n",
    "for g in bins.unique():\n",
    "    idx = bins == g\n",
    "    if idx.sum()>0:\n",
    "        print(g, cf.ate_inference(X.loc[idx, :]).summary())\n"
   ]
  },
  {
   "cell_type": "code",
   "execution_count": 101,
   "metadata": {},
   "outputs": [
    {
     "name": "stdout",
     "output_type": "stream",
     "text": [
      "CME médio (g por ano): 2.437496189458869  | DP: 7.742900282410255\n"
     ]
    },
    {
     "ename": "AttributeError",
     "evalue": "'NormalInferenceResults' object has no attribute 'summary'",
     "output_type": "error",
     "traceback": [
      "\u001b[1;31m---------------------------------------------------------------------------\u001b[0m",
      "\u001b[1;31mAttributeError\u001b[0m                            Traceback (most recent call last)",
      "Cell \u001b[1;32mIn[101], line 7\u001b[0m\n\u001b[0;32m      5\u001b[0m \u001b[38;5;66;03m# Inferência (IC) para o CME por indivíduo\u001b[39;00m\n\u001b[0;32m      6\u001b[0m cme_inf \u001b[38;5;241m=\u001b[39m est\u001b[38;5;241m.\u001b[39mconst_marginal_effect_inference(X)\n\u001b[1;32m----> 7\u001b[0m \u001b[38;5;28mprint\u001b[39m(\u001b[43mcme_inf\u001b[49m\u001b[38;5;241;43m.\u001b[39;49m\u001b[43msummary\u001b[49m())   \u001b[38;5;66;03m# tabela grande (uma linha por obs.)\u001b[39;00m\n\u001b[0;32m      9\u001b[0m \u001b[38;5;66;03m# (b) Efeito marginal no X médio (perfil representativo)\u001b[39;00m\n\u001b[0;32m     10\u001b[0m xbar \u001b[38;5;241m=\u001b[39m X\u001b[38;5;241m.\u001b[39mmean()\u001b[38;5;241m.\u001b[39mto_frame()\u001b[38;5;241m.\u001b[39mT\n",
      "\u001b[1;31mAttributeError\u001b[0m: 'NormalInferenceResults' object has no attribute 'summary'"
     ]
    }
   ],
   "source": [
    "# (a) Efeito marginal por indivíduo (heterogeneidade)\n",
    "cme = np.ravel(est.const_marginal_effect(X))  # dY/d(mage) para cada linha de X\n",
    "print(\"CME médio (g por ano):\", cme.mean(), \" | DP:\", cme.std())\n",
    "\n",
    "# Inferência (IC) para o CME por indivíduo\n",
    "cme_inf = est.const_marginal_effect_inference(X)\n",
    "print(cme_inf.summary())   # tabela grande (uma linha por obs.)\n",
    "\n",
    "# (b) Efeito marginal no X médio (perfil representativo)\n",
    "xbar = X.mean().to_frame().T\n",
    "cme_xbar = float(np.ravel(est.const_marginal_effect(xbar)))\n",
    "ci_lo, ci_hi = est.const_marginal_effect_interval(xbar)\n",
    "print(\"CME no X médio:\", cme_xbar, \" | IC95%:\", float(ci_lo[0]), float(ci_hi[0]))\n"
   ]
  },
  {
   "cell_type": "markdown",
   "metadata": {},
   "source": [
    "1. Efeitos médios\n",
    "* ate(X) → retorna o ATE no conjunto X.\n",
    "* ate_inference(X) → retorna o ATE + ICs (resumidos em tabela).\n",
    "* att(X) e att_inference(X) → efeito médio no grupo tratado.\n",
    "\n",
    "2. Efeitos individuais e subgrupos\n",
    "* effect(X) → CATE estimado para cada indivíduo de X.\n",
    "* effect_inference(X) → o mesmo, mas com erros-padrão e ICs.\n",
    "* Isso é o que você já rodou com cate_inf.summary_frame().\n",
    "\n",
    "3. Importância das variáveis\n",
    "* feature_importances_ → importância das variáveis na heterogeneidade do CATE.\n",
    "* Isso responde: quem explica melhor a variação nos efeitos do tratamento?\n",
    "* Diferente do Gini/importância em Random Forest padrão, aqui é voltado para heterogeneidade causal.\n",
    "\n",
    "4. Heterogeneidade\n",
    "* const_marginal_effect(X) → retorna o efeito marginal do tratamento em cada ponto de X.\n",
    "* Essencialmente o mesmo que effect(X) para D binário.\n",
    "\n",
    "5. Inferência completa\n",
    "* summary() → imprime um sumário da população, incluindo ATE, ATT e incertezas.\n",
    "* effect_interval(X, alpha=0.05) → retorna diretamente os intervalos de confiança dos CATEs.\n",
    "* score_ → valor do critério de honestidade da floresta, útil como diagnóstico interno.\n",
    "\n",
    "6. Estrutura da floresta (avançado)\n",
    "* causal_forest_model (atributo interno) → é o objeto da floresta causal do econml.\n",
    "* Permite inspecionar árvores individuais, parâmetros de splitting etc.\n",
    "* causal_forest_model.oob_prediction_variance() → variância fora-da-amostra (OOB) das predições.\n",
    "\n"
   ]
  },
  {
   "cell_type": "markdown",
   "metadata": {},
   "source": [
    "***GATE***\n",
    "\n",
    "É possivel criarmos grupos de tratamento condicional (GATE - Group Average Treatment Effect), os quais podem ser úteis para identificar subgrupos com efeitos semelhantes.\n",
    "\n",
    "O GATE pode ser útil para o pesquisador, principalmente na hora de formular políticas públicas, pois permite entender como diferentes grupos da população podem reagir de maneira distinta a uma intervenção."
   ]
  },
  {
   "cell_type": "markdown",
   "metadata": {},
   "source": [
    "**Como podemos avaliar o desempenho do modelo CATE?**\n",
    "\n",
    "Cada uma das classes DML tem um atributo score_ depois de serem ajustadas. Então, é possível acessar esse atributo e comparar o desempenho em diferentes parâmetros de modelagem (quanto menor a pontuação, melhor):"
   ]
  },
  {
   "cell_type": "markdown",
   "metadata": {},
   "source": []
  },
  {
   "cell_type": "markdown",
   "metadata": {},
   "source": [
    "## Considerações Finais\n",
    "\n",
    "Vejamos um resumo do que foi visto.\n",
    "\n",
    "* O principal objetivo do DML é ajustar e remover a variável de confusão de forma que a variável de interesse (tratamento) e o resultado fiquem \"ortogonais\" ou \"independentes\".\n",
    "* DML combina métodos de aprendizado de máquina com técnicas econométricas para estimar efeitos causais.\n",
    "* A técnica geralmente envolve a aplicação de aprendizado de máquina para prever tanto o tratamento quanto o resultado usando as variáveis observáveis de confusão, e então os resíduos dessas previsões são utilizados em um segundo estágio para estimar o efeito causal.\n",
    "  * Primeiro Estágio: Aplicar modelos de aprendizado de máquina para prever a variável de tratamento e o resultado.\n",
    "  * Segundo Estágio: Utilizar os resíduos dessas previsões em um modelo de regressão para estimar o efeito causal.\n"
   ]
  },
  {
   "cell_type": "code",
   "execution_count": null,
   "metadata": {},
   "outputs": [],
   "source": [
    "from econml.orf import OrthogonalRandomForest\n",
    "from sklearn.ensemble import GradientBoostingRegressor, GradientBoostingClassifier\n",
    "\n",
    "# Modelos auxiliares para outcome e tratamento\n",
    "model_y = GradientBoostingRegressor(n_estimators=100, random_state=123)\n",
    "model_t = GradientBoostingClassifier(n_estimators=100, random_state=123)\n",
    "\n",
    "# Estimador Orthogonal Random Forest\n",
    "orf = OrthogonalRandomForest(\n",
    "    n_trees=500,            # Número de árvores na floresta\n",
    "    min_leaf_size=5,        # Número mínimo de observações por folha\n",
    "    max_depth=10,           # Profundidade máxima da árvore\n",
    "    subsample_ratio=0.7,    # Proporção de amostra usada em cada árvore\n",
    "    model_Y=model_y,        # Modelo para prever o outcome\n",
    "    model_T=model_t,        # Modelo para prever o tratamento\n",
    "    discrete_treatment=True, # Tratamento binário\n",
    "    random_state=123\n",
    ")\n",
    "\n",
    "# Ajuste (fit)\n",
    "orf.fit(Y, T, X=X, W=None)\n",
    "\n",
    "# Predição do CATE (theta(x))\n",
    "cate_pred = orf.effect(X)\n",
    "\n",
    "# Estimação do ATE\n",
    "ate_pred = cate_pred.mean()\n",
    "\n",
    "print(f\"Estimativa do ATE via ORF: {ate_pred}\")\n"
   ]
  },
  {
   "cell_type": "markdown",
   "metadata": {},
   "source": [
    "\n",
    "* Chernozhukov et al (2016) considera o caso em que $\\theta(X)$ é uma constante (ATE), ou uma função linear de $X$ (CATE) de baixa dimensão.\n",
    "* Nie (2017) cai em um Espaço de Hilbert do Kernel Reprodutor (RKHS).\n",
    "* Chernozhukov et al (2018) consideram o caso de um espaço linear esparso de alta dimensão, onde $\\theta(X) = <\\theta, \\phi(X)>$ para algum mapeamento de características de alta dimensão conhecido e onde $\\theta$ tem muito poucas entradas diferentes de zero (esparsas)\n",
    "* Athey (2019), entre outros resultados, considera o caso em que $\\theta(X)$ é uma função lipschitz não paramétrica e usa modelos de floresta aleatória para ajustar a função. Esse métodos permite maior flexibilidade para modelar $\\theta(X)$ sem assumir linearidade.\n",
    "* Foster (2019) permite modelos arbitrários $\\theta(X)$ e fornecer resultados com base em medidas de complexidade de amostra do espaço do modelo (por exemplo, complexidade de Rademacher, entropia métrica). Esse métodos permite maior flexibilidade para modelar $\\theta(X)$ sem assumir linearidade.\n",
    "\n",
    "A principal vantagem do DML é que se fizermos suposições paramétricas sobre $\\theta(X)$, então se obtém taxas de estimativa rápidas e, para muitos casos de estimadores de estágio final, também normalidade assintótica na estimativa do segundo estágio $\\hat{\\theta}$.\n"
   ]
  }
 ],
 "metadata": {
  "kernelspec": {
   "display_name": "Python 3",
   "language": "python",
   "name": "python3"
  },
  "language_info": {
   "codemirror_mode": {
    "name": "ipython",
    "version": 3
   },
   "file_extension": ".py",
   "mimetype": "text/x-python",
   "name": "python",
   "nbconvert_exporter": "python",
   "pygments_lexer": "ipython3",
   "version": "3.11.5"
  }
 },
 "nbformat": 4,
 "nbformat_minor": 2
}
