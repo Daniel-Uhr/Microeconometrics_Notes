{
 "cells": [
  {
   "cell_type": "markdown",
   "metadata": {},
   "source": [
    "# Ortogonalização e o *Double Machine Learning* (DML)\n",
    "\n",
    "Prof. Daniel de Abreu Pereira Uhr\n",
    "\n",
    "## Conteúdo\n",
    "\n",
    "* Ortogonalização\n",
    "  * Aplicação do Procedimento de Ortogonalização no Python\n",
    "* DML - Orthogonal/Double Machine Learning\n",
    "  * Partially Linear Regression Models (PLR)\n",
    "  * Partially Linear IV Regression Models (PLIV)\n",
    "  * Interactive regression models (IRM)\n",
    "  * Interactive IV regression models (IIVM)\n",
    "* Aplicação do DML em Python\n",
    "  * Partially Linear Regression Models* (PLR) - EconML - LinearDML\n",
    "    * ATE\n",
    "    * CATE\n",
    "    * CATE para características específicas\n",
    "\n",
    "\n",
    "\n",
    "## Referências\n",
    "\n",
    "**Principais:**\n",
    "* Chernozhukov, V., Chetverikov, D., Demirer, M., Duflo, E., Hansen, C., Newey, W., & Robins, J. (2018). Double/debiased machine learning for treatment and structural parameters. The Econometrics Journal, Volume 21, Issue 1, 1 February 2018, Pages C1–C68, https://doi.org/10.1111/ectj.12097\n",
    "* Chernozhukov\n",
    "* Microsoft EconML: https://econml.azurewebsites.net/\n",
    "* UBER CausalML: https://causalml.readthedocs.io/en/latest/\n",
    "* DoubleML for python: https://github.com/DoubleML/doubleml-for-py ou https://docs.doubleml.org/stable/index.html\n",
    "\n",
    "**Complementares:**\n",
    "* Chernozhukov, V. and C. Hansen (2004). The effects of 401 (k) participation on the wealth distribution: an instrumental quantile regression analysis. Review of Economics and Statistics 86, 735–51. \n",
    "* Chernozhukov, V., D. Chetverikov and K. Kato (2014). Gaussian approximation of suprema of empirical processes. Annals of Statistics 42, 1564–97. \n",
    "* Chernozhukov, V., J. Escanciano, H. Ichimura, W. Newey and J. Robins (2016). Locally robust semiparametric estimation. Preprint (arXiv:1608.00033). \n",
    "* Chernozhukov, V., C. Hansen and M. Spindler (2015a). Post-selection and post-regularization inference in linear models with very many controls and instruments. Americal Economic Review: Papers and Proceedings 105, 486–90. \n",
    "* Chernozhukov, V., C. Hansen and M. Spindler (2015b). Valid post-selection and post-regularization inference: an elementary, general approach. Annual Review of Economics 7, 649–88.\n",
    "* Bach, P., Chernozhukov, V., Kurz, M. S., and Spindler, M. (2022), DoubleML - An Object-Oriented Implementation of Double Machine Learning in Python, Journal of Machine Learning Research, 23(53): 1-6, https://www.jmlr.org/papers/v23/21-0862.html.\n",
    "* Bach, P., Chernozhukov, V., Kurz, M. S., Spindler, M. and Klaassen, S. (2024), DoubleML - An Object-Oriented Implementation of Double Machine Learning in R, Journal of Statistical Software, 108(3): 1-56, doi:10.18637/jss.v108.i03, arXiv:2103.09603.\n",
    "* Chernozhukov, V., Chetverikov, D., Demirer, M., Duflo, E., Hansen, C., Newey, W. and Robins, J. (2018), Double/debiased machine learning for treatment and structural parameters. The Econometrics Journal, 21: C1-C68, doi:10.1111/ectj.12097.\n",
    "* Lang, M., Binder, M., Richter, J., Schratz, P., Pfisterer, F., Coors, S., Au, Q., Casalicchio, G., Kotthoff, L. and Bischl, B. (2019), mlr3: A modern object-oriented machine learing framework in R. Journal of Open Source Software, doi:10.21105/joss.01903.\n",
    "* Pedregosa, F., Varoquaux, G., Gramfort, A., Michel, V., Thirion, B., Grisel, O., Blondel, M., Prettenhofer, P., Weiss, R., Dubourg, V., Vanderplas, J., Passos, A., Cournapeau, D., Brucher, M., Perrot, M. and Duchesnay, E. (2011), Scikit-learn: Machine Learning in Python. Journal of Machine Learning Research, 12: 2825–2830, https://jmlr.csail.mit.edu/papers/v12/pedregosa11a.html.\n",
    "\n",
    "\n",
    "**Observações:** O material apresentado aqui é uma adaptação do material de aula do Prof. Daniel de Abreu Pereira Uhr, e não deve ser utilizado para fins comerciais. O material é disponibilizado para fins educacionais e de pesquisa, e não deve ser reproduzido sem a devida autorização do autor. Este material pode conter erros e imprecisões. O autor não se responsabiliza por quaisquer danos ou prejuízos decorrentes do uso deste material. O uso deste material é de responsabilidade exclusiva do usuário. Caso você encontre erros ou imprecisões neste material, por favor, entre em contato com o autor para que possam ser corrigidos. O autor agradece qualquer *feedback* ou sugestão de melhoria.\n",
    "\n",
    "---"
   ]
  },
  {
   "cell_type": "markdown",
   "metadata": {},
   "source": [
    "## Ortogonalização\n",
    "\n",
    "A ideia de ortogonalização é baseada em um teorema elaborado por três econometristas em 1933, Ragnar Frisch, Frederick V. Waugh e Michael C. Lovell. Simplificando, afirma que você pode decompor qualquer modelo de regressão linear multivariável em três estágios ou modelos. \n",
    "\n",
    "Digamos que você tem uma matriz de covariáveis $X$, e voce particiona ela em duas partes, $X_{1}$ e $D$. \n",
    "\n",
    "* **Primeira Etapa**\n",
    "\n",
    "Pegamos o primeiro conjunto de variáveis $X_{1}$ e fazemos uma regressão linear de $X_{1}$ em $Y$, onde $\\theta_{1}$ é o vetor de parâmetros\n",
    "\n",
    "$$ y_{i} = \\theta_{0} + \\theta_{1} X_{1i} + \\epsilon_{i}$$\n",
    "\n",
    "e guardamos os resíduos dessa regressão ($y^{*}$).\n",
    "\n",
    "$$ y^{*}_{i} = y_{i} - \\hat{y}_{i} = y_{i} - ( \\hat{\\theta}_{0} + \\hat{\\theta}_{1} X_{1i} )$$\n",
    "\n",
    "* **Segunda Etapa**\n",
    "\n",
    "Pegamos novamente o primeiro conjunto de características, mas agora executamos um modelo onde estimamos o segundo conjunto de características ($D$)\n",
    "\n",
    "$$ D_{i} = \\gamma_{0} + \\gamma_{1} X_{1i} + e_{i}$$\n",
    "\n",
    "Aqui, estamos usando o primeiro conjunto de recursos para prever o segundo conjunto de recursos. Por fim, consideramos também os resíduos desta segunda etapa.\n",
    "\n",
    "$$ D_{i}^{*} = D_{i} - (\\hat{\\gamma_{0}} + \\hat{\\gamma_{1}} X_{1i})$$\n",
    "\n",
    "* **Terceira etapa**\n",
    "\n",
    "Por fim, pegamos os resíduos do primeiro e do segundo estágio e estimamos o seguinte modelo\n",
    "\n",
    "$$ y_{i}^{*} = \\alpha_{0} + \\beta_{2} D_{i}^{*} + e_{i}$$\n",
    "\n",
    "\n",
    "* **Teorema Frisch – Waugh – Lovell (FWL)**\n",
    "\n",
    "O teorema FWL afirma que a estimativa do parâmetro $\\hat{\\beta}_{2}$ (ATE), estimado anteriormente, é equivalente ao que obtemos ao executar a regressão completa, com todas as covariáveis.\n",
    "\n",
    "$$ y_{i} = \\beta_{0} + \\beta_{1} X_{1i} + \\beta_{2} D_{i} + e_{i}$$\n",
    "\n",
    "\n",
    "**Intuição do teorema FWL**\n",
    "\n",
    "Sabemos que a regressão é um modelo muito especial. Cada um de seus parâmetros tem a interpretação de uma derivada parcial, quanto seria Y se X aumentasse em uma unidade, mantendo todos as outras covariáveis constantes. Sabemos também que se omitirmos variáveis ​​da regressão, teremos viés. Especificamente, viés variável omitido (ou viés de confusão). Ainda assim, Frisch-Waugh-Lovell está dizendo que posso dividir meu modelo de regressão em duas partes, nenhuma delas contendo o conjunto completo de recursos, e ainda assim obter a mesma estimativa que obteria executando a regressão inteira. \n",
    "\n",
    "O teorema fornece algumas dicas sobre o que a regressão linear está fazendo. Para obter o coeficiente de uma variável $X_{k}$, a regressão primeiro usa todas as outras variáveis ​​para prever $X_{k}$ e pega os resíduos. Isso “limpa” $X_{k}$ de qualquer influência dessas variáveis. Dessa forma, quando tentamos entender o impacto de $X_{k}$ sobre $Y$, estará livre de viés de variável omitida. Em segundo lugar, a regressão usa todas as outras variáveis ​​para prever $Y$ e pega os resíduos. Isso “limpa” $Y$ de qualquer influência dessas variáveis, reduzindo a variância de $Y$ para que seja mais fácil ver como $X_{k}$ afeta $Y$.\n",
    "\n",
    "A regressão linear está estimando o impacto de $D$ sobre $y$ enquanto contabiliza $X_{1}$. Isso é importante para inferência causal. \n",
    "\n",
    "Assim, podemos construir um modelo que preveja um tratamento ($D$) usando as covariáveis $X$, um modelo que prevê o resultado $y$ usando as mesmas covariáveis, pegar os resíduos de ambos os modelos e executar um modelo que estime como o resíduo de $D$ afetam os resíduos de $y$. Este último modelo vai me dizer como $D$ afeta $y$ enquanto controla por $X$. \n",
    "\n",
    "Ou seja, **os dois primeiros modelos controlam as variáveis de confusão**. Eles estão **gerando dados que são praticamente aleatórios**. Lembre que é isso que estaria distorcendo seus dados. Então, usamos no modelo final para estimar o efeito causal de interesse **Average Treatment Effect - ATE**."
   ]
  },
  {
   "cell_type": "markdown",
   "metadata": {},
   "source": [
    "### Aplicação do Procedimento de Ortogonalização no Python\n",
    "\n",
    "Vamos aplicar o procedimento de ortogonalização considerando um modelo de regressão linear simples. Vamos realizar a orgonalização supondo linearidade entre as variáveis para entender o conceito. Posteriormente, vamos aplicar o procedimento de ortogonalização em um modelo de machine learning. "
   ]
  },
  {
   "cell_type": "markdown",
   "metadata": {},
   "source": [
    "Bibliotecas necessárias"
   ]
  },
  {
   "cell_type": "code",
   "execution_count": 1,
   "metadata": {},
   "outputs": [],
   "source": [
    "import pandas as pd\n",
    "import numpy as np\n",
    "import statsmodels.formula.api as smf\n",
    "import warnings\n",
    "warnings.filterwarnings(\"ignore\", message=\"\\'force_all_finite\\' was renamed to \\'ensure_all_finite\\'\")"
   ]
  },
  {
   "cell_type": "markdown",
   "metadata": {},
   "source": [
    "O próximo bloco de código carrega o dataset utilizado nos exemplos a seguir. Caso não abra por erro \"ConnectionResetError\", clique novamente para rodar, até que carregue com sucesso."
   ]
  },
  {
   "cell_type": "code",
   "execution_count": 10,
   "metadata": {},
   "outputs": [],
   "source": [
    "# DataFrame\n",
    "df = pd.read_stata(\"https://github.com/Daniel-Uhr/data/raw/main/cattaneo2.dta\")"
   ]
  },
  {
   "cell_type": "markdown",
   "metadata": {},
   "source": [
    "Filtragem das variáveis"
   ]
  },
  {
   "cell_type": "code",
   "execution_count": 11,
   "metadata": {},
   "outputs": [],
   "source": [
    "# Criar a variável de resultado\n",
    "df['Y'] = df['bweight']\n",
    "\n",
    "# Criar a variável 'Treated' com valor 1 se 'mbsmoke' for 'smoker', caso contrário 0\n",
    "df['D'] = np.where(df['mbsmoke'] == 'smoker', 1, 0)\n",
    "\n",
    "# Criar a variável 'casada' com valor 1 se 'mmarried' for 'married', caso contrário 0\n",
    "df['casada'] = np.where(df['mmarried'] == 'married', 1, 0)"
   ]
  },
  {
   "cell_type": "markdown",
   "metadata": {},
   "source": [
    "Para desviar este conjunto de dados, precisaremos de dois modelos. O primeiro modelo, vamos chamá-lo $M_{D}(X)$, prevê o tratamento (Se a gestante é fumante, no nosso caso) utilizando os confundidores. É um dos estágios que vimos acima, no teorema de Frisch–Waugh–Lovell.\n",
    "\n",
    "Assim que tivermos este modelo, construiremos os resíduos\n",
    "\n",
    "$$ D_{i}^{*} = D_{i} - M_{D}(X_{i})$$"
   ]
  },
  {
   "cell_type": "code",
   "execution_count": 12,
   "metadata": {},
   "outputs": [],
   "source": [
    "m_D = smf.ols(\"D ~ 1 + casada + mage + medu + fhisp + mhisp + foreign + alcohol + deadkids + nprenatal + mrace + frace + fage + fedu\", data=df).fit()\n",
    "df['D_star'] = df['D'] - m_D.predict(df)"
   ]
  },
  {
   "cell_type": "markdown",
   "metadata": {},
   "source": [
    "Você pode pensar neste resíduo como uma versão do tratamento que é imparcial ou, melhor ainda, que é impossível de prever a partir dos fatores de confusão $X$. Como os fatores de confusão já eram usados ​​para prever $D$, o resíduo é, por definição, imprevisível com com $X$. Outra maneira de dizer isso é que o viés foi explicado pelo modelo $M_{D}(X)$, produzindo $D_{i}^{*}$ que é tão bom quanto atribuído aleatoriamente. É claro que isso só funciona se tivermos em $X$ todos os fatores de confusão que causam ambos $D$ e $Y$."
   ]
  },
  {
   "cell_type": "markdown",
   "metadata": {},
   "source": [
    "Também podemos construir resíduos para o resultado.\n",
    "\n",
    "$$ y_{i}^{*} = y_{i} - M_{y}(X_{i})$$\n",
    "\n",
    "\n",
    "Este é outro estágio do teorema de Frisch – Waugh – Lovell. Isso não torna o conjunto menos tendencioso, mas facilita a estimativa do efeito, reduzindo a variância em $y$. Mais uma vez você pode pensar $y_{i}^{*}$ como uma versão de $y_{i}$ imprevisível de $X$ ou que teve todas as suas variações devido a $X$ explicadas. Pense nisso. Nós já usamos $X$ para prever $y$ com $M_{y}(X_{i})$. E $y_{i}^{*}$ é o erro dessa previsão. Então, por definição, não é possível prever isso a partir de $X$. Todas as informações em $X$ para prever $y$ já foram usadas. Se for esse o caso, a única coisa que resta para explicar $y_{i}^{*}$ é algo que não usamos usamos para construí-lo (não incluído em $X$), que é apenas o tratamento (novamente, assumindo que não há fatores de confusão não medidos).\n"
   ]
  },
  {
   "cell_type": "code",
   "execution_count": 13,
   "metadata": {},
   "outputs": [],
   "source": [
    "m_y = smf.ols(\"Y ~  1 + casada + mage + medu + fhisp + mhisp + foreign + alcohol + deadkids + nprenatal + mrace + frace + fage + fedu\", data=df).fit()\n",
    "df['y_star'] = df['Y'] - m_y.predict(df)"
   ]
  },
  {
   "cell_type": "markdown",
   "metadata": {},
   "source": [
    "Por fim, aplicando o teorema para o segundo estágio,\n",
    "\n",
    "$$ y_{i}^{*} = \\alpha_{0} + \\beta_{2} D_{i}^{*} + e_{i}$$\n"
   ]
  },
  {
   "cell_type": "code",
   "execution_count": 14,
   "metadata": {},
   "outputs": [
    {
     "name": "stdout",
     "output_type": "stream",
     "text": [
      "                            OLS Regression Results                            \n",
      "==============================================================================\n",
      "Dep. Variable:                 y_star   R-squared:                       0.021\n",
      "Model:                            OLS   Adj. R-squared:                  0.021\n",
      "Method:                 Least Squares   F-statistic:                     100.6\n",
      "Date:                Mon, 27 Oct 2025   Prob (F-statistic):           1.91e-23\n",
      "Time:                        18:40:16   Log-Likelihood:                -35858.\n",
      "No. Observations:                4642   AIC:                         7.172e+04\n",
      "Df Residuals:                    4640   BIC:                         7.173e+04\n",
      "Df Model:                           1                                         \n",
      "Covariance Type:            nonrobust                                         \n",
      "==============================================================================\n",
      "                 coef    std err          t      P>|t|      [0.025      0.975]\n",
      "------------------------------------------------------------------------------\n",
      "Intercept   1.586e-11      8.041   1.97e-12      1.000     -15.764      15.764\n",
      "D_star      -220.0220     21.932    -10.032      0.000    -263.020    -177.024\n",
      "==============================================================================\n",
      "Omnibus:                      553.208   Durbin-Watson:                   1.999\n",
      "Prob(Omnibus):                  0.000   Jarque-Bera (JB):             1427.823\n",
      "Skew:                          -0.673   Prob(JB):                    8.96e-311\n",
      "Kurtosis:                       5.360   Cond. No.                         2.73\n",
      "==============================================================================\n",
      "\n",
      "Notes:\n",
      "[1] Standard Errors assume that the covariance matrix of the errors is correctly specified.\n"
     ]
    }
   ],
   "source": [
    "FWL1 = smf.ols(\"y_star ~ D_star\", data=df).fit()\n",
    "print(FWL1.summary())"
   ]
  },
  {
   "cell_type": "markdown",
   "metadata": {},
   "source": [
    "Podemos comparar o resultado com o OLS tradicional que considera diretamente todas as covariáveis:"
   ]
  },
  {
   "cell_type": "code",
   "execution_count": 15,
   "metadata": {},
   "outputs": [
    {
     "name": "stdout",
     "output_type": "stream",
     "text": [
      "                            OLS Regression Results                            \n",
      "==============================================================================\n",
      "Dep. Variable:                      Y   R-squared:                       0.104\n",
      "Model:                            OLS   Adj. R-squared:                  0.102\n",
      "Method:                 Least Squares   F-statistic:                     38.49\n",
      "Date:                Mon, 27 Oct 2025   Prob (F-statistic):          5.80e-100\n",
      "Time:                        18:40:19   Log-Likelihood:                -35858.\n",
      "No. Observations:                4642   AIC:                         7.175e+04\n",
      "Df Residuals:                    4627   BIC:                         7.184e+04\n",
      "Df Model:                          14                                         \n",
      "Covariance Type:            nonrobust                                         \n",
      "==============================================================================\n",
      "                 coef    std err          t      P>|t|      [0.025      0.975]\n",
      "------------------------------------------------------------------------------\n",
      "Intercept   2851.5203     54.983     51.861      0.000    2743.727    2959.314\n",
      "D           -220.0220     21.963    -10.018      0.000    -263.080    -176.964\n",
      "casada        42.7633     23.589      1.813      0.070      -3.482      89.009\n",
      "mage           3.2878      1.935      1.699      0.089      -0.506       7.082\n",
      "medu          -1.5659      4.130     -0.379      0.705      -9.664       6.532\n",
      "fhisp        -22.9258     63.841     -0.359      0.720    -148.084     102.232\n",
      "mhisp         15.0538     68.152      0.221      0.825    -118.557     148.664\n",
      "foreign       -6.8607     39.628     -0.173      0.863     -84.550      70.828\n",
      "alcohol       -9.5560     46.486     -0.206      0.837    -100.690      81.578\n",
      "deadkids     -13.8988     18.872     -0.736      0.461     -50.897      23.099\n",
      "nprenatal     26.1331      2.328     11.225      0.000      21.569      30.697\n",
      "mrace        176.3951     44.950      3.924      0.000      88.272     264.518\n",
      "frace         50.9355     44.172      1.153      0.249     -35.663     137.534\n",
      "fage          -0.9152      1.194     -0.767      0.443      -3.256       1.425\n",
      "fedu           1.0262      3.139      0.327      0.744      -5.128       7.180\n",
      "==============================================================================\n",
      "Omnibus:                      553.208   Durbin-Watson:                   1.999\n",
      "Prob(Omnibus):                  0.000   Jarque-Bera (JB):             1427.823\n",
      "Skew:                          -0.673   Prob(JB):                    8.96e-311\n",
      "Kurtosis:                       5.360   Cond. No.                         485.\n",
      "==============================================================================\n",
      "\n",
      "Notes:\n",
      "[1] Standard Errors assume that the covariance matrix of the errors is correctly specified.\n"
     ]
    }
   ],
   "source": [
    "ols = smf.ols(\"Y ~ D + 1 + casada + mage + medu + fhisp + mhisp + foreign + alcohol + deadkids + nprenatal + mrace + frace + fage + fedu\", data=df).fit()\n",
    "print(ols.summary())"
   ]
  },
  {
   "cell_type": "markdown",
   "metadata": {},
   "source": [
    "Realmente o teorema de Frisch-Waugh-Lovell funciona mesmo."
   ]
  },
  {
   "cell_type": "markdown",
   "metadata": {},
   "source": [
    "Podemos concluir que depois de fazermos as duas transformações, a única coisa que resta para prever esses resíduos é o tratamento. "
   ]
  },
  {
   "cell_type": "markdown",
   "metadata": {},
   "source": [
    "Para resumir, ao prever o tratamento, construímos $D^{*}$ que funciona como uma versão imparcial do tratamento; ao prever o resultado, construímos $y^{*}$ que é uma versão do resultado que só pode ser explicada se usarmos o tratamento. Esses dados, onde substituímos por $y$ por $y^{*}$ e $D$ por $D^{*}$, são os dados desviados que queríamos. Podemos usá-lo para avaliar nosso modelo causal da mesma forma que fizemos anteriormente, usando dados aleatórios."
   ]
  },
  {
   "cell_type": "markdown",
   "metadata": {},
   "source": [
    "##  DML - Orthogonal/Double Machine Learning\n",
    "\n",
    "Vimos que o teorema de Frisch-Waugh-Lovell nos permite estimar o efeito causal de um tratamento $D$ sobre um resultado $Y$ enquanto controlamos por um conjunto de covariáveis $X$ para uma abordagem linear nos dois estágios.\n",
    "\n",
    "No entanto, a abordagem linear pode ser muito restritiva. Em muitos casos, as relações entre as variáveis podem ser não lineares ou de alta dimensão. Nesses contexto, podemos usar **algoritmos de aprendizado de máquina** para **controlar essas relações não lineares de alta dimensão**. \n",
    "\n",
    "Então podemos aplicar o \"Double Machine Learning - DML\" (Double/Debiased Machine Learning - DDML). Onde utilizamos ortogonalização com modelos de aprendizado de máquina para isolar o ATE ou CATE. \n",
    "\n",
    "O artigo que fundamenta Double Machine Learning é de **Chernozhukov et al (2018)** :\n",
    "\n",
    "<div style=\"text-align:center;\">\n",
    "    <img src=\"images\\Chernozhucov.png\"  alt=\"Imagem\" style=\"width: 700px;\"/>\n",
    "</div>\n",
    "\n",
    "\n",
    "Basicamente temos 4 abordagens:\n",
    "\n",
    "\n",
    "* Partially Linear Regression Models (PLR)\n",
    "* Partially Linear IV Regression Models (PLIV)\n",
    "* Interactive regression models (IRM)\n",
    "* Interactive IV regression models (IIVM)"
   ]
  },
  {
   "cell_type": "markdown",
   "metadata": {},
   "source": [
    "### *Partially Linear Regression Models* (PLR)\n",
    "\n",
    "Partindo do Partially Linear Regression Models (PLR), Chernozhukov et al (2018) propõem uma abordagem para estimar o CATE.\n",
    "\n",
    "$$ Y = \\theta(X)D + g_{y}(X) + \\epsilon$$\n",
    "\n",
    "* $\\theta(X)$ é o efeito heterogêneo do tratamento (CATE).\n",
    "* $g_{y}(X)$ é uma função de $X$ que captura a relação entre $Y$ e $X$ (ou seja, os fatores não relacionados ao tratamento).\n",
    "* $E(\\epsilon|D,X)=0$, e\n",
    "\n",
    "$$ D = m_{D}(X) + \\eta$$\n",
    "\n",
    "* $m_{D}(X)$ é uma função de $X$ que captura a relação entre $D$ e $X$\n",
    "* $E(\\eta|X)=0$.\n",
    "\n",
    "Isso significa que o efeito do tratamento ($\\theta(X)$) é uma função de $X$, e não um valor constante. Além disso,  tanto o tratamento ($D$) quanto o resultado ($Y$) são funções de $X$.\n",
    "\n",
    "\n",
    "Utilizando o DML, podemos estimar o CATE seguindo os seguintes passos:\n",
    "\n",
    "Com base no procedimento de ortogonalização, os primeiros estágios do DML são:\n",
    "\n",
    "$$ D^{*} = D - m_{0}(X)$$\n",
    "\n",
    "e,\n",
    "\n",
    "$$ Y^{*} = Y - g_{y}(X)$$\n",
    "\n",
    "Posteriormente, teremos o segundo estágio do DML:\n",
    "\n",
    "$$ Y^{*} = \\alpha + \\theta(X)D^{*} + \\epsilon$$\n",
    "\n",
    "\n",
    "Formalmente:\n",
    "\n",
    "$$ \\theta = argmin_{\\theta} E[(Y^{*} - \\theta (X) D^{*})^{2}] + \\lambda R(\\theta)$$\n",
    "\n",
    "para algum termo de regularização fortemente convexo $R$, e $\\lambda > 0$ é um parâmetro de regularização. O termo de regularização ajuda a evitar overfitting e é especialmente útil em modelos de alta dimensão, onde $\\theta$ pode ser esparso (muitos coeficientes iguais a zero, em outras palavras, apenas algumas variáveis ou características têm influência significativa, enquanto o restante pode ser ignorado sem perda relevante de informação).\n",
    "**Estimativas do CATE**\n",
    "\n",
    "O ponto novo na nossa abordagem é que, agora, o $\\theta(X)$ é o efeito heterogêneo do tratamento (CATE), e pode-se assumir que ele segue uma relação linear das covariáveis/recursos (a linearidade assumida para $\\theta(X)$ é uma simplificação útil para interpretação e análise inicial), da seguinte forma:\n",
    "\n",
    "$$ \\theta(X) = X'\\beta + \\theta_{\\text{intercept}}$$\n",
    "\n",
    "* $X'$ é o vetor transposto das covariáveis.\n",
    "* $\\beta$ são os coeficientes que medem o efeito de cada covariável em $\\theta(X)$.\n",
    "* $\\theta_{\\text{intercept}}$ é o intercepto do modelo (cate_intercept)."
   ]
  },
  {
   "cell_type": "markdown",
   "metadata": {},
   "source": [
    "### *Partially Linear IV Regression Models* (PLIV)\n",
    "\n",
    "Ele é usado quando $D$ é endógeno, ou seja, correlacionado com o erro $\\epsilon$.\n",
    "\n",
    "$$ Y = \\theta D + g(X) + \\epsilon$$\n",
    "\n",
    "$$ D = m(X,Z) + \\eta$$\n",
    "\n",
    "Com $Z$ sendo o conjunto das variáveis instrumentais. Repare que os instrumentos entram na primeira etapa, para \"desenviesar\" o tratamento $D$.\n",
    "\n",
    "* No EconML: LinearIVDML\n",
    "  * `from econml.iv.dml import LinearIVDML, SparseLinearIVDML, NonParamDMLIV`\n",
    "* PLIV: assume relação parcialmente linear em $D$ ($Y = \\theta D + g(X) + \\epsilon$), mais parecido com 2SLS.\n",
    "\n",
    "### *Interactive regression models* (IRM)\n",
    "\n",
    "Nie & Wager (2017) propuseram o R-learner, também chamado em alguns textos de Interactive Regression Model (IRM). O modelo IRM **relaxa a suposição de linearidade** entre $D$ e $Y$. Ele permite que o efeito do tratamento $D$ seja não linear e interativo com $X$:\n",
    "\n",
    "$$ Y = g(D,X) + U $$\n",
    "\n",
    "$$ D = m(X) + V $$\n",
    "\n",
    "Tem como objetivo relaxar a suposição de separabilidade entre $X$ e $D$, permitindo interações entre as covariáveis $X$ e o tratamento $D$.\n",
    "\n",
    "Procedimento:\n",
    "* Estima-se $E[D|X]$\n",
    "* Calcula-se $E[Y|X,D=0]$ e $E[Y|X,D=1]$, permitindo modelar como $Y$ depende de $D$ e $X$ conjuntamente.\n",
    "* Suposição de D binário, e relações não lineares e interativas podem existir entre $X$, $D$ e $Y$.\n",
    "\n",
    "O pacote EconML não tem uma classe chamada RLearner ou IRM explícita. O DRLearner é exatamente a versão duplamente robusta do R-learner/IRM.\n",
    "\n",
    "### *Interactive IV regression models* (IIVM)\n",
    "\n",
    "Queremos o efeito médio local do tratamento (LATE): o efeito para os compliers, ou seja, indivíduos cuja decisão de tratamento é influenciada pela variação em Z.\n",
    "Logo, aqui o resultado é o CATE entre os compliers, ou seja, um ***Conditional LATE (CLATE)***.\n",
    "\n",
    "$$ Y = g(D,X) + U $$\n",
    "$$ D = m(X,Z) + V $$\n",
    "$$ Z = h(X) + E $$\n",
    "\n",
    "objetivo é estimar o efeito médio local do tratamento (LATE) em contextos com endogeneidade e relações interativas entre $Z$, $X$, $D$ e $Y$.\n",
    "\n",
    "Procedimento, Estima-se:\n",
    "* $E[Y|X,Z=0]$, $E[Y|X,Z=1]$: Relação entre $Y$, $X$ e $Z$\n",
    "* $E[D|X,Z=0]$, $E[D|X,Z=1]$: Relação entre $D$, $X$ e $Z$\n",
    "* $E[Z|X]$: Relação entre $Z$ e $X$\n",
    "\n",
    "Usa-se $Z$ para capturar interações entre as variáveis. Supõe-se relação não linear e iterativa entre $D$, $Z$, $X$ e $Y$. E $Z$ é um instrumento válido. Aplicação do LATE em situações de endogeneidade com heterogeneidade.\n",
    "\n",
    "No EconML, a implementação do Interactive IV Model para tratamento binário e instrumento binário.\n",
    "* `from econml.iv.nnet import IIVM`\n",
    "* IIVM: não linear e interativo, permitindo que o efeito do tratamento varie com $X$ e que a relação de $D$ com $Z$ seja arbitrária.\n",
    "* O alvo é o LATE, não o ATE.\n"
   ]
  },
  {
   "cell_type": "markdown",
   "metadata": {},
   "source": [
    "## Aplicação do DML em Python\n",
    "\n",
    "### *Partially Linear Regression Models* (PLR) - EconML - LinearDML\n",
    "\n",
    "Vamos rodar o modelo *Partially Linear Regression Models* (PLR), `LinearDML`, com estimador de *Machine Learning*: \"Gradient Boosting\". Com o pacote EconML da Microsoft para aplicar o DML. \n",
    "\n",
    "#### ATE\n",
    "\n",
    "Carregando os pacotes para esta análise (lembre que já estamos utilizano o dataframe carregado anteriormente)."
   ]
  },
  {
   "cell_type": "code",
   "execution_count": 17,
   "metadata": {},
   "outputs": [],
   "source": [
    "from econml.dml import LinearDML\n",
    "from sklearn.ensemble import GradientBoostingRegressor, GradientBoostingClassifier"
   ]
  },
  {
   "cell_type": "code",
   "execution_count": 18,
   "metadata": {},
   "outputs": [],
   "source": [
    "# Definir as variáveis\n",
    "X = df[['casada', 'mage', 'medu', 'fhisp', 'mhisp', 'foreign', 'alcohol', 'deadkids', 'nprenatal', 'mrace', 'frace', 'fage', 'fedu']]\n",
    "D = df['D']\n",
    "y = df['Y']"
   ]
  },
  {
   "cell_type": "code",
   "execution_count": 19,
   "metadata": {},
   "outputs": [],
   "source": [
    "# Converter variáveis categóricas em dummies (se necessário)\n",
    "X = pd.get_dummies(X, drop_first=True)"
   ]
  },
  {
   "cell_type": "code",
   "execution_count": 20,
   "metadata": {},
   "outputs": [],
   "source": [
    "# Definir os modelos de Machine Learning para (i) X em Y, e (ii) X em D\n",
    "model_y = GradientBoostingRegressor(n_estimators=100, random_state=123)\n",
    "model_d = GradientBoostingClassifier(n_estimators=100, random_state=123)"
   ]
  },
  {
   "cell_type": "code",
   "execution_count": 21,
   "metadata": {},
   "outputs": [
    {
     "name": "stdout",
     "output_type": "stream",
     "text": [
      "               Uncertainty of Mean Point Estimate               \n",
      "================================================================\n",
      "mean_point stderr_mean zstat  pvalue ci_mean_lower ci_mean_upper\n",
      "----------------------------------------------------------------\n",
      "  -210.026      26.169 -8.026    0.0      -261.315      -158.736\n",
      "      Distribution of Point Estimate     \n",
      "=========================================\n",
      "std_point pct_point_lower pct_point_upper\n",
      "-----------------------------------------\n",
      "  120.872        -397.661         131.258\n",
      "     Total Variance of Point Estimate     \n",
      "==========================================\n",
      "stderr_point ci_point_lower ci_point_upper\n",
      "------------------------------------------\n",
      "     123.672       -450.408        161.909\n",
      "------------------------------------------\n"
     ]
    }
   ],
   "source": [
    "# Criar o estimador LinearDML\n",
    "estimator = LinearDML(model_y=model_y,\n",
    "                      model_t=model_d,\n",
    "                      discrete_treatment=True,\n",
    "                      cv=10,\n",
    "                      random_state=123)\n",
    "\n",
    "# Ajustar o modelo\n",
    "estimator.fit(y, D, X=X)\n",
    "\n",
    "ate_inf = estimator.ate_inference(X=X)\n",
    "print(ate_inf.summary())"
   ]
  },
  {
   "cell_type": "markdown",
   "metadata": {},
   "source": [
    "Aqui temos o efeito médio do tratamento (ATE) estimado. \n",
    "\n",
    "#### CATE\n",
    "\n",
    "Agora, vamos calcular o efeito heterogêneo do tratamento (CATE) para cada característica. Lembre que estamos consdiderando o modelo que supõe que o CATE é linear nas covariáveis (LinearDML). Os resultados já estão disponíveis no objeto \"estimator\" realizado pelo pacote EconML.\n"
   ]
  },
  {
   "cell_type": "code",
   "execution_count": 22,
   "metadata": {},
   "outputs": [
    {
     "name": "stdout",
     "output_type": "stream",
     "text": [
      "                      Coefficient Results                       \n",
      "================================================================\n",
      "          point_estimate  stderr zstat  pvalue ci_lower ci_upper\n",
      "----------------------------------------------------------------\n",
      "casada            28.828  55.792  0.517  0.605  -80.522  138.178\n",
      "mage             -11.333   5.261 -2.154  0.031  -21.644   -1.022\n",
      "medu              17.987  11.957  1.504  0.133   -5.449   41.422\n",
      "fhisp             66.089 130.914  0.505  0.614 -190.497  322.676\n",
      "mhisp            -85.452 161.644 -0.529  0.597 -402.269  231.364\n",
      "foreign           348.68 153.471  2.272  0.023   47.882  649.478\n",
      "alcohol          -30.274  91.655  -0.33  0.741 -209.915  149.368\n",
      "deadkids          37.647  51.511  0.731  0.465  -63.312  138.606\n",
      "nprenatal        -14.287   6.922 -2.064  0.039  -27.853   -0.721\n",
      "mrace           -144.841 102.649 -1.411  0.158 -346.029   56.347\n",
      "frace             48.413  99.684  0.486  0.627 -146.964  243.791\n",
      "fage              -0.022   2.781 -0.008  0.994   -5.472    5.427\n",
      "fedu              -0.491   8.399 -0.059  0.953  -16.954   15.971\n",
      "                       CATE Intercept Results                       \n",
      "====================================================================\n",
      "               point_estimate  stderr zstat pvalue ci_lower ci_upper\n",
      "--------------------------------------------------------------------\n",
      "cate_intercept         57.711 166.066 0.348  0.728 -267.772  383.194\n",
      "--------------------------------------------------------------------\n",
      "\n",
      "<sub>A linear parametric conditional average treatment effect (CATE) model was fitted:\n",
      "$Y = \\Theta(X)\\cdot T + g(X, W) + \\epsilon$\n",
      "where for every outcome $i$ and treatment $j$ the CATE $\\Theta_{ij}(X)$ has the form:\n",
      "$\\Theta_{ij}(X) = X' coef_{ij} + cate\\_intercept_{ij}$\n",
      "Coefficient Results table portrays the $coef_{ij}$ parameter vector for each outcome $i$ and treatment $j$. Intercept Results table portrays the $cate\\_intercept_{ij}$ parameter.</sub>\n"
     ]
    }
   ],
   "source": [
    "print(estimator.summary())"
   ]
  },
  {
   "cell_type": "markdown",
   "metadata": {},
   "source": [
    "**Interpretação:**\n",
    "\n",
    "* mage (idade da mãe):\n",
    "  * point_estimate: -11.333 (p-value: 0.031)\n",
    "  * Isso sugere que, para cada aumento de um ano na idade da mãe, o efeito negativo de fumar durante a gravidez no peso ao nascer diminui em 11.047 gramas (ou seja, o efeito se torna mais negativo).\n",
    "  * Há evidência estatística de que a idade da mãe influencia o efeito de fumar durante a gravidez sobre o peso ao nascer.\n",
    "\n",
    "* medu (educação materna):\n",
    "  * point_estimate: 17.987 (p-value: 0.133)\n",
    "  * Então, não há evidência estatística de que a educação materna mitigue o efeito negativo. A direção sugerida é positiva (maior educação → efeito menos negativo), mas sem significância.\n",
    "\n",
    "* foreign (se a mãe é estrangeira):\n",
    "  * point_estimate: 348.68 (p-value: 0.023 )\n",
    "  * Sugere que mães estrangeiras apresentam um efeito tratamento condicional ~349 g maior do que mães não estrangeiras.\n",
    "  * Interpretação: a nacionalidade estrangeira está associada a um efeito menos negativo do fumo.\n",
    "\n",
    "* Outras variáveis: Algumas covariáveis não são estatisticamente significativas (pvalue > 0.05), indicando que não há evidência suficiente para afirmar que essas covariáveis influenciam o efeito do tratamento.\n",
    "\n",
    "* CATE Intercept Results (Resultados do Intercepto do CATE):\n",
    "  * cate_intercept = 57.711, p-valor = 0.728 (não significativo)\n",
    "  * Esse é apenas o “baseline” quando todas as variáveis estão em zero — dificilmente tem interpretação substantiva.\n",
    "\n",
    "O modelo sugere que mães mais velhas sofrem um impacto mais negativo do fumo no peso ao nascer, enquanto mães estrangeiras apresentam um impacto menos negativo. Para outras covariáveis, não há evidência robusta de heterogeneidade.\n",
    "\n",
    "**Resumo:**\n",
    "\n",
    "* O efeito do fumo não é constante; ele varia com características maternas.\n",
    "* Idade materna (mage): significativa, aumenta a gravidade do efeito negativo.\n",
    "* Educação materna (medu): direção sugere mitigação, mas não é estatisticamente significativa.\n",
    "* Mãe estrangeira (foreign): significativa, associada a um efeito menos negativo.\n",
    "* Demais covariáveis: não significativas.\n",
    "* Intercepto: não interpretável isoladamente."
   ]
  },
  {
   "cell_type": "markdown",
   "metadata": {},
   "source": [
    "#### CATE - Definição das Características Específicas\n",
    "\n",
    "Certo, vimos o CATE de forma geral. E se quisermos especificar um tipo de indivíduo? Que tenha características que possamos definir?\n",
    "\n",
    "Então, para calcular o efeito tratamento condicional ($\\theta(X)$) para um conjunto específico de covariáveis $X$, em:\n",
    "\n",
    "$$ \\hat{\\theta}(X) = X'\\hat{\\beta} + \\hat{\\theta}_{\\text{intercept}}$$\n",
    "\n",
    "Por exemplo, suponha que você queira calcular o efeito para uma gestante que seja apenas casada, e que as demais variáveis sejam mantidas no valor médio da amostra."
   ]
  },
  {
   "cell_type": "markdown",
   "metadata": {},
   "source": [
    "***CATE nos valores médios***"
   ]
  },
  {
   "cell_type": "code",
   "execution_count": 24,
   "metadata": {},
   "outputs": [],
   "source": [
    "# calcula a média das covariáveis\n",
    "x_mean = X.mean().to_dict()\n",
    "\n",
    "# cria uma linha com os valores médios\n",
    "x_point = pd.DataFrame([x_mean])"
   ]
  },
  {
   "cell_type": "code",
   "execution_count": 25,
   "metadata": {},
   "outputs": [
    {
     "data": {
      "application/vnd.microsoft.datawrangler.viewer.v0+json": {
       "columns": [
        {
         "name": "index",
         "rawType": "int64",
         "type": "integer"
        },
        {
         "name": "casada",
         "rawType": "float64",
         "type": "float"
        },
        {
         "name": "mage",
         "rawType": "float64",
         "type": "float"
        },
        {
         "name": "medu",
         "rawType": "float64",
         "type": "float"
        },
        {
         "name": "fhisp",
         "rawType": "float64",
         "type": "float"
        },
        {
         "name": "mhisp",
         "rawType": "float64",
         "type": "float"
        },
        {
         "name": "foreign",
         "rawType": "float64",
         "type": "float"
        },
        {
         "name": "alcohol",
         "rawType": "float64",
         "type": "float"
        },
        {
         "name": "deadkids",
         "rawType": "float64",
         "type": "float"
        },
        {
         "name": "nprenatal",
         "rawType": "float64",
         "type": "float"
        },
        {
         "name": "mrace",
         "rawType": "float64",
         "type": "float"
        },
        {
         "name": "frace",
         "rawType": "float64",
         "type": "float"
        },
        {
         "name": "fage",
         "rawType": "float64",
         "type": "float"
        },
        {
         "name": "fedu",
         "rawType": "float64",
         "type": "float"
        }
       ],
       "ref": "8307866b-b3b2-4b87-af1e-ce767b1f94fb",
       "rows": [
        [
         "0",
         "0.6996984058595433",
         "26.50452391210685",
         "12.689573459715639",
         "0.03705299439896596",
         "0.034037052994398964",
         "0.05342524773804395",
         "0.03231365790607497",
         "0.25937096079276173",
         "10.758078414476518",
         "0.8405859543300301",
         "0.8136579060749677",
         "27.26712623869022",
         "12.307195174493753"
        ]
       ],
       "shape": {
        "columns": 13,
        "rows": 1
       }
      },
      "text/html": [
       "<div>\n",
       "<style scoped>\n",
       "    .dataframe tbody tr th:only-of-type {\n",
       "        vertical-align: middle;\n",
       "    }\n",
       "\n",
       "    .dataframe tbody tr th {\n",
       "        vertical-align: top;\n",
       "    }\n",
       "\n",
       "    .dataframe thead th {\n",
       "        text-align: right;\n",
       "    }\n",
       "</style>\n",
       "<table border=\"1\" class=\"dataframe\">\n",
       "  <thead>\n",
       "    <tr style=\"text-align: right;\">\n",
       "      <th></th>\n",
       "      <th>casada</th>\n",
       "      <th>mage</th>\n",
       "      <th>medu</th>\n",
       "      <th>fhisp</th>\n",
       "      <th>mhisp</th>\n",
       "      <th>foreign</th>\n",
       "      <th>alcohol</th>\n",
       "      <th>deadkids</th>\n",
       "      <th>nprenatal</th>\n",
       "      <th>mrace</th>\n",
       "      <th>frace</th>\n",
       "      <th>fage</th>\n",
       "      <th>fedu</th>\n",
       "    </tr>\n",
       "  </thead>\n",
       "  <tbody>\n",
       "    <tr>\n",
       "      <th>0</th>\n",
       "      <td>0.699698</td>\n",
       "      <td>26.504524</td>\n",
       "      <td>12.689573</td>\n",
       "      <td>0.037053</td>\n",
       "      <td>0.034037</td>\n",
       "      <td>0.053425</td>\n",
       "      <td>0.032314</td>\n",
       "      <td>0.259371</td>\n",
       "      <td>10.758078</td>\n",
       "      <td>0.840586</td>\n",
       "      <td>0.813658</td>\n",
       "      <td>27.267126</td>\n",
       "      <td>12.307195</td>\n",
       "    </tr>\n",
       "  </tbody>\n",
       "</table>\n",
       "</div>"
      ],
      "text/plain": [
       "     casada       mage       medu     fhisp     mhisp   foreign   alcohol  \\\n",
       "0  0.699698  26.504524  12.689573  0.037053  0.034037  0.053425  0.032314   \n",
       "\n",
       "   deadkids  nprenatal     mrace     frace       fage       fedu  \n",
       "0  0.259371  10.758078  0.840586  0.813658  27.267126  12.307195  "
      ]
     },
     "execution_count": 25,
     "metadata": {},
     "output_type": "execute_result"
    }
   ],
   "source": [
    "x_point"
   ]
  },
  {
   "cell_type": "markdown",
   "metadata": {},
   "source": [
    "Vamos verificar o efeito para as mulheres que apresentam as características médias"
   ]
  },
  {
   "cell_type": "code",
   "execution_count": 26,
   "metadata": {},
   "outputs": [
    {
     "name": "stdout",
     "output_type": "stream",
     "text": [
      "               Uncertainty of Mean Point Estimate               \n",
      "================================================================\n",
      "mean_point stderr_mean zstat  pvalue ci_mean_lower ci_mean_upper\n",
      "----------------------------------------------------------------\n",
      "  -210.026      26.169 -8.026    0.0      -261.315      -158.736\n",
      "      Distribution of Point Estimate     \n",
      "=========================================\n",
      "std_point pct_point_lower pct_point_upper\n",
      "-----------------------------------------\n",
      "      0.0        -210.026        -210.026\n",
      "     Total Variance of Point Estimate     \n",
      "==========================================\n",
      "stderr_point ci_point_lower ci_point_upper\n",
      "------------------------------------------\n",
      "      26.169       -261.315       -158.736\n",
      "------------------------------------------\n"
     ]
    }
   ],
   "source": [
    "res_cate_medias = estimator.ate_inference(X=x_point)\n",
    "print(res_cate_medias.summary())"
   ]
  },
  {
   "cell_type": "markdown",
   "metadata": {},
   "source": [
    "Repare que é o mesmo valor do ATE, entretanto como fixamos os valores na média, não temos mais a variação entre os indivíduos."
   ]
  },
  {
   "cell_type": "markdown",
   "metadata": {},
   "source": [
    "***CATE para casadas e demais valores médios***\n",
    "\n",
    "Agora, queremos estudar ***apenas o caso da gestante ser casada***, e vamos manter as demais variáveis no valor médio da amostra."
   ]
  },
  {
   "cell_type": "code",
   "execution_count": 27,
   "metadata": {},
   "outputs": [],
   "source": [
    "# calcula a média das covariáveis\n",
    "x_mean = X.mean().to_dict()\n",
    "\n",
    "# cria uma linha com os valores médios\n",
    "x_point = pd.DataFrame([x_mean])\n",
    "\n",
    "# substitui a coluna (valor) da variável casada pelas condição de interesse\n",
    "x_point['casada'] = 1"
   ]
  },
  {
   "cell_type": "code",
   "execution_count": 28,
   "metadata": {},
   "outputs": [
    {
     "name": "stdout",
     "output_type": "stream",
     "text": [
      "               Uncertainty of Mean Point Estimate              \n",
      "===============================================================\n",
      "mean_point stderr_mean zstat pvalue ci_mean_lower ci_mean_upper\n",
      "---------------------------------------------------------------\n",
      "  -201.369      33.786 -5.96    0.0      -267.588      -135.149\n",
      "      Distribution of Point Estimate     \n",
      "=========================================\n",
      "std_point pct_point_lower pct_point_upper\n",
      "-----------------------------------------\n",
      "      0.0        -201.369        -201.369\n",
      "     Total Variance of Point Estimate     \n",
      "==========================================\n",
      "stderr_point ci_point_lower ci_point_upper\n",
      "------------------------------------------\n",
      "      33.786       -267.588       -135.149\n",
      "------------------------------------------\n"
     ]
    }
   ],
   "source": [
    "res_cate_casadas = estimator.ate_inference(X=x_point)\n",
    "print(res_cate_casadas.summary())"
   ]
  },
  {
   "cell_type": "markdown",
   "metadata": {},
   "source": [
    "O valor reduziu em termos de magnitude. Ou seja, ser casada está associado a um efeito menos negativo do fumo no peso ao nascer."
   ]
  },
  {
   "cell_type": "markdown",
   "metadata": {},
   "source": [
    "***CATE para casadas, não-estrangeiras com 12 anos de educação***\n",
    "\n",
    "Vamos buscar uma análise ainda mais heterogênea. Gestantes casadas, não-estrangeiras e com 12 anos de educação.\n",
    "\n",
    "Vamos seguir o mesmo procedimento anterior, ou seja, criar outra variável contendo as características para estimar o CATE:"
   ]
  },
  {
   "cell_type": "code",
   "execution_count": 25,
   "metadata": {},
   "outputs": [],
   "source": [
    "# substitui pelas variáveis de interesse\n",
    "x_point['casada'] = 1\n",
    "x_point['medu'] = 12\n",
    "x_point['foreign'] = 0"
   ]
  },
  {
   "cell_type": "code",
   "execution_count": 26,
   "metadata": {},
   "outputs": [
    {
     "name": "stdout",
     "output_type": "stream",
     "text": [
      "               Uncertainty of Mean Point Estimate               \n",
      "================================================================\n",
      "mean_point stderr_mean zstat  pvalue ci_mean_lower ci_mean_upper\n",
      "----------------------------------------------------------------\n",
      "    -232.4      33.701 -6.896    0.0      -298.453      -166.347\n",
      "      Distribution of Point Estimate     \n",
      "=========================================\n",
      "std_point pct_point_lower pct_point_upper\n",
      "-----------------------------------------\n",
      "      0.0          -232.4          -232.4\n",
      "     Total Variance of Point Estimate     \n",
      "==========================================\n",
      "stderr_point ci_point_lower ci_point_upper\n",
      "------------------------------------------\n",
      "      33.701       -298.453       -166.347\n",
      "------------------------------------------\n"
     ]
    }
   ],
   "source": [
    "res_sub = estimator.ate_inference(X=x_point)\n",
    "print(res_sub.summary())"
   ]
  },
  {
   "cell_type": "markdown",
   "metadata": {},
   "source": [
    "Para o perfil de gestante especificada, fumar durante a gravidez está associado a uma redução média de aproximadamente 232,4 gramas no peso ao nascer do bebê. Logo, há evidência estatística significativa de que fumar durante a gravidez está associado a uma redução substancial no peso ao nascer do bebê."
   ]
  },
  {
   "cell_type": "markdown",
   "metadata": {},
   "source": [
    "#### Gráfico do CATE para os níveis de escolaridade (medu)\n",
    "\n",
    "Vamos supor que queremos observar como o efeito heterogêneo ocorre para diferentes níveis da variável de heterogeneidade. No caso, os diferentes níveis educacionais."
   ]
  },
  {
   "cell_type": "code",
   "execution_count": 29,
   "metadata": {},
   "outputs": [
    {
     "data": {
      "image/png": "[encoded data removed]",
      "text/plain": [
       "<Figure size 1000x600 with 1 Axes>"
      ]
     },
     "metadata": {},
     "output_type": "display_data"
    }
   ],
   "source": [
    "import numpy as np\n",
    "import pandas as pd\n",
    "import matplotlib.pyplot as plt\n",
    "\n",
    "# Obter valores únicos de 'mage' e suas contagens\n",
    "mage_levels = np.sort(df['mage'].dropna().unique())\n",
    "mage_counts = df['mage'].value_counts().reindex(mage_levels, fill_value=0)\n",
    "\n",
    "# Construir grade variando apenas 'mage', mantendo demais covariáveis fixas na média\n",
    "X_base = X.mean(axis=0).to_frame().T\n",
    "X_grid = pd.concat([X_base] * len(mage_levels), ignore_index=True)\n",
    "X_grid['mage'] = mage_levels\n",
    "\n",
    "# Calcular CATE e intervalo de confiança\n",
    "cate_vals = estimator.effect(X_grid)\n",
    "ci_low, ci_high = estimator.effect_interval(X_grid, alpha=0.05)\n",
    "\n",
    "# Organizar resultados\n",
    "res = pd.DataFrame({\n",
    "    'mage': mage_levels,\n",
    "    'cate': cate_vals,\n",
    "    'ci_low': ci_low,\n",
    "    'ci_high': ci_high,\n",
    "    'n_obs': mage_counts.values\n",
    "}).sort_values('mage').reset_index(drop=True)\n",
    "\n",
    "# Plotar CATE com barras de IC\n",
    "plt.figure(figsize=(10, 6))\n",
    "plt.errorbar(\n",
    "    res['mage'], res['cate'],\n",
    "    yerr=[res['cate'] - res['ci_low'], res['ci_high'] - res['cate']],\n",
    "    fmt='o', capsize=2, elinewidth=0.7, markersize=4, alpha=0.9,\n",
    "    label='CATE por mage (IC 95%)'\n",
    ")\n",
    "plt.xlabel('Idade da mãe (mage)')\n",
    "plt.ylabel('Efeito estimado (CATE)')\n",
    "plt.title('CATE por idade materna com IC 95%')\n",
    "plt.legend()\n",
    "plt.grid(True, alpha=0.3)\n",
    "plt.show()\n"
   ]
  },
  {
   "cell_type": "markdown",
   "metadata": {},
   "source": [
    "***Assumindo não linearidade nas covariáveis do CATE***"
   ]
  },
  {
   "cell_type": "code",
   "execution_count": 34,
   "metadata": {},
   "outputs": [
    {
     "data": {
      "image/png": "[encoded data removed]",
      "text/plain": [
       "<Figure size 900x500 with 1 Axes>"
      ]
     },
     "metadata": {},
     "output_type": "display_data"
    }
   ],
   "source": [
    "import numpy as np\n",
    "import pandas as pd\n",
    "import matplotlib.pyplot as plt\n",
    "from sklearn.compose import ColumnTransformer\n",
    "from sklearn.preprocessing import SplineTransformer\n",
    "from econml.dml import LinearDML\n",
    "\n",
    "# 1) índice da coluna 'mage' no DataFrame original X\n",
    "idx_mage = X.columns.get_loc('mage')\n",
    "\n",
    "# 2) featurizer: spline só em 'mage' (por índice); resto passa direto\n",
    "featurizer = ColumnTransformer(\n",
    "    transformers=[\n",
    "        ('mage_spline', SplineTransformer(degree=3, n_knots=4, include_bias=False), [idx_mage])\n",
    "    ],\n",
    "    remainder='passthrough',\n",
    "    verbose_feature_names_out=False\n",
    ")\n",
    "\n",
    "# 3) estimador\n",
    "est_spline = LinearDML(\n",
    "    model_y=model_y,\n",
    "    model_t=model_d,\n",
    "    discrete_treatment=True,\n",
    "    cv=10,\n",
    "    featurizer=featurizer,\n",
    "    random_state=123\n",
    ")\n",
    "\n",
    "est_spline.fit(y, D, X=X)\n",
    "\n",
    "# 4) MESMA grade dos valores observados de 'mage' para comparação justa\n",
    "mage_levels = np.sort(df['mage'].dropna().unique())\n",
    "\n",
    "X_base = X.mean(axis=0).to_frame().T\n",
    "X_grid = pd.concat([X_base]*len(mage_levels), ignore_index=True)\n",
    "X_grid['mage'] = mage_levels\n",
    "\n",
    "# 5) Efeito e IC 95%\n",
    "cate = est_spline.effect(X_grid)\n",
    "ci_low, ci_high = est_spline.effect_interval(X_grid, alpha=0.05)\n",
    "\n",
    "# 6) Plot\n",
    "plt.figure(figsize=(9,5))\n",
    "plt.fill_between(mage_levels, ci_low, ci_high, alpha=0.2, label='IC 95%')\n",
    "plt.plot(mage_levels, cate, lw=1.8, label='CATE (LinearDML + spline em mage)')\n",
    "plt.xlabel('Idade da mãe (mage)'); plt.ylabel('Efeito do tratamento (CATE)')\n",
    "plt.title('CATE por idade materna com spline só em \"mage\" (IC 95%)')\n",
    "plt.grid(True, alpha=0.3); plt.legend(); plt.show()\n"
   ]
  },
  {
   "cell_type": "markdown",
   "metadata": {},
   "source": [
    "***Assumindo não linearidade no tratamento***"
   ]
  },
  {
   "cell_type": "code",
   "execution_count": 37,
   "metadata": {},
   "outputs": [],
   "source": [
    "# Criar a variável de resultado\n",
    "df['Y'] = df['bweight']\n",
    "\n",
    "# Crie a variável 'Treated' com valor inicial de 0\n",
    "df['Treated'] = 0\n",
    "# Recodifique 'Treated' para 1 se 'mbsmoke' for igual a 'smoker'\n",
    "df.loc[df['mbsmoke'] == 'smoker', 'Treated'] = 1\n",
    "\n",
    "df['casada'] = 0\n",
    "df.loc[df['mmarried']=='married', 'casada'] = 1\n",
    "\n",
    "# Conjunto de Covariáveis X\n",
    "X = ['casada', 'mage', 'medu']\n",
    "\n",
    "# garanta a ordem correta das categorias (se necessário)\n",
    "order = ['0 daily', '1-5 daily', '6-10 daily', '11+ daily']\n",
    "df['msmoke'] = pd.Categorical(df['msmoke'], categories=order, ordered=True)\n",
    "\n",
    "# mapeamentos\n",
    "map_mid = {\n",
    "    '0 daily': 0,\n",
    "    '1-5 daily': 3,\n",
    "    '6-10 daily': 8,\n",
    "    '11+ daily': 12  # ajuste se quiser um outro representativo (ex.: 15)\n",
    "}\n",
    "map_ord = {k: i for i, k in enumerate(order)}  # 0,1,2,3 (ordinal)\n",
    "\n",
    "# variáveis de tratamento\n",
    "df['T_cont'] = df['msmoke'].map(map_mid).astype(float) "
   ]
  },
  {
   "cell_type": "code",
   "execution_count": 43,
   "metadata": {},
   "outputs": [
    {
     "name": "stderr",
     "output_type": "stream",
     "text": [
      "c:\\Users\\danie\\OneDrive\\00000 - 2025\\0_Python_Estimators\\econml-env\\Lib\\site-packages\\econml\\sklearn_extensions\\linear_model.py:1815: UserWarning: Co-variance matrix is underdetermined. Inference will be invalid!\n",
      "  warnings.warn(\"Co-variance matrix is underdetermined. Inference will be invalid!\")\n"
     ]
    },
    {
     "data": {
      "image/png": "[encoded data removed]",
      "text/plain": [
       "<Figure size 900x500 with 1 Axes>"
      ]
     },
     "metadata": {},
     "output_type": "display_data"
    }
   ],
   "source": [
    "import numpy as np\n",
    "from sklearn.kernel_approximation import RBFSampler\n",
    "from sklearn.preprocessing import StandardScaler\n",
    "from sklearn.ensemble import RandomForestRegressor\n",
    "from sklearn.multioutput import MultiOutputRegressor\n",
    "from sklearn.base import clone\n",
    "from econml.dml import LinearDML\n",
    "\n",
    "# ---------- dados ----------\n",
    "df_ = df[['Y','T_cont','casada','mage','medu']].dropna().copy()\n",
    "Y = df_['Y'].to_numpy(float)\n",
    "T = df_['T_cont'].to_numpy(float).reshape(-1, 1)     # (n,1) !!!\n",
    "Xdf = df_[['casada','mage','medu']]\n",
    "Xs  = StandardScaler().fit_transform(Xdf.values)\n",
    "\n",
    "# ---------- featurizer em T: RBF ----------\n",
    "tfeat = RBFSampler(gamma=0.10, n_components=30, random_state=123)  # comece simples/estável\n",
    "\n",
    "# ---------- modelos ----------\n",
    "model_y = RandomForestRegressor(n_estimators=400, max_depth=8, random_state=123)\n",
    "# para T|X use algo que aceite multioutput:\n",
    "model_t = RandomForestRegressor(n_estimators=400, max_depth=8, random_state=123)\n",
    "# (alternativa) model_t = MultiOutputRegressor(GradientBoostingRegressor(random_state=123))\n",
    "\n",
    "# ---------- LinearDML com não linearidade em T ----------\n",
    "est = LinearDML(\n",
    "    model_y=model_y,\n",
    "    model_t=model_t,\n",
    "    discrete_treatment=False,\n",
    "    treatment_featurizer=tfeat,   # φ(T) = RBF\n",
    "    cv=5,\n",
    "    random_state=123\n",
    ")\n",
    "est.fit(Y, T, X=Xdf.values)\n",
    "\n",
    "# ---------- curva dose–resposta (nível) ----------\n",
    "# modelo auxiliar de nível com o MESMO φ(T)\n",
    "tfeat_aux = clone(tfeat).fit(T)\n",
    "Phi_T = tfeat_aux.transform(T)\n",
    "Z = np.hstack([Xs, Phi_T])\n",
    "outcome_aux = clone(model_y).fit(Z, Y)\n",
    "\n",
    "def Ey_at_t(Xs_block, t_scalar):\n",
    "    m = Xs_block.shape[0]\n",
    "    Phi = tfeat_aux.transform(np.full((m,1), t_scalar))\n",
    "    return outcome_aux.predict(np.hstack([Xs_block, Phi]))\n",
    "\n",
    "# grid + baseline\n",
    "M = min(600, len(Xs))\n",
    "rng = np.random.default_rng(123)\n",
    "idx = rng.choice(len(Xs), size=M, replace=False)\n",
    "Xs_sub, Xraw_sub = Xs[idx], Xdf.values[idx]\n",
    "\n",
    "t_lo = float(np.percentile(T, 2))\n",
    "t_hi = float(np.percentile(T, 98))\n",
    "t_grid = np.linspace(t_lo, t_hi, 40).ravel()\n",
    "t0 = float(np.percentile(T, 5))\n",
    "\n",
    "y0_hat = Ey_at_t(Xs_sub, t0)\n",
    "\n",
    "mu = []\n",
    "for t1 in t_grid:\n",
    "    T0 = np.full((M,1), t0)                 # 2D!\n",
    "    T1 = np.full((M,1), t1)                 # 2D!\n",
    "    eff = est.effect(Xraw_sub, T0=T0, T1=T1)\n",
    "    mu.append((y0_hat + eff).mean())\n",
    "mu = np.array(mu)\n",
    "\n",
    "# bootstrap IC\n",
    "B = 300\n",
    "boot = np.empty((B, len(t_grid)))\n",
    "for b in range(B):\n",
    "    s = rng.integers(0, M, size=M)\n",
    "    y0b = y0_hat[s]\n",
    "    Xb  = Xraw_sub[s]\n",
    "    for j, t1 in enumerate(t_grid):\n",
    "        T0 = np.full((len(s),1), t0)\n",
    "        T1 = np.full((len(s),1), t1)\n",
    "        effb = est.effect(Xb, T0=T0, T1=T1)\n",
    "        boot[b, j] = (y0b + effb).mean()\n",
    "\n",
    "lo = np.percentile(boot, 2.5, axis=0)\n",
    "hi = np.percentile(boot, 97.5, axis=0)\n",
    "\n",
    "# plot\n",
    "import matplotlib.pyplot as plt\n",
    "plt.figure(figsize=(9,5))\n",
    "plt.fill_between(t_grid, lo, hi, alpha=0.25, label='IC 95% (bootstrap)')\n",
    "plt.plot(t_grid, mu, lw=2, label='μ(d): LinearDML + RBF(T)')\n",
    "plt.axvline(t0, ls='--', lw=0.8, color='k', label=f'baseline t0={t0:.1f}')\n",
    "plt.xlabel('Dose (T)'); plt.ylabel('E[Y | dose]')\n",
    "plt.title('Dose–resposta com LinearDML (treatment_featurizer = RBF)')\n",
    "plt.grid(True, alpha=0.3); plt.legend(); plt.show()\n"
   ]
  },
  {
   "cell_type": "markdown",
   "metadata": {},
   "source": [
    "### Alguns modelos não-lineares\n",
    "\n",
    "***CausalForestDML***\n",
    "- **Modelo final:** floresta causal (Wager, 2018; Athey, 2019).  \n",
    "- **Inferência:** oferece intervalos de confiança via *Bootstrap-of-Little-Bags*.  \n",
    "- **Comentário:**  \n",
    "Não exige caracterização explícita da heterogeneidade. Aprende diretamente o CATE de forma **não linear** e flexível. Bom quando a relação entre $X$ e o efeito é muito complexa.  \n",
    "- **não precisa de caracterização explícita**, pois aprende a heterogeneidade diretamente com árvores/ florestas, com ICs baseados em *Bootstrap-of-Little-Bags*.\n",
    "\n",
    "***OrthoForestDML***\n",
    "* Modelo final: floresta ortogonal (Orthogonal Random Forest, Oprescu, Syrgkanis & Wu, 2020).\n",
    "* Inferência: também pode usar Bootstrap-of-Little-Bags (BLB) para construir intervalos de confiança.\n",
    "* Comentário:\n",
    "  * Usa a ideia de Neyman orthogonalization: antes de estimar o efeito, residualiza $Y$ em relação a $X$ e $T$ em relação a $X$. Isso garante que a estimação do CATE seja robusta a erros na modelagem das funções auxiliares (nuisances).\n",
    "  * É mais robusto que o CausalForestDML: se o modelo da propensão ou do outcome estiver mal especificado, ainda assim pode obter consistência (dupla robustez).\n",
    "  * Suporta tanto tratamentos binários quanto contínuos (ou mesmo vetoriais), o que o torna mais flexível para cenários de intensidade ou dose do tratamento.\n",
    "  * Muito útil em contextos de alta dimensionalidade de $X$, porque a ortogonalização ajuda a controlar viés.\n",
    "\n",
    "\n",
    "Enquanto o CausalForestDML é ideal quando se quer algo próximo ao Generalized Random Forest clássico (heterogeneidade aprendida direto via árvores, forte em inferência para tratamento binário), o OrthoForestDML é indicado quando:\n",
    "* o tratamento é contínuo ou multidimensional,\n",
    "* há risco de misspecification dos modelos auxiliares,\n",
    "* ou quando se busca robustez adicional via ortogonalização."
   ]
  },
  {
   "cell_type": "markdown",
   "metadata": {},
   "source": [
    "### CausalForestDML - Forest Double Machine Learning\n"
   ]
  },
  {
   "cell_type": "markdown",
   "metadata": {},
   "source": [
    "Causal Forest é uma extensão dos Random Forests tradicionalmente usados para previsão, mas projetado para estimar efeitos causais — especialmente efeitos heterogêneos (CATE).\n",
    "\n",
    "* Athey, S., & Wager, S. (2018). Estimation and Inference of Heterogeneous Treatment Effects using Random Forests.\n",
    "* Athey, S. (2019). Generalized Random Forests."
   ]
  },
  {
   "cell_type": "code",
   "execution_count": 28,
   "metadata": {},
   "outputs": [],
   "source": [
    "from econml.dml import CausalForestDML\n",
    "from sklearn.ensemble import GradientBoostingRegressor, GradientBoostingClassifier"
   ]
  },
  {
   "cell_type": "code",
   "execution_count": 29,
   "metadata": {},
   "outputs": [],
   "source": [
    "X = df[['casada', 'mage', 'medu', 'fhisp', 'mhisp', 'foreign', 'alcohol', 'deadkids', 'nprenatal', 'mrace', 'frace', 'fage', 'fedu']]\n",
    "T = df['D']\n",
    "Y = df['Y']"
   ]
  },
  {
   "cell_type": "code",
   "execution_count": 30,
   "metadata": {},
   "outputs": [
    {
     "data": {
      "text/plain": [
       "np.float64(-206.22929101674055)"
      ]
     },
     "execution_count": 30,
     "metadata": {},
     "output_type": "execute_result"
    }
   ],
   "source": [
    "# Modelos para outcome e tratamento\n",
    "model_y = GradientBoostingRegressor(n_estimators=100, random_state=123)\n",
    "model_t = GradientBoostingClassifier(n_estimators=100, random_state=123)\n",
    "\n",
    "# Causal Forest como modelo final\n",
    "\n",
    "cf_dml = CausalForestDML(model_y=model_y,\n",
    "                         model_t=model_t,\n",
    "                         discrete_treatment=True,\n",
    "                         n_estimators=5000,\n",
    "                         min_samples_leaf=15,\n",
    "                         max_depth=5,\n",
    "                         random_state=123,\n",
    "                         honest=True,\n",
    "                         inference=True)\n",
    "\n",
    "cf_dml.fit(Y, T, X=X, cache_values=True)\n",
    "\n",
    "cf_dml.ate(X)\n"
   ]
  },
  {
   "cell_type": "code",
   "execution_count": 31,
   "metadata": {},
   "outputs": [
    {
     "name": "stdout",
     "output_type": "stream",
     "text": [
      "Population summary of CATE predictions on Training Data\n",
      "               Uncertainty of Mean Point Estimate               \n",
      "================================================================\n",
      "mean_point stderr_mean zstat  pvalue ci_mean_lower ci_mean_upper\n",
      "----------------------------------------------------------------\n",
      "  -206.229       50.39 -4.093    0.0      -304.992      -107.467\n",
      "      Distribution of Point Estimate     \n",
      "=========================================\n",
      "std_point pct_point_lower pct_point_upper\n",
      "-----------------------------------------\n",
      "   59.875        -296.124         -45.879\n",
      "     Total Variance of Point Estimate     \n",
      "==========================================\n",
      "stderr_point ci_point_lower ci_point_upper\n",
      "------------------------------------------\n",
      "      78.257       -345.609        -12.449\n",
      "        Doubly Robust ATE on Training Data Results       \n",
      "=========================================================\n",
      "    point_estimate stderr zstat  pvalue ci_lower ci_upper\n",
      "---------------------------------------------------------\n",
      "ATE       -207.132  29.22 -7.089    0.0 -264.402 -149.862\n",
      "     Doubly Robust ATT(T=0) on Training Data Results      \n",
      "==========================================================\n",
      "    point_estimate stderr  zstat  pvalue ci_lower ci_upper\n",
      "----------------------------------------------------------\n",
      "ATT       -209.147 12.666 -16.512    0.0 -233.972 -184.321\n",
      "     Doubly Robust ATT(T=1) on Training Data Results     \n",
      "=========================================================\n",
      "    point_estimate  stderr zstat pvalue ci_lower ci_upper\n",
      "---------------------------------------------------------\n",
      "ATT       -198.323 146.894 -1.35  0.177 -486.229   89.584\n",
      "---------------------------------------------------------\n",
      "\n",
      "Note: The stderr_mean is a conservative upper bound.\n"
     ]
    }
   ],
   "source": [
    "print(cf_dml.summary())"
   ]
  },
  {
   "cell_type": "markdown",
   "metadata": {},
   "source": [
    "* Com base exclusivamente na média dos CATEs estimados, o efeito médio estimado do tabagismo é –213g\n",
    "* Doubly Robust ATE (baseado em influência orthogonal)\n",
    "  * Essa é a estimativa mais confiável do ATE, pois vem do método de influência com ortogonalização — ou seja, é onde o estimador é realmente duplamente robusto.\n",
    "* ATT(T=0): efeito médio se os não fumantes tivessem fumado → –216 g, altamente significativo\n",
    "* ATT(T=1): efeito médio entre os que fumaram → –173 g, não significativo (alta variância)"
   ]
  },
  {
   "cell_type": "markdown",
   "metadata": {},
   "source": [
    "***Quais são as variáveis mais importantes para o modelo?***\n",
    "\n",
    "O Causal Forest apresenta a importância relativa das variáveis utilizadas no modelo de previsão. Basta acessar o objeto `feature_importances_`. Vejamos o exemplo:"
   ]
  },
  {
   "cell_type": "code",
   "execution_count": 32,
   "metadata": {},
   "outputs": [
    {
     "data": {
      "image/png": "[encoded data removed]",
      "text/plain": [
       "<Figure size 1000x600 with 1 Axes>"
      ]
     },
     "metadata": {},
     "output_type": "display_data"
    }
   ],
   "source": [
    "import matplotlib.pyplot as plt\n",
    "import numpy as np\n",
    "\n",
    "# Obter importâncias e nomes das variáveis\n",
    "importances = cf_dml.feature_importances_\n",
    "features = np.array(X.columns)\n",
    "\n",
    "# Ordenar do maior para o menor\n",
    "sorted_idx = np.argsort(importances)[::-1]\n",
    "sorted_importances = importances[sorted_idx]\n",
    "sorted_features = features[sorted_idx]\n",
    "\n",
    "# Plotar\n",
    "plt.figure(figsize=(10, 6))\n",
    "plt.barh(sorted_features, sorted_importances, color='steelblue')\n",
    "plt.xlabel('Importância')\n",
    "plt.title('Importância das variáveis na heterogeneidade do CATE')\n",
    "plt.gca().invert_yaxis()  # Coloca a mais importante no topo\n",
    "plt.grid(True, axis='x', linestyle='--', alpha=0.7)\n",
    "plt.tight_layout()\n",
    "plt.show()"
   ]
  },
  {
   "cell_type": "markdown",
   "metadata": {},
   "source": [
    "* o modelo mostra que a variável `nprenatal` contribui com 1/4 da explicação da heterogeneidade dos efeitos;\n",
    "* Ou seja, ela é usada frequentemente nos splits das árvores da floresta causal para distinguir subgrupos com diferentes efeitos do tratamento."
   ]
  },
  {
   "cell_type": "markdown",
   "metadata": {},
   "source": [
    "Assim como fizemos anteriormente, podemos explorar o CATE definindo pontos X específicos, assim como fizemos com o LinearDML. E podemos aproveitar a não linearidade das florestas causais para verificar os efeitos nos diferentes níveis de uma covariável específica. Vejamos essa segunda possibilidade.\n",
    "\n",
    "Vamos avaliar o efeito heterogêneodo fumo no peso dos bebês para diferentes **idades das gestantes** (a segunda variável mais importante para a composição do estimador)."
   ]
  },
  {
   "cell_type": "code",
   "execution_count": 33,
   "metadata": {},
   "outputs": [
    {
     "data": {
      "image/png": "[encoded data removed]",
      "text/plain": [
       "<Figure size 1000x600 with 1 Axes>"
      ]
     },
     "metadata": {},
     "output_type": "display_data"
    }
   ],
   "source": [
    "import numpy as np\n",
    "import pandas as pd\n",
    "import matplotlib.pyplot as plt\n",
    "\n",
    "# 1) Níveis de 'mage' e contagens\n",
    "mage_levels = np.sort(df['mage'].dropna().unique())\n",
    "mage_counts = df['mage'].value_counts().reindex(mage_levels, fill_value=0)\n",
    "\n",
    "# 2) Perfil-base (médias) e grade variando apenas 'mage'\n",
    "X_base = X.mean(axis=0).to_frame().T\n",
    "X_grid = pd.concat([X_base] * len(mage_levels), ignore_index=True)\n",
    "X_grid['mage'] = mage_levels\n",
    "\n",
    "# 3) CATE e IC 95% com CausalForestDML\n",
    "cate_vals = cf_dml.effect(X_grid)\n",
    "ci_low, ci_high = cf_dml.effect_interval(X_grid, alpha=0.05)\n",
    "\n",
    "# 4) DataFrame de resultados\n",
    "res_cf = pd.DataFrame({\n",
    "    'mage': mage_levels,\n",
    "    'cate': cate_vals,\n",
    "    'ci_low': ci_low,\n",
    "    'ci_high': ci_high,\n",
    "    'n_obs': mage_counts.values\n",
    "}).sort_values('mage').reset_index(drop=True)\n",
    "\n",
    "# 5) Gráfico: pontos + barras de erro (IC 95%)\n",
    "plt.figure(figsize=(10, 6))\n",
    "plt.errorbar(\n",
    "    res_cf['mage'], res_cf['cate'],\n",
    "    yerr=[res_cf['cate'] - res_cf['ci_low'], res_cf['ci_high'] - res_cf['cate']],\n",
    "    fmt='o', capsize=2, elinewidth=0.7, markersize=4, alpha=0.9,\n",
    "    label='CATE (CausalForestDML) - IC 95%'\n",
    ")\n",
    "plt.xlabel('Idade da mãe (mage)')\n",
    "plt.ylabel('Efeito estimado (CATE)')\n",
    "plt.title('CATE por idade materna (CausalForestDML)')\n",
    "plt.grid(True, alpha=0.3)\n",
    "plt.legend()\n",
    "plt.tight_layout()\n",
    "plt.show()\n"
   ]
  },
  {
   "cell_type": "markdown",
   "metadata": {},
   "source": [
    "## Considerações Finais\n",
    "\n",
    "Vejamos um resumo do que foi visto.\n",
    "\n",
    "* O principal objetivo do DML é ajustar e remover a variável de confusão de forma que a variável de interesse (tratamento) e o resultado fiquem \"ortogonais\" ou \"independentes\".\n",
    "* DML combina métodos de aprendizado de máquina com técnicas econométricas para estimar efeitos causais.\n",
    "* A técnica geralmente envolve a aplicação de aprendizado de máquina para prever tanto o tratamento quanto o resultado usando as variáveis observáveis de confusão, e então os resíduos dessas previsões são utilizados em um segundo estágio para estimar o efeito causal.\n",
    "  * Primeiro Estágio: Aplicar modelos de aprendizado de máquina para prever a variável de tratamento e o resultado.\n",
    "  * Segundo Estágio: Utilizar os resíduos dessas previsões em um modelo de regressão para estimar o efeito causal.\n"
   ]
  },
  {
   "cell_type": "markdown",
   "metadata": {},
   "source": [
    "\n",
    "* Chernozhukov et al (2016) considera o caso em que $\\theta(X)$ é uma constante (ATE), ou uma função linear de $X$ (CATE) de baixa dimensão.\n",
    "* Nie (2017) cai em um Espaço de Hilbert do Kernel Reprodutor (RKHS).\n",
    "* Chernozhukov et al (2018) consideram o caso de um espaço linear esparso de alta dimensão, onde $\\theta(X) = <\\theta, \\phi(X)>$ para algum mapeamento de características de alta dimensão conhecido e onde $\\theta$ tem muito poucas entradas diferentes de zero (esparsas)\n",
    "* Athey (2019), entre outros resultados, considera o caso em que $\\theta(X)$ é uma função lipschitz não paramétrica e usa modelos de floresta aleatória para ajustar a função. Esse métodos permite maior flexibilidade para modelar $\\theta(X)$ sem assumir linearidade.\n",
    "* Foster (2019) permite modelos arbitrários $\\theta(X)$ e fornecer resultados com base em medidas de complexidade de amostra do espaço do modelo (por exemplo, complexidade de Rademacher, entropia métrica). Esse métodos permite maior flexibilidade para modelar $\\theta(X)$ sem assumir linearidade.\n",
    "\n",
    "A principal vantagem do DML é que se fizermos suposições paramétricas sobre $\\theta(X)$, então se obtém taxas de estimativa rápidas e, para muitos casos de estimadores de estágio final, também normalidade assintótica na estimativa do segundo estágio $\\hat{\\theta}$.\n"
   ]
  }
 ],
 "metadata": {
  "kernelspec": {
   "display_name": "Python (econml-env)",
   "language": "python",
   "name": "econml-env"
  },
  "language_info": {
   "codemirror_mode": {
    "name": "ipython",
    "version": 3
   },
   "file_extension": ".py",
   "mimetype": "text/x-python",
   "name": "python",
   "nbconvert_exporter": "python",
   "pygments_lexer": "ipython3",
   "version": "3.11.5"
  }
 },
 "nbformat": 4,
 "nbformat_minor": 2
}
