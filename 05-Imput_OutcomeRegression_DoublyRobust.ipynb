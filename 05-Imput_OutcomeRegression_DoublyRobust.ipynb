{
 "cells": [
  {
   "cell_type": "markdown",
   "metadata": {},
   "source": [
    "# Imputação, Outcome Regression, and Doubly Robust Estimation\n",
    "\n",
    "Prof. Daniel de Abreu Pereira Uhr\n",
    "\n",
    "## Conteúdo\n",
    "\n",
    "* Estimadores Baseados em Imputação\n",
    "  * Aplicação no Python\n",
    "* Outcome Regression\n",
    "  * Aplicação no Python\n",
    "* Doubly Robust Estimation\n",
    "  * Aplicação no Python\n",
    "* Boas Práticas\n",
    "\n",
    "\n",
    "## Referências\n",
    "\n",
    "* Heckman, James, Hidehiko Ichimura, Jefrey Smith, and Petra Todd. (1998). Characterizing selection bias using experimental data\". Econometrica 66.5, pp. 1017-1098.\n",
    "* Cunningham, S. W. (2013). Causal inference: The mixtape. https://www.scunning.com/mixtape.html\n",
    "* Courthoud, Matteo. Understanding AIPW. https://matteocourthoud.github.io/post/aipw/ \n",
    "* Matheus Facure. Doubly Robust Estimation. https://matheusfacure.github.io/python-causality-handbook/12-Doubly-Robust-Estimation.html\n",
    "* Pearl, J. (2000). Causality: Models, reasoning, and inference. Cambridge University Press.\n",
    "* Joshua D. Angrist and Jörn-Steffen Pischke (2009). Mostly Harmless Econometrics: An Empiricist's Companion. Princeton University Press.\n",
    "* Morgan, S. L., & Winship, C. (2014). Counterfactuals and causal inference: Methods and principles for social research. Cambridge University Press. Capítulo 3.\n",
    "\n",
    "**Pacotes Python**\n",
    "* pyDRReg - Regressão Duplamente Robusta, Outcome Regression e Inverse Probability Weighting, com erro padrão bootstrap.\n",
    "* Instalação: `pip install git+https://github.com/Daniel-Uhr/pyDRReg.git`"
   ]
  },
  {
   "cell_type": "markdown",
   "metadata": {},
   "source": [
    "## Introdução\n",
    "\n",
    "Lembre que nossa busca é a identificação do parâmetro causal. Devido ao **problema fundamental da inferência causal**: \n",
    "\n",
    "$$ Y_{i} = D Y^{1}_{i} + (1-D)Y^{0}_{i} $$\n",
    "\n",
    "rearrajando a equação, temos:\n",
    "\n",
    "$$ Y_{i} = Y^{0}_{i} + (Y^{1}_{i} - Y^{0}_{i})D $$\n",
    "\n",
    "Essa segunda equação nos oference \"insights\" importantes, repare que $(Y^{1}_{i} - Y^{0}_{i})$ é o efeito do tratamento no nível do indivíduo, chamaos isso de ***Individual Treatment Effect***. Vamos definir o ITE como $\\tau_{i}$.\n",
    "\n",
    "$$ Y_{i} = Y^{0}_{i} + \\tau_{i} D $$\n",
    "\n",
    "A interpretação direta é que o resultado do individuo *i* será o estado da natureza de não tratado ($Y^{0}$) mais (ou menos) o efeito do tratamento individual ($\\tau_{i}$), caso o indivíduo seja tratado ($D=1$). Essa estrutura é fundamentada na consideração explicita do contrafactual (temos os dois estados do mundo considerados para cada indivíduo).\n",
    "\n",
    "***Estrutura dos Dados Reais***\n",
    "\n",
    "A prática do problema fundamental da inferencia causal é que não podemos observar o resultado de um indivíduo sendo tratado e não-tratado simultaneamente. Logo, nossa estrutura de dados implica em **dados faltante**. Um dos estados da natureza está \"faltante no nosso banco de dados.\n",
    "\n",
    "Vamos considerar um exemplo simples para ilustrar o problema. Suponha que temos um conjunto de dados com as seguintes variáveis:\n",
    "\n",
    "\n",
    "| Unidade |   $Y^{1}$     |  $Y^{0}$     | $D$      |  $X $    |\n",
    "|---------|--------|-------|--------|-------|\n",
    "| 1       | 5      |       | 1      | 11    |\n",
    "| 2       | 2      |       | 1      | 7     |\n",
    "| 3       | 10     |       | 1      | 5     |\n",
    "| 4       | 6      |       | 1      | 3     |\n",
    "| 5       |        | 4     | 0      | 10    |\n",
    "| 6       |        | 0     | 0      | 8     |\n",
    "| 7       |        | 5     | 0      | 4     |\n",
    "| 8       |        | 1     | 0      |  1    |\n",
    "\n",
    "\n",
    "Repare que quando os indivíduos são tratados ($D=1$), não temos os resultados para o indivíduo no estado da natureza de não tratado ($Y^{0}$). O mesmo ocorre quando os indivíduos são nâo tratados ($D=0$), então não observamos o seus respectivos resultados caso \"tivessem sido tratados\" ($Y^{1}$).\n",
    "\n",
    "Processo de completar esses dados faltantes é chamado de imputação.\n",
    "\n",
    "\n",
    "### Regressão Linear\n",
    "\n",
    "Mas se desconsiderarmos o ***problema fundamental da inferência causal***, e calculássemos uma regressão linear? \n",
    "\n",
    "Repare na estrutura de uma estimação linear:\n",
    "\n",
    "$$ Y = \\alpha + \\beta D + \\epsilon $$\n",
    "\n",
    "(ela não é parecida com alguma coisa que vimos recentemente?)\n",
    "\n",
    "A interpretação geral da regressão linear é o seguinte, o valor de $Y$ é composto por um valor constante ($\\alpha$) mais um valor $\\beta$ que é adicionado quando D é um, mais um choque.\n",
    "\n",
    "De outra forma, vamos desagregar Y entre os dois grupos definidos por D.\n",
    "\n",
    "$$ E[Y | D=0 ] = \\alpha $$\n",
    "\n",
    "$$ E[Y | D=1 ] = \\alpha + \\beta $$\n",
    "\n",
    "Voce reparou que há uma semelhança com a estrutura de identificação do efeito ITE? Entretanto não é igual..."
   ]
  },
  {
   "cell_type": "code",
   "execution_count": 1,
   "metadata": {},
   "outputs": [],
   "source": [
    "import pandas as pd\n",
    "import statsmodels.formula.api as smf \n",
    "# DataFrame\n",
    "df = pd.read_stata(\"https://github.com/scunning1975/mixtape/raw/master/training_bias_reduction.dta\")"
   ]
  },
  {
   "cell_type": "markdown",
   "metadata": {},
   "source": [
    "Repare que na coluna dos resultados ($Y$), temos tanto ($Y^{1}$ quanto $Y^{0}$)."
   ]
  },
  {
   "cell_type": "code",
   "execution_count": 2,
   "metadata": {},
   "outputs": [
    {
     "data": {
      "application/vnd.microsoft.datawrangler.viewer.v0+json": {
       "columns": [
        {
         "name": "index",
         "rawType": "int64",
         "type": "integer"
        },
        {
         "name": "Unit",
         "rawType": "int8",
         "type": "integer"
        },
        {
         "name": "Y",
         "rawType": "int8",
         "type": "integer"
        },
        {
         "name": "D",
         "rawType": "int8",
         "type": "integer"
        },
        {
         "name": "X",
         "rawType": "int8",
         "type": "integer"
        }
       ],
       "ref": "6ab9bdfc-4c83-495c-abd5-cd1201089148",
       "rows": [
        [
         "0",
         "1",
         "5",
         "1",
         "11"
        ],
        [
         "1",
         "2",
         "2",
         "1",
         "7"
        ],
        [
         "2",
         "3",
         "10",
         "1",
         "5"
        ],
        [
         "3",
         "4",
         "6",
         "1",
         "3"
        ],
        [
         "4",
         "5",
         "4",
         "0",
         "10"
        ],
        [
         "5",
         "6",
         "0",
         "0",
         "8"
        ],
        [
         "6",
         "7",
         "5",
         "0",
         "4"
        ],
        [
         "7",
         "8",
         "1",
         "0",
         "1"
        ]
       ],
       "shape": {
        "columns": 4,
        "rows": 8
       }
      },
      "text/html": [
       "<div>\n",
       "<style scoped>\n",
       "    .dataframe tbody tr th:only-of-type {\n",
       "        vertical-align: middle;\n",
       "    }\n",
       "\n",
       "    .dataframe tbody tr th {\n",
       "        vertical-align: top;\n",
       "    }\n",
       "\n",
       "    .dataframe thead th {\n",
       "        text-align: right;\n",
       "    }\n",
       "</style>\n",
       "<table border=\"1\" class=\"dataframe\">\n",
       "  <thead>\n",
       "    <tr style=\"text-align: right;\">\n",
       "      <th></th>\n",
       "      <th>Unit</th>\n",
       "      <th>Y</th>\n",
       "      <th>D</th>\n",
       "      <th>X</th>\n",
       "    </tr>\n",
       "  </thead>\n",
       "  <tbody>\n",
       "    <tr>\n",
       "      <th>0</th>\n",
       "      <td>1</td>\n",
       "      <td>5</td>\n",
       "      <td>1</td>\n",
       "      <td>11</td>\n",
       "    </tr>\n",
       "    <tr>\n",
       "      <th>1</th>\n",
       "      <td>2</td>\n",
       "      <td>2</td>\n",
       "      <td>1</td>\n",
       "      <td>7</td>\n",
       "    </tr>\n",
       "    <tr>\n",
       "      <th>2</th>\n",
       "      <td>3</td>\n",
       "      <td>10</td>\n",
       "      <td>1</td>\n",
       "      <td>5</td>\n",
       "    </tr>\n",
       "    <tr>\n",
       "      <th>3</th>\n",
       "      <td>4</td>\n",
       "      <td>6</td>\n",
       "      <td>1</td>\n",
       "      <td>3</td>\n",
       "    </tr>\n",
       "    <tr>\n",
       "      <th>4</th>\n",
       "      <td>5</td>\n",
       "      <td>4</td>\n",
       "      <td>0</td>\n",
       "      <td>10</td>\n",
       "    </tr>\n",
       "    <tr>\n",
       "      <th>5</th>\n",
       "      <td>6</td>\n",
       "      <td>0</td>\n",
       "      <td>0</td>\n",
       "      <td>8</td>\n",
       "    </tr>\n",
       "    <tr>\n",
       "      <th>6</th>\n",
       "      <td>7</td>\n",
       "      <td>5</td>\n",
       "      <td>0</td>\n",
       "      <td>4</td>\n",
       "    </tr>\n",
       "    <tr>\n",
       "      <th>7</th>\n",
       "      <td>8</td>\n",
       "      <td>1</td>\n",
       "      <td>0</td>\n",
       "      <td>1</td>\n",
       "    </tr>\n",
       "  </tbody>\n",
       "</table>\n",
       "</div>"
      ],
      "text/plain": [
       "   Unit   Y  D   X\n",
       "0     1   5  1  11\n",
       "1     2   2  1   7\n",
       "2     3  10  1   5\n",
       "3     4   6  1   3\n",
       "4     5   4  0  10\n",
       "5     6   0  0   8\n",
       "6     7   5  0   4\n",
       "7     8   1  0   1"
      ]
     },
     "execution_count": 2,
     "metadata": {},
     "output_type": "execute_result"
    }
   ],
   "source": [
    "df"
   ]
  },
  {
   "cell_type": "markdown",
   "metadata": {},
   "source": [
    "Em vez de rodar a regressão, vamos encontrar os parâmetros através das médias. Que tal fazermos na mão?\n",
    "\n",
    "* $E[Y | D = 0 ] = (4 + 0 + 5 + 1)/4 = 10/4 = 2,5 $\n",
    "* $E[Y | D = 1 ] = (5 + 2 + 10 + 6) / 4 = 23/4 = 5,75 $\n",
    "\n",
    "E a difereça entre as médias (SDO) é dada por:\n",
    "\n",
    "$$ \\beta_{OLS} = E[Y | D = 1 ] - E[Y | D = 0 ] $$\n",
    "\n",
    "* $\\beta_{OLS} = 5,75 - 2,5 = 3,25 $\n",
    "\n",
    "\n",
    "Logo, \n",
    "\n",
    "$$ Y = 2,5 + 3,25 D + \\epsilon $$"
   ]
  },
  {
   "cell_type": "markdown",
   "metadata": {},
   "source": [
    "Vamos testar na regressão?"
   ]
  },
  {
   "cell_type": "code",
   "execution_count": 4,
   "metadata": {},
   "outputs": [
    {
     "name": "stdout",
     "output_type": "stream",
     "text": [
      "                            OLS Regression Results                            \n",
      "==============================================================================\n",
      "Dep. Variable:                      Y   R-squared:                       0.298\n",
      "Model:                            OLS   Adj. R-squared:                  0.181\n",
      "Method:                 Least Squares   F-statistic:                     2.548\n",
      "Date:                sex, 08 ago 2025   Prob (F-statistic):              0.162\n",
      "Time:                        16:52:55   Log-Likelihood:                -18.662\n",
      "No. Observations:                   8   AIC:                             41.32\n",
      "Df Residuals:                       6   BIC:                             41.48\n",
      "Df Model:                           1                                         \n",
      "Covariance Type:            nonrobust                                         \n",
      "==============================================================================\n",
      "                 coef    std err          t      P>|t|      [0.025      0.975]\n",
      "------------------------------------------------------------------------------\n",
      "Intercept      2.5000      1.440      1.736      0.133      -1.023       6.023\n",
      "D              3.2500      2.036      1.596      0.162      -1.732       8.232\n",
      "==============================================================================\n",
      "Omnibus:                        0.266   Durbin-Watson:                   2.966\n",
      "Prob(Omnibus):                  0.875   Jarque-Bera (JB):                0.395\n",
      "Skew:                           0.190   Prob(JB):                        0.821\n",
      "Kurtosis:                       1.980   Cond. No.                         2.62\n",
      "==============================================================================\n",
      "\n",
      "Notes:\n",
      "[1] Standard Errors assume that the covariance matrix of the errors is correctly specified.\n"
     ]
    }
   ],
   "source": [
    "reg0 = smf.ols('Y ~ D', data=df).fit()\n",
    "print(reg0.summary())"
   ]
  },
  {
   "cell_type": "markdown",
   "metadata": {},
   "source": [
    "Nossa conclusão é que a regressão linear realmente pode ser interpretada como uma diferença de médias. \n",
    "\n",
    "Do ponto de vista da identificação do efeito causal, a regressão não garante o real efeito porque estamos aplicando uma diferença entre as médias dos tratados contra o grupo não tratado.\n",
    "\n",
    "Para encontrarmos o efeito causal, temos que ter em mente a questão de considerar o \"contrafactual\". Uma solução seria estimadores baseados em imputação."
   ]
  },
  {
   "cell_type": "markdown",
   "metadata": {},
   "source": [
    "## Estimadores baseados em Imputação\n",
    "\n",
    "Estimadores baseados em imputação são métodos estatísticos que lidam com a ausência de dados ou informações não observadas, preenchendo esses valores faltantes com estimativas calculadas a partir dos dados disponíveis. \n",
    "\n",
    "Considerando o exemplo anterior:\n",
    "\n",
    "| Unidade |   $Y^{1}$     |  $Y^{0}$     | $D$      |  $X $    |\n",
    "|---------|--------|-------|--------|-------|\n",
    "| 1       | 5      |   ?    | 1      | 11    |\n",
    "| 2       | 2      |   ?    | 1      | 7     |\n",
    "| 3       | 10     |   ?    | 1      | 5     |\n",
    "| 4       | 6      |   ?    | 1      | 3     |\n",
    "| 5       |   ?     | 4     | 0      | 10    |\n",
    "| 6       |   ?     | 0     | 0      | 8     |\n",
    "| 7       |   ?     | 5     | 0      | 4     |\n",
    "| 8       |   ?     | 1     | 0      |  1    |\n",
    "\n",
    "\n",
    "\n",
    "* ITE\n",
    "Para estimar o ITE para cada i.\n",
    "\n",
    "* ATE\n",
    "\n",
    "* Generalizando a regressão quando há covariáveis\n",
    "\n",
    "\n",
    "\n",
    "\n",
    "\n",
    "\n",
    "Para a inferência causal, nos deparamos com **dados faltantes**, principalmente, devido ao **problema fundamental da inferência causal**: não podemos observar o resultado de um indivíduo sob tratamento e controle simultaneamente. Portanto, **não podemos observar o efeito causal de um tratamento em um indivíduo**. O que podemos observar são os resultados de um indivíduo tratado ou não-tratado, mas não em ambos.\n",
    "\n",
    "$$ Y_{i} = D Y^{1}_{i} + (1-D)Y^{0}_{i} $$\n",
    "\n",
    "rearrajando a equação, temos:\n",
    "\n",
    "$$ Y_{i} = Y^{0}_{i} + (Y^{1}_{i} - Y^{0}_{i})D $$\n",
    "\n",
    "Vamos chamar o efeito causal individual (Individual Treatment Effect - ITE) é a diferença nos dois estados da natureza, que vamos denotar aqui como $\\tau_{i}$, então:\n",
    "\n",
    "$$ Y_{i} = Y^{0}_{i} + \\tau_{i} D $$\n",
    "\n",
    "\n",
    "Quando possuímos uma amostra, podemos avaliar na média. Se calcularmos a média de $Y_{i}$, temos:\n",
    "\n",
    "$$ E[Y_{i}] = E[Y^{0}_{i}] + E[\\tau_{i}]E[D] $$\n",
    "\n",
    "E as médias condicionais:\n",
    "\n",
    "$$ E[Y_{i}|D=1] = E[Y^{1}_{i}] = E[Y^{0}_{i}] + E[\\tau_{i}] $$\n",
    "\n",
    "$$ E[Y_{i}|D=0] = E[Y^{0}_{i}] $$\n",
    "\n",
    "Considere  $\\mu_{0}$ a média dos resultados potenciais de controle, e $\\mu_{1}$ a média dos resultados potenciais de tratamento. Então:\n",
    "\n",
    "$$ E[Y_{i}] = \\mu_{0} + \\tau E[D] $$\n",
    "\n",
    "$$ E[Y_{i}|D=1] = \\mu_{0} + \\tau = \\mu_{1}$$\n",
    "\n",
    "$$ E[Y_{i}|D=0] = \\mu_{0} $$\n",
    "\n",
    "\n",
    "Considerando $\\mu_{0}$ é a média dos resultados potenciais sob controle e $\\epsilon$ o erro:\n",
    "\n",
    "Mas lembre-se que o modelo de regressão linear podemos controlar por covariáveis. Então podemos considerar o modelo linear dado por:\n",
    "\n",
    "$$ Y = \\alpha + \\tau D + \\gamma X + \\epsilon $$\n",
    "\n",
    "Continuamos considerando $ Y $ como a variável dependente, $ D $ é a variável indicadora de tratamento (1 se o tratamento foi aplicado, 0 caso contrário), $ X $ são as covariáveis observáveis, e $ \\epsilon $ é o termo de erro do modelo.\n",
    "\n",
    "Agora, repare que se aplicamos a expectativa condicional de $Y$ em $D$, temos:\n",
    "   \n",
    "$$ E[Y|X, D=1] = \\mu_{1}(X) +  u_1  $$\n",
    "\n",
    "$$ E[Y|X, D=0] = \\mu_{0}(X) + u_0  $$\n",
    "\n",
    "É importante notar que agora tanto $\\mu_{0}$ quanto $\\mu_{1}$ são função de $X$, suas características observáveis. E $\\mu_{1}(X) $ e $ \\mu_{0}(X) $ representam as **médias dos resultados potenciais** para os tratados e não tratados, respectivamente, dados $ X $. Os termos $ u_1 $ e $u_0 $ são termos de erro associados aos grupos de tratamento e controle, respectivamente.\n",
    "\n",
    "\n",
    "Voltando ao nosso objetivo inicial. Queremos é estimar o efeito causal, como o efeito médio do tratamento (Average Treatment Effect, ATE), definido como:\n",
    "\n",
    "$$ATE = E[Y_{i}^{1} - Y_{i}^{0}]$$\n",
    "\n",
    "**Como calcular o ATE?**\n",
    "\n",
    "Devido à falta de observação simultânea de $Y^{1}$ e $Y^{0}$ para a mesma unidade, os pesquisadores propuseram utilizar **estimadores baseados em imputação** para estimar o potencial resultado não observado.\n",
    "\n",
    "A ideia é que podemos estimar o ATE a partir de valores previstos dos resultados potenciais sob tratamento ($\\hat{Y^{1}}$) e não-tratado ($\\hat{Y^{0}}$).\n",
    "\n",
    "\n",
    "**Exemplo aplicado**\n"
   ]
  },
  {
   "cell_type": "code",
   "execution_count": 17,
   "metadata": {},
   "outputs": [
    {
     "name": "stdout",
     "output_type": "stream",
     "text": [
      "                            OLS Regression Results                            \n",
      "==============================================================================\n",
      "Dep. Variable:                      Y   R-squared:                       0.136\n",
      "Model:                            OLS   Adj. R-squared:                 -0.296\n",
      "Method:                 Least Squares   F-statistic:                    0.3157\n",
      "Date:                Wed, 06 Nov 2024   Prob (F-statistic):              0.631\n",
      "Time:                        17:10:49   Log-Likelihood:                -9.5879\n",
      "No. Observations:                   4   AIC:                             23.18\n",
      "Df Residuals:                       2   BIC:                             21.95\n",
      "Df Model:                           1                                         \n",
      "Covariance Type:            nonrobust                                         \n",
      "==============================================================================\n",
      "                 coef    std err          t      P>|t|      [0.025      0.975]\n",
      "------------------------------------------------------------------------------\n",
      "Intercept      8.0714      4.540      1.778      0.217     -11.461      27.604\n",
      "X             -0.3571      0.636     -0.562      0.631      -3.092       2.378\n",
      "==============================================================================\n",
      "Omnibus:                          nan   Durbin-Watson:                   3.356\n",
      "Prob(Omnibus):                    nan   Jarque-Bera (JB):                0.254\n",
      "Skew:                           0.071   Prob(JB):                        0.881\n",
      "Kurtosis:                       1.773   Cond. No.                         17.5\n",
      "==============================================================================\n",
      "\n",
      "Notes:\n",
      "[1] Standard Errors assume that the covariance matrix of the errors is correctly specified.\n"
     ]
    },
    {
     "name": "stderr",
     "output_type": "stream",
     "text": [
      "c:\\Users\\danie\\AppData\\Local\\Programs\\Python\\Python311\\Lib\\site-packages\\statsmodels\\stats\\stattools.py:74: ValueWarning: omni_normtest is not valid with less than 8 observations; 4 samples were given.\n",
      "  warn(\"omni_normtest is not valid with less than 8 observations; %i \"\n"
     ]
    }
   ],
   "source": [
    "import pandas as pd\n",
    "import statsmodels.formula.api as smf \n",
    "# DataFrame\n",
    "df = pd.read_stata(\"https://github.com/scunning1975/mixtape/raw/master/training_bias_reduction.dta\")\n",
    "reg1 = smf.ols('Y ~ X', data=df[df['D'] == 1]).fit()\n",
    "print(reg1.summary())\n",
    "df['Yhat_1']= reg1.predict(df)"
   ]
  },
  {
   "cell_type": "code",
   "execution_count": 18,
   "metadata": {},
   "outputs": [
    {
     "name": "stdout",
     "output_type": "stream",
     "text": [
      "                            OLS Regression Results                            \n",
      "==============================================================================\n",
      "Dep. Variable:                      Y   R-squared:                       0.015\n",
      "Model:                            OLS   Adj. R-squared:                 -0.478\n",
      "Method:                 Least Squares   F-statistic:                   0.03001\n",
      "Date:                Wed, 06 Nov 2024   Prob (F-statistic):              0.878\n",
      "Time:                        17:10:53   Log-Likelihood:                -8.5398\n",
      "No. Observations:                   4   AIC:                             21.08\n",
      "Df Residuals:                       2   BIC:                             19.85\n",
      "Df Model:                           1                                         \n",
      "Covariance Type:            nonrobust                                         \n",
      "==============================================================================\n",
      "                 coef    std err          t      P>|t|      [0.025      0.975]\n",
      "------------------------------------------------------------------------------\n",
      "Intercept      2.0872      2.788      0.749      0.532      -9.909      14.083\n",
      "X              0.0718      0.414      0.173      0.878      -1.712       1.855\n",
      "==============================================================================\n",
      "Omnibus:                          nan   Durbin-Watson:                   3.412\n",
      "Prob(Omnibus):                    nan   Jarque-Bera (JB):                0.402\n",
      "Skew:                          -0.018   Prob(JB):                        0.818\n",
      "Kurtosis:                       1.448   Cond. No.                         13.2\n",
      "==============================================================================\n",
      "\n",
      "Notes:\n",
      "[1] Standard Errors assume that the covariance matrix of the errors is correctly specified.\n"
     ]
    },
    {
     "name": "stderr",
     "output_type": "stream",
     "text": [
      "c:\\Users\\danie\\AppData\\Local\\Programs\\Python\\Python311\\Lib\\site-packages\\statsmodels\\stats\\stattools.py:74: ValueWarning: omni_normtest is not valid with less than 8 observations; 4 samples were given.\n",
      "  warn(\"omni_normtest is not valid with less than 8 observations; %i \"\n"
     ]
    },
    {
     "data": {
      "text/html": [
       "<div>\n",
       "<style scoped>\n",
       "    .dataframe tbody tr th:only-of-type {\n",
       "        vertical-align: middle;\n",
       "    }\n",
       "\n",
       "    .dataframe tbody tr th {\n",
       "        vertical-align: top;\n",
       "    }\n",
       "\n",
       "    .dataframe thead th {\n",
       "        text-align: right;\n",
       "    }\n",
       "</style>\n",
       "<table border=\"1\" class=\"dataframe\">\n",
       "  <thead>\n",
       "    <tr style=\"text-align: right;\">\n",
       "      <th></th>\n",
       "      <th>Unit</th>\n",
       "      <th>Y</th>\n",
       "      <th>D</th>\n",
       "      <th>X</th>\n",
       "      <th>Yhat_1</th>\n",
       "      <th>Yhat_0</th>\n",
       "    </tr>\n",
       "  </thead>\n",
       "  <tbody>\n",
       "    <tr>\n",
       "      <th>0</th>\n",
       "      <td>1</td>\n",
       "      <td>5</td>\n",
       "      <td>1</td>\n",
       "      <td>11</td>\n",
       "      <td>4.142857</td>\n",
       "      <td>2.876923</td>\n",
       "    </tr>\n",
       "    <tr>\n",
       "      <th>1</th>\n",
       "      <td>2</td>\n",
       "      <td>2</td>\n",
       "      <td>1</td>\n",
       "      <td>7</td>\n",
       "      <td>5.571429</td>\n",
       "      <td>2.589744</td>\n",
       "    </tr>\n",
       "    <tr>\n",
       "      <th>2</th>\n",
       "      <td>3</td>\n",
       "      <td>10</td>\n",
       "      <td>1</td>\n",
       "      <td>5</td>\n",
       "      <td>6.285714</td>\n",
       "      <td>2.446154</td>\n",
       "    </tr>\n",
       "    <tr>\n",
       "      <th>3</th>\n",
       "      <td>4</td>\n",
       "      <td>6</td>\n",
       "      <td>1</td>\n",
       "      <td>3</td>\n",
       "      <td>7.000000</td>\n",
       "      <td>2.302564</td>\n",
       "    </tr>\n",
       "    <tr>\n",
       "      <th>4</th>\n",
       "      <td>5</td>\n",
       "      <td>4</td>\n",
       "      <td>0</td>\n",
       "      <td>10</td>\n",
       "      <td>4.500000</td>\n",
       "      <td>2.805128</td>\n",
       "    </tr>\n",
       "    <tr>\n",
       "      <th>5</th>\n",
       "      <td>6</td>\n",
       "      <td>0</td>\n",
       "      <td>0</td>\n",
       "      <td>8</td>\n",
       "      <td>5.214286</td>\n",
       "      <td>2.661538</td>\n",
       "    </tr>\n",
       "    <tr>\n",
       "      <th>6</th>\n",
       "      <td>7</td>\n",
       "      <td>5</td>\n",
       "      <td>0</td>\n",
       "      <td>4</td>\n",
       "      <td>6.642857</td>\n",
       "      <td>2.374359</td>\n",
       "    </tr>\n",
       "    <tr>\n",
       "      <th>7</th>\n",
       "      <td>8</td>\n",
       "      <td>1</td>\n",
       "      <td>0</td>\n",
       "      <td>1</td>\n",
       "      <td>7.714286</td>\n",
       "      <td>2.158974</td>\n",
       "    </tr>\n",
       "  </tbody>\n",
       "</table>\n",
       "</div>"
      ],
      "text/plain": [
       "   Unit   Y  D   X    Yhat_1    Yhat_0\n",
       "0     1   5  1  11  4.142857  2.876923\n",
       "1     2   2  1   7  5.571429  2.589744\n",
       "2     3  10  1   5  6.285714  2.446154\n",
       "3     4   6  1   3  7.000000  2.302564\n",
       "4     5   4  0  10  4.500000  2.805128\n",
       "5     6   0  0   8  5.214286  2.661538\n",
       "6     7   5  0   4  6.642857  2.374359\n",
       "7     8   1  0   1  7.714286  2.158974"
      ]
     },
     "execution_count": 18,
     "metadata": {},
     "output_type": "execute_result"
    }
   ],
   "source": [
    "reg0 = smf.ols('Y ~ X', data=df[df['D'] == 0]).fit()\n",
    "print(reg0.summary())\n",
    "\n",
    "df['Yhat_0']= reg0.predict(df)\n",
    "df"
   ]
  },
  {
   "cell_type": "markdown",
   "metadata": {},
   "source": [
    "Agora podemos calcular o efeito médio do tratamento (ATE) nos valores previstos de $Y^{1}$ e $Y^{0}$, e então estimar o efeito médio do tratamento.\n",
    "\n",
    "$$ \\hat{ATE} = \\frac{1}{N} \\sum_{i=1}^{N} \\left( \\hat{Y}_{i}^{1} - \\hat{Y}_{i}^{0} \\right) $$\n"
   ]
  },
  {
   "cell_type": "code",
   "execution_count": 21,
   "metadata": {},
   "outputs": [
    {
     "data": {
      "text/html": [
       "<div>\n",
       "<style scoped>\n",
       "    .dataframe tbody tr th:only-of-type {\n",
       "        vertical-align: middle;\n",
       "    }\n",
       "\n",
       "    .dataframe tbody tr th {\n",
       "        vertical-align: top;\n",
       "    }\n",
       "\n",
       "    .dataframe thead th {\n",
       "        text-align: right;\n",
       "    }\n",
       "</style>\n",
       "<table border=\"1\" class=\"dataframe\">\n",
       "  <thead>\n",
       "    <tr style=\"text-align: right;\">\n",
       "      <th></th>\n",
       "      <th>Unit</th>\n",
       "      <th>Y</th>\n",
       "      <th>D</th>\n",
       "      <th>X</th>\n",
       "      <th>Yhat_1</th>\n",
       "      <th>Yhat_0</th>\n",
       "      <th>tau_hat</th>\n",
       "    </tr>\n",
       "  </thead>\n",
       "  <tbody>\n",
       "    <tr>\n",
       "      <th>0</th>\n",
       "      <td>1</td>\n",
       "      <td>5</td>\n",
       "      <td>1</td>\n",
       "      <td>11</td>\n",
       "      <td>4.142857</td>\n",
       "      <td>2.876923</td>\n",
       "      <td>1.265934</td>\n",
       "    </tr>\n",
       "    <tr>\n",
       "      <th>1</th>\n",
       "      <td>2</td>\n",
       "      <td>2</td>\n",
       "      <td>1</td>\n",
       "      <td>7</td>\n",
       "      <td>5.571429</td>\n",
       "      <td>2.589744</td>\n",
       "      <td>2.981685</td>\n",
       "    </tr>\n",
       "    <tr>\n",
       "      <th>2</th>\n",
       "      <td>3</td>\n",
       "      <td>10</td>\n",
       "      <td>1</td>\n",
       "      <td>5</td>\n",
       "      <td>6.285714</td>\n",
       "      <td>2.446154</td>\n",
       "      <td>3.839560</td>\n",
       "    </tr>\n",
       "    <tr>\n",
       "      <th>3</th>\n",
       "      <td>4</td>\n",
       "      <td>6</td>\n",
       "      <td>1</td>\n",
       "      <td>3</td>\n",
       "      <td>7.000000</td>\n",
       "      <td>2.302564</td>\n",
       "      <td>4.697436</td>\n",
       "    </tr>\n",
       "    <tr>\n",
       "      <th>4</th>\n",
       "      <td>5</td>\n",
       "      <td>4</td>\n",
       "      <td>0</td>\n",
       "      <td>10</td>\n",
       "      <td>4.500000</td>\n",
       "      <td>2.805128</td>\n",
       "      <td>1.694872</td>\n",
       "    </tr>\n",
       "    <tr>\n",
       "      <th>5</th>\n",
       "      <td>6</td>\n",
       "      <td>0</td>\n",
       "      <td>0</td>\n",
       "      <td>8</td>\n",
       "      <td>5.214286</td>\n",
       "      <td>2.661538</td>\n",
       "      <td>2.552747</td>\n",
       "    </tr>\n",
       "    <tr>\n",
       "      <th>6</th>\n",
       "      <td>7</td>\n",
       "      <td>5</td>\n",
       "      <td>0</td>\n",
       "      <td>4</td>\n",
       "      <td>6.642857</td>\n",
       "      <td>2.374359</td>\n",
       "      <td>4.268498</td>\n",
       "    </tr>\n",
       "    <tr>\n",
       "      <th>7</th>\n",
       "      <td>8</td>\n",
       "      <td>1</td>\n",
       "      <td>0</td>\n",
       "      <td>1</td>\n",
       "      <td>7.714286</td>\n",
       "      <td>2.158974</td>\n",
       "      <td>5.555311</td>\n",
       "    </tr>\n",
       "  </tbody>\n",
       "</table>\n",
       "</div>"
      ],
      "text/plain": [
       "   Unit   Y  D   X    Yhat_1    Yhat_0   tau_hat\n",
       "0     1   5  1  11  4.142857  2.876923  1.265934\n",
       "1     2   2  1   7  5.571429  2.589744  2.981685\n",
       "2     3  10  1   5  6.285714  2.446154  3.839560\n",
       "3     4   6  1   3  7.000000  2.302564  4.697436\n",
       "4     5   4  0  10  4.500000  2.805128  1.694872\n",
       "5     6   0  0   8  5.214286  2.661538  2.552747\n",
       "6     7   5  0   4  6.642857  2.374359  4.268498\n",
       "7     8   1  0   1  7.714286  2.158974  5.555311"
      ]
     },
     "execution_count": 21,
     "metadata": {},
     "output_type": "execute_result"
    }
   ],
   "source": [
    "df['tau_hat'] = df['Yhat_1'] - df['Yhat_0']\n",
    "df"
   ]
  },
  {
   "cell_type": "code",
   "execution_count": null,
   "metadata": {},
   "outputs": [
    {
     "name": "stdout",
     "output_type": "stream",
     "text": [
      "\n",
      "Efeito Médio do Tratamento (ATE) estimado: 3.3570054945054957\n"
     ]
    }
   ],
   "source": [
    "ATE = df['tau_hat'].mean()\n",
    "print(f\"\\nEfeito Médio do Tratamento (ATE) estimado: {ATE}\")"
   ]
  },
  {
   "cell_type": "markdown",
   "metadata": {},
   "source": [
    "**E o ATT e o ATC?**\n",
    "\n",
    "Podemos também estimar o efeito médio do tratamento para os tratados (ATT) e o efeito médio do tratamento para os não tratados (ATU), que são definidos como:\n",
    "\n",
    "$$ATT = E[Y_{i}^{1} - Y_{i}^{0} | D = 1]$$\n",
    "\n",
    "$$ATU = E[Y_{i}^{1} - Y_{i}^{0} | D = 0]$$\n",
    "\n"
   ]
  },
  {
   "cell_type": "code",
   "execution_count": 25,
   "metadata": {},
   "outputs": [],
   "source": [
    "# Calculando o ATT (média dos tau_hat para D=1)\n",
    "ATT = df[df['D'] == 1]['tau_hat'].mean()\n",
    "\n",
    "# Calculando o ATU (média dos tau_hat para D=0)\n",
    "ATU = df[df['D'] == 0]['tau_hat'].mean()"
   ]
  },
  {
   "cell_type": "code",
   "execution_count": 27,
   "metadata": {},
   "outputs": [
    {
     "name": "stdout",
     "output_type": "stream",
     "text": [
      "Efeito Médio do Tratamento (ATE): 3.3570054945054957\n",
      "Efeito Médio do Tratamento sobre os Tratados (ATT): 3.1961538461538472\n",
      "Efeito Médio do Tratamento sobre os Controles (ATU): 3.517857142857144\n"
     ]
    }
   ],
   "source": [
    "# Exibindo os resultados\n",
    "print(f\"Efeito Médio do Tratamento (ATE): {ATE}\")\n",
    "print(f\"Efeito Médio do Tratamento sobre os Tratados (ATT): {ATT}\")\n",
    "print(f\"Efeito Médio do Tratamento sobre os Controles (ATU): {ATU}\")"
   ]
  },
  {
   "cell_type": "markdown",
   "metadata": {},
   "source": [
    "**Interpretação dos Resultados**\n",
    "\n",
    "* **ATE (Efeito Médio do Tratamento):** Estimado em aproximadamente 3.36, indica o efeito médio esperado do tratamento na população geral.\n",
    "\n",
    "* **ATT (Efeito Médio sobre os Tratados):** Estimado em aproximadamente 3.20, sugere que, para as unidades que receberam o tratamento, o efeito médio do tratamento é um aumento de 3.20 unidades em Y.\n",
    "\n",
    "* **ATU (Efeito Médio sobre os Não-Tratados)**: Estimado em aproximadamente 3.52, indica que, se as unidades de controle tivessem recebido o tratamento, o efeito médio esperado seria um aumento de 3.52 unidades em Y."
   ]
  },
  {
   "cell_type": "markdown",
   "metadata": {},
   "source": [
    "## Outcome Regression\n",
    "\n",
    "O estimador de \"Outcome Regression\" também é conhecido como Regression Adjustment ou Augmented Regression. É um desdobramento do estimador de imputação visto no exemplo anterior. Vejamos mais a fundo.\n",
    "\n",
    "**Outcome Regression - ATE**\n",
    "\n",
    "Logo, no contexto de resultados potenciais, poderíamos recuperar o efeito causal $\\tau$ ao tirarmos e expectativa da diferença de médias. Ou seja:\n",
    "\n",
    "$$ \\hat{ATE} = E[\\hat{Y}^{1} - \\hat{Y}^{0}] $$\n",
    "\n",
    "\n",
    "$$ \\hat{ATE} = E[ (\\mu_{1}(X) +  u_1) - (\\mu_{0}(X) - u_0) ] $$\n",
    "\n",
    "$$ \\hat{ATE} = E[\\mu_{1}(X) - \\mu_{0}(X)] - E[u_1 - u_0] $$\n",
    "\n",
    "\n",
    "Em um experimento controlado, esperaríamos que:\n",
    "* $E[Y_{1} - \\mu_{1}(X)] = E[u_{1}] = 0$ \n",
    "* $E[Y_{0} - \\mu_{0}(X)] = E[u_{0}] = 0$\n",
    "\n",
    "o que simplificaria a expressão para o efeito causal médio ajustado pelas covariáveis: \n",
    "\n",
    "$$ \\hat{ATE} = E[\\mu_{1}(X)- \\mu_{0}(X)] - E[u_1 - u_0] = E[\\beta] $$\n",
    "\n",
    "em outras palavras, em caso de um experimento, a expressão para o ATE, ajustado pelas covariáveis, deve simplificar para\n",
    "\n",
    "$$ \\hat{\\beta}^{OR}_{ATE} = E[\\mu_{1}(X)- \\mu_{0}(X)] $$\n",
    "\n",
    "Uma proposta natural para estimar as funções $\\mu_{1}(X)$ e $\\mu_{0}(X)$ é ajustar um modelo de regressão linear para $Y$ em função de $D$ e $X$. Se o modelo for **corretamente especificado**, o coeficiente de $D$ estimado será uma estimativa consistente do efeito causal médio ajustado pelas covariáveis.\n",
    "\n",
    "Logo, os *pressupostos principais* para identificação do efeito causal:\n",
    "\n",
    "* **Linearidade**\n",
    "* **Viés de seleção por observáveis** (ignorabilidade condicional)\n",
    "  * Assumimos que, ao incluir $X$ no modelo, estamos controlando adequadamente por todas as fontes de viés de seleção.\n",
    "\n",
    "**Limitações:**\n",
    "* Se existirem variáveis não observadas que afetam $D$ e $Y$, o estimador de Outcome Regression será enviesado.\n"
   ]
  },
  {
   "cell_type": "markdown",
   "metadata": {},
   "source": [
    "**Outcome Regression - ATT**\n",
    "\n",
    "Para obter o efeito médio do tratamento para os tratados, utilizamos a ideia contrafactual, para o subgrupo amostral dos tratados. A ideia é utilizar a projeção do grupo Não-tratado com as características X do grupo de tratamento ($X^{1}$) para construir o contrafactual. \n",
    "\n",
    "Queremos construir um grupo de controle, sua função ($\\mu_{0}(.)$ representa como os não-tratados se comportam, entretanto projetamos seu resultado contrafactual ao considerar \"se eles tivessem as características observáveis dos tratados\").\n",
    "\n",
    "Dessa forma a estimativa do efeito médio do tratamento para os tratados (ATT) é dada por:\n",
    "\n",
    "$$ \\hat{\\beta}^{OR}_{ATT} = E[\\mu_{1}(X^{1}) - \\mu_{0}(X^{1})] + E[(Y_{1} - \\mu_{1}(X^{1})) - (Y_{0} - \\mu_{0}(X^{1}))] $$\n",
    "\n",
    "\n",
    "Em outras palavras, consideramos os resultados do grupo de controle caso eles tivessem as mesmas características observáveis do grupo de tratamento.\n",
    "\n",
    "Como no exemplo anterior, isso ocorre na subamostra dos tratados, ou seja, quando restringimos a análise em $D=1$."
   ]
  },
  {
   "cell_type": "markdown",
   "metadata": {},
   "source": [
    "### Aplicação no Python\t\n",
    "\n",
    "Vamos fazer um exemplo prático no Python, com os dados das mães fumantes e não fumantes durante a gestação, e o peso dos bebês ao nascer. \n",
    "\n",
    "Primeiramente farei os códigos na \"mão\", e depois utilizarei o pacote pyDRReg.\n"
   ]
  },
  {
   "cell_type": "code",
   "execution_count": 28,
   "metadata": {},
   "outputs": [],
   "source": [
    "import pandas as pd\n",
    "import numpy as np\n",
    "from sklearn.linear_model import LinearRegression"
   ]
  },
  {
   "cell_type": "code",
   "execution_count": 29,
   "metadata": {},
   "outputs": [],
   "source": [
    "# DataFrame\n",
    "df = pd.read_stata(\"https://github.com/Daniel-Uhr/data/raw/main/cattaneo2.dta\")\n",
    "\n",
    "# Criar a variável de resultado\n",
    "df['Y'] = df['bweight']\n",
    "\n",
    "# Crie a variável 'Treated' com valor inicial de 0\n",
    "df['Treated'] = 0\n",
    "# Recodifique 'Treated' para 1 se 'mbsmoke' for igual a 'smoker'\n",
    "df.loc[df['mbsmoke'] == 'smoker', 'Treated'] = 1\n",
    "\n",
    "# Criar variáveis de controle\n",
    "df['Mmarried'] = 0\n",
    "df.loc[df['mmarried'] == 'married', 'Mmarried'] = 1\n",
    "df['casada'] = 0\n",
    "df.loc[df['mmarried']=='married', 'casada'] = 1"
   ]
  },
  {
   "cell_type": "markdown",
   "metadata": {},
   "source": [
    "Após carregar os dados vamos tentar aplicar o Outcome Regression para estimar o ATE.\n",
    "\n",
    "```python"
   ]
  },
  {
   "cell_type": "markdown",
   "metadata": {},
   "source": [
    "**Outcome Regression - ATE**"
   ]
  },
  {
   "cell_type": "code",
   "execution_count": 30,
   "metadata": {},
   "outputs": [
    {
     "name": "stdout",
     "output_type": "stream",
     "text": [
      "Outcome Regression Estimate - ATE (OR - ATE): -236.52788533678506\n"
     ]
    }
   ],
   "source": [
    "def OR_ate(df, X_cols, T_col, Y_col):\n",
    "    X_np = df[X_cols].values  # Converter X para numpy array\n",
    "    T_np = df[T_col].values  # Converter T para numpy array\n",
    "    Y_np = df[Y_col].values  # Converter Y para numpy array\n",
    "    # Essas linhas convertem as colunas de interesse do DataFrame (df) em arrays numpy, o que facilita a manipulação e os cálculos subsequentes.\n",
    "        \n",
    "    # Ajustar regressão linear para não tratados (D=0)\n",
    "    model_0 = LinearRegression().fit(X_np[T_np==0], Y_np[T_np==0])\n",
    "    mu0 = model_0.predict(X_np)\n",
    "    # Aqui, ajusta-se um modelo de regressão linear para as observações que não receberam o tratamento (T_np == 0). Em seguida, são feitas previsões (mu0) para todas as observações com base neste modelo.\n",
    "    \n",
    "    # Ajustar regressão linear para tratados (D=1)\n",
    "    model_1 = LinearRegression().fit(X_np[T_np==1], Y_np[T_np==1])\n",
    "    mu1 = model_1.predict(X_np)\n",
    "    # Da mesma forma, ajusta-se um modelo de regressão linear para as observações que receberam o tratamento (T_np == 1) e são feitas previsões (mu1) para todas as observações com base neste modelo.\n",
    "    \n",
    "    # Calcular o efeito causal médio\n",
    "    effect = np.mean(mu1 - mu0)\n",
    "    # Calcula-se a diferença média entre as previsões dos modelos para tratados e não tratados, resultando em uma estimativa preliminar do efeito causal médio\n",
    "    \n",
    "    # Calcular os desvios para todas as observações\n",
    "    deviations = (Y_np - (T_np * mu1 + (1 - T_np) * mu0))\n",
    "    # Os desvios são calculados como a diferença entre os valores observados de Y e as previsões ponderadas dos modelos de tratados e não tratados.\n",
    "    \n",
    "    # Calcular a média dos desvios\n",
    "    deviations_mean = np.mean(deviations)\n",
    "    # Calcula-se a média dos desvios, que é usada para ajustar a estimativa do efeito causal médio.\n",
    "    \n",
    "    # Calcular o OR\n",
    "    OR_ate_estimate = effect + deviations_mean\n",
    "    \n",
    "    return OR_ate_estimate\n",
    "\n",
    "# Definir as colunas de interesse\n",
    "T_col = 'Treated'\n",
    "Y_col = 'Y'\n",
    "X_cols = ['casada', 'mage', 'medu']\n",
    "\n",
    "# Calcular o OR\n",
    "result_OR_ate = OR_ate(df, X_cols, T_col, Y_col)\n",
    "print(\"Outcome Regression Estimate - ATE (OR - ATE):\", result_OR_ate)"
   ]
  },
  {
   "cell_type": "markdown",
   "metadata": {},
   "source": [
    "O resultado da estimativa de ATE (Average Treatment Effect) usando a técnica de Outcome Regression é de aproximadamente -236.53. Isso significa que, em média, o efeito do fumo durante a gestação sobre o resultado $Y$ (peso dos bebês ao nascer) é uma redução de aproximadamente 236.53 gramas."
   ]
  },
  {
   "cell_type": "code",
   "execution_count": 31,
   "metadata": {},
   "outputs": [
    {
     "name": "stdout",
     "output_type": "stream",
     "text": [
      "Outcome Regression (ATT): -215.24538690027902\n"
     ]
    }
   ],
   "source": [
    "import pandas as pd\n",
    "import numpy as np\n",
    "from sklearn.linear_model import LinearRegression\n",
    "\n",
    "def OR_att(df, X_cols, T_col, Y_col):\n",
    "    # Separar dados tratados (D=1) e não tratados (D=0)\n",
    "    X_treated = df[df[T_col] == 1][X_cols]\n",
    "    Y_treated = df[df[T_col] == 1][Y_col]\n",
    "    X_control = df[df[T_col] == 0][X_cols]\n",
    "    Y_control = df[df[T_col] == 0][Y_col]\n",
    "\n",
    "    # Ajustar modelos de regressão linear\n",
    "    model_treated = LinearRegression().fit(X_treated, Y_treated)\n",
    "    model_control = LinearRegression().fit(X_control, Y_control)\n",
    "\n",
    "    # Calcular previsões para tratados e não tratados\n",
    "    mu1_X = model_treated.predict(X_treated)\n",
    "    mu0_X = model_control.predict(X_treated)  # Usando X_treated para manter o contrafactual consistente\n",
    "\n",
    "    # Calcular desvios para todas as observações\n",
    "    deviations_treated = Y_treated - mu1_X\n",
    "    deviations_control = Y_control - model_control.predict(X_control)\n",
    "\n",
    "    # Calcular a média dos desvios tratados e não tratados\n",
    "    deviations_mean_treated = deviations_treated.mean()\n",
    "    deviations_mean_control = deviations_control.mean()\n",
    "\n",
    "    # Calcular a média geral dos desvios\n",
    "    deviations_mean = deviations_treated.mean()  # Considerando apenas os tratados para o ATT\n",
    "\n",
    "    # Calcular ATT\n",
    "    OR_att_estimate = (mu1_X.mean() - mu0_X.mean()) + deviations_mean\n",
    "\n",
    "    return OR_att_estimate\n",
    "\n",
    "T_col = 'Treated'\n",
    "Y_col = 'Y'\n",
    "X_cols = ['casada', 'mage', 'medu']\n",
    "\n",
    "result_OR_att = OR_att(df, X_cols, T_col, Y_col)\n",
    "print(\"Outcome Regression (ATT):\", result_OR_att)\n"
   ]
  },
  {
   "cell_type": "markdown",
   "metadata": {},
   "source": [
    "Fazendo a análise de forma mais fácil, pelo pacote pyDRReg, encontramos os mesmos resultados"
   ]
  },
  {
   "cell_type": "markdown",
   "metadata": {},
   "source": [
    "**Outcome Regression - ATT**"
   ]
  },
  {
   "cell_type": "code",
   "execution_count": 32,
   "metadata": {},
   "outputs": [
    {
     "name": "stdout",
     "output_type": "stream",
     "text": [
      "         Metric       Value\n",
      "0     Estimator          OR\n",
      "1        Method         ATT\n",
      "2      Estimate -215.245387\n",
      "3  bootstrap_SE   22.410568\n",
      "4        t-stat   -9.604638\n",
      "5       p-value         0.0\n",
      "6      CI Lower   -259.1701\n",
      "7      CI Upper -171.320674\n"
     ]
    }
   ],
   "source": [
    "from pyDRReg.pyDRReg import pyDRReg\n",
    "\n",
    "T_var = 'Treated'\n",
    "Y_var = 'Y'\n",
    "X_vars = ['casada', 'mage', 'medu']\n",
    "\n",
    "OR_att = pyDRReg(df, X_vars, T_var, Y_var, method='att', estimator='OR', n_bootstrap=50, seed=44)\n",
    "\n",
    "print(OR_att.summary())"
   ]
  },
  {
   "cell_type": "markdown",
   "metadata": {},
   "source": [
    "**Outcome Regression - ATE**"
   ]
  },
  {
   "cell_type": "code",
   "execution_count": 33,
   "metadata": {},
   "outputs": [
    {
     "name": "stdout",
     "output_type": "stream",
     "text": [
      "         Metric       Value\n",
      "0     Estimator          OR\n",
      "1        Method         ATE\n",
      "2      Estimate -236.527885\n",
      "3  bootstrap_SE   24.192087\n",
      "4        t-stat   -9.777077\n",
      "5       p-value         0.0\n",
      "6      CI Lower -283.944375\n",
      "7      CI Upper -189.111396\n"
     ]
    }
   ],
   "source": [
    "from pyDRReg.pyDRReg import pyDRReg\n",
    "\n",
    "T_var = 'Treated'\n",
    "Y_var = 'Y'\n",
    "X_vars = ['casada', 'mage', 'medu']\n",
    "\n",
    "OR_ate = pyDRReg(df, X_vars, T_var, Y_var, method='ate', estimator='OR', n_bootstrap=50, seed=44)\n",
    "\n",
    "print(OR_ate.summary())"
   ]
  },
  {
   "cell_type": "markdown",
   "metadata": {},
   "source": [
    "O resultado da estimativa de ATT (Average Treatment Effect on the Treated) usando a técnica de Outcome Regression é de aproximadamente -215.25; Isso significa que, em média, o efeito do fumo durante a gestação sobre o resultado $Y$ (peso dos bebês ao nascer) é uma redução de aproximadamente 215.25 gramas para os tratados."
   ]
  },
  {
   "cell_type": "markdown",
   "metadata": {},
   "source": [
    "## Doubly Robust Estimation (DR)\n",
    "\n",
    "A estimativa duplamente robusta combina uma forma de \"Outcome Regression\" com um modelo de ponderação (ou seja, utilizando o escore de propensão) para estimar o efeito causal sobre um resultado. Quando usados individualmente para estimar um efeito causal, os métodos de regressão de resultados e escore de propensão são não enviesados apenas se o modelo estatístico for especificado corretamente. O **estimador duplamente robusto** combina estas 2 abordagens de modo que apenas 1 dos 2 modelos precisa ser especificado corretamente para obter um estimador de efeito não-viesado.\n",
    "\n",
    "A especificação correta do modelo de regressão é um pressuposto fundamental na análise econométrica. Quando o objetivo é ajustar o fator de confusão, o estimador é consistente (e, portanto, assintoticamente não-enviesado) se o modelo refletir as verdadeiras relações entre a exposição e os fatores de confusão com o resultado. Na prática, nunca poderemos saber se algum modelo específico representa com precisão essas relações. **A estimativa duplamente robusta combina regressão de resultados com ponderação pelo escore de propensão (PS), de modo que o estimador seja robusto à especificação incorreta de um (mas não de ambos) desses modelos**."
   ]
  },
  {
   "cell_type": "markdown",
   "metadata": {},
   "source": [
    "**Outcome Regression Approach**\n",
    "\n",
    "Vimos que:\n",
    "\n",
    "$$ \\hat{\\beta}_{ATE}^{OR} = E[\\mu_{1}(X) - \\mu_{0}(X)] + E[(Y_{1} - \\mu_{1}(X)) - (Y_{0} - \\mu_{0}(X))] $$\n",
    "\n",
    "e\n",
    "\n",
    "$$ \\hat{\\beta}^{OR}_{ATT} = E[\\mu_{1}(X^{1}) - \\mu_{0}(X^{1})] + E[(Y_{1} - \\mu_{1}(X^{1})) - (Y_{0} - \\mu_{0}(X^{1}))] $$\n",
    "\n"
   ]
  },
  {
   "cell_type": "markdown",
   "metadata": {
    "notebookRunGroups": {
     "groupValue": "1"
    }
   },
   "source": [
    "\n",
    "**Approach de Inverse Probability Weighting (IPW)**\n",
    "\n",
    "Nesta abordagem, o viés de confusão é ajustado por meio de técnicas de matching (pareamento) e ponderação pelo escore de propensão (Peso = $W$). As ponderações são calculadas da seguinte forma:\n",
    "\n",
    "$$ W_{ATE} = \\frac{D}{\\hat{p}(X)} + \\frac{1-D}{1-\\hat{p}(X)} $$\n",
    "\n",
    "e,\n",
    "\n",
    "$$ W_{ATT} = D + (1-D)\\frac{\\hat{p}(X)}{1-\\hat{p}(X)} $$\n"
   ]
  },
  {
   "cell_type": "markdown",
   "metadata": {},
   "source": [
    "**Approach do Doubly Robust Estimation (DR)**\n",
    "\n",
    "A abordagem Doubly Robust Estimation (DR) combina as vantagens das abordagens de Outcome Regression e de Ponderação pela Probabilidade Inversa. Isso proporciona uma maior robustez aos resultados. Os estimadores duplamente robustos para o Average Treatment Effect (ATE) e o Average Treatment Effect on the Treated (ATT) são dados pelas seguintes fórmulas:\n",
    "\n",
    "* **Doubly Robust Estimation for Average Treatment Effect (ATE)**\n",
    "\n",
    "$$ \\hat{\\beta_{ATE}^{DR}} =  \\mathbb{E} \\left[ (\\mu_1(X) - \\mu_0 (X)) \\right] + \\mathbb{E} \\left[ \\frac{D}{\\hat{p}(X)}.(Y_{1} - \\mu_1 (X)) - \\frac{(1-D)}{1-\\hat{p}(X)}.(Y_{0} - \\mu_0 (X)) \\right] $$"
   ]
  },
  {
   "cell_type": "markdown",
   "metadata": {
    "notebookRunGroups": {
     "groupValue": "1"
    }
   },
   "source": [
    "* **Doubly Robust Estimation for Average Treatment Effect on the Treated (ATT)**\n",
    "\n",
    "$$ \\hat{\\beta_{ATT}^{DR}} = \\mathbb{E} \\left[ (\\mu_1 (X) - \\mu_0 (X)) \\right] + \\mathbb{E} \\left[ D(Y_{1} - \\mu_1 (X)) - \\frac{(1-D)\\hat{p}(X)}{1-\\hat{p}(X)}.(Y_{0} - \\mu_0 (X)) \\right] $$"
   ]
  },
  {
   "cell_type": "markdown",
   "metadata": {},
   "source": [
    "Repare que realizamos um \"ajuste\" nos resíduos da regressão de resultados, ponderando-os pelo escore de propensão. Isso garante que o estimador seja robusto à especificação incorreta de um dos modelos. O \"ajuste\" é essencialmente um estimador IPW realizado sobre os resíduos.\n",
    "\n",
    "Por isso que o Doubly Robust Estimation também é conhecido como Augmented Inverse Probability Weighting (AIPW)."
   ]
  },
  {
   "cell_type": "markdown",
   "metadata": {},
   "source": [
    "**Por que a o estimador Duplamente Robusto (*Augmented Inverse Probability Weighting* - AIPW) é tão atraente?**\n",
    "\n",
    "A razão é que só precisamos de uma das duas previsões, *$\\hat{\\mu}$* ou *$\\hat{p}$*, para que a estimativa seja correta (não enviesada/imparcial). \n",
    "* Se ambos os modelos estiverem corretos, o estimador será mais eficiente do que qualquer um dos modelos sozinho. \n",
    "* Se um dos modelos estiver errado, o estimador ainda será consistente, desde que o outro modelo esteja correto. \n",
    "\n",
    "Isso é uma grande vantagem em relação a outras abordagens, como a regressão de resultados ou a ponderação pelo escore de propensão, que exigem que ambos os modelos estejam corretos para que o estimador seja consistente.\n",
    "\n",
    "Suponha que $\\hat{\\mu}$ esteja especificado corretamente. Então $E[\\hat{\\mu}^{d}(x)=E[Y|X=x, D=d]$ , então o estimador DR é consistente, mesmo que o modelo de propensão $\\hat{p}$ esteja mal especificado.\n",
    "\n",
    "$$ \\hat{\\beta^{DR}} =  \\mathbb{E} \\left[ (\\mu_1(X) - \\mu_0 (X)) +  \\frac{D}{\\hat{p}(X)}.(Y_{1} - \\mu_1 (X)) - \\frac{(1-D)}{1-\\hat{p}(X)}.(Y_{0} - \\mu_0 (X)) \\right] = $$\n",
    "\n",
    "$$  =  \\mathbb{E} \\left[ (\\mu_1(X) - \\mu_0 (X)) \\right] = $$\n",
    "\n",
    "$$  =  \\mathbb{E} \\left[ Y^{1} - Y^{0} \\right] = $$\n",
    "\n",
    "$$ = \\beta $$\n",
    "\n",
    "A intuição é que, se $\\hat{\\mu}$ está **especificado corretamente é imparcial e o fator de ajuste desaparece**, uma vez que os resíduos convergem para zero.\n",
    "\n",
    "\n",
    "Por outro lado, suponha $\\hat{p}$ está especificado corretamente, ou seja, $E[\\hat{p}(X)]=P(D=1|X)$, então o estimador DR é consistente, mesmo que o modelo de resultados $\\hat{\\mu}$ esteja mal especificado.\n",
    "\n",
    "$$ \\hat{\\beta^{DR}} =  \\mathbb{E} \\left[ (\\mu_1(X) - \\mu_0 (X)) +  \\frac{D}{\\hat{p}(X)}.(Y_{1} - \\mu_1 (X)) - \\frac{(1-D)}{1-\\hat{p}(X)}.(Y_{0} - \\mu_0 (X)) \\right] = $$\n",
    "\n",
    "$$ \\mathbb{E} \\left[ \\mu_1(X) - \\mu_0 (X) + \\frac{D}{\\hat{p}(X)}.Y_{1} - \\frac{D}{\\hat{p}(X)}.\\mu_1 (X) - \\frac{(1-D)}{1-\\hat{p}(X)}Y_{0} + \\frac{(1-D)}{1-\\hat{p}(X)}.\\mu_0 (X) \\right] = $$\n",
    "\n",
    "\n",
    "$$ \\mathbb{E} \\left[ \\frac{D}{\\hat{p}(X)}.Y_{1} - \\frac{(1-D)}{1-\\hat{p}(X)}Y_{0} + \\mu_1(X) - \\frac{D}{\\hat{p}(X)}.\\mu_1 (X) + \\frac{(1-D)}{1-\\hat{p}(X)}.\\mu_0 (X) - \\mu_0 (X) \\right] = $$\n",
    "\n",
    "\n",
    "$$ \\mathbb{E} \\left[ \\frac{D}{\\hat{p}(X)}.Y_{1} - \\frac{(1-D)}{1-\\hat{p}(X)}Y_{0} + \\mu_1(X) (1 - \\frac{D}{\\hat{p}(X)}) + \\mu_0 (X)(\\frac{(1-D)}{1-\\hat{p}(X)} - 1) \\right] = $$\n",
    "\n",
    "$$ \\mathbb{E} \\left[ \\frac{D}{\\hat{p}(X)}.Y_{1} - \\frac{(1-D)}{1-\\hat{p}(X)}Y_{0} + \\mu_1(X) (\\frac{\\hat{p}(X) - D}{\\hat{p}(X)}) + \\mu_0 (X)(\\frac{(1-D)- (1-\\hat{p}(X))}{1-\\hat{p}(X)}) \\right] = $$\n",
    "\n",
    "$$ \\mathbb{E} \\left[ \\frac{D}{\\hat{p}(X)}.Y_{1} - \\frac{(1-D)}{1-\\hat{p}(X)}Y_{0} \\right] = $$\n",
    "\n",
    "$$ \\mathbb{E} \\left[ Y^{1} - Y^{0} \\right] = $$\n",
    "\n",
    "$$ = \\beta $$\n",
    "\n",
    "A intuição é que, se $\\hat{p}$ está especificado corretamente, o $\\hat{\\beta}^{DR}$ é imparcial e o fator de ajuste desaparece, uma vez que os resíduos ($D_{i}-\\hat{p}(X)$) convergem para zero."
   ]
  },
  {
   "cell_type": "markdown",
   "metadata": {},
   "source": [
    "### Aplicação em Python"
   ]
  },
  {
   "cell_type": "markdown",
   "metadata": {},
   "source": [
    "Novamente, a ideia é mostrar todos os componentes da Estimação Duplamente Robusta, e realizar as estimações na \"mão\" e, posteriormente, com o pacote pyDRReg.\n",
    "\n",
    "Primeiro precisamos estimar os componentes da Estimação Duplamente Robusta, \"escore de propensão\" ($p(X)$) e as funções de resposta ($\\mu_{0}(X)$ e $\\mu_{1}(X)$). Num primeiro momento vamos estimar o Propensity Score e estimar regressões ATE e ATE para o método de Propensity Score Weighting (PSW)."
   ]
  },
  {
   "cell_type": "code",
   "execution_count": null,
   "metadata": {},
   "outputs": [],
   "source": [
    "import statsmodels.formula.api as smf\n",
    "import seaborn as sns\n",
    "from sklearn.linear_model import LinearRegression\n",
    "import numpy as np"
   ]
  },
  {
   "cell_type": "markdown",
   "metadata": {},
   "source": [
    "Calculando o escore de propensão."
   ]
  },
  {
   "cell_type": "code",
   "execution_count": 8,
   "metadata": {},
   "outputs": [
    {
     "name": "stdout",
     "output_type": "stream",
     "text": [
      "Optimization terminated successfully.\n",
      "         Current function value: 0.446546\n",
      "         Iterations 6\n",
      "                           Logit Regression Results                           \n",
      "==============================================================================\n",
      "Dep. Variable:                Treated   No. Observations:                 4642\n",
      "Model:                          Logit   Df Residuals:                     4638\n",
      "Method:                           MLE   Df Model:                            3\n",
      "Date:                Thu, 05 Sep 2024   Pseudo R-squ.:                 0.07078\n",
      "Time:                        16:28:30   Log-Likelihood:                -2072.9\n",
      "converged:                       True   LL-Null:                       -2230.7\n",
      "Covariance Type:            nonrobust   LLR p-value:                 3.853e-68\n",
      "==============================================================================\n",
      "                 coef    std err          z      P>|z|      [0.025      0.975]\n",
      "------------------------------------------------------------------------------\n",
      "Intercept      0.5894      0.230      2.564      0.010       0.139       1.040\n",
      "casada        -1.0310      0.090    -11.497      0.000      -1.207      -0.855\n",
      "mage           0.0122      0.008      1.570      0.116      -0.003       0.027\n",
      "medu          -0.1415      0.017     -8.540      0.000      -0.174      -0.109\n",
      "==============================================================================\n"
     ]
    }
   ],
   "source": [
    "# Regressão Logística para estimar o escore de propensão\n",
    "logit_model = smf.logit(\"Treated ~ 1 + casada + mage + medu\", data=df).fit()\n",
    "# Imprimindo o modelo\n",
    "print(logit_model.summary())"
   ]
  },
  {
   "cell_type": "code",
   "execution_count": 9,
   "metadata": {},
   "outputs": [],
   "source": [
    "# Salvando o escore de propensão no DataFrame\n",
    "df['ps'] = logit_model.predict()"
   ]
  },
  {
   "cell_type": "code",
   "execution_count": 10,
   "metadata": {},
   "outputs": [
    {
     "data": {
      "image/png": "[encoded data removed]",
      "text/plain": [
       "<Figure size 640x480 with 1 Axes>"
      ]
     },
     "metadata": {},
     "output_type": "display_data"
    }
   ],
   "source": [
    "# Verificar graficamente a área de sobreposição\n",
    "sns.histplot(data=df, x='ps', hue='Treated', bins=100, stat='density', common_norm=False).\\\n",
    "    set(ylabel=\"\", title=\"Distribution of Propensity Scores\");"
   ]
  },
  {
   "cell_type": "markdown",
   "metadata": {},
   "source": [
    "Agora vamos calcular os pesos IPW para o ATE e ATT."
   ]
  },
  {
   "cell_type": "code",
   "execution_count": 11,
   "metadata": {},
   "outputs": [],
   "source": [
    "# Inverse Probability of Treatment Weight (IPTW)\n",
    "\n",
    "# Peso para o efeito médio do tratamento (ATE)\n",
    "df['W1'] = 1 / df['ps']\n",
    "df.loc[df['Treated'] == 0, 'W1'] = 0\n",
    "df['W2'] = 1 / (1 - df['ps'])\n",
    "df.loc[df['Treated'] == 1, 'W2'] = 0\n",
    "\n",
    "# Peso para o efeito médio do tratamento nos tratados (ATT)\n",
    "df['W_ATE'] = df['W1'] + df['W2']\n",
    "df['W_ATT'] = df['ps'] / (1 - df['ps'])\n",
    "df.loc[df['Treated'] == 1, 'W_ATT'] = 1"
   ]
  },
  {
   "cell_type": "markdown",
   "metadata": {},
   "source": [
    "A título de curiosidade, podemos estimar o efeito médio do tratamento para os tratados (ATT) e o efeito médio do tratamento (ATE) utilizando o método de Ponderação pelo Escore de Propensão (IPW). Para isso, basta rodar a regressão linear considerando como peso amostral os valores de $W_{ATE}$ e $W_{ATT}$, respectivamente."
   ]
  },
  {
   "cell_type": "code",
   "execution_count": 19,
   "metadata": {},
   "outputs": [
    {
     "name": "stdout",
     "output_type": "stream",
     "text": [
      "                            WLS Regression Results                            \n",
      "==============================================================================\n",
      "Dep. Variable:                      Y   R-squared:                       0.040\n",
      "Model:                            WLS   Adj. R-squared:                  0.040\n",
      "Method:                 Least Squares   F-statistic:                     194.9\n",
      "Date:                Thu, 05 Sep 2024   Prob (F-statistic):           2.03e-43\n",
      "Time:                        21:04:19   Log-Likelihood:                -36594.\n",
      "No. Observations:                4642   AIC:                         7.319e+04\n",
      "Df Residuals:                    4640   BIC:                         7.321e+04\n",
      "Df Model:                           1                                         \n",
      "Covariance Type:            nonrobust                                         \n",
      "==============================================================================\n",
      "                 coef    std err          t      P>|t|      [0.025      0.975]\n",
      "------------------------------------------------------------------------------\n",
      "Intercept   3401.1645     11.754    289.358      0.000    3378.121    3424.208\n",
      "Treated     -234.4371     16.793    -13.960      0.000    -267.360    -201.515\n",
      "==============================================================================\n",
      "Omnibus:                     1345.722   Durbin-Watson:                   2.003\n",
      "Prob(Omnibus):                  0.000   Jarque-Bera (JB):            13048.433\n",
      "Skew:                          -1.100   Prob(JB):                         0.00\n",
      "Kurtosis:                      10.914   Cond. No.                         2.60\n",
      "==============================================================================\n",
      "\n",
      "Notes:\n",
      "[1] Standard Errors assume that the covariance matrix of the errors is correctly specified.\n"
     ]
    }
   ],
   "source": [
    "#Propensity Score Weighting - ATE\n",
    "psw_ate = smf.wls(\"Y ~ Treated\", weights=df['W_ATE'], data=df).fit()\n",
    "print(psw_ate.summary())"
   ]
  },
  {
   "cell_type": "code",
   "execution_count": 13,
   "metadata": {},
   "outputs": [
    {
     "name": "stdout",
     "output_type": "stream",
     "text": [
      "                            WLS Regression Results                            \n",
      "==============================================================================\n",
      "Dep. Variable:                      Y   R-squared:                       0.032\n",
      "Model:                            WLS   Adj. R-squared:                  0.032\n",
      "Method:                 Least Squares   F-statistic:                     155.8\n",
      "Date:                Thu, 05 Sep 2024   Prob (F-statistic):           3.41e-35\n",
      "Time:                        16:28:39   Log-Likelihood:                -37060.\n",
      "No. Observations:                4642   AIC:                         7.412e+04\n",
      "Df Residuals:                    4640   BIC:                         7.414e+04\n",
      "Df Model:                           1                                         \n",
      "Covariance Type:            nonrobust                                         \n",
      "==============================================================================\n",
      "                 coef    std err          t      P>|t|      [0.025      0.975]\n",
      "------------------------------------------------------------------------------\n",
      "Intercept   3350.9689     12.014    278.924      0.000    3327.416    3374.522\n",
      "Treated     -213.3092     17.089    -12.482      0.000    -246.812    -179.807\n",
      "==============================================================================\n",
      "Omnibus:                     1802.084   Durbin-Watson:                   2.029\n",
      "Prob(Omnibus):                  0.000   Jarque-Bera (JB):            22353.766\n",
      "Skew:                          -1.499   Prob(JB):                         0.00\n",
      "Kurtosis:                      13.324   Cond. No.                         2.60\n",
      "==============================================================================\n",
      "\n",
      "Notes:\n",
      "[1] Standard Errors assume that the covariance matrix of the errors is correctly specified.\n"
     ]
    }
   ],
   "source": [
    "#Propensity Score Weighting - ATT\n",
    "psw_att = smf.wls(\"Y ~ Treated\", weights=df['W_ATT'], data=df).fit()\n",
    "print(psw_att.summary())"
   ]
  },
  {
   "cell_type": "markdown",
   "metadata": {},
   "source": [
    "Repare que podemos obter os mesmos resultados utilizando o pacote pyDRReg."
   ]
  },
  {
   "cell_type": "code",
   "execution_count": 17,
   "metadata": {},
   "outputs": [
    {
     "name": "stdout",
     "output_type": "stream",
     "text": [
      "         Metric       Value\n",
      "0     Estimator         IPW\n",
      "1        Method         ATT\n",
      "2      Estimate -213.309168\n",
      "3  bootstrap_SE   22.839909\n",
      "4        t-stat   -9.339318\n",
      "5       p-value         0.0\n",
      "6      CI Lower -258.075389\n",
      "7      CI Upper -168.542946\n"
     ]
    }
   ],
   "source": [
    "from pyDRReg.pyDRReg import pyDRReg\n",
    "\n",
    "T_var = 'Treated'\n",
    "Y_var = 'Y'\n",
    "X_vars = ['casada', 'mage', 'medu']\n",
    "\n",
    "IPW_att = pyDRReg(df, X_vars, T_var, Y_var, method='att', estimator='IPW', n_bootstrap=50, seed=44)\n",
    "\n",
    "print(IPW_att.summary())"
   ]
  },
  {
   "cell_type": "code",
   "execution_count": 15,
   "metadata": {},
   "outputs": [
    {
     "name": "stdout",
     "output_type": "stream",
     "text": [
      "         Metric       Value\n",
      "0     Estimator         IPW\n",
      "1        Method         ATE\n",
      "2      Estimate -234.437125\n",
      "3  bootstrap_SE   23.479172\n",
      "4        t-stat   -9.984897\n",
      "5       p-value         0.0\n",
      "6      CI Lower -280.456303\n",
      "7      CI Upper -188.417947\n"
     ]
    }
   ],
   "source": [
    "from pyDRReg.pyDRReg import pyDRReg\n",
    "\n",
    "T_var = 'Treated'\n",
    "Y_var = 'Y'\n",
    "X_vars = ['casada', 'mage', 'medu']\n",
    "\n",
    "IPW_ate = pyDRReg(df, X_vars, T_var, Y_var, method='ate', estimator='IPW', n_bootstrap=50, seed=44)\n",
    "\n",
    "print(IPW_ate.summary())"
   ]
  },
  {
   "cell_type": "markdown",
   "metadata": {},
   "source": [
    "**Estimativa Duplamente Robusta**\n",
    "\n",
    "Agora temos todos os componentes para estimar o DR para ATE e o ATT, vamos fazer \"na mão\"."
   ]
  },
  {
   "cell_type": "code",
   "execution_count": 17,
   "metadata": {},
   "outputs": [
    {
     "name": "stdout",
     "output_type": "stream",
     "text": [
      "-229.19546059542853\n"
     ]
    }
   ],
   "source": [
    "# DR-ATE\n",
    "DR_ATE = mu1 - mu0 + df[\"Treated\"] / df[\"ps\"] * (df[\"Y\"] - mu1) - (1-df[\"Treated\"]) / (1-df[\"ps\"]) * (df[\"Y\"] - mu0)\n",
    "print(np.mean(DR_ATE))"
   ]
  },
  {
   "cell_type": "code",
   "execution_count": 18,
   "metadata": {},
   "outputs": [
    {
     "name": "stdout",
     "output_type": "stream",
     "text": [
      "-218.94795582708\n"
     ]
    }
   ],
   "source": [
    "# DR-ATT\n",
    "DR_ATT = mu1 - mu0 + df[\"Treated\"] * (df[\"Y\"] - mu1) - (1-df[\"Treated\"])*df[\"ps\"] / (1-df[\"ps\"]) * (df[\"Y\"] - mu0)\n",
    "print(np.mean(DR_ATT))"
   ]
  },
  {
   "cell_type": "markdown",
   "metadata": {},
   "source": [
    "Podemos utilizar o pacote pyDRReg para obter os mesmos resultados."
   ]
  },
  {
   "cell_type": "code",
   "execution_count": 22,
   "metadata": {},
   "outputs": [
    {
     "name": "stdout",
     "output_type": "stream",
     "text": [
      "         Metric       Value\n",
      "0     Estimator          DR\n",
      "1        Method         ATE\n",
      "2      Estimate -229.195464\n",
      "3  bootstrap_SE   23.584023\n",
      "4        t-stat   -9.718251\n",
      "5       p-value         0.0\n",
      "6      CI Lower  -275.42015\n",
      "7      CI Upper -182.970779\n"
     ]
    }
   ],
   "source": [
    "from pyDRReg.pyDRReg import pyDRReg\n",
    "\n",
    "T_var = 'Treated'\n",
    "Y_var = 'Y'\n",
    "X_vars = ['casada', 'mage', 'medu']\n",
    "\n",
    "DR_ate = pyDRReg(df, X_vars, T_var, Y_var, method='ate', estimator='DR', n_bootstrap=50, seed=44)\n",
    "\n",
    "print(DR_ate.summary())"
   ]
  },
  {
   "cell_type": "code",
   "execution_count": 23,
   "metadata": {},
   "outputs": [
    {
     "name": "stdout",
     "output_type": "stream",
     "text": [
      "         Metric       Value\n",
      "0     Estimator          DR\n",
      "1        Method         ATT\n",
      "2      Estimate -218.947956\n",
      "3  bootstrap_SE   22.000454\n",
      "4        t-stat   -9.951974\n",
      "5       p-value         0.0\n",
      "6      CI Lower -262.068846\n",
      "7      CI Upper -175.827066\n"
     ]
    }
   ],
   "source": [
    "from pyDRReg.pyDRReg import pyDRReg\n",
    "\n",
    "T_var = 'Treated'\n",
    "Y_var = 'Y'\n",
    "X_vars = ['casada', 'mage', 'medu']\n",
    "\n",
    "DR_att = pyDRReg(df, X_vars, T_var, Y_var, method='att', estimator='DR', n_bootstrap=50, seed=44)\n",
    "\n",
    "print(DR_att.summary())"
   ]
  },
  {
   "cell_type": "markdown",
   "metadata": {},
   "source": [
    "Esse tipo de estimador é bastante importante na literatura. E já possui alguns estimadores que realizam as estimações de forma direta. Por exemplo, poderíamos computar diretamente com 'LinearDRLearner' da biblioteca 'EconML' da Microsoft (EconML - Estimate causal effects with ML).\n",
    "\n",
    "obs: https://www.microsoft.com/en-us/research/project/econml/\n"
   ]
  },
  {
   "cell_type": "code",
   "execution_count": 34,
   "metadata": {},
   "outputs": [],
   "source": [
    "from sklearn.linear_model import LogisticRegression, LinearRegression\n",
    "from econml.dr import LinearDRLearner"
   ]
  },
  {
   "cell_type": "code",
   "execution_count": 35,
   "metadata": {},
   "outputs": [],
   "source": [
    "X = df[['casada', 'mage', 'medu']]"
   ]
  },
  {
   "cell_type": "code",
   "execution_count": 36,
   "metadata": {},
   "outputs": [],
   "source": [
    "model = LinearDRLearner(model_propensity=LogisticRegression(), \n",
    "                        model_regression=LinearRegression(),\n",
    "                        random_state=1)\n",
    "model.fit(Y=df[\"Y\"], T=df[\"Treated\"], X=X);"
   ]
  },
  {
   "cell_type": "code",
   "execution_count": 37,
   "metadata": {},
   "outputs": [
    {
     "data": {
      "text/html": [
       "<table class=\"simpletable\">\n",
       "<caption>Uncertainty of Mean Point Estimate</caption>\n",
       "<tr>\n",
       "  <th>mean_point</th> <th>stderr_mean</th>  <th>zstat</th> <th>pvalue</th> <th>ci_mean_lower</th> <th>ci_mean_upper</th>\n",
       "</tr>\n",
       "<tr>\n",
       "   <td>-228.118</td>    <td>23.167</td>    <td>-9.847</td>   <td>0.0</td>    <td>-273.524</td>      <td>-182.712</td>   \n",
       "</tr>\n",
       "</table>"
      ],
      "text/plain": [
       "<class 'statsmodels.iolib.table.SimpleTable'>"
      ]
     },
     "execution_count": 37,
     "metadata": {},
     "output_type": "execute_result"
    }
   ],
   "source": [
    "model.ate_inference(X=X.values, T0=0, T1=1).summary().tables[0]"
   ]
  },
  {
   "cell_type": "markdown",
   "metadata": {},
   "source": [
    "O modelo nos dá diretamente o efeito médio do tratamento. A estimativa é estatisticamente diferente de zero e o intervalo de confiança inclui o valor verdadeiro de -229,17. Observe que obtivemos uma estimativa diferente porque a função **LinearDRLearner** também realizou o cross-fitting em segundo plano, o que não fizemos antes. Ele não calcula o ATT.\n",
    "\n",
    "Outro pacote importante é o \"causalml\" (https://causalml.readthedocs.io/en/latest/about.html).\n",
    "\n"
   ]
  },
  {
   "cell_type": "markdown",
   "metadata": {},
   "source": [
    "## Boas práticas\n",
    "\n",
    "* Verifique o balanço das covariáveis.\n",
    "  * Tanto o IPW quanto o DR (AIPW) foram desenvolvidos para ambientes nos quais o tratamento não é atribuído aleatoriamente incondicionalmente, mas pode depender de algumas variáveis observáveis. Essas informações podem ser verificadas de duas maneiras: \n",
    "    * (1) Produza uma tabela de médias/equilíbrio das covariáveis. Se a randomização incondicional não for válida, esperamos ver diferenças significativas entre alguns observáveis; \n",
    "    * (2) Trace os escores de propensão estimados. Se a randomização incondicional for válida, esperamos que os escores de propensão sejam constantes.\n",
    "* Verifique a suposição de sobreposição.\n",
    "  * Podemos simplesmente verificar os limites dos escores de propensão previstos. Se a suposição de sobreposição for violada, acabamos dividindo algum termo do estimador por zero.\n"
   ]
  }
 ],
 "metadata": {
  "kernelspec": {
   "display_name": "Python 3",
   "language": "python",
   "name": "python3"
  },
  "language_info": {
   "codemirror_mode": {
    "name": "ipython",
    "version": 3
   },
   "file_extension": ".py",
   "mimetype": "text/x-python",
   "name": "python",
   "nbconvert_exporter": "python",
   "pygments_lexer": "ipython3",
   "version": "3.11.5"
  },
  "orig_nbformat": 4
 },
 "nbformat": 4,
 "nbformat_minor": 2
}
