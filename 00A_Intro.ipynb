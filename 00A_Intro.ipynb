{
 "cells": [
  {
   "cell_type": "markdown",
   "metadata": {},
   "source": [
    "# Apresentação do Curso\n",
    "\n",
    "Prof. Daniel de Abreu Pereira Uhr\n",
    "\n",
    "\n",
    "***Conteúdo***\n",
    "\n",
    "\n",
    "* Sobre o Professor da Disciplina\n",
    "* Sobre os Alunos da Disciplina\n",
    "* Motivação para o Curso\n",
    "* Infraestrutura de Programação\n",
    "* Avaliação do Curso\n",
    "\n",
    "\n",
    "***Referências***\n",
    "\n"
   ]
  },
  {
   "cell_type": "markdown",
   "metadata": {},
   "source": [
    "### Sobre o Professor da Disciplina"
   ]
  },
  {
   "cell_type": "markdown",
   "metadata": {},
   "source": [
    "<div style=\"text-align:center;\">\n",
    "    <img src=\"images/banda.png\"  alt=\"Imagem\" style=\"width: 500px;\"/>\n",
    "</div>"
   ]
  },
  {
   "cell_type": "markdown",
   "metadata": {},
   "source": [
    "**Daniel de Abreu Pereira Uhr**\n",
    "\n",
    "Currículo Lattes disponível aqui: http://lattes.cnpq.br/4304478309284161\n",
    "\n",
    "**Formação:** \n",
    "* Graduação em economia (UFRGS), \n",
    "* Mestrado e Doutorado em Economia (UnB). \n",
    "* Pós-doutorado em Economia (FEA/USP). \n",
    "* Professor visitante na *Alberta School of Business at the University of Alberta* (Canadá).\n",
    "* Professor visitante no *Programa de Pós-Graduação em Engenharia de Produção* da UFRGS (PPGEP/UFRGS, Capes 7).\n",
    "* Pós-Doutorado (em andamento) na Universidade Federal de Santa Catarina (UFSC).\n",
    "\n",
    "**Atuação:** \n",
    "* Professor Associado III (UFPel),\n",
    "* Bolsista de Produtividade em Pesquisa - PQ-C/CNPq,\n",
    "* Professor Permanente PPGOM/UFPel, \n",
    "* Coordenador do PPGOM (2022-24) / Coordenador Adjunto (2020-22);\n",
    "* Líder do grupo de pesquisa \"Inteligência Artificial e Desenvolvimento Econômico Aplicado\" (IDEA/CNPq).\n",
    "* Linhas de pesquisa: Energy Economics, Economia do Meio Ambiente, Análise Econômica do Direito, e Economia do Trabalho.\n"
   ]
  },
  {
   "cell_type": "markdown",
   "metadata": {},
   "source": [
    "### Sobre os Alunos da Disciplina\n",
    "\n",
    "\n",
    "Agora é a minha vez de saber sobre os alunos. Até esse momento, eu tenho os seguintes alunos cadastrados no sistema:\n",
    "\n",
    "* **CNM6033-09304 (20252) - Tópicos Especiais em Econometria** - Graduação [14] \n",
    "  * Luigi de Souza Pucu \n",
    "  * Daniel Bork \n",
    "  * Gabriel Fernando Lemos Guerra \n",
    "  * Joao Marcelo Barreto Raposo \n",
    "  * Sergio Campos Borges Filho \n",
    "  * Lucas Antônio Gritti Martins dos Santos \n",
    "  * Pedro Chies Alonso \n",
    "  * Gabriela de Ávila Nunes \n",
    "  * Ágata Nayama Flores \n",
    "  * Natalie Anne Peart \n",
    "  * Matheus Ribeiro Nunes de Oliveira\n",
    "  * Ian Victor da Silva Affonso \n",
    "  * Leticia Schiavo Beckedorff \n",
    "  * Carlotta Perri Ganzo Fernandez \n",
    "  \n",
    "* **CNM410012-41001032DO/ME (20252) - Microeconometria** - Pós-Graduação [5]\n",
    "  * Evandro Figueiredo Lima\n",
    "  * Filipe Anselmo Gomes \n",
    "  * Rafael Pinto Renosto \n",
    "  * João Luiz Toogood Pitta\n",
    "  * Andriano Nazaré Cordeiro \n",
    "\n",
    "\n",
    "***Minhas Perguntas para Vocês***\n",
    "\n",
    "* O que vocês lembram de Estatística Básica?\n",
    "  * Estatística serve pra quê?\n",
    "* O que vocês lembram de Introdução à Econometria?\n",
    "  * Quais as hipóteses do MQO?\n",
    "  * MQO serve pra quê?\n",
    "* Vocês utilizam algum *software* estatístico?\n",
    "* Vocês já fizeram algum curso complementar de Ciências de Dados?\n",
    "* O que vocês esperam para esse curso?"
   ]
  },
  {
   "cell_type": "markdown",
   "metadata": {},
   "source": [
    "## Motivação\n",
    "\n",
    "Veremos os principais métodos de microeconometria (Métodos mais modernos de inferência causal e/ou Avaliação de Políticas Públicas). \n",
    "\n",
    "**Estrutura básica do curso:**\n",
    "\n",
    "* Entender o Problema Fundamental da Inferência Causal; e a Representação das Relações de Causalidade\n",
    "* Potential Outcomes Framework (Rubin Causal Model) e o Método Experimental\n",
    "* Método de variáveis instrumentais (2SLS) e o LATE\n",
    "* Estimadores baseados em Imputação e o Outcome Regression (OR)\n",
    "* *Matching*, e o *Propensity Score Matching* (PSM).\n",
    "* *Propensity Score Weighting* (PSW) e o *Doubly Robust Regression* (DR).\n",
    "* *Regression Discontinuity Design* (RDD)\n",
    "* *Difference in Differences* (DiD ou DD)\n",
    "  * DD com covariáveis\n",
    "  * DD com efeitos do tratamento heterogêneo\n",
    "  * DD com efeito do tratamento contínuo\n",
    "* Desenvolvimento do *Event Study Disign* DD\n",
    "* *Synthetic Control Method* (SCM)\n",
    "* *Synthetic Difference in Differences* (SDD)\n",
    "* Ortogonalização e *Double Machine Learning* e o CATE\n",
    "* Modelos causais com *Machine Learning* de fronteira.\n",
    "\n",
    "\n",
    "**Livros e artigos**\n",
    "* Em cada aula será indicado os artigos e livros necessários para acompanhar as notas de aula. \n",
    "  * Recomendo a leitura dos capítulos dos livros e dos artigos antes da aula para que o aluno possa acompanhar e fixar o conhecimento.\n",
    "\n",
    "\n",
    "***mas professor, isso serve pra quê?***\n",
    "\n",
    "\n",
    "\n",
    "\n",
    "\n",
    "\n"
   ]
  },
  {
   "cell_type": "markdown",
   "metadata": {},
   "source": [
    "\n",
    "Entrentanto, nessa primeira semana precisamos começar pelo fundamento inicial:\n",
    "* O que é método científico"
   ]
  }
 ],
 "metadata": {
  "kernelspec": {
   "display_name": "Python 3",
   "language": "python",
   "name": "python3"
  },
  "language_info": {
   "codemirror_mode": {
    "name": "ipython",
    "version": 3
   },
   "file_extension": ".py",
   "mimetype": "text/x-python",
   "name": "python",
   "nbconvert_exporter": "python",
   "pygments_lexer": "ipython3",
   "version": "3.11.5"
  }
 },
 "nbformat": 4,
 "nbformat_minor": 2
}
