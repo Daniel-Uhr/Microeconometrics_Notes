{
 "cells": [
  {
   "cell_type": "markdown",
   "id": "664f1dd9",
   "metadata": {},
   "source": [
    "# Inverse Probability Weighting and Doubly Robust Estimation\n",
    "\n",
    "Prof. Daniel de Abreu Pereira Uhr\n",
    "\n",
    "### Conteúdo\n",
    "\n",
    "* Inverse Probability Weighting (IPW)\n",
    "  * Aplicação no Python\n",
    "* Doubly Robust Estimation\n",
    "  * Aplicação no Python\n",
    "\n",
    "\n",
    "\n",
    "\n",
    "**Observações:** O material apresentado aqui é uma adaptação do material de aula do Prof. Daniel de Abreu Pereira Uhr, e não deve ser utilizado para fins comerciais. O material é disponibilizado para fins educacionais e de pesquisa, e não deve ser reproduzido sem a devida autorização do autor. Este material pode conter erros e imprecisões. O autor não se responsabiliza por quaisquer danos ou prejuízos decorrentes do uso deste material. O uso deste material é de responsabilidade exclusiva do usuário. Caso você encontre erros ou imprecisões neste material, por favor, entre em contato com o autor para que possam ser corrigidos. O autor agradece qualquer *feedback* ou sugestão de melhoria.\n",
    "\n",
    "---"
   ]
  },
  {
   "cell_type": "markdown",
   "id": "30c24ef8",
   "metadata": {},
   "source": [
    "### Inverse Probability Weighting\n",
    "\n",
    "O *Inverse Probability Weighting* (IPW) é uma técnica de ponderação da amostra por probabilidades inversas. A ideia central é reponderar cada unidade amostral de acordo com o inverso da probabilidade de estar no grupo em que ela efetivamente foi observada.\n",
    "\n",
    "Esse procedimento cria uma população ponderada (ou pseudo-população) na qual a atribuição do tratamento é independente das covariáveis observadas $X$. Em outras palavras, após a reponderação, os grupos tratados e não tratados tornam-se comparáveis, como se tivessem sido alocados aleatoriamente.\n",
    "\n",
    "Na literatura também é comum encontrarmos o termo ***Inverse Probability of Treatment Weighting - IPTW***. É a mesma coisa que IPW, mas o nome enfatiza que a probabilidade usada é a de receber o tratamento (*treatment*).\n",
    "\n",
    "Em termos práticos, esse método apresenta uma vantagem clara sobre o PSM:\n",
    "* Lembre que o PSM descarta unidades ao realizar o pareamento, já o IPW aproveita todas as unidades ao reponderá-las.\n",
    "* Ou seja, enquanto o PSM constrói comparabilidade excluindo observações (matching), o IPW constrói comparabilidade reponderando toda a amostra.\n",
    "\n",
    "Entretanto, pode apresentar um ponto negativo:\n",
    "* Se a probabilidade de ser tratado $P(D=1|X)$ for muito próximo de 0 ou 1, os pesos explodem, gerando instabilidade, e a necessidade de \"trimming\" ou uso de métodos mais robustos.\n",
    "  * O trimming consiste em descartar observações com probabilidades muito próximas de 0 ou 1, para evitar que algumas unidades dominem a estimativa.\n",
    "  * O trimming é uma forma de garantir a hipótese de positividade ou overlap: todos devem ter uma chance positiva de serem tratados ou não tratados.\n",
    "\n",
    "**Observação:** o ***Propensity Score Weighting - PSW*** é um caso particular de IPW, quando os pesos são construídos a partir do escore de propensão (*propensity score*). Como o ***escore de propensão*** é justamente a probabilidade de tratamento condicional às covariáveis, então o PSW é um subtipo de IPTW/IPW.\n",
    "\n",
    "***Definições***\n",
    "\n",
    "O **Propensity Score** é definido como a probabilidade condicional de uma unidade receber o tratamento dado o vetor de covariáveis observadas:\n",
    "\n",
    "$$\n",
    "p(X_i) = \\Pr(D_i = 1 \\mid X_i)\n",
    "$$\n",
    "\n",
    "onde:  \n",
    "- $D_i \\in \\{0, 1\\}$ é o indicador de tratamento;  \n",
    "- $X_i$ é o vetor de covariáveis observadas.  \n",
    "\n",
    "No IPW, cada unidade é reponderada de acordo com um peso ($w_{i}$):\n",
    "\n",
    "$$\n",
    "w_i =\n",
    "\\begin{cases}\n",
    "\\frac{1}{p(X_i)}, & \\text{se } D_i = 1 \\\\\n",
    "\\frac{1}{1 - p(X_i)}, & \\text{se } D_i = 0\n",
    "\\end{cases}\n",
    "$$\n",
    "\n",
    "Como dissemos, nosso objetivo é criar uma população *pseudo-randomizada*, em que a distribuição das covariáveis seja balanceada entre tratados e não tratados. Diferentemente do *Propensity Score Matching (PSM)*, que emparelha unidades tratadas e não tratadas com base no escore de propensão, o IPW utiliza ***todos os dados disponíveis***, atribuindo pesos às unidades com base em sua probabilidade condicional de tratamento $p(X_i)$.\n",
    "\n",
    "Repare que:\n",
    "\n",
    "* Se a unidade é tratada ($D_i=1$):\n",
    "  * O peso é $1/p(X_i)$.\n",
    "  * Se $p(X_i)$ for alto (ex.: 0.9), então $1/p(X_i) \\approx 1.11$ → peso pequeno.\n",
    "  * Se $p(X_i)$ for baixo (ex.: 0.1), então $1/p(X_i) = 10$ → peso grande.\n",
    "  * Ou seja: tratados improváveis de serem tratados recebem mais peso.\n",
    "\n",
    "* Se a unidade é não tratada ($D_i=0$):\n",
    "  * O peso é $1/(1 - p(X_i))$.\n",
    "  * Se $p(X_i)$ for alto (ex.: 0.9), então $1/(1 - p(X_i)) = 10$ → peso grande.\n",
    "  * Se $p(X_i)$ for baixo (ex.: 0.1), então $1/(1 - p(X_i)) \\approx 1.11$ → peso pequeno.\n",
    "  * Ou seja: não tratados improváveis de serem não tratados recebem mais peso.\n",
    "\n",
    "O IPW “corrige” a amostra para que grupos que estavam sub-representados fiquem mais visíveis na pseudo-população.\n",
    "* Um indivíduo que estava em um grupo quase certo (um tratado com $p(X)\\approx 1$ ou um controle com $p(X)\\approx 0$) ganha peso baixo, porque ele já era muito esperado estar lá.\n",
    "* Já um indivíduo que parecia estar “no grupo errado” (um tratado com $p(X)$ baixo ou um controle com $p(X)$ alto) ganha peso alto, porque ele ajuda a corrigir o desbalanceamento da amostra.\n",
    "\n",
    "Esse mecanismo faz com que, após a ponderação:\n",
    "* A distribuição de $X$ entre tratados e controles fique semelhante.\n",
    "* A amostra ponderada represente uma situação como se o tratamento tivesse sido atribuído aleatoriamente."
   ]
  },
  {
   "cell_type": "markdown",
   "id": "c06049ab",
   "metadata": {},
   "source": [
    "**Resumindo o problema**\n",
    "\n",
    "Vamos relembrar o problema de identificação numa representação DAG."
   ]
  },
  {
   "cell_type": "code",
   "execution_count": 71,
   "id": "225b2131",
   "metadata": {},
   "outputs": [
    {
     "data": {
      "image/svg+xml": [
       "<?xml version=\"1.0\" encoding=\"UTF-8\" standalone=\"no\"?>\n",
       "<!DOCTYPE svg PUBLIC \"-//W3C//DTD SVG 1.1//EN\"\n",
       " \"http://www.w3.org/Graphics/SVG/1.1/DTD/svg11.dtd\">\n",
       "<!-- Generated by graphviz version 11.0.0 (20240428.1522)\n",
       " -->\n",
       "<!-- Pages: 1 -->\n",
       "<svg width=\"92pt\" height=\"260pt\"\n",
       " viewBox=\"0.00 0.00 92.11 260.00\" xmlns=\"http://www.w3.org/2000/svg\" xmlns:xlink=\"http://www.w3.org/1999/xlink\">\n",
       "<g id=\"graph0\" class=\"graph\" transform=\"scale(1 1) rotate(0) translate(4 256)\">\n",
       "<polygon fill=\"white\" stroke=\"none\" points=\"-4,4 -4,-256 88.11,-256 88.11,4 -4,4\"/>\n",
       "<!-- D -->\n",
       "<g id=\"node1\" class=\"node\">\n",
       "<title>D</title>\n",
       "<ellipse fill=\"none\" stroke=\"black\" cx=\"55\" cy=\"-90\" rx=\"27\" ry=\"18\"/>\n",
       "<text text-anchor=\"middle\" x=\"55\" y=\"-84.58\" font-family=\"Times New Roman,serif\" font-size=\"14.00\">D</text>\n",
       "</g>\n",
       "<!-- Y -->\n",
       "<g id=\"node2\" class=\"node\">\n",
       "<title>Y</title>\n",
       "<ellipse fill=\"none\" stroke=\"black\" cx=\"27\" cy=\"-18\" rx=\"27\" ry=\"18\"/>\n",
       "<text text-anchor=\"middle\" x=\"27\" y=\"-12.57\" font-family=\"Times New Roman,serif\" font-size=\"14.00\">Y</text>\n",
       "</g>\n",
       "<!-- D&#45;&gt;Y -->\n",
       "<g id=\"edge1\" class=\"edge\">\n",
       "<title>D&#45;&gt;Y</title>\n",
       "<path fill=\"none\" stroke=\"black\" d=\"M48.36,-72.41C45.23,-64.57 41.4,-54.99 37.85,-46.13\"/>\n",
       "<polygon fill=\"black\" stroke=\"black\" points=\"41.11,-44.86 34.15,-36.88 34.61,-47.46 41.11,-44.86\"/>\n",
       "</g>\n",
       "<!-- p(X) -->\n",
       "<g id=\"node3\" class=\"node\">\n",
       "<title>p(X)</title>\n",
       "<ellipse fill=\"none\" stroke=\"black\" cx=\"56\" cy=\"-162\" rx=\"28.11\" ry=\"18\"/>\n",
       "<text text-anchor=\"middle\" x=\"56\" y=\"-156.57\" font-family=\"Times New Roman,serif\" font-size=\"14.00\">p(X)</text>\n",
       "</g>\n",
       "<!-- p(X)&#45;&gt;D -->\n",
       "<g id=\"edge2\" class=\"edge\">\n",
       "<title>p(X)&#45;&gt;D</title>\n",
       "<path fill=\"none\" stroke=\"black\" d=\"M55.75,-143.7C55.65,-136.41 55.52,-127.73 55.41,-119.54\"/>\n",
       "<polygon fill=\"black\" stroke=\"black\" points=\"58.91,-119.57 55.27,-109.62 51.91,-119.67 58.91,-119.57\"/>\n",
       "</g>\n",
       "<!-- X -->\n",
       "<g id=\"node4\" class=\"node\">\n",
       "<title>X</title>\n",
       "<ellipse fill=\"none\" stroke=\"black\" cx=\"28\" cy=\"-234\" rx=\"27\" ry=\"18\"/>\n",
       "<text text-anchor=\"middle\" x=\"28\" y=\"-228.57\" font-family=\"Times New Roman,serif\" font-size=\"14.00\">X</text>\n",
       "</g>\n",
       "<!-- X&#45;&gt;Y -->\n",
       "<g id=\"edge3\" class=\"edge\">\n",
       "<title>X&#45;&gt;Y</title>\n",
       "<path fill=\"none\" stroke=\"black\" d=\"M24.35,-215.91C22.32,-205.57 20.02,-192.09 19,-180 14.97,-132.17 15.41,-119.87 19,-72 19.6,-63.99 20.71,-55.35 21.91,-47.43\"/>\n",
       "<polygon fill=\"black\" stroke=\"black\" points=\"25.35,-48.04 23.51,-37.61 18.45,-46.91 25.35,-48.04\"/>\n",
       "</g>\n",
       "<!-- X&#45;&gt;p(X) -->\n",
       "<g id=\"edge4\" class=\"edge\">\n",
       "<title>X&#45;&gt;p(X)</title>\n",
       "<path fill=\"none\" stroke=\"black\" d=\"M34.64,-216.41C37.73,-208.68 41.49,-199.27 44.99,-190.52\"/>\n",
       "<polygon fill=\"black\" stroke=\"black\" points=\"48.19,-191.95 48.66,-181.36 41.69,-189.35 48.19,-191.95\"/>\n",
       "</g>\n",
       "</g>\n",
       "</svg>\n"
      ],
      "text/plain": [
       "<graphviz.graphs.Digraph at 0x1e17f3dbd10>"
      ]
     },
     "execution_count": 71,
     "metadata": {},
     "output_type": "execute_result"
    }
   ],
   "source": [
    "# Importando o pacote\n",
    "import graphviz as gr\n",
    "\n",
    "# Gráfico indicando as variáveis e suas relações\n",
    "g = gr.Digraph()\n",
    "g.edge(\"D\", \"Y\")\n",
    "g.edge(\"p(X)\", \"D\")\n",
    "g.edge(\"X\", \"Y\")\n",
    "g.edge(\"X\", \"p(X)\")\n",
    "g"
   ]
  },
  {
   "cell_type": "markdown",
   "id": "4c03b76d",
   "metadata": {},
   "source": [
    "Em dados observacionais, o tratamento não é aleatório. Por exemplo: indivíduos com alto nível de escolaridade podem ter alta probabilidade de adotar um tratamento (vacina, tecnologia etc.). Se compararmos diretamente tratados vs. não tratados, podemos confundir efeito do tratamento com efeito de características $X$ (viés de seleção).\n",
    "\n",
    "O IPW cria uma pseudo-população em que a probabilidade de tratamento é a mesma para todas as unidades (como se fosse sorteio). Para isso, ele reequilibra os grupos dando mais peso às observações improváveis:\n",
    "* Tratados improváveis (baixa chance de ter sido tratados) são valiosos, porque são raros exemplos de tratados em regiões onde normalmente só há controles.\n",
    "* Controles improváveis (baixa chance de ter sido controles) são valiosos, porque são raros exemplos de controles em regiões onde normalmente só há tratados.\n",
    "\n",
    "\n",
    "Essas observações “improváveis” são justamente as que ajudam a garantir sobreposição:\n",
    "\n",
    "* Imagine que em certo nível de $X$ quase todos são tratados.\n",
    "  * Se aparece um controle improvável ali, ele ajuda a mostrar “como seria o resultado sem tratamento” nesse mesmo nível de $X$.\n",
    "* Imagine que em outro nível de $X$ quase todos são controles.\n",
    "  * Se aparece um tratado improvável ali, ele ajuda a mostrar “como seria o resultado com tratamento” nesse mesmo nível de $X$.\n",
    "\n",
    "Relembre, graficamente:\n",
    "\n",
    "<div style=\"text-align:center;\">\n",
    "    <img src=\"images\\suportecomum.png\"  alt=\"Imagem\" style=\"width: 500px;\"/>\n",
    "</div>"
   ]
  },
  {
   "cell_type": "markdown",
   "id": "ee7d584d",
   "metadata": {},
   "source": [
    "### Hipóteses de Identificação\n",
    "\n",
    "Em termos de hipóteses para identificação do tratamento, seguimos com as 3 hipóteses anteriores dos modelos de matching.\n",
    "\n",
    "\n",
    "1. **Independência condicional** (*unconfoundedness*, *ignorability*, ou *selection on observables*): \n",
    "\n",
    "$$ (Y^{1}, Y^{0}) \\perp D | P(D=1|X) $$\n",
    "\n",
    "ou \n",
    "\n",
    "$$ (Y^{1}, Y^{0}) \\perp D | p(X) $$\n",
    "\n",
    "\n",
    "2. **Suporte Comum** (sobreposição, *common support*):\t\n",
    "$$ 0  < Pr(D=1|X)  <  1 $$\n",
    "\n",
    "ou \n",
    "\n",
    "$$ 0  < p(X)  <  1 $$\n",
    "\n",
    "3. **Valor de Tratamento Unitário Estável (SUTVA - Stable Unit Treatment Value Assumption):**\n",
    "\n",
    "$$ Y_i(\\mathbf{D}) = Y_i(D_i) $$\n",
    "\n",
    "* **Não interferência entre unidades:** o resultado de uma unidade $i$ depende apenas de seu próprio tratamento, não do tratamento das demais.  \n",
    "* **Tratamento único e bem definido:** não existem diferentes versões do mesmo tratamento que possam levar a resultados distintos.\n"
   ]
  },
  {
   "cell_type": "markdown",
   "id": "7093e748",
   "metadata": {},
   "source": [
    "### Calculando o ATE, ATT e ATU com IPW\n",
    "\n",
    "\n",
    "Agora vamos definir os pesos para os diferentes efeitos de tratamento que queremos estimar.\n",
    "\n",
    "* ATE (Average Treatment Effect)\n",
    "* ATT (Average Treatment Effect on the Treated)\n",
    "* ATU (Average Treatment Effect on the Untreated)\n",
    "\n",
    "**IPW Não-Normalizado (Puro)** \n",
    "\n",
    "Também conhecida como **Horvitz–Thompson - HT** (não normalizadas): pode ter variância maior, mas é o estimador “puro”. O peso **IPTW para o ATE** é definido como:\n",
    "\n",
    "$$\n",
    "w_i^{ATE} = \\frac{D_i}{p(X_i)} + \\frac{1 - D_i}{1 - p(X_i)}\n",
    "$$\n",
    "\n",
    "- Tratados ($D_i = 1$) recebem peso $1 / p(X_i)$  \n",
    "- Não-Tratados ($D_i = 0$) recebem peso $1 / (1 - p(X_i))$\n",
    "\n",
    "O peso **IPTW para o ATT** é definido como:\n",
    "\n",
    "$$\n",
    "w_i^{ATT} = D_i + (1 - D_i) \\cdot \\frac{p(X_i)}{1 - p(X_i)}\n",
    "$$\n",
    "\n",
    "- Tratados ($D_i = 1$) recebem peso = 1  \n",
    "- Não-Tratados ($D_i = 0$) recebem peso $p(X_i) / (1 - p(X_i))$\n",
    "\n",
    "\n",
    "O peso **IPTW para o ATU** é definido como:\n",
    "\n",
    "$$\n",
    "w_i^{ATU} = (1 - D_i) + D_i \\cdot \\frac{1 - p(X_i)}{p(X_i)}\n",
    "$$\n",
    "\n",
    "- Tratados ($D_i = 1$) recebem peso $\\frac{1 - p(X_i)}{p(X_i)}$\n",
    "- Não-Tratados ($D_i = 0$) recebem peso = 1\n",
    "\n",
    "\n",
    "***Interpretação dos pesos***\n",
    "\n",
    "- **No ATE**: cria pseudo-população onde todos têm chance de ser tratados ou não tratados → comparação simétrica.\n",
    "  - Unidades tratadas com baixa probabilidade de tratamento recebem peso alto.  \n",
    "  - Unidades não tratadas com baixa probabilidade de não tratamento recebem peso alto.  \n",
    "\n",
    "- **No ATT**: foca nos tratados, reponderando os controles para “parecerem tratados”.\n",
    "  - Tratados sempre têm peso 1.  \n",
    "  - Não tratadas são reponderados para se assemelhar à distribuição de covariáveis dos tratados.\n",
    "\n",
    "- **No ATU**: ATU: foca nos não tratados, reponderando os tratados para “parecerem não tratados”.\n",
    "  - Tratados são reponderados para se assemelhar à distribuição de covariáveis dos não tratados.\n",
    "  - Não-tratados sempre têm peso 1.\n"
   ]
  },
  {
   "cell_type": "markdown",
   "id": "a6df370b",
   "metadata": {},
   "source": [
    "### Aplicação em Python\n",
    "\n",
    "Vamos aplicar passo a passo a ponderação por IPW (HT)."
   ]
  },
  {
   "cell_type": "code",
   "execution_count": 1,
   "id": "2bd5e26e",
   "metadata": {},
   "outputs": [],
   "source": [
    "import pandas as pd\n",
    "import numpy as np\n",
    "import statsmodels.formula.api as smf\n",
    "import seaborn as sns"
   ]
  },
  {
   "cell_type": "code",
   "execution_count": 5,
   "id": "07a55087",
   "metadata": {},
   "outputs": [],
   "source": [
    "# DataFrame\n",
    "df = pd.read_stata(\"https://github.com/Daniel-Uhr/data/raw/main/cattaneo2.dta\")"
   ]
  },
  {
   "cell_type": "code",
   "execution_count": 6,
   "id": "e0310073",
   "metadata": {},
   "outputs": [],
   "source": [
    "# Criar a variável de resultado\n",
    "df['Y'] = df['bweight']\n",
    "\n",
    "# Crie a variável 'Treated' com valor inicial de 0\n",
    "df['Treated'] = 0\n",
    "# Recodifique 'Treated' para 1 se 'mbsmoke' for igual a 'smoker'\n",
    "df.loc[df['mbsmoke'] == 'smoker', 'Treated'] = 1\n",
    "\n",
    "df['casada'] = 0\n",
    "df.loc[df['mmarried']=='married', 'casada'] = 1\n",
    "\n",
    "# gerar uma variável de contagem de linhas iniciando em 1\n",
    "df['id'] = np.arange(len(df)) + 1\n",
    "\n",
    "# Conjunto de Covariáveis X\n",
    "X = ['casada', 'mage', 'medu']"
   ]
  },
  {
   "cell_type": "markdown",
   "id": "c565100c",
   "metadata": {},
   "source": [
    "Rodar o escore de propensão com um logit, e salvar no dataframe $p(X)$ (vamos chamar a variável de \"pscore\"):"
   ]
  },
  {
   "cell_type": "code",
   "execution_count": 8,
   "id": "484b0706",
   "metadata": {},
   "outputs": [
    {
     "name": "stdout",
     "output_type": "stream",
     "text": [
      "Optimization terminated successfully.\n",
      "         Current function value: 0.444219\n",
      "         Iterations 6\n"
     ]
    }
   ],
   "source": [
    "# Estimar o escore de propensão com regressão logística\n",
    "df['pscore'] = smf.logit(\"Treated ~ casada + mage + medu + fage + fedu + nprenatal\", data=df).fit().predict()"
   ]
  },
  {
   "cell_type": "code",
   "execution_count": 9,
   "id": "17cd9310",
   "metadata": {},
   "outputs": [
    {
     "data": {
      "application/vnd.microsoft.datawrangler.viewer.v0+json": {
       "columns": [
        {
         "name": "index",
         "rawType": "int64",
         "type": "integer"
        },
        {
         "name": "Y",
         "rawType": "int16",
         "type": "integer"
        },
        {
         "name": "Treated",
         "rawType": "int64",
         "type": "integer"
        },
        {
         "name": "pscore",
         "rawType": "float64",
         "type": "float"
        }
       ],
       "ref": "280c56f8-31ba-433c-89fe-1c25cb860605",
       "rows": [
        [
         "0",
         "3459",
         "0",
         "0.09985815625416984"
        ],
        [
         "1",
         "3260",
         "0",
         "0.45839887013121305"
        ],
        [
         "2",
         "3572",
         "0",
         "0.20635819646475084"
        ],
        [
         "3",
         "2948",
         "0",
         "0.14582468367113116"
        ],
        [
         "4",
         "2410",
         "0",
         "0.11799631621551444"
        ],
        [
         "5",
         "3147",
         "0",
         "0.3122669555373545"
        ],
        [
         "6",
         "3799",
         "0",
         "0.11824648463784998"
        ],
        [
         "7",
         "3629",
         "0",
         "0.14173185726379411"
        ],
        [
         "8",
         "2835",
         "0",
         "0.12406562567747872"
        ],
        [
         "9",
         "3880",
         "0",
         "0.1042700679761988"
        ],
        [
         "10",
         "3090",
         "1",
         "0.12344291864216224"
        ],
        [
         "11",
         "3345",
         "0",
         "0.3029532864279563"
        ],
        [
         "12",
         "4013",
         "0",
         "0.11160087963078634"
        ],
        [
         "13",
         "3771",
         "0",
         "0.23700751893151964"
        ],
        [
         "14",
         "662",
         "0",
         "0.3193342196949695"
        ],
        [
         "15",
         "3657",
         "0",
         "0.1421056085985138"
        ],
        [
         "16",
         "3572",
         "0",
         "0.12920953316562464"
        ],
        [
         "17",
         "3430",
         "0",
         "0.10566567168334953"
        ],
        [
         "18",
         "4479",
         "0",
         "0.17300511052981665"
        ],
        [
         "19",
         "3166",
         "1",
         "0.3432134183263964"
        ],
        [
         "20",
         "4253",
         "0",
         "0.12958023432500412"
        ],
        [
         "21",
         "4054",
         "0",
         "0.10300402642684606"
        ],
        [
         "22",
         "3160",
         "0",
         "0.1329993051924768"
        ],
        [
         "23",
         "2466",
         "0",
         "0.13178128346315213"
        ],
        [
         "24",
         "3147",
         "1",
         "0.15875253268968953"
        ],
        [
         "25",
         "3232",
         "0",
         "0.11197342398207155"
        ],
        [
         "26",
         "3005",
         "0",
         "0.12666857140553298"
        ],
        [
         "27",
         "1899",
         "0",
         "0.0849891891554516"
        ],
        [
         "28",
         "4026",
         "0",
         "0.11083351603088659"
        ],
        [
         "29",
         "3969",
         "0",
         "0.28885916733207234"
        ],
        [
         "30",
         "4167",
         "0",
         "0.3517004548492376"
        ],
        [
         "31",
         "4054",
         "0",
         "0.20098522120648415"
        ],
        [
         "32",
         "3660",
         "0",
         "0.2034407430422272"
        ],
        [
         "33",
         "3997",
         "0",
         "0.06681087224753694"
        ],
        [
         "34",
         "3980",
         "0",
         "0.14948895142755586"
        ],
        [
         "35",
         "4111",
         "0",
         "0.31381947329642806"
        ],
        [
         "36",
         "3090",
         "0",
         "0.12050948408071478"
        ],
        [
         "37",
         "4082",
         "0",
         "0.14557561826902704"
        ],
        [
         "38",
         "4196",
         "0",
         "0.0929945458267444"
        ],
        [
         "39",
         "2790",
         "0",
         "0.07905358685799177"
        ],
        [
         "40",
         "4082",
         "0",
         "0.1179983613634981"
        ],
        [
         "41",
         "3089",
         "0",
         "0.09670934288345108"
        ],
        [
         "42",
         "2580",
         "1",
         "0.4036763923317035"
        ],
        [
         "43",
         "3714",
         "0",
         "0.09833909737143065"
        ],
        [
         "44",
         "4196",
         "0",
         "0.08555239225624811"
        ],
        [
         "45",
         "2523",
         "0",
         "0.3108671956091432"
        ],
        [
         "46",
         "2693",
         "1",
         "0.2766867123374426"
        ],
        [
         "47",
         "3204",
         "0",
         "0.07882028686134562"
        ],
        [
         "48",
         "3572",
         "1",
         "0.2632002853292673"
        ],
        [
         "49",
         "3385",
         "0",
         "0.13821681439076833"
        ]
       ],
       "shape": {
        "columns": 3,
        "rows": 4642
       }
      },
      "text/html": [
       "<div>\n",
       "<style scoped>\n",
       "    .dataframe tbody tr th:only-of-type {\n",
       "        vertical-align: middle;\n",
       "    }\n",
       "\n",
       "    .dataframe tbody tr th {\n",
       "        vertical-align: top;\n",
       "    }\n",
       "\n",
       "    .dataframe thead th {\n",
       "        text-align: right;\n",
       "    }\n",
       "</style>\n",
       "<table border=\"1\" class=\"dataframe\">\n",
       "  <thead>\n",
       "    <tr style=\"text-align: right;\">\n",
       "      <th></th>\n",
       "      <th>Y</th>\n",
       "      <th>Treated</th>\n",
       "      <th>pscore</th>\n",
       "    </tr>\n",
       "  </thead>\n",
       "  <tbody>\n",
       "    <tr>\n",
       "      <th>0</th>\n",
       "      <td>3459</td>\n",
       "      <td>0</td>\n",
       "      <td>0.099858</td>\n",
       "    </tr>\n",
       "    <tr>\n",
       "      <th>1</th>\n",
       "      <td>3260</td>\n",
       "      <td>0</td>\n",
       "      <td>0.458399</td>\n",
       "    </tr>\n",
       "    <tr>\n",
       "      <th>2</th>\n",
       "      <td>3572</td>\n",
       "      <td>0</td>\n",
       "      <td>0.206358</td>\n",
       "    </tr>\n",
       "    <tr>\n",
       "      <th>3</th>\n",
       "      <td>2948</td>\n",
       "      <td>0</td>\n",
       "      <td>0.145825</td>\n",
       "    </tr>\n",
       "    <tr>\n",
       "      <th>4</th>\n",
       "      <td>2410</td>\n",
       "      <td>0</td>\n",
       "      <td>0.117996</td>\n",
       "    </tr>\n",
       "    <tr>\n",
       "      <th>...</th>\n",
       "      <td>...</td>\n",
       "      <td>...</td>\n",
       "      <td>...</td>\n",
       "    </tr>\n",
       "    <tr>\n",
       "      <th>4637</th>\n",
       "      <td>3317</td>\n",
       "      <td>1</td>\n",
       "      <td>0.280531</td>\n",
       "    </tr>\n",
       "    <tr>\n",
       "      <th>4638</th>\n",
       "      <td>3030</td>\n",
       "      <td>1</td>\n",
       "      <td>0.150491</td>\n",
       "    </tr>\n",
       "    <tr>\n",
       "      <th>4639</th>\n",
       "      <td>2950</td>\n",
       "      <td>0</td>\n",
       "      <td>0.255109</td>\n",
       "    </tr>\n",
       "    <tr>\n",
       "      <th>4640</th>\n",
       "      <td>3969</td>\n",
       "      <td>0</td>\n",
       "      <td>0.133592</td>\n",
       "    </tr>\n",
       "    <tr>\n",
       "      <th>4641</th>\n",
       "      <td>3289</td>\n",
       "      <td>0</td>\n",
       "      <td>0.132900</td>\n",
       "    </tr>\n",
       "  </tbody>\n",
       "</table>\n",
       "<p>4642 rows × 3 columns</p>\n",
       "</div>"
      ],
      "text/plain": [
       "         Y  Treated    pscore\n",
       "0     3459        0  0.099858\n",
       "1     3260        0  0.458399\n",
       "2     3572        0  0.206358\n",
       "3     2948        0  0.145825\n",
       "4     2410        0  0.117996\n",
       "...    ...      ...       ...\n",
       "4637  3317        1  0.280531\n",
       "4638  3030        1  0.150491\n",
       "4639  2950        0  0.255109\n",
       "4640  3969        0  0.133592\n",
       "4641  3289        0  0.132900\n",
       "\n",
       "[4642 rows x 3 columns]"
      ]
     },
     "execution_count": 9,
     "metadata": {},
     "output_type": "execute_result"
    }
   ],
   "source": [
    "df[['Y', 'Treated', 'pscore']]"
   ]
  },
  {
   "cell_type": "markdown",
   "id": "0487fdf9",
   "metadata": {},
   "source": [
    "Repare que as probabilidades dos não tratados é baixa. Entretanto, há alguns com probabilidade de ser tratado maiores que outros. Vejamos a distribuição das probabilidades entre os grupos:"
   ]
  },
  {
   "cell_type": "code",
   "execution_count": 11,
   "id": "61758d57",
   "metadata": {},
   "outputs": [
    {
     "data": {
      "image/png": "[encoded data removed]",
      "text/plain": [
       "<Figure size 640x480 with 1 Axes>"
      ]
     },
     "metadata": {},
     "output_type": "display_data"
    }
   ],
   "source": [
    "# Verificar graficamente a área de sobreposição\n",
    "sns.histplot(data=df, x='pscore', hue='Treated', bins=200, stat='density', common_norm=False).\\\n",
    "    set(ylabel=\"\", title=\"Distribution of Propensity Scores\");"
   ]
  },
  {
   "cell_type": "markdown",
   "id": "8a75f59a",
   "metadata": {},
   "source": [
    "Criar os pesos ATE:"
   ]
  },
  {
   "cell_type": "code",
   "execution_count": 12,
   "id": "b221994f",
   "metadata": {},
   "outputs": [],
   "source": [
    "# ATE weights\n",
    "df['W_ATE_T'] = df['Treated'] / df['pscore']\n",
    "df['W_ATE_C'] = (1 - df['Treated']) / (1 - df['pscore'])"
   ]
  },
  {
   "cell_type": "code",
   "execution_count": 13,
   "id": "0960524a",
   "metadata": {},
   "outputs": [
    {
     "data": {
      "application/vnd.microsoft.datawrangler.viewer.v0+json": {
       "columns": [
        {
         "name": "index",
         "rawType": "int64",
         "type": "integer"
        },
        {
         "name": "Y",
         "rawType": "int16",
         "type": "integer"
        },
        {
         "name": "Treated",
         "rawType": "int64",
         "type": "integer"
        },
        {
         "name": "pscore",
         "rawType": "float64",
         "type": "float"
        },
        {
         "name": "W_ATE_T",
         "rawType": "float64",
         "type": "float"
        },
        {
         "name": "W_ATE_C",
         "rawType": "float64",
         "type": "float"
        }
       ],
       "ref": "bb412fa0-1bfc-466e-8bf6-91b61c593f49",
       "rows": [
        [
         "0",
         "3459",
         "0",
         "0.09985815625416984",
         "0.0",
         "1.110936022970138"
        ],
        [
         "1",
         "3260",
         "0",
         "0.45839887013121305",
         "0.0",
         "1.846377241203815"
        ],
        [
         "2",
         "3572",
         "0",
         "0.20635819646475084",
         "0.0",
         "1.260014272869115"
        ],
        [
         "3",
         "2948",
         "0",
         "0.14582468367113116",
         "0.0",
         "1.1707198520999953"
        ],
        [
         "4",
         "2410",
         "0",
         "0.11799631621551444",
         "0.0",
         "1.1337821126882577"
        ],
        [
         "5",
         "3147",
         "0",
         "0.3122669555373545",
         "0.0",
         "1.4540525688733508"
        ],
        [
         "6",
         "3799",
         "0",
         "0.11824648463784998",
         "0.0",
         "1.1341037858967697"
        ],
        [
         "7",
         "3629",
         "0",
         "0.14173185726379411",
         "0.0",
         "1.1651370360921764"
        ],
        [
         "8",
         "2835",
         "0",
         "0.12406562567747872",
         "0.0",
         "1.1416380374082653"
        ],
        [
         "9",
         "3880",
         "0",
         "0.1042700679761988",
         "0.0",
         "1.1164079308376045"
        ],
        [
         "10",
         "3090",
         "1",
         "0.12344291864216224",
         "8.100910210158037",
         "0.0"
        ],
        [
         "11",
         "3345",
         "0",
         "0.3029532864279563",
         "0.0",
         "1.4346240797484864"
        ],
        [
         "12",
         "4013",
         "0",
         "0.11160087963078634",
         "0.0",
         "1.1256202050092143"
        ],
        [
         "13",
         "3771",
         "0",
         "0.23700751893151964",
         "0.0",
         "1.3106289050183282"
        ],
        [
         "14",
         "662",
         "0",
         "0.3193342196949695",
         "0.0",
         "1.469149807342841"
        ],
        [
         "15",
         "3657",
         "0",
         "0.1421056085985138",
         "0.0",
         "1.1656446411385963"
        ],
        [
         "16",
         "3572",
         "0",
         "0.12920953316562464",
         "0.0",
         "1.148381887591565"
        ],
        [
         "17",
         "3430",
         "0",
         "0.10566567168334953",
         "0.0",
         "1.1181500791569048"
        ],
        [
         "18",
         "4479",
         "0",
         "0.17300511052981665",
         "0.0",
         "1.2091973151619508"
        ],
        [
         "19",
         "3166",
         "1",
         "0.3432134183263964",
         "2.913638997205519",
         "0.0"
        ],
        [
         "20",
         "4253",
         "0",
         "0.12958023432500412",
         "0.0",
         "1.1488709694276265"
        ],
        [
         "21",
         "4054",
         "0",
         "0.10300402642684606",
         "0.0",
         "1.1148322060092788"
        ],
        [
         "22",
         "3160",
         "0",
         "0.1329993051924768",
         "0.0",
         "1.15340161315788"
        ],
        [
         "23",
         "2466",
         "0",
         "0.13178128346315213",
         "0.0",
         "1.1517835091010264"
        ],
        [
         "24",
         "3147",
         "1",
         "0.15875253268968953",
         "6.299112102700626",
         "0.0"
        ],
        [
         "25",
         "3232",
         "0",
         "0.11197342398207155",
         "0.0",
         "1.1260924244904704"
        ],
        [
         "26",
         "3005",
         "0",
         "0.12666857140553298",
         "0.0",
         "1.1450406652711358"
        ],
        [
         "27",
         "1899",
         "0",
         "0.0849891891554516",
         "0.0",
         "1.0928832623048543"
        ],
        [
         "28",
         "4026",
         "0",
         "0.11083351603088659",
         "0.0",
         "1.1246487784111492"
        ],
        [
         "29",
         "3969",
         "0",
         "0.28885916733207234",
         "0.0",
         "1.4061912269168733"
        ],
        [
         "30",
         "4167",
         "0",
         "0.3517004548492376",
         "0.0",
         "1.542496840357106"
        ],
        [
         "31",
         "4054",
         "0",
         "0.20098522120648415",
         "0.0",
         "1.2515413062946905"
        ],
        [
         "32",
         "3660",
         "0",
         "0.2034407430422272",
         "0.0",
         "1.25539938336692"
        ],
        [
         "33",
         "3997",
         "0",
         "0.06681087224753694",
         "0.0",
         "1.0715941391306685"
        ],
        [
         "34",
         "3980",
         "0",
         "0.14948895142755586",
         "0.0",
         "1.1757636795882527"
        ],
        [
         "35",
         "4111",
         "0",
         "0.31381947329642806",
         "0.0",
         "1.4573424355308138"
        ],
        [
         "36",
         "3090",
         "0",
         "0.12050948408071478",
         "0.0",
         "1.1370219256483427"
        ],
        [
         "37",
         "4082",
         "0",
         "0.14557561826902704",
         "0.0",
         "1.170378586311063"
        ],
        [
         "38",
         "4196",
         "0",
         "0.0929945458267444",
         "0.0",
         "1.1025292024417976"
        ],
        [
         "39",
         "2790",
         "0",
         "0.07905358685799177",
         "0.0",
         "1.085839507847458"
        ],
        [
         "40",
         "4082",
         "0",
         "0.1179983613634981",
         "0.0",
         "1.1337847416541236"
        ],
        [
         "41",
         "3089",
         "0",
         "0.09670934288345108",
         "0.0",
         "1.1070633711547102"
        ],
        [
         "42",
         "2580",
         "1",
         "0.4036763923317035",
         "2.477231809925346",
         "0.0"
        ],
        [
         "43",
         "3714",
         "0",
         "0.09833909737143065",
         "0.0",
         "1.1090643911527576"
        ],
        [
         "44",
         "4196",
         "0",
         "0.08555239225624811",
         "0.0",
         "1.0935563629143659"
        ],
        [
         "45",
         "2523",
         "0",
         "0.3108671956091432",
         "0.0",
         "1.4510991112720677"
        ],
        [
         "46",
         "2693",
         "1",
         "0.2766867123374426",
         "3.6141959675331874",
         "0.0"
        ],
        [
         "47",
         "3204",
         "0",
         "0.07882028686134562",
         "0.0",
         "1.0855645057496852"
        ],
        [
         "48",
         "3572",
         "1",
         "0.2632002853292673",
         "3.799387978432416",
         "0.0"
        ],
        [
         "49",
         "3385",
         "0",
         "0.13821681439076833",
         "0.0",
         "1.160384672965111"
        ]
       ],
       "shape": {
        "columns": 5,
        "rows": 4642
       }
      },
      "text/html": [
       "<div>\n",
       "<style scoped>\n",
       "    .dataframe tbody tr th:only-of-type {\n",
       "        vertical-align: middle;\n",
       "    }\n",
       "\n",
       "    .dataframe tbody tr th {\n",
       "        vertical-align: top;\n",
       "    }\n",
       "\n",
       "    .dataframe thead th {\n",
       "        text-align: right;\n",
       "    }\n",
       "</style>\n",
       "<table border=\"1\" class=\"dataframe\">\n",
       "  <thead>\n",
       "    <tr style=\"text-align: right;\">\n",
       "      <th></th>\n",
       "      <th>Y</th>\n",
       "      <th>Treated</th>\n",
       "      <th>pscore</th>\n",
       "      <th>W_ATE_T</th>\n",
       "      <th>W_ATE_C</th>\n",
       "    </tr>\n",
       "  </thead>\n",
       "  <tbody>\n",
       "    <tr>\n",
       "      <th>0</th>\n",
       "      <td>3459</td>\n",
       "      <td>0</td>\n",
       "      <td>0.099858</td>\n",
       "      <td>0.000000</td>\n",
       "      <td>1.110936</td>\n",
       "    </tr>\n",
       "    <tr>\n",
       "      <th>1</th>\n",
       "      <td>3260</td>\n",
       "      <td>0</td>\n",
       "      <td>0.458399</td>\n",
       "      <td>0.000000</td>\n",
       "      <td>1.846377</td>\n",
       "    </tr>\n",
       "    <tr>\n",
       "      <th>2</th>\n",
       "      <td>3572</td>\n",
       "      <td>0</td>\n",
       "      <td>0.206358</td>\n",
       "      <td>0.000000</td>\n",
       "      <td>1.260014</td>\n",
       "    </tr>\n",
       "    <tr>\n",
       "      <th>3</th>\n",
       "      <td>2948</td>\n",
       "      <td>0</td>\n",
       "      <td>0.145825</td>\n",
       "      <td>0.000000</td>\n",
       "      <td>1.170720</td>\n",
       "    </tr>\n",
       "    <tr>\n",
       "      <th>4</th>\n",
       "      <td>2410</td>\n",
       "      <td>0</td>\n",
       "      <td>0.117996</td>\n",
       "      <td>0.000000</td>\n",
       "      <td>1.133782</td>\n",
       "    </tr>\n",
       "    <tr>\n",
       "      <th>...</th>\n",
       "      <td>...</td>\n",
       "      <td>...</td>\n",
       "      <td>...</td>\n",
       "      <td>...</td>\n",
       "      <td>...</td>\n",
       "    </tr>\n",
       "    <tr>\n",
       "      <th>4637</th>\n",
       "      <td>3317</td>\n",
       "      <td>1</td>\n",
       "      <td>0.280531</td>\n",
       "      <td>3.564674</td>\n",
       "      <td>0.000000</td>\n",
       "    </tr>\n",
       "    <tr>\n",
       "      <th>4638</th>\n",
       "      <td>3030</td>\n",
       "      <td>1</td>\n",
       "      <td>0.150491</td>\n",
       "      <td>6.644932</td>\n",
       "      <td>0.000000</td>\n",
       "    </tr>\n",
       "    <tr>\n",
       "      <th>4639</th>\n",
       "      <td>2950</td>\n",
       "      <td>0</td>\n",
       "      <td>0.255109</td>\n",
       "      <td>0.000000</td>\n",
       "      <td>1.342478</td>\n",
       "    </tr>\n",
       "    <tr>\n",
       "      <th>4640</th>\n",
       "      <td>3969</td>\n",
       "      <td>0</td>\n",
       "      <td>0.133592</td>\n",
       "      <td>0.000000</td>\n",
       "      <td>1.154191</td>\n",
       "    </tr>\n",
       "    <tr>\n",
       "      <th>4641</th>\n",
       "      <td>3289</td>\n",
       "      <td>0</td>\n",
       "      <td>0.132900</td>\n",
       "      <td>0.000000</td>\n",
       "      <td>1.153269</td>\n",
       "    </tr>\n",
       "  </tbody>\n",
       "</table>\n",
       "<p>4642 rows × 5 columns</p>\n",
       "</div>"
      ],
      "text/plain": [
       "         Y  Treated    pscore   W_ATE_T   W_ATE_C\n",
       "0     3459        0  0.099858  0.000000  1.110936\n",
       "1     3260        0  0.458399  0.000000  1.846377\n",
       "2     3572        0  0.206358  0.000000  1.260014\n",
       "3     2948        0  0.145825  0.000000  1.170720\n",
       "4     2410        0  0.117996  0.000000  1.133782\n",
       "...    ...      ...       ...       ...       ...\n",
       "4637  3317        1  0.280531  3.564674  0.000000\n",
       "4638  3030        1  0.150491  6.644932  0.000000\n",
       "4639  2950        0  0.255109  0.000000  1.342478\n",
       "4640  3969        0  0.133592  0.000000  1.154191\n",
       "4641  3289        0  0.132900  0.000000  1.153269\n",
       "\n",
       "[4642 rows x 5 columns]"
      ]
     },
     "execution_count": 13,
     "metadata": {},
     "output_type": "execute_result"
    }
   ],
   "source": [
    "df[['Y', 'Treated', 'pscore', 'W_ATE_T', 'W_ATE_C']]"
   ]
  },
  {
   "cell_type": "code",
   "execution_count": 14,
   "id": "4b609152",
   "metadata": {},
   "outputs": [],
   "source": [
    "df['Y_psw_ATE'] = df['Y'] * df['W_ATE_T'] - df['Y'] * df['W_ATE_C']"
   ]
  },
  {
   "cell_type": "code",
   "execution_count": 15,
   "id": "4d4228a0",
   "metadata": {},
   "outputs": [
    {
     "data": {
      "application/vnd.microsoft.datawrangler.viewer.v0+json": {
       "columns": [
        {
         "name": "index",
         "rawType": "int64",
         "type": "integer"
        },
        {
         "name": "Y",
         "rawType": "int16",
         "type": "integer"
        },
        {
         "name": "Treated",
         "rawType": "int64",
         "type": "integer"
        },
        {
         "name": "pscore",
         "rawType": "float64",
         "type": "float"
        },
        {
         "name": "W_ATE_T",
         "rawType": "float64",
         "type": "float"
        },
        {
         "name": "W_ATE_C",
         "rawType": "float64",
         "type": "float"
        },
        {
         "name": "Y_psw_ATE",
         "rawType": "float64",
         "type": "float"
        }
       ],
       "ref": "e1a6791c-59b8-4ebe-ae82-6f7d97aab78e",
       "rows": [
        [
         "0",
         "3459",
         "0",
         "0.09985815625416984",
         "0.0",
         "1.110936022970138",
         "-3842.727703453707"
        ],
        [
         "1",
         "3260",
         "0",
         "0.45839887013121305",
         "0.0",
         "1.846377241203815",
         "-6019.189806324437"
        ],
        [
         "2",
         "3572",
         "0",
         "0.20635819646475084",
         "0.0",
         "1.260014272869115",
         "-4500.770982688479"
        ],
        [
         "3",
         "2948",
         "0",
         "0.14582468367113116",
         "0.0",
         "1.1707198520999953",
         "-3451.282123990786"
        ],
        [
         "4",
         "2410",
         "0",
         "0.11799631621551444",
         "0.0",
         "1.1337821126882577",
         "-2732.414891578701"
        ],
        [
         "5",
         "3147",
         "0",
         "0.3122669555373545",
         "0.0",
         "1.4540525688733508",
         "-4575.903434244435"
        ],
        [
         "6",
         "3799",
         "0",
         "0.11824648463784998",
         "0.0",
         "1.1341037858967697",
         "-4308.460282621828"
        ],
        [
         "7",
         "3629",
         "0",
         "0.14173185726379411",
         "0.0",
         "1.1651370360921764",
         "-4228.282303978508"
        ],
        [
         "8",
         "2835",
         "0",
         "0.12406562567747872",
         "0.0",
         "1.1416380374082653",
         "-3236.543836052432"
        ],
        [
         "9",
         "3880",
         "0",
         "0.1042700679761988",
         "0.0",
         "1.1164079308376045",
         "-4331.662771649905"
        ],
        [
         "10",
         "3090",
         "1",
         "0.12344291864216224",
         "8.100910210158037",
         "0.0",
         "25031.812549388334"
        ],
        [
         "11",
         "3345",
         "0",
         "0.3029532864279563",
         "0.0",
         "1.4346240797484864",
         "-4798.817546758687"
        ],
        [
         "12",
         "4013",
         "0",
         "0.11160087963078634",
         "0.0",
         "1.1256202050092143",
         "-4517.113882701977"
        ],
        [
         "13",
         "3771",
         "0",
         "0.23700751893151964",
         "0.0",
         "1.3106289050183282",
         "-4942.381600824116"
        ],
        [
         "14",
         "662",
         "0",
         "0.3193342196949695",
         "0.0",
         "1.469149807342841",
         "-972.5771724609608"
        ],
        [
         "15",
         "3657",
         "0",
         "0.1421056085985138",
         "0.0",
         "1.1656446411385963",
         "-4262.762452643847"
        ],
        [
         "16",
         "3572",
         "0",
         "0.12920953316562464",
         "0.0",
         "1.148381887591565",
         "-4102.02010247707"
        ],
        [
         "17",
         "3430",
         "0",
         "0.10566567168334953",
         "0.0",
         "1.1181500791569048",
         "-3835.2547715081832"
        ],
        [
         "18",
         "4479",
         "0",
         "0.17300511052981665",
         "0.0",
         "1.2091973151619508",
         "-5415.994774610378"
        ],
        [
         "19",
         "3166",
         "1",
         "0.3432134183263964",
         "2.913638997205519",
         "0.0",
         "9224.581065152674"
        ],
        [
         "20",
         "4253",
         "0",
         "0.12958023432500412",
         "0.0",
         "1.1488709694276265",
         "-4886.1482329756955"
        ],
        [
         "21",
         "4054",
         "0",
         "0.10300402642684606",
         "0.0",
         "1.1148322060092788",
         "-4519.529763161616"
        ],
        [
         "22",
         "3160",
         "0",
         "0.1329993051924768",
         "0.0",
         "1.15340161315788",
         "-3644.7490975789005"
        ],
        [
         "23",
         "2466",
         "0",
         "0.13178128346315213",
         "0.0",
         "1.1517835091010264",
         "-2840.298133443131"
        ],
        [
         "24",
         "3147",
         "1",
         "0.15875253268968953",
         "6.299112102700626",
         "0.0",
         "19823.30578719887"
        ],
        [
         "25",
         "3232",
         "0",
         "0.11197342398207155",
         "0.0",
         "1.1260924244904704",
         "-3639.5307159532003"
        ],
        [
         "26",
         "3005",
         "0",
         "0.12666857140553298",
         "0.0",
         "1.1450406652711358",
         "-3440.8471991397632"
        ],
        [
         "27",
         "1899",
         "0",
         "0.0849891891554516",
         "0.0",
         "1.0928832623048543",
         "-2075.3853151169183"
        ],
        [
         "28",
         "4026",
         "0",
         "0.11083351603088659",
         "0.0",
         "1.1246487784111492",
         "-4527.835981883287"
        ],
        [
         "29",
         "3969",
         "0",
         "0.28885916733207234",
         "0.0",
         "1.4061912269168733",
         "-5581.17297963307"
        ],
        [
         "30",
         "4167",
         "0",
         "0.3517004548492376",
         "0.0",
         "1.542496840357106",
         "-6427.584333768061"
        ],
        [
         "31",
         "4054",
         "0",
         "0.20098522120648415",
         "0.0",
         "1.2515413062946905",
         "-5073.748455718675"
        ],
        [
         "32",
         "3660",
         "0",
         "0.2034407430422272",
         "0.0",
         "1.25539938336692",
         "-4594.761743122927"
        ],
        [
         "33",
         "3997",
         "0",
         "0.06681087224753694",
         "0.0",
         "1.0715941391306685",
         "-4283.161774105282"
        ],
        [
         "34",
         "3980",
         "0",
         "0.14948895142755586",
         "0.0",
         "1.1757636795882527",
         "-4679.539444761245"
        ],
        [
         "35",
         "4111",
         "0",
         "0.31381947329642806",
         "0.0",
         "1.4573424355308138",
         "-5991.1347524671755"
        ],
        [
         "36",
         "3090",
         "0",
         "0.12050948408071478",
         "0.0",
         "1.1370219256483427",
         "-3513.397750253379"
        ],
        [
         "37",
         "4082",
         "0",
         "0.14557561826902704",
         "0.0",
         "1.170378586311063",
         "-4777.485389321759"
        ],
        [
         "38",
         "4196",
         "0",
         "0.0929945458267444",
         "0.0",
         "1.1025292024417976",
         "-4626.212533445783"
        ],
        [
         "39",
         "2790",
         "0",
         "0.07905358685799177",
         "0.0",
         "1.085839507847458",
         "-3029.492226894408"
        ],
        [
         "40",
         "4082",
         "0",
         "0.1179983613634981",
         "0.0",
         "1.1337847416541236",
         "-4628.1093154321325"
        ],
        [
         "41",
         "3089",
         "0",
         "0.09670934288345108",
         "0.0",
         "1.1070633711547102",
         "-3419.7187534969"
        ],
        [
         "42",
         "2580",
         "1",
         "0.4036763923317035",
         "2.477231809925346",
         "0.0",
         "6391.258069607393"
        ],
        [
         "43",
         "3714",
         "0",
         "0.09833909737143065",
         "0.0",
         "1.1090643911527576",
         "-4119.0651487413415"
        ],
        [
         "44",
         "4196",
         "0",
         "0.08555239225624811",
         "0.0",
         "1.0935563629143659",
         "-4588.5624987886795"
        ],
        [
         "45",
         "2523",
         "0",
         "0.3108671956091432",
         "0.0",
         "1.4510991112720677",
         "-3661.1230577394267"
        ],
        [
         "46",
         "2693",
         "1",
         "0.2766867123374426",
         "3.6141959675331874",
         "0.0",
         "9733.029740566873"
        ],
        [
         "47",
         "3204",
         "0",
         "0.07882028686134562",
         "0.0",
         "1.0855645057496852",
         "-3478.1486764219912"
        ],
        [
         "48",
         "3572",
         "1",
         "0.2632002853292673",
         "3.799387978432416",
         "0.0",
         "13571.41385896059"
        ],
        [
         "49",
         "3385",
         "0",
         "0.13821681439076833",
         "0.0",
         "1.160384672965111",
         "-3927.902117986901"
        ]
       ],
       "shape": {
        "columns": 6,
        "rows": 4642
       }
      },
      "text/html": [
       "<div>\n",
       "<style scoped>\n",
       "    .dataframe tbody tr th:only-of-type {\n",
       "        vertical-align: middle;\n",
       "    }\n",
       "\n",
       "    .dataframe tbody tr th {\n",
       "        vertical-align: top;\n",
       "    }\n",
       "\n",
       "    .dataframe thead th {\n",
       "        text-align: right;\n",
       "    }\n",
       "</style>\n",
       "<table border=\"1\" class=\"dataframe\">\n",
       "  <thead>\n",
       "    <tr style=\"text-align: right;\">\n",
       "      <th></th>\n",
       "      <th>Y</th>\n",
       "      <th>Treated</th>\n",
       "      <th>pscore</th>\n",
       "      <th>W_ATE_T</th>\n",
       "      <th>W_ATE_C</th>\n",
       "      <th>Y_psw_ATE</th>\n",
       "    </tr>\n",
       "  </thead>\n",
       "  <tbody>\n",
       "    <tr>\n",
       "      <th>0</th>\n",
       "      <td>3459</td>\n",
       "      <td>0</td>\n",
       "      <td>0.099858</td>\n",
       "      <td>0.000000</td>\n",
       "      <td>1.110936</td>\n",
       "      <td>-3842.727703</td>\n",
       "    </tr>\n",
       "    <tr>\n",
       "      <th>1</th>\n",
       "      <td>3260</td>\n",
       "      <td>0</td>\n",
       "      <td>0.458399</td>\n",
       "      <td>0.000000</td>\n",
       "      <td>1.846377</td>\n",
       "      <td>-6019.189806</td>\n",
       "    </tr>\n",
       "    <tr>\n",
       "      <th>2</th>\n",
       "      <td>3572</td>\n",
       "      <td>0</td>\n",
       "      <td>0.206358</td>\n",
       "      <td>0.000000</td>\n",
       "      <td>1.260014</td>\n",
       "      <td>-4500.770983</td>\n",
       "    </tr>\n",
       "    <tr>\n",
       "      <th>3</th>\n",
       "      <td>2948</td>\n",
       "      <td>0</td>\n",
       "      <td>0.145825</td>\n",
       "      <td>0.000000</td>\n",
       "      <td>1.170720</td>\n",
       "      <td>-3451.282124</td>\n",
       "    </tr>\n",
       "    <tr>\n",
       "      <th>4</th>\n",
       "      <td>2410</td>\n",
       "      <td>0</td>\n",
       "      <td>0.117996</td>\n",
       "      <td>0.000000</td>\n",
       "      <td>1.133782</td>\n",
       "      <td>-2732.414892</td>\n",
       "    </tr>\n",
       "    <tr>\n",
       "      <th>...</th>\n",
       "      <td>...</td>\n",
       "      <td>...</td>\n",
       "      <td>...</td>\n",
       "      <td>...</td>\n",
       "      <td>...</td>\n",
       "      <td>...</td>\n",
       "    </tr>\n",
       "    <tr>\n",
       "      <th>4637</th>\n",
       "      <td>3317</td>\n",
       "      <td>1</td>\n",
       "      <td>0.280531</td>\n",
       "      <td>3.564674</td>\n",
       "      <td>0.000000</td>\n",
       "      <td>11824.022325</td>\n",
       "    </tr>\n",
       "    <tr>\n",
       "      <th>4638</th>\n",
       "      <td>3030</td>\n",
       "      <td>1</td>\n",
       "      <td>0.150491</td>\n",
       "      <td>6.644932</td>\n",
       "      <td>0.000000</td>\n",
       "      <td>20134.144440</td>\n",
       "    </tr>\n",
       "    <tr>\n",
       "      <th>4639</th>\n",
       "      <td>2950</td>\n",
       "      <td>0</td>\n",
       "      <td>0.255109</td>\n",
       "      <td>0.000000</td>\n",
       "      <td>1.342478</td>\n",
       "      <td>-3960.311042</td>\n",
       "    </tr>\n",
       "    <tr>\n",
       "      <th>4640</th>\n",
       "      <td>3969</td>\n",
       "      <td>0</td>\n",
       "      <td>0.133592</td>\n",
       "      <td>0.000000</td>\n",
       "      <td>1.154191</td>\n",
       "      <td>-4580.984566</td>\n",
       "    </tr>\n",
       "    <tr>\n",
       "      <th>4641</th>\n",
       "      <td>3289</td>\n",
       "      <td>0</td>\n",
       "      <td>0.132900</td>\n",
       "      <td>0.000000</td>\n",
       "      <td>1.153269</td>\n",
       "      <td>-3793.103200</td>\n",
       "    </tr>\n",
       "  </tbody>\n",
       "</table>\n",
       "<p>4642 rows × 6 columns</p>\n",
       "</div>"
      ],
      "text/plain": [
       "         Y  Treated    pscore   W_ATE_T   W_ATE_C     Y_psw_ATE\n",
       "0     3459        0  0.099858  0.000000  1.110936  -3842.727703\n",
       "1     3260        0  0.458399  0.000000  1.846377  -6019.189806\n",
       "2     3572        0  0.206358  0.000000  1.260014  -4500.770983\n",
       "3     2948        0  0.145825  0.000000  1.170720  -3451.282124\n",
       "4     2410        0  0.117996  0.000000  1.133782  -2732.414892\n",
       "...    ...      ...       ...       ...       ...           ...\n",
       "4637  3317        1  0.280531  3.564674  0.000000  11824.022325\n",
       "4638  3030        1  0.150491  6.644932  0.000000  20134.144440\n",
       "4639  2950        0  0.255109  0.000000  1.342478  -3960.311042\n",
       "4640  3969        0  0.133592  0.000000  1.154191  -4580.984566\n",
       "4641  3289        0  0.132900  0.000000  1.153269  -3793.103200\n",
       "\n",
       "[4642 rows x 6 columns]"
      ]
     },
     "execution_count": 15,
     "metadata": {},
     "output_type": "execute_result"
    }
   ],
   "source": [
    "df[['Y', 'Treated', 'pscore', 'W_ATE_T', 'W_ATE_C', 'Y_psw_ATE']]"
   ]
  },
  {
   "cell_type": "code",
   "execution_count": 16,
   "id": "92134167",
   "metadata": {},
   "outputs": [
    {
     "data": {
      "text/plain": [
       "np.float64(-379.6361195596848)"
      ]
     },
     "execution_count": 16,
     "metadata": {},
     "output_type": "execute_result"
    }
   ],
   "source": [
    "df['Y_psw_ATE'].mean()"
   ]
  },
  {
   "cell_type": "markdown",
   "id": "7775b8da",
   "metadata": {},
   "source": [
    "***ATT psw***"
   ]
  },
  {
   "cell_type": "code",
   "execution_count": 17,
   "id": "47813e59",
   "metadata": {},
   "outputs": [],
   "source": [
    "# ATT weights\n",
    "df['W_ATT_T'] = df['Treated'] * 1 \n",
    "df['W_ATT_C'] = (1 - df['Treated']) * (df['pscore'] / (1 - df['pscore']))"
   ]
  },
  {
   "cell_type": "code",
   "execution_count": 18,
   "id": "ce52da7a",
   "metadata": {},
   "outputs": [
    {
     "data": {
      "application/vnd.microsoft.datawrangler.viewer.v0+json": {
       "columns": [
        {
         "name": "index",
         "rawType": "int64",
         "type": "integer"
        },
        {
         "name": "Y",
         "rawType": "int16",
         "type": "integer"
        },
        {
         "name": "Treated",
         "rawType": "int64",
         "type": "integer"
        },
        {
         "name": "pscore",
         "rawType": "float64",
         "type": "float"
        },
        {
         "name": "W_ATT_T",
         "rawType": "int64",
         "type": "integer"
        },
        {
         "name": "W_ATT_C",
         "rawType": "float64",
         "type": "float"
        }
       ],
       "ref": "9eccae03-85b1-4209-b1af-4e3f40c99c52",
       "rows": [
        [
         "0",
         "3459",
         "0",
         "0.09985815625416984",
         "0",
         "0.11093602297013806"
        ],
        [
         "1",
         "3260",
         "0",
         "0.45839887013121305",
         "0",
         "0.8463772412038151"
        ],
        [
         "2",
         "3572",
         "0",
         "0.20635819646475084",
         "0",
         "0.260014272869115"
        ],
        [
         "3",
         "2948",
         "0",
         "0.14582468367113116",
         "0",
         "0.17071985209999527"
        ],
        [
         "4",
         "2410",
         "0",
         "0.11799631621551444",
         "0",
         "0.13378211268825768"
        ],
        [
         "5",
         "3147",
         "0",
         "0.3122669555373545",
         "0",
         "0.4540525688733507"
        ],
        [
         "6",
         "3799",
         "0",
         "0.11824648463784998",
         "0",
         "0.13410378589676988"
        ],
        [
         "7",
         "3629",
         "0",
         "0.14173185726379411",
         "0",
         "0.16513703609217648"
        ],
        [
         "8",
         "2835",
         "0",
         "0.12406562567747872",
         "0",
         "0.1416380374082653"
        ],
        [
         "9",
         "3880",
         "0",
         "0.1042700679761988",
         "0",
         "0.11640793083760445"
        ],
        [
         "10",
         "3090",
         "1",
         "0.12344291864216224",
         "1",
         "0.0"
        ],
        [
         "11",
         "3345",
         "0",
         "0.3029532864279563",
         "0",
         "0.43462407974848644"
        ],
        [
         "12",
         "4013",
         "0",
         "0.11160087963078634",
         "0",
         "0.1256202050092144"
        ],
        [
         "13",
         "3771",
         "0",
         "0.23700751893151964",
         "0",
         "0.3106289050183283"
        ],
        [
         "14",
         "662",
         "0",
         "0.3193342196949695",
         "0",
         "0.4691498073428409"
        ],
        [
         "15",
         "3657",
         "0",
         "0.1421056085985138",
         "0",
         "0.16564464113859645"
        ],
        [
         "16",
         "3572",
         "0",
         "0.12920953316562464",
         "0",
         "0.14838188759156495"
        ],
        [
         "17",
         "3430",
         "0",
         "0.10566567168334953",
         "0",
         "0.11815007915690479"
        ],
        [
         "18",
         "4479",
         "0",
         "0.17300511052981665",
         "0",
         "0.20919731516195086"
        ],
        [
         "19",
         "3166",
         "1",
         "0.3432134183263964",
         "1",
         "0.0"
        ],
        [
         "20",
         "4253",
         "0",
         "0.12958023432500412",
         "0",
         "0.14887096942762648"
        ],
        [
         "21",
         "4054",
         "0",
         "0.10300402642684606",
         "0",
         "0.11483220600927885"
        ],
        [
         "22",
         "3160",
         "0",
         "0.1329993051924768",
         "0",
         "0.15340161315787995"
        ],
        [
         "23",
         "2466",
         "0",
         "0.13178128346315213",
         "0",
         "0.15178350910102642"
        ],
        [
         "24",
         "3147",
         "1",
         "0.15875253268968953",
         "1",
         "0.0"
        ],
        [
         "25",
         "3232",
         "0",
         "0.11197342398207155",
         "0",
         "0.12609242449047034"
        ],
        [
         "26",
         "3005",
         "0",
         "0.12666857140553298",
         "0",
         "0.14504066527113585"
        ],
        [
         "27",
         "1899",
         "0",
         "0.0849891891554516",
         "0",
         "0.09288326230485429"
        ],
        [
         "28",
         "4026",
         "0",
         "0.11083351603088659",
         "0",
         "0.12464877841114913"
        ],
        [
         "29",
         "3969",
         "0",
         "0.28885916733207234",
         "0",
         "0.4061912269168732"
        ],
        [
         "30",
         "4167",
         "0",
         "0.3517004548492376",
         "0",
         "0.5424968403571061"
        ],
        [
         "31",
         "4054",
         "0",
         "0.20098522120648415",
         "0",
         "0.2515413062946905"
        ],
        [
         "32",
         "3660",
         "0",
         "0.2034407430422272",
         "0",
         "0.25539938336692003"
        ],
        [
         "33",
         "3997",
         "0",
         "0.06681087224753694",
         "0",
         "0.07159413913066841"
        ],
        [
         "34",
         "3980",
         "0",
         "0.14948895142755586",
         "0",
         "0.17576367958825267"
        ],
        [
         "35",
         "4111",
         "0",
         "0.31381947329642806",
         "0",
         "0.4573424355308136"
        ],
        [
         "36",
         "3090",
         "0",
         "0.12050948408071478",
         "0",
         "0.13702192564834262"
        ],
        [
         "37",
         "4082",
         "0",
         "0.14557561826902704",
         "0",
         "0.1703785863110628"
        ],
        [
         "38",
         "4196",
         "0",
         "0.0929945458267444",
         "0",
         "0.1025292024417977"
        ],
        [
         "39",
         "2790",
         "0",
         "0.07905358685799177",
         "0",
         "0.08583950784745807"
        ],
        [
         "40",
         "4082",
         "0",
         "0.1179983613634981",
         "0",
         "0.1337847416541236"
        ],
        [
         "41",
         "3089",
         "0",
         "0.09670934288345108",
         "0",
         "0.10706337115471014"
        ],
        [
         "42",
         "2580",
         "1",
         "0.4036763923317035",
         "1",
         "0.0"
        ],
        [
         "43",
         "3714",
         "0",
         "0.09833909737143065",
         "0",
         "0.10906439115275747"
        ],
        [
         "44",
         "4196",
         "0",
         "0.08555239225624811",
         "0",
         "0.09355636291436584"
        ],
        [
         "45",
         "2523",
         "0",
         "0.3108671956091432",
         "0",
         "0.45109911127206775"
        ],
        [
         "46",
         "2693",
         "1",
         "0.2766867123374426",
         "1",
         "0.0"
        ],
        [
         "47",
         "3204",
         "0",
         "0.07882028686134562",
         "0",
         "0.08556450574968506"
        ],
        [
         "48",
         "3572",
         "1",
         "0.2632002853292673",
         "1",
         "0.0"
        ],
        [
         "49",
         "3385",
         "0",
         "0.13821681439076833",
         "0",
         "0.16038467296511116"
        ]
       ],
       "shape": {
        "columns": 5,
        "rows": 4642
       }
      },
      "text/html": [
       "<div>\n",
       "<style scoped>\n",
       "    .dataframe tbody tr th:only-of-type {\n",
       "        vertical-align: middle;\n",
       "    }\n",
       "\n",
       "    .dataframe tbody tr th {\n",
       "        vertical-align: top;\n",
       "    }\n",
       "\n",
       "    .dataframe thead th {\n",
       "        text-align: right;\n",
       "    }\n",
       "</style>\n",
       "<table border=\"1\" class=\"dataframe\">\n",
       "  <thead>\n",
       "    <tr style=\"text-align: right;\">\n",
       "      <th></th>\n",
       "      <th>Y</th>\n",
       "      <th>Treated</th>\n",
       "      <th>pscore</th>\n",
       "      <th>W_ATT_T</th>\n",
       "      <th>W_ATT_C</th>\n",
       "    </tr>\n",
       "  </thead>\n",
       "  <tbody>\n",
       "    <tr>\n",
       "      <th>0</th>\n",
       "      <td>3459</td>\n",
       "      <td>0</td>\n",
       "      <td>0.099858</td>\n",
       "      <td>0</td>\n",
       "      <td>0.110936</td>\n",
       "    </tr>\n",
       "    <tr>\n",
       "      <th>1</th>\n",
       "      <td>3260</td>\n",
       "      <td>0</td>\n",
       "      <td>0.458399</td>\n",
       "      <td>0</td>\n",
       "      <td>0.846377</td>\n",
       "    </tr>\n",
       "    <tr>\n",
       "      <th>2</th>\n",
       "      <td>3572</td>\n",
       "      <td>0</td>\n",
       "      <td>0.206358</td>\n",
       "      <td>0</td>\n",
       "      <td>0.260014</td>\n",
       "    </tr>\n",
       "    <tr>\n",
       "      <th>3</th>\n",
       "      <td>2948</td>\n",
       "      <td>0</td>\n",
       "      <td>0.145825</td>\n",
       "      <td>0</td>\n",
       "      <td>0.170720</td>\n",
       "    </tr>\n",
       "    <tr>\n",
       "      <th>4</th>\n",
       "      <td>2410</td>\n",
       "      <td>0</td>\n",
       "      <td>0.117996</td>\n",
       "      <td>0</td>\n",
       "      <td>0.133782</td>\n",
       "    </tr>\n",
       "    <tr>\n",
       "      <th>...</th>\n",
       "      <td>...</td>\n",
       "      <td>...</td>\n",
       "      <td>...</td>\n",
       "      <td>...</td>\n",
       "      <td>...</td>\n",
       "    </tr>\n",
       "    <tr>\n",
       "      <th>4637</th>\n",
       "      <td>3317</td>\n",
       "      <td>1</td>\n",
       "      <td>0.280531</td>\n",
       "      <td>1</td>\n",
       "      <td>0.000000</td>\n",
       "    </tr>\n",
       "    <tr>\n",
       "      <th>4638</th>\n",
       "      <td>3030</td>\n",
       "      <td>1</td>\n",
       "      <td>0.150491</td>\n",
       "      <td>1</td>\n",
       "      <td>0.000000</td>\n",
       "    </tr>\n",
       "    <tr>\n",
       "      <th>4639</th>\n",
       "      <td>2950</td>\n",
       "      <td>0</td>\n",
       "      <td>0.255109</td>\n",
       "      <td>0</td>\n",
       "      <td>0.342478</td>\n",
       "    </tr>\n",
       "    <tr>\n",
       "      <th>4640</th>\n",
       "      <td>3969</td>\n",
       "      <td>0</td>\n",
       "      <td>0.133592</td>\n",
       "      <td>0</td>\n",
       "      <td>0.154191</td>\n",
       "    </tr>\n",
       "    <tr>\n",
       "      <th>4641</th>\n",
       "      <td>3289</td>\n",
       "      <td>0</td>\n",
       "      <td>0.132900</td>\n",
       "      <td>0</td>\n",
       "      <td>0.153269</td>\n",
       "    </tr>\n",
       "  </tbody>\n",
       "</table>\n",
       "<p>4642 rows × 5 columns</p>\n",
       "</div>"
      ],
      "text/plain": [
       "         Y  Treated    pscore  W_ATT_T   W_ATT_C\n",
       "0     3459        0  0.099858        0  0.110936\n",
       "1     3260        0  0.458399        0  0.846377\n",
       "2     3572        0  0.206358        0  0.260014\n",
       "3     2948        0  0.145825        0  0.170720\n",
       "4     2410        0  0.117996        0  0.133782\n",
       "...    ...      ...       ...      ...       ...\n",
       "4637  3317        1  0.280531        1  0.000000\n",
       "4638  3030        1  0.150491        1  0.000000\n",
       "4639  2950        0  0.255109        0  0.342478\n",
       "4640  3969        0  0.133592        0  0.154191\n",
       "4641  3289        0  0.132900        0  0.153269\n",
       "\n",
       "[4642 rows x 5 columns]"
      ]
     },
     "execution_count": 18,
     "metadata": {},
     "output_type": "execute_result"
    }
   ],
   "source": [
    "df[['Y', 'Treated', 'pscore', 'W_ATT_T', 'W_ATT_C']]"
   ]
  },
  {
   "cell_type": "code",
   "execution_count": 19,
   "id": "5ab3cca9",
   "metadata": {},
   "outputs": [],
   "source": [
    "df['Y_psw_ATT'] = df['Y'] * df['W_ATT_T'] - df['Y'] * df['W_ATT_C']"
   ]
  },
  {
   "cell_type": "code",
   "execution_count": 20,
   "id": "acc304cd",
   "metadata": {},
   "outputs": [
    {
     "data": {
      "text/plain": [
       "np.float64(-53.78603561792295)"
      ]
     },
     "execution_count": 20,
     "metadata": {},
     "output_type": "execute_result"
    }
   ],
   "source": [
    "df['Y_psw_ATT'].mean()"
   ]
  },
  {
   "cell_type": "markdown",
   "id": "78e45fcc",
   "metadata": {},
   "source": [
    "***ATU psw***"
   ]
  },
  {
   "cell_type": "code",
   "execution_count": 21,
   "id": "64b502a8",
   "metadata": {},
   "outputs": [],
   "source": [
    "# ATU weights\n",
    "df['W_ATU_T'] = df['Treated'] * (1 - df['pscore']) / df['pscore']\n",
    "df['W_ATU_C'] = (1 - df['Treated']) * 1"
   ]
  },
  {
   "cell_type": "code",
   "execution_count": 22,
   "id": "7e10efc0",
   "metadata": {},
   "outputs": [
    {
     "data": {
      "application/vnd.microsoft.datawrangler.viewer.v0+json": {
       "columns": [
        {
         "name": "index",
         "rawType": "int64",
         "type": "integer"
        },
        {
         "name": "Y",
         "rawType": "int16",
         "type": "integer"
        },
        {
         "name": "Treated",
         "rawType": "int64",
         "type": "integer"
        },
        {
         "name": "pscore",
         "rawType": "float64",
         "type": "float"
        },
        {
         "name": "W_ATU_T",
         "rawType": "float64",
         "type": "float"
        },
        {
         "name": "W_ATU_C",
         "rawType": "int64",
         "type": "integer"
        }
       ],
       "ref": "f55e1ffc-b024-48c7-ae28-9e5f5f2171bb",
       "rows": [
        [
         "0",
         "3459",
         "0",
         "0.09985815625416984",
         "0.0",
         "1"
        ],
        [
         "1",
         "3260",
         "0",
         "0.45839887013121305",
         "0.0",
         "1"
        ],
        [
         "2",
         "3572",
         "0",
         "0.20635819646475084",
         "0.0",
         "1"
        ],
        [
         "3",
         "2948",
         "0",
         "0.14582468367113116",
         "0.0",
         "1"
        ],
        [
         "4",
         "2410",
         "0",
         "0.11799631621551444",
         "0.0",
         "1"
        ],
        [
         "5",
         "3147",
         "0",
         "0.3122669555373545",
         "0.0",
         "1"
        ],
        [
         "6",
         "3799",
         "0",
         "0.11824648463784998",
         "0.0",
         "1"
        ],
        [
         "7",
         "3629",
         "0",
         "0.14173185726379411",
         "0.0",
         "1"
        ],
        [
         "8",
         "2835",
         "0",
         "0.12406562567747872",
         "0.0",
         "1"
        ],
        [
         "9",
         "3880",
         "0",
         "0.1042700679761988",
         "0.0",
         "1"
        ],
        [
         "10",
         "3090",
         "1",
         "0.12344291864216224",
         "7.100910210158037",
         "0"
        ],
        [
         "11",
         "3345",
         "0",
         "0.3029532864279563",
         "0.0",
         "1"
        ],
        [
         "12",
         "4013",
         "0",
         "0.11160087963078634",
         "0.0",
         "1"
        ],
        [
         "13",
         "3771",
         "0",
         "0.23700751893151964",
         "0.0",
         "1"
        ],
        [
         "14",
         "662",
         "0",
         "0.3193342196949695",
         "0.0",
         "1"
        ],
        [
         "15",
         "3657",
         "0",
         "0.1421056085985138",
         "0.0",
         "1"
        ],
        [
         "16",
         "3572",
         "0",
         "0.12920953316562464",
         "0.0",
         "1"
        ],
        [
         "17",
         "3430",
         "0",
         "0.10566567168334953",
         "0.0",
         "1"
        ],
        [
         "18",
         "4479",
         "0",
         "0.17300511052981665",
         "0.0",
         "1"
        ],
        [
         "19",
         "3166",
         "1",
         "0.3432134183263964",
         "1.9136389972055192",
         "0"
        ],
        [
         "20",
         "4253",
         "0",
         "0.12958023432500412",
         "0.0",
         "1"
        ],
        [
         "21",
         "4054",
         "0",
         "0.10300402642684606",
         "0.0",
         "1"
        ],
        [
         "22",
         "3160",
         "0",
         "0.1329993051924768",
         "0.0",
         "1"
        ],
        [
         "23",
         "2466",
         "0",
         "0.13178128346315213",
         "0.0",
         "1"
        ],
        [
         "24",
         "3147",
         "1",
         "0.15875253268968953",
         "5.299112102700626",
         "0"
        ],
        [
         "25",
         "3232",
         "0",
         "0.11197342398207155",
         "0.0",
         "1"
        ],
        [
         "26",
         "3005",
         "0",
         "0.12666857140553298",
         "0.0",
         "1"
        ],
        [
         "27",
         "1899",
         "0",
         "0.0849891891554516",
         "0.0",
         "1"
        ],
        [
         "28",
         "4026",
         "0",
         "0.11083351603088659",
         "0.0",
         "1"
        ],
        [
         "29",
         "3969",
         "0",
         "0.28885916733207234",
         "0.0",
         "1"
        ],
        [
         "30",
         "4167",
         "0",
         "0.3517004548492376",
         "0.0",
         "1"
        ],
        [
         "31",
         "4054",
         "0",
         "0.20098522120648415",
         "0.0",
         "1"
        ],
        [
         "32",
         "3660",
         "0",
         "0.2034407430422272",
         "0.0",
         "1"
        ],
        [
         "33",
         "3997",
         "0",
         "0.06681087224753694",
         "0.0",
         "1"
        ],
        [
         "34",
         "3980",
         "0",
         "0.14948895142755586",
         "0.0",
         "1"
        ],
        [
         "35",
         "4111",
         "0",
         "0.31381947329642806",
         "0.0",
         "1"
        ],
        [
         "36",
         "3090",
         "0",
         "0.12050948408071478",
         "0.0",
         "1"
        ],
        [
         "37",
         "4082",
         "0",
         "0.14557561826902704",
         "0.0",
         "1"
        ],
        [
         "38",
         "4196",
         "0",
         "0.0929945458267444",
         "0.0",
         "1"
        ],
        [
         "39",
         "2790",
         "0",
         "0.07905358685799177",
         "0.0",
         "1"
        ],
        [
         "40",
         "4082",
         "0",
         "0.1179983613634981",
         "0.0",
         "1"
        ],
        [
         "41",
         "3089",
         "0",
         "0.09670934288345108",
         "0.0",
         "1"
        ],
        [
         "42",
         "2580",
         "1",
         "0.4036763923317035",
         "1.4772318099253463",
         "0"
        ],
        [
         "43",
         "3714",
         "0",
         "0.09833909737143065",
         "0.0",
         "1"
        ],
        [
         "44",
         "4196",
         "0",
         "0.08555239225624811",
         "0.0",
         "1"
        ],
        [
         "45",
         "2523",
         "0",
         "0.3108671956091432",
         "0.0",
         "1"
        ],
        [
         "46",
         "2693",
         "1",
         "0.2766867123374426",
         "2.6141959675331874",
         "0"
        ],
        [
         "47",
         "3204",
         "0",
         "0.07882028686134562",
         "0.0",
         "1"
        ],
        [
         "48",
         "3572",
         "1",
         "0.2632002853292673",
         "2.799387978432416",
         "0"
        ],
        [
         "49",
         "3385",
         "0",
         "0.13821681439076833",
         "0.0",
         "1"
        ]
       ],
       "shape": {
        "columns": 5,
        "rows": 4642
       }
      },
      "text/html": [
       "<div>\n",
       "<style scoped>\n",
       "    .dataframe tbody tr th:only-of-type {\n",
       "        vertical-align: middle;\n",
       "    }\n",
       "\n",
       "    .dataframe tbody tr th {\n",
       "        vertical-align: top;\n",
       "    }\n",
       "\n",
       "    .dataframe thead th {\n",
       "        text-align: right;\n",
       "    }\n",
       "</style>\n",
       "<table border=\"1\" class=\"dataframe\">\n",
       "  <thead>\n",
       "    <tr style=\"text-align: right;\">\n",
       "      <th></th>\n",
       "      <th>Y</th>\n",
       "      <th>Treated</th>\n",
       "      <th>pscore</th>\n",
       "      <th>W_ATU_T</th>\n",
       "      <th>W_ATU_C</th>\n",
       "    </tr>\n",
       "  </thead>\n",
       "  <tbody>\n",
       "    <tr>\n",
       "      <th>0</th>\n",
       "      <td>3459</td>\n",
       "      <td>0</td>\n",
       "      <td>0.099858</td>\n",
       "      <td>0.000000</td>\n",
       "      <td>1</td>\n",
       "    </tr>\n",
       "    <tr>\n",
       "      <th>1</th>\n",
       "      <td>3260</td>\n",
       "      <td>0</td>\n",
       "      <td>0.458399</td>\n",
       "      <td>0.000000</td>\n",
       "      <td>1</td>\n",
       "    </tr>\n",
       "    <tr>\n",
       "      <th>2</th>\n",
       "      <td>3572</td>\n",
       "      <td>0</td>\n",
       "      <td>0.206358</td>\n",
       "      <td>0.000000</td>\n",
       "      <td>1</td>\n",
       "    </tr>\n",
       "    <tr>\n",
       "      <th>3</th>\n",
       "      <td>2948</td>\n",
       "      <td>0</td>\n",
       "      <td>0.145825</td>\n",
       "      <td>0.000000</td>\n",
       "      <td>1</td>\n",
       "    </tr>\n",
       "    <tr>\n",
       "      <th>4</th>\n",
       "      <td>2410</td>\n",
       "      <td>0</td>\n",
       "      <td>0.117996</td>\n",
       "      <td>0.000000</td>\n",
       "      <td>1</td>\n",
       "    </tr>\n",
       "    <tr>\n",
       "      <th>...</th>\n",
       "      <td>...</td>\n",
       "      <td>...</td>\n",
       "      <td>...</td>\n",
       "      <td>...</td>\n",
       "      <td>...</td>\n",
       "    </tr>\n",
       "    <tr>\n",
       "      <th>4637</th>\n",
       "      <td>3317</td>\n",
       "      <td>1</td>\n",
       "      <td>0.280531</td>\n",
       "      <td>2.564674</td>\n",
       "      <td>0</td>\n",
       "    </tr>\n",
       "    <tr>\n",
       "      <th>4638</th>\n",
       "      <td>3030</td>\n",
       "      <td>1</td>\n",
       "      <td>0.150491</td>\n",
       "      <td>5.644932</td>\n",
       "      <td>0</td>\n",
       "    </tr>\n",
       "    <tr>\n",
       "      <th>4639</th>\n",
       "      <td>2950</td>\n",
       "      <td>0</td>\n",
       "      <td>0.255109</td>\n",
       "      <td>0.000000</td>\n",
       "      <td>1</td>\n",
       "    </tr>\n",
       "    <tr>\n",
       "      <th>4640</th>\n",
       "      <td>3969</td>\n",
       "      <td>0</td>\n",
       "      <td>0.133592</td>\n",
       "      <td>0.000000</td>\n",
       "      <td>1</td>\n",
       "    </tr>\n",
       "    <tr>\n",
       "      <th>4641</th>\n",
       "      <td>3289</td>\n",
       "      <td>0</td>\n",
       "      <td>0.132900</td>\n",
       "      <td>0.000000</td>\n",
       "      <td>1</td>\n",
       "    </tr>\n",
       "  </tbody>\n",
       "</table>\n",
       "<p>4642 rows × 5 columns</p>\n",
       "</div>"
      ],
      "text/plain": [
       "         Y  Treated    pscore   W_ATU_T  W_ATU_C\n",
       "0     3459        0  0.099858  0.000000        1\n",
       "1     3260        0  0.458399  0.000000        1\n",
       "2     3572        0  0.206358  0.000000        1\n",
       "3     2948        0  0.145825  0.000000        1\n",
       "4     2410        0  0.117996  0.000000        1\n",
       "...    ...      ...       ...       ...      ...\n",
       "4637  3317        1  0.280531  2.564674        0\n",
       "4638  3030        1  0.150491  5.644932        0\n",
       "4639  2950        0  0.255109  0.000000        1\n",
       "4640  3969        0  0.133592  0.000000        1\n",
       "4641  3289        0  0.132900  0.000000        1\n",
       "\n",
       "[4642 rows x 5 columns]"
      ]
     },
     "execution_count": 22,
     "metadata": {},
     "output_type": "execute_result"
    }
   ],
   "source": [
    "df[['Y', 'Treated', 'pscore', 'W_ATU_T', 'W_ATU_C']]"
   ]
  },
  {
   "cell_type": "code",
   "execution_count": 23,
   "id": "4bd1cf33",
   "metadata": {},
   "outputs": [],
   "source": [
    "df['Y_psw_ATU'] = df['Y'] * df['W_ATU_T'] - df['Y'] * df['W_ATU_C']"
   ]
  },
  {
   "cell_type": "code",
   "execution_count": 24,
   "id": "58b2e85f",
   "metadata": {},
   "outputs": [
    {
     "data": {
      "text/plain": [
       "np.float64(-325.85008394176185)"
      ]
     },
     "execution_count": 24,
     "metadata": {},
     "output_type": "execute_result"
    }
   ],
   "source": [
    "df['Y_psw_ATU'].mean()"
   ]
  },
  {
   "cell_type": "markdown",
   "id": "3b55375e",
   "metadata": {},
   "source": [
    "**IPW Normalizado**\n",
    "\n",
    "Outra forma de calcular os pesos é utilizando a normalização dos pesos de IPW para garantir que a soma dos pesos seja igual a 1. Isso é feito dividindo cada peso pela soma total dos pesos. Isso também ajuda a reduzir a variância dos estimadores ponderados. É conhecido como a ***forma de Hájek para o IPW***.\n",
    "\n",
    "No IPW “puro”, os pesos podem somar mais que o tamanho da amostra, o que dificulta a interpretação.\n",
    "\n",
    "Para corrigir, define-se uma versão normalizada dos pesos:\n",
    "\n",
    "$$ w_{i}^{norm} = \\frac{w_{i}}{ \\frac{1}{n} \\sum_{j=1}^{n} w_{j}} $$\n",
    "\n",
    "onde:\n",
    "* peso bruto (Horvitz–Thompson) da unidade $w_{i}$\n",
    "* Soma de todos os pesos da amostra $\\sum_{j=1}^{n} w_{j}$\n",
    "* Média dos pesos da amostra $\\frac{1}{n} \\sum_{j=1}^{n} w_{j}$\n",
    "\n",
    "Ou seja, você divide cada peso pela média dos pesos.\n",
    "\n",
    "* Isso garante que a média dos pesos dê 1, e a soma dos pesos dê n.\n",
    "* Preserva a representatividade da amostra.\n",
    "* Mas não corta nenhuma observação.\n",
    "* Serve para melhorar a interpretação e reduzir um pouco a variabilidade, mas não resolve o problema de pesos extremos.\n",
    "\n",
    "\n"
   ]
  },
  {
   "cell_type": "code",
   "execution_count": 25,
   "id": "5f569c0d",
   "metadata": {},
   "outputs": [],
   "source": [
    "df['Y_psw_ATE_normalized'] = (df['Y'] * df['W_ATE_T'] / df['W_ATE_T'].sum()) - (df['Y'] * df['W_ATE_C'] / df['W_ATE_C'].sum())"
   ]
  },
  {
   "cell_type": "code",
   "execution_count": 26,
   "id": "5bb36201",
   "metadata": {},
   "outputs": [
    {
     "data": {
      "application/vnd.microsoft.datawrangler.viewer.v0+json": {
       "columns": [
        {
         "name": "index",
         "rawType": "int64",
         "type": "integer"
        },
        {
         "name": "Y",
         "rawType": "int16",
         "type": "integer"
        },
        {
         "name": "Treated",
         "rawType": "int64",
         "type": "integer"
        },
        {
         "name": "pscore",
         "rawType": "float64",
         "type": "float"
        },
        {
         "name": "Y_psw_ATE_normalized",
         "rawType": "float64",
         "type": "float"
        }
       ],
       "ref": "8e35884d-62bf-4cbb-9cfa-5e7494d98a03",
       "rows": [
        [
         "0",
         "3459",
         "0",
         "0.09985815625416984",
         "-0.8238749022488451"
        ],
        [
         "1",
         "3260",
         "0",
         "0.45839887013121305",
         "-1.2905050255956894"
        ],
        [
         "2",
         "3572",
         "0",
         "0.20635819646475084",
         "-0.9649583680035996"
        ],
        [
         "3",
         "2948",
         "0",
         "0.14582468367113116",
         "-0.739949572794483"
        ],
        [
         "4",
         "2410",
         "0",
         "0.11799631621551444",
         "-0.5858255451406097"
        ],
        [
         "5",
         "3147",
         "0",
         "0.3122669555373545",
         "-0.9810666499216094"
        ],
        [
         "6",
         "3799",
         "0",
         "0.11824648463784998",
         "-0.9237272500463165"
        ],
        [
         "7",
         "3629",
         "0",
         "0.14173185726379411",
         "-0.9065372148903241"
        ],
        [
         "8",
         "2835",
         "0",
         "0.12406562567747872",
         "-0.6939100145334882"
        ],
        [
         "9",
         "3880",
         "0",
         "0.1042700679761988",
         "-0.9287018279646937"
        ],
        [
         "10",
         "3090",
         "1",
         "0.12344291864216224",
         "5.634986487872636"
        ],
        [
         "11",
         "3345",
         "0",
         "0.3029532864279563",
         "-1.0288590923818197"
        ],
        [
         "12",
         "4013",
         "0",
         "0.11160087963078634",
         "-0.9684622606002521"
        ],
        [
         "13",
         "3771",
         "0",
         "0.23700751893151964",
         "-1.059639004500833"
        ],
        [
         "14",
         "662",
         "0",
         "0.3193342196949695",
         "-0.2085190481153709"
        ],
        [
         "15",
         "3657",
         "0",
         "0.1421056085985138",
         "-0.9139297056685934"
        ],
        [
         "16",
         "3572",
         "0",
         "0.12920953316562464",
         "-0.8794667933181092"
        ],
        [
         "17",
         "3430",
         "0",
         "0.10566567168334953",
         "-0.8222727171472056"
        ],
        [
         "18",
         "4479",
         "0",
         "0.17300511052981665",
         "-1.161180939649198"
        ],
        [
         "19",
         "3166",
         "1",
         "0.3432134183263964",
         "2.0765731429101506"
        ],
        [
         "20",
         "4253",
         "0",
         "0.12958023432500412",
         "-1.04758265702724"
        ],
        [
         "21",
         "4054",
         "0",
         "0.10300402642684606",
         "-0.9689802216506125"
        ],
        [
         "22",
         "3160",
         "0",
         "0.1329993051924768",
         "-0.7814285940142357"
        ],
        [
         "23",
         "2466",
         "0",
         "0.13178128346315213",
         "-0.608955546068196"
        ],
        [
         "24",
         "3147",
         "1",
         "0.15875253268968953",
         "4.462483890666664"
        ],
        [
         "25",
         "3232",
         "0",
         "0.11197342398207155",
         "-0.7803097810294106"
        ],
        [
         "26",
         "3005",
         "0",
         "0.12666857140553298",
         "-0.7377123409750429"
        ],
        [
         "27",
         "1899",
         "0",
         "0.0849891891554516",
         "-0.444959415699395"
        ],
        [
         "28",
         "4026",
         "0",
         "0.11083351603088659",
         "-0.9707610621538894"
        ],
        [
         "29",
         "3969",
         "0",
         "0.28885916733207234",
         "-1.1965948924500696"
        ],
        [
         "30",
         "4167",
         "0",
         "0.3517004548492376",
         "-1.3780641833976264"
        ],
        [
         "31",
         "4054",
         "0",
         "0.20098522120648415",
         "-1.087803855899937"
        ],
        [
         "32",
         "3660",
         "0",
         "0.2034407430422272",
         "-0.985109842305468"
        ],
        [
         "33",
         "3997",
         "0",
         "0.06681087224753694",
         "-0.9183032887772477"
        ],
        [
         "34",
         "3980",
         "0",
         "0.14948895142755586",
         "-1.0032860509885282"
        ],
        [
         "35",
         "4111",
         "0",
         "0.31381947329642806",
         "-1.284490065250343"
        ],
        [
         "36",
         "3090",
         "0",
         "0.12050948408071478",
         "-0.7532670674140536"
        ],
        [
         "37",
         "4082",
         "0",
         "0.14557561826902704",
         "-1.0242855106764832"
        ],
        [
         "38",
         "4196",
         "0",
         "0.0929945458267444",
         "-0.9918528433199827"
        ],
        [
         "39",
         "2790",
         "0",
         "0.07905358685799177",
         "-0.649518468366369"
        ],
        [
         "40",
         "4082",
         "0",
         "0.1179983613634981",
         "-0.9922595104570235"
        ],
        [
         "41",
         "3089",
         "0",
         "0.09670934288345108",
         "-0.7331824347646604"
        ],
        [
         "42",
         "2580",
         "1",
         "0.4036763923317035",
         "1.4387552955538827"
        ],
        [
         "43",
         "3714",
         "0",
         "0.09833909737143065",
         "-0.8831212249897008"
        ],
        [
         "44",
         "4196",
         "0",
         "0.08555239225624811",
         "-0.9837807338663495"
        ],
        [
         "45",
         "2523",
         "0",
         "0.3108671956091432",
         "-0.7849391458585819"
        ],
        [
         "46",
         "2693",
         "1",
         "0.2766867123374426",
         "2.191031550989184"
        ],
        [
         "47",
         "3204",
         "0",
         "0.07882028686134562",
         "-0.7457097202642423"
        ],
        [
         "48",
         "3572",
         "1",
         "0.2632002853292673",
         "3.055101725681429"
        ],
        [
         "49",
         "3385",
         "0",
         "0.13821681439076833",
         "-0.8421361655656731"
        ]
       ],
       "shape": {
        "columns": 4,
        "rows": 4642
       }
      },
      "text/html": [
       "<div>\n",
       "<style scoped>\n",
       "    .dataframe tbody tr th:only-of-type {\n",
       "        vertical-align: middle;\n",
       "    }\n",
       "\n",
       "    .dataframe tbody tr th {\n",
       "        vertical-align: top;\n",
       "    }\n",
       "\n",
       "    .dataframe thead th {\n",
       "        text-align: right;\n",
       "    }\n",
       "</style>\n",
       "<table border=\"1\" class=\"dataframe\">\n",
       "  <thead>\n",
       "    <tr style=\"text-align: right;\">\n",
       "      <th></th>\n",
       "      <th>Y</th>\n",
       "      <th>Treated</th>\n",
       "      <th>pscore</th>\n",
       "      <th>Y_psw_ATE_normalized</th>\n",
       "    </tr>\n",
       "  </thead>\n",
       "  <tbody>\n",
       "    <tr>\n",
       "      <th>0</th>\n",
       "      <td>3459</td>\n",
       "      <td>0</td>\n",
       "      <td>0.099858</td>\n",
       "      <td>-0.823875</td>\n",
       "    </tr>\n",
       "    <tr>\n",
       "      <th>1</th>\n",
       "      <td>3260</td>\n",
       "      <td>0</td>\n",
       "      <td>0.458399</td>\n",
       "      <td>-1.290505</td>\n",
       "    </tr>\n",
       "    <tr>\n",
       "      <th>2</th>\n",
       "      <td>3572</td>\n",
       "      <td>0</td>\n",
       "      <td>0.206358</td>\n",
       "      <td>-0.964958</td>\n",
       "    </tr>\n",
       "    <tr>\n",
       "      <th>3</th>\n",
       "      <td>2948</td>\n",
       "      <td>0</td>\n",
       "      <td>0.145825</td>\n",
       "      <td>-0.739950</td>\n",
       "    </tr>\n",
       "    <tr>\n",
       "      <th>4</th>\n",
       "      <td>2410</td>\n",
       "      <td>0</td>\n",
       "      <td>0.117996</td>\n",
       "      <td>-0.585826</td>\n",
       "    </tr>\n",
       "    <tr>\n",
       "      <th>...</th>\n",
       "      <td>...</td>\n",
       "      <td>...</td>\n",
       "      <td>...</td>\n",
       "      <td>...</td>\n",
       "    </tr>\n",
       "    <tr>\n",
       "      <th>4637</th>\n",
       "      <td>3317</td>\n",
       "      <td>1</td>\n",
       "      <td>0.280531</td>\n",
       "      <td>2.661741</td>\n",
       "    </tr>\n",
       "    <tr>\n",
       "      <th>4638</th>\n",
       "      <td>3030</td>\n",
       "      <td>1</td>\n",
       "      <td>0.150491</td>\n",
       "      <td>4.532458</td>\n",
       "    </tr>\n",
       "    <tr>\n",
       "      <th>4639</th>\n",
       "      <td>2950</td>\n",
       "      <td>0</td>\n",
       "      <td>0.255109</td>\n",
       "      <td>-0.849085</td>\n",
       "    </tr>\n",
       "    <tr>\n",
       "      <th>4640</th>\n",
       "      <td>3969</td>\n",
       "      <td>0</td>\n",
       "      <td>0.133592</td>\n",
       "      <td>-0.982156</td>\n",
       "    </tr>\n",
       "    <tr>\n",
       "      <th>4641</th>\n",
       "      <td>3289</td>\n",
       "      <td>0</td>\n",
       "      <td>0.132900</td>\n",
       "      <td>-0.813235</td>\n",
       "    </tr>\n",
       "  </tbody>\n",
       "</table>\n",
       "<p>4642 rows × 4 columns</p>\n",
       "</div>"
      ],
      "text/plain": [
       "         Y  Treated    pscore  Y_psw_ATE_normalized\n",
       "0     3459        0  0.099858             -0.823875\n",
       "1     3260        0  0.458399             -1.290505\n",
       "2     3572        0  0.206358             -0.964958\n",
       "3     2948        0  0.145825             -0.739950\n",
       "4     2410        0  0.117996             -0.585826\n",
       "...    ...      ...       ...                   ...\n",
       "4637  3317        1  0.280531              2.661741\n",
       "4638  3030        1  0.150491              4.532458\n",
       "4639  2950        0  0.255109             -0.849085\n",
       "4640  3969        0  0.133592             -0.982156\n",
       "4641  3289        0  0.132900             -0.813235\n",
       "\n",
       "[4642 rows x 4 columns]"
      ]
     },
     "execution_count": 26,
     "metadata": {},
     "output_type": "execute_result"
    }
   ],
   "source": [
    "df[['Y', 'Treated', 'pscore', 'Y_psw_ATE_normalized']]"
   ]
  },
  {
   "cell_type": "markdown",
   "id": "a4c44d38",
   "metadata": {},
   "source": [
    "Para recuperar o efeito quando utilizamos os pesos normalizados somamos as contribuições individuais."
   ]
  },
  {
   "cell_type": "code",
   "execution_count": 27,
   "id": "150671e4",
   "metadata": {},
   "outputs": [
    {
     "data": {
      "text/plain": [
       "np.float64(-226.83537586140227)"
      ]
     },
     "execution_count": 27,
     "metadata": {},
     "output_type": "execute_result"
    }
   ],
   "source": [
    "df['Y_psw_ATE_normalized'].sum()"
   ]
  },
  {
   "cell_type": "markdown",
   "id": "62cf1347",
   "metadata": {},
   "source": [
    "***ATT normalizado***"
   ]
  },
  {
   "cell_type": "code",
   "execution_count": 28,
   "id": "d83dd3ec",
   "metadata": {},
   "outputs": [],
   "source": [
    "df['Y_psw_ATT_normalized'] = (df['Y'] * df['W_ATT_T'] / df['W_ATT_T'].sum()) - (df['Y'] * df['W_ATT_C'] / df['W_ATT_C'].sum())"
   ]
  },
  {
   "cell_type": "code",
   "execution_count": 29,
   "id": "5c3355d9",
   "metadata": {},
   "outputs": [
    {
     "data": {
      "text/plain": [
       "np.float64(-203.0880429295332)"
      ]
     },
     "execution_count": 29,
     "metadata": {},
     "output_type": "execute_result"
    }
   ],
   "source": [
    "df['Y_psw_ATT_normalized'].sum()"
   ]
  },
  {
   "cell_type": "markdown",
   "id": "ee91e070",
   "metadata": {},
   "source": [
    "***ATU normalizado***\n"
   ]
  },
  {
   "cell_type": "code",
   "execution_count": 30,
   "id": "b4d64be7",
   "metadata": {},
   "outputs": [],
   "source": [
    "df['Y_psw_ATU_normalized'] = (df['Y'] * df['W_ATU_T'] / df['W_ATU_T'].sum()) - (df['Y'] * df['W_ATU_C'] / df['W_ATU_C'].sum())"
   ]
  },
  {
   "cell_type": "code",
   "execution_count": 31,
   "id": "f8016bc8",
   "metadata": {},
   "outputs": [
    {
     "data": {
      "text/plain": [
       "np.float64(-232.16673508353304)"
      ]
     },
     "execution_count": 31,
     "metadata": {},
     "output_type": "execute_result"
    }
   ],
   "source": [
    "df['Y_psw_ATU_normalized'].sum()"
   ]
  },
  {
   "cell_type": "markdown",
   "id": "a7e17e79",
   "metadata": {},
   "source": [
    "Repare que os resultados são diferentes mesmo possuindo o mesmo alvo (ATE, ATT, ATU). Isso ocorre, porque:\n",
    "\n",
    "* Horvitz–Thompson (HT) é não-normalizado, pode ter mais variância, mas é não-viesado sob overlap.\n",
    "* Hájek é normalizado, tende a ser mais estável em amostras finitas, mas pode ter um viés pequeno.\n",
    "\n",
    "Por isso o número pode mudar bastante — principalmente se você tiver pesos extremos (como você já viu: alguns > 10). O Hájek “reescala” as contribuições, o que pode puxar o efeito para outro valor."
   ]
  },
  {
   "cell_type": "markdown",
   "id": "b3b2ff42",
   "metadata": {},
   "source": [
    "### Aplicando no Python\n",
    "\n",
    "Para realizar a aplicação direta da ponderação por IPW, com efeito médio do tratamento e seus intervalos de confiança, podemos utilizar a biblioteca `statsmodels` para ajustar um modelo de regressão ponderada.\n"
   ]
  },
  {
   "cell_type": "markdown",
   "id": "9c9f4b26",
   "metadata": {},
   "source": [
    "Aqui calculamos os pesos para os indivíduos tratados e não tratados em uma variável no dataframe."
   ]
  },
  {
   "cell_type": "code",
   "execution_count": 32,
   "id": "380087cb",
   "metadata": {},
   "outputs": [],
   "source": [
    "# ATE weights no python\n",
    "df['W_ATE_ols'] = df['Treated'] / df['pscore'] + (1 - df['Treated']) / (1 - df['pscore'])"
   ]
  },
  {
   "cell_type": "markdown",
   "id": "2f5ab507",
   "metadata": {},
   "source": [
    "Depois rodamos a regressão para encontrar o ATE:"
   ]
  },
  {
   "cell_type": "code",
   "execution_count": 33,
   "id": "49be178f",
   "metadata": {},
   "outputs": [
    {
     "name": "stdout",
     "output_type": "stream",
     "text": [
      "                            WLS Regression Results                            \n",
      "==============================================================================\n",
      "Dep. Variable:                      Y   R-squared:                       0.038\n",
      "Model:                            WLS   Adj. R-squared:                  0.038\n",
      "Method:                 Least Squares   F-statistic:                     183.3\n",
      "Date:                qui, 02 out 2025   Prob (F-statistic):           5.38e-41\n",
      "Time:                        11:05:47   Log-Likelihood:                -36579.\n",
      "No. Observations:                4642   AIC:                         7.316e+04\n",
      "Df Residuals:                    4640   BIC:                         7.318e+04\n",
      "Df Model:                           1                                         \n",
      "Covariance Type:            nonrobust                                         \n",
      "==============================================================================\n",
      "                 coef    std err          t      P>|t|      [0.025      0.975]\n",
      "------------------------------------------------------------------------------\n",
      "Intercept   3399.2003     11.701    290.515      0.000    3376.262    3422.139\n",
      "Treated     -226.8354     16.753    -13.540      0.000    -259.678    -193.992\n",
      "==============================================================================\n",
      "Omnibus:                     1247.105   Durbin-Watson:                   1.999\n",
      "Prob(Omnibus):                  0.000   Jarque-Bera (JB):            10791.509\n",
      "Skew:                          -1.033   Prob(JB):                         0.00\n",
      "Kurtosis:                      10.178   Cond. No.                         2.59\n",
      "==============================================================================\n",
      "\n",
      "Notes:\n",
      "[1] Standard Errors assume that the covariance matrix of the errors is correctly specified.\n"
     ]
    }
   ],
   "source": [
    "# Aplicando regressão ponderada (IPTW) para ATE\n",
    "model_ate = smf.wls(\"Y ~ Treated\", data=df, weights=df['W_ATE_ols']).fit()\n",
    "print(model_ate.summary())"
   ]
  },
  {
   "cell_type": "markdown",
   "id": "a842faa5",
   "metadata": {},
   "source": [
    "Repare que uma propriedade importante do WLS (Weighted Least Squares), é que ele já faz a normalização implícita (ele força as médias ponderadas a se alinharem com os pesos), mesmo que nós tenhamos indicado pesos diferentes (não normalizados)."
   ]
  },
  {
   "cell_type": "markdown",
   "id": "e5e97f57",
   "metadata": {},
   "source": [
    "Para o ATT:"
   ]
  },
  {
   "cell_type": "code",
   "execution_count": 34,
   "id": "5d926ac8",
   "metadata": {},
   "outputs": [],
   "source": [
    "# ATT weights\n",
    "df['W_ATT_ols'] = df['Treated'] * 1  + (1 - df['Treated']) * (df['pscore'] / (1 - df['pscore']))"
   ]
  },
  {
   "cell_type": "code",
   "execution_count": 35,
   "id": "69fce080",
   "metadata": {},
   "outputs": [
    {
     "name": "stdout",
     "output_type": "stream",
     "text": [
      "                            WLS Regression Results                            \n",
      "==============================================================================\n",
      "Dep. Variable:                      Y   R-squared:                       0.029\n",
      "Model:                            WLS   Adj. R-squared:                  0.029\n",
      "Method:                 Least Squares   F-statistic:                     140.1\n",
      "Date:                qui, 02 out 2025   Prob (F-statistic):           7.15e-32\n",
      "Time:                        11:06:39   Log-Likelihood:                -37105.\n",
      "No. Observations:                4642   AIC:                         7.421e+04\n",
      "Df Residuals:                    4640   BIC:                         7.423e+04\n",
      "Df Model:                           1                                         \n",
      "Covariance Type:            nonrobust                                         \n",
      "==============================================================================\n",
      "                 coef    std err          t      P>|t|      [0.025      0.975]\n",
      "------------------------------------------------------------------------------\n",
      "Intercept   3340.7478     12.054    277.146      0.000    3317.116    3364.380\n",
      "Treated     -203.0880     17.156    -11.838      0.000    -236.723    -169.453\n",
      "==============================================================================\n",
      "Omnibus:                     1807.016   Durbin-Watson:                   2.025\n",
      "Prob(Omnibus):                  0.000   Jarque-Bera (JB):            21058.586\n",
      "Skew:                          -1.524   Prob(JB):                         0.00\n",
      "Kurtosis:                      12.980   Cond. No.                         2.60\n",
      "==============================================================================\n",
      "\n",
      "Notes:\n",
      "[1] Standard Errors assume that the covariance matrix of the errors is correctly specified.\n"
     ]
    }
   ],
   "source": [
    "# Aplicando regressão ponderada (IPTW) para ATT\n",
    "model_att = smf.wls(\"Y ~ Treated\", data=df, weights=df['W_ATT_ols']).fit()\n",
    "print(model_att.summary())"
   ]
  },
  {
   "cell_type": "markdown",
   "id": "5988fe81",
   "metadata": {},
   "source": [
    "ATT com peso IPTW normalizado é -213.3092"
   ]
  },
  {
   "cell_type": "markdown",
   "id": "7f25c37e",
   "metadata": {},
   "source": [
    "Para o ATU"
   ]
  },
  {
   "cell_type": "code",
   "execution_count": 36,
   "id": "d607001a",
   "metadata": {},
   "outputs": [],
   "source": [
    "df['W_ATU_ols'] = df['Treated'] * (1 - df['pscore']) / df['pscore'] + (1 - df['Treated']) * 1"
   ]
  },
  {
   "cell_type": "code",
   "execution_count": 37,
   "id": "76fde23f",
   "metadata": {},
   "outputs": [
    {
     "name": "stdout",
     "output_type": "stream",
     "text": [
      "                            WLS Regression Results                            \n",
      "==============================================================================\n",
      "Dep. Variable:                      Y   R-squared:                       0.040\n",
      "Model:                            WLS   Adj. R-squared:                  0.040\n",
      "Method:                 Least Squares   F-statistic:                     194.7\n",
      "Date:                qui, 02 out 2025   Prob (F-statistic):           2.21e-43\n",
      "Time:                        11:08:53   Log-Likelihood:                -36556.\n",
      "No. Observations:                4642   AIC:                         7.312e+04\n",
      "Df Residuals:                    4640   BIC:                         7.313e+04\n",
      "Df Model:                           1                                         \n",
      "Covariance Type:            nonrobust                                         \n",
      "==============================================================================\n",
      "                 coef    std err          t      P>|t|      [0.025      0.975]\n",
      "------------------------------------------------------------------------------\n",
      "Intercept   3412.9116     11.604    294.121      0.000    3390.163    3435.661\n",
      "Treated     -232.1667     16.638    -13.954      0.000    -264.785    -199.549\n",
      "==============================================================================\n",
      "Omnibus:                     1211.281   Durbin-Watson:                   1.990\n",
      "Prob(Omnibus):                  0.000   Jarque-Bera (JB):            11764.436\n",
      "Skew:                          -0.963   Prob(JB):                         0.00\n",
      "Kurtosis:                      10.558   Cond. No.                         2.59\n",
      "==============================================================================\n",
      "\n",
      "Notes:\n",
      "[1] Standard Errors assume that the covariance matrix of the errors is correctly specified.\n"
     ]
    }
   ],
   "source": [
    "# Aplicando regressão ponderada (IPTW) para ATU\n",
    "model_atu = smf.wls(\"Y ~ Treated\", data=df, weights=df['W_ATU_ols']).fit()\n",
    "print(model_atu.summary())"
   ]
  },
  {
   "cell_type": "markdown",
   "id": "a62709ea",
   "metadata": {},
   "source": [
    "***em suma***\n",
    "\n",
    "* O IPW resolve viés de seleção **SE o modelo de propensity score estiver bem especificado**. Porque se o modelo $p(X)$ estiver errado o estimador permanece enviesado.\n",
    "* O IPW também pode sofrer com variância alta (mesmo com normalização).\n",
    "\n"
   ]
  },
  {
   "cell_type": "markdown",
   "id": "7f4bf83f",
   "metadata": {},
   "source": [
    "**Relação entre IPW e OR/RA**\n",
    "\n",
    "Em aulas anteriores, vimos que o Outcome Regression (OR, ou Regression Adjustment - RA) é outra forma de estimar os efeitos causais via regressão de resultados potenciais. \n",
    "\n",
    "$$ m_{d}(X) = E[Y∣D=d,X]$$\n",
    "\n",
    "$$ d \\in \\{0,1 \\}$$\n",
    "\n",
    "onde modelávamos $m_{0}(X)$ e $m_{1}(X)$ para imputarmos os contrafactuais.\n",
    "\n",
    "Tanto IPW quanto OR/RA possuem as mesmas **hipóteses de identificação**:\n",
    "\n",
    "1. Ignorabilidade condicional (Unconfoundedness): garante que, dado X, o tratamento é “como aleatório”.\n",
    "2. Positividade (Overlap / Suporte Comum): garante que, para cada valor de $X$, existe chance positiva de observar tanto tratados quanto controles.\n",
    "3. SUTVA\n",
    "\n",
    "***Onde está a diferença, então?***\n",
    "\n",
    "IPW:\n",
    "* Identificação vem de reponderar as unidades.\n",
    "* ***Precisa estimar corretamente o propensity score $p(X)$.***\n",
    "* Sensível a erros no modelo de $p(X)$ e a pesos extremos.\n",
    "* O IPW ajusta via pesos, mas pode sofrer de instabilidade e PS misspecification.\n",
    "\n",
    "OR/RA:\n",
    "* Identificação vem de modelar os potenciais resultados $m_{d}(X)=E[Y∣D=d,X]$.\n",
    "* ***Precisa especificar corretamente o modelo da regressão de resultados***.\n",
    "* Sensível a erros de especificação funcional.\n",
    "* O OR ajusta diretamente o $Y$, mas pode sofrer de model misspecification.\n",
    "\n",
    "\n",
    "***E se juntássemos os dois?***\n",
    "\n",
    "* O OR é consistente se o modelo do resultado estiver correto (mesmo que $p(X)$ esteja errado).\n",
    "* O IPW é consistente se o modelo do propensity score estiver correto (mesmo que $m_{d}(X)$ esteja errado).\n",
    "* Se um dos dois estiver certo, ainda temos consistência.\n",
    "* Se ambos estiverem corretos temos ganho de eficiência.\n",
    "\n",
    "OBS: Consistência aqui significa que, com amostras grandes, o estimador converge para o efeito causal verdadeiro, mesmo que o outro modelo esteja mal especificado.\n",
    "\n",
    "Esse é o princípio da Dupla Robustez (Double Robustness). O DR faz um ajuste duplo, e só precisa que um dos dois modelos esteja correto.\n",
    "\n",
    "O IPW cuida do viés de seleção via pesos; o OR cuida via ajuste de regressão. O DR combina os dois para se proteger contra a má especificação de um dos modelos.\n"
   ]
  },
  {
   "cell_type": "markdown",
   "id": "7003554a",
   "metadata": {},
   "source": [
    "## Doubly Robust Estimation (DR - AIPW)\n",
    "\n",
    "***Doubly Robust Estimation (DR)***\n",
    "\n",
    "* É a ideia geral de combinar Outcome Regression (Regression Adjustment) e Inverse Probability Weighting. \n",
    "* Um estimador é “duplamente robusto” quando é consistente se pelo menos um dos modelos (de resultado ou de propensão) estiver corretamente especificado. \n",
    "  * Exemplo clássico: *Augmented Inverse Probability Weighting - AIPW*.\n",
    "\n",
    "\n",
    "***AIPW (Augmented Inverse Probability Weighting)***\n",
    "\n",
    "Na avaliação de efeitos causais, dois métodos são comuns:  \n",
    "\n",
    "- **Outcome Regression (OR):** modelar diretamente o resultado condicional a $X$ e $D$.  \n",
    "- **Inverse Probability Weighting (IPW):** reponderar as observações pelo escore de propensão $\\hat{p}(X)$.  \n",
    "- Lembre que cada um dos estimadores é **consistente apenas se o modelo estiver corretamente especificado**.  \n",
    "\n",
    "O **estimador duplamente robusto (Doubly Robust, ou Augmented IPW - AIPW)** combina as duas abordagens, garantindo consistência se **pelo menos um dos modelos estiver correto**.\n",
    "\n",
    "**Componentes básicos**\n",
    "\n",
    "- Tratamento: $D_i \\in \\{0,1\\}$\n",
    "- Covariáveis: $X_i$\n",
    "- Resultado: $Y_i = D_i Y_i(1) + (1-D_i) Y_i(0)$\n",
    "- Propensity score: $p(X) = P(D=1|X)$\n",
    "- Funções de regressão: $\\mu_d(X) = E[Y|D=d,X]$\n",
    "\n",
    "Queremos o efeito médio do tratamento (ATE):\n",
    "\n",
    "$$\n",
    "\\beta_{ATE} = E[Y(1) - Y(0)] \n",
    "$$\n",
    "\n",
    "\n",
    "#### Outcome Regression (OR)\n",
    "\n",
    "O estimador para o ATE é:\n",
    "\n",
    "$$\n",
    "\\hat{\\beta}^{OR}_{ATE} = \\frac{1}{n}\\sum_{i=1}^n \\left[ \\hat{\\mu}_1(X_i) - \\hat{\\mu}_0(X_i) \\right]\n",
    "$$\n",
    "\n",
    "onde $\\hat{\\mu}_d(X)$ pode ser obtido por regressão (em casos mais sofisticados, pode ser modelado de outras formas).\n",
    "\n",
    "\n",
    "#### Inverse Probability Weighting (IPW)\n",
    "\n",
    "O estimador ATE via IPW é:\n",
    "\n",
    "$$\n",
    "\\hat{\\beta}^{IPW}_{ATE} = \\frac{1}{n}\\sum_{i=1}^n \\left( \\frac{D_i Y_i}{\\hat{p}(X_i)} - \\frac{(1-D_i)Y_i}{1-\\hat{p}(X_i)} \\right)\n",
    "$$\n"
   ]
  },
  {
   "cell_type": "markdown",
   "id": "652af889",
   "metadata": {},
   "source": [
    "## Estimador Doubly Robust (AIPW)\n",
    "\n",
    "\n",
    "Vamos derivar a ideia passo a passo:\n",
    "\n",
    "\n",
    "* **ATE** é\n",
    "\n",
    "$$ \\beta_{ATE} = \\mathbb{E}[Y(1) - Y(0)] $$\n",
    "\n",
    "* Outcome Regression (OR), se tivermos $mu_d(X) = \\mathbb{E}[Y|D=d,X]$, então:\n",
    "\n",
    "$$ \\beta_{ATE} = \\mathbb{E}[\\mu_1(X) - \\mu_0(X)] $$\n",
    "\n",
    "* Estimador amostral:\n",
    "\n",
    "$$ \\hat\\beta^{OR}_{ATE} = \\frac{1}{n}\\sum_{i=1}^n \\big(\\hat\\mu_1(X_i) - \\hat\\mu_0(X_i)\\big) $$\n",
    "\n",
    "Mas isso depende de especificar corretamente ($\\mu_d(X)$).\n",
    "\n",
    "\n",
    "* IPW:\n",
    "\n",
    "$$ \\mathbb{E}[Y(1)] = \\mathbb{E}\\left[\\frac{D Y}{p(X)}\\right], \\quad \\mathbb{E}[Y(0)] = \\mathbb{E}\\left[\\frac{(1-D)Y}{1-p(X)}\\right] $$\n",
    "\n",
    "Portanto:\n",
    "\n",
    "$$ \\beta_{ATE} = \\mathbb{E}\\left[\\frac{D Y}{p(X)} - \\frac{(1-D)Y}{1-p(X)}\\right] $$\n",
    "\n",
    "* Estimador amostral:\n",
    "\n",
    "$$ \\hat\\beta^{IPW}_{ATE} = \\frac{1}{n}\\sum_{i=1}^n \\left( \\frac{D_i Y_i}{\\hat p(X_i)} - \\frac{(1-D_i)Y_i}{1-\\hat p(X_i)} \\right) $$\n",
    "\n",
    "Mas isso depende de especificar corretamente ($p(X)$).\n",
    "\n",
    "\n",
    "***Ideia central do AIPW***\n",
    "\n",
    "* Começar pelo estimador de regressão ($\\hat\\mu_1 - \\hat\\mu_0$).\n",
    "* Corrigir seus erros adicionando um termo baseado em resíduos reponderados pelo IPW.\n",
    "\n",
    "\n",
    "$$ \\text{AIPW} = \\text{OR} + \\text{correção com resíduos (IPW)} $$\n",
    "\n",
    "\n",
    "O estimador DR/AIPW pode ser escrito como:\n",
    "\n",
    "$$\n",
    "\\hat{\\beta}^{DR}_{ATE} = \\frac{1}{n}\\sum_{i=1}^n \n",
    "\\left\\{ \n",
    "   \\big(\\hat{\\mu}_1(X_i) - \\hat{\\mu}_0(X_i)\\big) \n",
    "   + \\frac{D_i}{\\hat p(X_i)} \\big(Y_i - \\hat\\mu_1(X_i)\\big) \n",
    "   - \\frac{1-D_i}{1-\\hat p(X_i)} \\big(Y_i - \\hat\\mu_0(X_i)\\big)\n",
    "\\right\\}\n",
    "$$\n",
    "\n",
    "Observe cada parte:\n",
    "\n",
    "1. **$\\hat\\mu_1(X_i) - \\hat\\mu_0(X_i)$** é o ajuste via regressão (OR).\n",
    "2. **$\\frac{D_i}{\\hat p(X_i)}(Y_i - \\hat\\mu_1(X_i))$** corrige a parte tratada se a regressão estiver errada.\n",
    "3. **$- \\frac{1-D_i}{1-\\hat p(X_i)}(Y_i - \\hat\\mu_0(X_i))$** corrige a parte de controle se a regressão estiver errada.\n",
    "\n"
   ]
  },
  {
   "cell_type": "markdown",
   "id": "df7a7279",
   "metadata": {},
   "source": [
    "\n",
    "**Interpretação:**  \n",
    "\n",
    "- O **primeiro termo** ($\\hat{\\mu}_1 - \\hat{\\mu}_0$) é a predição média da regressão de resultados (*Outcome Regression*).  \n",
    "- Os **termos adicionais** são “correções” baseadas em resíduos ponderados por IPW.  \n",
    "\n",
    "\n",
    "***Propriedade de Dupla Robustez***\n",
    "\n",
    "- Se $\\hat{\\mu}_d(X)$ estiver corretamente especificado → os resíduos têm média zero, e o estimador DR converge para o ATE mesmo que $\\hat{p}(X)$ esteja errado.  \n",
    "- Se $\\hat{p}(X)$ estiver corretamente especificado → a ponderação corrige vieses da regressão mal especificada, garantindo consistência.  \n",
    "- Se **ambos** estiverem corretos → o estimador é **eficiente** (atinge menor variância assintótica).\n",
    "\n",
    "\n",
    "***Em termos intuitivos:***\n",
    "\n",
    "- O DR é uma **regressão de resultados com resíduos reponderados**, de modo que o viés de especificação de um modelo é compensado pelo outro.  \n",
    "\n",
    "\n",
    "**Extensões**\n",
    "\n",
    "- **ATT (Average Treatment Effect on the Treated):** versão análoga existe, na subamostra e com pesos ajustados para focar nos tratados.\n",
    "- **ATU (Average Treatment Effect on the Untreated):** versão análoga existe, na subamostra e com pesos ajustados para focar nos não tratados.\n"
   ]
  },
  {
   "cell_type": "markdown",
   "id": "d8627b02",
   "metadata": {},
   "source": [
    "**Por que a o estimador Duplamente Robusto (*Augmented Inverse Probability Weighting* - AIPW) é tão atraente?**\n",
    "\n",
    "A razão é que só precisamos de uma das duas previsões, *$\\hat{\\mu}$* ou *$\\hat{p}$*, para que a estimativa seja correta (não enviesada/imparcial). \n",
    "* Se ambos os modelos estiverem corretos, o estimador será mais eficiente do que qualquer um dos modelos sozinho. \n",
    "* Se um dos modelos estiver errado, o estimador ainda será consistente, desde que o outro modelo esteja correto. \n",
    "\n",
    "Isso é uma grande vantagem em relação a outras abordagens, como a regressão de resultados ou a ponderação pelo escore de propensão, que exigem que ambos os modelos estejam corretos para que o estimador seja consistente.\n",
    "\n",
    "Suponha que $\\hat{\\mu}$ esteja especificado corretamente. Então $E[\\hat{\\mu}^{d}(x)=E[Y|X=x, D=d]$ , então o estimador DR é consistente, mesmo que o modelo de propensão $\\hat{p}$ esteja mal especificado.\n",
    "\n",
    "$$ \\hat{\\beta^{DR}} =  \\mathbb{E} \\left[ (\\mu_1(X) - \\mu_0 (X)) +  \\frac{D}{\\hat{p}(X)}.(Y_{1} - \\mu_1 (X)) - \\frac{(1-D)}{1-\\hat{p}(X)}.(Y_{0} - \\mu_0 (X)) \\right] = $$\n",
    "\n",
    "$$  =  \\mathbb{E} \\left[ (\\mu_1(X) - \\mu_0 (X)) \\right] = $$\n",
    "\n",
    "$$  =  \\mathbb{E} \\left[ Y^{1} - Y^{0} \\right] = $$\n",
    "\n",
    "$$ = \\beta $$\n",
    "\n",
    "A intuição é que, se $\\hat{\\mu}$ está **especificado corretamente é não-viesado e o fator de ajuste desaparece**, uma vez que os resíduos convergem para zero.\n",
    "\n",
    "\n",
    "Por outro lado, suponha $\\hat{p}$ está especificado corretamente, ou seja, $E[\\hat{p}(X)]=P(D=1|X)$, então o estimador DR é consistente, mesmo que o modelo de resultados $\\hat{\\mu}$ esteja mal especificado.\n",
    "\n",
    "$$ \\hat{\\beta^{DR}} =  \\mathbb{E} \\left[ (\\mu_1(X) - \\mu_0 (X)) +  \\frac{D}{\\hat{p}(X)}.(Y_{1} - \\mu_1 (X)) - \\frac{(1-D)}{1-\\hat{p}(X)}.(Y_{0} - \\mu_0 (X)) \\right] = $$\n",
    "\n",
    "$$ \\mathbb{E} \\left[ \\mu_1(X) - \\mu_0 (X) + \\frac{D}{\\hat{p}(X)}.Y_{1} - \\frac{D}{\\hat{p}(X)}.\\mu_1 (X) - \\frac{(1-D)}{1-\\hat{p}(X)}Y_{0} + \\frac{(1-D)}{1-\\hat{p}(X)}.\\mu_0 (X) \\right] = $$\n",
    "\n",
    "\n",
    "$$ \\mathbb{E} \\left[ \\frac{D}{\\hat{p}(X)}.Y_{1} - \\frac{(1-D)}{1-\\hat{p}(X)}Y_{0} + \\mu_1(X) - \\frac{D}{\\hat{p}(X)}.\\mu_1 (X) + \\frac{(1-D)}{1-\\hat{p}(X)}.\\mu_0 (X) - \\mu_0 (X) \\right] = $$\n",
    "\n",
    "\n",
    "$$ \\mathbb{E} \\left[ \\frac{D}{\\hat{p}(X)}.Y_{1} - \\frac{(1-D)}{1-\\hat{p}(X)}Y_{0} + \\mu_1(X) (1 - \\frac{D}{\\hat{p}(X)}) + \\mu_0 (X)(\\frac{(1-D)}{1-\\hat{p}(X)} - 1) \\right] = $$\n",
    "\n",
    "$$ \\mathbb{E} \\left[ \\frac{D}{\\hat{p}(X)}.Y_{1} - \\frac{(1-D)}{1-\\hat{p}(X)}Y_{0} + \\mu_1(X) (\\frac{\\hat{p}(X) - D}{\\hat{p}(X)}) + \\mu_0 (X)(\\frac{(1-D)- (1-\\hat{p}(X))}{1-\\hat{p}(X)}) \\right] = $$\n",
    "\n",
    "$$ \\mathbb{E} \\left[ \\frac{D}{\\hat{p}(X)}.Y_{1} - \\frac{(1-D)}{1-\\hat{p}(X)}Y_{0} \\right] = $$\n",
    "\n",
    "$$ \\mathbb{E} \\left[ Y^{1} - Y^{0} \\right] = $$\n",
    "\n",
    "$$ = \\beta $$\n",
    "\n",
    "A intuição é que, se $\\hat{p}$ está especificado corretamente, o $\\hat{\\beta}^{DR}$ é não viesado e o fator de ajuste desaparece, uma vez que os resíduos ($D_{i}-\\hat{p}(X)$) convergem para zero.\n"
   ]
  },
  {
   "cell_type": "markdown",
   "id": "9875c3fd",
   "metadata": {},
   "source": [
    "## Aplicação em Python\n",
    "\n",
    "Para facilitar a aplicação vamos utilizar uma abordagem moderna da biblioteca da Microsoft (EconML) chamada ***DR-Learner***.\n",
    "\n",
    "Posteriormente vou trabalhar melhor os conceitos de CATE e Meta-Learners, mas por enquanto vamos focar na aplicação prática.\n"
   ]
  },
  {
   "cell_type": "markdown",
   "id": "df02f063",
   "metadata": {},
   "source": [
    "**Estimativa Duplamente Robusta**\n",
    "\n",
    "Vamos fazer \"na mão\""
   ]
  },
  {
   "cell_type": "code",
   "execution_count": 34,
   "id": "48b823ec",
   "metadata": {},
   "outputs": [],
   "source": [
    "from sklearn.linear_model import LogisticRegression\n",
    "from sklearn.linear_model import LinearRegression"
   ]
  },
  {
   "cell_type": "code",
   "execution_count": 35,
   "id": "83aa03e8",
   "metadata": {},
   "outputs": [],
   "source": [
    "X_cols = ['casada', 'mage', 'medu', 'fage', 'fedu', 'nprenatal']   \n",
    "\n",
    "# 1. Estimar propensity score\n",
    "logit = LogisticRegression()\n",
    "logit.fit(df[X_cols], df['Treated'])\n",
    "df['ps'] = logit.predict_proba(df[X_cols])[:,1]"
   ]
  },
  {
   "cell_type": "code",
   "execution_count": 36,
   "id": "eb45c8a2",
   "metadata": {},
   "outputs": [],
   "source": [
    "# 2. Estimar outcome regression separada por grupo\n",
    "reg1 = LinearRegression().fit(df.loc[df.Treated==1, X_cols], df.loc[df.Treated==1, 'Y'])\n",
    "reg0 = LinearRegression().fit(df.loc[df.Treated==0, X_cols], df.loc[df.Treated==0, 'Y'])\n",
    "\n",
    "df['mu1'] = reg1.predict(df[X_cols])\n",
    "df['mu0'] = reg0.predict(df[X_cols])"
   ]
  },
  {
   "cell_type": "code",
   "execution_count": 37,
   "id": "58b6e23d",
   "metadata": {},
   "outputs": [],
   "source": [
    "# 3. Construir o DR-ATE linha a linha\n",
    "df['DR_ATE'] = (df['mu1'] - df['mu0'] \n",
    "                + df['Treated']/df['ps']*(df['Y'] - df['mu1'])\n",
    "                - (1-df['Treated'])/(1-df['ps'])*(df['Y'] - df['mu0']))"
   ]
  },
  {
   "cell_type": "code",
   "execution_count": 38,
   "id": "752235d7",
   "metadata": {},
   "outputs": [
    {
     "name": "stdout",
     "output_type": "stream",
     "text": [
      "DR-ATE = -225.5457375786401\n"
     ]
    }
   ],
   "source": [
    "# 4. Estimativa final\n",
    "tau_dr = df['DR_ATE'].mean()\n",
    "print(\"DR-ATE =\", tau_dr)"
   ]
  },
  {
   "cell_type": "code",
   "execution_count": 39,
   "id": "b7192631",
   "metadata": {},
   "outputs": [
    {
     "name": "stdout",
     "output_type": "stream",
     "text": [
      "DR-ATT = -228.03205775864893\n"
     ]
    }
   ],
   "source": [
    "# DR-ATT\n",
    "DR_ATT = df['mu1'] - df['mu0'] + df[\"Treated\"] * (df[\"Y\"] - df['mu1']) - (1-df[\"Treated\"])*df['ps'] / (1-df['ps']) * (df[\"Y\"] - df['mu0'])\n",
    "print(\"DR-ATT =\", np.mean(DR_ATT))"
   ]
  },
  {
   "cell_type": "code",
   "execution_count": 40,
   "id": "8b1a6e6b",
   "metadata": {},
   "outputs": [
    {
     "name": "stdout",
     "output_type": "stream",
     "text": [
      "DR-ATU = -266.5862435302999\n"
     ]
    }
   ],
   "source": [
    "# DR - ATU\n",
    "DR_ATU = df['mu1'] - df['mu0'] + (1-df[\"Treated\"]) * (df[\"Y\"] - df['mu0']) - df['ps'] / (1-df['ps']) * (df[\"Y\"] - df['mu1'])\n",
    "print(\"DR-ATU =\", np.mean(DR_ATU))"
   ]
  },
  {
   "cell_type": "markdown",
   "id": "721ad1b8",
   "metadata": {},
   "source": [
    "Esse tipo de estimador é bastante importante na literatura. E já possui alguns estimadores que realizam as estimações de forma direta. Por exemplo, poderíamos computar diretamente com 'LinearDRLearner' da biblioteca 'EconML' da Microsoft (EconML - Estimate causal effects with ML).\n",
    "\n",
    "obs: https://www.microsoft.com/en-us/research/project/econml/"
   ]
  },
  {
   "cell_type": "code",
   "execution_count": 41,
   "id": "2449ab11",
   "metadata": {},
   "outputs": [
    {
     "name": "stderr",
     "output_type": "stream",
     "text": [
      "c:\\Users\\danie\\OneDrive\\00000 - 2025\\0_Python_Estimators\\econml-env\\Lib\\site-packages\\tqdm\\auto.py:21: TqdmWarning: IProgress not found. Please update jupyter and ipywidgets. See https://ipywidgets.readthedocs.io/en/stable/user_install.html\n",
      "  from .autonotebook import tqdm as notebook_tqdm\n"
     ]
    }
   ],
   "source": [
    "from sklearn.linear_model import LogisticRegression, LinearRegression\n",
    "from econml.dr import DRLearner\n",
    "from econml.sklearn_extensions.linear_model import StatsModelsLinearRegression"
   ]
  },
  {
   "cell_type": "code",
   "execution_count": 42,
   "id": "d38110db",
   "metadata": {},
   "outputs": [],
   "source": [
    "X = df[['casada','mage','medu','fage','fedu','nprenatal']].values\n",
    "Y = df['Y'].values\n",
    "T = df['Treated'].values"
   ]
  },
  {
   "cell_type": "code",
   "execution_count": 43,
   "id": "26309abe",
   "metadata": {},
   "outputs": [
    {
     "data": {
      "text/html": [
       "<table class=\"simpletable\">\n",
       "<caption>Uncertainty of Mean Point Estimate</caption>\n",
       "<tr>\n",
       "  <th>mean_point</th> <th>stderr_mean</th>  <th>zstat</th> <th>pvalue</th> <th>ci_mean_lower</th> <th>ci_mean_upper</th>\n",
       "</tr>\n",
       "<tr>\n",
       "   <td>-221.665</td>    <td>58.548</td>    <td>-3.786</td>   <td>0.0</td>    <td>-336.418</td>      <td>-106.912</td>   \n",
       "</tr>\n",
       "</table>"
      ],
      "text/latex": [
       "\\begin{center}\n",
       "\\begin{tabular}{cccccc}\n",
       "\\toprule\n",
       "\\textbf{mean\\_point} & \\textbf{stderr\\_mean} & \\textbf{zstat} & \\textbf{pvalue} & \\textbf{ci\\_mean\\_lower} & \\textbf{ci\\_mean\\_upper}  \\\\\n",
       "\\midrule\n",
       "      -221.665       &         58.548        &     -3.786     &       0.0       &         -336.418         &         -106.912          \\\\\n",
       "\\bottomrule\n",
       "\\end{tabular}\n",
       "%\\caption{Uncertainty of Mean Point Estimate}\n",
       "\\end{center}"
      ],
      "text/plain": [
       "<class 'statsmodels.iolib.table.SimpleTable'>"
      ]
     },
     "execution_count": 43,
     "metadata": {},
     "output_type": "execute_result"
    }
   ],
   "source": [
    "dr = DRLearner(\n",
    "    model_propensity=LogisticRegression(),\n",
    "    model_regression=LinearRegression(),\n",
    "    model_final=StatsModelsLinearRegression(),\n",
    "    cv=5,\n",
    "    random_state=45\n",
    ")\n",
    "\n",
    "dr.fit(Y=Y, T=T, X=X)\n",
    "\n",
    "dr.ate_inference(X).summary().tables[0]"
   ]
  },
  {
   "cell_type": "markdown",
   "id": "17bff262",
   "metadata": {},
   "source": [
    "O modelo nos dá diretamente o efeito médio do tratamento (ATE). A estimativa é estatisticamente diferente de zero e o intervalo de confiança inclui o valor verdadeiro que encontramos manualmente. Observe que obtivemos uma estimativa diferente porque a função **LinearDRLearner** também realizou o cross-fitting em segundo plano, o que não fizemos antes.\n",
    "\n",
    "Outros pacotes importantes são \n",
    "* \"causalml\" (https://causalml.readthedocs.io/en/latest/about.html).\n",
    "* \"DoubleML\" (https://doubleml.org/stable/)."
   ]
  },
  {
   "cell_type": "markdown",
   "id": "dbaf35ef",
   "metadata": {},
   "source": [
    "## Boas práticas\n",
    "\n",
    "* Verifique o balanço das covariáveis.\n",
    "  * Tanto o IPW quanto o DR (AIPW) foram desenvolvidos para ambientes nos quais o tratamento não é atribuído aleatoriamente incondicionalmente, mas pode depender de algumas variáveis observáveis. Essas informações podem ser verificadas de duas maneiras: \n",
    "    * (1) Produza uma tabela de médias/equilíbrio das covariáveis. Se a randomização incondicional não for válida, esperamos ver diferenças significativas entre alguns observáveis; \n",
    "    * (2) Trace os escores de propensão estimados. Se a randomização incondicional for válida, esperamos que os escores de propensão sejam constantes.\n",
    "* Verifique a suposição de sobreposição.\n",
    "  * Podemos simplesmente verificar os limites dos escores de propensão previstos. Se a suposição de sobreposição for violada, acabamos dividindo algum termo do estimador por zero."
   ]
  }
 ],
 "metadata": {
  "kernelspec": {
   "display_name": "Python (econml-env)",
   "language": "python",
   "name": "econml-env"
  },
  "language_info": {
   "codemirror_mode": {
    "name": "ipython",
    "version": 3
   },
   "file_extension": ".py",
   "mimetype": "text/x-python",
   "name": "python",
   "nbconvert_exporter": "python",
   "pygments_lexer": "ipython3",
   "version": "3.11.5"
  }
 },
 "nbformat": 4,
 "nbformat_minor": 5
}
